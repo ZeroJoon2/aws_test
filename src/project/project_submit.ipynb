{
 "cells": [
  {
   "cell_type": "markdown",
   "id": "dfcb5876-56aa-4334-81c8-4b569255d060",
   "metadata": {},
   "source": [
    "# 1. 개발환경 구성"
   ]
  },
  {
   "cell_type": "markdown",
   "id": "fa15f3d5-a9c0-4f44-af3c-1d01f368e1c4",
   "metadata": {},
   "source": [
    "## 1-1) 라이브러리 가져오기"
   ]
  },
  {
   "cell_type": "code",
   "execution_count": 116,
   "id": "430dd179-36b3-4338-a11b-90f080a3046f",
   "metadata": {},
   "outputs": [],
   "source": [
    "# os, 환경변수 관련\n",
    "import os\n",
    "from dotenv import load_dotenv\n",
    "\n",
    "#시각화 관련\n",
    "from matplotlib import rc\n",
    "from matplotlib import font_manager\n",
    "import matplotlib.pyplot as plt\n",
    "\n",
    "import pandas as pd\n",
    "import seaborn as sns\n",
    "import warnings\n",
    "\n",
    "# pyspark session 생성\n",
    "from pyspark.sql import SparkSession\n",
    "from pyspark.sql.functions import isnan, col, when, sum, round, mean, lit, concat\n",
    "\n",
    "# pyspark 학습 준비\n",
    "from pyspark.ml.feature import StringIndexer, OneHotEncoder, VectorAssembler\n",
    "\n",
    "# pyspark 학습\n",
    "from pyspark.ml.regression import LinearRegression\n",
    "\n",
    "# pyspark 모델 평가\n",
    "from pyspark.ml.evaluation import RegressionEvaluator"
   ]
  },
  {
   "cell_type": "markdown",
   "id": "11c3ae86-f418-43b7-a175-747e8f8081d2",
   "metadata": {},
   "source": [
    "## 1-2) 환경 설정"
   ]
  },
  {
   "cell_type": "markdown",
   "id": "3f360a10-6317-4bd0-986c-b95a2e88898d",
   "metadata": {},
   "source": [
    "### 1-2-1) MySQL 연결"
   ]
  },
  {
   "cell_type": "code",
   "execution_count": 123,
   "id": "cee071b0-eeda-4673-9b93-bf0c2cbe05f3",
   "metadata": {},
   "outputs": [],
   "source": [
    "load_dotenv()\n",
    "\n",
    "host_ip = os.getenv('host_ip')\n",
    "DATABASE = os.getenv('DATABASE')\n",
    "user_id = os.getenv('user_id')\n",
    "user_password = os.getenv('user_password')\n",
    "\n",
    "# 환경변수 설정\n",
    "os.environ['PYSPARK_SUBMIT_ARGS'] = '--jars /usr/local/lib/mysql-connector-java-5.1.49-bin.jar pyspark-shell'"
   ]
  },
  {
   "cell_type": "markdown",
   "id": "14c488f3-6316-4641-8751-bca1335c3e20",
   "metadata": {},
   "source": [
    "### 1-2-2) 시각화 관련"
   ]
  },
  {
   "cell_type": "code",
   "execution_count": 186,
   "id": "4129def8-0ba4-4547-b70e-b3a4f3d20e50",
   "metadata": {},
   "outputs": [],
   "source": [
    "font_path = \"/usr/share/fonts/truetype/noto/NotoMono-Regular.ttf\"\n",
    "\n",
    "# 폰트 설정\n",
    "font_prop = font_manager.FontProperties(fname=font_path)\n",
    "rc('font', family=font_prop.get_name())\n",
    "\n",
    "# 경고 무시\n",
    "warnings.filterwarnings('ignore')\n",
    "\n",
    "# 음수 깨짐 방지\n",
    "plt.rcParams['axes.unicode_minus'] = False"
   ]
  },
  {
   "cell_type": "markdown",
   "id": "43b9d7cf-fc2e-4111-9862-e7407280b5ef",
   "metadata": {},
   "source": [
    "## 1-3) spark session 생성"
   ]
  },
  {
   "cell_type": "code",
   "execution_count": 3,
   "id": "9f2f45b9-bc3a-47ac-9359-e2b8b977a67c",
   "metadata": {},
   "outputs": [
    {
     "name": "stderr",
     "output_type": "stream",
     "text": [
      "24/12/19 17:20:56 WARN NativeCodeLoader: Unable to load native-hadoop library for your platform... using builtin-java classes where applicable\n",
      "Using Spark's default log4j profile: org/apache/spark/log4j-defaults.properties\n",
      "Setting default log level to \"WARN\".\n",
      "To adjust logging level use sc.setLogLevel(newLevel). For SparkR, use setLogLevel(newLevel).\n"
     ]
    },
    {
     "data": {
      "text/html": [
       "\n",
       "            <div>\n",
       "                <p><b>SparkSession - in-memory</b></p>\n",
       "                \n",
       "        <div>\n",
       "            <p><b>SparkContext</b></p>\n",
       "\n",
       "            <p><a href=\"http://ip-172-31-3-9.ap-northeast-3.compute.internal:4040\">Spark UI</a></p>\n",
       "\n",
       "            <dl>\n",
       "              <dt>Version</dt>\n",
       "                <dd><code>v3.1.2</code></dd>\n",
       "              <dt>Master</dt>\n",
       "                <dd><code>local[*]</code></dd>\n",
       "              <dt>AppName</dt>\n",
       "                <dd><code>MySQL</code></dd>\n",
       "            </dl>\n",
       "        </div>\n",
       "        \n",
       "            </div>\n",
       "        "
      ],
      "text/plain": [
       "<pyspark.sql.session.SparkSession at 0x7ff69e51d850>"
      ]
     },
     "execution_count": 3,
     "metadata": {},
     "output_type": "execute_result"
    }
   ],
   "source": [
    "ss = SparkSession\\\n",
    "            .builder\\\n",
    "            .appName('MySQL')\\\n",
    "            .config('spark.executor.memory', '6g')\\\n",
    "            .config('spark.driver.memory', '6g')\\\n",
    "            .getOrCreate()\n",
    "ss"
   ]
  },
  {
   "cell_type": "markdown",
   "id": "c63ae8fe-acda-4683-8433-48609d97b28b",
   "metadata": {},
   "source": [
    "## 1-4) MySQL 연결 및 데이터 가져오기"
   ]
  },
  {
   "cell_type": "code",
   "execution_count": 4,
   "id": "5016da9c-fd3a-43fc-86fc-765ee9e7a360",
   "metadata": {},
   "outputs": [],
   "source": [
    "mysql_url = f'jdbc:mysql://{host_ip}:3306/{DATABASE}?useSSL=false'"
   ]
  },
  {
   "cell_type": "code",
   "execution_count": 5,
   "id": "8f33c852-bef7-4f9e-8d3e-8d1d49946f15",
   "metadata": {
    "scrolled": true
   },
   "outputs": [
    {
     "name": "stderr",
     "output_type": "stream",
     "text": [
      "[Stage 0:>                                                          (0 + 1) / 1]\r"
     ]
    },
    {
     "name": "stdout",
     "output_type": "stream",
     "text": [
      "+--------+----------+--------+----------+--------+--------+----------+----+----+-------------------+-------------+-----------+-----------+---+--------+------+--------+----------+--------+--------------------+-----------+---+\n",
      "|접수연도|자치구코드|자치구명|법정동코드|법정동명|지번구분|지번구분명|본번|부번|             건물명|물건금액_만원|건물면적_m2|토지면적_m2| 층|권리구분|취소일|건축년도|  건물용도|신고구분|신고_공인중개사_지역|계약일_DATE|idx|\n",
      "+--------+----------+--------+----------+--------+--------+----------+----+----+-------------------+-------------+-----------+-----------+---+--------+------+--------+----------+--------+--------------------+-----------+---+\n",
      "|    2017|     11710|  송파구|     10500|  석촌동|       1|      대지|0282|0000|           은하빌라|        42000|      73.12|         36|  3|        |      |    2004|연립다세대|        |                    | 2017-08-08|  1|\n",
      "|    2017|     11560|영등포구|     13200|  신길동|        |          |    |    |                   |        60000|     127.44|         86|   |        |      |    1992|단독다가구|        |                    | 2017-08-08|  2|\n",
      "|    2017|     11230|동대문구|     10600|  장안동|       1|      대지|0336|0000|장안현대홈타운(336)|        52200|      84.87|          0| 15|        |      |    2003|    아파트|        |                    | 2017-08-08|  3|\n",
      "|    2017|     11590|  동작구|     10200|  상도동|        |          |    |    |                   |        69000|       76.4|        198|   |        |      |    1974|단독다가구|        |                    | 2017-08-08|  4|\n",
      "|    2017|     11500|  강서구|     10300|  화곡동|       1|      대지|0330|0043|         예지빌라트|         9000|      34.68|      26.63|  1|        |      |    2007|연립다세대|        |                    | 2017-08-08|  5|\n",
      "|    2017|     11380|  은평구|     10500|  구산동|        |          |    |    |                   |        58500|     165.51|      111.1|   |        |      |    1991|단독다가구|        |                    | 2017-08-08|  6|\n",
      "|    2017|     11320|  도봉구|     10500|  쌍문동|       1|      대지|0732|0000| 북한산코오롱하늘채|        45000|      84.98|          0|  6|        |      |    2014|    아파트|        |                    | 2017-03-21|  7|\n",
      "|    2017|     11320|  도봉구|     10500|  쌍문동|       1|      대지|0486|0018|       우이그린빌라|        19900|       64.8|      74.55|  2|        |      |    1986|연립다세대|        |                    | 2017-03-21|  8|\n",
      "|    2017|     11500|  강서구|     10600|내발산동|       1|      대지|0667|0000|        문성빌라3차|        26100|       62.9|      30.53|  3|        |      |    1997|연립다세대|        |                    | 2017-03-21|  9|\n",
      "|    2017|     11410|서대문구|     11100|  홍제동|       1|      대지|0360|0066|           우성빌라|        21600|      61.72|      31.88|  2|        |      |    1994|연립다세대|        |                    | 2017-03-21| 10|\n",
      "+--------+----------+--------+----------+--------+--------+----------+----+----+-------------------+-------------+-----------+-----------+---+--------+------+--------+----------+--------+--------------------+-----------+---+\n",
      "only showing top 10 rows\n",
      "\n"
     ]
    },
    {
     "name": "stderr",
     "output_type": "stream",
     "text": [
      "                                                                                \r"
     ]
    }
   ],
   "source": [
    "df_tbAPTPrice = ss.read.format('jdbc')\\\n",
    "            .options(\n",
    "                url = mysql_url\n",
    "                , driver = 'com.mysql.jdbc.Driver'\n",
    "                , dbtable = 'tbAPTPrice'\n",
    "                , user = user_id\n",
    "                , password = user_password\n",
    "                    )\\\n",
    "        .load()\n",
    "\n",
    "df_tbAPTPrice.show(10)"
   ]
  },
  {
   "cell_type": "code",
   "execution_count": 6,
   "id": "38921e38-527d-445f-bd6a-c6337077c048",
   "metadata": {
    "scrolled": true
   },
   "outputs": [
    {
     "name": "stdout",
     "output_type": "stream",
     "text": [
      "+----------+----------------+\n",
      "|      date|BaseInterestRate|\n",
      "+----------+----------------+\n",
      "|2024-11-28|               3|\n",
      "|2024-10-11|            3.25|\n",
      "|2023-01-13|             3.5|\n",
      "|2022-11-24|            3.25|\n",
      "|2022-10-12|               3|\n",
      "|2022-08-25|             2.5|\n",
      "|2022-07-13|            2.25|\n",
      "|2022-05-26|            1.75|\n",
      "|2022-04-14|             1.5|\n",
      "|2022-01-14|            1.25|\n",
      "+----------+----------------+\n",
      "only showing top 10 rows\n",
      "\n"
     ]
    }
   ],
   "source": [
    "df_tbBaseInterestRate = ss.read.format('jdbc')\\\n",
    "            .options(\n",
    "                url = mysql_url\n",
    "                , driver = 'com.mysql.jdbc.Driver'\n",
    "                , dbtable = 'tbBaseInterestRate'\n",
    "                , user = user_id\n",
    "                , password = user_password\n",
    "                    )\\\n",
    "        .load()\n",
    "\n",
    "df_tbBaseInterestRate.show(10)"
   ]
  },
  {
   "cell_type": "markdown",
   "id": "84782f01-7a6c-404b-816b-23c2b8e23a4d",
   "metadata": {},
   "source": [
    "## 1-5. 데이터 확인"
   ]
  },
  {
   "cell_type": "code",
   "execution_count": 7,
   "id": "54bb5c71-6a49-4314-8b44-d4e7393ac318",
   "metadata": {},
   "outputs": [
    {
     "name": "stdout",
     "output_type": "stream",
     "text": [
      "root\n",
      " |-- 접수연도: string (nullable = true)\n",
      " |-- 자치구코드: string (nullable = true)\n",
      " |-- 자치구명: string (nullable = true)\n",
      " |-- 법정동코드: string (nullable = true)\n",
      " |-- 법정동명: string (nullable = true)\n",
      " |-- 지번구분: string (nullable = true)\n",
      " |-- 지번구분명: string (nullable = true)\n",
      " |-- 본번: string (nullable = true)\n",
      " |-- 부번: string (nullable = true)\n",
      " |-- 건물명: string (nullable = true)\n",
      " |-- 물건금액_만원: string (nullable = true)\n",
      " |-- 건물면적_m2: string (nullable = true)\n",
      " |-- 토지면적_m2: string (nullable = true)\n",
      " |-- 층: string (nullable = true)\n",
      " |-- 권리구분: string (nullable = true)\n",
      " |-- 취소일: string (nullable = true)\n",
      " |-- 건축년도: string (nullable = true)\n",
      " |-- 건물용도: string (nullable = true)\n",
      " |-- 신고구분: string (nullable = true)\n",
      " |-- 신고_공인중개사_지역: string (nullable = true)\n",
      " |-- 계약일_DATE: string (nullable = true)\n",
      " |-- idx: integer (nullable = true)\n",
      "\n",
      "root\n",
      " |-- date: date (nullable = true)\n",
      " |-- BaseInterestRate: string (nullable = true)\n",
      "\n"
     ]
    },
    {
     "data": {
      "text/plain": [
       "(None, None)"
      ]
     },
     "execution_count": 7,
     "metadata": {},
     "output_type": "execute_result"
    }
   ],
   "source": [
    "df_tbAPTPrice.printSchema(), df_tbBaseInterestRate.printSchema()"
   ]
  },
  {
   "cell_type": "code",
   "execution_count": 8,
   "id": "9ba60454-6d00-4ee2-b509-1b895df0eb00",
   "metadata": {},
   "outputs": [
    {
     "name": "stderr",
     "output_type": "stream",
     "text": [
      "                                                                                \r"
     ]
    },
    {
     "data": {
      "text/plain": [
       "856311"
      ]
     },
     "execution_count": 8,
     "metadata": {},
     "output_type": "execute_result"
    }
   ],
   "source": [
    "df_tbAPTPrice.persist()\n",
    "df_tbBaseInterestRate.persist()\n",
    "df_tbAPTPrice.count()"
   ]
  },
  {
   "cell_type": "markdown",
   "id": "46c0987f-7013-4dcf-8347-2df8eabda50e",
   "metadata": {},
   "source": [
    "# 2. 전처리"
   ]
  },
  {
   "cell_type": "markdown",
   "id": "0a6396b7-a9bd-4d5f-827b-822cffed485a",
   "metadata": {},
   "source": [
    "## 2-1) 컬럼 이름 영문화"
   ]
  },
  {
   "cell_type": "code",
   "execution_count": 9,
   "id": "105de155-2fd3-484e-96c4-421d802446c7",
   "metadata": {
    "scrolled": true
   },
   "outputs": [
    {
     "data": {
      "text/plain": [
       "['sumbit_year',\n",
       " 'jachigu_code',\n",
       " 'jachigu_name',\n",
       " 'law_code',\n",
       " 'law_name',\n",
       " 'jibun_gubun',\n",
       " 'jibun_name',\n",
       " 'real_num',\n",
       " 'extra_num',\n",
       " 'building_name',\n",
       " 'building_price',\n",
       " 'building_size',\n",
       " 'land_size',\n",
       " 'floor',\n",
       " 'right_gubun',\n",
       " 'cancel_date',\n",
       " 'building_year',\n",
       " 'building_usage',\n",
       " 'singo_gubun',\n",
       " 'agent_area',\n",
       " 'contract_date',\n",
       " 'idx']"
      ]
     },
     "execution_count": 9,
     "metadata": {},
     "output_type": "execute_result"
    }
   ],
   "source": [
    "renamed_columns = ['sumbit_year', 'jachigu_code', 'jachigu_name', 'law_code', 'law_name', 'jibun_gubun', 'jibun_name', 'real_num', 'extra_num', 'building_name', 'building_price', 'building_size', 'land_size', 'floor', 'right_gubun', 'cancel_date', 'building_year', 'building_usage', 'singo_gubun', 'agent_area',  'contract_date', 'idx']\n",
    "\n",
    "if len(df_tbAPTPrice.columns) == len(renamed_columns):\n",
    "    renamed_columns_dict = {i : j for i,j in zip(df_tbAPTPrice.columns, renamed_columns)}\n",
    "\n",
    "for num, i in enumerate(df_tbAPTPrice.columns):\n",
    "    if i == list(renamed_columns_dict.keys())[num]:\n",
    "        df_tbAPTPrice = df_tbAPTPrice.withColumnRenamed(i, list(renamed_columns_dict.values())[num])\n",
    "\n",
    "df_tbAPTPrice.columns"
   ]
  },
  {
   "cell_type": "markdown",
   "id": "ab1b168c-7651-4d70-83e7-a303ab106569",
   "metadata": {},
   "source": [
    "## 2-2) 불필요한 컬럼 삭제"
   ]
  },
  {
   "cell_type": "code",
   "execution_count": 10,
   "id": "b30ade18-3e5e-4750-8ff2-c9117ec4cd97",
   "metadata": {},
   "outputs": [
    {
     "name": "stdout",
     "output_type": "stream",
     "text": [
      "root\n",
      " |-- sumbit_year: string (nullable = true)\n",
      " |-- jachigu_code: string (nullable = true)\n",
      " |-- jachigu_name: string (nullable = true)\n",
      " |-- law_code: string (nullable = true)\n",
      " |-- law_name: string (nullable = true)\n",
      " |-- jibun_gubun: string (nullable = true)\n",
      " |-- jibun_name: string (nullable = true)\n",
      " |-- building_name: string (nullable = true)\n",
      " |-- building_price: string (nullable = true)\n",
      " |-- building_size: string (nullable = true)\n",
      " |-- floor: string (nullable = true)\n",
      " |-- building_year: string (nullable = true)\n",
      " |-- building_usage: string (nullable = true)\n",
      " |-- idx: integer (nullable = true)\n",
      "\n"
     ]
    }
   ],
   "source": [
    "df_tbAPTPrice = \\\n",
    "df_tbAPTPrice.drop('real_num'\n",
    "                   , 'extra_num'\n",
    "                   , 'land_size'\n",
    "                   , 'right_gubun'\n",
    "                   , 'cancel_date'\n",
    "                   , 'singo_gubun'\n",
    "                   , 'agent_area'\n",
    "                   , 'contract_date')\n",
    "\n",
    "df_tbAPTPrice.printSchema()"
   ]
  },
  {
   "cell_type": "markdown",
   "id": "b67b8ace-f66d-40b1-8b37-1770a9e0da89",
   "metadata": {},
   "source": [
    "## 2-3) 결측치, 이상치 확인"
   ]
  },
  {
   "cell_type": "markdown",
   "id": "b59806dd-479f-475f-aeb1-2c499bda58d9",
   "metadata": {},
   "source": [
    "### 2-3-1) 결측치(NULL) 확인"
   ]
  },
  {
   "cell_type": "code",
   "execution_count": 11,
   "id": "eca90c9b-a055-4594-b2ed-d4140771380c",
   "metadata": {
    "scrolled": true
   },
   "outputs": [
    {
     "name": "stderr",
     "output_type": "stream",
     "text": [
      "                                                                                \r"
     ]
    },
    {
     "data": {
      "text/plain": [
       "{'sumbit_year_nulls': 0,\n",
       " 'jachigu_code_nulls': 0,\n",
       " 'jachigu_name_nulls': 0,\n",
       " 'law_code_nulls': 0,\n",
       " 'law_name_nulls': 0,\n",
       " 'jibun_gubun_nulls': 0,\n",
       " 'jibun_name_nulls': 0,\n",
       " 'building_name_nulls': 0,\n",
       " 'building_price_nulls': 0,\n",
       " 'building_size_nulls': 0,\n",
       " 'floor_nulls': 0,\n",
       " 'building_year_nulls': 3711,\n",
       " 'building_usage_nulls': 0,\n",
       " 'idx_nulls': 0}"
      ]
     },
     "execution_count": 11,
     "metadata": {},
     "output_type": "execute_result"
    }
   ],
   "source": [
    "tmp = df_tbAPTPrice.select(\n",
    "        [sum(\n",
    "            when(\n",
    "                col(i).isNull() | isnan(i),1)\\\n",
    "            .otherwise(0)\n",
    "            )\\\n",
    "            .alias(i + '_nulls') for i in df_tbAPTPrice.columns\n",
    "        ]\n",
    "    ).collect()\n",
    "    \n",
    "tmp[0].asDict()"
   ]
  },
  {
   "cell_type": "code",
   "execution_count": 12,
   "id": "61f43741-555d-4a0c-8eed-05d5899eeb9a",
   "metadata": {
    "scrolled": true
   },
   "outputs": [
    {
     "name": "stdout",
     "output_type": "stream",
     "text": [
      "+-----------+------------+------------+--------+---------+-----------+----------+-------------------+--------------+-------------+-----+-------------+--------------+----+\n",
      "|sumbit_year|jachigu_code|jachigu_name|law_code| law_name|jibun_gubun|jibun_name|      building_name|building_price|building_size|floor|building_year|building_usage| idx|\n",
      "+-----------+------------+------------+--------+---------+-----------+----------+-------------------+--------------+-------------+-----+-------------+--------------+----+\n",
      "|       2017|       11500|      강서구|   10300|   화곡동|          1|      대지|         남광아파트|         18000|        51.89|   14|         null|      오피스텔| 142|\n",
      "|       2017|       11500|      강서구|   10300|   화곡동|          1|      대지|         남광아파트|         18000|        51.89|   10|         null|      오피스텔|1233|\n",
      "|       2017|       11200|      성동구|   11400|성수동1가|           |          |                   |         75000|       128.51|     |         null|    단독다가구|2346|\n",
      "|       2017|       11500|      강서구|   10300|   화곡동|          1|      대지|         남광아파트|         21000|        47.93|   14|         null|      오피스텔|2662|\n",
      "|       2017|       11500|      강서구|   10300|   화곡동|          1|      대지|         남광아파트|         21000|        47.93|   13|         null|      오피스텔|2840|\n",
      "|       2017|       11230|    동대문구|   10200|   용두동|          1|      대지|동대문 푸르지오시티|         15800|        23.47|    3|         null|      오피스텔|4346|\n",
      "|       2017|       11320|      도봉구|   10700|     창동|          1|      대지|북한산팰리스(601동)|         22900|         59.6|    2|         null|      오피스텔|4443|\n",
      "|       2017|       11440|      마포구|   10300| 신공덕동|          1|      대지|      갑을명가시티1|         15500|        19.73|   13|         null|      오피스텔|4815|\n",
      "|       2017|       11710|      송파구|   10500|   석촌동|          1|      대지|석촌호수 나인파크 A|         27666|        19.34|   21|         null|      오피스텔|6150|\n",
      "|       2017|       11440|      마포구|   10200|   공덕동|          1|      대지|  에스테반 오피스텔|         13000|        18.83|    5|         null|      오피스텔|6297|\n",
      "+-----------+------------+------------+--------+---------+-----------+----------+-------------------+--------------+-------------+-----+-------------+--------------+----+\n",
      "only showing top 10 rows\n",
      "\n"
     ]
    }
   ],
   "source": [
    "df_tbAPTPrice.selectExpr('*')\\\n",
    "                .where('building_year is NULL')\\\n",
    "                .show(10)"
   ]
  },
  {
   "cell_type": "code",
   "execution_count": 13,
   "id": "0a05d862-be39-4d03-ac3c-b4a17a1258e3",
   "metadata": {},
   "outputs": [
    {
     "name": "stderr",
     "output_type": "stream",
     "text": [
      "[Stage 7:>                                                          (0 + 1) / 1]\r"
     ]
    },
    {
     "name": "stdout",
     "output_type": "stream",
     "text": [
      "+------------+--------+--------------+-----------------+\n",
      "|jachigu_code|law_code|building_usage|avg_building_year|\n",
      "+------------+--------+--------------+-----------------+\n",
      "|       11560|   11100|    단독다가구|             1982|\n",
      "|       11230|   10900|        아파트|             1771|\n",
      "|       11530|   10700|        아파트|             1983|\n",
      "|       11200|   11500|        아파트|             2002|\n",
      "|       11440|   11500|      오피스텔|             2003|\n",
      "|       11560|   12900|    연립다세대|             2014|\n",
      "|       11200|   12200|    연립다세대|             2013|\n",
      "|       11545|   10300|      오피스텔|             2016|\n",
      "|       11680|   11400|    연립다세대|             2000|\n",
      "|       11170|   12900|    연립다세대|             1976|\n",
      "+------------+--------+--------------+-----------------+\n",
      "only showing top 10 rows\n",
      "\n"
     ]
    },
    {
     "name": "stderr",
     "output_type": "stream",
     "text": [
      "                                                                                \r"
     ]
    }
   ],
   "source": [
    "# 자치구, 법정동, 건물용도별 평균 값의 정수 부분을 건물연식으로 넣어주자\n",
    "# 주택은 한 두 군데만 짓기보단 마을, 단지별로 싹 착공, 재건축하니, 비슷한 지역의 비슷한 매물이 비슷한 연식일 것이라는 가정\n",
    "tmp_df = df_tbAPTPrice.withColumn('building_year', col('building_year').cast('double'))\\\n",
    "            .groupby('jachigu_code', 'law_code', 'building_usage')\\\n",
    "            .agg(mean('building_year').alias('avg_building_year'))\\\n",
    "            .withColumn('avg_building_year', col('avg_building_year').cast('int'))\n",
    "            \n",
    "tmp_df.show(10)"
   ]
  },
  {
   "cell_type": "code",
   "execution_count": 14,
   "id": "690611a7-2696-4d4e-98cd-4466f06f244a",
   "metadata": {
    "scrolled": true
   },
   "outputs": [
    {
     "data": {
      "text/plain": [
       "DataFrame[jachigu_code: string, law_code: string, building_usage: string, sumbit_year: string, jachigu_name: string, law_name: string, jibun_gubun: string, jibun_name: string, building_name: string, building_price: string, building_size: string, floor: string, building_year: string, idx: int, avg_building_year: int]"
      ]
     },
     "execution_count": 14,
     "metadata": {},
     "output_type": "execute_result"
    }
   ],
   "source": [
    "df_tbAPTPrice = df_tbAPTPrice.join(tmp_df, on = ['jachigu_code', 'law_code', 'building_usage'], how = 'left')\\\n",
    "                            .withColumn('building_year'\n",
    "                                          , when(col('building_year').isNull(), col('avg_building_year'))\\\n",
    "                           .otherwise(col('building_year'))\n",
    "                                        )\n",
    "\n",
    "df_tbAPTPrice.persist()"
   ]
  },
  {
   "cell_type": "code",
   "execution_count": 15,
   "id": "53b51d93-a822-423b-8ab6-d3befe870d5a",
   "metadata": {
    "scrolled": true
   },
   "outputs": [
    {
     "name": "stderr",
     "output_type": "stream",
     "text": [
      "[Stage 23:=====================================================>  (71 + 2) / 75]\r"
     ]
    },
    {
     "name": "stdout",
     "output_type": "stream",
     "text": [
      "+------------+--------+--------------+-----------+------------+--------+-----------+----------+-------------+--------------+-------------+-----+-------------+---+-----------------+\n",
      "|jachigu_code|law_code|building_usage|sumbit_year|jachigu_name|law_name|jibun_gubun|jibun_name|building_name|building_price|building_size|floor|building_year|idx|avg_building_year|\n",
      "+------------+--------+--------------+-----------+------------+--------+-----------+----------+-------------+--------------+-------------+-----+-------------+---+-----------------+\n",
      "+------------+--------+--------------+-----------+------------+--------+-----------+----------+-------------+--------------+-------------+-----+-------------+---+-----------------+\n",
      "\n"
     ]
    },
    {
     "name": "stderr",
     "output_type": "stream",
     "text": [
      "                                                                                \r"
     ]
    }
   ],
   "source": [
    "df_tbAPTPrice.selectExpr('*')\\\n",
    "                .where('building_year is NULL')\\\n",
    "                .show(10)"
   ]
  },
  {
   "cell_type": "code",
   "execution_count": 16,
   "id": "d2d53c8b-ca26-4371-af92-624c1dd9545f",
   "metadata": {},
   "outputs": [],
   "source": [
    "# 임시 뷰 만들어놓기\n",
    "df_tbAPTPrice.createOrReplaceTempView('tmp_view')"
   ]
  },
  {
   "cell_type": "markdown",
   "id": "27bef423-9402-4169-9d18-7447cde3d458",
   "metadata": {},
   "source": [
    "### 2-3-2) 0인 값 확인 및 처리"
   ]
  },
  {
   "cell_type": "code",
   "execution_count": 17,
   "id": "e157974a-d4b5-4a68-ac44-46dc6a19c422",
   "metadata": {},
   "outputs": [
    {
     "name": "stderr",
     "output_type": "stream",
     "text": [
      "                                                                                \r"
     ]
    },
    {
     "data": {
      "text/plain": [
       "{'jachigu_code_0': 0,\n",
       " 'law_code_0': 0,\n",
       " 'building_usage_0': 0,\n",
       " 'sumbit_year_0': 0,\n",
       " 'jachigu_name_0': 0,\n",
       " 'law_name_0': 0,\n",
       " 'jibun_gubun_0': 0,\n",
       " 'jibun_name_0': 0,\n",
       " 'building_name_0': 26,\n",
       " 'building_price_0': 0,\n",
       " 'building_size_0': 0,\n",
       " 'floor_0': 3,\n",
       " 'building_year_0': 16513,\n",
       " 'idx_0': 0,\n",
       " 'avg_building_year_0': 38}"
      ]
     },
     "execution_count": 17,
     "metadata": {},
     "output_type": "execute_result"
    }
   ],
   "source": [
    "tmp = df_tbAPTPrice.select(\n",
    "        [sum(\n",
    "            when(\n",
    "                col(i) == 0 ,1)\\\n",
    "            .otherwise(0)\n",
    "            )\\\n",
    "            .alias(i + '_0') for i in df_tbAPTPrice.columns\n",
    "        ]\n",
    "    ).collect()\n",
    "    \n",
    "tmp[0].asDict()"
   ]
  },
  {
   "cell_type": "markdown",
   "id": "6b47e457-9392-444b-b796-49dab673cd2c",
   "metadata": {},
   "source": [
    "#### 2-3-2-가) building_year가 0인 경우 처리"
   ]
  },
  {
   "cell_type": "code",
   "execution_count": 18,
   "id": "a0cb2dd6-8bac-4d99-9780-0a9a39fb26fe",
   "metadata": {},
   "outputs": [
    {
     "name": "stderr",
     "output_type": "stream",
     "text": [
      "[Stage 30:=======================================>              (147 + 2) / 200]\r"
     ]
    },
    {
     "name": "stdout",
     "output_type": "stream",
     "text": [
      "+--------------------+\n",
      "|count(building_year)|\n",
      "+--------------------+\n",
      "|               16513|\n",
      "+--------------------+\n",
      "\n"
     ]
    },
    {
     "name": "stderr",
     "output_type": "stream",
     "text": [
      "                                                                                \r"
     ]
    }
   ],
   "source": [
    "ss.sql('''\n",
    "        SELECT\n",
    "            count(building_year)\n",
    "        FROM tmp_view\n",
    "        WHERE building_year = 0\n",
    "''')\\\n",
    ".show()\n"
   ]
  },
  {
   "cell_type": "code",
   "execution_count": 19,
   "id": "5e33e98e-712e-4fc4-b8eb-7d0626dfdd17",
   "metadata": {},
   "outputs": [
    {
     "data": {
      "text/plain": [
       "DataFrame[jachigu_code: string, law_code: string, building_usage: string, sumbit_year: string, jachigu_name: string, law_name: string, jibun_gubun: string, jibun_name: string, building_name: string, building_price: string, building_size: string, floor: string, building_year: string, idx: int, avg_building_year: int, avg_building_year: int]"
      ]
     },
     "execution_count": 19,
     "metadata": {},
     "output_type": "execute_result"
    }
   ],
   "source": [
    "df_tbAPTPrice = df_tbAPTPrice.join(tmp_df, on = ['jachigu_code', 'law_code', 'building_usage'], how = 'left')\\\n",
    "                            .withColumn('building_year'\n",
    "                                          , when(col('building_year') ==0, 'avg_building_year')\\\n",
    "                           .otherwise(col('building_year'))\n",
    "                                        )\n",
    "\n",
    "df_tbAPTPrice.persist()                   "
   ]
  },
  {
   "cell_type": "code",
   "execution_count": 20,
   "id": "aa2a1465-b318-466d-a7f1-893dc748bb5d",
   "metadata": {},
   "outputs": [
    {
     "name": "stderr",
     "output_type": "stream",
     "text": [
      "[Stage 51:===================================================>    (69 + 2) / 75]\r"
     ]
    },
    {
     "name": "stdout",
     "output_type": "stream",
     "text": [
      "+------------+--------+-------------+\n",
      "|jachigu_name|law_name|building_name|\n",
      "+------------+--------+-------------+\n",
      "+------------+--------+-------------+\n",
      "\n"
     ]
    },
    {
     "name": "stderr",
     "output_type": "stream",
     "text": [
      "                                                                                \r"
     ]
    }
   ],
   "source": [
    "df_tbAPTPrice.filter(col('building_year') == 0)\\\n",
    "            .select('jachigu_name', 'law_name', 'building_name')\\\n",
    "            .show()"
   ]
  },
  {
   "cell_type": "code",
   "execution_count": 21,
   "id": "2a0fe37a-e731-4d7c-9a62-18176ccb76ce",
   "metadata": {},
   "outputs": [
    {
     "data": {
      "text/plain": [
       "DataFrame[jachigu_code: string, law_code: string, building_usage: string, sumbit_year: string, jachigu_name: string, law_name: string, jibun_gubun: string, jibun_name: string, building_name: string, building_price: string, building_size: string, floor: string, building_year: string, idx: int]"
      ]
     },
     "execution_count": 21,
     "metadata": {},
     "output_type": "execute_result"
    }
   ],
   "source": [
    "df_tbAPTPrice = df_tbAPTPrice.drop('avg_building_year')\n",
    "df_tbAPTPrice.persist()"
   ]
  },
  {
   "cell_type": "markdown",
   "id": "08666456-2664-431a-929c-c04860a69a6b",
   "metadata": {},
   "source": [
    "#### 2-3-2-나) building_name이 0인 경우 처리"
   ]
  },
  {
   "cell_type": "code",
   "execution_count": 22,
   "id": "ef21455f-c3b4-4b80-8f42-a1e27b2c5689",
   "metadata": {},
   "outputs": [
    {
     "name": "stdout",
     "output_type": "stream",
     "text": [
      "+------------+--------+--------------+-----------------+-------------+-------------------+------------------+\n",
      "|jachigu_code|law_code|building_usage|max(jachigu_name)|max(law_name)|max(building_usage)|max(building_name)|\n",
      "+------------+--------+--------------+-----------------+-------------+-------------------+------------------+\n",
      "|       11620|   10100|      오피스텔|           관악구|       봉천동|           오피스텔|                 .|\n",
      "|       11620|   10200|      오피스텔|           관악구|       신림동|           오피스텔|                 .|\n",
      "|       11560|   11400|      오피스텔|         영등포구|    당산동4가|           오피스텔|                 .|\n",
      "+------------+--------+--------------+-----------------+-------------+-------------------+------------------+\n",
      "\n"
     ]
    }
   ],
   "source": [
    "ss.sql('''\n",
    "        SELECT\n",
    "        \n",
    "            jachigu_code\n",
    "            , law_code\n",
    "            , building_usage\n",
    "            , MAX(jachigu_name)\n",
    "            , MAX(law_name)\n",
    "            , MAX(building_usage)\n",
    "            , MAX(building_name)\n",
    "            \n",
    "        FROM tmp_view\n",
    "        WHERE building_name = 0\n",
    "        GROUP BY jachigu_code, law_code, building_usage\n",
    "''').show()"
   ]
  },
  {
   "cell_type": "code",
   "execution_count": 23,
   "id": "5a2c3b51-eceb-4f55-8dfa-d75d1e7120a4",
   "metadata": {},
   "outputs": [
    {
     "name": "stderr",
     "output_type": "stream",
     "text": [
      "                                                                                \r"
     ]
    },
    {
     "data": {
      "text/plain": [
       "26"
      ]
     },
     "execution_count": 23,
     "metadata": {},
     "output_type": "execute_result"
    }
   ],
   "source": [
    "df_tbAPTPrice.select('building_name')\\\n",
    "            .where('building_name == 0')\\\n",
    "            .count()"
   ]
  },
  {
   "cell_type": "code",
   "execution_count": 24,
   "id": "14232948-5f0c-427b-b78a-083b039de9be",
   "metadata": {},
   "outputs": [
    {
     "data": {
      "text/plain": [
       "DataFrame[jachigu_code: string, law_code: string, building_usage: string, sumbit_year: string, jachigu_name: string, law_name: string, jibun_gubun: string, jibun_name: string, building_name: string, building_price: string, building_size: string, floor: string, building_year: string, idx: int]"
      ]
     },
     "execution_count": 24,
     "metadata": {},
     "output_type": "execute_result"
    }
   ],
   "source": [
    "df_tbAPTPrice = df_tbAPTPrice.withColumn('building_name'\n",
    "                                        , when(col('building_name') == 0\n",
    "                                               , concat(col('jachigu_name'), lit('_'), col('law_name'), lit('_'), col('building_usage'), lit('_'), lit('이름없음')))\\\n",
    "                            .otherwise(col('building_name'))\\\n",
    "                                        )\n",
    "df_tbAPTPrice.persist()"
   ]
  },
  {
   "cell_type": "markdown",
   "id": "03af4a5a-312d-4769-a0b0-be176761d71b",
   "metadata": {
    "jp-MarkdownHeadingCollapsed": true
   },
   "source": [
    "#### 2-3-2-다) building_year 일부 및 floor가 0인 건물 제거\n",
    "- 1953년 한국전쟁 정전 이후 건물만 반영(1953년 7월 27일)\n",
    "- 1634건 삭제\n",
    "- 해당 작업 수행으로 floor가 0인 건도 모두 지워짐"
   ]
  },
  {
   "cell_type": "code",
   "execution_count": 25,
   "id": "82eba53b-274f-4431-9ce6-38443ac1ce84",
   "metadata": {},
   "outputs": [],
   "source": [
    "df_tbAPTPrice = df_tbAPTPrice.selectExpr('*')\\\n",
    "                            .where('building_year >= 1954')\\\n",
    "                            .persist()                "
   ]
  },
  {
   "cell_type": "markdown",
   "id": "c096d7a7-edf0-4004-bf2c-fa58613932ab",
   "metadata": {},
   "source": [
    "## 2-4) 데이터 프레임 확인 및 캐싱"
   ]
  },
  {
   "cell_type": "code",
   "execution_count": 26,
   "id": "c3a2ea7a-60ba-4b2f-94aa-0416d7870783",
   "metadata": {},
   "outputs": [
    {
     "name": "stderr",
     "output_type": "stream",
     "text": [
      "                                                                                \r"
     ]
    },
    {
     "data": {
      "text/plain": [
       "{'jachigu_code_0': 0,\n",
       " 'law_code_0': 0,\n",
       " 'building_usage_0': 0,\n",
       " 'sumbit_year_0': 0,\n",
       " 'jachigu_name_0': 0,\n",
       " 'law_name_0': 0,\n",
       " 'jibun_gubun_0': 0,\n",
       " 'jibun_name_0': 0,\n",
       " 'building_name_0': 0,\n",
       " 'building_price_0': 0,\n",
       " 'building_size_0': 0,\n",
       " 'floor_0': 0,\n",
       " 'building_year_0': 0,\n",
       " 'idx_0': 0}"
      ]
     },
     "execution_count": 26,
     "metadata": {},
     "output_type": "execute_result"
    }
   ],
   "source": [
    "tmp = df_tbAPTPrice.select(\n",
    "        [sum(\n",
    "            when(\n",
    "                col(i) == 0 ,1)\\\n",
    "            .otherwise(0)\n",
    "            )\\\n",
    "            .alias(i + '_0') for i in df_tbAPTPrice.columns\n",
    "        ]\n",
    "    ).collect()\n",
    "    \n",
    "tmp[0].asDict()"
   ]
  },
  {
   "cell_type": "code",
   "execution_count": 27,
   "id": "900c1b25-3c1a-4872-97c2-14e857ec3504",
   "metadata": {},
   "outputs": [],
   "source": [
    "#임시 뷰 만들어놓기\n",
    "df_tbAPTPrice.createOrReplaceTempView('tmp_view')"
   ]
  },
  {
   "cell_type": "markdown",
   "id": "42988f78-6c5f-496d-a7c2-738fb03ae04c",
   "metadata": {},
   "source": [
    "# 3. 시각화"
   ]
  },
  {
   "cell_type": "markdown",
   "id": "d9307924-c3b7-4f2d-904a-c7eb2521ac5d",
   "metadata": {},
   "source": [
    "## 3-1) 데이터 프레임 확인"
   ]
  },
  {
   "cell_type": "code",
   "execution_count": 83,
   "id": "157f054a-4234-4277-929c-9038fd1973cd",
   "metadata": {
    "scrolled": true
   },
   "outputs": [
    {
     "name": "stderr",
     "output_type": "stream",
     "text": [
      "                                                                                \r"
     ]
    },
    {
     "data": {
      "text/plain": [
       "((838164, 14),\n",
       " jachigu_code      object\n",
       " law_code          object\n",
       " building_usage    object\n",
       " sumbit_year       object\n",
       " jachigu_name      object\n",
       " law_name          object\n",
       " jibun_gubun       object\n",
       " jibun_name        object\n",
       " building_name     object\n",
       " building_price    object\n",
       " building_size     object\n",
       " floor             object\n",
       " building_year     object\n",
       " idx                int32\n",
       " dtype: object,\n",
       " Index(['jachigu_code', 'law_code', 'building_usage', 'sumbit_year',\n",
       "        'jachigu_name', 'law_name', 'jibun_gubun', 'jibun_name',\n",
       "        'building_name', 'building_price', 'building_size', 'floor',\n",
       "        'building_year', 'idx'],\n",
       "       dtype='object'))"
      ]
     },
     "execution_count": 83,
     "metadata": {},
     "output_type": "execute_result"
    }
   ],
   "source": [
    "pd_df = df_tbAPTPrice.toPandas()\n",
    "\n",
    "pd_df.sort_values(by = ['sumbit_year', 'idx'], inplace = True)\n",
    "\n",
    "pd_df.shape, pd_df.dtypes, pd_df.columns"
   ]
  },
  {
   "cell_type": "code",
   "execution_count": 78,
   "id": "12dfd1cc-3325-4758-843f-1ae22dc2db48",
   "metadata": {
    "scrolled": true
   },
   "outputs": [
    {
     "data": {
      "text/plain": [
       "['T',\n",
       " '_AXIS_LEN',\n",
       " '_AXIS_ORDERS',\n",
       " '_AXIS_TO_AXIS_NUMBER',\n",
       " '_HANDLED_TYPES',\n",
       " '__abs__',\n",
       " '__add__',\n",
       " '__and__',\n",
       " '__annotations__',\n",
       " '__array__',\n",
       " '__array_priority__',\n",
       " '__array_ufunc__',\n",
       " '__bool__',\n",
       " '__class__',\n",
       " '__contains__',\n",
       " '__copy__',\n",
       " '__dataframe__',\n",
       " '__deepcopy__',\n",
       " '__delattr__',\n",
       " '__delitem__',\n",
       " '__dict__',\n",
       " '__dir__',\n",
       " '__divmod__',\n",
       " '__doc__',\n",
       " '__eq__',\n",
       " '__finalize__',\n",
       " '__floordiv__',\n",
       " '__format__',\n",
       " '__ge__',\n",
       " '__getattr__',\n",
       " '__getattribute__',\n",
       " '__getitem__',\n",
       " '__getstate__',\n",
       " '__gt__',\n",
       " '__hash__',\n",
       " '__iadd__',\n",
       " '__iand__',\n",
       " '__ifloordiv__',\n",
       " '__imod__',\n",
       " '__imul__',\n",
       " '__init__',\n",
       " '__init_subclass__',\n",
       " '__invert__',\n",
       " '__ior__',\n",
       " '__ipow__',\n",
       " '__isub__',\n",
       " '__iter__',\n",
       " '__itruediv__',\n",
       " '__ixor__',\n",
       " '__le__',\n",
       " '__len__',\n",
       " '__lt__',\n",
       " '__matmul__',\n",
       " '__mod__',\n",
       " '__module__',\n",
       " '__mul__',\n",
       " '__ne__',\n",
       " '__neg__',\n",
       " '__new__',\n",
       " '__nonzero__',\n",
       " '__or__',\n",
       " '__pos__',\n",
       " '__pow__',\n",
       " '__radd__',\n",
       " '__rand__',\n",
       " '__rdivmod__',\n",
       " '__reduce__',\n",
       " '__reduce_ex__',\n",
       " '__repr__',\n",
       " '__rfloordiv__',\n",
       " '__rmatmul__',\n",
       " '__rmod__',\n",
       " '__rmul__',\n",
       " '__ror__',\n",
       " '__round__',\n",
       " '__rpow__',\n",
       " '__rsub__',\n",
       " '__rtruediv__',\n",
       " '__rxor__',\n",
       " '__setattr__',\n",
       " '__setitem__',\n",
       " '__setstate__',\n",
       " '__sizeof__',\n",
       " '__str__',\n",
       " '__sub__',\n",
       " '__subclasshook__',\n",
       " '__truediv__',\n",
       " '__weakref__',\n",
       " '__xor__',\n",
       " '_accessors',\n",
       " '_accum_func',\n",
       " '_add_numeric_operations',\n",
       " '_agg_examples_doc',\n",
       " '_agg_summary_and_see_also_doc',\n",
       " '_align_frame',\n",
       " '_align_series',\n",
       " '_append',\n",
       " '_arith_method',\n",
       " '_as_manager',\n",
       " '_attrs',\n",
       " '_box_col_values',\n",
       " '_can_fast_transpose',\n",
       " '_check_inplace_and_allows_duplicate_labels',\n",
       " '_check_inplace_setting',\n",
       " '_check_is_chained_assignment_possible',\n",
       " '_check_label_or_level_ambiguity',\n",
       " '_check_setitem_copy',\n",
       " '_clear_item_cache',\n",
       " '_clip_with_one_bound',\n",
       " '_clip_with_scalar',\n",
       " '_cmp_method',\n",
       " '_combine_frame',\n",
       " '_consolidate',\n",
       " '_consolidate_inplace',\n",
       " '_construct_axes_dict',\n",
       " '_construct_result',\n",
       " '_constructor',\n",
       " '_constructor_sliced',\n",
       " '_create_data_for_split_and_tight_to_dict',\n",
       " '_data',\n",
       " '_dir_additions',\n",
       " '_dir_deletions',\n",
       " '_dispatch_frame_op',\n",
       " '_drop_axis',\n",
       " '_drop_labels_or_levels',\n",
       " '_ensure_valid_index',\n",
       " '_find_valid_index',\n",
       " '_flags',\n",
       " '_from_arrays',\n",
       " '_get_agg_axis',\n",
       " '_get_axis',\n",
       " '_get_axis_name',\n",
       " '_get_axis_number',\n",
       " '_get_axis_resolvers',\n",
       " '_get_block_manager_axis',\n",
       " '_get_bool_data',\n",
       " '_get_cleaned_column_resolvers',\n",
       " '_get_column_array',\n",
       " '_get_index_resolvers',\n",
       " '_get_item_cache',\n",
       " '_get_label_or_level_values',\n",
       " '_get_numeric_data',\n",
       " '_get_value',\n",
       " '_getitem_bool_array',\n",
       " '_getitem_multilevel',\n",
       " '_getitem_nocopy',\n",
       " '_gotitem',\n",
       " '_hidden_attrs',\n",
       " '_indexed_same',\n",
       " '_info_axis',\n",
       " '_info_axis_name',\n",
       " '_info_axis_number',\n",
       " '_info_repr',\n",
       " '_init_mgr',\n",
       " '_inplace_method',\n",
       " '_internal_names',\n",
       " '_internal_names_set',\n",
       " '_is_copy',\n",
       " '_is_homogeneous_type',\n",
       " '_is_label_or_level_reference',\n",
       " '_is_label_reference',\n",
       " '_is_level_reference',\n",
       " '_is_mixed_type',\n",
       " '_is_view',\n",
       " '_iset_item',\n",
       " '_iset_item_mgr',\n",
       " '_iset_not_inplace',\n",
       " '_item_cache',\n",
       " '_iter_column_arrays',\n",
       " '_ixs',\n",
       " '_join_compat',\n",
       " '_logical_func',\n",
       " '_logical_method',\n",
       " '_maybe_cache_changed',\n",
       " '_maybe_update_cacher',\n",
       " '_metadata',\n",
       " '_mgr',\n",
       " '_min_count_stat_function',\n",
       " '_needs_reindex_multi',\n",
       " '_protect_consolidate',\n",
       " '_reduce',\n",
       " '_reduce_axis1',\n",
       " '_reindex_axes',\n",
       " '_reindex_columns',\n",
       " '_reindex_index',\n",
       " '_reindex_multi',\n",
       " '_reindex_with_indexers',\n",
       " '_rename',\n",
       " '_replace_columnwise',\n",
       " '_repr_data_resource_',\n",
       " '_repr_fits_horizontal_',\n",
       " '_repr_fits_vertical_',\n",
       " '_repr_html_',\n",
       " '_repr_latex_',\n",
       " '_reset_cache',\n",
       " '_reset_cacher',\n",
       " '_sanitize_column',\n",
       " '_series',\n",
       " '_set_axis',\n",
       " '_set_axis_name',\n",
       " '_set_axis_nocheck',\n",
       " '_set_is_copy',\n",
       " '_set_item',\n",
       " '_set_item_frame_value',\n",
       " '_set_item_mgr',\n",
       " '_set_value',\n",
       " '_setitem_array',\n",
       " '_setitem_frame',\n",
       " '_setitem_slice',\n",
       " '_slice',\n",
       " '_stat_axis',\n",
       " '_stat_axis_name',\n",
       " '_stat_axis_number',\n",
       " '_stat_function',\n",
       " '_stat_function_ddof',\n",
       " '_take',\n",
       " '_take_with_is_copy',\n",
       " '_to_dict_of_blocks',\n",
       " '_to_latex_via_styler',\n",
       " '_typ',\n",
       " '_update_inplace',\n",
       " '_validate_dtype',\n",
       " '_values',\n",
       " '_where',\n",
       " 'abs',\n",
       " 'add',\n",
       " 'add_prefix',\n",
       " 'add_suffix',\n",
       " 'agg',\n",
       " 'aggregate',\n",
       " 'align',\n",
       " 'all',\n",
       " 'any',\n",
       " 'apply',\n",
       " 'applymap',\n",
       " 'asfreq',\n",
       " 'asof',\n",
       " 'assign',\n",
       " 'astype',\n",
       " 'at',\n",
       " 'at_time',\n",
       " 'attrs',\n",
       " 'axes',\n",
       " 'backfill',\n",
       " 'between_time',\n",
       " 'bfill',\n",
       " 'bool',\n",
       " 'boxplot',\n",
       " 'building_name',\n",
       " 'building_price',\n",
       " 'building_size',\n",
       " 'building_usage',\n",
       " 'building_year',\n",
       " 'clip',\n",
       " 'columns',\n",
       " 'combine',\n",
       " 'combine_first',\n",
       " 'compare',\n",
       " 'convert_dtypes',\n",
       " 'copy',\n",
       " 'corr',\n",
       " 'corrwith',\n",
       " 'count',\n",
       " 'cov',\n",
       " 'cummax',\n",
       " 'cummin',\n",
       " 'cumprod',\n",
       " 'cumsum',\n",
       " 'describe',\n",
       " 'diff',\n",
       " 'div',\n",
       " 'divide',\n",
       " 'dot',\n",
       " 'drop',\n",
       " 'drop_duplicates',\n",
       " 'droplevel',\n",
       " 'dropna',\n",
       " 'dtypes',\n",
       " 'duplicated',\n",
       " 'empty',\n",
       " 'eq',\n",
       " 'equals',\n",
       " 'eval',\n",
       " 'ewm',\n",
       " 'expanding',\n",
       " 'explode',\n",
       " 'ffill',\n",
       " 'fillna',\n",
       " 'filter',\n",
       " 'first',\n",
       " 'first_valid_index',\n",
       " 'flags',\n",
       " 'floor',\n",
       " 'floordiv',\n",
       " 'from_dict',\n",
       " 'from_records',\n",
       " 'ge',\n",
       " 'get',\n",
       " 'groupby',\n",
       " 'gt',\n",
       " 'head',\n",
       " 'hist',\n",
       " 'iat',\n",
       " 'idx',\n",
       " 'idxmax',\n",
       " 'idxmin',\n",
       " 'iloc',\n",
       " 'index',\n",
       " 'infer_objects',\n",
       " 'info',\n",
       " 'insert',\n",
       " 'interpolate',\n",
       " 'isetitem',\n",
       " 'isin',\n",
       " 'isna',\n",
       " 'isnull',\n",
       " 'items',\n",
       " 'iterrows',\n",
       " 'itertuples',\n",
       " 'jachigu_code',\n",
       " 'jachigu_name',\n",
       " 'jibun_gubun',\n",
       " 'jibun_name',\n",
       " 'join',\n",
       " 'keys',\n",
       " 'kurt',\n",
       " 'kurtosis',\n",
       " 'last',\n",
       " 'last_valid_index',\n",
       " 'law_code',\n",
       " 'law_name',\n",
       " 'le',\n",
       " 'loc',\n",
       " 'lt',\n",
       " 'mask',\n",
       " 'max',\n",
       " 'mean',\n",
       " 'median',\n",
       " 'melt',\n",
       " 'memory_usage',\n",
       " 'merge',\n",
       " 'min',\n",
       " 'mod',\n",
       " 'mode',\n",
       " 'mul',\n",
       " 'multiply',\n",
       " 'ndim',\n",
       " 'ne',\n",
       " 'nlargest',\n",
       " 'notna',\n",
       " 'notnull',\n",
       " 'nsmallest',\n",
       " 'nunique',\n",
       " 'pad',\n",
       " 'pct_change',\n",
       " 'pipe',\n",
       " 'pivot',\n",
       " 'pivot_table',\n",
       " 'plot',\n",
       " 'pop',\n",
       " 'pow',\n",
       " 'prod',\n",
       " 'product',\n",
       " 'quantile',\n",
       " 'query',\n",
       " 'radd',\n",
       " 'rank',\n",
       " 'rdiv',\n",
       " 'reindex',\n",
       " 'reindex_like',\n",
       " 'rename',\n",
       " 'rename_axis',\n",
       " 'reorder_levels',\n",
       " 'replace',\n",
       " 'resample',\n",
       " 'reset_index',\n",
       " 'rfloordiv',\n",
       " 'rmod',\n",
       " 'rmul',\n",
       " 'rolling',\n",
       " 'round',\n",
       " 'rpow',\n",
       " 'rsub',\n",
       " 'rtruediv',\n",
       " 'sample',\n",
       " 'select_dtypes',\n",
       " 'sem',\n",
       " 'set_axis',\n",
       " 'set_flags',\n",
       " 'set_index',\n",
       " 'shape',\n",
       " 'shift',\n",
       " 'size',\n",
       " 'skew',\n",
       " 'sort_index',\n",
       " 'sort_values',\n",
       " 'squeeze',\n",
       " 'stack',\n",
       " 'std',\n",
       " 'style',\n",
       " 'sub',\n",
       " 'subtract',\n",
       " 'sum',\n",
       " 'sumbit_year',\n",
       " 'swapaxes',\n",
       " 'swaplevel',\n",
       " 'tail',\n",
       " 'take',\n",
       " 'to_clipboard',\n",
       " 'to_csv',\n",
       " 'to_dict',\n",
       " 'to_excel',\n",
       " 'to_feather',\n",
       " 'to_gbq',\n",
       " 'to_hdf',\n",
       " 'to_html',\n",
       " 'to_json',\n",
       " 'to_latex',\n",
       " 'to_markdown',\n",
       " 'to_numpy',\n",
       " 'to_orc',\n",
       " 'to_parquet',\n",
       " 'to_period',\n",
       " 'to_pickle',\n",
       " 'to_records',\n",
       " 'to_sql',\n",
       " 'to_stata',\n",
       " 'to_string',\n",
       " 'to_timestamp',\n",
       " 'to_xarray',\n",
       " 'to_xml',\n",
       " 'transform',\n",
       " 'transpose',\n",
       " 'truediv',\n",
       " 'truncate',\n",
       " 'tz_convert',\n",
       " 'tz_localize',\n",
       " 'unstack',\n",
       " 'update',\n",
       " 'value_counts',\n",
       " 'values',\n",
       " 'var',\n",
       " 'where',\n",
       " 'xs']"
      ]
     },
     "execution_count": 78,
     "metadata": {},
     "output_type": "execute_result"
    }
   ],
   "source": [
    "dir(pd_df)"
   ]
  },
  {
   "cell_type": "code",
   "execution_count": 189,
   "id": "8ec4443c-7ca3-4acd-9e58-90a73dec26f5",
   "metadata": {},
   "outputs": [
    {
     "data": {
      "text/html": [
       "<div>\n",
       "<style scoped>\n",
       "    .dataframe tbody tr th:only-of-type {\n",
       "        vertical-align: middle;\n",
       "    }\n",
       "\n",
       "    .dataframe tbody tr th {\n",
       "        vertical-align: top;\n",
       "    }\n",
       "\n",
       "    .dataframe thead th {\n",
       "        text-align: right;\n",
       "    }\n",
       "</style>\n",
       "<table border=\"1\" class=\"dataframe\">\n",
       "  <thead>\n",
       "    <tr style=\"text-align: right;\">\n",
       "      <th></th>\n",
       "      <th>jachigu_code</th>\n",
       "      <th>sumbit_year</th>\n",
       "      <th>mean_building_price</th>\n",
       "    </tr>\n",
       "  </thead>\n",
       "  <tbody>\n",
       "    <tr>\n",
       "      <th>0</th>\n",
       "      <td>11110</td>\n",
       "      <td>2017</td>\n",
       "      <td>131011.363723</td>\n",
       "    </tr>\n",
       "    <tr>\n",
       "      <th>1</th>\n",
       "      <td>11110</td>\n",
       "      <td>2018</td>\n",
       "      <td>192666.619979</td>\n",
       "    </tr>\n",
       "    <tr>\n",
       "      <th>2</th>\n",
       "      <td>11110</td>\n",
       "      <td>2019</td>\n",
       "      <td>367836.138436</td>\n",
       "    </tr>\n",
       "    <tr>\n",
       "      <th>3</th>\n",
       "      <td>11110</td>\n",
       "      <td>2020</td>\n",
       "      <td>481960.204376</td>\n",
       "    </tr>\n",
       "    <tr>\n",
       "      <th>4</th>\n",
       "      <td>11110</td>\n",
       "      <td>2021</td>\n",
       "      <td>510548.182420</td>\n",
       "    </tr>\n",
       "    <tr>\n",
       "      <th>...</th>\n",
       "      <td>...</td>\n",
       "      <td>...</td>\n",
       "      <td>...</td>\n",
       "    </tr>\n",
       "    <tr>\n",
       "      <th>195</th>\n",
       "      <td>11740</td>\n",
       "      <td>2020</td>\n",
       "      <td>480351.219607</td>\n",
       "    </tr>\n",
       "    <tr>\n",
       "      <th>196</th>\n",
       "      <td>11740</td>\n",
       "      <td>2021</td>\n",
       "      <td>509406.948039</td>\n",
       "    </tr>\n",
       "    <tr>\n",
       "      <th>197</th>\n",
       "      <td>11740</td>\n",
       "      <td>2022</td>\n",
       "      <td>706932.595002</td>\n",
       "    </tr>\n",
       "    <tr>\n",
       "      <th>198</th>\n",
       "      <td>11740</td>\n",
       "      <td>2023</td>\n",
       "      <td>788268.182629</td>\n",
       "    </tr>\n",
       "    <tr>\n",
       "      <th>199</th>\n",
       "      <td>11740</td>\n",
       "      <td>2024</td>\n",
       "      <td>733034.774165</td>\n",
       "    </tr>\n",
       "  </tbody>\n",
       "</table>\n",
       "<p>200 rows × 3 columns</p>\n",
       "</div>"
      ],
      "text/plain": [
       "    jachigu_code sumbit_year  mean_building_price\n",
       "0          11110        2017        131011.363723\n",
       "1          11110        2018        192666.619979\n",
       "2          11110        2019        367836.138436\n",
       "3          11110        2020        481960.204376\n",
       "4          11110        2021        510548.182420\n",
       "..           ...         ...                  ...\n",
       "195        11740        2020        480351.219607\n",
       "196        11740        2021        509406.948039\n",
       "197        11740        2022        706932.595002\n",
       "198        11740        2023        788268.182629\n",
       "199        11740        2024        733034.774165\n",
       "\n",
       "[200 rows x 3 columns]"
      ]
     },
     "execution_count": 189,
     "metadata": {},
     "output_type": "execute_result"
    }
   ],
   "source": [
    "pd_df.groupby(['jachigu_code','sumbit_year']).mean('building_price').reset_index().rename(columns = {'idx' : 'mean_building_price'})"
   ]
  },
  {
   "cell_type": "code",
   "execution_count": 191,
   "id": "9ef8c9eb-8ddc-4fc3-a2e5-33ac0820cae4",
   "metadata": {
    "scrolled": true
   },
   "outputs": [
    {
     "data": {
      "image/png": "[encoded data removed]",
      "text/plain": [
       "<Figure size 1500x1000 with 2 Axes>"
      ]
     },
     "metadata": {},
     "output_type": "display_data"
    }
   ],
   "source": [
    "plt.figure(figsize = (15,10))\n",
    "\n",
    "axes1 = plt.subplot(2,1,1)\n",
    "sns.lineplot(data = pd_df.groupby(['jachigu_code','sumbit_year']).mean('building_price').reset_index().rename(columns = {'idx' : 'mean_building_price'})\n",
    "            , x = pd_df.groupby(['jachigu_code','sumbit_year']).mean('building_price').reset_index().rename(columns = {'idx' : 'mean_building_price'})['sumbit_year']\n",
    "            , y = pd_df.groupby(['jachigu_code','sumbit_year']).mean('building_price').reset_index().rename(columns = {'idx' : 'mean_building_price'})['mean_building_price']\n",
    "            , hue = pd_df.groupby(['jachigu_code','sumbit_year']).mean('building_price').reset_index().rename(columns = {'idx' : 'mean_building_price'})['jachigu_code'])\n",
    "\n",
    "\n",
    "\n",
    "axes2 = plt.subplot(2,1,2)\n",
    "\n",
    "\n",
    "plt.tight_layout()\n",
    "plt.show()"
   ]
  },
  {
   "cell_type": "markdown",
   "id": "994b475a-790f-445d-9be7-81c100e515d2",
   "metadata": {},
   "source": [
    "# 4. 학습 모델 생성 및 평가"
   ]
  },
  {
   "cell_type": "markdown",
   "id": "28c0b75d-8a10-4c9e-9c3b-6c3eaea3545c",
   "metadata": {},
   "source": [
    "## 4-1) 학습용 데이터 프레임 생성"
   ]
  },
  {
   "cell_type": "code",
   "execution_count": 28,
   "id": "da70e83e-7e67-457d-8817-d3d9a38780f6",
   "metadata": {},
   "outputs": [],
   "source": [
    "df_forML = df_tbAPTPrice.drop('jachigu_name'\n",
    "                   , 'law_name'\n",
    "                   , 'jibun_gubun'\n",
    "                   , 'jibun_name'\n",
    "                   , 'building_name'\n",
    "                    )"
   ]
  },
  {
   "cell_type": "markdown",
   "id": "0eb08823-c508-4959-9bde-bf4981e47126",
   "metadata": {},
   "source": [
    "### 4-1-1) Encoding\n",
    "**1) 문자열 → 숫자형 (cast)**\n",
    "- `building_price`\n",
    "- `sumbit_year`\n",
    "- `building_size`\n",
    "- `floor`\n",
    "- `building_year`\n",
    "\n",
    "---\n",
    "**2) 범주형 컬럼 처리**\n",
    "2-1) **Label Encoding**\n",
    "- `jachigu_code`\n",
    "- `law_code`\n",
    "\n",
    "2-2) **One-Hot Encoding**\n",
    "- `building_usage`\n",
    "\n",
    "---\n",
    "\n",
    "\n"
   ]
  },
  {
   "cell_type": "code",
   "execution_count": 29,
   "id": "160d6af5-387d-47a1-9143-d9bcccd0b949",
   "metadata": {},
   "outputs": [],
   "source": [
    "tmp_df = df_forML"
   ]
  },
  {
   "cell_type": "code",
   "execution_count": 30,
   "id": "93801d00-f75e-411b-b289-8c85840bac99",
   "metadata": {},
   "outputs": [
    {
     "name": "stderr",
     "output_type": "stream",
     "text": [
      "                                                                                \r"
     ]
    },
    {
     "data": {
      "text/plain": [
       "(25, 86, 4)"
      ]
     },
     "execution_count": 30,
     "metadata": {},
     "output_type": "execute_result"
    }
   ],
   "source": [
    "# 범주 개수 확인\n",
    "tmp_df.select(\"jachigu_code\").distinct().count(), tmp_df.select(\"law_code\").distinct().count(), tmp_df.select(\"building_usage\").distinct().count()"
   ]
  },
  {
   "cell_type": "code",
   "execution_count": 31,
   "id": "00d32098-4e15-43ea-b120-76e2e3e975ad",
   "metadata": {},
   "outputs": [],
   "source": [
    "## 문자열 -> 숫자(cast)\n",
    "tmp_df2 = tmp_df.withColumn('building_price', col('building_price').cast('float'))\\\n",
    "                .withColumn('building_size', col('building_size').cast('float'))\\\n",
    "                .withColumn('sumbit_year', col('sumbit_year').cast('int'))\\\n",
    "                .withColumn('floor', col('floor').cast('int'))\\\n",
    "                .withColumn('building_year', col('building_year').cast('int'))"
   ]
  },
  {
   "cell_type": "code",
   "execution_count": 32,
   "id": "ef1d2343-23b5-458b-9cb3-7db78c6e7c23",
   "metadata": {},
   "outputs": [],
   "source": [
    "tmp_df3 = tmp_df2.fillna({'floor':0})"
   ]
  },
  {
   "cell_type": "code",
   "execution_count": 33,
   "id": "1271eafd-724f-407d-844f-33dd15b3c997",
   "metadata": {},
   "outputs": [
    {
     "name": "stderr",
     "output_type": "stream",
     "text": [
      "                                                                                \r"
     ]
    },
    {
     "data": {
      "text/plain": [
       "DataFrame[jachigu_code: string, law_code: string, building_usage: string, sumbit_year: int, building_price: float, building_size: float, floor: int, building_year: int, idx: int, INDEX_jachigu_code: double, INDEX_law_code: double]"
      ]
     },
     "execution_count": 33,
     "metadata": {},
     "output_type": "execute_result"
    }
   ],
   "source": [
    "## 범주형 변수 >> 정수형\n",
    "indexers_jachigu_code = StringIndexer(inputCol = 'jachigu_code', outputCol = 'INDEX_'+'jachigu_code')\n",
    "indexers_law_code = StringIndexer(inputCol = 'law_code', outputCol = 'INDEX_'+'law_code')\n",
    "indexers_jachigu_code, indexers_law_code\n",
    "\n",
    "tmp_df4 = indexers_jachigu_code.fit(tmp_df3).transform(tmp_df3)\n",
    "tmp_df5 = indexers_law_code.fit(tmp_df4).transform(tmp_df4)\n",
    "tmp_df5"
   ]
  },
  {
   "cell_type": "code",
   "execution_count": 34,
   "id": "b054a805-5545-43c0-a16a-3f0ffd4b6d35",
   "metadata": {},
   "outputs": [
    {
     "name": "stderr",
     "output_type": "stream",
     "text": [
      "                                                                                \r"
     ]
    },
    {
     "data": {
      "text/plain": [
       "DataFrame[jachigu_code: string, law_code: string, building_usage: string, sumbit_year: int, building_price: float, building_size: float, floor: int, building_year: int, idx: int, INDEX_jachigu_code: double, INDEX_law_code: double, INDEX_building_usage: double]"
      ]
     },
     "execution_count": 34,
     "metadata": {},
     "output_type": "execute_result"
    }
   ],
   "source": [
    "indexers_building_usage = StringIndexer(inputCol = 'building_usage', outputCol = 'INDEX_' + 'building_usage')\n",
    "tmp_df6 = indexers_building_usage.fit(tmp_df5).transform(tmp_df5)\n",
    "tmp_df6"
   ]
  },
  {
   "cell_type": "code",
   "execution_count": 35,
   "id": "caa4f557-3922-4bac-8e9d-7545b9e689bf",
   "metadata": {},
   "outputs": [
    {
     "data": {
      "text/plain": [
       "DataFrame[jachigu_code: string, law_code: string, building_usage: string, sumbit_year: int, building_price: float, building_size: float, floor: int, building_year: int, idx: int, INDEX_jachigu_code: double, INDEX_law_code: double, INDEX_building_usage: double, ENCODE_building_usage: vector]"
      ]
     },
     "execution_count": 35,
     "metadata": {},
     "output_type": "execute_result"
    }
   ],
   "source": [
    "## one-hot encoding\n",
    "encoders = OneHotEncoder(inputCol = 'INDEX_'+'building_usage', outputCol = 'ENCODE_' + 'building_usage')\n",
    "encoders\n",
    "\n",
    "tmp_df7 = encoders.fit(tmp_df6).transform(tmp_df6)\n",
    "tmp_df7"
   ]
  },
  {
   "cell_type": "markdown",
   "id": "fe1b7cd4-5633-41c0-8060-e32ea7d2f49b",
   "metadata": {},
   "source": [
    "### 4-1-2) Feature 선택"
   ]
  },
  {
   "cell_type": "code",
   "execution_count": 36,
   "id": "16616f2c-8767-4c74-ae1d-a2fdf2deb105",
   "metadata": {},
   "outputs": [],
   "source": [
    "features_cols = ['INDEX_jachigu_code'\n",
    "                , 'INDEX_law_code'\n",
    "                , 'ENCODE_building_usage'\n",
    "                , 'sumbit_year'\n",
    "                , 'building_size'\n",
    "                , 'building_year'\n",
    "               ]"
   ]
  },
  {
   "cell_type": "markdown",
   "id": "b274bfb8-13d3-46aa-b3c1-7477e04a447a",
   "metadata": {},
   "source": [
    "### 4-1-3) assembler를 통한 feature Vectorized"
   ]
  },
  {
   "cell_type": "code",
   "execution_count": 37,
   "id": "8e5221e4-d31f-4ca0-a93c-ffffbfba3408",
   "metadata": {},
   "outputs": [
    {
     "name": "stdout",
     "output_type": "stream",
     "text": [
      "+--------------+--------------------------------------------------------+\n",
      "|building_price|feature                                                 |\n",
      "+--------------+--------------------------------------------------------+\n",
      "|22500.0       |[24.0,25.0,0.0,0.0,1.0,2021.0,18.56999969482422,2021.0] |\n",
      "|24675.0       |[24.0,25.0,0.0,0.0,1.0,2022.0,18.56999969482422,2021.0] |\n",
      "|61000.0       |[22.0,31.0,1.0,0.0,0.0,2018.0,26.979999542236328,1981.0]|\n",
      "|60000.0       |[22.0,31.0,1.0,0.0,0.0,2018.0,47.06999969482422,1971.0] |\n",
      "|96000.0       |[22.0,31.0,1.0,0.0,0.0,2018.0,66.94999694824219,1971.0] |\n",
      "|50900.0       |[22.0,31.0,1.0,0.0,0.0,2017.0,40.5,1984.0]              |\n",
      "|65000.0       |[22.0,31.0,1.0,0.0,0.0,2018.0,77.36000061035156,1984.0] |\n",
      "|50000.0       |[22.0,31.0,1.0,0.0,0.0,2018.0,47.06999969482422,1971.0] |\n",
      "|52000.0       |[22.0,31.0,1.0,0.0,0.0,2018.0,76.5999984741211,1971.0]  |\n",
      "|61000.0       |[22.0,31.0,1.0,0.0,0.0,2018.0,19.969999313354492,1975.0]|\n",
      "|46000.0       |[22.0,31.0,1.0,0.0,0.0,2017.0,47.13999938964844,1971.0] |\n",
      "|45600.0       |[22.0,31.0,1.0,0.0,0.0,2017.0,47.68000030517578,1971.0] |\n",
      "|64900.0       |[22.0,31.0,1.0,0.0,0.0,2018.0,61.45000076293945,1971.0] |\n",
      "|58000.0       |[22.0,31.0,1.0,0.0,0.0,2017.0,56.459999084472656,1971.0]|\n",
      "|59500.0       |[22.0,31.0,1.0,0.0,0.0,2018.0,47.06999969482422,1971.0] |\n",
      "|40000.0       |[22.0,31.0,1.0,0.0,0.0,2017.0,36.2599983215332,1971.0]  |\n",
      "|89950.0       |[22.0,31.0,1.0,0.0,0.0,2017.0,80.95999908447266,1983.0] |\n",
      "|95000.0       |[22.0,31.0,1.0,0.0,0.0,2018.0,77.69000244140625,1983.0] |\n",
      "|79000.0       |[22.0,31.0,1.0,0.0,0.0,2018.0,55.970001220703125,1975.0]|\n",
      "|38000.0       |[22.0,31.0,1.0,0.0,0.0,2018.0,46.119998931884766,1971.0]|\n",
      "+--------------+--------------------------------------------------------+\n",
      "only showing top 20 rows\n",
      "\n"
     ]
    }
   ],
   "source": [
    "assembler = VectorAssembler(inputCols = features_cols\n",
    "                            , outputCol = 'feature'\n",
    "                           )\n",
    "tmp_df8 = assembler.transform(tmp_df7)\n",
    "tmp_df8.select('building_price', 'feature').show(truncate = False)"
   ]
  },
  {
   "cell_type": "markdown",
   "id": "c09c8a26-97ca-4c6f-9866-edb1c750c274",
   "metadata": {},
   "source": [
    "### 4-1-4) 데이터 셋 분할"
   ]
  },
  {
   "cell_type": "code",
   "execution_count": 38,
   "id": "f77d5686-23a3-45c9-a6aa-a788be0995ab",
   "metadata": {},
   "outputs": [],
   "source": [
    "train_ratio = 0.8\n",
    "test_ratio = 0.2"
   ]
  },
  {
   "cell_type": "code",
   "execution_count": 39,
   "id": "2dd15162-19d9-4ece-bbb9-d53006176695",
   "metadata": {},
   "outputs": [
    {
     "data": {
      "text/plain": [
       "(DataFrame[jachigu_code: string, law_code: string, building_usage: string, sumbit_year: int, building_price: float, building_size: float, floor: int, building_year: int, idx: int, INDEX_jachigu_code: double, INDEX_law_code: double, INDEX_building_usage: double, ENCODE_building_usage: vector, feature: vector],\n",
       " DataFrame[jachigu_code: string, law_code: string, building_usage: string, sumbit_year: int, building_price: float, building_size: float, floor: int, building_year: int, idx: int, INDEX_jachigu_code: double, INDEX_law_code: double, INDEX_building_usage: double, ENCODE_building_usage: vector, feature: vector])"
      ]
     },
     "execution_count": 39,
     "metadata": {},
     "output_type": "execute_result"
    }
   ],
   "source": [
    "train_df, test_df = tmp_df8\\\n",
    "                    .randomSplit([train_ratio, test_ratio], seed = 42)\n",
    "\n",
    "train_df, test_df\n"
   ]
  },
  {
   "cell_type": "code",
   "execution_count": 40,
   "id": "43c4a75c-d846-4891-a9ef-81f2406edf3f",
   "metadata": {},
   "outputs": [
    {
     "name": "stderr",
     "output_type": "stream",
     "text": [
      "                                                                                \r"
     ]
    },
    {
     "data": {
      "text/plain": [
       "671187"
      ]
     },
     "execution_count": 40,
     "metadata": {},
     "output_type": "execute_result"
    }
   ],
   "source": [
    "train_df.count()"
   ]
  },
  {
   "cell_type": "code",
   "execution_count": 41,
   "id": "e577c1a2-0a7a-4758-ae68-ea0233d50ee8",
   "metadata": {},
   "outputs": [],
   "source": [
    "train_df = train_df.withColumnRenamed('building_price', 'label')"
   ]
  },
  {
   "cell_type": "code",
   "execution_count": 42,
   "id": "ce61a09f-9d44-4d2e-9385-5d00cf4e4c98",
   "metadata": {},
   "outputs": [],
   "source": [
    "train_df = train_df.select(\"label\", \"feature\")"
   ]
  },
  {
   "cell_type": "markdown",
   "id": "9862f2b2-a129-456d-b577-0f7df9e3fc0d",
   "metadata": {},
   "source": [
    "## 4-2) 학습 모델"
   ]
  },
  {
   "cell_type": "markdown",
   "id": "c9f10331-b54c-40c3-94ec-971634d35d2a",
   "metadata": {},
   "source": [
    "### 4-2-1) 선형 모델 생성"
   ]
  },
  {
   "cell_type": "code",
   "execution_count": 43,
   "id": "9ffc4399-0c85-458f-8733-12986b64866e",
   "metadata": {},
   "outputs": [
    {
     "data": {
      "text/plain": [
       "LinearRegression_3b508e25fefb"
      ]
     },
     "execution_count": 43,
     "metadata": {},
     "output_type": "execute_result"
    }
   ],
   "source": [
    "lr = LinearRegression(featuresCol = 'feature'\n",
    "                       , labelCol = 'label')\n",
    "\n",
    "lr"
   ]
  },
  {
   "cell_type": "code",
   "execution_count": 44,
   "id": "9943d811-ffa7-4ebc-bc06-fc7fd1c52fa1",
   "metadata": {},
   "outputs": [
    {
     "name": "stderr",
     "output_type": "stream",
     "text": [
      "24/12/19 17:26:55 WARN Instrumentation: [1a66ce89] regParam is zero, which might cause numerical instability and overfitting.\n",
      "24/12/19 17:26:55 WARN BLAS: Failed to load implementation from: com.github.fommil.netlib.NativeSystemBLAS\n",
      "24/12/19 17:26:55 WARN BLAS: Failed to load implementation from: com.github.fommil.netlib.NativeRefBLAS\n",
      "24/12/19 17:27:03 WARN LAPACK: Failed to load implementation from: com.github.fommil.netlib.NativeSystemLAPACK\n",
      "24/12/19 17:27:03 WARN LAPACK: Failed to load implementation from: com.github.fommil.netlib.NativeRefLAPACK\n",
      "                                                                                \r"
     ]
    },
    {
     "data": {
      "text/plain": [
       "LinearRegressionModel: uid=LinearRegression_3b508e25fefb, numFeatures=8"
      ]
     },
     "execution_count": 44,
     "metadata": {},
     "output_type": "execute_result"
    }
   ],
   "source": [
    "lr_model \\\n",
    "= lr.fit(train_df)\n",
    "\n",
    "lr_model"
   ]
  },
  {
   "cell_type": "markdown",
   "id": "130e48a4-326d-4cd7-899a-cda7ab4bdb1a",
   "metadata": {},
   "source": [
    "### 4-2-2) 학습 모델 결과"
   ]
  },
  {
   "cell_type": "code",
   "execution_count": 45,
   "id": "04fa9385-dca5-4a92-9922-22ac4aedb536",
   "metadata": {},
   "outputs": [
    {
     "name": "stdout",
     "output_type": "stream",
     "text": [
      "+------------+--------+--------------+-----------+--------------+-------------+-----+-------------+------+------------------+\n",
      "|jachigu_code|law_code|building_usage|sumbit_year|building_price|building_size|floor|building_year|idx   |prediction        |\n",
      "+------------+--------+--------------+-----------+--------------+-------------+-----+-------------+------+------------------+\n",
      "|11170       |12900   |연립다세대    |2017       |28000.0       |38.81        |3    |1991         |79170 |17443.634895160794|\n",
      "|11170       |12900   |연립다세대    |2017       |40000.0       |36.26        |4    |1971         |26472 |17530.19430470094 |\n",
      "|11170       |12900   |연립다세대    |2017       |40000.0       |47.68        |1    |1971         |169036|24779.612625287846|\n",
      "|11170       |12900   |연립다세대    |2017       |44800.0       |47.07        |1    |1971         |169446|24392.384181141853|\n",
      "|11170       |12900   |연립다세대    |2017       |46000.0       |47.14        |3    |1971         |22710 |24436.819993922487|\n",
      "|11170       |12900   |연립다세대    |2017       |53000.0       |53.98        |2    |1981         |94033 |27926.201934596524|\n",
      "|11170       |12900   |연립다세대    |2017       |110000.0      |77.69        |2    |1983         |120070|42806.783820210025|\n",
      "|11170       |12900   |연립다세대    |2018       |38000.0       |46.12        |-1   |1971         |43362 |30038.3853336405  |\n",
      "|11170       |12900   |연립다세대    |2018       |50000.0       |59.65        |-1   |1971         |287672|38627.23223778047 |\n",
      "|11170       |12900   |연립다세대    |2018       |50000.0       |61.69        |-1   |1970         |252075|40007.48766617477 |\n",
      "|11170       |12900   |연립다세대    |2018       |50200.0       |47.68        |1    |1971         |323562|31028.674350392073|\n",
      "|11170       |12900   |연립다세대    |2018       |50500.0       |76.6         |1    |1971         |213356|49387.091875851154|\n",
      "|11170       |12900   |연립다세대    |2018       |52000.0       |76.6         |4    |1971         |21257 |49387.091875851154|\n",
      "|11170       |12900   |연립다세대    |2018       |54500.0       |33.42        |-1   |1974         |78123 |21720.6284314245  |\n",
      "|11170       |12900   |연립다세대    |2018       |57000.0       |40.5         |2    |1984         |156179|25362.363459896296|\n",
      "|11170       |12900   |연립다세대    |2018       |61000.0       |26.98        |1    |1981         |7141  |17035.661150330678|\n",
      "|11170       |12900   |연립다세대    |2018       |65000.0       |47.68        |1    |1971         |355396|31028.674350392073|\n",
      "|11170       |12900   |연립다세대    |2018       |99500.0       |50.03        |2    |1981         |236853|31667.802808275446|\n",
      "|11170       |12900   |연립다세대    |2019       |63000.0       |46.81        |1    |1972         |308507|36640.19559348747 |\n",
      "|11170       |12900   |연립다세대    |2019       |66000.0       |26.98        |1    |1981         |373022|23284.722875433043|\n",
      "+------------+--------+--------------+-----------+--------------+-------------+-----+-------------+------+------------------+\n",
      "only showing top 20 rows\n",
      "\n"
     ]
    },
    {
     "name": "stderr",
     "output_type": "stream",
     "text": [
      "[Stage 136:=================================================>   (187 + 2) / 200]\r"
     ]
    },
    {
     "name": "stdout",
     "output_type": "stream",
     "text": [
      "+------+--------------+------------------+-------------------+\n",
      "|idx   |building_price|prediction        |gap                |\n",
      "+------+--------------+------------------+-------------------+\n",
      "|219327|970000.0      |2282640.4848247413|-1312640.4848247413|\n",
      "|695371|580000.0      |1882482.4059219435|-1302482.4059219435|\n",
      "|520579|710000.0      |1375267.1010468341|-665267.1010468341 |\n",
      "|593870|480000.0      |1121998.9560471997|-641998.9560471997 |\n",
      "|504208|590000.0      |1224762.2151359618|-634762.2151359618 |\n",
      "|37706 |450000.0      |1070579.0404320005|-620579.0404320005 |\n",
      "|375201|330000.0      |906598.4144523777 |-576598.4144523777 |\n",
      "|600054|350000.0      |880233.7104337048 |-530233.7104337048 |\n",
      "|240281|455000.0      |960206.341527421  |-505206.341527421  |\n",
      "|379094|171000.0      |659100.5426052008 |-488100.5426052008 |\n",
      "|340644|225000.0      |708334.4119393956 |-483334.4119393956 |\n",
      "|529800|250000.0      |727750.9779231548 |-477750.97792315483|\n",
      "|622231|300000.0      |777418.8773826193 |-477418.8773826193 |\n",
      "|385483|1380000.0     |1852500.5745065361|-472500.5745065361 |\n",
      "|493383|254000.0      |710327.7809897047 |-456327.78098970465|\n",
      "|495156|135000.0      |590922.6672071368 |-455922.66720713675|\n",
      "|19561 |336000.0      |789042.0985366814 |-453042.0985366814 |\n",
      "|695079|300000.0      |747976.1645793449 |-447976.1645793449 |\n",
      "|10428 |167000.0      |614894.3365265932 |-447894.3365265932 |\n",
      "|500998|308600.0      |744010.2685061693 |-435410.2685061693 |\n",
      "+------+--------------+------------------+-------------------+\n",
      "only showing top 20 rows\n",
      "\n"
     ]
    },
    {
     "name": "stderr",
     "output_type": "stream",
     "text": [
      "                                                                                \r"
     ]
    }
   ],
   "source": [
    "predictions = lr_model.transform(test_df)\n",
    "predictions.selectExpr(predictions.columns[:-6] + [predictions.columns[-1]]).show(truncate = False)\n",
    "\n",
    "predictions.select('idx', 'building_price', 'prediction')\\\n",
    "            .withColumn('gap', col('building_price') - col('prediction'))\\\n",
    "            .orderBy(col('gap'))\\\n",
    "            .show(truncate = False)"
   ]
  },
  {
   "cell_type": "markdown",
   "id": "635b452f-5d99-4247-874b-2ae56ee243c4",
   "metadata": {},
   "source": [
    "### 4-2-3) 학습 평가"
   ]
  },
  {
   "cell_type": "code",
   "execution_count": 46,
   "id": "f8bb8ae9-370f-404c-82c8-10d2455abd83",
   "metadata": {},
   "outputs": [
    {
     "name": "stderr",
     "output_type": "stream",
     "text": [
      "[Stage 140:===================================================> (193 + 2) / 200]\r"
     ]
    },
    {
     "name": "stdout",
     "output_type": "stream",
     "text": [
      "Root Mean Squared Error (RMSE): 60297.65992143047\n"
     ]
    },
    {
     "name": "stderr",
     "output_type": "stream",
     "text": [
      "                                                                                \r"
     ]
    }
   ],
   "source": [
    "evaluator = RegressionEvaluator(\n",
    "    labelCol=\"building_price\",\n",
    "    predictionCol=\"prediction\",\n",
    "    metricName=\"rmse\"  # Root Mean Squared Error\n",
    ")\n",
    "rmse = evaluator.evaluate(predictions)\n",
    "print(f\"Root Mean Squared Error (RMSE): {rmse}\")\n"
   ]
  },
  {
   "cell_type": "code",
   "execution_count": 47,
   "id": "021305d1-dd68-4f0e-abe1-5e21df78e9da",
   "metadata": {},
   "outputs": [
    {
     "name": "stderr",
     "output_type": "stream",
     "text": [
      "[Stage 145:====================================================>(197 + 2) / 200]\r"
     ]
    },
    {
     "name": "stdout",
     "output_type": "stream",
     "text": [
      "R-squared (R²): 0.433095200846465\n"
     ]
    },
    {
     "name": "stderr",
     "output_type": "stream",
     "text": [
      "                                                                                \r"
     ]
    }
   ],
   "source": [
    "evaluator = RegressionEvaluator(labelCol=\"building_price\", predictionCol=\"prediction\", metricName=\"r2\")\n",
    "r2 = evaluator.evaluate(predictions)\n",
    "print(f\"R-squared (R²): {r2}\")\n"
   ]
  },
  {
   "cell_type": "code",
   "execution_count": 48,
   "id": "9a150239-33ca-4b79-88da-a77a652846e6",
   "metadata": {},
   "outputs": [
    {
     "name": "stderr",
     "output_type": "stream",
     "text": [
      "[Stage 150:===================================================> (194 + 3) / 200]\r"
     ]
    },
    {
     "name": "stdout",
     "output_type": "stream",
     "text": [
      "Mean Absolute Error (MAE): 25759.766987465446\n"
     ]
    },
    {
     "name": "stderr",
     "output_type": "stream",
     "text": [
      "                                                                                \r"
     ]
    }
   ],
   "source": [
    "evaluator = RegressionEvaluator(labelCol=\"building_price\", predictionCol=\"prediction\", metricName=\"mae\")\n",
    "mae = evaluator.evaluate(predictions)\n",
    "print(f\"Mean Absolute Error (MAE): {mae}\")\n"
   ]
  },
  {
   "cell_type": "code",
   "execution_count": 49,
   "id": "eb4909ae-9a03-4267-b97f-a8a25414d444",
   "metadata": {},
   "outputs": [
    {
     "name": "stdout",
     "output_type": "stream",
     "text": [
      "Coefficients: [-27.24196973054434,453.88212381213884,4099.242069980269,41034.26455788227,5306.44469057298,6249.0617251036365,634.8000929396344,-85.26507918956356]\n",
      "Intercept: -12459357.94902529\n"
     ]
    }
   ],
   "source": [
    "print(\"Coefficients: \" + str(lr_model.coefficients))\n",
    "print(\"Intercept: \" + str(lr_model.intercept))\n"
   ]
  },
  {
   "cell_type": "markdown",
   "id": "6e3bba41-0b26-4b51-9ffa-783625057468",
   "metadata": {},
   "source": [
    "### 4-2-4) 학습 결과"
   ]
  },
  {
   "cell_type": "markdown",
   "id": "096907a0-2ad9-44fb-a0a8-279334319a1c",
   "metadata": {},
   "source": [
    "굉장히 좋지 못한 성능인 것 같으며, 여러 요인을 feature에 담거나 모델 개선이 필요하다"
   ]
  },
  {
   "cell_type": "markdown",
   "id": "22ed1511-bb2e-40b3-a423-bed1dd3ba5fe",
   "metadata": {},
   "source": [
    "# 5. 학습 예측값 DB 저장"
   ]
  },
  {
   "cell_type": "code",
   "execution_count": 71,
   "id": "5180f8a5-5297-42b0-ac5a-2e197a3a5b85",
   "metadata": {},
   "outputs": [
    {
     "name": "stderr",
     "output_type": "stream",
     "text": [
      "                                                                                \r"
     ]
    }
   ],
   "source": [
    "predictions.select('idx', 'prediction')\\\n",
    "    .write.format('jdbc')\\\n",
    "    .options(\n",
    "        url = mysql_url\n",
    "        , driver = 'com.mysql.jdbc.Driver'\n",
    "        , dbtable = 'lg_prediction'\n",
    "        , user = user_id\n",
    "        , password = user_password\n",
    "            )\\\n",
    "    .mode('append')\\\n",
    "    .save()"
   ]
  },
  {
   "cell_type": "code",
   "execution_count": 192,
   "id": "4042b2a3-c70f-4e71-9865-a40ca592083f",
   "metadata": {},
   "outputs": [],
   "source": [
    "ss.stop()"
   ]
  }
 ],
 "metadata": {
  "kernelspec": {
   "display_name": "Python (spark_start)",
   "language": "python",
   "name": "spark_start"
  },
  "language_info": {
   "codemirror_mode": {
    "name": "ipython",
    "version": 3
   },
   "file_extension": ".py",
   "mimetype": "text/x-python",
   "name": "python",
   "nbconvert_exporter": "python",
   "pygments_lexer": "ipython3",
   "version": "3.8.20"
  }
 },
 "nbformat": 4,
 "nbformat_minor": 5
}
