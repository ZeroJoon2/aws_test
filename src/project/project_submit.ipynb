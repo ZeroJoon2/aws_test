{
 "cells": [
  {
   "cell_type": "markdown",
   "id": "dfcb5876-56aa-4334-81c8-4b569255d060",
   "metadata": {},
   "source": [
    "# 1. 개발환경 구성"
   ]
  },
  {
   "cell_type": "markdown",
   "id": "fa15f3d5-a9c0-4f44-af3c-1d01f368e1c4",
   "metadata": {},
   "source": [
    "## 1-1) 라이브러리 가져오기"
   ]
  },
  {
   "cell_type": "code",
   "execution_count": 73,
   "id": "430dd179-36b3-4338-a11b-90f080a3046f",
   "metadata": {},
   "outputs": [],
   "source": [
    "# os, 환경변수 관련\n",
    "import os\n",
    "from dotenv import load_dotenv\n",
    "\n",
    "# pyspark session 생성\n",
    "from pyspark.sql import SparkSession\n",
    "from pyspark.sql.functions import isnan, col, when, sum, round, mean, lit, concat\n",
    "\n",
    "# pyspark 학습 준비\n",
    "from pyspark.ml.feature import StringIndexer, OneHotEncoder, VectorAssembler\n",
    "\n",
    "# pyspark 학습\n",
    "from pyspark.ml.regression import LinearRegression\n",
    "\n",
    "# pyspark 모델 평가\n",
    "from pyspark.ml.evaluation import RegressionEvaluator\n"
   ]
  },
  {
   "cell_type": "markdown",
   "id": "11c3ae86-f418-43b7-a175-747e8f8081d2",
   "metadata": {},
   "source": [
    "## 1-2) 환경변수 설정"
   ]
  },
  {
   "cell_type": "code",
   "execution_count": 3,
   "id": "cee071b0-eeda-4673-9b93-bf0c2cbe05f3",
   "metadata": {},
   "outputs": [],
   "source": [
    "load_dotenv()\n",
    "\n",
    "host_ip = os.getenv('host_ip')\n",
    "DATABASE = os.getenv('DATABASE')\n",
    "user_id = os.getenv('user_id')\n",
    "user_password = os.getenv('user_password')\n",
    "\n",
    "# 환경변수 설정\n",
    "os.environ['PYSPARK_SUBMIT_ARGS'] = '--jars /usr/local/lib/mysql-connector-java-5.1.49-bin.jar pyspark-shell'"
   ]
  },
  {
   "cell_type": "markdown",
   "id": "43b9d7cf-fc2e-4111-9862-e7407280b5ef",
   "metadata": {},
   "source": [
    "## 1-3) spark session 생성"
   ]
  },
  {
   "cell_type": "code",
   "execution_count": 4,
   "id": "9f2f45b9-bc3a-47ac-9359-e2b8b977a67c",
   "metadata": {},
   "outputs": [
    {
     "name": "stderr",
     "output_type": "stream",
     "text": [
      "24/12/19 15:27:57 WARN NativeCodeLoader: Unable to load native-hadoop library for your platform... using builtin-java classes where applicable\n",
      "Using Spark's default log4j profile: org/apache/spark/log4j-defaults.properties\n",
      "Setting default log level to \"WARN\".\n",
      "To adjust logging level use sc.setLogLevel(newLevel). For SparkR, use setLogLevel(newLevel).\n",
      "24/12/19 15:27:59 WARN Utils: Service 'SparkUI' could not bind on port 4040. Attempting port 4041.\n"
     ]
    }
   ],
   "source": [
    "ss = SparkSession\\\n",
    "            .builder\\\n",
    "            .appName('MySQL')\\\n",
    "            .config('spark.executor.memory', '6g')\\\n",
    "            .config('spark.driver.memory', '6g')\\\n",
    "            .getOrCreate()"
   ]
  },
  {
   "cell_type": "markdown",
   "id": "c63ae8fe-acda-4683-8433-48609d97b28b",
   "metadata": {},
   "source": [
    "## 1-4) MySQL 연결 및 데이터 가져오기"
   ]
  },
  {
   "cell_type": "code",
   "execution_count": 5,
   "id": "5016da9c-fd3a-43fc-86fc-765ee9e7a360",
   "metadata": {},
   "outputs": [],
   "source": [
    "mysql_url = f'jdbc:mysql://{host_ip}:3306/{DATABASE}?useSSL=false'"
   ]
  },
  {
   "cell_type": "code",
   "execution_count": 6,
   "id": "8f33c852-bef7-4f9e-8d3e-8d1d49946f15",
   "metadata": {
    "scrolled": true
   },
   "outputs": [
    {
     "name": "stderr",
     "output_type": "stream",
     "text": [
      "[Stage 0:>                                                          (0 + 1) / 1]\r"
     ]
    },
    {
     "name": "stdout",
     "output_type": "stream",
     "text": [
      "+--------+----------+--------+----------+--------+--------+----------+----+----+-------------------+-------------+-----------+-----------+---+--------+------+--------+----------+--------+--------------------+-----------+---+\n",
      "|접수연도|자치구코드|자치구명|법정동코드|법정동명|지번구분|지번구분명|본번|부번|             건물명|물건금액_만원|건물면적_m2|토지면적_m2| 층|권리구분|취소일|건축년도|  건물용도|신고구분|신고_공인중개사_지역|계약일_DATE|idx|\n",
      "+--------+----------+--------+----------+--------+--------+----------+----+----+-------------------+-------------+-----------+-----------+---+--------+------+--------+----------+--------+--------------------+-----------+---+\n",
      "|    2017|     11710|  송파구|     10500|  석촌동|       1|      대지|0282|0000|           은하빌라|        42000|      73.12|         36|  3|        |      |    2004|연립다세대|        |                    | 2017-08-08|  1|\n",
      "|    2017|     11560|영등포구|     13200|  신길동|        |          |    |    |                   |        60000|     127.44|         86|   |        |      |    1992|단독다가구|        |                    | 2017-08-08|  2|\n",
      "|    2017|     11230|동대문구|     10600|  장안동|       1|      대지|0336|0000|장안현대홈타운(336)|        52200|      84.87|          0| 15|        |      |    2003|    아파트|        |                    | 2017-08-08|  3|\n",
      "|    2017|     11590|  동작구|     10200|  상도동|        |          |    |    |                   |        69000|       76.4|        198|   |        |      |    1974|단독다가구|        |                    | 2017-08-08|  4|\n",
      "|    2017|     11500|  강서구|     10300|  화곡동|       1|      대지|0330|0043|         예지빌라트|         9000|      34.68|      26.63|  1|        |      |    2007|연립다세대|        |                    | 2017-08-08|  5|\n",
      "|    2017|     11380|  은평구|     10500|  구산동|        |          |    |    |                   |        58500|     165.51|      111.1|   |        |      |    1991|단독다가구|        |                    | 2017-08-08|  6|\n",
      "|    2017|     11320|  도봉구|     10500|  쌍문동|       1|      대지|0732|0000| 북한산코오롱하늘채|        45000|      84.98|          0|  6|        |      |    2014|    아파트|        |                    | 2017-03-21|  7|\n",
      "|    2017|     11320|  도봉구|     10500|  쌍문동|       1|      대지|0486|0018|       우이그린빌라|        19900|       64.8|      74.55|  2|        |      |    1986|연립다세대|        |                    | 2017-03-21|  8|\n",
      "|    2017|     11500|  강서구|     10600|내발산동|       1|      대지|0667|0000|        문성빌라3차|        26100|       62.9|      30.53|  3|        |      |    1997|연립다세대|        |                    | 2017-03-21|  9|\n",
      "|    2017|     11410|서대문구|     11100|  홍제동|       1|      대지|0360|0066|           우성빌라|        21600|      61.72|      31.88|  2|        |      |    1994|연립다세대|        |                    | 2017-03-21| 10|\n",
      "+--------+----------+--------+----------+--------+--------+----------+----+----+-------------------+-------------+-----------+-----------+---+--------+------+--------+----------+--------+--------------------+-----------+---+\n",
      "only showing top 10 rows\n",
      "\n"
     ]
    },
    {
     "name": "stderr",
     "output_type": "stream",
     "text": [
      "                                                                                \r"
     ]
    }
   ],
   "source": [
    "df_tbAPTPrice = ss.read.format('jdbc')\\\n",
    "            .options(\n",
    "                url = mysql_url\n",
    "                , driver = 'com.mysql.jdbc.Driver'\n",
    "                , dbtable = 'tbAPTPrice'\n",
    "                , user = user_id\n",
    "                , password = user_password\n",
    "                    )\\\n",
    "        .load()\n",
    "\n",
    "df_tbAPTPrice.show(10)"
   ]
  },
  {
   "cell_type": "code",
   "execution_count": 7,
   "id": "38921e38-527d-445f-bd6a-c6337077c048",
   "metadata": {
    "scrolled": true
   },
   "outputs": [
    {
     "name": "stdout",
     "output_type": "stream",
     "text": [
      "+----------+----------------+\n",
      "|      date|BaseInterestRate|\n",
      "+----------+----------------+\n",
      "|2024-11-28|               3|\n",
      "|2024-10-11|            3.25|\n",
      "|2023-01-13|             3.5|\n",
      "|2022-11-24|            3.25|\n",
      "|2022-10-12|               3|\n",
      "|2022-08-25|             2.5|\n",
      "|2022-07-13|            2.25|\n",
      "|2022-05-26|            1.75|\n",
      "|2022-04-14|             1.5|\n",
      "|2022-01-14|            1.25|\n",
      "+----------+----------------+\n",
      "only showing top 10 rows\n",
      "\n"
     ]
    }
   ],
   "source": [
    "df_tbBaseInterestRate = ss.read.format('jdbc')\\\n",
    "            .options(\n",
    "                url = mysql_url\n",
    "                , driver = 'com.mysql.jdbc.Driver'\n",
    "                , dbtable = 'tbBaseInterestRate'\n",
    "                , user = user_id\n",
    "                , password = user_password\n",
    "                    )\\\n",
    "        .load()\n",
    "\n",
    "df_tbBaseInterestRate.show(10)"
   ]
  },
  {
   "cell_type": "markdown",
   "id": "84782f01-7a6c-404b-816b-23c2b8e23a4d",
   "metadata": {},
   "source": [
    "## 1-5. 데이터 확인"
   ]
  },
  {
   "cell_type": "code",
   "execution_count": 8,
   "id": "54bb5c71-6a49-4314-8b44-d4e7393ac318",
   "metadata": {},
   "outputs": [
    {
     "name": "stdout",
     "output_type": "stream",
     "text": [
      "root\n",
      " |-- 접수연도: string (nullable = true)\n",
      " |-- 자치구코드: string (nullable = true)\n",
      " |-- 자치구명: string (nullable = true)\n",
      " |-- 법정동코드: string (nullable = true)\n",
      " |-- 법정동명: string (nullable = true)\n",
      " |-- 지번구분: string (nullable = true)\n",
      " |-- 지번구분명: string (nullable = true)\n",
      " |-- 본번: string (nullable = true)\n",
      " |-- 부번: string (nullable = true)\n",
      " |-- 건물명: string (nullable = true)\n",
      " |-- 물건금액_만원: string (nullable = true)\n",
      " |-- 건물면적_m2: string (nullable = true)\n",
      " |-- 토지면적_m2: string (nullable = true)\n",
      " |-- 층: string (nullable = true)\n",
      " |-- 권리구분: string (nullable = true)\n",
      " |-- 취소일: string (nullable = true)\n",
      " |-- 건축년도: string (nullable = true)\n",
      " |-- 건물용도: string (nullable = true)\n",
      " |-- 신고구분: string (nullable = true)\n",
      " |-- 신고_공인중개사_지역: string (nullable = true)\n",
      " |-- 계약일_DATE: string (nullable = true)\n",
      " |-- idx: integer (nullable = true)\n",
      "\n",
      "root\n",
      " |-- date: date (nullable = true)\n",
      " |-- BaseInterestRate: string (nullable = true)\n",
      "\n"
     ]
    },
    {
     "data": {
      "text/plain": [
       "(None, None)"
      ]
     },
     "execution_count": 8,
     "metadata": {},
     "output_type": "execute_result"
    }
   ],
   "source": [
    "df_tbAPTPrice.printSchema(), df_tbBaseInterestRate.printSchema()"
   ]
  },
  {
   "cell_type": "code",
   "execution_count": 9,
   "id": "9ba60454-6d00-4ee2-b509-1b895df0eb00",
   "metadata": {},
   "outputs": [
    {
     "name": "stderr",
     "output_type": "stream",
     "text": [
      "                                                                                \r"
     ]
    },
    {
     "data": {
      "text/plain": [
       "856311"
      ]
     },
     "execution_count": 9,
     "metadata": {},
     "output_type": "execute_result"
    }
   ],
   "source": [
    "df_tbAPTPrice.persist()\n",
    "df_tbBaseInterestRate.persist()\n",
    "df_tbAPTPrice.count()"
   ]
  },
  {
   "cell_type": "markdown",
   "id": "46c0987f-7013-4dcf-8347-2df8eabda50e",
   "metadata": {},
   "source": [
    "# 2. 전처리"
   ]
  },
  {
   "cell_type": "markdown",
   "id": "0a6396b7-a9bd-4d5f-827b-822cffed485a",
   "metadata": {},
   "source": [
    "## 2-1) 컬럼 이름 영문화"
   ]
  },
  {
   "cell_type": "code",
   "execution_count": 10,
   "id": "105de155-2fd3-484e-96c4-421d802446c7",
   "metadata": {
    "scrolled": true
   },
   "outputs": [
    {
     "data": {
      "text/plain": [
       "['sumbit_year',\n",
       " 'jachigu_code',\n",
       " 'jachigu_name',\n",
       " 'law_code',\n",
       " 'law_name',\n",
       " 'jibun_gubun',\n",
       " 'jibun_name',\n",
       " 'real_num',\n",
       " 'extra_num',\n",
       " 'building_name',\n",
       " 'building_price',\n",
       " 'building_size',\n",
       " 'land_size',\n",
       " 'floor',\n",
       " 'right_gubun',\n",
       " 'cancel_date',\n",
       " 'building_year',\n",
       " 'building_usage',\n",
       " 'singo_gubun',\n",
       " 'agent_area',\n",
       " 'contract_date',\n",
       " 'idx']"
      ]
     },
     "execution_count": 10,
     "metadata": {},
     "output_type": "execute_result"
    }
   ],
   "source": [
    "renamed_columns = ['sumbit_year', 'jachigu_code', 'jachigu_name', 'law_code', 'law_name', 'jibun_gubun', 'jibun_name', 'real_num', 'extra_num', 'building_name', 'building_price', 'building_size', 'land_size', 'floor', 'right_gubun', 'cancel_date', 'building_year', 'building_usage', 'singo_gubun', 'agent_area',  'contract_date', 'idx']\n",
    "\n",
    "if len(df_tbAPTPrice.columns) == len(renamed_columns):\n",
    "    renamed_columns_dict = {i : j for i,j in zip(df_tbAPTPrice.columns, renamed_columns)}\n",
    "\n",
    "for num, i in enumerate(df_tbAPTPrice.columns):\n",
    "    if i == list(renamed_columns_dict.keys())[num]:\n",
    "        df_tbAPTPrice = df_tbAPTPrice.withColumnRenamed(i, list(renamed_columns_dict.values())[num])\n",
    "\n",
    "df_tbAPTPrice.columns"
   ]
  },
  {
   "cell_type": "markdown",
   "id": "ab1b168c-7651-4d70-83e7-a303ab106569",
   "metadata": {},
   "source": [
    "## 2-2) 불필요한 컬럼 삭제"
   ]
  },
  {
   "cell_type": "code",
   "execution_count": 11,
   "id": "b30ade18-3e5e-4750-8ff2-c9117ec4cd97",
   "metadata": {},
   "outputs": [
    {
     "name": "stdout",
     "output_type": "stream",
     "text": [
      "root\n",
      " |-- sumbit_year: string (nullable = true)\n",
      " |-- jachigu_code: string (nullable = true)\n",
      " |-- jachigu_name: string (nullable = true)\n",
      " |-- law_code: string (nullable = true)\n",
      " |-- law_name: string (nullable = true)\n",
      " |-- jibun_gubun: string (nullable = true)\n",
      " |-- jibun_name: string (nullable = true)\n",
      " |-- building_name: string (nullable = true)\n",
      " |-- building_price: string (nullable = true)\n",
      " |-- building_size: string (nullable = true)\n",
      " |-- floor: string (nullable = true)\n",
      " |-- building_year: string (nullable = true)\n",
      " |-- building_usage: string (nullable = true)\n",
      " |-- idx: integer (nullable = true)\n",
      "\n"
     ]
    }
   ],
   "source": [
    "df_tbAPTPrice = \\\n",
    "df_tbAPTPrice.drop('real_num'\n",
    "                   , 'extra_num'\n",
    "                   , 'land_size'\n",
    "                   , 'right_gubun'\n",
    "                   , 'cancel_date'\n",
    "                   , 'singo_gubun'\n",
    "                   , 'agent_area'\n",
    "                   , 'contract_date')\n",
    "\n",
    "df_tbAPTPrice.printSchema()"
   ]
  },
  {
   "cell_type": "markdown",
   "id": "b67b8ace-f66d-40b1-8b37-1770a9e0da89",
   "metadata": {},
   "source": [
    "## 2-3) 결측치, 이상치 확인"
   ]
  },
  {
   "cell_type": "markdown",
   "id": "b59806dd-479f-475f-aeb1-2c499bda58d9",
   "metadata": {},
   "source": [
    "### 2-3-1) 결측치(NULL) 확인"
   ]
  },
  {
   "cell_type": "code",
   "execution_count": 12,
   "id": "eca90c9b-a055-4594-b2ed-d4140771380c",
   "metadata": {
    "scrolled": true
   },
   "outputs": [
    {
     "name": "stderr",
     "output_type": "stream",
     "text": [
      "                                                                                \r"
     ]
    },
    {
     "data": {
      "text/plain": [
       "{'sumbit_year_nulls': 0,\n",
       " 'jachigu_code_nulls': 0,\n",
       " 'jachigu_name_nulls': 0,\n",
       " 'law_code_nulls': 0,\n",
       " 'law_name_nulls': 0,\n",
       " 'jibun_gubun_nulls': 0,\n",
       " 'jibun_name_nulls': 0,\n",
       " 'building_name_nulls': 0,\n",
       " 'building_price_nulls': 0,\n",
       " 'building_size_nulls': 0,\n",
       " 'floor_nulls': 0,\n",
       " 'building_year_nulls': 3711,\n",
       " 'building_usage_nulls': 0,\n",
       " 'idx_nulls': 0}"
      ]
     },
     "execution_count": 12,
     "metadata": {},
     "output_type": "execute_result"
    }
   ],
   "source": [
    "tmp = df_tbAPTPrice.select(\n",
    "        [sum(\n",
    "            when(\n",
    "                col(i).isNull() | isnan(i),1)\\\n",
    "            .otherwise(0)\n",
    "            )\\\n",
    "            .alias(i + '_nulls') for i in df_tbAPTPrice.columns\n",
    "        ]\n",
    "    ).collect()\n",
    "    \n",
    "tmp[0].asDict()"
   ]
  },
  {
   "cell_type": "code",
   "execution_count": 13,
   "id": "61f43741-555d-4a0c-8eed-05d5899eeb9a",
   "metadata": {
    "scrolled": true
   },
   "outputs": [
    {
     "name": "stdout",
     "output_type": "stream",
     "text": [
      "+-----------+------------+------------+--------+---------+-----------+----------+-------------------+--------------+-------------+-----+-------------+--------------+----+\n",
      "|sumbit_year|jachigu_code|jachigu_name|law_code| law_name|jibun_gubun|jibun_name|      building_name|building_price|building_size|floor|building_year|building_usage| idx|\n",
      "+-----------+------------+------------+--------+---------+-----------+----------+-------------------+--------------+-------------+-----+-------------+--------------+----+\n",
      "|       2017|       11500|      강서구|   10300|   화곡동|          1|      대지|         남광아파트|         18000|        51.89|   14|         null|      오피스텔| 142|\n",
      "|       2017|       11500|      강서구|   10300|   화곡동|          1|      대지|         남광아파트|         18000|        51.89|   10|         null|      오피스텔|1233|\n",
      "|       2017|       11200|      성동구|   11400|성수동1가|           |          |                   |         75000|       128.51|     |         null|    단독다가구|2346|\n",
      "|       2017|       11500|      강서구|   10300|   화곡동|          1|      대지|         남광아파트|         21000|        47.93|   14|         null|      오피스텔|2662|\n",
      "|       2017|       11500|      강서구|   10300|   화곡동|          1|      대지|         남광아파트|         21000|        47.93|   13|         null|      오피스텔|2840|\n",
      "|       2017|       11230|    동대문구|   10200|   용두동|          1|      대지|동대문 푸르지오시티|         15800|        23.47|    3|         null|      오피스텔|4346|\n",
      "|       2017|       11320|      도봉구|   10700|     창동|          1|      대지|북한산팰리스(601동)|         22900|         59.6|    2|         null|      오피스텔|4443|\n",
      "|       2017|       11440|      마포구|   10300| 신공덕동|          1|      대지|      갑을명가시티1|         15500|        19.73|   13|         null|      오피스텔|4815|\n",
      "|       2017|       11710|      송파구|   10500|   석촌동|          1|      대지|석촌호수 나인파크 A|         27666|        19.34|   21|         null|      오피스텔|6150|\n",
      "|       2017|       11440|      마포구|   10200|   공덕동|          1|      대지|  에스테반 오피스텔|         13000|        18.83|    5|         null|      오피스텔|6297|\n",
      "+-----------+------------+------------+--------+---------+-----------+----------+-------------------+--------------+-------------+-----+-------------+--------------+----+\n",
      "only showing top 10 rows\n",
      "\n"
     ]
    }
   ],
   "source": [
    "df_tbAPTPrice.selectExpr('*')\\\n",
    "                .where('building_year is NULL')\\\n",
    "                .show(10)"
   ]
  },
  {
   "cell_type": "code",
   "execution_count": 14,
   "id": "0a05d862-be39-4d03-ac3c-b4a17a1258e3",
   "metadata": {},
   "outputs": [
    {
     "name": "stderr",
     "output_type": "stream",
     "text": [
      "[Stage 7:>                                                          (0 + 1) / 1]\r"
     ]
    },
    {
     "name": "stdout",
     "output_type": "stream",
     "text": [
      "+------------+--------+--------------+-----------------+\n",
      "|jachigu_code|law_code|building_usage|avg_building_year|\n",
      "+------------+--------+--------------+-----------------+\n",
      "|       11560|   11100|    단독다가구|             1982|\n",
      "|       11230|   10900|        아파트|             1771|\n",
      "|       11530|   10700|        아파트|             1983|\n",
      "|       11200|   11500|        아파트|             2002|\n",
      "|       11440|   11500|      오피스텔|             2003|\n",
      "|       11560|   12900|    연립다세대|             2014|\n",
      "|       11200|   12200|    연립다세대|             2013|\n",
      "|       11545|   10300|      오피스텔|             2016|\n",
      "|       11680|   11400|    연립다세대|             2000|\n",
      "|       11170|   12900|    연립다세대|             1976|\n",
      "+------------+--------+--------------+-----------------+\n",
      "only showing top 10 rows\n",
      "\n"
     ]
    },
    {
     "name": "stderr",
     "output_type": "stream",
     "text": [
      "                                                                                \r"
     ]
    }
   ],
   "source": [
    "# 자치구, 법정동, 건물용도별 평균 값의 정수 부분을 건물연식으로 넣어주자\n",
    "# 주택은 한 두 군데만 짓기보단 마을, 단지별로 싹 착공, 재건축하니, 비슷한 지역의 비슷한 매물이 비슷한 연식일 것이라는 가정\n",
    "tmp_df = df_tbAPTPrice.withColumn('building_year', col('building_year').cast('double'))\\\n",
    "            .groupby('jachigu_code', 'law_code', 'building_usage')\\\n",
    "            .agg(mean('building_year').alias('avg_building_year'))\\\n",
    "            .withColumn('avg_building_year', col('avg_building_year').cast('int'))\n",
    "            \n",
    "tmp_df.show(10)"
   ]
  },
  {
   "cell_type": "code",
   "execution_count": 15,
   "id": "690611a7-2696-4d4e-98cd-4466f06f244a",
   "metadata": {
    "scrolled": true
   },
   "outputs": [],
   "source": [
    "df_tbAPTPrice = df_tbAPTPrice.join(tmp_df, on = ['jachigu_code', 'law_code', 'building_usage'], how = 'left')\\\n",
    "                            .withColumn('building_year'\n",
    "                                          , when(col('building_year').isNull(), col('avg_building_year'))\\\n",
    "                           .otherwise(col('building_year'))\n",
    "                                        )\\\n",
    "                            .persist()\n"
   ]
  },
  {
   "cell_type": "code",
   "execution_count": 16,
   "id": "53b51d93-a822-423b-8ab6-d3befe870d5a",
   "metadata": {
    "scrolled": true
   },
   "outputs": [
    {
     "name": "stderr",
     "output_type": "stream",
     "text": [
      "[Stage 23:==================================================>     (67 + 2) / 75]\r"
     ]
    },
    {
     "name": "stdout",
     "output_type": "stream",
     "text": [
      "+------------+--------+--------------+-----------+------------+--------+-----------+----------+-------------+--------------+-------------+-----+-------------+---+-----------------+\n",
      "|jachigu_code|law_code|building_usage|sumbit_year|jachigu_name|law_name|jibun_gubun|jibun_name|building_name|building_price|building_size|floor|building_year|idx|avg_building_year|\n",
      "+------------+--------+--------------+-----------+------------+--------+-----------+----------+-------------+--------------+-------------+-----+-------------+---+-----------------+\n",
      "+------------+--------+--------------+-----------+------------+--------+-----------+----------+-------------+--------------+-------------+-----+-------------+---+-----------------+\n",
      "\n"
     ]
    },
    {
     "name": "stderr",
     "output_type": "stream",
     "text": [
      "                                                                                \r"
     ]
    }
   ],
   "source": [
    "df_tbAPTPrice.selectExpr('*')\\\n",
    "                .where('building_year is NULL')\\\n",
    "                .show(10)"
   ]
  },
  {
   "cell_type": "code",
   "execution_count": 17,
   "id": "d2d53c8b-ca26-4371-af92-624c1dd9545f",
   "metadata": {},
   "outputs": [],
   "source": [
    "# 임시 뷰 만들어놓기\n",
    "df_tbAPTPrice.createOrReplaceTempView('tmp_view')"
   ]
  },
  {
   "cell_type": "markdown",
   "id": "27bef423-9402-4169-9d18-7447cde3d458",
   "metadata": {},
   "source": [
    "### 2-3-2) 0인 값 확인 및 처리"
   ]
  },
  {
   "cell_type": "code",
   "execution_count": 18,
   "id": "e157974a-d4b5-4a68-ac44-46dc6a19c422",
   "metadata": {},
   "outputs": [
    {
     "name": "stderr",
     "output_type": "stream",
     "text": [
      "                                                                                \r"
     ]
    },
    {
     "data": {
      "text/plain": [
       "{'jachigu_code_0': 0,\n",
       " 'law_code_0': 0,\n",
       " 'building_usage_0': 0,\n",
       " 'sumbit_year_0': 0,\n",
       " 'jachigu_name_0': 0,\n",
       " 'law_name_0': 0,\n",
       " 'jibun_gubun_0': 0,\n",
       " 'jibun_name_0': 0,\n",
       " 'building_name_0': 26,\n",
       " 'building_price_0': 0,\n",
       " 'building_size_0': 0,\n",
       " 'floor_0': 3,\n",
       " 'building_year_0': 16513,\n",
       " 'idx_0': 0,\n",
       " 'avg_building_year_0': 38}"
      ]
     },
     "execution_count": 18,
     "metadata": {},
     "output_type": "execute_result"
    }
   ],
   "source": [
    "tmp = df_tbAPTPrice.select(\n",
    "        [sum(\n",
    "            when(\n",
    "                col(i) == 0 ,1)\\\n",
    "            .otherwise(0)\n",
    "            )\\\n",
    "            .alias(i + '_0') for i in df_tbAPTPrice.columns\n",
    "        ]\n",
    "    ).collect()\n",
    "    \n",
    "tmp[0].asDict()"
   ]
  },
  {
   "cell_type": "markdown",
   "id": "6b47e457-9392-444b-b796-49dab673cd2c",
   "metadata": {},
   "source": [
    "#### 2-3-2-가) building_year가 0인 경우 처리"
   ]
  },
  {
   "cell_type": "code",
   "execution_count": 19,
   "id": "a0cb2dd6-8bac-4d99-9780-0a9a39fb26fe",
   "metadata": {},
   "outputs": [
    {
     "name": "stderr",
     "output_type": "stream",
     "text": [
      "[Stage 30:==========================================>           (158 + 2) / 200]\r"
     ]
    },
    {
     "name": "stdout",
     "output_type": "stream",
     "text": [
      "+--------------------+\n",
      "|count(building_year)|\n",
      "+--------------------+\n",
      "|               16513|\n",
      "+--------------------+\n",
      "\n"
     ]
    },
    {
     "name": "stderr",
     "output_type": "stream",
     "text": [
      "                                                                                \r"
     ]
    }
   ],
   "source": [
    "ss.sql('''\n",
    "        SELECT\n",
    "            count(building_year)\n",
    "        FROM tmp_view\n",
    "        WHERE building_year = 0\n",
    "''')\\\n",
    ".show()\n"
   ]
  },
  {
   "cell_type": "code",
   "execution_count": 20,
   "id": "5e33e98e-712e-4fc4-b8eb-7d0626dfdd17",
   "metadata": {},
   "outputs": [],
   "source": [
    "df_tbAPTPrice = df_tbAPTPrice.join(tmp_df, on = ['jachigu_code', 'law_code', 'building_usage'], how = 'left')\\\n",
    "                            .withColumn('building_year'\n",
    "                                          , when(col('building_year') ==0, 'avg_building_year')\\\n",
    "                           .otherwise(col('building_year'))\n",
    "                                        )\\\n",
    "                            .persist()\n",
    "                   "
   ]
  },
  {
   "cell_type": "code",
   "execution_count": 21,
   "id": "aa2a1465-b318-466d-a7f1-893dc748bb5d",
   "metadata": {},
   "outputs": [
    {
     "name": "stderr",
     "output_type": "stream",
     "text": [
      "[Stage 51:=====================================================>  (71 + 2) / 75]\r"
     ]
    },
    {
     "name": "stdout",
     "output_type": "stream",
     "text": [
      "+------------+--------+-------------+\n",
      "|jachigu_name|law_name|building_name|\n",
      "+------------+--------+-------------+\n",
      "+------------+--------+-------------+\n",
      "\n"
     ]
    },
    {
     "name": "stderr",
     "output_type": "stream",
     "text": [
      "                                                                                \r"
     ]
    }
   ],
   "source": [
    "df_tbAPTPrice.filter(col('building_year') == 0)\\\n",
    "            .select('jachigu_name', 'law_name', 'building_name')\\\n",
    "            .show()"
   ]
  },
  {
   "cell_type": "code",
   "execution_count": 22,
   "id": "2a0fe37a-e731-4d7c-9a62-18176ccb76ce",
   "metadata": {},
   "outputs": [
    {
     "data": {
      "text/plain": [
       "DataFrame[jachigu_code: string, law_code: string, building_usage: string, sumbit_year: string, jachigu_name: string, law_name: string, jibun_gubun: string, jibun_name: string, building_name: string, building_price: string, building_size: string, floor: string, building_year: string, idx: int]"
      ]
     },
     "execution_count": 22,
     "metadata": {},
     "output_type": "execute_result"
    }
   ],
   "source": [
    "df_tbAPTPrice = df_tbAPTPrice.drop('avg_building_year')\n",
    "df_tbAPTPrice.persist()"
   ]
  },
  {
   "cell_type": "markdown",
   "id": "08666456-2664-431a-929c-c04860a69a6b",
   "metadata": {},
   "source": [
    "#### 2-3-2-나) building_name이 0인 경우 처리"
   ]
  },
  {
   "cell_type": "code",
   "execution_count": 23,
   "id": "ef21455f-c3b4-4b80-8f42-a1e27b2c5689",
   "metadata": {},
   "outputs": [
    {
     "name": "stdout",
     "output_type": "stream",
     "text": [
      "+------------+--------+--------------+-----------------+-------------+-------------------+------------------+\n",
      "|jachigu_code|law_code|building_usage|max(jachigu_name)|max(law_name)|max(building_usage)|max(building_name)|\n",
      "+------------+--------+--------------+-----------------+-------------+-------------------+------------------+\n",
      "|       11620|   10100|      오피스텔|           관악구|       봉천동|           오피스텔|                 .|\n",
      "|       11620|   10200|      오피스텔|           관악구|       신림동|           오피스텔|                 .|\n",
      "|       11560|   11400|      오피스텔|         영등포구|    당산동4가|           오피스텔|                 .|\n",
      "+------------+--------+--------------+-----------------+-------------+-------------------+------------------+\n",
      "\n"
     ]
    }
   ],
   "source": [
    "ss.sql('''\n",
    "        SELECT\n",
    "        \n",
    "            jachigu_code\n",
    "            , law_code\n",
    "            , building_usage\n",
    "            , MAX(jachigu_name)\n",
    "            , MAX(law_name)\n",
    "            , MAX(building_usage)\n",
    "            , MAX(building_name)\n",
    "            \n",
    "        FROM tmp_view\n",
    "        WHERE building_name = 0\n",
    "        GROUP BY jachigu_code, law_code, building_usage\n",
    "''').show()"
   ]
  },
  {
   "cell_type": "code",
   "execution_count": 24,
   "id": "5a2c3b51-eceb-4f55-8dfa-d75d1e7120a4",
   "metadata": {},
   "outputs": [
    {
     "name": "stderr",
     "output_type": "stream",
     "text": [
      "                                                                                \r"
     ]
    },
    {
     "data": {
      "text/plain": [
       "26"
      ]
     },
     "execution_count": 24,
     "metadata": {},
     "output_type": "execute_result"
    }
   ],
   "source": [
    "df_tbAPTPrice.select('building_name')\\\n",
    "            .where('building_name == 0')\\\n",
    "            .count()"
   ]
  },
  {
   "cell_type": "code",
   "execution_count": 25,
   "id": "14232948-5f0c-427b-b78a-083b039de9be",
   "metadata": {},
   "outputs": [],
   "source": [
    "df_tbAPTPrice = df_tbAPTPrice.withColumn('building_name'\n",
    "                                        , when(col('building_name') == 0\n",
    "                                               , concat(col('jachigu_name'), lit('_'), col('law_name'), lit('_'), col('building_usage'), lit('_'), lit('이름없음')))\\\n",
    "                            .otherwise(col('building_name'))\\\n",
    "                                        )\\\n",
    "                            .persist()"
   ]
  },
  {
   "cell_type": "markdown",
   "id": "03af4a5a-312d-4769-a0b0-be176761d71b",
   "metadata": {},
   "source": [
    "#### 2-3-2-다) building_year 일부 및 floor가 0인 건물 제거\n",
    "- 1953년 한국전쟁 정전 이후 건물만 반영(1953년 7월 27일)\n",
    "- 1634건 삭제\n",
    "- 해당 작업 수행으로 floor가 0인 건도 모두 지워짐"
   ]
  },
  {
   "cell_type": "code",
   "execution_count": 26,
   "id": "82eba53b-274f-4431-9ce6-38443ac1ce84",
   "metadata": {},
   "outputs": [],
   "source": [
    "df_tbAPTPrice = df_tbAPTPrice.selectExpr('*')\\\n",
    "                            .where('building_year >= 1954')\\\n",
    "                            .persist()                "
   ]
  },
  {
   "cell_type": "markdown",
   "id": "c096d7a7-edf0-4004-bf2c-fa58613932ab",
   "metadata": {},
   "source": [
    "## 2-4) 데이터 프레임 확인 및 캐싱"
   ]
  },
  {
   "cell_type": "code",
   "execution_count": 27,
   "id": "c3a2ea7a-60ba-4b2f-94aa-0416d7870783",
   "metadata": {},
   "outputs": [
    {
     "name": "stderr",
     "output_type": "stream",
     "text": [
      "                                                                                \r"
     ]
    },
    {
     "data": {
      "text/plain": [
       "{'jachigu_code_0': 0,\n",
       " 'law_code_0': 0,\n",
       " 'building_usage_0': 0,\n",
       " 'sumbit_year_0': 0,\n",
       " 'jachigu_name_0': 0,\n",
       " 'law_name_0': 0,\n",
       " 'jibun_gubun_0': 0,\n",
       " 'jibun_name_0': 0,\n",
       " 'building_name_0': 0,\n",
       " 'building_price_0': 0,\n",
       " 'building_size_0': 0,\n",
       " 'floor_0': 0,\n",
       " 'building_year_0': 0,\n",
       " 'idx_0': 0}"
      ]
     },
     "execution_count": 27,
     "metadata": {},
     "output_type": "execute_result"
    }
   ],
   "source": [
    "tmp = df_tbAPTPrice.select(\n",
    "        [sum(\n",
    "            when(\n",
    "                col(i) == 0 ,1)\\\n",
    "            .otherwise(0)\n",
    "            )\\\n",
    "            .alias(i + '_0') for i in df_tbAPTPrice.columns\n",
    "        ]\n",
    "    ).collect()\n",
    "    \n",
    "tmp[0].asDict()"
   ]
  },
  {
   "cell_type": "code",
   "execution_count": 28,
   "id": "900c1b25-3c1a-4872-97c2-14e857ec3504",
   "metadata": {},
   "outputs": [],
   "source": [
    "#임시 뷰 만들어놓기\n",
    "df_tbAPTPrice.createOrReplaceTempView('tmp_view')"
   ]
  },
  {
   "cell_type": "markdown",
   "id": "28c0b75d-8a10-4c9e-9c3b-6c3eaea3545c",
   "metadata": {},
   "source": [
    "## 2-5) 학습용 데이터 프레임 생성"
   ]
  },
  {
   "cell_type": "code",
   "execution_count": 29,
   "id": "da70e83e-7e67-457d-8817-d3d9a38780f6",
   "metadata": {},
   "outputs": [],
   "source": [
    "df_forML = df_tbAPTPrice.drop('jachigu_name'\n",
    "                   , 'law_name'\n",
    "                   , 'jibun_gubun'\n",
    "                   , 'jibun_name'\n",
    "                   , 'building_name'\n",
    "                    )"
   ]
  },
  {
   "cell_type": "markdown",
   "id": "0eb08823-c508-4959-9bde-bf4981e47126",
   "metadata": {},
   "source": [
    "### 2-5-1 Encoding\n",
    "**1) 문자열 → 숫자형 (cast)**\n",
    "- `building_price`\n",
    "- `sumbit_year`\n",
    "- `building_size`\n",
    "- `floor`\n",
    "- `building_year`\n",
    "\n",
    "---\n",
    "**2) 범주형 컬럼 처리**\n",
    "2-1) **Label Encoding**\n",
    "- `jachigu_code`\n",
    "- `law_code`\n",
    "\n",
    "2-2) **One-Hot Encoding**\n",
    "- `building_usage`\n",
    "\n",
    "---\n",
    "\n",
    "\n"
   ]
  },
  {
   "cell_type": "code",
   "execution_count": 30,
   "id": "160d6af5-387d-47a1-9143-d9bcccd0b949",
   "metadata": {},
   "outputs": [],
   "source": [
    "tmp_df = df_forML"
   ]
  },
  {
   "cell_type": "code",
   "execution_count": 31,
   "id": "93801d00-f75e-411b-b289-8c85840bac99",
   "metadata": {},
   "outputs": [
    {
     "name": "stderr",
     "output_type": "stream",
     "text": [
      "                                                                                \r"
     ]
    },
    {
     "data": {
      "text/plain": [
       "(25, 86, 4)"
      ]
     },
     "execution_count": 31,
     "metadata": {},
     "output_type": "execute_result"
    }
   ],
   "source": [
    "# 범주 개수 확인\n",
    "tmp_df.select(\"jachigu_code\").distinct().count(), tmp_df.select(\"law_code\").distinct().count(), tmp_df.select(\"building_usage\").distinct().count()"
   ]
  },
  {
   "cell_type": "code",
   "execution_count": 32,
   "id": "00d32098-4e15-43ea-b120-76e2e3e975ad",
   "metadata": {},
   "outputs": [],
   "source": [
    "## 문자열 -> 숫자(cast)\n",
    "tmp_df2 = tmp_df.withColumn('building_price', col('building_price').cast('float'))\\\n",
    "                .withColumn('building_size', col('building_size').cast('float'))\\\n",
    "                .withColumn('sumbit_year', col('sumbit_year').cast('int'))\\\n",
    "                .withColumn('floor', col('floor').cast('int'))\\\n",
    "                .withColumn('building_year', col('building_year').cast('int'))"
   ]
  },
  {
   "cell_type": "code",
   "execution_count": 33,
   "id": "ef1d2343-23b5-458b-9cb3-7db78c6e7c23",
   "metadata": {},
   "outputs": [],
   "source": [
    "tmp_df3 = tmp_df2.fillna({'floor':0})"
   ]
  },
  {
   "cell_type": "code",
   "execution_count": 34,
   "id": "1271eafd-724f-407d-844f-33dd15b3c997",
   "metadata": {},
   "outputs": [
    {
     "name": "stderr",
     "output_type": "stream",
     "text": [
      "                                                                                \r"
     ]
    },
    {
     "data": {
      "text/plain": [
       "DataFrame[jachigu_code: string, law_code: string, building_usage: string, sumbit_year: int, building_price: float, building_size: float, floor: int, building_year: int, idx: int, INDEX_jachigu_code: double, INDEX_law_code: double]"
      ]
     },
     "execution_count": 34,
     "metadata": {},
     "output_type": "execute_result"
    }
   ],
   "source": [
    "## 범주형 변수 >> 정수형\n",
    "indexers_jachigu_code = StringIndexer(inputCol = 'jachigu_code', outputCol = 'INDEX_'+'jachigu_code')\n",
    "indexers_law_code = StringIndexer(inputCol = 'law_code', outputCol = 'INDEX_'+'law_code')\n",
    "indexers_jachigu_code, indexers_law_code\n",
    "\n",
    "tmp_df4 = indexers_jachigu_code.fit(tmp_df3).transform(tmp_df3)\n",
    "tmp_df5 = indexers_law_code.fit(tmp_df4).transform(tmp_df4)\n",
    "tmp_df5"
   ]
  },
  {
   "cell_type": "code",
   "execution_count": 35,
   "id": "b054a805-5545-43c0-a16a-3f0ffd4b6d35",
   "metadata": {},
   "outputs": [
    {
     "name": "stderr",
     "output_type": "stream",
     "text": [
      "                                                                                \r"
     ]
    },
    {
     "data": {
      "text/plain": [
       "DataFrame[jachigu_code: string, law_code: string, building_usage: string, sumbit_year: int, building_price: float, building_size: float, floor: int, building_year: int, idx: int, INDEX_jachigu_code: double, INDEX_law_code: double, INDEX_building_usage: double]"
      ]
     },
     "execution_count": 35,
     "metadata": {},
     "output_type": "execute_result"
    }
   ],
   "source": [
    "indexers_building_usage = StringIndexer(inputCol = 'building_usage', outputCol = 'INDEX_' + 'building_usage')\n",
    "tmp_df6 = indexers_building_usage.fit(tmp_df5).transform(tmp_df5)\n",
    "tmp_df6"
   ]
  },
  {
   "cell_type": "code",
   "execution_count": 36,
   "id": "caa4f557-3922-4bac-8e9d-7545b9e689bf",
   "metadata": {},
   "outputs": [
    {
     "data": {
      "text/plain": [
       "DataFrame[jachigu_code: string, law_code: string, building_usage: string, sumbit_year: int, building_price: float, building_size: float, floor: int, building_year: int, idx: int, INDEX_jachigu_code: double, INDEX_law_code: double, INDEX_building_usage: double, ENCODE_building_usage: vector]"
      ]
     },
     "execution_count": 36,
     "metadata": {},
     "output_type": "execute_result"
    }
   ],
   "source": [
    "## one-hot encoding\n",
    "encoders = OneHotEncoder(inputCol = 'INDEX_'+'building_usage', outputCol = 'ENCODE_' + 'building_usage')\n",
    "encoders\n",
    "\n",
    "tmp_df7 = encoders.fit(tmp_df6).transform(tmp_df6)\n",
    "tmp_df7"
   ]
  },
  {
   "cell_type": "markdown",
   "id": "fe1b7cd4-5633-41c0-8060-e32ea7d2f49b",
   "metadata": {},
   "source": [
    "### 2-5-2) Feature 선택"
   ]
  },
  {
   "cell_type": "code",
   "execution_count": 37,
   "id": "16616f2c-8767-4c74-ae1d-a2fdf2deb105",
   "metadata": {},
   "outputs": [],
   "source": [
    "features_cols = ['INDEX_jachigu_code'\n",
    "                , 'INDEX_law_code'\n",
    "                , 'ENCODE_building_usage'\n",
    "                , 'sumbit_year'\n",
    "                , 'building_size'\n",
    "                , 'building_year'\n",
    "               ]"
   ]
  },
  {
   "cell_type": "markdown",
   "id": "b274bfb8-13d3-46aa-b3c1-7477e04a447a",
   "metadata": {},
   "source": [
    "### 2-5-3) assembler를 통한 feature Vectorized"
   ]
  },
  {
   "cell_type": "code",
   "execution_count": 38,
   "id": "8e5221e4-d31f-4ca0-a93c-ffffbfba3408",
   "metadata": {},
   "outputs": [
    {
     "name": "stdout",
     "output_type": "stream",
     "text": [
      "+--------------+--------------------------------------------------------+\n",
      "|building_price|feature                                                 |\n",
      "+--------------+--------------------------------------------------------+\n",
      "|22500.0       |[24.0,25.0,0.0,0.0,1.0,2021.0,18.56999969482422,2021.0] |\n",
      "|24675.0       |[24.0,25.0,0.0,0.0,1.0,2022.0,18.56999969482422,2021.0] |\n",
      "|61000.0       |[22.0,31.0,1.0,0.0,0.0,2018.0,26.979999542236328,1981.0]|\n",
      "|60000.0       |[22.0,31.0,1.0,0.0,0.0,2018.0,47.06999969482422,1971.0] |\n",
      "|96000.0       |[22.0,31.0,1.0,0.0,0.0,2018.0,66.94999694824219,1971.0] |\n",
      "|50900.0       |[22.0,31.0,1.0,0.0,0.0,2017.0,40.5,1984.0]              |\n",
      "|65000.0       |[22.0,31.0,1.0,0.0,0.0,2018.0,77.36000061035156,1984.0] |\n",
      "|50000.0       |[22.0,31.0,1.0,0.0,0.0,2018.0,47.06999969482422,1971.0] |\n",
      "|52000.0       |[22.0,31.0,1.0,0.0,0.0,2018.0,76.5999984741211,1971.0]  |\n",
      "|61000.0       |[22.0,31.0,1.0,0.0,0.0,2018.0,19.969999313354492,1975.0]|\n",
      "|46000.0       |[22.0,31.0,1.0,0.0,0.0,2017.0,47.13999938964844,1971.0] |\n",
      "|45600.0       |[22.0,31.0,1.0,0.0,0.0,2017.0,47.68000030517578,1971.0] |\n",
      "|64900.0       |[22.0,31.0,1.0,0.0,0.0,2018.0,61.45000076293945,1971.0] |\n",
      "|58000.0       |[22.0,31.0,1.0,0.0,0.0,2017.0,56.459999084472656,1971.0]|\n",
      "|59500.0       |[22.0,31.0,1.0,0.0,0.0,2018.0,47.06999969482422,1971.0] |\n",
      "|40000.0       |[22.0,31.0,1.0,0.0,0.0,2017.0,36.2599983215332,1971.0]  |\n",
      "|89950.0       |[22.0,31.0,1.0,0.0,0.0,2017.0,80.95999908447266,1983.0] |\n",
      "|95000.0       |[22.0,31.0,1.0,0.0,0.0,2018.0,77.69000244140625,1983.0] |\n",
      "|79000.0       |[22.0,31.0,1.0,0.0,0.0,2018.0,55.970001220703125,1975.0]|\n",
      "|38000.0       |[22.0,31.0,1.0,0.0,0.0,2018.0,46.119998931884766,1971.0]|\n",
      "+--------------+--------------------------------------------------------+\n",
      "only showing top 20 rows\n",
      "\n"
     ]
    }
   ],
   "source": [
    "assembler = VectorAssembler(inputCols = features_cols\n",
    "                            , outputCol = 'feature'\n",
    "                           )\n",
    "tmp_df8 = assembler.transform(tmp_df7)\n",
    "tmp_df8.select('building_price', 'feature').show(truncate = False)"
   ]
  },
  {
   "cell_type": "markdown",
   "id": "c09c8a26-97ca-4c6f-9866-edb1c750c274",
   "metadata": {},
   "source": [
    "### 2-5-4) 데이터 셋 분할"
   ]
  },
  {
   "cell_type": "code",
   "execution_count": 39,
   "id": "f77d5686-23a3-45c9-a6aa-a788be0995ab",
   "metadata": {},
   "outputs": [],
   "source": [
    "train_ratio = 0.8\n",
    "test_ratio = 0.2"
   ]
  },
  {
   "cell_type": "code",
   "execution_count": 40,
   "id": "2dd15162-19d9-4ece-bbb9-d53006176695",
   "metadata": {},
   "outputs": [
    {
     "data": {
      "text/plain": [
       "(DataFrame[jachigu_code: string, law_code: string, building_usage: string, sumbit_year: int, building_price: float, building_size: float, floor: int, building_year: int, idx: int, INDEX_jachigu_code: double, INDEX_law_code: double, INDEX_building_usage: double, ENCODE_building_usage: vector, feature: vector],\n",
       " DataFrame[jachigu_code: string, law_code: string, building_usage: string, sumbit_year: int, building_price: float, building_size: float, floor: int, building_year: int, idx: int, INDEX_jachigu_code: double, INDEX_law_code: double, INDEX_building_usage: double, ENCODE_building_usage: vector, feature: vector])"
      ]
     },
     "execution_count": 40,
     "metadata": {},
     "output_type": "execute_result"
    }
   ],
   "source": [
    "train_df, test_df = tmp_df8\\\n",
    "                    .randomSplit([train_ratio, test_ratio], seed = 42)\n",
    "\n",
    "train_df, test_df\n"
   ]
  },
  {
   "cell_type": "code",
   "execution_count": 73,
   "id": "43c4a75c-d846-4891-a9ef-81f2406edf3f",
   "metadata": {},
   "outputs": [
    {
     "name": "stderr",
     "output_type": "stream",
     "text": [
      "                                                                                \r"
     ]
    },
    {
     "data": {
      "text/plain": [
       "671187"
      ]
     },
     "execution_count": 73,
     "metadata": {},
     "output_type": "execute_result"
    }
   ],
   "source": [
    "train_df.count()"
   ]
  },
  {
   "cell_type": "code",
   "execution_count": 41,
   "id": "e577c1a2-0a7a-4758-ae68-ea0233d50ee8",
   "metadata": {},
   "outputs": [],
   "source": [
    "train_df = train_df.withColumnRenamed('building_price', 'label')"
   ]
  },
  {
   "cell_type": "code",
   "execution_count": 42,
   "id": "ce61a09f-9d44-4d2e-9385-5d00cf4e4c98",
   "metadata": {},
   "outputs": [],
   "source": [
    "train_df = train_df.select(\"label\", \"feature\")"
   ]
  },
  {
   "cell_type": "markdown",
   "id": "2e95d9d6-6089-4e5b-a42b-a87fa7145b56",
   "metadata": {},
   "source": [
    "## 3. 학습 모델 생성 및 평가"
   ]
  },
  {
   "cell_type": "markdown",
   "id": "c9f10331-b54c-40c3-94ec-971634d35d2a",
   "metadata": {},
   "source": [
    "### 3-1) 선형 모델 생성"
   ]
  },
  {
   "cell_type": "code",
   "execution_count": 43,
   "id": "9ffc4399-0c85-458f-8733-12986b64866e",
   "metadata": {},
   "outputs": [
    {
     "data": {
      "text/plain": [
       "LinearRegression_21cc1d7bfe1c"
      ]
     },
     "execution_count": 43,
     "metadata": {},
     "output_type": "execute_result"
    }
   ],
   "source": [
    "lr = LinearRegression(featuresCol = 'feature'\n",
    "                       , labelCol = 'label')\n",
    "\n",
    "lr"
   ]
  },
  {
   "cell_type": "code",
   "execution_count": 44,
   "id": "9943d811-ffa7-4ebc-bc06-fc7fd1c52fa1",
   "metadata": {},
   "outputs": [
    {
     "name": "stderr",
     "output_type": "stream",
     "text": [
      "24/12/19 15:32:44 WARN Instrumentation: [946398a6] regParam is zero, which might cause numerical instability and overfitting.\n",
      "24/12/19 15:32:44 WARN BLAS: Failed to load implementation from: com.github.fommil.netlib.NativeSystemBLAS\n",
      "24/12/19 15:32:44 WARN BLAS: Failed to load implementation from: com.github.fommil.netlib.NativeRefBLAS\n",
      "24/12/19 15:32:54 WARN LAPACK: Failed to load implementation from: com.github.fommil.netlib.NativeSystemLAPACK\n",
      "24/12/19 15:32:54 WARN LAPACK: Failed to load implementation from: com.github.fommil.netlib.NativeRefLAPACK\n",
      "                                                                                \r"
     ]
    },
    {
     "data": {
      "text/plain": [
       "LinearRegressionModel: uid=LinearRegression_21cc1d7bfe1c, numFeatures=8"
      ]
     },
     "execution_count": 44,
     "metadata": {},
     "output_type": "execute_result"
    }
   ],
   "source": [
    "lr_model \\\n",
    "= lr.fit(train_df)\n",
    "\n",
    "lr_model"
   ]
  },
  {
   "cell_type": "markdown",
   "id": "130e48a4-326d-4cd7-899a-cda7ab4bdb1a",
   "metadata": {},
   "source": [
    "### 3-2 학습 모델 결과"
   ]
  },
  {
   "cell_type": "code",
   "execution_count": 62,
   "id": "04fa9385-dca5-4a92-9922-22ac4aedb536",
   "metadata": {},
   "outputs": [
    {
     "name": "stdout",
     "output_type": "stream",
     "text": [
      "+------------+--------+--------------+-----------+--------------+-------------+-----+-------------+------+------------------+\n",
      "|jachigu_code|law_code|building_usage|sumbit_year|building_price|building_size|floor|building_year|idx   |prediction        |\n",
      "+------------+--------+--------------+-----------+--------------+-------------+-----+-------------+------+------------------+\n",
      "|11170       |12900   |연립다세대    |2017       |28000.0       |38.81        |3    |1991         |79170 |17443.634895160794|\n",
      "|11170       |12900   |연립다세대    |2017       |40000.0       |36.26        |4    |1971         |26472 |17530.19430470094 |\n",
      "|11170       |12900   |연립다세대    |2017       |40000.0       |47.68        |1    |1971         |169036|24779.612625287846|\n",
      "|11170       |12900   |연립다세대    |2017       |44800.0       |47.07        |1    |1971         |169446|24392.384181141853|\n",
      "|11170       |12900   |연립다세대    |2017       |46000.0       |47.14        |3    |1971         |22710 |24436.819993922487|\n",
      "|11170       |12900   |연립다세대    |2017       |53000.0       |53.98        |2    |1981         |94033 |27926.201934596524|\n",
      "|11170       |12900   |연립다세대    |2017       |110000.0      |77.69        |2    |1983         |120070|42806.783820210025|\n",
      "|11170       |12900   |연립다세대    |2018       |38000.0       |46.12        |-1   |1971         |43362 |30038.3853336405  |\n",
      "|11170       |12900   |연립다세대    |2018       |50000.0       |59.65        |-1   |1971         |287672|38627.23223778047 |\n",
      "|11170       |12900   |연립다세대    |2018       |50000.0       |61.69        |-1   |1970         |252075|40007.48766617477 |\n",
      "|11170       |12900   |연립다세대    |2018       |50200.0       |47.68        |1    |1971         |323562|31028.674350392073|\n",
      "|11170       |12900   |연립다세대    |2018       |50500.0       |76.6         |1    |1971         |213356|49387.091875851154|\n",
      "|11170       |12900   |연립다세대    |2018       |52000.0       |76.6         |4    |1971         |21257 |49387.091875851154|\n",
      "|11170       |12900   |연립다세대    |2018       |54500.0       |33.42        |-1   |1974         |78123 |21720.6284314245  |\n",
      "|11170       |12900   |연립다세대    |2018       |57000.0       |40.5         |2    |1984         |156179|25362.363459896296|\n",
      "|11170       |12900   |연립다세대    |2018       |61000.0       |26.98        |1    |1981         |7141  |17035.661150330678|\n",
      "|11170       |12900   |연립다세대    |2018       |65000.0       |47.68        |1    |1971         |355396|31028.674350392073|\n",
      "|11170       |12900   |연립다세대    |2018       |99500.0       |50.03        |2    |1981         |236853|31667.802808275446|\n",
      "|11170       |12900   |연립다세대    |2019       |63000.0       |46.81        |1    |1972         |308507|36640.19559348747 |\n",
      "|11170       |12900   |연립다세대    |2019       |66000.0       |26.98        |1    |1981         |373022|23284.722875433043|\n",
      "+------------+--------+--------------+-----------+--------------+-------------+-----+-------------+------+------------------+\n",
      "only showing top 20 rows\n",
      "\n"
     ]
    },
    {
     "name": "stderr",
     "output_type": "stream",
     "text": [
      "[Stage 194:===================================================> (196 + 2) / 200]\r"
     ]
    },
    {
     "name": "stdout",
     "output_type": "stream",
     "text": [
      "+------+--------------+------------------+-------------------+\n",
      "|idx   |building_price|prediction        |gap                |\n",
      "+------+--------------+------------------+-------------------+\n",
      "|219327|970000.0      |2282640.4848247413|-1312640.4848247413|\n",
      "|695371|580000.0      |1882482.4059219435|-1302482.4059219435|\n",
      "|520579|710000.0      |1375267.1010468341|-665267.1010468341 |\n",
      "|593870|480000.0      |1121998.9560471997|-641998.9560471997 |\n",
      "|504208|590000.0      |1224762.2151359618|-634762.2151359618 |\n",
      "|37706 |450000.0      |1070579.0404320005|-620579.0404320005 |\n",
      "|375201|330000.0      |906598.4144523777 |-576598.4144523777 |\n",
      "|600054|350000.0      |880233.7104337048 |-530233.7104337048 |\n",
      "|240281|455000.0      |960206.341527421  |-505206.341527421  |\n",
      "|379094|171000.0      |659100.5426052008 |-488100.5426052008 |\n",
      "|340644|225000.0      |708334.4119393956 |-483334.4119393956 |\n",
      "|529800|250000.0      |727750.9779231548 |-477750.97792315483|\n",
      "|622231|300000.0      |777418.8773826193 |-477418.8773826193 |\n",
      "|385483|1380000.0     |1852500.5745065361|-472500.5745065361 |\n",
      "|493383|254000.0      |710327.7809897047 |-456327.78098970465|\n",
      "|495156|135000.0      |590922.6672071368 |-455922.66720713675|\n",
      "|19561 |336000.0      |789042.0985366814 |-453042.0985366814 |\n",
      "|695079|300000.0      |747976.1645793449 |-447976.1645793449 |\n",
      "|10428 |167000.0      |614894.3365265932 |-447894.3365265932 |\n",
      "|500998|308600.0      |744010.2685061693 |-435410.2685061693 |\n",
      "+------+--------------+------------------+-------------------+\n",
      "only showing top 20 rows\n",
      "\n"
     ]
    },
    {
     "name": "stderr",
     "output_type": "stream",
     "text": [
      "                                                                                \r"
     ]
    }
   ],
   "source": [
    "predictions = lr_model.transform(test_df)\n",
    "predictions.selectExpr(predictions.columns[:-6] + [predictions.columns[-1]]).show(truncate = False)\n",
    "\n",
    "predictions.select('idx', 'building_price', 'prediction')\\\n",
    "            .withColumn('gap', col('building_price') - col('prediction'))\\\n",
    "            .orderBy(col('gap'))\\\n",
    "            .show(truncate = False)"
   ]
  },
  {
   "cell_type": "markdown",
   "id": "635b452f-5d99-4247-874b-2ae56ee243c4",
   "metadata": {},
   "source": [
    "### 3-3 학습 평가"
   ]
  },
  {
   "cell_type": "code",
   "execution_count": 46,
   "id": "f8bb8ae9-370f-404c-82c8-10d2455abd83",
   "metadata": {},
   "outputs": [
    {
     "name": "stderr",
     "output_type": "stream",
     "text": [
      "[Stage 131:==================================================>  (190 + 2) / 200]\r"
     ]
    },
    {
     "name": "stdout",
     "output_type": "stream",
     "text": [
      "Root Mean Squared Error (RMSE): 60297.65992143047\n"
     ]
    },
    {
     "name": "stderr",
     "output_type": "stream",
     "text": [
      "                                                                                \r"
     ]
    }
   ],
   "source": [
    "evaluator = RegressionEvaluator(\n",
    "    labelCol=\"building_price\",\n",
    "    predictionCol=\"prediction\",\n",
    "    metricName=\"rmse\"  # Root Mean Squared Error\n",
    ")\n",
    "rmse = evaluator.evaluate(predictions)\n",
    "print(f\"Root Mean Squared Error (RMSE): {rmse}\")\n"
   ]
  },
  {
   "cell_type": "code",
   "execution_count": 47,
   "id": "021305d1-dd68-4f0e-abe1-5e21df78e9da",
   "metadata": {},
   "outputs": [
    {
     "name": "stderr",
     "output_type": "stream",
     "text": [
      "[Stage 136:===================================================> (194 + 2) / 200]\r"
     ]
    },
    {
     "name": "stdout",
     "output_type": "stream",
     "text": [
      "R-squared (R²): 0.433095200846465\n"
     ]
    },
    {
     "name": "stderr",
     "output_type": "stream",
     "text": [
      "                                                                                \r"
     ]
    }
   ],
   "source": [
    "evaluator = RegressionEvaluator(labelCol=\"building_price\", predictionCol=\"prediction\", metricName=\"r2\")\n",
    "r2 = evaluator.evaluate(predictions)\n",
    "print(f\"R-squared (R²): {r2}\")\n"
   ]
  },
  {
   "cell_type": "code",
   "execution_count": 48,
   "id": "9a150239-33ca-4b79-88da-a77a652846e6",
   "metadata": {},
   "outputs": [
    {
     "name": "stderr",
     "output_type": "stream",
     "text": [
      "[Stage 141:====================================================>(197 + 2) / 200]\r"
     ]
    },
    {
     "name": "stdout",
     "output_type": "stream",
     "text": [
      "Mean Absolute Error (MAE): 25759.766987465442\n"
     ]
    },
    {
     "name": "stderr",
     "output_type": "stream",
     "text": [
      "                                                                                \r"
     ]
    }
   ],
   "source": [
    "evaluator = RegressionEvaluator(labelCol=\"building_price\", predictionCol=\"prediction\", metricName=\"mae\")\n",
    "mae = evaluator.evaluate(predictions)\n",
    "print(f\"Mean Absolute Error (MAE): {mae}\")\n"
   ]
  },
  {
   "cell_type": "code",
   "execution_count": 63,
   "id": "eb4909ae-9a03-4267-b97f-a8a25414d444",
   "metadata": {},
   "outputs": [
    {
     "name": "stdout",
     "output_type": "stream",
     "text": [
      "Coefficients: [-27.24196973054434,453.88212381213884,4099.242069980269,41034.26455788227,5306.44469057298,6249.0617251036365,634.8000929396344,-85.26507918956356]\n",
      "Intercept: -12459357.94902529\n"
     ]
    }
   ],
   "source": [
    "print(\"Coefficients: \" + str(lr_model.coefficients))\n",
    "print(\"Intercept: \" + str(lr_model.intercept))\n"
   ]
  },
  {
   "cell_type": "markdown",
   "id": "096907a0-2ad9-44fb-a0a8-279334319a1c",
   "metadata": {},
   "source": [
    "굉장히 좋지 못한 성능인 것 같으며, 여러 요인을 feature에 담거나 모델 개선이 필요하다"
   ]
  },
  {
   "cell_type": "markdown",
   "id": "22ed1511-bb2e-40b3-a423-bed1dd3ba5fe",
   "metadata": {},
   "source": [
    "## 4. 학습 예측값 DB 저장"
   ]
  },
  {
   "cell_type": "code",
   "execution_count": 71,
   "id": "5180f8a5-5297-42b0-ac5a-2e197a3a5b85",
   "metadata": {},
   "outputs": [
    {
     "name": "stderr",
     "output_type": "stream",
     "text": [
      "                                                                                \r"
     ]
    }
   ],
   "source": [
    "predictions.select('idx', 'prediction')\\\n",
    "    .write.format('jdbc')\\\n",
    "    .options(\n",
    "        url = mysql_url\n",
    "        , driver = 'com.mysql.jdbc.Driver'\n",
    "        , dbtable = 'lg_prediction'\n",
    "        , user = user_id\n",
    "        , password = user_password\n",
    "            )\\\n",
    "    .mode('append')\\\n",
    "    .save()"
   ]
  },
  {
   "cell_type": "code",
   "execution_count": 72,
   "id": "4042b2a3-c70f-4e71-9865-a40ca592083f",
   "metadata": {},
   "outputs": [],
   "source": [
    "ss.stop()"
   ]
  },
  {
   "cell_type": "code",
   "execution_count": null,
   "id": "5370f6e9-0d78-4a3d-aa10-b38f70a4cf44",
   "metadata": {},
   "outputs": [],
   "source": []
  },
  {
   "cell_type": "code",
   "execution_count": null,
   "id": "2a0b7bde-6eab-487c-8a77-29a445d71e89",
   "metadata": {},
   "outputs": [],
   "source": []
  },
  {
   "cell_type": "code",
   "execution_count": null,
   "id": "54d6e871-b436-430c-9065-e38b037c679c",
   "metadata": {},
   "outputs": [],
   "source": []
  },
  {
   "cell_type": "code",
   "execution_count": null,
   "id": "19d777ff-80dd-4556-a64f-1efff9c5e2cc",
   "metadata": {},
   "outputs": [],
   "source": []
  },
  {
   "cell_type": "code",
   "execution_count": null,
   "id": "5818b832-f2a4-4a2e-979b-5bde542669cd",
   "metadata": {},
   "outputs": [],
   "source": []
  },
  {
   "cell_type": "code",
   "execution_count": 284,
   "id": "b355696f-9b73-46e8-882f-a0a979568bef",
   "metadata": {},
   "outputs": [],
   "source": [
    "ss.stop()"
   ]
  },
  {
   "cell_type": "code",
   "execution_count": 8,
   "id": "f20df3b9-01a6-4248-b057-53b36767ba62",
   "metadata": {},
   "outputs": [
    {
     "name": "stdout",
     "output_type": "stream",
     "text": [
      "JDBC URL: jdbc:sqlserver://172.30.1.44:1433;databaseName=APT_Project;\n",
      "JDBC Properties: {'user': 'APT_Project', 'password': 'APT_Project', 'driver': 'com.microsoft.sqlserver.jdbc.SQLServerDriver'}\n",
      "The history saving thread hit an unexpected error (OperationalError('attempt to write a readonly database')).History will not be written to the database.\n"
     ]
    }
   ],
   "source": [
    "config = {\n",
    "    'server' : os.getenv('host_ip'),\n",
    "    'database' : os.getenv('DATABASE'),\n",
    "    'username' : os.getenv('user_id'),\n",
    "    'password' : os.getenv('user_password'),\n",
    "    'driver' : 'ODBC Driver 17 for SQL Server',\n",
    "}\n",
    "# JDBC URL 문자열 생성\n",
    "jdbc_url = f\"jdbc:sqlserver://{config['server']}:1433;databaseName={config['database']};\"\n",
    "\n",
    "# Spark JDBC 연결 설정\n",
    "properties = {\n",
    "    \"user\": config['username'],\n",
    "    \"password\": config['password'],\n",
    "    \"driver\": \"com.microsoft.sqlserver.jdbc.SQLServerDriver\"\n",
    "}\n",
    "\n",
    "print(\"JDBC URL:\", jdbc_url)\n",
    "print(\"JDBC Properties:\", properties)\n"
   ]
  },
  {
   "cell_type": "code",
   "execution_count": 9,
   "id": "acc7ff98-b70f-4afe-ab1f-3dc9401b0991",
   "metadata": {
    "scrolled": true
   },
   "outputs": [
    {
     "name": "stderr",
     "output_type": "stream",
     "text": [
      "24/12/18 14:03:47 WARN NativeCodeLoader: Unable to load native-hadoop library for your platform... using builtin-java classes where applicable\n",
      "Exception in thread \"main\" java.lang.IllegalArgumentException: java.net.URISyntaxException: Expected scheme-specific part at index 2: C:\n",
      "\tat org.apache.hadoop.fs.Path.initialize(Path.java:259)\n",
      "\tat org.apache.hadoop.fs.Path.<init>(Path.java:217)\n",
      "\tat org.apache.hadoop.fs.Path.<init>(Path.java:125)\n",
      "\tat org.apache.hadoop.fs.Globber.doGlob(Globber.java:229)\n",
      "\tat org.apache.hadoop.fs.Globber.glob(Globber.java:149)\n",
      "\tat org.apache.hadoop.fs.FileSystem.globStatus(FileSystem.java:2016)\n",
      "\tat org.apache.spark.deploy.DependencyUtils$.resolveGlobPath(DependencyUtils.scala:192)\n",
      "\tat org.apache.spark.deploy.DependencyUtils$.$anonfun$resolveGlobPaths$2(DependencyUtils.scala:147)\n",
      "\tat org.apache.spark.deploy.DependencyUtils$.$anonfun$resolveGlobPaths$2$adapted(DependencyUtils.scala:145)\n",
      "\tat scala.collection.TraversableLike.$anonfun$flatMap$1(TraversableLike.scala:245)\n",
      "\tat scala.collection.IndexedSeqOptimized.foreach(IndexedSeqOptimized.scala:36)\n",
      "\tat scala.collection.IndexedSeqOptimized.foreach$(IndexedSeqOptimized.scala:33)\n",
      "\tat scala.collection.mutable.WrappedArray.foreach(WrappedArray.scala:38)\n",
      "\tat scala.collection.TraversableLike.flatMap(TraversableLike.scala:245)\n",
      "\tat scala.collection.TraversableLike.flatMap$(TraversableLike.scala:242)\n",
      "\tat scala.collection.AbstractTraversable.flatMap(Traversable.scala:108)\n",
      "\tat org.apache.spark.deploy.DependencyUtils$.resolveGlobPaths(DependencyUtils.scala:145)\n",
      "\tat org.apache.spark.deploy.SparkSubmit.$anonfun$prepareSubmitEnvironment$4(SparkSubmit.scala:363)\n",
      "\tat scala.Option.map(Option.scala:230)\n",
      "\tat org.apache.spark.deploy.SparkSubmit.prepareSubmitEnvironment(SparkSubmit.scala:363)\n",
      "\tat org.apache.spark.deploy.SparkSubmit.org$apache$spark$deploy$SparkSubmit$$runMain(SparkSubmit.scala:894)\n",
      "\tat org.apache.spark.deploy.SparkSubmit.doRunMain$1(SparkSubmit.scala:180)\n",
      "\tat org.apache.spark.deploy.SparkSubmit.submit(SparkSubmit.scala:203)\n",
      "\tat org.apache.spark.deploy.SparkSubmit.doSubmit(SparkSubmit.scala:90)\n",
      "\tat org.apache.spark.deploy.SparkSubmit$$anon$2.doSubmit(SparkSubmit.scala:1039)\n",
      "\tat org.apache.spark.deploy.SparkSubmit$.main(SparkSubmit.scala:1048)\n",
      "\tat org.apache.spark.deploy.SparkSubmit.main(SparkSubmit.scala)\n",
      "Caused by: java.net.URISyntaxException: Expected scheme-specific part at index 2: C:\n",
      "\tat java.net.URI$Parser.fail(URI.java:2847)\n",
      "\tat java.net.URI$Parser.failExpecting(URI.java:2853)\n",
      "\tat java.net.URI$Parser.parse(URI.java:3056)\n",
      "\tat java.net.URI.<init>(URI.java:746)\n",
      "\tat org.apache.hadoop.fs.Path.initialize(Path.java:256)\n",
      "\t... 26 more\n"
     ]
    },
    {
     "ename": "Exception",
     "evalue": "Java gateway process exited before sending its port number",
     "output_type": "error",
     "traceback": [
      "\u001b[0;31m---------------------------------------------------------------------------\u001b[0m",
      "\u001b[0;31mException\u001b[0m                                 Traceback (most recent call last)",
      "Cell \u001b[0;32mIn[9], line 2\u001b[0m\n\u001b[1;32m      1\u001b[0m \u001b[38;5;66;03m# SparkSession 생성\u001b[39;00m\n\u001b[0;32m----> 2\u001b[0m ss \u001b[38;5;241m=\u001b[39m \u001b[43mSparkSession\u001b[49m\u001b[38;5;241;43m.\u001b[39;49m\u001b[43mbuilder\u001b[49m\u001b[43m \u001b[49m\u001b[43m\\\u001b[49m\n\u001b[1;32m      3\u001b[0m \u001b[43m    \u001b[49m\u001b[38;5;241;43m.\u001b[39;49m\u001b[43mappName\u001b[49m\u001b[43m(\u001b[49m\u001b[38;5;124;43m\"\u001b[39;49m\u001b[38;5;124;43mPySpark MSSQL Example\u001b[39;49m\u001b[38;5;124;43m\"\u001b[39;49m\u001b[43m)\u001b[49m\u001b[43m \u001b[49m\u001b[43m\\\u001b[49m\n\u001b[1;32m      4\u001b[0m \u001b[43m    \u001b[49m\u001b[38;5;241;43m.\u001b[39;49m\u001b[43mconfig\u001b[49m\u001b[43m(\u001b[49m\u001b[38;5;124;43m\"\u001b[39;49m\u001b[38;5;124;43mspark.jars\u001b[39;49m\u001b[38;5;124;43m\"\u001b[39;49m\u001b[43m,\u001b[49m\u001b[43m \u001b[49m\u001b[38;5;124;43m\"\u001b[39;49m\u001b[38;5;124;43mfile:/C:/Users/YJ/Desktop/AllProjects/sqljdbc_12.8/kor/jars/mssql-jdbc-12.8.1.jre8.jar\u001b[39;49m\u001b[38;5;124;43m\"\u001b[39;49m\u001b[43m)\u001b[49m\u001b[43m \u001b[49m\u001b[43m\\\u001b[49m\n\u001b[1;32m      5\u001b[0m \u001b[43m    \u001b[49m\u001b[38;5;241;43m.\u001b[39;49m\u001b[43mgetOrCreate\u001b[49m\u001b[43m(\u001b[49m\u001b[43m)\u001b[49m\n\u001b[1;32m      7\u001b[0m \u001b[38;5;28mprint\u001b[39m(\u001b[38;5;124m\"\u001b[39m\u001b[38;5;124mSpark Session이 성공적으로 생성되었습니다!\u001b[39m\u001b[38;5;124m\"\u001b[39m)\n",
      "File \u001b[0;32m/opt/spark/python/pyspark/sql/session.py:228\u001b[0m, in \u001b[0;36mSparkSession.Builder.getOrCreate\u001b[0;34m(self)\u001b[0m\n\u001b[1;32m    226\u001b[0m         sparkConf\u001b[38;5;241m.\u001b[39mset(key, value)\n\u001b[1;32m    227\u001b[0m     \u001b[38;5;66;03m# This SparkContext may be an existing one.\u001b[39;00m\n\u001b[0;32m--> 228\u001b[0m     sc \u001b[38;5;241m=\u001b[39m \u001b[43mSparkContext\u001b[49m\u001b[38;5;241;43m.\u001b[39;49m\u001b[43mgetOrCreate\u001b[49m\u001b[43m(\u001b[49m\u001b[43msparkConf\u001b[49m\u001b[43m)\u001b[49m\n\u001b[1;32m    229\u001b[0m \u001b[38;5;66;03m# Do not update `SparkConf` for existing `SparkContext`, as it's shared\u001b[39;00m\n\u001b[1;32m    230\u001b[0m \u001b[38;5;66;03m# by all sessions.\u001b[39;00m\n\u001b[1;32m    231\u001b[0m session \u001b[38;5;241m=\u001b[39m SparkSession(sc)\n",
      "File \u001b[0;32m/opt/spark/python/pyspark/context.py:384\u001b[0m, in \u001b[0;36mSparkContext.getOrCreate\u001b[0;34m(cls, conf)\u001b[0m\n\u001b[1;32m    382\u001b[0m \u001b[38;5;28;01mwith\u001b[39;00m SparkContext\u001b[38;5;241m.\u001b[39m_lock:\n\u001b[1;32m    383\u001b[0m     \u001b[38;5;28;01mif\u001b[39;00m SparkContext\u001b[38;5;241m.\u001b[39m_active_spark_context \u001b[38;5;129;01mis\u001b[39;00m \u001b[38;5;28;01mNone\u001b[39;00m:\n\u001b[0;32m--> 384\u001b[0m         \u001b[43mSparkContext\u001b[49m\u001b[43m(\u001b[49m\u001b[43mconf\u001b[49m\u001b[38;5;241;43m=\u001b[39;49m\u001b[43mconf\u001b[49m\u001b[43m \u001b[49m\u001b[38;5;129;43;01mor\u001b[39;49;00m\u001b[43m \u001b[49m\u001b[43mSparkConf\u001b[49m\u001b[43m(\u001b[49m\u001b[43m)\u001b[49m\u001b[43m)\u001b[49m\n\u001b[1;32m    385\u001b[0m     \u001b[38;5;28;01mreturn\u001b[39;00m SparkContext\u001b[38;5;241m.\u001b[39m_active_spark_context\n",
      "File \u001b[0;32m/opt/spark/python/pyspark/context.py:144\u001b[0m, in \u001b[0;36mSparkContext.__init__\u001b[0;34m(self, master, appName, sparkHome, pyFiles, environment, batchSize, serializer, conf, gateway, jsc, profiler_cls)\u001b[0m\n\u001b[1;32m    139\u001b[0m \u001b[38;5;28;01mif\u001b[39;00m gateway \u001b[38;5;129;01mis\u001b[39;00m \u001b[38;5;129;01mnot\u001b[39;00m \u001b[38;5;28;01mNone\u001b[39;00m \u001b[38;5;129;01mand\u001b[39;00m gateway\u001b[38;5;241m.\u001b[39mgateway_parameters\u001b[38;5;241m.\u001b[39mauth_token \u001b[38;5;129;01mis\u001b[39;00m \u001b[38;5;28;01mNone\u001b[39;00m:\n\u001b[1;32m    140\u001b[0m     \u001b[38;5;28;01mraise\u001b[39;00m \u001b[38;5;167;01mValueError\u001b[39;00m(\n\u001b[1;32m    141\u001b[0m         \u001b[38;5;124m\"\u001b[39m\u001b[38;5;124mYou are trying to pass an insecure Py4j gateway to Spark. This\u001b[39m\u001b[38;5;124m\"\u001b[39m\n\u001b[1;32m    142\u001b[0m         \u001b[38;5;124m\"\u001b[39m\u001b[38;5;124m is not allowed as it is a security risk.\u001b[39m\u001b[38;5;124m\"\u001b[39m)\n\u001b[0;32m--> 144\u001b[0m \u001b[43mSparkContext\u001b[49m\u001b[38;5;241;43m.\u001b[39;49m\u001b[43m_ensure_initialized\u001b[49m\u001b[43m(\u001b[49m\u001b[38;5;28;43mself\u001b[39;49m\u001b[43m,\u001b[49m\u001b[43m \u001b[49m\u001b[43mgateway\u001b[49m\u001b[38;5;241;43m=\u001b[39;49m\u001b[43mgateway\u001b[49m\u001b[43m,\u001b[49m\u001b[43m \u001b[49m\u001b[43mconf\u001b[49m\u001b[38;5;241;43m=\u001b[39;49m\u001b[43mconf\u001b[49m\u001b[43m)\u001b[49m\n\u001b[1;32m    145\u001b[0m \u001b[38;5;28;01mtry\u001b[39;00m:\n\u001b[1;32m    146\u001b[0m     \u001b[38;5;28mself\u001b[39m\u001b[38;5;241m.\u001b[39m_do_init(master, appName, sparkHome, pyFiles, environment, batchSize, serializer,\n\u001b[1;32m    147\u001b[0m                   conf, jsc, profiler_cls)\n",
      "File \u001b[0;32m/opt/spark/python/pyspark/context.py:331\u001b[0m, in \u001b[0;36mSparkContext._ensure_initialized\u001b[0;34m(cls, instance, gateway, conf)\u001b[0m\n\u001b[1;32m    329\u001b[0m \u001b[38;5;28;01mwith\u001b[39;00m SparkContext\u001b[38;5;241m.\u001b[39m_lock:\n\u001b[1;32m    330\u001b[0m     \u001b[38;5;28;01mif\u001b[39;00m \u001b[38;5;129;01mnot\u001b[39;00m SparkContext\u001b[38;5;241m.\u001b[39m_gateway:\n\u001b[0;32m--> 331\u001b[0m         SparkContext\u001b[38;5;241m.\u001b[39m_gateway \u001b[38;5;241m=\u001b[39m gateway \u001b[38;5;129;01mor\u001b[39;00m \u001b[43mlaunch_gateway\u001b[49m\u001b[43m(\u001b[49m\u001b[43mconf\u001b[49m\u001b[43m)\u001b[49m\n\u001b[1;32m    332\u001b[0m         SparkContext\u001b[38;5;241m.\u001b[39m_jvm \u001b[38;5;241m=\u001b[39m SparkContext\u001b[38;5;241m.\u001b[39m_gateway\u001b[38;5;241m.\u001b[39mjvm\n\u001b[1;32m    334\u001b[0m     \u001b[38;5;28;01mif\u001b[39;00m instance:\n",
      "File \u001b[0;32m/opt/spark/python/pyspark/java_gateway.py:108\u001b[0m, in \u001b[0;36mlaunch_gateway\u001b[0;34m(conf, popen_kwargs)\u001b[0m\n\u001b[1;32m    105\u001b[0m     time\u001b[38;5;241m.\u001b[39msleep(\u001b[38;5;241m0.1\u001b[39m)\n\u001b[1;32m    107\u001b[0m \u001b[38;5;28;01mif\u001b[39;00m \u001b[38;5;129;01mnot\u001b[39;00m os\u001b[38;5;241m.\u001b[39mpath\u001b[38;5;241m.\u001b[39misfile(conn_info_file):\n\u001b[0;32m--> 108\u001b[0m     \u001b[38;5;28;01mraise\u001b[39;00m \u001b[38;5;167;01mException\u001b[39;00m(\u001b[38;5;124m\"\u001b[39m\u001b[38;5;124mJava gateway process exited before sending its port number\u001b[39m\u001b[38;5;124m\"\u001b[39m)\n\u001b[1;32m    110\u001b[0m \u001b[38;5;28;01mwith\u001b[39;00m \u001b[38;5;28mopen\u001b[39m(conn_info_file, \u001b[38;5;124m\"\u001b[39m\u001b[38;5;124mrb\u001b[39m\u001b[38;5;124m\"\u001b[39m) \u001b[38;5;28;01mas\u001b[39;00m info:\n\u001b[1;32m    111\u001b[0m     gateway_port \u001b[38;5;241m=\u001b[39m read_int(info)\n",
      "\u001b[0;31mException\u001b[0m: Java gateway process exited before sending its port number"
     ]
    }
   ],
   "source": [
    "# SparkSession 생성\n",
    "ss = SparkSession.builder \\\n",
    "    .appName(\"PySpark MSSQL Example\") \\\n",
    "    .config(\"spark.jars\", \"file:/C:/Users/YJ/Desktop/AllProjects/sqljdbc_12.8/kor/jars/mssql-jdbc-12.8.1.jre8.jar\") \\\n",
    "    .getOrCreate()\n",
    "\n",
    "print(\"Spark Session이 성공적으로 생성되었습니다!\")"
   ]
  },
  {
   "cell_type": "code",
   "execution_count": 44,
   "id": "f8cb2476-7487-4e36-a80a-dcd6817a8324",
   "metadata": {},
   "outputs": [
    {
     "name": "stdout",
     "output_type": "stream",
     "text": [
      "JDBC URL: jdbc:sqlserver://172.30.1.44:1433;databaseName=APT_Project;\n",
      "JDBC Properties: {'user': 'APT_Project', 'password': 'APT_Project', 'driver': 'com.microsoft.sqlserver.jdbc.SQLServerDriver'}\n"
     ]
    },
    {
     "ename": "Py4JJavaError",
     "evalue": "An error occurred while calling o152.jdbc.\n: java.lang.ClassNotFoundException: com.microsoft.sqlserver.jdbc.SQLServerDriver\r\n\tat java.base/java.net.URLClassLoader.findClass(URLClassLoader.java:476)\r\n\tat java.base/java.lang.ClassLoader.loadClass(ClassLoader.java:593)\r\n\tat java.base/java.lang.ClassLoader.loadClass(ClassLoader.java:526)\r\n\tat org.apache.spark.sql.execution.datasources.jdbc.DriverRegistry$.register(DriverRegistry.scala:46)\r\n\tat org.apache.spark.sql.execution.datasources.jdbc.JDBCOptions.$anonfun$driverClass$1(JDBCOptions.scala:102)\r\n\tat org.apache.spark.sql.execution.datasources.jdbc.JDBCOptions.$anonfun$driverClass$1$adapted(JDBCOptions.scala:102)\r\n\tat scala.Option.foreach(Option.scala:407)\r\n\tat org.apache.spark.sql.execution.datasources.jdbc.JDBCOptions.<init>(JDBCOptions.scala:102)\r\n\tat org.apache.spark.sql.execution.datasources.jdbc.JDBCOptions.<init>(JDBCOptions.scala:38)\r\n\tat org.apache.spark.sql.execution.datasources.jdbc.JdbcRelationProvider.createRelation(JdbcRelationProvider.scala:32)\r\n\tat org.apache.spark.sql.execution.datasources.DataSource.resolveRelation(DataSource.scala:355)\r\n\tat org.apache.spark.sql.DataFrameReader.loadV1Source(DataFrameReader.scala:325)\r\n\tat org.apache.spark.sql.DataFrameReader.$anonfun$load$3(DataFrameReader.scala:307)\r\n\tat scala.Option.getOrElse(Option.scala:189)\r\n\tat org.apache.spark.sql.DataFrameReader.load(DataFrameReader.scala:307)\r\n\tat org.apache.spark.sql.DataFrameReader.load(DataFrameReader.scala:225)\r\n\tat org.apache.spark.sql.DataFrameReader.jdbc(DataFrameReader.scala:340)\r\n\tat java.base/jdk.internal.reflect.NativeMethodAccessorImpl.invoke0(Native Method)\r\n\tat java.base/jdk.internal.reflect.NativeMethodAccessorImpl.invoke(NativeMethodAccessorImpl.java:62)\r\n\tat java.base/jdk.internal.reflect.DelegatingMethodAccessorImpl.invoke(DelegatingMethodAccessorImpl.java:43)\r\n\tat java.base/java.lang.reflect.Method.invoke(Method.java:566)\r\n\tat py4j.reflection.MethodInvoker.invoke(MethodInvoker.java:244)\r\n\tat py4j.reflection.ReflectionEngine.invoke(ReflectionEngine.java:357)\r\n\tat py4j.Gateway.invoke(Gateway.java:282)\r\n\tat py4j.commands.AbstractCommand.invokeMethod(AbstractCommand.java:132)\r\n\tat py4j.commands.CallCommand.execute(CallCommand.java:79)\r\n\tat py4j.GatewayConnection.run(GatewayConnection.java:238)\r\n\tat java.base/java.lang.Thread.run(Thread.java:834)\r\n",
     "output_type": "error",
     "traceback": [
      "\u001b[1;31m---------------------------------------------------------------------------\u001b[0m",
      "\u001b[1;31mPy4JJavaError\u001b[0m                             Traceback (most recent call last)",
      "Cell \u001b[1;32mIn[44], line 31\u001b[0m\n\u001b[0;32m     23\u001b[0m ss \u001b[38;5;241m=\u001b[39m SparkSession\u001b[38;5;241m.\u001b[39mbuilder \\\n\u001b[0;32m     24\u001b[0m     \u001b[38;5;241m.\u001b[39mappName(\u001b[38;5;124m\"\u001b[39m\u001b[38;5;124mPySpark MSSQL Example\u001b[39m\u001b[38;5;124m\"\u001b[39m) \\\n\u001b[0;32m     25\u001b[0m     \u001b[38;5;241m.\u001b[39mconfig(\u001b[38;5;124m\"\u001b[39m\u001b[38;5;124mspark.jars\u001b[39m\u001b[38;5;124m\"\u001b[39m, \u001b[38;5;124m\"\u001b[39m\u001b[38;5;124mC:/Users/YJ/Desktop/AllProjects/sqljdbc_12.8/kor/jars\u001b[39m\u001b[38;5;124m\"\u001b[39m)\\\n\u001b[0;32m     26\u001b[0m     \u001b[38;5;241m.\u001b[39mgetOrCreate()\n\u001b[0;32m     28\u001b[0m ss\n\u001b[1;32m---> 31\u001b[0m \u001b[43mss\u001b[49m\u001b[38;5;241;43m.\u001b[39;49m\u001b[43mread\u001b[49m\u001b[38;5;241;43m.\u001b[39;49m\u001b[43mjdbc\u001b[49m\u001b[43m(\u001b[49m\n\u001b[0;32m     32\u001b[0m \u001b[43m    \u001b[49m\u001b[43murl\u001b[49m\u001b[43m \u001b[49m\u001b[38;5;241;43m=\u001b[39;49m\u001b[43m \u001b[49m\u001b[43mjdbc_url\u001b[49m\u001b[43m,\u001b[49m\n\u001b[0;32m     33\u001b[0m \u001b[43m    \u001b[49m\u001b[43mtable\u001b[49m\u001b[43m \u001b[49m\u001b[38;5;241;43m=\u001b[39;49m\u001b[43m \u001b[49m\u001b[38;5;124;43m'\u001b[39;49m\u001b[38;5;124;43mdbo.tbAPTPrice\u001b[39;49m\u001b[38;5;124;43m'\u001b[39;49m\u001b[43m,\u001b[49m\n\u001b[0;32m     34\u001b[0m \u001b[43m    \u001b[49m\u001b[43mproperties\u001b[49m\u001b[43m \u001b[49m\u001b[38;5;241;43m=\u001b[39;49m\u001b[43m \u001b[49m\u001b[43mproperties\u001b[49m\u001b[43m    \u001b[49m\n\u001b[0;32m     35\u001b[0m \u001b[43m)\u001b[49m\\\n\u001b[0;32m     36\u001b[0m \u001b[38;5;241m.\u001b[39mshow()\n",
      "File \u001b[1;32m~\\.conda\\envs\\django\\Lib\\site-packages\\pyspark\\sql\\readwriter.py:871\u001b[0m, in \u001b[0;36mDataFrameReader.jdbc\u001b[1;34m(self, url, table, column, lowerBound, upperBound, numPartitions, predicates, properties)\u001b[0m\n\u001b[0;32m    869\u001b[0m     jpredicates \u001b[38;5;241m=\u001b[39m utils\u001b[38;5;241m.\u001b[39mtoJArray(gateway, gateway\u001b[38;5;241m.\u001b[39mjvm\u001b[38;5;241m.\u001b[39mjava\u001b[38;5;241m.\u001b[39mlang\u001b[38;5;241m.\u001b[39mString, predicates)\n\u001b[0;32m    870\u001b[0m     \u001b[38;5;28;01mreturn\u001b[39;00m \u001b[38;5;28mself\u001b[39m\u001b[38;5;241m.\u001b[39m_df(\u001b[38;5;28mself\u001b[39m\u001b[38;5;241m.\u001b[39m_jreader\u001b[38;5;241m.\u001b[39mjdbc(url, table, jpredicates, jprop))\n\u001b[1;32m--> 871\u001b[0m \u001b[38;5;28;01mreturn\u001b[39;00m \u001b[38;5;28mself\u001b[39m\u001b[38;5;241m.\u001b[39m_df(\u001b[38;5;28;43mself\u001b[39;49m\u001b[38;5;241;43m.\u001b[39;49m\u001b[43m_jreader\u001b[49m\u001b[38;5;241;43m.\u001b[39;49m\u001b[43mjdbc\u001b[49m\u001b[43m(\u001b[49m\u001b[43murl\u001b[49m\u001b[43m,\u001b[49m\u001b[43m \u001b[49m\u001b[43mtable\u001b[49m\u001b[43m,\u001b[49m\u001b[43m \u001b[49m\u001b[43mjprop\u001b[49m\u001b[43m)\u001b[49m)\n",
      "File \u001b[1;32m~\\.conda\\envs\\django\\Lib\\site-packages\\py4j\\java_gateway.py:1304\u001b[0m, in \u001b[0;36mJavaMember.__call__\u001b[1;34m(self, *args)\u001b[0m\n\u001b[0;32m   1298\u001b[0m command \u001b[38;5;241m=\u001b[39m proto\u001b[38;5;241m.\u001b[39mCALL_COMMAND_NAME \u001b[38;5;241m+\u001b[39m\\\n\u001b[0;32m   1299\u001b[0m     \u001b[38;5;28mself\u001b[39m\u001b[38;5;241m.\u001b[39mcommand_header \u001b[38;5;241m+\u001b[39m\\\n\u001b[0;32m   1300\u001b[0m     args_command \u001b[38;5;241m+\u001b[39m\\\n\u001b[0;32m   1301\u001b[0m     proto\u001b[38;5;241m.\u001b[39mEND_COMMAND_PART\n\u001b[0;32m   1303\u001b[0m answer \u001b[38;5;241m=\u001b[39m \u001b[38;5;28mself\u001b[39m\u001b[38;5;241m.\u001b[39mgateway_client\u001b[38;5;241m.\u001b[39msend_command(command)\n\u001b[1;32m-> 1304\u001b[0m return_value \u001b[38;5;241m=\u001b[39m \u001b[43mget_return_value\u001b[49m\u001b[43m(\u001b[49m\n\u001b[0;32m   1305\u001b[0m \u001b[43m    \u001b[49m\u001b[43manswer\u001b[49m\u001b[43m,\u001b[49m\u001b[43m \u001b[49m\u001b[38;5;28;43mself\u001b[39;49m\u001b[38;5;241;43m.\u001b[39;49m\u001b[43mgateway_client\u001b[49m\u001b[43m,\u001b[49m\u001b[43m \u001b[49m\u001b[38;5;28;43mself\u001b[39;49m\u001b[38;5;241;43m.\u001b[39;49m\u001b[43mtarget_id\u001b[49m\u001b[43m,\u001b[49m\u001b[43m \u001b[49m\u001b[38;5;28;43mself\u001b[39;49m\u001b[38;5;241;43m.\u001b[39;49m\u001b[43mname\u001b[49m\u001b[43m)\u001b[49m\n\u001b[0;32m   1307\u001b[0m \u001b[38;5;28;01mfor\u001b[39;00m temp_arg \u001b[38;5;129;01min\u001b[39;00m temp_args:\n\u001b[0;32m   1308\u001b[0m     temp_arg\u001b[38;5;241m.\u001b[39m_detach()\n",
      "File \u001b[1;32m~\\.conda\\envs\\django\\Lib\\site-packages\\pyspark\\sql\\utils.py:111\u001b[0m, in \u001b[0;36mcapture_sql_exception.<locals>.deco\u001b[1;34m(*a, **kw)\u001b[0m\n\u001b[0;32m    109\u001b[0m \u001b[38;5;28;01mdef\u001b[39;00m \u001b[38;5;21mdeco\u001b[39m(\u001b[38;5;241m*\u001b[39ma, \u001b[38;5;241m*\u001b[39m\u001b[38;5;241m*\u001b[39mkw):\n\u001b[0;32m    110\u001b[0m     \u001b[38;5;28;01mtry\u001b[39;00m:\n\u001b[1;32m--> 111\u001b[0m         \u001b[38;5;28;01mreturn\u001b[39;00m \u001b[43mf\u001b[49m\u001b[43m(\u001b[49m\u001b[38;5;241;43m*\u001b[39;49m\u001b[43ma\u001b[49m\u001b[43m,\u001b[49m\u001b[43m \u001b[49m\u001b[38;5;241;43m*\u001b[39;49m\u001b[38;5;241;43m*\u001b[39;49m\u001b[43mkw\u001b[49m\u001b[43m)\u001b[49m\n\u001b[0;32m    112\u001b[0m     \u001b[38;5;28;01mexcept\u001b[39;00m py4j\u001b[38;5;241m.\u001b[39mprotocol\u001b[38;5;241m.\u001b[39mPy4JJavaError \u001b[38;5;28;01mas\u001b[39;00m e:\n\u001b[0;32m    113\u001b[0m         converted \u001b[38;5;241m=\u001b[39m convert_exception(e\u001b[38;5;241m.\u001b[39mjava_exception)\n",
      "File \u001b[1;32m~\\.conda\\envs\\django\\Lib\\site-packages\\py4j\\protocol.py:326\u001b[0m, in \u001b[0;36mget_return_value\u001b[1;34m(answer, gateway_client, target_id, name)\u001b[0m\n\u001b[0;32m    324\u001b[0m value \u001b[38;5;241m=\u001b[39m OUTPUT_CONVERTER[\u001b[38;5;28mtype\u001b[39m](answer[\u001b[38;5;241m2\u001b[39m:], gateway_client)\n\u001b[0;32m    325\u001b[0m \u001b[38;5;28;01mif\u001b[39;00m answer[\u001b[38;5;241m1\u001b[39m] \u001b[38;5;241m==\u001b[39m REFERENCE_TYPE:\n\u001b[1;32m--> 326\u001b[0m     \u001b[38;5;28;01mraise\u001b[39;00m Py4JJavaError(\n\u001b[0;32m    327\u001b[0m         \u001b[38;5;124m\"\u001b[39m\u001b[38;5;124mAn error occurred while calling \u001b[39m\u001b[38;5;132;01m{0}\u001b[39;00m\u001b[38;5;132;01m{1}\u001b[39;00m\u001b[38;5;132;01m{2}\u001b[39;00m\u001b[38;5;124m.\u001b[39m\u001b[38;5;130;01m\\n\u001b[39;00m\u001b[38;5;124m\"\u001b[39m\u001b[38;5;241m.\u001b[39m\n\u001b[0;32m    328\u001b[0m         \u001b[38;5;28mformat\u001b[39m(target_id, \u001b[38;5;124m\"\u001b[39m\u001b[38;5;124m.\u001b[39m\u001b[38;5;124m\"\u001b[39m, name), value)\n\u001b[0;32m    329\u001b[0m \u001b[38;5;28;01melse\u001b[39;00m:\n\u001b[0;32m    330\u001b[0m     \u001b[38;5;28;01mraise\u001b[39;00m Py4JError(\n\u001b[0;32m    331\u001b[0m         \u001b[38;5;124m\"\u001b[39m\u001b[38;5;124mAn error occurred while calling \u001b[39m\u001b[38;5;132;01m{0}\u001b[39;00m\u001b[38;5;132;01m{1}\u001b[39;00m\u001b[38;5;132;01m{2}\u001b[39;00m\u001b[38;5;124m. Trace:\u001b[39m\u001b[38;5;130;01m\\n\u001b[39;00m\u001b[38;5;132;01m{3}\u001b[39;00m\u001b[38;5;130;01m\\n\u001b[39;00m\u001b[38;5;124m\"\u001b[39m\u001b[38;5;241m.\u001b[39m\n\u001b[0;32m    332\u001b[0m         \u001b[38;5;28mformat\u001b[39m(target_id, \u001b[38;5;124m\"\u001b[39m\u001b[38;5;124m.\u001b[39m\u001b[38;5;124m\"\u001b[39m, name, value))\n",
      "\u001b[1;31mPy4JJavaError\u001b[0m: An error occurred while calling o152.jdbc.\n: java.lang.ClassNotFoundException: com.microsoft.sqlserver.jdbc.SQLServerDriver\r\n\tat java.base/java.net.URLClassLoader.findClass(URLClassLoader.java:476)\r\n\tat java.base/java.lang.ClassLoader.loadClass(ClassLoader.java:593)\r\n\tat java.base/java.lang.ClassLoader.loadClass(ClassLoader.java:526)\r\n\tat org.apache.spark.sql.execution.datasources.jdbc.DriverRegistry$.register(DriverRegistry.scala:46)\r\n\tat org.apache.spark.sql.execution.datasources.jdbc.JDBCOptions.$anonfun$driverClass$1(JDBCOptions.scala:102)\r\n\tat org.apache.spark.sql.execution.datasources.jdbc.JDBCOptions.$anonfun$driverClass$1$adapted(JDBCOptions.scala:102)\r\n\tat scala.Option.foreach(Option.scala:407)\r\n\tat org.apache.spark.sql.execution.datasources.jdbc.JDBCOptions.<init>(JDBCOptions.scala:102)\r\n\tat org.apache.spark.sql.execution.datasources.jdbc.JDBCOptions.<init>(JDBCOptions.scala:38)\r\n\tat org.apache.spark.sql.execution.datasources.jdbc.JdbcRelationProvider.createRelation(JdbcRelationProvider.scala:32)\r\n\tat org.apache.spark.sql.execution.datasources.DataSource.resolveRelation(DataSource.scala:355)\r\n\tat org.apache.spark.sql.DataFrameReader.loadV1Source(DataFrameReader.scala:325)\r\n\tat org.apache.spark.sql.DataFrameReader.$anonfun$load$3(DataFrameReader.scala:307)\r\n\tat scala.Option.getOrElse(Option.scala:189)\r\n\tat org.apache.spark.sql.DataFrameReader.load(DataFrameReader.scala:307)\r\n\tat org.apache.spark.sql.DataFrameReader.load(DataFrameReader.scala:225)\r\n\tat org.apache.spark.sql.DataFrameReader.jdbc(DataFrameReader.scala:340)\r\n\tat java.base/jdk.internal.reflect.NativeMethodAccessorImpl.invoke0(Native Method)\r\n\tat java.base/jdk.internal.reflect.NativeMethodAccessorImpl.invoke(NativeMethodAccessorImpl.java:62)\r\n\tat java.base/jdk.internal.reflect.DelegatingMethodAccessorImpl.invoke(DelegatingMethodAccessorImpl.java:43)\r\n\tat java.base/java.lang.reflect.Method.invoke(Method.java:566)\r\n\tat py4j.reflection.MethodInvoker.invoke(MethodInvoker.java:244)\r\n\tat py4j.reflection.ReflectionEngine.invoke(ReflectionEngine.java:357)\r\n\tat py4j.Gateway.invoke(Gateway.java:282)\r\n\tat py4j.commands.AbstractCommand.invokeMethod(AbstractCommand.java:132)\r\n\tat py4j.commands.CallCommand.execute(CallCommand.java:79)\r\n\tat py4j.GatewayConnection.run(GatewayConnection.java:238)\r\n\tat java.base/java.lang.Thread.run(Thread.java:834)\r\n"
     ]
    }
   ],
   "source": [
    "config = {\n",
    "    'server' : os.getenv('host_ip'),\n",
    "    'database' : os.getenv('DATABASE'),\n",
    "    'username' : os.getenv('user_id'),\n",
    "    'password' : os.getenv('user_password'),\n",
    "    'driver' : 'ODBC Driver 17 for SQL Server',\n",
    "}\n",
    "# JDBC URL 문자열 생성\n",
    "jdbc_url = f\"jdbc:sqlserver://{config['server']}:1433;databaseName={config['database']};\"\n",
    "\n",
    "# Spark JDBC 연결 설정\n",
    "properties = {\n",
    "    \"user\": config['username'],\n",
    "    \"password\": config['password'],\n",
    "    \"driver\": \"com.microsoft.sqlserver.jdbc.SQLServerDriver\"\n",
    "}\n",
    "\n",
    "print(\"JDBC URL:\", jdbc_url)\n",
    "print(\"JDBC Properties:\", properties)\n",
    "ss\n",
    "\n",
    "\n",
    "ss.read.jdbc(\n",
    "    url = jdbc_url,\n",
    "    table = 'dbo.tbAPTPrice',\n",
    "    properties = properties    \n",
    ")\\\n",
    ".show()\n"
   ]
  },
  {
   "cell_type": "code",
   "execution_count": null,
   "id": "613f3dc8-ea21-42e3-8882-cccd2983947d",
   "metadata": {},
   "outputs": [],
   "source": []
  },
  {
   "cell_type": "code",
   "execution_count": null,
   "id": "7d0c7df5-a6d0-4e4d-9b04-c4effc6f1574",
   "metadata": {},
   "outputs": [],
   "source": []
  },
  {
   "cell_type": "code",
   "execution_count": null,
   "id": "9c29f35a-4fb9-4983-a8db-fa0cbccb2048",
   "metadata": {},
   "outputs": [],
   "source": []
  },
  {
   "cell_type": "code",
   "execution_count": null,
   "id": "47034b30-0fb3-4fee-ac4a-9d368bc11354",
   "metadata": {},
   "outputs": [],
   "source": []
  },
  {
   "cell_type": "code",
   "execution_count": null,
   "id": "fa1a7e9e-80ca-442f-88fb-fc41489eeb06",
   "metadata": {},
   "outputs": [],
   "source": []
  },
  {
   "cell_type": "code",
   "execution_count": null,
   "id": "e595ed87-dc8b-4675-ba85-d76ee2ba3811",
   "metadata": {},
   "outputs": [],
   "source": []
  },
  {
   "cell_type": "code",
   "execution_count": null,
   "id": "0f197447-9b14-428d-a264-d1e88487804a",
   "metadata": {},
   "outputs": [],
   "source": []
  },
  {
   "cell_type": "markdown",
   "id": "71e42225-790f-4263-b6d6-6888f1725961",
   "metadata": {},
   "source": [
    "<h1 id=\"라이브러리-불러오기\" style=\"\n",
    "    background-color: #1E1E1E; \n",
    "    margin: 0; \n",
    "    padding: 20px; \n",
    "    color: #61dafb; \n",
    "    font-size: 32px; \n",
    "    font-weight: bold; \n",
    "    text-shadow: 2px 2px 4px rgba(0, 0, 0, 0.8); \n",
    "    border-bottom: 4px solid #61dafb; \n",
    "    border-radius: 10px;\">\n",
    "    🚀 라이브러리 불러오기\n",
    "</h1>\n"
   ]
  },
  {
   "cell_type": "code",
   "execution_count": null,
   "id": "cba375f7-c685-4997-9e98-bca9249117ec",
   "metadata": {},
   "outputs": [],
   "source": [
    "file_path = os.path.join(os.getcwd(), 'data', 'house_project_data/*.csv')\n",
    "file_path2 = os.path.join(os.getcwd(), 'data', 'house_project_data/code/*.csv')\n",
    "\n",
    "df = ss.read.csv(f'file:///{file_path}', inferSchema = True, header = True, encoding = 'cp949')\n",
    "df\n",
    "\n",
    "df_rate = ss.read.csv(f'file:///{file_path2}', inferSchema = True, header = True, encoding = 'cp949')\n",
    "df_rate"
   ]
  },
  {
   "cell_type": "code",
   "execution_count": 144,
   "id": "f12a7ee3-f931-472c-a11f-58eec309cbd0",
   "metadata": {},
   "outputs": [],
   "source": [
    "## 로컬용\n",
    "tmp_df1 = ss.read.csv('./data/house_project_data/서울시 부동산 실거래가 정보_2017.csv', inferSchema = True, header = True, encoding = 'cp949')\n",
    "tmp_df2 = ss.read.csv('./data/house_project_data/서울시 부동산 실거래가 정보_2018.csv', inferSchema = True, header = True, encoding = 'cp949')\n",
    "tmp_df3 = ss.read.csv('./data/house_project_data/서울시 부동산 실거래가 정보_2019.csv', inferSchema = True, header = True, encoding = 'cp949')\n",
    "tmp_df4 = ss.read.csv('./data/house_project_data/서울시 부동산 실거래가 정보_2020.csv', inferSchema = True, header = True, encoding = 'cp949')\n",
    "tmp_df5 = ss.read.csv('./data/house_project_data/서울시 부동산 실거래가 정보_2021.csv', inferSchema = True, header = True, encoding = 'cp949')\n",
    "tmp_df6 = ss.read.csv('./data/house_project_data/서울시 부동산 실거래가 정보_2022.csv', inferSchema = True, header = True, encoding = 'cp949')\n",
    "tmp_df7 = ss.read.csv('./data/house_project_data/서울시 부동산 실거래가 정보_2023.csv', inferSchema = True, header = True, encoding = 'cp949')\n",
    "tmp_df8 = ss.read.csv('./data/house_project_data/서울시 부동산 실거래가 정보_2024.csv', inferSchema = True, header = True, encoding = 'cp949')\n",
    "\n",
    "df = tmp_df1\\\n",
    "    .union(tmp_df2)\\\n",
    "    .union(tmp_df3)\\\n",
    "    .union(tmp_df4)\\\n",
    "    .union(tmp_df5)\\\n",
    "    .union(tmp_df6)\\\n",
    "    .union(tmp_df7)\\\n",
    "    .union(tmp_df8)\n",
    "\n",
    "df_rate = ss.read.csv('./data/house_project_data/code/korea_base_interest_rate.csv', inferSchema = True, header = True, encoding = 'cp949')"
   ]
  },
  {
   "cell_type": "code",
   "execution_count": 18,
   "id": "69a9c0c1-7bd3-45ca-8f7d-f05b1918e220",
   "metadata": {},
   "outputs": [
    {
     "name": "stdout",
     "output_type": "stream",
     "text": [
      "+--------+----------+--------+----------+--------+--------+----------+----+----+----------+--------+--------------+------------+------------+---+--------+------+--------+----------+--------+------------------------------+\n",
      "|접수연도|자치구코드|자치구명|법정동코드|법정동명|지번구분|지번구분명|본번|부번|건물명    |계약일  |물건금액(만원)|건물면적(㎡)|토지면적(㎡)|층 |권리구분|취소일|건축년도|건물용도  |신고구분|신고한 개업공인중개사 시군구명|\n",
      "+--------+----------+--------+----------+--------+--------+----------+----+----+----------+--------+--------------+------------+------------+---+--------+------+--------+----------+--------+------------------------------+\n",
      "|2017    |11740     |강동구  |10900     |천호동  |1       |대지      |0449|49  |힐탑프라자|20180310|8900          |20.48       |24.26       |16 |null    |null  |1994    |오피스텔  |null    |null                          |\n",
      "|2017    |11260     |중랑구  |10400     |묵동    |1       |대지      |0243|110 |애플하우스|20180307|16500         |29.7        |16.84       |4  |null    |null  |2012    |연립다세대|null    |null                          |\n",
      "|2017    |11680     |강남구  |11400     |일원동  |1       |대지      |0731|0   |한솔마을  |20180206|135000        |84.73       |0.0         |5  |null    |null  |1994    |아파트    |null    |null                          |\n",
      "+--------+----------+--------+----------+--------+--------+----------+----+----+----------+--------+--------------+------------+------------+---+--------+------+--------+----------+--------+------------------------------+\n",
      "only showing top 3 rows\n",
      "\n"
     ]
    }
   ],
   "source": [
    "df.show(3, truncate = False)"
   ]
  },
  {
   "cell_type": "code",
   "execution_count": 78,
   "id": "0d595ba5-a533-4cf7-a979-92c2c0ae1fa7",
   "metadata": {},
   "outputs": [
    {
     "name": "stdout",
     "output_type": "stream",
     "text": [
      "root\n",
      " |-- 접수연도: integer (nullable = true)\n",
      " |-- 자치구코드: integer (nullable = true)\n",
      " |-- 자치구명: string (nullable = true)\n",
      " |-- 법정동코드: integer (nullable = true)\n",
      " |-- 법정동명: string (nullable = true)\n",
      " |-- 지번구분: integer (nullable = true)\n",
      " |-- 지번구분명: string (nullable = true)\n",
      " |-- 본번: string (nullable = true)\n",
      " |-- 부번: string (nullable = true)\n",
      " |-- 건물명: string (nullable = true)\n",
      " |-- 계약일: integer (nullable = true)\n",
      " |-- 물건금액(만원): integer (nullable = true)\n",
      " |-- 건물면적(㎡): double (nullable = true)\n",
      " |-- 토지면적(㎡): double (nullable = true)\n",
      " |-- 층: integer (nullable = true)\n",
      " |-- 권리구분: string (nullable = true)\n",
      " |-- 취소일: string (nullable = true)\n",
      " |-- 건축년도: string (nullable = true)\n",
      " |-- 건물용도: string (nullable = true)\n",
      " |-- 신고구분: string (nullable = true)\n",
      " |-- 신고한 개업공인중개사 시군구명: string (nullable = true)\n",
      "\n"
     ]
    }
   ],
   "source": [
    "df.printSchema()"
   ]
  },
  {
   "cell_type": "code",
   "execution_count": 19,
   "id": "0364dec1-3c33-4983-a962-681e33bbce32",
   "metadata": {},
   "outputs": [
    {
     "data": {
      "text/plain": [
       "1035346"
      ]
     },
     "execution_count": 19,
     "metadata": {},
     "output_type": "execute_result"
    }
   ],
   "source": [
    "df.count()"
   ]
  },
  {
   "cell_type": "code",
   "execution_count": 146,
   "id": "519f6fb6-c4bb-4868-923a-26c96c35ff9f",
   "metadata": {},
   "outputs": [
    {
     "data": {
      "text/plain": [
       "['sumbit_year',\n",
       " 'jachigu_code',\n",
       " 'jachigu_name',\n",
       " 'law_code',\n",
       " 'law_name',\n",
       " 'jibun_gubun',\n",
       " 'jibun_name',\n",
       " 'real_num',\n",
       " 'extra_num',\n",
       " 'building_name',\n",
       " 'contract_date',\n",
       " 'building_price',\n",
       " 'building_size',\n",
       " 'land_size',\n",
       " 'floor',\n",
       " 'right_gubun',\n",
       " 'cancel_date',\n",
       " 'building_year',\n",
       " 'building_usage',\n",
       " 'singo_gubun',\n",
       " 'agent_area']"
      ]
     },
     "execution_count": 146,
     "metadata": {},
     "output_type": "execute_result"
    }
   ],
   "source": [
    "renamed_columns = ['sumbit_year', 'jachigu_code', 'jachigu_name', 'law_code', 'law_name', 'jibun_gubun', 'jibun_name', 'real_num', 'extra_num', 'building_name', 'contract_date', 'building_price', 'building_size', 'land_size', 'floor', 'right_gubun', 'cancel_date', 'building_year', 'building_usage', 'singo_gubun', 'agent_area']\n",
    "\n",
    "if len(df.columns) == len(renamed_columns):\n",
    "    renamed_columns_dict = {i : j for i,j in zip(df.columns, renamed_columns)}\n",
    "\n",
    "for num, i in enumerate(df.columns):\n",
    "    if i == list(renamed_columns_dict.keys())[num]:\n",
    "        df = df.withColumnRenamed(i, list(renamed_columns_dict.values())[num])\n",
    "\n",
    "df.columns"
   ]
  },
  {
   "cell_type": "code",
   "execution_count": 21,
   "id": "aa8173be-8ccc-4906-8fa0-d931a50ef95f",
   "metadata": {},
   "outputs": [
    {
     "name": "stdout",
     "output_type": "stream",
     "text": [
      "['SQL Server', 'ODBC Driver 17 for SQL Server', 'SQL Server Native Client RDA 11.0']\n"
     ]
    }
   ],
   "source": [
    "# 설치된 드라이버 확인\n",
    "print(pyodbc.drivers())"
   ]
  },
  {
   "cell_type": "code",
   "execution_count": 54,
   "id": "193bb7a9-0c56-40c3-8eee-28283ab16600",
   "metadata": {},
   "outputs": [],
   "source": [
    "load_dotenv()\n",
    "\n",
    "config = {\n",
    "    'server' : os.getenv('host_ip'),\n",
    "    'database' : os.getenv('DATABASE'),\n",
    "    'username' : os.getenv('user_id'),\n",
    "    'password' : os.getenv('user_password'),\n",
    "    'driver' : 'ODBC Driver 17 for SQL Server',\n",
    "}\n",
    "\n",
    "conn_str = f\"DRIVER={config['driver']};SERVER={config['server']};DATABASE={config['database']};UID={config['username']};PWD={config['password']}\"\n",
    "conn = pyodbc.connect(conn_str)\n",
    "\n",
    "conn\n",
    "\n",
    "cursor = conn.cursor()"
   ]
  },
  {
   "cell_type": "code",
   "execution_count": 58,
   "id": "748f7b0f-fd13-42d7-8674-4ed0667b6b1c",
   "metadata": {},
   "outputs": [
    {
     "name": "stdout",
     "output_type": "stream",
     "text": [
      "('2017', '11680', '강남구', '11000', '압구정동', '1', '대지', '369', '1', '현대1차(12,13,21,22,31,32,33동)', '209000', '131.48', 0.0, '12', None, None, '1976', '아파트', None, None, datetime.date(2017, 5, 1))\n",
      "('2017', '11320', '도봉구', '10700', '창동', '1', '대지', '6', '1', '\\t(6-1)\\t', '9900', '37.28', 48.11, '7', None, None, '1997', '오피스텔', None, None, datetime.date(2017, 5, 1))\n",
      "('2017', '11440', '마포구', '10400', '도화동', '1', '대지', '555', '0', '한화오벨리스크', '34500', '38.08', 0.0, '14', None, None, '2004', '아파트', None, None, datetime.date(2017, 5, 1))\n",
      "('2017', '11545', '금천구', '10200', '독산동', '1', '대지', '711', '2', '금천현대', '30000', '59.82', 0.0, '14', None, None, '2002', '아파트', None, None, datetime.date(2017, 5, 1))\n",
      "('2017', '11380', '은평구', '11400', '진관동', '1', '대지', '140', '0', '폭포동4단지힐스테이트(408~422동)BL3-9', '76767', '166.96', 0.0, '5', '분양권', None, '0   ', '아파트', None, None, datetime.date(2017, 5, 1))\n",
      "('2017', '11650', '서초구', '10100', '방배동', '1', '대지', '769', '7', '(769-7)', '50000', '56.68', 33.32, '2', None, None, '2016', '연립다세대', None, None, datetime.date(2017, 5, 1))\n",
      "('2017', '11320', '도봉구', '10600', '방학동', '1', '대지', '731', '0', '한화성원아파트', '29000', '84.98', 0.0, '15', None, None, '1996', '아파트', None, None, datetime.date(2017, 5, 1))\n",
      "('2017', '11380', '은평구', '10200', '녹번동', '1', '대지', '280', '1', '녹번JR아파트', '32500', '59.87', 0.0, '4', None, None, '2002', '아파트', None, None, datetime.date(2017, 5, 1))\n",
      "('2017', '11350', '노원구', '10400', '하계동', '1', '대지', '274', '0', '청솔(시영7)', '25400', '49.5', 0.0, '4', None, None, '1989', '아파트', None, None, datetime.date(2017, 5, 1))\n",
      "('2017', '11200', '성동구', '10800', '응봉동', '1', '대지', '100', '0', '대림(1차)', '51800', '75.51', 0.0, '4', None, None, '1986', '아파트', None, None, datetime.date(2017, 5, 1))\n"
     ]
    }
   ],
   "source": [
    "for i in cursor.execute('select * from tbAPTPrice').fetchmany(10):\n",
    "    print(i)"
   ]
  }
 ],
 "metadata": {
  "kernelspec": {
   "display_name": "Python (spark_start)",
   "language": "python",
   "name": "spark_start"
  },
  "language_info": {
   "codemirror_mode": {
    "name": "ipython",
    "version": 3
   },
   "file_extension": ".py",
   "mimetype": "text/x-python",
   "name": "python",
   "nbconvert_exporter": "python",
   "pygments_lexer": "ipython3",
   "version": "3.8.20"
  }
 },
 "nbformat": 4,
 "nbformat_minor": 5
}
