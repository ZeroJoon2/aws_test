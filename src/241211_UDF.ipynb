{
 "cells": [
  {
   "cell_type": "code",
   "execution_count": 7,
   "id": "c2da52da-8e18-49cd-9c30-ddc15bf01df6",
   "metadata": {},
   "outputs": [],
   "source": [
    "from pyspark.sql import SparkSession\n",
    "from pyspark.sql.types import LongType"
   ]
  },
  {
   "cell_type": "code",
   "execution_count": 3,
   "id": "606b31f4-2572-4a37-9bc4-d38929f98b79",
   "metadata": {},
   "outputs": [
    {
     "name": "stderr",
     "output_type": "stream",
     "text": [
      "24/12/11 16:09:22 WARN NativeCodeLoader: Unable to load native-hadoop library for your platform... using builtin-java classes where applicable\n",
      "Using Spark's default log4j profile: org/apache/spark/log4j-defaults.properties\n",
      "Setting default log level to \"WARN\".\n",
      "To adjust logging level use sc.setLogLevel(newLevel). For SparkR, use setLogLevel(newLevel).\n"
     ]
    },
    {
     "data": {
      "text/html": [
       "\n",
       "            <div>\n",
       "                <p><b>SparkSession - in-memory</b></p>\n",
       "                \n",
       "        <div>\n",
       "            <p><b>SparkContext</b></p>\n",
       "\n",
       "            <p><a href=\"http://ip-172-31-3-9.ap-northeast-3.compute.internal:4040\">Spark UI</a></p>\n",
       "\n",
       "            <dl>\n",
       "              <dt>Version</dt>\n",
       "                <dd><code>v3.1.2</code></dd>\n",
       "              <dt>Master</dt>\n",
       "                <dd><code>local[*]</code></dd>\n",
       "              <dt>AppName</dt>\n",
       "                <dd><code>UDF</code></dd>\n",
       "            </dl>\n",
       "        </div>\n",
       "        \n",
       "            </div>\n",
       "        "
      ],
      "text/plain": [
       "<pyspark.sql.session.SparkSession at 0x7fd80c482130>"
      ]
     },
     "execution_count": 3,
     "metadata": {},
     "output_type": "execute_result"
    }
   ],
   "source": [
    "ss = SparkSession.builder\\\n",
    ".appName('UDF')\\\n",
    ".getOrCreate()\n",
    "\n",
    "ss"
   ]
  },
  {
   "cell_type": "code",
   "execution_count": 1,
   "id": "506673a4-8ea0-4df2-8c36-1359e4f1fa58",
   "metadata": {},
   "outputs": [],
   "source": [
    "datas = [\n",
    "    (\"A\", \"2022-04-16\", 31200),\n",
    "    (\"B\", \"2022-04-17\", 41200),\n",
    "    (\"C\", \"2022-04-11\", 31500),\n",
    "    (\"D\", \"2022-04-12\", 21500),\n",
    "    (\"E\", \"2022-04-13\", 51000)\n",
    "]\n",
    "columns = [\"product\", \"date\", \"price\"]"
   ]
  },
  {
   "cell_type": "code",
   "execution_count": 4,
   "id": "67997525-f1fa-469a-836f-9c06ccab7194",
   "metadata": {},
   "outputs": [
    {
     "name": "stderr",
     "output_type": "stream",
     "text": [
      "[Stage 0:>                                                          (0 + 1) / 1]\r"
     ]
    },
    {
     "name": "stdout",
     "output_type": "stream",
     "text": [
      "+-------+----------+-----+\n",
      "|product|      date|price|\n",
      "+-------+----------+-----+\n",
      "|      A|2022-04-16|31200|\n",
      "|      B|2022-04-17|41200|\n",
      "|      C|2022-04-11|31500|\n",
      "|      D|2022-04-12|21500|\n",
      "|      E|2022-04-13|51000|\n",
      "+-------+----------+-----+\n",
      "\n"
     ]
    },
    {
     "name": "stderr",
     "output_type": "stream",
     "text": [
      "                                                                                \r"
     ]
    }
   ],
   "source": [
    "df = ss.createDataFrame(data=datas, schema = columns)\n",
    "df.show()"
   ]
  },
  {
   "cell_type": "markdown",
   "id": "fe75c0d5-5b1f-4655-98f0-acce4ea070d3",
   "metadata": {},
   "source": [
    "### UDF(User Defined Function)\n",
    "- 쿼리문에서 사용하는 사용자 정의 함수"
   ]
  },
  {
   "cell_type": "code",
   "execution_count": 15,
   "id": "f8832401-333c-4cff-81be-2319d660efa2",
   "metadata": {},
   "outputs": [],
   "source": [
    "def squared(n):\n",
    "    return n*n #함수를 정의하면 return이 집합으로 반환함"
   ]
  },
  {
   "cell_type": "code",
   "execution_count": 17,
   "id": "c2472ce5-a190-4b95-a1ae-e6241301cca3",
   "metadata": {},
   "outputs": [
    {
     "data": {
      "text/plain": [
       "<function __main__.squared(n)>"
      ]
     },
     "execution_count": 17,
     "metadata": {},
     "output_type": "execute_result"
    }
   ],
   "source": [
    "ss.udf.register('udf_squared', squared, LongType())"
   ]
  },
  {
   "cell_type": "code",
   "execution_count": 11,
   "id": "bf19afcf-171c-4b52-bff3-c8f5f7a14dbf",
   "metadata": {},
   "outputs": [],
   "source": [
    "df.createOrReplaceTempView('datas')"
   ]
  },
  {
   "cell_type": "code",
   "execution_count": 44,
   "id": "417ed404-0907-44a3-be43-e9debdfc234b",
   "metadata": {},
   "outputs": [
    {
     "name": "stdout",
     "output_type": "stream",
     "text": [
      "+----------+\n",
      "|udf_result|\n",
      "+----------+\n",
      "| 973440000|\n",
      "|1697440000|\n",
      "| 992250000|\n",
      "| 462250000|\n",
      "|2601000000|\n",
      "+----------+\n",
      "\n",
      "+-------------+\n",
      "|   udf_result|\n",
      "+-------------+\n",
      "|  973,440,000|\n",
      "|1,697,440,000|\n",
      "|  992,250,000|\n",
      "|  462,250,000|\n",
      "|2,601,000,000|\n",
      "+-------------+\n",
      "\n"
     ]
    }
   ],
   "source": [
    "ss.sql('''\n",
    "    SELECT\n",
    "        udf_squared(price) as udf_result\n",
    "    FROM datas\n",
    "''').show()\n",
    "\n",
    "ss.sql('''\n",
    "    SELECT\n",
    "        format_number(udf_squared(price),0) as udf_result\n",
    "    FROM datas\n",
    "''').show()"
   ]
  },
  {
   "cell_type": "code",
   "execution_count": null,
   "id": "ae7b16d4-fa9a-4044-8ab5-e16ab28cfc82",
   "metadata": {},
   "outputs": [],
   "source": []
  },
  {
   "cell_type": "code",
   "execution_count": 47,
   "id": "7ccbcf3f-466c-45e7-ad9a-daf2ea4ea34d",
   "metadata": {},
   "outputs": [],
   "source": [
    "def read_number(n):\n",
    "    units = ['','십 ', '백 ', '천 ', '만 ', '억 ', '조 ', '경 ','해 ', '자 ', '양 ', '구 ', '간 ', '정 ', '재 ', '극 ', '항하사 ', '아승기 ', '나유타 ', '불가사의 ', '무량수/무량대수 ']\n",
    "    nums = '일이삼사오육칠팔구'\n",
    "    result = []\n",
    "    i = 0\n",
    "    while n>0:\n",
    "        n,r = divmod(n,10)\n",
    "        if r > 0:\n",
    "            result.append(nums[r-1]+units[i])\n",
    "        i += 1\n",
    "    return ''.join(reversed(result))"
   ]
  },
  {
   "cell_type": "code",
   "execution_count": 48,
   "id": "036bfdb6-7061-462e-829d-0f426e74cdac",
   "metadata": {},
   "outputs": [
    {
     "data": {
      "text/plain": [
       "'일아승기 이항하사 삼극 일재 이정 일간 이구 삼양 일자 이해 삼경 일조 삼억 이만 삼천 일백 이십 삼'"
      ]
     },
     "execution_count": 48,
     "metadata": {},
     "output_type": "execute_result"
    }
   ],
   "source": [
    "read_number(123121231231323123)"
   ]
  },
  {
   "cell_type": "code",
   "execution_count": 39,
   "id": "6b1b838b-d5ee-4650-804c-6bc4318919e1",
   "metadata": {},
   "outputs": [
    {
     "data": {
      "text/plain": [
       "<function __main__.read_number(n)>"
      ]
     },
     "execution_count": 39,
     "metadata": {},
     "output_type": "execute_result"
    }
   ],
   "source": [
    "ss.udf.register('udf_read_number', read_number)"
   ]
  },
  {
   "cell_type": "code",
   "execution_count": 41,
   "id": "fa156f1e-b1d3-40e4-9fef-e51c91ecba6a",
   "metadata": {},
   "outputs": [
    {
     "name": "stdout",
     "output_type": "stream",
     "text": [
      "+----------------------+\n",
      "|udf_read_number(price)|\n",
      "+----------------------+\n",
      "|          삼만일천이백|\n",
      "|          사만일천이백|\n",
      "|          삼만일천오백|\n",
      "|          이만일천오백|\n",
      "|              오만일천|\n",
      "+----------------------+\n",
      "\n"
     ]
    }
   ],
   "source": [
    "ss.sql('''\n",
    "    select\n",
    "        udf_read_number(price)\n",
    "    from datas        \n",
    "''').show()"
   ]
  },
  {
   "cell_type": "code",
   "execution_count": 49,
   "id": "810931c5-8510-40cf-95e6-f9d7203fa11e",
   "metadata": {},
   "outputs": [],
   "source": [
    "ss.stop()"
   ]
  }
 ],
 "metadata": {
  "kernelspec": {
   "display_name": "Python (spark_start)",
   "language": "python",
   "name": "spark_start"
  },
  "language_info": {
   "codemirror_mode": {
    "name": "ipython",
    "version": 3
   },
   "file_extension": ".py",
   "mimetype": "text/x-python",
   "name": "python",
   "nbconvert_exporter": "python",
   "pygments_lexer": "ipython3",
   "version": "3.8.20"
  }
 },
 "nbformat": 4,
 "nbformat_minor": 5
}
