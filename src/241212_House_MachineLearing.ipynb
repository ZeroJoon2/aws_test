{
 "cells": [
  {
   "cell_type": "code",
   "execution_count": 73,
   "id": "fe814c8e-13f3-447a-b365-64feca4895df",
   "metadata": {},
   "outputs": [],
   "source": [
    "from pyspark.sql import SparkSession\n",
    "from pyspark.sql.functions import col\n",
    "\n",
    "from pyspark.ml import Pipeline, PipelineModel\n",
    "from pyspark.ml.feature import StringIndexer, VectorAssembler, OneHotEncoder\n",
    "from pyspark.ml.regression import LinearRegression, LinearRegressionModel\n",
    "\n",
    "import pandas as pd"
   ]
  },
  {
   "cell_type": "code",
   "execution_count": 6,
   "id": "020ea1ef-ed5f-498f-a826-0ffafde22981",
   "metadata": {},
   "outputs": [
    {
     "data": {
      "text/html": [
       "\n",
       "            <div>\n",
       "                <p><b>SparkSession - in-memory</b></p>\n",
       "                \n",
       "        <div>\n",
       "            <p><b>SparkContext</b></p>\n",
       "\n",
       "            <p><a href=\"http://ip-172-31-3-9.ap-northeast-3.compute.internal:4040\">Spark UI</a></p>\n",
       "\n",
       "            <dl>\n",
       "              <dt>Version</dt>\n",
       "                <dd><code>v3.1.2</code></dd>\n",
       "              <dt>Master</dt>\n",
       "                <dd><code>local[*]</code></dd>\n",
       "              <dt>AppName</dt>\n",
       "                <dd><code>house</code></dd>\n",
       "            </dl>\n",
       "        </div>\n",
       "        \n",
       "            </div>\n",
       "        "
      ],
      "text/plain": [
       "<pyspark.sql.session.SparkSession at 0x7f7809ba26d0>"
      ]
     },
     "execution_count": 6,
     "metadata": {},
     "output_type": "execute_result"
    }
   ],
   "source": [
    "ss = SparkSession.builder.appName('house').getOrCreate()\n",
    "ss"
   ]
  },
  {
   "cell_type": "code",
   "execution_count": 7,
   "id": "a555cc11-bfa0-4116-a3f3-937c0d6d5926",
   "metadata": {},
   "outputs": [],
   "source": [
    "train_df = ss.read.csv('data/house/house_train.csv'\\\n",
    "            , inferSchema = True\\\n",
    "            , header = True)\n",
    "\n",
    "test_df = ss.read.csv('data/house/house_test.csv'\\\n",
    "            , inferSchema = True\\\n",
    "            , header = True)"
   ]
  },
  {
   "cell_type": "code",
   "execution_count": 6,
   "id": "4de76d0d-ada4-4782-9712-0c439dcfb1e7",
   "metadata": {},
   "outputs": [],
   "source": [
    "# sale price : label\n",
    "# features : ????"
   ]
  },
  {
   "cell_type": "markdown",
   "id": "06deadb8-2a13-4b8c-80ee-d1c121e42a10",
   "metadata": {},
   "source": [
    "## 전처리"
   ]
  },
  {
   "cell_type": "markdown",
   "id": "d654cf3c-5e2e-4e28-8c01-454d405c2502",
   "metadata": {},
   "source": [
    "### 타입 바꿔주기"
   ]
  },
  {
   "cell_type": "code",
   "execution_count": 8,
   "id": "4ce1e563-31ec-4d8a-8f84-fab50e54adbe",
   "metadata": {
    "scrolled": true
   },
   "outputs": [
    {
     "name": "stdout",
     "output_type": "stream",
     "text": [
      "root\n",
      " |-- Id: integer (nullable = true)\n",
      " |-- MSSubClass: integer (nullable = true)\n",
      " |-- MSZoning: string (nullable = true)\n",
      " |-- LotFrontage: string (nullable = true)\n",
      " |-- LotArea: integer (nullable = true)\n",
      " |-- Street: string (nullable = true)\n",
      " |-- Alley: string (nullable = true)\n",
      " |-- LotShape: string (nullable = true)\n",
      " |-- LandContour: string (nullable = true)\n",
      " |-- Utilities: string (nullable = true)\n",
      " |-- LotConfig: string (nullable = true)\n",
      " |-- LandSlope: string (nullable = true)\n",
      " |-- Neighborhood: string (nullable = true)\n",
      " |-- Condition1: string (nullable = true)\n",
      " |-- Condition2: string (nullable = true)\n",
      " |-- BldgType: string (nullable = true)\n",
      " |-- HouseStyle: string (nullable = true)\n",
      " |-- OverallQual: integer (nullable = true)\n",
      " |-- OverallCond: integer (nullable = true)\n",
      " |-- YearBuilt: integer (nullable = true)\n",
      " |-- YearRemodAdd: integer (nullable = true)\n",
      " |-- RoofStyle: string (nullable = true)\n",
      " |-- RoofMatl: string (nullable = true)\n",
      " |-- Exterior1st: string (nullable = true)\n",
      " |-- Exterior2nd: string (nullable = true)\n",
      " |-- MasVnrType: string (nullable = true)\n",
      " |-- MasVnrArea: string (nullable = true)\n",
      " |-- ExterQual: string (nullable = true)\n",
      " |-- ExterCond: string (nullable = true)\n",
      " |-- Foundation: string (nullable = true)\n",
      " |-- BsmtQual: string (nullable = true)\n",
      " |-- BsmtCond: string (nullable = true)\n",
      " |-- BsmtExposure: string (nullable = true)\n",
      " |-- BsmtFinType1: string (nullable = true)\n",
      " |-- BsmtFinSF1: integer (nullable = true)\n",
      " |-- BsmtFinType2: string (nullable = true)\n",
      " |-- BsmtFinSF2: integer (nullable = true)\n",
      " |-- BsmtUnfSF: integer (nullable = true)\n",
      " |-- TotalBsmtSF: integer (nullable = true)\n",
      " |-- Heating: string (nullable = true)\n",
      " |-- HeatingQC: string (nullable = true)\n",
      " |-- CentralAir: string (nullable = true)\n",
      " |-- Electrical: string (nullable = true)\n",
      " |-- 1stFlrSF: integer (nullable = true)\n",
      " |-- 2ndFlrSF: integer (nullable = true)\n",
      " |-- LowQualFinSF: integer (nullable = true)\n",
      " |-- GrLivArea: integer (nullable = true)\n",
      " |-- BsmtFullBath: integer (nullable = true)\n",
      " |-- BsmtHalfBath: integer (nullable = true)\n",
      " |-- FullBath: integer (nullable = true)\n",
      " |-- HalfBath: integer (nullable = true)\n",
      " |-- BedroomAbvGr: integer (nullable = true)\n",
      " |-- KitchenAbvGr: integer (nullable = true)\n",
      " |-- KitchenQual: string (nullable = true)\n",
      " |-- TotRmsAbvGrd: integer (nullable = true)\n",
      " |-- Functional: string (nullable = true)\n",
      " |-- Fireplaces: integer (nullable = true)\n",
      " |-- FireplaceQu: string (nullable = true)\n",
      " |-- GarageType: string (nullable = true)\n",
      " |-- GarageYrBlt: string (nullable = true)\n",
      " |-- GarageFinish: string (nullable = true)\n",
      " |-- GarageCars: integer (nullable = true)\n",
      " |-- GarageArea: integer (nullable = true)\n",
      " |-- GarageQual: string (nullable = true)\n",
      " |-- GarageCond: string (nullable = true)\n",
      " |-- PavedDrive: string (nullable = true)\n",
      " |-- WoodDeckSF: integer (nullable = true)\n",
      " |-- OpenPorchSF: integer (nullable = true)\n",
      " |-- EnclosedPorch: integer (nullable = true)\n",
      " |-- 3SsnPorch: integer (nullable = true)\n",
      " |-- ScreenPorch: integer (nullable = true)\n",
      " |-- PoolArea: integer (nullable = true)\n",
      " |-- PoolQC: string (nullable = true)\n",
      " |-- Fence: string (nullable = true)\n",
      " |-- MiscFeature: string (nullable = true)\n",
      " |-- MiscVal: integer (nullable = true)\n",
      " |-- MoSold: integer (nullable = true)\n",
      " |-- YrSold: integer (nullable = true)\n",
      " |-- SaleType: string (nullable = true)\n",
      " |-- SaleCondition: string (nullable = true)\n",
      " |-- SalePrice: integer (nullable = true)\n",
      "\n"
     ]
    }
   ],
   "source": [
    "train_df.printSchema()"
   ]
  },
  {
   "cell_type": "code",
   "execution_count": 21,
   "id": "cfe0a4e5-5a63-48bc-8b88-27cf283be9e8",
   "metadata": {
    "scrolled": true
   },
   "outputs": [
    {
     "name": "stdout",
     "output_type": "stream",
     "text": [
      "root\n",
      " |-- Id: integer (nullable = true)\n",
      " |-- MSSubClass: integer (nullable = true)\n",
      " |-- MSZoning: string (nullable = true)\n",
      " |-- LotFrontage: string (nullable = true)\n",
      " |-- LotArea: integer (nullable = true)\n",
      " |-- Street: string (nullable = true)\n",
      " |-- Alley: string (nullable = true)\n",
      " |-- LotShape: string (nullable = true)\n",
      " |-- LandContour: string (nullable = true)\n",
      " |-- Utilities: string (nullable = true)\n",
      " |-- LotConfig: string (nullable = true)\n",
      " |-- LandSlope: string (nullable = true)\n",
      " |-- Neighborhood: string (nullable = true)\n",
      " |-- Condition1: string (nullable = true)\n",
      " |-- Condition2: string (nullable = true)\n",
      " |-- BldgType: string (nullable = true)\n",
      " |-- HouseStyle: string (nullable = true)\n",
      " |-- OverallQual: integer (nullable = true)\n",
      " |-- OverallCond: integer (nullable = true)\n",
      " |-- YearBuilt: integer (nullable = true)\n",
      " |-- YearRemodAdd: integer (nullable = true)\n",
      " |-- RoofStyle: string (nullable = true)\n",
      " |-- RoofMatl: string (nullable = true)\n",
      " |-- Exterior1st: string (nullable = true)\n",
      " |-- Exterior2nd: string (nullable = true)\n",
      " |-- MasVnrType: string (nullable = true)\n",
      " |-- MasVnrArea: string (nullable = true)\n",
      " |-- ExterQual: string (nullable = true)\n",
      " |-- ExterCond: string (nullable = true)\n",
      " |-- Foundation: string (nullable = true)\n",
      " |-- BsmtQual: string (nullable = true)\n",
      " |-- BsmtCond: string (nullable = true)\n",
      " |-- BsmtExposure: string (nullable = true)\n",
      " |-- BsmtFinType1: string (nullable = true)\n",
      " |-- BsmtFinSF1: string (nullable = true)\n",
      " |-- BsmtFinType2: string (nullable = true)\n",
      " |-- BsmtFinSF2: string (nullable = true)\n",
      " |-- BsmtUnfSF: string (nullable = true)\n",
      " |-- TotalBsmtSF: string (nullable = true)\n",
      " |-- Heating: string (nullable = true)\n",
      " |-- HeatingQC: string (nullable = true)\n",
      " |-- CentralAir: string (nullable = true)\n",
      " |-- Electrical: string (nullable = true)\n",
      " |-- 1stFlrSF: integer (nullable = true)\n",
      " |-- 2ndFlrSF: integer (nullable = true)\n",
      " |-- LowQualFinSF: integer (nullable = true)\n",
      " |-- GrLivArea: integer (nullable = true)\n",
      " |-- BsmtFullBath: string (nullable = true)\n",
      " |-- BsmtHalfBath: string (nullable = true)\n",
      " |-- FullBath: integer (nullable = true)\n",
      " |-- HalfBath: integer (nullable = true)\n",
      " |-- BedroomAbvGr: integer (nullable = true)\n",
      " |-- KitchenAbvGr: integer (nullable = true)\n",
      " |-- KitchenQual: string (nullable = true)\n",
      " |-- TotRmsAbvGrd: integer (nullable = true)\n",
      " |-- Functional: string (nullable = true)\n",
      " |-- Fireplaces: integer (nullable = true)\n",
      " |-- FireplaceQu: string (nullable = true)\n",
      " |-- GarageType: string (nullable = true)\n",
      " |-- GarageYrBlt: string (nullable = true)\n",
      " |-- GarageFinish: string (nullable = true)\n",
      " |-- GarageCars: string (nullable = true)\n",
      " |-- GarageArea: string (nullable = true)\n",
      " |-- GarageQual: string (nullable = true)\n",
      " |-- GarageCond: string (nullable = true)\n",
      " |-- PavedDrive: string (nullable = true)\n",
      " |-- WoodDeckSF: integer (nullable = true)\n",
      " |-- OpenPorchSF: integer (nullable = true)\n",
      " |-- EnclosedPorch: integer (nullable = true)\n",
      " |-- 3SsnPorch: integer (nullable = true)\n",
      " |-- ScreenPorch: integer (nullable = true)\n",
      " |-- PoolArea: integer (nullable = true)\n",
      " |-- PoolQC: string (nullable = true)\n",
      " |-- Fence: string (nullable = true)\n",
      " |-- MiscFeature: string (nullable = true)\n",
      " |-- MiscVal: integer (nullable = true)\n",
      " |-- MoSold: integer (nullable = true)\n",
      " |-- YrSold: integer (nullable = true)\n",
      " |-- SaleType: string (nullable = true)\n",
      " |-- SaleCondition: string (nullable = true)\n",
      "\n"
     ]
    }
   ],
   "source": [
    "test_df.printSchema()"
   ]
  },
  {
   "cell_type": "code",
   "execution_count": 25,
   "id": "148a9f04-654a-4a13-87f3-d0aa16af0a0b",
   "metadata": {},
   "outputs": [],
   "source": [
    "# 각각의 df [GarageArea, GarageCars] >> int로 형변환\n",
    "train_df = train_df.withColumn('GarageArea'\n",
    "                       , train_df['GarageArea'].cast('integer'))\n",
    "\n",
    "train_df = train_df.withColumn('GarageCars'\n",
    "                        , train_df['GarageCars'].cast('integer'))\n",
    "\n",
    "test_df = test_df.withColumn('GarageArea'\n",
    "                      , test_df['GarageArea'].cast('integer'))\n",
    "\n",
    "test_df = test_df.withColumn('GarageCars'\n",
    "                      , test_df['GarageCars'].cast('integer'))"
   ]
  },
  {
   "cell_type": "markdown",
   "id": "b194935f-bdfa-4bff-bd3b-d05cd2d8c6a1",
   "metadata": {},
   "source": [
    "### 결측치 처리\n",
    "- 공백은 0으로 지정\n",
    "- 숫자 타입 통일"
   ]
  },
  {
   "cell_type": "code",
   "execution_count": 26,
   "id": "8ef4dd9a-7d64-429b-8dfb-ca9fbc1a7410",
   "metadata": {},
   "outputs": [],
   "source": [
    "train_df = train_df.fillna(0)\n",
    "test_df = test_df.fillna(0)"
   ]
  },
  {
   "cell_type": "markdown",
   "id": "88d950e2-5c8f-4b1c-aca0-29eb6fbf2a18",
   "metadata": {},
   "source": [
    "### encoding \n",
    "문자형 >> 숫자로 치환"
   ]
  },
  {
   "cell_type": "code",
   "execution_count": 10,
   "id": "a2ceca28-d84c-4f09-96e5-d1f271be51df",
   "metadata": {},
   "outputs": [],
   "source": [
    "string_columns = ['Neighborhood', 'GarageType']\n",
    "\n",
    "# 1,2,3,4로 값을 단순화\n",
    "indexers = [StringIndexer(inputCol = col, outputCol = col+\"_index\") for col in string_columns]"
   ]
  },
  {
   "cell_type": "code",
   "execution_count": 11,
   "id": "2a5921a6-be03-4c2d-bae9-55eeafdfdfc8",
   "metadata": {},
   "outputs": [],
   "source": [
    "# one-hot encoding : 범주형 변수들이 값이 1,2,3,4 -> 컬럼을 쪼개고 각각의 자리에 1로 바꾸는 인코딩, 빈 공간은 0\n",
    "encoders = [OneHotEncoder(inputCol=col+'_index', outputCol = col + \"_encoded\") for col in string_columns]"
   ]
  },
  {
   "cell_type": "markdown",
   "id": "0ac8b7ae-a070-4384-b463-5260ad059e23",
   "metadata": {},
   "source": [
    "### Features Selection"
   ]
  },
  {
   "cell_type": "code",
   "execution_count": 12,
   "id": "a513bca3-b40e-4406-8b42-04a489e2a5f3",
   "metadata": {},
   "outputs": [],
   "source": [
    "numeric_columns = [ \"LotArea\"\n",
    "                   , \"OverallQual\"\n",
    "                   , \"OverallCond\"\n",
    "                   , \"YearBuilt\"\n",
    "                   , \"YearRemodAdd\"\n",
    "                   , \"1stFlrSF\"\n",
    "                   , \"2ndFlrSF\"\n",
    "                   , \"GrLivArea\"\n",
    "                   , \"GarageCars\"\n",
    "                   , \"GarageArea\"]"
   ]
  },
  {
   "cell_type": "code",
   "execution_count": 30,
   "id": "cd5abdb6-7a05-46ff-8be0-e6ffae65363a",
   "metadata": {},
   "outputs": [],
   "source": [
    "# 문자형(인코딩) + 숫자형 피처를 결합한 모델입력 생성\n",
    "assembler_input = [col+'_encoded' for col in string_columns] + numeric_columns"
   ]
  },
  {
   "cell_type": "markdown",
   "id": "2451ee94-670f-42c3-8683-a984a2d726f4",
   "metadata": {},
   "source": [
    "### assembler"
   ]
  },
  {
   "cell_type": "code",
   "execution_count": 31,
   "id": "49a6e59f-a5cf-4542-af6e-f81272a8018b",
   "metadata": {},
   "outputs": [],
   "source": [
    "assembler = VectorAssembler(inputCols = assembler_input\n",
    "                            , outputCol = 'feature'\n",
    "                           )"
   ]
  },
  {
   "cell_type": "markdown",
   "id": "ffa22699-31cf-4ffa-9115-32e0b4825cd9",
   "metadata": {},
   "source": [
    "### Label Selection"
   ]
  },
  {
   "cell_type": "code",
   "execution_count": 32,
   "id": "372e90c8-79ce-49bf-8812-c296f7c40b1c",
   "metadata": {},
   "outputs": [],
   "source": [
    "train_df = train_df.withColumnRenamed(\n",
    "                'SalePrice', 'label'\n",
    "            )"
   ]
  },
  {
   "cell_type": "markdown",
   "id": "bbc49cf6-a08d-472b-ba36-c96dd0d6f985",
   "metadata": {},
   "source": [
    "### pipeline 설정\n",
    "StringIndex + OnehotEncoder + Assembler >> 하나의 SparkML Pipeline으로 결합"
   ]
  },
  {
   "cell_type": "code",
   "execution_count": 33,
   "id": "63749839-0a9d-4ee5-a659-e4f1cf7ae4e5",
   "metadata": {},
   "outputs": [],
   "source": [
    "pipeline = Pipeline(stages = indexers\n",
    "                     + encoders\n",
    "                     + [assembler])"
   ]
  },
  {
   "cell_type": "markdown",
   "id": "e1af1be2-a04f-4387-a18a-751bb4f21d62",
   "metadata": {},
   "source": [
    "### pipeline 실행\n",
    "pipeline.fit()"
   ]
  },
  {
   "cell_type": "code",
   "execution_count": 34,
   "id": "649b4ac7-877a-4f7d-8758-9c39e1e793eb",
   "metadata": {},
   "outputs": [],
   "source": [
    "pipeline_model = pipeline.fit(train_df)"
   ]
  },
  {
   "cell_type": "code",
   "execution_count": 35,
   "id": "f2101c97-1887-4fb6-9f75-5fad2d7d6da2",
   "metadata": {},
   "outputs": [],
   "source": [
    "train_transformed = pipeline_model.transform(train_df)"
   ]
  },
  {
   "cell_type": "markdown",
   "id": "3759c3ce-a57d-42fd-87a9-1172545292f7",
   "metadata": {},
   "source": [
    "###  모델 생성\n",
    "회귀 모델 학습 > 평가 > 예측"
   ]
  },
  {
   "cell_type": "code",
   "execution_count": 36,
   "id": "136caa03-20ba-4abf-8eab-c53c5e89131f",
   "metadata": {},
   "outputs": [
    {
     "name": "stderr",
     "output_type": "stream",
     "text": [
      "24/12/13 10:25:58 WARN Instrumentation: [502686ef] regParam is zero, which might cause numerical instability and overfitting.\n"
     ]
    }
   ],
   "source": [
    "lr = LinearRegression(featuresCol = 'feature'\n",
    "                     , labelCol = 'label')\n",
    "\n",
    "lr_model = lr.fit(train_transformed)"
   ]
  },
  {
   "cell_type": "code",
   "execution_count": 37,
   "id": "33c8457f-aeb3-47e2-bf98-40b7c98afd7d",
   "metadata": {},
   "outputs": [],
   "source": [
    "# 평가 데이터를 이용한 평가 > FIT(모델 맞춤, 테스트 데이터에 의해서 규칙이 변화)\n",
    "test_transformed = pipeline_model.transform( test_df )\n",
    "\n",
    "prediction = lr_model.transform(test_transformed)"
   ]
  },
  {
   "cell_type": "code",
   "execution_count": 41,
   "id": "ced646f7-0c36-4bcd-8372-772f129c18a4",
   "metadata": {},
   "outputs": [
    {
     "name": "stdout",
     "output_type": "stream",
     "text": [
      "+----+--------------------------------------------------------------------------------------------------------------+------------------+\n",
      "|id  |feature                                                                                                       |prediction        |\n",
      "+----+--------------------------------------------------------------------------------------------------------------+------------------+\n",
      "|1461|(40,[0,24,30,31,32,33,34,35,37,38,39],[1.0,1.0,11622.0,5.0,6.0,1961.0,1961.0,896.0,896.0,1.0,730.0])          |117874.9926099244 |\n",
      "|1462|(40,[0,24,30,31,32,33,34,35,37,38,39],[1.0,1.0,14267.0,6.0,6.0,1958.0,1958.0,1329.0,1329.0,1.0,312.0])        |154972.67874835432|\n",
      "|1463|(40,[5,24,30,31,32,33,34,35,36,37,38,39],[1.0,1.0,13830.0,5.0,5.0,1997.0,1998.0,928.0,701.0,1629.0,2.0,482.0])|167400.6397246034 |\n",
      "|1464|(40,[5,24,30,31,32,33,34,35,36,37,38,39],[1.0,1.0,9978.0,6.0,6.0,1998.0,1998.0,926.0,678.0,1604.0,2.0,470.0]) |185917.14120085537|\n",
      "|1465|(40,[18,24,30,31,32,33,34,35,37,38,39],[1.0,1.0,5005.0,8.0,5.0,1992.0,1992.0,1280.0,1280.0,2.0,506.0])        |262118.65943398117|\n",
      "|1466|(40,[5,24,30,31,32,33,34,35,36,37,38,39],[1.0,1.0,10000.0,6.0,5.0,1993.0,1994.0,763.0,892.0,1655.0,2.0,440.0])|174609.4180503923 |\n",
      "|1467|(40,[5,24,30,31,32,33,34,35,37,38,39],[1.0,1.0,7980.0,6.0,7.0,1992.0,2007.0,1187.0,1187.0,2.0,420.0])         |178398.1783211385 |\n",
      "|1468|(40,[5,24,30,31,32,33,34,35,36,37,38,39],[1.0,1.0,8402.0,6.0,5.0,1998.0,1998.0,789.0,676.0,1465.0,2.0,393.0]) |167553.838098821  |\n",
      "|1469|(40,[5,24,30,31,32,33,34,35,37,38,39],[1.0,1.0,10176.0,7.0,5.0,1990.0,1990.0,1341.0,1341.0,2.0,506.0])        |189964.9238947332 |\n",
      "|1470|(40,[0,24,30,31,32,33,34,35,37,38,39],[1.0,1.0,8400.0,4.0,5.0,1970.0,1970.0,882.0,882.0,2.0,525.0])           |107112.15387231868|\n",
      "+----+--------------------------------------------------------------------------------------------------------------+------------------+\n",
      "only showing top 10 rows\n",
      "\n"
     ]
    }
   ],
   "source": [
    "# 예측값 확인\n",
    "prediction.select('id'\n",
    "                  ,'feature'\n",
    "                  , 'prediction')\\\n",
    ".show(10, truncate = False)\n",
    "\n",
    "# 여기서 prediction = SalesPrice에 대한 예측값"
   ]
  },
  {
   "cell_type": "code",
   "execution_count": 48,
   "id": "0d523005-5e95-491c-ab44-8fe1b8ca1b68",
   "metadata": {},
   "outputs": [],
   "source": [
    "# 결과 저장\n",
    "prediction.select('id', 'prediction')\\\n",
    "            .withColumnRenamed('prediction', 'SalePrice')\\\n",
    "            .write.csv('data/output/house_machinelearning.csv', header = True, mode = 'overwrite')"
   ]
  },
  {
   "cell_type": "code",
   "execution_count": 51,
   "id": "d0be5618-750a-480c-8546-c1a503c50416",
   "metadata": {},
   "outputs": [
    {
     "name": "stdout",
     "output_type": "stream",
     "text": [
      "+----+------------------+\n",
      "|  id|         SalePrice|\n",
      "+----+------------------+\n",
      "|1461| 117874.9926099244|\n",
      "|1462|154972.67874835432|\n",
      "|1463| 167400.6397246034|\n",
      "|1464|185917.14120085537|\n",
      "|1465|262118.65943398117|\n",
      "|1466| 174609.4180503923|\n",
      "|1467| 178398.1783211385|\n",
      "|1468|  167553.838098821|\n",
      "|1469| 189964.9238947332|\n",
      "|1470|107112.15387231868|\n",
      "|1471|191095.79137392435|\n",
      "|1472| 92549.17578985298|\n",
      "|1473|  84174.0979652555|\n",
      "|1474| 152207.6350938361|\n",
      "|1475|124992.61163117061|\n",
      "|1476| 351583.2811955109|\n",
      "|1477|303689.40388719365|\n",
      "|1478| 323879.4245192136|\n",
      "|1479|318208.69366380596|\n",
      "|1480|  394253.857511088|\n",
      "+----+------------------+\n",
      "only showing top 20 rows\n",
      "\n"
     ]
    }
   ],
   "source": [
    "# 예측값 읽어서 분석\n",
    "df_result = ss.read.csv('data/output/house_machinelearning.csv', header = True)\n",
    "df_result.show(20)"
   ]
  },
  {
   "cell_type": "markdown",
   "id": "893467f1-e11f-4c3a-a6c8-d4db767588f5",
   "metadata": {},
   "source": [
    "### 예측 모델 활용\n",
    "1. 파이프 라인 저장 > 로컬 (data/output/house_machinelearning/model) > 모델 저장소에 저장\n",
    "2. 모델 저장 > 로컬 (data/output/house_machinelearning/model) > 모델 저장소에 저장"
   ]
  },
  {
   "cell_type": "code",
   "execution_count": 68,
   "id": "71f6b39d-265d-46ef-bea2-00f33a4b3fc8",
   "metadata": {},
   "outputs": [
    {
     "name": "stdout",
     "output_type": "stream",
     "text": [
      "model save success~~\n"
     ]
    }
   ],
   "source": [
    "pipeline_model_save_path = 'data/output/house_machinelearning.csv/model/pipeline'\n",
    "lr_model_save_path = 'data/output/house_machinelearning.csv/model/lr'\n",
    "\n",
    "\n",
    "# 파이프라인 모델 > 새로운 데이터를 변환하기 위해 저장\n",
    "pipeline_model.write().overwrite().save(pipeline_model_save_path)\n",
    "\n",
    "# 선형 회귀 모델 > 새로운 데이터로 예측하기 위해 저장\n",
    "lr_model.write().overwrite().save(lr_model_save_path)\n",
    "print('model save success~~')"
   ]
  },
  {
   "cell_type": "markdown",
   "id": "fd67fbde-9f6e-4456-a69f-1ba86ffe4b0c",
   "metadata": {},
   "source": [
    "### 모델 파이프라인 로드"
   ]
  },
  {
   "cell_type": "code",
   "execution_count": 66,
   "id": "f0c07f70-fe46-4cfc-8144-f93524383664",
   "metadata": {},
   "outputs": [],
   "source": [
    "loaded_pipeline = PipelineModel.load(pipeline_model_save_path)"
   ]
  },
  {
   "cell_type": "code",
   "execution_count": 67,
   "id": "453f8e3b-a9ff-4990-8139-8c18a6a2d3f0",
   "metadata": {},
   "outputs": [
    {
     "data": {
      "text/plain": [
       "PipelineModel_1e417ef787f4"
      ]
     },
     "execution_count": 67,
     "metadata": {},
     "output_type": "execute_result"
    }
   ],
   "source": [
    "loaded_pipeline"
   ]
  },
  {
   "cell_type": "code",
   "execution_count": 71,
   "id": "b2af278e-3467-4611-bce8-753e4fb16cfa",
   "metadata": {},
   "outputs": [
    {
     "data": {
      "text/plain": [
       "LinearRegressionModel: uid=LinearRegression_5268ffde4db7, numFeatures=40"
      ]
     },
     "execution_count": 71,
     "metadata": {},
     "output_type": "execute_result"
    }
   ],
   "source": [
    "loaded_lr_model = LinearRegressionModel.load(lr_model_save_path)\n",
    "loaded_lr_model"
   ]
  },
  {
   "cell_type": "markdown",
   "id": "c280ed21-ba93-4f8c-99f4-bb43f2f55d12",
   "metadata": {},
   "source": [
    "### 새로운 데이터로 예측\n",
    "\n",
    "1. 새로운 데이터 >>> ???\n",
    "2. 파이프라인 모델을 이용해서 변환\n",
    "3. 모델에 넣어서 예측"
   ]
  },
  {
   "cell_type": "code",
   "execution_count": 75,
   "id": "0d623447-2217-405c-84bc-f2fd4c69a85d",
   "metadata": {},
   "outputs": [],
   "source": [
    "# 새로운 데이터 샘플 생성\n",
    "data = {\n",
    "    \"Id\": [1461],\n",
    "    \"MSSubClass\": [20],\n",
    "    \"MSZoning\": [\"RH\"],\n",
    "    \"LotFrontage\": [80],\n",
    "    \"LotArea\": [11622],\n",
    "    \"Street\": [\"Pave\"],\n",
    "    \"Alley\": [None],  # NA를 None으로 표현\n",
    "    \"LotShape\": [\"Reg\"],\n",
    "    \"LandContour\": [\"Lvl\"],\n",
    "    \"Utilities\": [\"AllPub\"],\n",
    "    \"LotConfig\": [\"Inside\"],\n",
    "    \"LandSlope\": [\"Gtl\"],\n",
    "    \"Neighborhood\": [\"NAmes\"],\n",
    "    \"Condition1\": [\"Feedr\"],\n",
    "    \"Condition2\": [\"Norm\"],\n",
    "    \"BldgType\": [\"1Fam\"],\n",
    "    \"HouseStyle\": [\"1Story\"],\n",
    "    \"OverallQual\": [5],\n",
    "    \"OverallCond\": [6],\n",
    "    \"YearBuilt\": [1961],\n",
    "    \"YearRemodAdd\": [1961],\n",
    "    \"RoofStyle\": [\"Gable\"],\n",
    "    \"RoofMatl\": [\"CompShg\"],\n",
    "    \"Exterior1st\": [\"VinylSd\"],\n",
    "    \"Exterior2nd\": [\"VinylSd\"],\n",
    "    \"MasVnrType\": [None],  # None은 NA를 의미\n",
    "    \"MasVnrArea\": [0],\n",
    "    \"ExterQual\": [\"TA\"],\n",
    "    \"ExterCond\": [\"TA\"],\n",
    "    \"Foundation\": [\"CBlock\"],\n",
    "    \"BsmtQual\": [\"TA\"],\n",
    "    \"BsmtCond\": [\"TA\"],\n",
    "    \"BsmtExposure\": [\"No\"],\n",
    "    \"BsmtFinType1\": [\"Rec\"],\n",
    "    \"BsmtFinSF1\": [468],\n",
    "    \"BsmtFinType2\": [\"LwQ\"],\n",
    "    \"BsmtFinSF2\": [144],\n",
    "    \"BsmtUnfSF\": [270],\n",
    "    \"TotalBsmtSF\": [882],\n",
    "    \"Heating\": [\"GasA\"],\n",
    "    \"HeatingQC\": [\"TA\"],\n",
    "    \"CentralAir\": [\"Y\"],\n",
    "    \"Electrical\": [\"SBrkr\"],\n",
    "    \"1stFlrSF\": [896],\n",
    "    \"2ndFlrSF\": [0],\n",
    "    \"LowQualFinSF\": [0],\n",
    "    \"GrLivArea\": [896],\n",
    "    \"BsmtFullBath\": [0],\n",
    "    \"BsmtHalfBath\": [0],\n",
    "    \"FullBath\": [1],\n",
    "    \"HalfBath\": [0],\n",
    "    \"BedroomAbvGr\": [2],\n",
    "    \"KitchenAbvGr\": [1],\n",
    "    \"KitchenQual\": [\"TA\"],\n",
    "    \"TotRmsAbvGrd\": [5],\n",
    "    \"Functional\": [\"Typ\"],\n",
    "    \"Fireplaces\": [0],\n",
    "    \"FireplaceQu\": [None],  # NA를 None으로 표현\n",
    "    \"GarageType\": [\"Attchd\"],\n",
    "    \"GarageYrBlt\": [1961],\n",
    "    \"GarageFinish\": [\"Unf\"],\n",
    "    \"GarageCars\": [1],\n",
    "    \"GarageArea\": [730],\n",
    "    \"GarageQual\": [\"TA\"],\n",
    "    \"GarageCond\": [\"TA\"],\n",
    "    \"PavedDrive\": [\"Y\"],\n",
    "    \"WoodDeckSF\": [140],\n",
    "    \"OpenPorchSF\": [0],\n",
    "    \"EnclosedPorch\": [0],\n",
    "    \"3SsnPorch\": [0],\n",
    "    \"ScreenPorch\": [120],\n",
    "    \"PoolArea\": [0],\n",
    "    \"PoolQC\": [None],  # NA를 None으로 표현\n",
    "    \"Fence\": [\"MnPrv\"],\n",
    "    \"MiscFeature\": [None],  # NA를 None으로 표현\n",
    "    \"MiscVal\": [0],\n",
    "    \"MoSold\": [6],\n",
    "    \"YrSold\": [2010],\n",
    "    \"SaleType\": [\"WD\"],\n",
    "    \"SaleCondition\":[\"Normal\"]\n",
    "}\n",
    "\n",
    "pd.DataFrame(data).to_csv('data/output/house_csv.csv', index = False)"
   ]
  },
  {
   "cell_type": "code",
   "execution_count": 90,
   "id": "726b2079-a82a-4306-9ead-d22edd7a04bd",
   "metadata": {},
   "outputs": [],
   "source": [
    "new_test_data = ss.read.csv('data/output/house_csv.csv', header = True, inferSchema = True)"
   ]
  },
  {
   "cell_type": "code",
   "execution_count": 92,
   "id": "a04ef4d7-ea48-4fb5-b2f5-219f999bf1ab",
   "metadata": {},
   "outputs": [],
   "source": [
    "## 필요한 특성만 선택(파이프라인에서 사용된 특성들)\n",
    "## 수치형 컬럼 + 범주형 컬럼 정의\n",
    "selected_features = [\n",
    "    \"LotArea\", \"OverallQual\", \"OverallCond\", \"YearBuilt\", \"YearRemodAdd\", \n",
    "    \"1stFlrSF\", \"2ndFlrSF\", \"GrLivArea\", \"GarageCars\", \"GarageArea\", \"Neighborhood\"\n",
    "]"
   ]
  },
  {
   "cell_type": "code",
   "execution_count": 93,
   "id": "ab705667-ca1d-4518-ab75-857385358104",
   "metadata": {},
   "outputs": [],
   "source": [
    "new_test_data = new_test_data.withColumn('GarageCars', new_test_data['GarageCars'].cast('integer'))\n",
    "new_test_data = new_test_data.withColumn('GarageArea', new_test_data['GarageArea'].cast('integer'))"
   ]
  },
  {
   "cell_type": "code",
   "execution_count": 99,
   "id": "b7b809e3-744f-49ef-a05e-68715781c74f",
   "metadata": {},
   "outputs": [],
   "source": [
    "# 파이프라인에 새로운 데잍터를 넣어준다\n",
    "new_pipe = loaded_pipeline.transform(new_test_data)"
   ]
  },
  {
   "cell_type": "code",
   "execution_count": 100,
   "id": "6c2f19b5-760b-437e-bfad-3df682eeeabb",
   "metadata": {},
   "outputs": [],
   "source": [
    "# 파이프라인이 변환한 데이터를 모델에 넣어준다.\n",
    "new_pred = loaded_lr_model.transform(new_pipe) #1건)"
   ]
  },
  {
   "cell_type": "code",
   "execution_count": 118,
   "id": "d2f62a79-cfd9-4020-b084-146b00d4ac1b",
   "metadata": {},
   "outputs": [
    {
     "name": "stdout",
     "output_type": "stream",
     "text": [
      "+----+--------------------+-----------------+\n",
      "|  id|             feature|       prediction|\n",
      "+----+--------------------+-----------------+\n",
      "|1461|(40,[0,24,30,31,3...|117874.9926099244|\n",
      "+----+--------------------+-----------------+\n",
      "\n"
     ]
    }
   ],
   "source": [
    "# 예측 수행\n",
    "#new_pred.select('id', 'feature', 'prediction').show()\n",
    "new_pred.selectExpr('id', 'feature', 'prediction').show()"
   ]
  },
  {
   "cell_type": "code",
   "execution_count": 122,
   "id": "8c104b41-603c-4043-96ba-6b852f154f39",
   "metadata": {},
   "outputs": [
    {
     "data": {
      "text/plain": [
       "StructType(List(StructField(Id,IntegerType,true),StructField(MSSubClass,IntegerType,true),StructField(MSZoning,StringType,true),StructField(LotFrontage,IntegerType,true),StructField(LotArea,IntegerType,true),StructField(Street,StringType,true),StructField(Alley,StringType,true),StructField(LotShape,StringType,true),StructField(LandContour,StringType,true),StructField(Utilities,StringType,true),StructField(LotConfig,StringType,true),StructField(LandSlope,StringType,true),StructField(Neighborhood,StringType,true),StructField(Condition1,StringType,true),StructField(Condition2,StringType,true),StructField(BldgType,StringType,true),StructField(HouseStyle,StringType,true),StructField(OverallQual,IntegerType,true),StructField(OverallCond,IntegerType,true),StructField(YearBuilt,IntegerType,true),StructField(YearRemodAdd,IntegerType,true),StructField(RoofStyle,StringType,true),StructField(RoofMatl,StringType,true),StructField(Exterior1st,StringType,true),StructField(Exterior2nd,StringType,true),StructField(MasVnrType,StringType,true),StructField(MasVnrArea,IntegerType,true),StructField(ExterQual,StringType,true),StructField(ExterCond,StringType,true),StructField(Foundation,StringType,true),StructField(BsmtQual,StringType,true),StructField(BsmtCond,StringType,true),StructField(BsmtExposure,StringType,true),StructField(BsmtFinType1,StringType,true),StructField(BsmtFinSF1,IntegerType,true),StructField(BsmtFinType2,StringType,true),StructField(BsmtFinSF2,IntegerType,true),StructField(BsmtUnfSF,IntegerType,true),StructField(TotalBsmtSF,IntegerType,true),StructField(Heating,StringType,true),StructField(HeatingQC,StringType,true),StructField(CentralAir,StringType,true),StructField(Electrical,StringType,true),StructField(1stFlrSF,IntegerType,true),StructField(2ndFlrSF,IntegerType,true),StructField(LowQualFinSF,IntegerType,true),StructField(GrLivArea,IntegerType,true),StructField(BsmtFullBath,IntegerType,true),StructField(BsmtHalfBath,IntegerType,true),StructField(FullBath,IntegerType,true),StructField(HalfBath,IntegerType,true),StructField(BedroomAbvGr,IntegerType,true),StructField(KitchenAbvGr,IntegerType,true),StructField(KitchenQual,StringType,true),StructField(TotRmsAbvGrd,IntegerType,true),StructField(Functional,StringType,true),StructField(Fireplaces,IntegerType,true),StructField(FireplaceQu,StringType,true),StructField(GarageType,StringType,true),StructField(GarageYrBlt,IntegerType,true),StructField(GarageFinish,StringType,true),StructField(GarageCars,IntegerType,true),StructField(GarageArea,IntegerType,true),StructField(GarageQual,StringType,true),StructField(GarageCond,StringType,true),StructField(PavedDrive,StringType,true),StructField(WoodDeckSF,IntegerType,true),StructField(OpenPorchSF,IntegerType,true),StructField(EnclosedPorch,IntegerType,true),StructField(3SsnPorch,IntegerType,true),StructField(ScreenPorch,IntegerType,true),StructField(PoolArea,IntegerType,true),StructField(PoolQC,StringType,true),StructField(Fence,StringType,true),StructField(MiscFeature,StringType,true),StructField(MiscVal,IntegerType,true),StructField(MoSold,IntegerType,true),StructField(YrSold,IntegerType,true),StructField(SaleType,StringType,true),StructField(SaleCondition,StringType,true),StructField(Neighborhood_index,DoubleType,false),StructField(GarageType_index,DoubleType,false),StructField(Neighborhood_encoded,VectorUDT,true),StructField(GarageType_encoded,VectorUDT,true),StructField(feature,VectorUDT,true),StructField(prediction,DoubleType,false)))"
      ]
     },
     "execution_count": 122,
     "metadata": {},
     "output_type": "execute_result"
    }
   ],
   "source": [
    "new_pred.schema"
   ]
  },
  {
   "cell_type": "code",
   "execution_count": 123,
   "id": "8182a885-c1ec-447c-8160-215f62a4084a",
   "metadata": {},
   "outputs": [],
   "source": [
    "# csv 저장\n",
    "# 결과 저장\n",
    "# new_pred.write\\\n",
    "#         .csv('data/output/house_machinelearning.csv/new_pred.csv', header = True, mode = 'overwrite')"
   ]
  },
  {
   "cell_type": "code",
   "execution_count": null,
   "id": "98110cdc-98b1-4763-b63c-0858c6894f09",
   "metadata": {},
   "outputs": [],
   "source": [
    "# log를 남긴다 : csv, 데이터베이스, hadoop 분산파일시스템(hdfs), kafka(streaming) (외부 저장)"
   ]
  },
  {
   "cell_type": "code",
   "execution_count": 124,
   "id": "852bf018-5e70-4479-b91a-71f5d6575e08",
   "metadata": {},
   "outputs": [],
   "source": [
    "ss.stop()"
   ]
  }
 ],
 "metadata": {
  "kernelspec": {
   "display_name": "Python (spark_start)",
   "language": "python",
   "name": "spark_start"
  },
  "language_info": {
   "codemirror_mode": {
    "name": "ipython",
    "version": 3
   },
   "file_extension": ".py",
   "mimetype": "text/x-python",
   "name": "python",
   "nbconvert_exporter": "python",
   "pygments_lexer": "ipython3",
   "version": "3.8.20"
  }
 },
 "nbformat": 4,
 "nbformat_minor": 5
}
