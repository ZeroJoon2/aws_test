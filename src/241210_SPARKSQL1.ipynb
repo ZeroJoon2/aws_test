{
 "cells": [
  {
   "cell_type": "markdown",
   "id": "e3331fa7-38c2-44eb-a5e8-1ca5b7aeccaa",
   "metadata": {},
   "source": [
    "# Spark Context"
   ]
  },
  {
   "cell_type": "code",
   "execution_count": 147,
   "id": "10c030b8-2c99-4b2d-acfa-2c66704eedbb",
   "metadata": {},
   "outputs": [],
   "source": [
    "from pyspark import SparkConf, SparkContext\n",
    "from pyspark.sql import SparkSession\n",
    "from pyspark.sql.types import *"
   ]
  },
  {
   "cell_type": "code",
   "execution_count": 32,
   "id": "fa0ffcce-695a-42ac-a512-9dfe72c4e23f",
   "metadata": {},
   "outputs": [
    {
     "data": {
      "text/html": [
       "\n",
       "        <div>\n",
       "            <p><b>SparkContext</b></p>\n",
       "\n",
       "            <p><a href=\"http://ip-172-31-3-9.ap-northeast-3.compute.internal:4040\">Spark UI</a></p>\n",
       "\n",
       "            <dl>\n",
       "              <dt>Version</dt>\n",
       "                <dd><code>v3.1.2</code></dd>\n",
       "              <dt>Master</dt>\n",
       "                <dd><code>local</code></dd>\n",
       "              <dt>AppName</dt>\n",
       "                <dd><code>spark_context</code></dd>\n",
       "            </dl>\n",
       "        </div>\n",
       "        "
      ],
      "text/plain": [
       "<SparkContext master=local appName=spark_context>"
      ]
     },
     "execution_count": 32,
     "metadata": {},
     "output_type": "execute_result"
    }
   ],
   "source": [
    "conf = SparkConf().setMaster('local').setAppName('spark_context')\n",
    "sc = SparkContext(conf = conf)\n",
    "sc                                                "
   ]
  },
  {
   "cell_type": "markdown",
   "id": "efc8daa5-f59a-4b21-b161-31f4763e4e96",
   "metadata": {},
   "source": [
    "### 관객수가 500만 이상의 영화를 가져오기  \n",
    "방법 1) join > filter > 영화정보 꺼내기  \n",
    "방법 2) 필터 > join > 영화정보 꺼내기  "
   ]
  },
  {
   "cell_type": "code",
   "execution_count": 6,
   "id": "f19f2076-743c-49a6-b572-83b76a0ce33f",
   "metadata": {},
   "outputs": [],
   "source": [
    "movies_rdd = sc.parallelize([\n",
    "    (1, (\"어벤져스\", \"마블\")),\n",
    "    (2, (\"슈퍼맨\", \"DC\")),\n",
    "    (3, (\"배트맨\", \"DC\")),\n",
    "    (4, (\"겨울왕국\", \"디즈니\")),\n",
    "    (5, (\"아이언맨\", \"마블\"))\n",
    "])\n",
    "\n",
    "\n",
    "attendances_rdd = sc.parallelize([\n",
    "    (1, (13934592, \"KR\")),\n",
    "    (2, (2182227,\"KR\")),\n",
    "    (3, (4226242, \"KR\")),\n",
    "    (4, (10303058, \"KR\")),\n",
    "    (5, (4300365, \"KR\"))\n",
    "])"
   ]
  },
  {
   "cell_type": "code",
   "execution_count": 17,
   "id": "4d1c9487-523a-4d33-b7f7-f64be5aea486",
   "metadata": {},
   "outputs": [
    {
     "data": {
      "text/plain": [
       "[(4, (('겨울왕국', '디즈니'), (10303058, 'KR'))),\n",
       " (1, (('어벤져스', '마블'), (13934592, 'KR')))]"
      ]
     },
     "execution_count": 17,
     "metadata": {},
     "output_type": "execute_result"
    }
   ],
   "source": [
    "#1. 조인 먼저\n",
    "movies_att = movies_rdd.join(attendances_rdd)\n",
    "\n",
    "movies_att.filter(\n",
    "    lambda x : x[1][1][0] > 5000000\n",
    ").collect()"
   ]
  },
  {
   "cell_type": "code",
   "execution_count": 18,
   "id": "57682b2c-0c97-4c76-8f54-02cff04b5f6e",
   "metadata": {},
   "outputs": [
    {
     "data": {
      "text/plain": [
       "[(4, ((10303058, 'KR'), ('겨울왕국', '디즈니'))),\n",
       " (1, ((13934592, 'KR'), ('어벤져스', '마블')))]"
      ]
     },
     "execution_count": 18,
     "metadata": {},
     "output_type": "execute_result"
    }
   ],
   "source": [
    "#2. 필터 먼저\n",
    "filtered_rdd = attendances_rdd.filter(\n",
    "    lambda x : x[1][0] > 5000000\n",
    ")\n",
    "\n",
    "filtered_rdd.join(movies_rdd).collect()"
   ]
  },
  {
   "cell_type": "code",
   "execution_count": 33,
   "id": "b6b95a13-149b-4df2-9e29-59191a344ae7",
   "metadata": {},
   "outputs": [],
   "source": [
    "sc.stop()"
   ]
  },
  {
   "cell_type": "markdown",
   "id": "ad2e463e-5fb2-4e16-a8d7-576503188f16",
   "metadata": {},
   "source": [
    "# Spark Session"
   ]
  },
  {
   "cell_type": "code",
   "execution_count": 148,
   "id": "a16bdc5e-291f-4b41-9c07-2b78bd352b27",
   "metadata": {},
   "outputs": [
    {
     "data": {
      "text/html": [
       "\n",
       "            <div>\n",
       "                <p><b>SparkSession - in-memory</b></p>\n",
       "                \n",
       "        <div>\n",
       "            <p><b>SparkContext</b></p>\n",
       "\n",
       "            <p><a href=\"http://ip-172-31-3-9.ap-northeast-3.compute.internal:4040\">Spark UI</a></p>\n",
       "\n",
       "            <dl>\n",
       "              <dt>Version</dt>\n",
       "                <dd><code>v3.1.2</code></dd>\n",
       "              <dt>Master</dt>\n",
       "                <dd><code>local[*]</code></dd>\n",
       "              <dt>AppName</dt>\n",
       "                <dd><code>Spark_SQL</code></dd>\n",
       "            </dl>\n",
       "        </div>\n",
       "        \n",
       "            </div>\n",
       "        "
      ],
      "text/plain": [
       "<pyspark.sql.session.SparkSession at 0x7f9d52704460>"
      ]
     },
     "execution_count": 148,
     "metadata": {},
     "output_type": "execute_result"
    }
   ],
   "source": [
    "ss = SparkSession.builder.appName('Spark_SQL').getOrCreate()\n",
    "ss"
   ]
  },
  {
   "cell_type": "code",
   "execution_count": 149,
   "id": "87ffc4c4-315e-4a77-882b-608d120a6ff4",
   "metadata": {},
   "outputs": [],
   "source": [
    "movies = [\n",
    "    (1, \"어벤져스\", \"마블\", 2012, 4, 26),\n",
    "    (2, \"슈퍼맨\", \"DC\", 2013, 6, 13),\n",
    "    (3, \"배트맨\", \"DC\", 2008, 8, 6),\n",
    "    (4, \"겨울왕국\", \"디즈니\", 2014, 1, 16),\n",
    "    (5, \"아이언맨\", \"마블\", 2008, 4, 30)\n",
    "]"
   ]
  },
  {
   "cell_type": "code",
   "execution_count": 38,
   "id": "64c01c1e-4075-4382-8303-4e57e80a55e5",
   "metadata": {},
   "outputs": [],
   "source": [
    "movie_schema = ['idx', 'title', 'company', 'movie_year', 'movie_month', 'movie_date']"
   ]
  },
  {
   "cell_type": "code",
   "execution_count": 158,
   "id": "d640a799-c90e-47b8-8ee7-6976bc32b580",
   "metadata": {},
   "outputs": [
    {
     "data": {
      "text/plain": [
       "[('idx', 'bigint'),\n",
       " ('title', 'string'),\n",
       " ('company', 'string'),\n",
       " ('movie_year', 'bigint'),\n",
       " ('movie_month', 'bigint'),\n",
       " ('movie_date', 'bigint')]"
      ]
     },
     "execution_count": 158,
     "metadata": {},
     "output_type": "execute_result"
    }
   ],
   "source": [
    "#데이터프레임 생성\n",
    "df = ss.createDataFrame(data = movies, schema = movie_schema)\n",
    "df.dtypes"
   ]
  },
  {
   "cell_type": "code",
   "execution_count": 46,
   "id": "7c64739d-b10d-4dde-aafd-848b3cbd85c8",
   "metadata": {},
   "outputs": [
    {
     "name": "stdout",
     "output_type": "stream",
     "text": [
      "+---+--------+-------+----------+-----------+----------+\n",
      "|idx|   title|company|movie_year|movie_month|movie_date|\n",
      "+---+--------+-------+----------+-----------+----------+\n",
      "|  1|어벤져스|   마블|      2012|          4|        26|\n",
      "|  2|  슈퍼맨|     DC|      2013|          6|        13|\n",
      "|  3|  배트맨|     DC|      2008|          8|         6|\n",
      "|  4|겨울왕국| 디즈니|      2014|          1|        16|\n",
      "|  5|아이언맨|   마블|      2008|          4|        30|\n",
      "+---+--------+-------+----------+-----------+----------+\n",
      "\n"
     ]
    }
   ],
   "source": [
    "df.show()"
   ]
  },
  {
   "cell_type": "code",
   "execution_count": 48,
   "id": "583ec208-1694-4950-8fec-c72a6eabe3fe",
   "metadata": {},
   "outputs": [
    {
     "name": "stdout",
     "output_type": "stream",
     "text": [
      "+--------+\n",
      "|   title|\n",
      "+--------+\n",
      "|어벤져스|\n",
      "|  슈퍼맨|\n",
      "|  배트맨|\n",
      "|겨울왕국|\n",
      "|아이언맨|\n",
      "+--------+\n",
      "\n"
     ]
    }
   ],
   "source": [
    "df.select('title').show()"
   ]
  },
  {
   "cell_type": "code",
   "execution_count": 50,
   "id": "8116f2e5-023f-4ad7-a284-b4a640a229bc",
   "metadata": {},
   "outputs": [
    {
     "name": "stdout",
     "output_type": "stream",
     "text": [
      "+---+--------+-------+----------+-----------+----------+\n",
      "|idx|   title|company|movie_year|movie_month|movie_date|\n",
      "+---+--------+-------+----------+-----------+----------+\n",
      "|  1|어벤져스|   마블|      2012|          4|        26|\n",
      "+---+--------+-------+----------+-----------+----------+\n",
      "\n"
     ]
    }
   ],
   "source": [
    "df.where(\"title = '어벤져스'\").show()"
   ]
  },
  {
   "cell_type": "code",
   "execution_count": 52,
   "id": "920f3fd7-bc3b-4c11-a480-499aac9dbdd6",
   "metadata": {},
   "outputs": [
    {
     "name": "stdout",
     "output_type": "stream",
     "text": [
      "+---+--------+-------+----------+-----------+----------+\n",
      "|idx|   title|company|movie_year|movie_month|movie_date|\n",
      "+---+--------+-------+----------+-----------+----------+\n",
      "|  1|어벤져스|   마블|      2012|          4|        26|\n",
      "|  2|  슈퍼맨|     DC|      2013|          6|        13|\n",
      "|  4|겨울왕국| 디즈니|      2014|          1|        16|\n",
      "+---+--------+-------+----------+-----------+----------+\n",
      "\n"
     ]
    }
   ],
   "source": [
    "df.filter(df.movie_year >= 2010).show()"
   ]
  },
  {
   "cell_type": "markdown",
   "id": "df1c74e1-d01c-40d8-880f-92ddfd54ed29",
   "metadata": {},
   "source": [
    "### SQL을 사용하기 위해서는 View에 등록해야함"
   ]
  },
  {
   "cell_type": "code",
   "execution_count": 159,
   "id": "e4f557fb-82f8-4bba-9abb-1b4c8dc46826",
   "metadata": {},
   "outputs": [],
   "source": [
    "# df에서 Temp View로 변환이 일어남\n",
    "df.createOrReplaceTempView('movies') #Table Name"
   ]
  },
  {
   "cell_type": "code",
   "execution_count": 160,
   "id": "081d0c59-1dfd-42db-a616-b03123586332",
   "metadata": {},
   "outputs": [],
   "source": [
    "#view를 select projection하는 문장\n",
    "query1 = '''\n",
    "        select * from movies\n",
    "        '''"
   ]
  },
  {
   "cell_type": "code",
   "execution_count": 161,
   "id": "c0c140bd-51e4-4125-851d-0e28f3a91aa7",
   "metadata": {},
   "outputs": [
    {
     "name": "stdout",
     "output_type": "stream",
     "text": [
      "+---+--------+-------+----------+-----------+----------+\n",
      "|idx|   title|company|movie_year|movie_month|movie_date|\n",
      "+---+--------+-------+----------+-----------+----------+\n",
      "|  1|어벤져스|   마블|      2012|          4|        26|\n",
      "|  2|  슈퍼맨|     DC|      2013|          6|        13|\n",
      "|  3|  배트맨|     DC|      2008|          8|         6|\n",
      "|  4|겨울왕국| 디즈니|      2014|          1|        16|\n",
      "|  5|아이언맨|   마블|      2008|          4|        30|\n",
      "+---+--------+-------+----------+-----------+----------+\n",
      "\n"
     ]
    }
   ],
   "source": [
    "ss.sql(query1).show()"
   ]
  },
  {
   "cell_type": "markdown",
   "id": "7faa391f-40d9-4df0-83ca-5ee89a1eefcb",
   "metadata": {},
   "source": [
    "### 2010년 이후 개봉한 영화 조회"
   ]
  },
  {
   "cell_type": "code",
   "execution_count": 66,
   "id": "a103d5a5-2f38-41bf-a3fe-3bbf434bf2a3",
   "metadata": {},
   "outputs": [
    {
     "name": "stdout",
     "output_type": "stream",
     "text": [
      "+---+--------+-------+----------+-----------+----------+\n",
      "|idx|   title|company|movie_year|movie_month|movie_date|\n",
      "+---+--------+-------+----------+-----------+----------+\n",
      "|  1|어벤져스|   마블|      2012|          4|        26|\n",
      "|  2|  슈퍼맨|     DC|      2013|          6|        13|\n",
      "|  4|겨울왕국| 디즈니|      2014|          1|        16|\n",
      "+---+--------+-------+----------+-----------+----------+\n",
      "\n"
     ]
    }
   ],
   "source": [
    "ss.sql('''\n",
    "select *\n",
    "from movies\n",
    "where movie_year >= 2010\n",
    "''').show()"
   ]
  },
  {
   "cell_type": "markdown",
   "id": "e250ccb0-501a-4b7e-83c3-209bb7635ba9",
   "metadata": {},
   "source": [
    "### 회사가 마블 추출"
   ]
  },
  {
   "cell_type": "code",
   "execution_count": 68,
   "id": "dd20352b-70b4-4922-86ea-f5d128e46bce",
   "metadata": {},
   "outputs": [
    {
     "name": "stdout",
     "output_type": "stream",
     "text": [
      "+---+--------+-------+----------+-----------+----------+\n",
      "|idx|   title|company|movie_year|movie_month|movie_date|\n",
      "+---+--------+-------+----------+-----------+----------+\n",
      "|  1|어벤져스|   마블|      2012|          4|        26|\n",
      "|  5|아이언맨|   마블|      2008|          4|        30|\n",
      "+---+--------+-------+----------+-----------+----------+\n",
      "\n"
     ]
    }
   ],
   "source": [
    "ss.sql('''\n",
    "select *\n",
    "from movies\n",
    "where company like '%마블%'\n",
    "''').show()"
   ]
  },
  {
   "cell_type": "code",
   "execution_count": 69,
   "id": "3bbfed56-5882-401c-b590-7c9bbcac3500",
   "metadata": {},
   "outputs": [
    {
     "name": "stdout",
     "output_type": "stream",
     "text": [
      "+---+--------+-------+----------+-----------+----------+\n",
      "|idx|   title|company|movie_year|movie_month|movie_date|\n",
      "+---+--------+-------+----------+-----------+----------+\n",
      "|  1|어벤져스|   마블|      2012|          4|        26|\n",
      "|  5|아이언맨|   마블|      2008|          4|        30|\n",
      "+---+--------+-------+----------+-----------+----------+\n",
      "\n"
     ]
    }
   ],
   "source": [
    "ss.sql('''\n",
    "select *\n",
    "from movies\n",
    "where company = '마블'\n",
    "''').show()"
   ]
  },
  {
   "cell_type": "markdown",
   "id": "bd66b372-eea1-47c7-97d8-cc7e84529298",
   "metadata": {},
   "source": [
    "### ~~맨 인 영화"
   ]
  },
  {
   "cell_type": "code",
   "execution_count": 70,
   "id": "40227333-f581-4922-b117-4b61491f1ccb",
   "metadata": {},
   "outputs": [
    {
     "name": "stdout",
     "output_type": "stream",
     "text": [
      "+---+--------+-------+----------+-----------+----------+\n",
      "|idx|   title|company|movie_year|movie_month|movie_date|\n",
      "+---+--------+-------+----------+-----------+----------+\n",
      "|  2|  슈퍼맨|     DC|      2013|          6|        13|\n",
      "|  3|  배트맨|     DC|      2008|          8|         6|\n",
      "|  5|아이언맨|   마블|      2008|          4|        30|\n",
      "+---+--------+-------+----------+-----------+----------+\n",
      "\n"
     ]
    }
   ],
   "source": [
    "ss.sql('''\n",
    "select *\n",
    "from movies\n",
    "where title like '%맨'\n",
    "''').show()"
   ]
  },
  {
   "cell_type": "markdown",
   "id": "ef0ebe99-1ea0-4f9e-ac93-825d95b058bc",
   "metadata": {},
   "source": [
    "### `~이~` 들어간 영화"
   ]
  },
  {
   "cell_type": "code",
   "execution_count": 71,
   "id": "e50cd78a-184b-4786-9db2-f1f8a571aafa",
   "metadata": {},
   "outputs": [
    {
     "name": "stdout",
     "output_type": "stream",
     "text": [
      "+---+--------+-------+----------+-----------+----------+\n",
      "|idx|   title|company|movie_year|movie_month|movie_date|\n",
      "+---+--------+-------+----------+-----------+----------+\n",
      "|  5|아이언맨|   마블|      2008|          4|        30|\n",
      "+---+--------+-------+----------+-----------+----------+\n",
      "\n"
     ]
    }
   ],
   "source": [
    "ss.sql('''\n",
    "select *\n",
    "from movies\n",
    "where title like '%이%'\n",
    "''').show()"
   ]
  },
  {
   "cell_type": "markdown",
   "id": "01e28e18-8205-461f-be7b-abdc790157fc",
   "metadata": {},
   "source": [
    "### 개봉월이 4월 ~ 8월 사이임"
   ]
  },
  {
   "cell_type": "code",
   "execution_count": 73,
   "id": "1816be8c-f4a4-462e-9f5e-732a9e661fd6",
   "metadata": {},
   "outputs": [
    {
     "name": "stdout",
     "output_type": "stream",
     "text": [
      "+---+--------+-------+----------+-----------+----------+\n",
      "|idx|   title|company|movie_year|movie_month|movie_date|\n",
      "+---+--------+-------+----------+-----------+----------+\n",
      "|  1|어벤져스|   마블|      2012|          4|        26|\n",
      "|  2|  슈퍼맨|     DC|      2013|          6|        13|\n",
      "|  3|  배트맨|     DC|      2008|          8|         6|\n",
      "|  5|아이언맨|   마블|      2008|          4|        30|\n",
      "+---+--------+-------+----------+-----------+----------+\n",
      "\n"
     ]
    }
   ],
   "source": [
    "ss.sql('''\n",
    "select *\n",
    "from movies\n",
    "where movie_month between 4 and 8\n",
    "''').show()"
   ]
  },
  {
   "cell_type": "markdown",
   "id": "da271df0-b8fc-461e-baea-4e74f5c8d304",
   "metadata": {},
   "source": [
    "### 컬럼이 여러개인 상황\n",
    "- and / or"
   ]
  },
  {
   "cell_type": "markdown",
   "id": "7678cb72-66d9-4dca-a342-1f0f37e6d93e",
   "metadata": {},
   "source": [
    "### - ~맨, 개봉연도가 2010년 이하"
   ]
  },
  {
   "cell_type": "code",
   "execution_count": 84,
   "id": "2b6e5c4e-9077-4f5f-8536-be3771b2739c",
   "metadata": {},
   "outputs": [
    {
     "name": "stdout",
     "output_type": "stream",
     "text": [
      "+---+--------+-------+----------+-----------+----------+\n",
      "|idx|   title|company|movie_year|movie_month|movie_date|\n",
      "+---+--------+-------+----------+-----------+----------+\n",
      "|  3|  배트맨|     DC|      2008|          8|         6|\n",
      "|  5|아이언맨|   마블|      2008|          4|        30|\n",
      "+---+--------+-------+----------+-----------+----------+\n",
      "\n"
     ]
    }
   ],
   "source": [
    "ss.sql('''\n",
    "select *\n",
    "from movies\n",
    "where title like '%맨' and movie_year <= 2010\n",
    "''').show()"
   ]
  },
  {
   "cell_type": "markdown",
   "id": "578b6e39-ef30-406d-beb5-fd857987ccf6",
   "metadata": {},
   "source": [
    "### 회사가 마블, dc인 영화"
   ]
  },
  {
   "cell_type": "code",
   "execution_count": 83,
   "id": "d120fa88-d06d-4d6c-a454-1a4344fff21d",
   "metadata": {},
   "outputs": [
    {
     "name": "stdout",
     "output_type": "stream",
     "text": [
      "+---+--------+-------+----------+-----------+----------+\n",
      "|idx|   title|company|movie_year|movie_month|movie_date|\n",
      "+---+--------+-------+----------+-----------+----------+\n",
      "|  1|어벤져스|   마블|      2012|          4|        26|\n",
      "|  2|  슈퍼맨|     DC|      2013|          6|        13|\n",
      "|  3|  배트맨|     DC|      2008|          8|         6|\n",
      "|  5|아이언맨|   마블|      2008|          4|        30|\n",
      "+---+--------+-------+----------+-----------+----------+\n",
      "\n"
     ]
    }
   ],
   "source": [
    "ss.sql('''\n",
    "select *\n",
    "from movies\n",
    "where company = '마블'\n",
    "    or upper(company) = 'DC'\n",
    "'''\n",
    ").show()"
   ]
  },
  {
   "cell_type": "code",
   "execution_count": 85,
   "id": "009c70b2-b923-4bb5-a318-63adaeac92e5",
   "metadata": {},
   "outputs": [
    {
     "name": "stdout",
     "output_type": "stream",
     "text": [
      "+---+--------+-------+----------+-----------+----------+\n",
      "|idx|   title|company|movie_year|movie_month|movie_date|\n",
      "+---+--------+-------+----------+-----------+----------+\n",
      "|  1|어벤져스|   마블|      2012|          4|        26|\n",
      "|  2|  슈퍼맨|     DC|      2013|          6|        13|\n",
      "|  3|  배트맨|     DC|      2008|          8|         6|\n",
      "|  5|아이언맨|   마블|      2008|          4|        30|\n",
      "+---+--------+-------+----------+-----------+----------+\n",
      "\n"
     ]
    }
   ],
   "source": [
    "ss.sql('''\n",
    "select *\n",
    "from movies\n",
    "where company in ('마블', 'DC')\n",
    "'''\n",
    ").show()"
   ]
  },
  {
   "cell_type": "markdown",
   "id": "313baba9-0316-4fec-a4c5-c35dce6b206d",
   "metadata": {},
   "source": [
    "### 회사가 \"마\"로 시작하거나, \"니\"로 끝나는 영화"
   ]
  },
  {
   "cell_type": "code",
   "execution_count": 97,
   "id": "94e0a1c3-1b92-460b-98f3-18dea170d495",
   "metadata": {},
   "outputs": [
    {
     "name": "stdout",
     "output_type": "stream",
     "text": [
      "+---+--------+-------+----------+-----------+----------+\n",
      "|idx|   title|company|movie_year|movie_month|movie_date|\n",
      "+---+--------+-------+----------+-----------+----------+\n",
      "|  1|어벤져스|   마블|      2012|          4|        26|\n",
      "|  4|겨울왕국| 디즈니|      2014|          1|        16|\n",
      "|  5|아이언맨|   마블|      2008|          4|        30|\n",
      "+---+--------+-------+----------+-----------+----------+\n",
      "\n"
     ]
    }
   ],
   "source": [
    "ss.sql('''\n",
    "select *\n",
    "from movies\n",
    "where company like '마%'\n",
    "    or company like '%니'\n",
    "    \n",
    "''').show()"
   ]
  },
  {
   "cell_type": "markdown",
   "id": "1e9b399d-7016-4659-8348-eb25452ab6ac",
   "metadata": {},
   "source": [
    "### 회사가 \"마\"로 시작하거나, \"니\"로 끝나는 영화 중, 2010년 이후로 개봉한 영화"
   ]
  },
  {
   "cell_type": "code",
   "execution_count": 96,
   "id": "780f6c73-fe3d-460d-b1fd-d2b3a1ebb2dd",
   "metadata": {},
   "outputs": [
    {
     "name": "stdout",
     "output_type": "stream",
     "text": [
      "+---+--------+-------+----------+-----------+----------+\n",
      "|idx|   title|company|movie_year|movie_month|movie_date|\n",
      "+---+--------+-------+----------+-----------+----------+\n",
      "|  1|어벤져스|   마블|      2012|          4|        26|\n",
      "|  4|겨울왕국| 디즈니|      2014|          1|        16|\n",
      "+---+--------+-------+----------+-----------+----------+\n",
      "\n"
     ]
    }
   ],
   "source": [
    "ss.sql('''\n",
    "select *\n",
    "from movies\n",
    "where (company like '마%'\n",
    "    or company like '%니')\n",
    "    and movie_year >= 2010\n",
    "    \n",
    "''').show()"
   ]
  },
  {
   "cell_type": "markdown",
   "id": "125abb15-24a0-46a3-a75c-2a292f66caa3",
   "metadata": {},
   "source": [
    "### 개봉 연도 오름차순\n",
    "ASC : ascending 오름차순, default  \n",
    "DESC : descending 내림차순"
   ]
  },
  {
   "cell_type": "code",
   "execution_count": 88,
   "id": "eb55d22c-b544-4f9a-9450-5c9d1688d852",
   "metadata": {},
   "outputs": [
    {
     "name": "stdout",
     "output_type": "stream",
     "text": [
      "+---+--------+-------+----------+-----------+----------+\n",
      "|idx|   title|company|movie_year|movie_month|movie_date|\n",
      "+---+--------+-------+----------+-----------+----------+\n",
      "|  5|아이언맨|   마블|      2008|          4|        30|\n",
      "|  3|  배트맨|     DC|      2008|          8|         6|\n",
      "|  1|어벤져스|   마블|      2012|          4|        26|\n",
      "|  2|  슈퍼맨|     DC|      2013|          6|        13|\n",
      "|  4|겨울왕국| 디즈니|      2014|          1|        16|\n",
      "+---+--------+-------+----------+-----------+----------+\n",
      "\n"
     ]
    }
   ],
   "source": [
    "ss.sql('''\n",
    "select *\n",
    "from movies\n",
    "order by movie_year, movie_month, movie_date\n",
    "''').show()"
   ]
  },
  {
   "cell_type": "markdown",
   "id": "7288b270-2d75-485d-aa7c-f8e4551d25e8",
   "metadata": {},
   "source": [
    "### 개봉 영화가 2개 이상인 회사"
   ]
  },
  {
   "cell_type": "code",
   "execution_count": 100,
   "id": "23b7a04b-d681-49d5-b524-cbb8f52792e5",
   "metadata": {},
   "outputs": [
    {
     "name": "stderr",
     "output_type": "stream",
     "text": [
      "[Stage 88:==============================================>       (173 + 2) / 200]\r"
     ]
    },
    {
     "name": "stdout",
     "output_type": "stream",
     "text": [
      "+-------+---+\n",
      "|company|cnt|\n",
      "+-------+---+\n",
      "|     DC|  2|\n",
      "|   마블|  2|\n",
      "+-------+---+\n",
      "\n"
     ]
    },
    {
     "name": "stderr",
     "output_type": "stream",
     "text": [
      "                                                                                \r"
     ]
    }
   ],
   "source": [
    "ss.sql('''\n",
    "select\n",
    "    company\n",
    "    , count(title) as cnt\n",
    "from movies\n",
    "group by company\n",
    "having cnt >= 2\n",
    "order by company\n",
    "''').show()"
   ]
  },
  {
   "cell_type": "markdown",
   "id": "04a72278-18e3-4ec7-9870-0cbbbee13cdc",
   "metadata": {},
   "source": [
    "count(*) : NULL 포함  \n",
    "count(company) : NULL 제외  \n",
    "mean  \n",
    "sum  "
   ]
  },
  {
   "cell_type": "code",
   "execution_count": 115,
   "id": "adf0abf0-d16d-438d-840d-06cc5bfee85a",
   "metadata": {},
   "outputs": [
    {
     "name": "stdout",
     "output_type": "stream",
     "text": [
      "+------------------+------------+----------------+---------------+----------------+\n",
      "|행 개수(NULL 포함)|count(title)|mean(movie_year)|avg(movie_year)|sum(movie_month)|\n",
      "+------------------+------------+----------------+---------------+----------------+\n",
      "|                 5|           5|          2011.0|         2011.0|              23|\n",
      "+------------------+------------+----------------+---------------+----------------+\n",
      "\n"
     ]
    }
   ],
   "source": [
    "ss.sql('''\n",
    "select\n",
    "    count(*) as `행 개수(NULL 포함)`\n",
    "    , count(title)\n",
    "    , mean(movie_year)\n",
    "    , avg(movie_year)\n",
    "    , sum(movie_month)\n",
    "from movies\n",
    "''').show()"
   ]
  },
  {
   "cell_type": "code",
   "execution_count": 150,
   "id": "8b7ba1d4-05a1-4ae6-803a-a279c70e2533",
   "metadata": {},
   "outputs": [],
   "source": [
    "attendances = [\n",
    "    (1, 13934592., \"KR\"),\n",
    "    (2, 2182227.,\"KR\"),\n",
    "    (3, 4226242., \"KR\"),\n",
    "    (4, 10303058., \"KR\"),\n",
    "    (5, 4300365., \"KR\")\n",
    "]"
   ]
  },
  {
   "cell_type": "code",
   "execution_count": 131,
   "id": "999a7c94-d01b-4667-876a-a233d2e28cc1",
   "metadata": {},
   "outputs": [],
   "source": [
    "att_schma = StructType([\n",
    "    StructField('id', IntegerType(), True)\n",
    "    , StructField('att', FloatType(), True)\n",
    "    , StructField('theater_country', StringType(), True)    \n",
    "])"
   ]
  },
  {
   "cell_type": "code",
   "execution_count": 153,
   "id": "09b1d8c5-d0ad-404a-864f-cb21f032531d",
   "metadata": {},
   "outputs": [
    {
     "data": {
      "text/plain": [
       "[('id', 'int'), ('att', 'float'), ('theater_country', 'string')]"
      ]
     },
     "execution_count": 153,
     "metadata": {},
     "output_type": "execute_result"
    }
   ],
   "source": [
    "att_df = ss.createDataFrame(data = attendances, schema = att_schma)\n",
    "att_df.dtypes"
   ]
  },
  {
   "cell_type": "code",
   "execution_count": 137,
   "id": "39a68bdf-4112-400f-8cdb-f14112ad47a7",
   "metadata": {},
   "outputs": [
    {
     "name": "stdout",
     "output_type": "stream",
     "text": [
      "root\n",
      " |-- id: integer (nullable = true)\n",
      " |-- att: float (nullable = true)\n",
      " |-- theater_country: string (nullable = true)\n",
      "\n",
      "+---+-----------+---------------+\n",
      "| id|        att|theater_country|\n",
      "+---+-----------+---------------+\n",
      "|  1|1.3934592E7|             KR|\n",
      "|  2|  2182227.0|             KR|\n",
      "|  3|  4226242.0|             KR|\n",
      "|  4|1.0303058E7|             KR|\n",
      "|  5|  4300365.0|             KR|\n",
      "+---+-----------+---------------+\n",
      "\n"
     ]
    }
   ],
   "source": [
    "att_df.printSchema()\n",
    "att_df.show()"
   ]
  },
  {
   "cell_type": "code",
   "execution_count": 154,
   "id": "6a3e2dbe-65f6-44ea-bcde-2f76a0ecf64f",
   "metadata": {},
   "outputs": [
    {
     "name": "stdout",
     "output_type": "stream",
     "text": [
      "+---+-----------+---------------+\n",
      "| id|        att|theater_country|\n",
      "+---+-----------+---------------+\n",
      "|  1|1.3934592E7|             KR|\n",
      "|  2|  2182227.0|             KR|\n",
      "|  3|  4226242.0|             KR|\n",
      "|  4|1.0303058E7|             KR|\n",
      "|  5|  4300365.0|             KR|\n",
      "+---+-----------+---------------+\n",
      "\n"
     ]
    }
   ],
   "source": [
    "att_df.createOrReplaceTempView('att_table')\n",
    "\n",
    "ss.sql('''\n",
    "select *\n",
    "from att_table\n",
    "''').show()"
   ]
  },
  {
   "cell_type": "code",
   "execution_count": 162,
   "id": "a449f96e-4cc3-4207-be66-77ccbe9b1a52",
   "metadata": {},
   "outputs": [
    {
     "name": "stderr",
     "output_type": "stream",
     "text": [
      "[Stage 6:================================================>      (178 + 3) / 200]\r"
     ]
    },
    {
     "name": "stdout",
     "output_type": "stream",
     "text": [
      "+---+--------+-------+----------+-----------+----------+-----------+---------------+\n",
      "|idx|   title|company|movie_year|movie_month|movie_date|        att|theater_country|\n",
      "+---+--------+-------+----------+-----------+----------+-----------+---------------+\n",
      "|  1|어벤져스|   마블|      2012|          4|        26|1.3934592E7|             KR|\n",
      "|  2|  슈퍼맨|     DC|      2013|          6|        13|  2182227.0|             KR|\n",
      "|  3|  배트맨|     DC|      2008|          8|         6|  4226242.0|             KR|\n",
      "|  4|겨울왕국| 디즈니|      2014|          1|        16|1.0303058E7|             KR|\n",
      "|  5|아이언맨|   마블|      2008|          4|        30|  4300365.0|             KR|\n",
      "+---+--------+-------+----------+-----------+----------+-----------+---------------+\n",
      "\n"
     ]
    },
    {
     "name": "stderr",
     "output_type": "stream",
     "text": [
      "                                                                                \r"
     ]
    }
   ],
   "source": [
    "ss.sql('''\n",
    "select\n",
    "    A.*\n",
    "    , B.att\n",
    "    , B.theater_country\n",
    "from movies as A\n",
    "inner join att_table as B\n",
    "on A.idx = B.id\n",
    "\n",
    "order by A.idx\n",
    "\n",
    "''').show()"
   ]
  },
  {
   "cell_type": "code",
   "execution_count": 164,
   "id": "6f9db585-97e9-4dfb-92ed-107dcf963224",
   "metadata": {},
   "outputs": [],
   "source": [
    "movies_views = ss.sql('''\n",
    "                        select\n",
    "                            A.*\n",
    "                            , B.att\n",
    "                            , B.theater_country\n",
    "                        from movies as A\n",
    "                        inner join att_table as B\n",
    "                        on A.idx = B.id\n",
    "                        \n",
    "                        order by A.idx\n",
    "                        \n",
    "                        ''')\n",
    "\n",
    "movies_views.createOrReplaceTempView('movies_views')"
   ]
  },
  {
   "cell_type": "code",
   "execution_count": 166,
   "id": "75320242-728b-4975-b3ef-afbcda2af1db",
   "metadata": {},
   "outputs": [
    {
     "name": "stderr",
     "output_type": "stream",
     "text": [
      "[Stage 12:====================================================> (196 + 2) / 200]\r"
     ]
    },
    {
     "name": "stdout",
     "output_type": "stream",
     "text": [
      "+---+--------+-------+----------+-----------+----------+-----------+---------------+\n",
      "|idx|   title|company|movie_year|movie_month|movie_date|        att|theater_country|\n",
      "+---+--------+-------+----------+-----------+----------+-----------+---------------+\n",
      "|  1|어벤져스|   마블|      2012|          4|        26|1.3934592E7|             KR|\n",
      "|  2|  슈퍼맨|     DC|      2013|          6|        13|  2182227.0|             KR|\n",
      "|  3|  배트맨|     DC|      2008|          8|         6|  4226242.0|             KR|\n",
      "|  4|겨울왕국| 디즈니|      2014|          1|        16|1.0303058E7|             KR|\n",
      "|  5|아이언맨|   마블|      2008|          4|        30|  4300365.0|             KR|\n",
      "+---+--------+-------+----------+-----------+----------+-----------+---------------+\n",
      "\n"
     ]
    },
    {
     "name": "stderr",
     "output_type": "stream",
     "text": [
      "                                                                                \r"
     ]
    }
   ],
   "source": [
    "ss.sql('''\n",
    "select *\n",
    "from movies_views\n",
    "''').show()"
   ]
  },
  {
   "cell_type": "code",
   "execution_count": 167,
   "id": "1ca557d0-3ddd-467e-a4c5-b2242c1afbf9",
   "metadata": {},
   "outputs": [],
   "source": [
    "ss.stop()"
   ]
  }
 ],
 "metadata": {
  "kernelspec": {
   "display_name": "Python (spark_start)",
   "language": "python",
   "name": "spark_start"
  },
  "language_info": {
   "codemirror_mode": {
    "name": "ipython",
    "version": 3
   },
   "file_extension": ".py",
   "mimetype": "text/x-python",
   "name": "python",
   "nbconvert_exporter": "python",
   "pygments_lexer": "ipython3",
   "version": "3.8.20"
  }
 },
 "nbformat": 4,
 "nbformat_minor": 5
}
