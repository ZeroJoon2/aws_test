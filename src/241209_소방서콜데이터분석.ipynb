{
 "cells": [
  {
   "cell_type": "markdown",
   "id": "fdf2d091-2b3c-43be-a7be-ddc03a792582",
   "metadata": {},
   "source": [
    "### 러닝스파크 p71"
   ]
  },
  {
   "cell_type": "markdown",
   "id": "839f133c-2445-4ae2-bd73-6187c35634dd",
   "metadata": {},
   "source": [
    "## 1. 필요 라이브러리 및 데이터 호출"
   ]
  },
  {
   "cell_type": "code",
   "execution_count": 1,
   "id": "6ca690e3-47dc-4909-95e0-675d36fa6bb1",
   "metadata": {},
   "outputs": [],
   "source": [
    "from pyspark.sql import SparkSession\n",
    "from pyspark.sql.functions import *\n",
    "import matplotlib.pyplot as plt\n",
    "import seaborn as sns\n",
    "\n",
    "# Jupyter 환경에서 대화형 그래프 활성화\n",
    "%matplotlib widget"
   ]
  },
  {
   "cell_type": "code",
   "execution_count": 2,
   "id": "dd216cef-f69d-4b55-9468-0e4c5a620528",
   "metadata": {},
   "outputs": [
    {
     "name": "stderr",
     "output_type": "stream",
     "text": [
      "24/12/11 15:46:29 WARN NativeCodeLoader: Unable to load native-hadoop library for your platform... using builtin-java classes where applicable\n",
      "Using Spark's default log4j profile: org/apache/spark/log4j-defaults.properties\n",
      "Setting default log level to \"WARN\".\n",
      "To adjust logging level use sc.setLogLevel(newLevel). For SparkR, use setLogLevel(newLevel).\n"
     ]
    },
    {
     "data": {
      "text/html": [
       "\n",
       "            <div>\n",
       "                <p><b>SparkSession - in-memory</b></p>\n",
       "                \n",
       "        <div>\n",
       "            <p><b>SparkContext</b></p>\n",
       "\n",
       "            <p><a href=\"http://ip-172-31-3-9.ap-northeast-3.compute.internal:4040\">Spark UI</a></p>\n",
       "\n",
       "            <dl>\n",
       "              <dt>Version</dt>\n",
       "                <dd><code>v3.1.2</code></dd>\n",
       "              <dt>Master</dt>\n",
       "                <dd><code>local[*]</code></dd>\n",
       "              <dt>AppName</dt>\n",
       "                <dd><code>spark</code></dd>\n",
       "            </dl>\n",
       "        </div>\n",
       "        \n",
       "            </div>\n",
       "        "
      ],
      "text/plain": [
       "<pyspark.sql.session.SparkSession at 0x7f725e02ff40>"
      ]
     },
     "execution_count": 2,
     "metadata": {},
     "output_type": "execute_result"
    }
   ],
   "source": [
    "sc = SparkSession.builder.appName('spark').getOrCreate()\n",
    "sc"
   ]
  },
  {
   "cell_type": "code",
   "execution_count": 3,
   "id": "d2e4c626-8f93-448b-bc56-97113d28fda8",
   "metadata": {},
   "outputs": [
    {
     "name": "stderr",
     "output_type": "stream",
     "text": [
      "                                                                                \r"
     ]
    },
    {
     "name": "stdout",
     "output_type": "stream",
     "text": [
      "root\n",
      " |-- CallNumber: string (nullable = true)\n",
      " |-- UnitID: string (nullable = true)\n",
      " |-- IncidentNumber: string (nullable = true)\n",
      " |-- CallType: string (nullable = true)\n",
      " |-- CallDate: string (nullable = true)\n",
      " |-- WatchDate: string (nullable = true)\n",
      " |-- CallFinalDisposition: string (nullable = true)\n",
      " |-- AvailableDtTm: string (nullable = true)\n",
      " |-- Address: string (nullable = true)\n",
      " |-- City: string (nullable = true)\n",
      " |-- Zipcode: string (nullable = true)\n",
      " |-- Battalion: string (nullable = true)\n",
      " |-- StationArea: string (nullable = true)\n",
      " |-- Box: string (nullable = true)\n",
      " |-- OriginalPriority: string (nullable = true)\n",
      " |-- Priority: string (nullable = true)\n",
      " |-- FinalPriority: string (nullable = true)\n",
      " |-- ALSUnit: string (nullable = true)\n",
      " |-- CallTypeGroup: string (nullable = true)\n",
      " |-- NumAlarms: string (nullable = true)\n",
      " |-- UnitType: string (nullable = true)\n",
      " |-- UnitSequenceInCallDispatch: string (nullable = true)\n",
      " |-- FirePreventionDistrict: string (nullable = true)\n",
      " |-- SupervisorDistrict: string (nullable = true)\n",
      " |-- Neighborhood: string (nullable = true)\n",
      " |-- Location: string (nullable = true)\n",
      " |-- RowID: string (nullable = true)\n",
      " |-- Delay: string (nullable = true)\n",
      "\n"
     ]
    }
   ],
   "source": [
    "df = sc.read.csv('data/sf-fire-calls.csv', header = True)\n",
    "df.printSchema()"
   ]
  },
  {
   "cell_type": "code",
   "execution_count": 4,
   "id": "b9efddd8-87b7-472e-b8c0-3887449d7828",
   "metadata": {
    "scrolled": true
   },
   "outputs": [
    {
     "name": "stderr",
     "output_type": "stream",
     "text": [
      "24/12/11 15:46:38 WARN package: Truncated the string representation of a plan since it was too large. This behavior can be adjusted by setting 'spark.sql.debug.maxToStringFields'.\n"
     ]
    },
    {
     "name": "stdout",
     "output_type": "stream",
     "text": [
      "+----------+------+--------------+----------------+----------+----------+--------------------+--------------------+--------------------+----+-------+---------+-----------+----+----------------+--------+-------------+-------+-------------+---------+--------+--------------------------+----------------------+------------------+--------------------+--------------------+-------------+---------+\n",
      "|CallNumber|UnitID|IncidentNumber|        CallType|  CallDate| WatchDate|CallFinalDisposition|       AvailableDtTm|             Address|City|Zipcode|Battalion|StationArea| Box|OriginalPriority|Priority|FinalPriority|ALSUnit|CallTypeGroup|NumAlarms|UnitType|UnitSequenceInCallDispatch|FirePreventionDistrict|SupervisorDistrict|        Neighborhood|            Location|        RowID|    Delay|\n",
      "+----------+------+--------------+----------------+----------+----------+--------------------+--------------------+--------------------+----+-------+---------+-----------+----+----------------+--------+-------------+-------+-------------+---------+--------+--------------------------+----------------------+------------------+--------------------+--------------------+-------------+---------+\n",
      "|  20110016|   T13|       2003235|  Structure Fire|01/11/2002|01/10/2002|               Other|01/11/2002 01:51:...|2000 Block of CAL...|  SF|  94109|      B04|         38|3362|               3|       3|            3|  false|         null|        1|   TRUCK|                         2|                     4|                 5|     Pacific Heights|(37.7895840679362...|020110016-T13|     2.95|\n",
      "|  20110022|   M17|       2003241|Medical Incident|01/11/2002|01/10/2002|               Other|01/11/2002 03:01:...|0 Block of SILVER...|  SF|  94124|      B10|         42|6495|               3|       3|            3|   true|         null|        1|   MEDIC|                         1|                    10|                10|Bayview Hunters P...|(37.7337623673897...|020110022-M17|      4.7|\n",
      "|  20110023|   M41|       2003242|Medical Incident|01/11/2002|01/10/2002|               Other|01/11/2002 02:39:...|MARKET ST/MCALLIS...|  SF|  94102|      B03|         01|1455|               3|       3|            3|   true|         null|        1|   MEDIC|                         2|                     3|                 6|          Tenderloin|(37.7811772186856...|020110023-M41|2.4333334|\n",
      "+----------+------+--------------+----------------+----------+----------+--------------------+--------------------+--------------------+----+-------+---------+-----------+----+----------------+--------+-------------+-------+-------------+---------+--------+--------------------------+----------------------+------------------+--------------------+--------------------+-------------+---------+\n",
      "only showing top 3 rows\n",
      "\n"
     ]
    }
   ],
   "source": [
    "df.selectExpr('*').show(3)"
   ]
  },
  {
   "cell_type": "markdown",
   "id": "0e1dc6cf-1143-49ca-b657-5b4b1a7b35bf",
   "metadata": {},
   "source": [
    "## 2. 전처리"
   ]
  },
  {
   "cell_type": "code",
   "execution_count": 5,
   "id": "cd9efcf6-1384-4eae-9f99-36ac41c6064e",
   "metadata": {
    "scrolled": true
   },
   "outputs": [
    {
     "data": {
      "text/plain": [
       "DataFrame[CallNumber: string, UnitID: string, IncidentNumber: string, CallType: string, CallDate: string, WatchDate: string, CallFinalDisposition: string, AvailableDtTm: string, Address: string, City: string, Zipcode: string, Battalion: string, StationArea: string, Box: string, OriginalPriority: string, Priority: string, FinalPriority: string, ALSUnit: string, CallTypeGroup: string, NumAlarms: string, UnitType: string, UnitSequenceInCallDispatch: string, FirePreventionDistrict: string, SupervisorDistrict: string, Neighborhood: string, Location: string, RowID: string, Delay: string]"
      ]
     },
     "execution_count": 5,
     "metadata": {},
     "output_type": "execute_result"
    }
   ],
   "source": [
    "# 임시테이블 정의\n",
    "df.createOrReplaceTempView('temp_table')\n",
    "\n",
    "sc.sql('''\n",
    "        select * from temp_table\n",
    "        '''\n",
    "      )\n"
   ]
  },
  {
   "cell_type": "markdown",
   "id": "4b1c69de-14b3-4ce7-baeb-0395b3d65a5e",
   "metadata": {},
   "source": [
    "### 2.1 NULL 확인(뒤에 하다보니 NULL값이 있음)"
   ]
  },
  {
   "cell_type": "code",
   "execution_count": 6,
   "id": "0eb89ab7-d1ce-4eb0-b2f0-195624eff9ef",
   "metadata": {},
   "outputs": [
    {
     "name": "stderr",
     "output_type": "stream",
     "text": [
      "[Stage 4:>                                                          (0 + 2) / 2]\r"
     ]
    },
    {
     "name": "stdout",
     "output_type": "stream",
     "text": [
      "+---------+--------------------------+---------+\n",
      "|NULL 개수|NULL 포함 전체 데이터 개수|NULL 비율|\n",
      "+---------+--------------------------+---------+\n",
      "|      207|                    175296|     0.12|\n",
      "+---------+--------------------------+---------+\n",
      "\n"
     ]
    },
    {
     "name": "stderr",
     "output_type": "stream",
     "text": [
      "                                                                                \r"
     ]
    }
   ],
   "source": [
    "sc.sql('''\n",
    "    select \n",
    "    A.`NULL 개수`\n",
    "    , B.`NULL 포함 전체 데이터 개수`\n",
    "    , round((A.`NULL 개수` / B.`NULL 포함 전체 데이터 개수`) * 100,2) as `NULL 비율`\n",
    "    from \n",
    "                (select\n",
    "                    count(*) as `Null 개수`\n",
    "                from temp_table\n",
    "                where city is null\n",
    "                ) as A\n",
    "    inner join (select\n",
    "                    count(*) as `NULL 포함 전체 데이터 개수`\n",
    "                    from temp_table\n",
    "                ) as B\n",
    "    on 1 = 1    \n",
    "''').show()\n"
   ]
  },
  {
   "cell_type": "markdown",
   "id": "8ee02234-947d-490b-9620-9d6c00aedd73",
   "metadata": {},
   "source": [
    "### 2.2 NULL의 비중이 낮으니, 그냥 drop하는 것으로 결정"
   ]
  },
  {
   "cell_type": "code",
   "execution_count": 7,
   "id": "c51e4f24-7c64-4ef9-8b4c-0095eea5234d",
   "metadata": {},
   "outputs": [],
   "source": [
    "df_null_except = sc.sql('''\n",
    "                        select * from temp_table\n",
    "                        where city is not null\n",
    "                        ''')\\\n",
    "\n",
    "df_null_except.createOrReplaceTempView('temp_table_2')"
   ]
  },
  {
   "cell_type": "markdown",
   "id": "4ee1cdeb-4ea1-4ef5-b99e-3468a011a8dd",
   "metadata": {},
   "source": [
    "### 2.3 city에 축약과 FullName이 섞여있어, FullName으로 통일시켜주기"
   ]
  },
  {
   "cell_type": "code",
   "execution_count": 8,
   "id": "06f8599d-4f4c-4ed1-847b-c1fc0ded58d2",
   "metadata": {
    "scrolled": true
   },
   "outputs": [
    {
     "name": "stderr",
     "output_type": "stream",
     "text": [
      "                                                                                \r"
     ]
    },
    {
     "name": "stdout",
     "output_type": "stream",
     "text": [
      "+----+\n",
      "|city|\n",
      "+----+\n",
      "| OAK|\n",
      "|  DC|\n",
      "|  TI|\n",
      "|  HP|\n",
      "|  YB|\n",
      "|  BN|\n",
      "|  SF|\n",
      "|  FM|\n",
      "| SFO|\n",
      "|  PR|\n",
      "+----+\n",
      "\n",
      "+---------------+\n",
      "|           city|\n",
      "+---------------+\n",
      "|     FORT MASON|\n",
      "|     Fort Mason|\n",
      "|            OAK|\n",
      "|             DC|\n",
      "|             TI|\n",
      "|TREASURE ISLAND|\n",
      "|  San Francisco|\n",
      "|             HP|\n",
      "|             YB|\n",
      "|             BN|\n",
      "|       Brisbane|\n",
      "|      Daly City|\n",
      "|    Yerba Buena|\n",
      "|Treasure Island|\n",
      "|             SF|\n",
      "|       PRESIDIO|\n",
      "|       Presidio|\n",
      "|             FM|\n",
      "|            SFO|\n",
      "|  Hunters Point|\n",
      "+---------------+\n",
      "only showing top 20 rows\n",
      "\n"
     ]
    }
   ],
   "source": [
    "# city 컬럼 확인\n",
    "sc.sql('''\n",
    "    select\n",
    "    distinct city\n",
    "    from temp_table_2\n",
    "    where length(city) <= 3\n",
    "    '''\n",
    ")\\\n",
    ".show()\n",
    "\n",
    "sc.sql('''\n",
    "    select\n",
    "    distinct city\n",
    "    from temp_table_2\n",
    "    -- where length(city) <= 3\n",
    "    '''\n",
    ")\\\n",
    ".show()"
   ]
  },
  {
   "cell_type": "code",
   "execution_count": 9,
   "id": "7bb88dae-8ce8-4dd9-8792-2eca7dea6cf0",
   "metadata": {},
   "outputs": [],
   "source": [
    "# 임시 테이블 삭제 구문\n",
    "# sc.catalog.dropTempView('temp_table_3')\n",
    "\n",
    "sc.sql('''\n",
    "    select\n",
    "        *\n",
    "    from (\n",
    "        select\n",
    "         CallNumber,\n",
    "         UnitID,\n",
    "         IncidentNumber,\n",
    "         CallType,\n",
    "         CallDate,\n",
    "         WatchDate,\n",
    "         CallFinalDisposition,\n",
    "         AvailableDtTm,\n",
    "         Address,\n",
    "         Case when city = 'DC' THEN  upper('Daly City')\n",
    "                when city = 'SF' THEN upper('San Francisco')\n",
    "                when city = 'FM' THEN upper('FORT MASON')\n",
    "                when city = 'TI' THEN upper('TREASURE ISLAND')\n",
    "                when city = 'YB' THEN upper('Yerba Buena')\n",
    "                when city = 'BN' THEN upper('BRISBANE')\n",
    "                when city = 'HP' THEN upper('Hunters Point')\n",
    "                when city = 'PR' THEN upper('PRESIDIO')\n",
    "                else upper(city) END as city_full,\n",
    "         Zipcode,\n",
    "         Battalion,\n",
    "         StationArea,\n",
    "         Box,\n",
    "         OriginalPriority,\n",
    "         Priority,\n",
    "         FinalPriority,\n",
    "         ALSUnit,\n",
    "         CallTypeGroup,\n",
    "         NumAlarms,\n",
    "         UnitType,\n",
    "         UnitSequenceInCallDispatch,\n",
    "         FirePreventionDistrict,\n",
    "         SupervisorDistrict,\n",
    "         Neighborhood,\n",
    "         Location,\n",
    "         RowID,\n",
    "         Delay\n",
    "        from temp_table_2\n",
    "    ) as A\n",
    "    ''')\\\n",
    ".createOrReplaceTempView('temp_table_3')"
   ]
  },
  {
   "cell_type": "markdown",
   "id": "c02d3cb9-d102-42fb-8c52-41e75d04c4b2",
   "metadata": {},
   "source": [
    "## 3. 데이터 분석"
   ]
  },
  {
   "cell_type": "markdown",
   "id": "421e7044-331d-49f3-a387-6223f3d00a9a",
   "metadata": {},
   "source": [
    "### 2018년에 왔던 신고 전화들의 모든 유형은 어떤 것이었는가?"
   ]
  },
  {
   "cell_type": "code",
   "execution_count": 10,
   "id": "1da17c46-3a03-4701-8253-71a3e0448239",
   "metadata": {
    "scrolled": true
   },
   "outputs": [
    {
     "name": "stderr",
     "output_type": "stream",
     "text": [
      "[Stage 29:======================================>               (142 + 2) / 200]\r"
     ]
    },
    {
     "name": "stdout",
     "output_type": "stream",
     "text": [
      "+---------+--------------------+------------+\n",
      "|date_year|            CallType|cnt_calltype|\n",
      "+---------+--------------------+------------+\n",
      "|     2018|    Medical Incident|        6990|\n",
      "|     2018|              Alarms|        1144|\n",
      "|     2018|      Structure Fire|         904|\n",
      "|     2018|   Traffic Collision|         431|\n",
      "|     2018|        Outside Fire|         153|\n",
      "|     2018|               Other|         114|\n",
      "|     2018|Citizen Assist / ...|         113|\n",
      "|     2018|Gas Leak (Natural...|          69|\n",
      "|     2018|        Water Rescue|          43|\n",
      "|     2018|Elevator / Escala...|          36|\n",
      "|     2018|   Electrical Hazard|          30|\n",
      "|     2018|Smoke Investigati...|          28|\n",
      "|     2018|        Vehicle Fire|          27|\n",
      "|     2018|          Fuel Spill|          10|\n",
      "|     2018|Odor (Strange / U...|          10|\n",
      "|     2018|              HazMat|           5|\n",
      "|     2018|Train / Rail Inci...|           5|\n",
      "|     2018|  Suspicious Package|           3|\n",
      "|     2018|           Explosion|           1|\n",
      "|     2018|       Assist Police|           1|\n",
      "+---------+--------------------+------------+\n",
      "\n"
     ]
    },
    {
     "name": "stderr",
     "output_type": "stream",
     "text": [
      "                                                                                \r"
     ]
    }
   ],
   "source": [
    "sc.sql('''\n",
    "    SELECT\n",
    "    \n",
    "        right(CallDate,4) as date_year\n",
    "        , CallType\n",
    "        , count(CallType) as cnt_calltype\n",
    "    from\n",
    "    temp_table_3\n",
    "    -- where right(CallDate,4) = 2018\n",
    "    Group by right(CallDate,4), CallType\n",
    "    having right(CallDate,4) = 2018\n",
    "    order by 3 desc\n",
    "    ''').show()"
   ]
  },
  {
   "cell_type": "markdown",
   "id": "486f3963-edb0-49b1-a3c9-2832065ebde0",
   "metadata": {},
   "source": [
    "### 2018년 신고 전화가 가장 많았던 달은 언제인가?"
   ]
  },
  {
   "cell_type": "code",
   "execution_count": 11,
   "id": "c61a6fee-b1e9-435d-be36-2d4b1d60a290",
   "metadata": {},
   "outputs": [
    {
     "name": "stderr",
     "output_type": "stream",
     "text": [
      "[Stage 31:========================================>             (151 + 3) / 200]\r"
     ]
    },
    {
     "name": "stdout",
     "output_type": "stream",
     "text": [
      "+-----+------------------+\n",
      "|month|cnt_CallDate_month|\n",
      "+-----+------------------+\n",
      "|   10|              1068|\n",
      "+-----+------------------+\n",
      "\n"
     ]
    },
    {
     "name": "stderr",
     "output_type": "stream",
     "text": [
      "                                                                                \r"
     ]
    }
   ],
   "source": [
    "sc.sql('''\n",
    "    SELECT\n",
    "        split(CallDate, '/')[0] as month --월만 인덱싱 이게 되네\n",
    "        , count(CallDate) as cnt_CallDate_month\n",
    "        from\n",
    "        temp_table_3\n",
    "    where right(CallDate,4) = 2018\n",
    "    group by 1\n",
    "    order by 2 desc\n",
    "    limit 1 -- 상위 1개만 추출\n",
    "\n",
    "    ''')\\\n",
    ".show()"
   ]
  },
  {
   "cell_type": "markdown",
   "id": "86e3813c-7465-4dc4-a968-7879166db550",
   "metadata": {},
   "source": [
    "### 2018년에 가장 많은 신고가 들어온 샌프란시스코 지역"
   ]
  },
  {
   "cell_type": "code",
   "execution_count": 12,
   "id": "91dd0364-efdc-49e2-8a62-5c3fe0e31b36",
   "metadata": {},
   "outputs": [
    {
     "name": "stderr",
     "output_type": "stream",
     "text": [
      "[Stage 34:=============================================>        (167 + 2) / 200]\r"
     ]
    },
    {
     "name": "stdout",
     "output_type": "stream",
     "text": [
      "+--------------------+--------------+\n",
      "|             Address|count(Address)|\n",
      "+--------------------+--------------+\n",
      "|   0 Block of 6TH ST|            62|\n",
      "|800 Block of MARK...|            62|\n",
      "|300 Block of EDDY ST|            58|\n",
      "| 500 Block of 5TH ST|            58|\n",
      "|400 Block of ELLI...|            55|\n",
      "|1100 Block of MAR...|            55|\n",
      "|1000 Block of POL...|            46|\n",
      "|100 Block of EDDY ST|            46|\n",
      "| 100 Block of 6TH ST|            39|\n",
      "|1100 Block of MIS...|            38|\n",
      "|200 Block of EDDY ST|            33|\n",
      "|1200 Block of TUR...|            32|\n",
      "|300 Block of ELLI...|            32|\n",
      "|900 Block of GEAR...|            31|\n",
      "|200 Block of GOLD...|            30|\n",
      "|400 Block of EDDY ST|            29|\n",
      "|500 Block of SOUT...|            29|\n",
      "|300 Block of SILV...|            29|\n",
      "|600 Block of VALE...|            29|\n",
      "|500 Block of MARK...|            28|\n",
      "+--------------------+--------------+\n",
      "only showing top 20 rows\n",
      "\n"
     ]
    },
    {
     "name": "stderr",
     "output_type": "stream",
     "text": [
      "                                                                                \r"
     ]
    }
   ],
   "source": [
    "sc.sql('''\n",
    "    Select\n",
    "    Address\n",
    "    , count(Address)\n",
    "    from\n",
    "        (\n",
    "        SELECT\n",
    "            Address\n",
    "            , city_full as count_city       \n",
    "        FROM\n",
    "        temp_table_3\n",
    "        where right(CallDate,4) = 2018\n",
    "            and city_full = upper('San Francisco')\n",
    "        )    \n",
    "    group by Address\n",
    "    order by 2 desc\n",
    "    '''\n",
    "      )\\\n",
    ".show()\n"
   ]
  },
  {
   "cell_type": "markdown",
   "id": "ddf66f61-93fa-4d6a-9371-63e110bb5f87",
   "metadata": {},
   "source": [
    "### 2018년에 가장 응답 시간이 늦었던 지역"
   ]
  },
  {
   "cell_type": "code",
   "execution_count": 13,
   "id": "54ceeaa1-5b2d-4248-a0db-8fc458b56423",
   "metadata": {},
   "outputs": [
    {
     "name": "stderr",
     "output_type": "stream",
     "text": [
      "[Stage 36:===============================================>      (175 + 2) / 200]\r"
     ]
    },
    {
     "name": "stdout",
     "output_type": "stream",
     "text": [
      "+-------------+---------+\n",
      "|    city_full|max_delay|\n",
      "+-------------+---------+\n",
      "|SAN FRANCISCO|    94.72|\n",
      "+-------------+---------+\n",
      "\n"
     ]
    },
    {
     "name": "stderr",
     "output_type": "stream",
     "text": [
      "                                                                                \r"
     ]
    }
   ],
   "source": [
    "sc.sql('''\n",
    "    select\n",
    "        city_full\n",
    "        , round(max(delay), 2) as max_delay\n",
    "    from temp_table_3\n",
    "    where right(CallDate,4) = 2018\n",
    "    group by city_full\n",
    "    order by 2 desc\n",
    "    limit 1\n",
    "    \n",
    "    '''\n",
    ")\\\n",
    ".show()"
   ]
  },
  {
   "cell_type": "markdown",
   "id": "28ef9464-63bf-4a50-9c6c-81bd2ae86026",
   "metadata": {},
   "source": [
    "#### 2018년 어떤 주에서 신고가 제일 많았는가?"
   ]
  },
  {
   "cell_type": "code",
   "execution_count": 14,
   "id": "e406c959-3515-44db-99bd-d7466f0da930",
   "metadata": {},
   "outputs": [
    {
     "name": "stdout",
     "output_type": "stream",
     "text": [
      "+-------------+----------------+\n",
      "|    city_full|count(city_full)|\n",
      "+-------------+----------------+\n",
      "|SAN FRANCISCO|          173487|\n",
      "+-------------+----------------+\n",
      "\n"
     ]
    },
    {
     "name": "stderr",
     "output_type": "stream",
     "text": [
      "                                                                                \r"
     ]
    }
   ],
   "source": [
    "sc.sql('''\n",
    "    select\n",
    "        city_full\n",
    "        , count(city_full)\n",
    "    from\n",
    "    temp_table_3\n",
    "    group by city_full\n",
    "    order by 2 desc\n",
    "    limit 1\n",
    "    ''')\\\n",
    ".show()\n"
   ]
  },
  {
   "cell_type": "markdown",
   "id": "8660020a-c766-49c7-9e49-a541ac4f4d28",
   "metadata": {},
   "source": [
    "#### 지역, 우편번호, 신고 숫자 간에 상관관계가 있는가?"
   ]
  },
  {
   "cell_type": "code",
   "execution_count": 15,
   "id": "b59eb67a-f5b4-4b6e-b2a1-00dfe7b2b2f6",
   "metadata": {},
   "outputs": [
    {
     "name": "stderr",
     "output_type": "stream",
     "text": [
      "                                                                                \r"
     ]
    }
   ],
   "source": [
    "df_temp = sc.sql('''\n",
    "    select\n",
    "    city_full\n",
    "    , count(zipcode) as count_zipcode_by_city\n",
    "    , count(city_full) as count_singo_by_city\n",
    "    from\n",
    "    temp_table_3\n",
    "    --where city_full != upper('san francisco')\n",
    "    group by city_full\n",
    "    order by city_full\n",
    "    '''\n",
    "  )\n",
    "\n",
    "df_temp1 = df_temp.toPandas()"
   ]
  },
  {
   "cell_type": "code",
   "execution_count": 16,
   "id": "01630ecc-bbe1-4097-8d2f-27eceec57436",
   "metadata": {},
   "outputs": [
    {
     "data": {
      "text/html": [
       "<div>\n",
       "<style scoped>\n",
       "    .dataframe tbody tr th:only-of-type {\n",
       "        vertical-align: middle;\n",
       "    }\n",
       "\n",
       "    .dataframe tbody tr th {\n",
       "        vertical-align: top;\n",
       "    }\n",
       "\n",
       "    .dataframe thead th {\n",
       "        text-align: right;\n",
       "    }\n",
       "</style>\n",
       "<table border=\"1\" class=\"dataframe\">\n",
       "  <thead>\n",
       "    <tr style=\"text-align: right;\">\n",
       "      <th></th>\n",
       "      <th>city_full</th>\n",
       "      <th>count_zipcode_by_city</th>\n",
       "      <th>count_singo_by_city</th>\n",
       "    </tr>\n",
       "  </thead>\n",
       "  <tbody>\n",
       "    <tr>\n",
       "      <th>0</th>\n",
       "      <td>BRISBANE</td>\n",
       "      <td>4</td>\n",
       "      <td>12</td>\n",
       "    </tr>\n",
       "    <tr>\n",
       "      <th>1</th>\n",
       "      <td>DALY CITY</td>\n",
       "      <td>17</td>\n",
       "      <td>50</td>\n",
       "    </tr>\n",
       "    <tr>\n",
       "      <th>2</th>\n",
       "      <td>FORT MASON</td>\n",
       "      <td>73</td>\n",
       "      <td>73</td>\n",
       "    </tr>\n",
       "    <tr>\n",
       "      <th>3</th>\n",
       "      <td>HUNTERS POINT</td>\n",
       "      <td>58</td>\n",
       "      <td>58</td>\n",
       "    </tr>\n",
       "    <tr>\n",
       "      <th>4</th>\n",
       "      <td>OAK</td>\n",
       "      <td>9</td>\n",
       "      <td>11</td>\n",
       "    </tr>\n",
       "    <tr>\n",
       "      <th>5</th>\n",
       "      <td>PRESIDIO</td>\n",
       "      <td>551</td>\n",
       "      <td>551</td>\n",
       "    </tr>\n",
       "    <tr>\n",
       "      <th>6</th>\n",
       "      <td>SAN FRANCISCO</td>\n",
       "      <td>173431</td>\n",
       "      <td>173487</td>\n",
       "    </tr>\n",
       "    <tr>\n",
       "      <th>7</th>\n",
       "      <td>SFO</td>\n",
       "      <td>0</td>\n",
       "      <td>37</td>\n",
       "    </tr>\n",
       "    <tr>\n",
       "      <th>8</th>\n",
       "      <td>TREASURE ISLA</td>\n",
       "      <td>228</td>\n",
       "      <td>228</td>\n",
       "    </tr>\n",
       "    <tr>\n",
       "      <th>9</th>\n",
       "      <td>TREASURE ISLAND</td>\n",
       "      <td>507</td>\n",
       "      <td>507</td>\n",
       "    </tr>\n",
       "    <tr>\n",
       "      <th>10</th>\n",
       "      <td>YERBA BUENA</td>\n",
       "      <td>75</td>\n",
       "      <td>75</td>\n",
       "    </tr>\n",
       "  </tbody>\n",
       "</table>\n",
       "</div>"
      ],
      "text/plain": [
       "          city_full  count_zipcode_by_city  count_singo_by_city\n",
       "0          BRISBANE                      4                   12\n",
       "1         DALY CITY                     17                   50\n",
       "2        FORT MASON                     73                   73\n",
       "3     HUNTERS POINT                     58                   58\n",
       "4               OAK                      9                   11\n",
       "5          PRESIDIO                    551                  551\n",
       "6     SAN FRANCISCO                 173431               173487\n",
       "7               SFO                      0                   37\n",
       "8     TREASURE ISLA                    228                  228\n",
       "9   TREASURE ISLAND                    507                  507\n",
       "10      YERBA BUENA                     75                   75"
      ]
     },
     "execution_count": 16,
     "metadata": {},
     "output_type": "execute_result"
    }
   ],
   "source": [
    "df_temp1"
   ]
  },
  {
   "cell_type": "code",
   "execution_count": 17,
   "id": "389191dc-3346-4ddd-9f1d-fce9e2616192",
   "metadata": {},
   "outputs": [
    {
     "data": {
      "application/vnd.jupyter.widget-view+json": {
       "model_id": "ca29634bb7fc4354b5deb395837617b5",
       "version_major": 2,
       "version_minor": 0
      },
      "image/png": "[encoded data removed]",
      "text/html": [
       "\n",
       "            <div style=\"display: inline-block;\">\n",
       "                <div class=\"jupyter-widgets widget-label\" style=\"text-align: center;\">\n",
       "                    Figure\n",
       "                </div>\n",
       "                <img src='data:image/png;base64,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' width=800.0/>\n",
       "            </div>\n",
       "        "
      ],
      "text/plain": [
       "Canvas(toolbar=Toolbar(toolitems=[('Home', 'Reset original view', 'home', 'home'), ('Back', 'Back to previous …"
      ]
     },
     "metadata": {},
     "output_type": "display_data"
    }
   ],
   "source": [
    "# 기본 폰트 설정\n",
    "plt.rcParams['font.family'] = 'sans-serif'\n",
    "plt.figure(figsize=(8,6))\n",
    "\n",
    "sns.scatterplot(data = df_temp1\n",
    "                , x = df_temp1['count_singo_by_city']\n",
    "                , y = df_temp1['count_zipcode_by_city']\n",
    "                , hue = df_temp1['city_full']\n",
    "                , size = df_temp1['count_singo_by_city'] #뭘 기준으로 사이즈 측정할껀지 선택\n",
    "                , sizes = (100,300) #사이즈의 최소, 최대 사이즈라고 함                \n",
    "               )\n",
    "plt.show()"
   ]
  },
  {
   "cell_type": "markdown",
   "id": "77462b84-b6b3-46fc-bef7-fec516dfd83f",
   "metadata": {},
   "source": [
    "### 분석 결과"
   ]
  },
  {
   "cell_type": "markdown",
   "id": "faff9309-a862-476e-8d03-31f002fae3bf",
   "metadata": {},
   "source": [
    "<span style=\"background-color:#fff5b1;\n",
    "color : black;\n",
    "font-weight : bold;\">\n",
    "우편번호</span>\n",
    ", <span style=\"background-color:#fff5b1;\n",
    "color : black;\n",
    "font-weight : bold;\">신고건수</span>\n",
    "는 <span style=\"background-color:#fff5b1;\n",
    "color : black;\n",
    "font-weight : bold;\">\n",
    "양의 상관관계</span>를 가지는 것으로 보인다.\n",
    "\n",
    "즉, 신고건수가 많아질 수록 지역별로 안의 우편번호의 개수도 증가하는 것으로 보인다.\n",
    "\n",
    "<span style=\"background-color:#fff5b1;\n",
    "            color : black;\n",
    "            font-weight : bold;\">\n",
    "            특이점</span><br>\n",
    "샌프란시스코의 건수가 타 지역보다 월등히 많다\n",
    "<table>\n",
    "    <tr>\n",
    "        <th style = 'text-align : center;'>ZipCode개수</th>    \n",
    "        <th style = 'text-align : center;'>신고건수</th>\n",
    "    </tr>\n",
    "    <tr>\n",
    "        <td style = 'text-align : center;'>173,431</td>\n",
    "        <td style = 'text-align : center;'>173,487</td>\n",
    "    </tr>\n",
    "</table>\n",
    "\n",
    "하지만 이 역시도 다른 지역과 연계해서 보았을때 차트 전체가 <span style=\"background-color:#fff5b1;\n",
    "            color : black;\n",
    "            font-weight : bold;\">\n",
    "            우상향</span>하는 그래프임을 알 수 있다."
   ]
  },
  {
   "cell_type": "code",
   "execution_count": 18,
   "id": "b2811005-3072-4224-8865-57c096cbc276",
   "metadata": {},
   "outputs": [],
   "source": [
    "sc.stop()"
   ]
  },
  {
   "cell_type": "code",
   "execution_count": null,
   "id": "4ce012bd-5137-4b4b-9f35-5faf9df689f8",
   "metadata": {},
   "outputs": [],
   "source": []
  },
  {
   "cell_type": "code",
   "execution_count": null,
   "id": "50abf5c5-2b34-44f7-990b-78c2de1128a2",
   "metadata": {},
   "outputs": [],
   "source": []
  },
  {
   "cell_type": "code",
   "execution_count": null,
   "id": "d25c7a8a-444f-4390-a3ed-dc39aa618dda",
   "metadata": {},
   "outputs": [],
   "source": []
  },
  {
   "cell_type": "code",
   "execution_count": null,
   "id": "e8deeb49-67c1-4ef8-9909-309672b170ff",
   "metadata": {},
   "outputs": [],
   "source": []
  }
 ],
 "metadata": {
  "kernelspec": {
   "display_name": "Python (spark_start)",
   "language": "python",
   "name": "spark_start"
  },
  "language_info": {
   "codemirror_mode": {
    "name": "ipython",
    "version": 3
   },
   "file_extension": ".py",
   "mimetype": "text/x-python",
   "name": "python",
   "nbconvert_exporter": "python",
   "pygments_lexer": "ipython3",
   "version": "3.8.20"
  }
 },
 "nbformat": 4,
 "nbformat_minor": 5
}
