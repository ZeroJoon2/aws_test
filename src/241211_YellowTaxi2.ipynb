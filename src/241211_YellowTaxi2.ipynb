{
 "cells": [
  {
   "cell_type": "code",
   "execution_count": 20,
   "id": "d8c71bfa-675a-49a8-9686-f559f035c861",
   "metadata": {},
   "outputs": [],
   "source": [
    "import os\n",
    "\n",
    "from pyspark.sql import SparkSession\n",
    "from pyspark.sql.functions import isnan, col, when, sum, row_number\n",
    "\n",
    "from pyspark.sql.window import Window\n",
    "\n",
    "import matplotlib.pyplot as plt\n",
    "import seaborn as sns\n",
    "\n",
    "# Jupyter 환경에서 대화형 그래프 활성화\n",
    "%matplotlib widget\n",
    "\n",
    "# Scipy를 사용한 피어슨 상관계수와 p-value\n",
    "# statistic: 피어슨 상관계수(상관관계의 강도와 방향을 나타냄)\n",
    "# p-value가 0.05 미만이면 통계적으로 유의미하다고 함\n",
    "# p-value는 낮을 수록 의미 있음\n",
    "from scipy.stats import pearsonr\n"
   ]
  },
  {
   "cell_type": "code",
   "execution_count": 2,
   "id": "9d207d68-7d34-46d5-9145-e6f2b6462e3d",
   "metadata": {},
   "outputs": [
    {
     "name": "stderr",
     "output_type": "stream",
     "text": [
      "24/12/12 17:46:28 WARN NativeCodeLoader: Unable to load native-hadoop library for your platform... using builtin-java classes where applicable\n",
      "Using Spark's default log4j profile: org/apache/spark/log4j-defaults.properties\n",
      "Setting default log level to \"WARN\".\n",
      "To adjust logging level use sc.setLogLevel(newLevel). For SparkR, use setLogLevel(newLevel).\n"
     ]
    },
    {
     "data": {
      "text/html": [
       "\n",
       "            <div>\n",
       "                <p><b>SparkSession - in-memory</b></p>\n",
       "                \n",
       "        <div>\n",
       "            <p><b>SparkContext</b></p>\n",
       "\n",
       "            <p><a href=\"http://ip-172-31-3-9.ap-northeast-3.compute.internal:4040\">Spark UI</a></p>\n",
       "\n",
       "            <dl>\n",
       "              <dt>Version</dt>\n",
       "                <dd><code>v3.1.2</code></dd>\n",
       "              <dt>Master</dt>\n",
       "                <dd><code>local[*]</code></dd>\n",
       "              <dt>AppName</dt>\n",
       "                <dd><code>YellowTaxi</code></dd>\n",
       "            </dl>\n",
       "        </div>\n",
       "        \n",
       "            </div>\n",
       "        "
      ],
      "text/plain": [
       "<pyspark.sql.session.SparkSession at 0x7fc6badadc40>"
      ]
     },
     "execution_count": 2,
     "metadata": {},
     "output_type": "execute_result"
    }
   ],
   "source": [
    "ss = SparkSession.builder\\\n",
    ".appName('YellowTaxi')\\\n",
    ".getOrCreate()\n",
    "\n",
    "ss"
   ]
  },
  {
   "cell_type": "code",
   "execution_count": 3,
   "id": "fad615ec-22a6-446a-9bff-988807d17956",
   "metadata": {},
   "outputs": [],
   "source": [
    "trip_files = 'trips/*.csv'\n",
    "zone_file = 'trips/code/lookup.csv'\n",
    "directory = os.path.join(os.getcwd(), 'data')"
   ]
  },
  {
   "cell_type": "code",
   "execution_count": 4,
   "id": "8096b2a3-98fa-4746-bab1-74914bc1648a",
   "metadata": {},
   "outputs": [
    {
     "name": "stderr",
     "output_type": "stream",
     "text": [
      "                                                                                \r"
     ]
    },
    {
     "data": {
      "text/plain": [
       "(DataFrame[VendorID: int, tpep_pickup_datetime: string, tpep_dropoff_datetime: string, passenger_count: int, trip_distance: double, RatecodeID: int, store_and_fwd_flag: string, PULocationID: int, DOLocationID: int, payment_type: int, fare_amount: double, extra: double, mta_tax: double, tip_amount: double, tolls_amount: double, improvement_surcharge: double, total_amount: double, congestion_surcharge: double],\n",
       " DataFrame[LocationID: int, Borough: string, Zone: string, service_zone: string])"
      ]
     },
     "execution_count": 4,
     "metadata": {},
     "output_type": "execute_result"
    }
   ],
   "source": [
    "df = ss.read.csv(f'file:///{directory}/{trip_files}', inferSchema = True, header = True)\n",
    "df_zone = ss.read.csv(f'file:///{directory}/{zone_file}', inferSchema = True, header = True)\n",
    "df, df_zone"
   ]
  },
  {
   "cell_type": "code",
   "execution_count": 5,
   "id": "77be46cf-5ea6-4419-91e6-6f96095bc2c4",
   "metadata": {
    "scrolled": true
   },
   "outputs": [
    {
     "name": "stdout",
     "output_type": "stream",
     "text": [
      "+--------+--------------------+---------------------+---------------+-------------+----------+------------------+------------+------------+------------+-----------+-----+-------+----------+------------+---------------------+------------+--------------------+\n",
      "|VendorID|tpep_pickup_datetime|tpep_dropoff_datetime|passenger_count|trip_distance|RatecodeID|store_and_fwd_flag|PULocationID|DOLocationID|payment_type|fare_amount|extra|mta_tax|tip_amount|tolls_amount|improvement_surcharge|total_amount|congestion_surcharge|\n",
      "+--------+--------------------+---------------------+---------------+-------------+----------+------------------+------------+------------+------------+-----------+-----+-------+----------+------------+---------------------+------------+--------------------+\n",
      "|       2| 2021-03-01 00:22:02|  2021-03-01 00:23:22|              1|          0.0|         1|                 N|         264|         264|           2|        3.0|  0.5|    0.5|       0.0|         0.0|                  0.3|         4.3|                 0.0|\n",
      "+--------+--------------------+---------------------+---------------+-------------+----------+------------------+------------+------------+------------+-----------+-----+-------+----------+------------+---------------------+------------+--------------------+\n",
      "only showing top 1 row\n",
      "\n",
      "root\n",
      " |-- VendorID: integer (nullable = true)\n",
      " |-- tpep_pickup_datetime: string (nullable = true)\n",
      " |-- tpep_dropoff_datetime: string (nullable = true)\n",
      " |-- passenger_count: integer (nullable = true)\n",
      " |-- trip_distance: double (nullable = true)\n",
      " |-- RatecodeID: integer (nullable = true)\n",
      " |-- store_and_fwd_flag: string (nullable = true)\n",
      " |-- PULocationID: integer (nullable = true)\n",
      " |-- DOLocationID: integer (nullable = true)\n",
      " |-- payment_type: integer (nullable = true)\n",
      " |-- fare_amount: double (nullable = true)\n",
      " |-- extra: double (nullable = true)\n",
      " |-- mta_tax: double (nullable = true)\n",
      " |-- tip_amount: double (nullable = true)\n",
      " |-- tolls_amount: double (nullable = true)\n",
      " |-- improvement_surcharge: double (nullable = true)\n",
      " |-- total_amount: double (nullable = true)\n",
      " |-- congestion_surcharge: double (nullable = true)\n",
      "\n"
     ]
    }
   ],
   "source": [
    "df.show(1)\n",
    "df.printSchema()"
   ]
  },
  {
   "cell_type": "code",
   "execution_count": 12,
   "id": "ef526768-4aaa-4411-b52b-4630cf03993f",
   "metadata": {},
   "outputs": [
    {
     "name": "stderr",
     "output_type": "stream",
     "text": [
      "                                                                                \r"
     ]
    },
    {
     "data": {
      "text/plain": [
       "15000700"
      ]
     },
     "execution_count": 12,
     "metadata": {},
     "output_type": "execute_result"
    }
   ],
   "source": [
    "df.count()"
   ]
  },
  {
   "cell_type": "markdown",
   "id": "994dfc4d-bfb3-4dad-9cda-8bc21c383e24",
   "metadata": {},
   "source": [
    "## 0. 방향\n",
    "1. 쿼리 작성\n",
    "2. 데이터 프레임으로 구현"
   ]
  },
  {
   "cell_type": "markdown",
   "id": "8eb31037-089a-4f44-bfc9-370c40db23ae",
   "metadata": {},
   "source": [
    "## 1. 전처리"
   ]
  },
  {
   "cell_type": "markdown",
   "id": "c928dc94-4854-4893-9f61-62703b0ff554",
   "metadata": {},
   "source": [
    "### 1-1. 임시 테이블 만들기"
   ]
  },
  {
   "cell_type": "code",
   "execution_count": 6,
   "id": "8cf638ff-19bd-403b-8637-c017cf74b4b2",
   "metadata": {},
   "outputs": [],
   "source": [
    "df.createOrReplaceTempView('table1')\n",
    "df_zone.createOrReplaceTempView('table2')"
   ]
  },
  {
   "cell_type": "markdown",
   "id": "4a843191-0407-4539-8f85-41d55728719f",
   "metadata": {},
   "source": [
    "### 1-2. 음수는 뭐지"
   ]
  },
  {
   "cell_type": "code",
   "execution_count": 160,
   "id": "cc0890cb-0ea2-4972-b2ed-1e5f2f261f8e",
   "metadata": {
    "scrolled": true
   },
   "outputs": [
    {
     "name": "stderr",
     "output_type": "stream",
     "text": [
      "                                                                                \r"
     ]
    },
    {
     "name": "stdout",
     "output_type": "stream",
     "text": [
      "+------------+---------------+---------------+-----------------+-----------------+\n",
      "|payment_type|min(tip_amount)|max(tip_amount)|min(total_amount)|max(total_amount)|\n",
      "+------------+---------------+---------------+-----------------+-----------------+\n",
      "|        null|          -6.33|          15.13|           -95.88|            50.02|\n",
      "|           1|         -83.95|            0.0|          -133.35|             -3.3|\n",
      "|           3|         -111.1|          32.06|           -647.8|            -0.31|\n",
      "|           4|        -333.32|          40.06|          -554.05|             -0.3|\n",
      "|           2|            0.0|          31.26|           -634.8|            -0.35|\n",
      "+------------+---------------+---------------+-----------------+-----------------+\n",
      "\n"
     ]
    }
   ],
   "source": [
    "ss.sql('''\n",
    "    SELECT\n",
    "        payment_type\n",
    "        , min(tip_amount)\n",
    "        , max(tip_amount)\n",
    "        , min(total_amount)\n",
    "        , max(total_amount)\n",
    "    FROM table1 as A\n",
    "    where tip_amount < 0\n",
    "        or total_amount < 0\n",
    "\n",
    "    GROUP BY payment_type\n",
    "    \n",
    "''').show()"
   ]
  },
  {
   "cell_type": "markdown",
   "id": "5b40b593-2df4-4ab8-b13a-3c68cdcda179",
   "metadata": {},
   "source": [
    "### 1-3 결측치 처리"
   ]
  },
  {
   "cell_type": "code",
   "execution_count": 227,
   "id": "4a2ef199-1be6-49c9-94a2-f128d102b450",
   "metadata": {},
   "outputs": [
    {
     "name": "stderr",
     "output_type": "stream",
     "text": [
      "[Stage 202:==================================================>    (10 + 1) / 11]\r"
     ]
    },
    {
     "name": "stdout",
     "output_type": "stream",
     "text": [
      "+--------+--------------------+---------------------+---------------+-------------+----------+------------------+------------+------------+------------+-----------+-----+-------+----------+------------+---------------------+------------+--------------------+\n",
      "|VendorID|tpep_pickup_datetime|tpep_dropoff_datetime|passenger_count|trip_distance|RatecodeID|store_and_fwd_flag|PULocationID|DOLocationID|payment_type|fare_amount|extra|mta_tax|tip_amount|tolls_amount|improvement_surcharge|total_amount|congestion_surcharge|\n",
      "+--------+--------------------+---------------------+---------------+-------------+----------+------------------+------------+------------+------------+-----------+-----+-------+----------+------------+---------------------+------------+--------------------+\n",
      "|  834028|                   0|                    0|         834028|            0|    834028|            834028|           0|           0|      834028|          0|    0|      0|         0|           0|                    0|           0|                   0|\n",
      "+--------+--------------------+---------------------+---------------+-------------+----------+------------------+------------+------------+------------+-----------+-----+-------+----------+------------+---------------------+------------+--------------------+\n",
      "\n"
     ]
    },
    {
     "name": "stderr",
     "output_type": "stream",
     "text": [
      "                                                                                \r"
     ]
    }
   ],
   "source": [
    "df.select(\n",
    "    [\n",
    "        sum(\n",
    "            when(\n",
    "                col(c).isNull() | isnan(c),1)\\\n",
    "        .otherwise(0)\n",
    "            )\\\n",
    "        .alias(c) for c in df.columns\n",
    "        \n",
    "    ]    \n",
    ").show()"
   ]
  },
  {
   "cell_type": "code",
   "execution_count": 11,
   "id": "bbf68b30-6505-4e52-b78b-4d6b2b9f9bb5",
   "metadata": {},
   "outputs": [
    {
     "name": "stderr",
     "output_type": "stream",
     "text": [
      "                                                                                \r"
     ]
    },
    {
     "name": "stdout",
     "output_type": "stream",
     "text": [
      "+--------+\n",
      "|VendorID|\n",
      "+--------+\n",
      "|    null|\n",
      "|    null|\n",
      "|    null|\n",
      "|    null|\n",
      "|    null|\n",
      "|    null|\n",
      "|    null|\n",
      "|    null|\n",
      "|    null|\n",
      "|    null|\n",
      "+--------+\n",
      "only showing top 10 rows\n",
      "\n"
     ]
    },
    {
     "name": "stderr",
     "output_type": "stream",
     "text": [
      "                                                                                \r"
     ]
    },
    {
     "name": "stdout",
     "output_type": "stream",
     "text": [
      "+---------------+\n",
      "|passenger_count|\n",
      "+---------------+\n",
      "|           null|\n",
      "|           null|\n",
      "|           null|\n",
      "|           null|\n",
      "|           null|\n",
      "|           null|\n",
      "|           null|\n",
      "|           null|\n",
      "|           null|\n",
      "|           null|\n",
      "+---------------+\n",
      "only showing top 10 rows\n",
      "\n"
     ]
    },
    {
     "name": "stderr",
     "output_type": "stream",
     "text": [
      "                                                                                \r"
     ]
    },
    {
     "name": "stdout",
     "output_type": "stream",
     "text": [
      "+----------+\n",
      "|RatecodeID|\n",
      "+----------+\n",
      "|      null|\n",
      "|      null|\n",
      "|      null|\n",
      "|      null|\n",
      "|      null|\n",
      "|      null|\n",
      "|      null|\n",
      "|      null|\n",
      "|      null|\n",
      "|      null|\n",
      "+----------+\n",
      "only showing top 10 rows\n",
      "\n"
     ]
    },
    {
     "name": "stderr",
     "output_type": "stream",
     "text": [
      "                                                                                \r"
     ]
    },
    {
     "name": "stdout",
     "output_type": "stream",
     "text": [
      "+------------------+\n",
      "|store_and_fwd_flag|\n",
      "+------------------+\n",
      "|              null|\n",
      "|              null|\n",
      "|              null|\n",
      "|              null|\n",
      "|              null|\n",
      "|              null|\n",
      "|              null|\n",
      "|              null|\n",
      "|              null|\n",
      "|              null|\n",
      "+------------------+\n",
      "only showing top 10 rows\n",
      "\n"
     ]
    },
    {
     "name": "stderr",
     "output_type": "stream",
     "text": [
      "[Stage 32:======================================>                   (4 + 2) / 6]\r"
     ]
    },
    {
     "name": "stdout",
     "output_type": "stream",
     "text": [
      "+------------+\n",
      "|payment_type|\n",
      "+------------+\n",
      "|        null|\n",
      "|        null|\n",
      "|        null|\n",
      "|        null|\n",
      "|        null|\n",
      "|        null|\n",
      "|        null|\n",
      "|        null|\n",
      "|        null|\n",
      "|        null|\n",
      "+------------+\n",
      "only showing top 10 rows\n",
      "\n"
     ]
    },
    {
     "name": "stderr",
     "output_type": "stream",
     "text": [
      "                                                                                \r"
     ]
    }
   ],
   "source": [
    "df.select('VendorID')\\\n",
    "    .where('VendorID IS NULL')\\\n",
    "    .show(10)\n",
    "\n",
    "df.select('passenger_count')\\\n",
    "    .where('passenger_count IS NULL')\\\n",
    "    .show(10)\n",
    "\n",
    "df.select('RatecodeID')\\\n",
    "    .where('RatecodeID IS NULL')\\\n",
    "    .show(10)\n",
    "\n",
    "df.select('store_and_fwd_flag')\\\n",
    "    .where('store_and_fwd_flag IS NULL')\\\n",
    "    .show(10)\n",
    "\n",
    "df.select('payment_type')\\\n",
    "    .where('payment_type IS NULL')\\\n",
    "    .show(10)"
   ]
  },
  {
   "cell_type": "code",
   "execution_count": 29,
   "id": "f45c52b3-0db1-4416-918a-c63bfd410302",
   "metadata": {},
   "outputs": [
    {
     "name": "stderr",
     "output_type": "stream",
     "text": [
      "24/12/12 18:46:09 WARN WindowExec: No Partition Defined for Window operation! Moving all data to a single partition, this can cause serious performance degradation.\n",
      "[Stage 36:>                                                         (0 + 1) / 1]\r"
     ]
    },
    {
     "name": "stdout",
     "output_type": "stream",
     "text": [
      "+--------+--------------------+---------------------+---------------+-------------+----------+------------------+------------+------------+------------+-----------+-----+-------+----------+------------+---------------------+------------+--------------------+\n",
      "|VendorID|tpep_pickup_datetime|tpep_dropoff_datetime|passenger_count|trip_distance|RatecodeID|store_and_fwd_flag|PULocationID|DOLocationID|payment_type|fare_amount|extra|mta_tax|tip_amount|tolls_amount|improvement_surcharge|total_amount|congestion_surcharge|\n",
      "+--------+--------------------+---------------------+---------------+-------------+----------+------------------+------------+------------+------------+-----------+-----+-------+----------+------------+---------------------+------------+--------------------+\n",
      "|       1| 2021-06-01 11:39:00|  2021-06-01 11:56:00|           null|         8.76|      null|              null|          76|         210|        null|      27.72| 2.75|    0.5|       0.0|         0.0|                  0.3|       31.27|                 0.0|\n",
      "|       2| 2021-03-01 10:44:54|  2021-03-01 10:53:14|           null|          1.1|      null|              null|         237|         236|        null|        7.5|  0.0|    0.5|      1.62|         0.0|                  0.3|       12.42|                 2.5|\n",
      "|       3| 2021-06-01 11:06:51|  2021-06-01 12:06:05|           null|         8.58|      null|              null|         265|          67|        null|      36.83|  0.0|    0.5|       0.0|         0.0|                  0.3|       37.63|                 0.0|\n",
      "|       4| 2021-03-01 10:34:00|  2021-03-01 10:56:00|           null|        11.53|      null|              null|         260|         215|        null|      29.75|  0.0|    0.5|      3.32|         0.0|                  0.3|       33.87|                 0.0|\n",
      "|       5| 2021-06-01 11:48:35|  2021-06-01 12:17:27|           null|          6.1|      null|              null|         239|          13|        null|       23.5|  0.0|    0.5|      4.02|         0.0|                  0.3|       30.82|                 2.5|\n",
      "|       6| 2021-03-01 10:26:00|  2021-03-01 11:17:00|           null|        17.54|      null|              null|         165|          74|        null|      41.82| 2.75|    0.5|       0.0|        6.12|                  0.3|       51.49|                 0.0|\n",
      "|       7| 2021-06-01 11:01:17|  2021-06-01 11:16:28|           null|         2.27|      null|              null|         229|          50|        null|      13.59|  0.0|    0.5|      3.61|         0.0|                  0.3|        20.5|                 2.5|\n",
      "|       8| 2021-03-01 10:03:34|  2021-03-01 10:03:06|           null|         6.14|      null|              null|         265|         106|        null|       41.2|  0.0|    0.5|       0.0|         0.0|                  0.3|        42.0|                 0.0|\n",
      "|       9| 2021-06-01 11:40:58|  2021-06-01 11:55:16|           null|         2.73|      null|              null|          35|         222|        null|      20.06|  5.5|    0.5|       0.0|         0.0|                  0.3|       26.36|                 0.0|\n",
      "|      10| 2021-03-01 10:03:13|  2021-03-01 10:03:03|           null|         1.35|      null|              null|         265|         142|        null|       15.2|  0.0|    0.5|       0.0|         0.0|                  0.3|        16.0|                 0.0|\n",
      "+--------+--------------------+---------------------+---------------+-------------+----------+------------------+------------+------------+------------+-----------+-----+-------+----------+------------+---------------------+------------+--------------------+\n",
      "only showing top 10 rows\n",
      "\n"
     ]
    },
    {
     "name": "stderr",
     "output_type": "stream",
     "text": [
      "                                                                                \r"
     ]
    }
   ],
   "source": [
    "ws_VendorID = Window.orderBy('VendorID')\n",
    "\n",
    "df.withColumn('VendorID'\n",
    "              , row_number().over(ws_VendorID)        \n",
    "              )\\\n",
    ".show(10)"
   ]
  },
  {
   "cell_type": "code",
   "execution_count": 16,
   "id": "74ad2d16-f388-43b1-87ec-b4c07317b9f2",
   "metadata": {},
   "outputs": [
    {
     "data": {
      "text/plain": [
       "DataFrame[VendorID: int, tpep_pickup_datetime: string, tpep_dropoff_datetime: string, passenger_count: int, trip_distance: double, RatecodeID: int, store_and_fwd_flag: string, PULocationID: int, DOLocationID: int, payment_type: int, fare_amount: double, extra: double, mta_tax: double, tip_amount: double, tolls_amount: double, improvement_surcharge: double, total_amount: double, congestion_surcharge: double]"
      ]
     },
     "execution_count": 16,
     "metadata": {},
     "output_type": "execute_result"
    }
   ],
   "source": [
    "df.select('VendorID')\\\n",
    "    .where('VendorID IS NULL')\\\n",
    "    .show(10)\n"
   ]
  },
  {
   "cell_type": "markdown",
   "id": "aa7ecc4a-5007-45d0-a80b-2a5ac92623c3",
   "metadata": {},
   "source": [
    "## 2. 분석"
   ]
  },
  {
   "cell_type": "markdown",
   "id": "f8e174e8-653b-4138-bacf-d77eebc107f6",
   "metadata": {},
   "source": [
    "### 2-1. 운행 거리(trip_distance)와 요금(total_amount)의 상관관계 분석"
   ]
  },
  {
   "cell_type": "markdown",
   "id": "178bf2d5-eeff-4d4c-b346-ab86ebdb4fa8",
   "metadata": {},
   "source": [
    "#### 2-1-1) 기초 통계 데이터 확인"
   ]
  },
  {
   "cell_type": "code",
   "execution_count": 106,
   "id": "bbff0344-2145-4c03-ae11-4a356b4275bd",
   "metadata": {
    "scrolled": true
   },
   "outputs": [
    {
     "name": "stderr",
     "output_type": "stream",
     "text": [
      "[Stage 62:===================================================>  (191 + 2) / 200]\r"
     ]
    },
    {
     "name": "stdout",
     "output_type": "stream",
     "text": [
      "+--------------+-------------------------+-------------------------+-------------------------+\n",
      "|range_distance|avg_total_amount_by_range|min_total_amount_by_range|max_total_amount_by_range|\n",
      "+--------------+-------------------------+-------------------------+-------------------------+\n",
      "|             0|                    16.28|                  -554.05|                 398469.2|\n",
      "|            10|                    55.74|                   -282.8|                   1165.3|\n",
      "|            20|                    73.88|                   -518.8|                   1320.8|\n",
      "|            30|                   117.13|                   -634.8|                    634.8|\n",
      "|            40|                   134.92|                   -647.8|                    647.8|\n",
      "|            50|                   150.59|                  -327.05|                   456.84|\n",
      "|            60|                   118.68|                  -314.55|                   481.45|\n",
      "|            70|                   127.48|                  -373.92|                    450.3|\n",
      "|            80|                   125.06|                      0.0|                   525.27|\n",
      "|            90|                    97.53|                     6.43|                   645.21|\n",
      "|           100|                    82.72|                     13.3|                    601.8|\n",
      "|           110|                    76.69|                     15.3|                   591.85|\n",
      "|           120|                    45.14|                    10.46|                   360.42|\n",
      "|           130|                     82.7|                    15.92|                   519.26|\n",
      "|           140|                    62.66|                    12.42|                    420.6|\n",
      "|           150|                    78.64|                    16.58|                    569.6|\n",
      "|           160|                    91.46|                     19.3|                   682.48|\n",
      "|           170|                    85.98|                     20.3|                    653.1|\n",
      "|           180|                    89.96|                      3.8|                   506.85|\n",
      "|           190|                    27.62|                     20.8|                    32.16|\n",
      "+--------------+-------------------------+-------------------------+-------------------------+\n",
      "only showing top 20 rows\n",
      "\n"
     ]
    },
    {
     "name": "stderr",
     "output_type": "stream",
     "text": [
      "                                                                                \r"
     ]
    }
   ],
   "source": [
    "ss.sql('''\n",
    "    SELECT\n",
    "        \n",
    "        FLOOR(trip_distance/10) * 10 as range_distance\n",
    "        -- , AVG(trip_distance)\n",
    "        , ROUND(AVG(total_amount), 2) as avg_total_amount_by_range\n",
    "        , MIN(total_amount) as min_total_amount_by_range\n",
    "        , MAX(total_amount) as max_total_amount_by_range\n",
    "    FROM table1\n",
    "    \n",
    "    GROUP BY range_distance    \n",
    "\n",
    "    ORDER BY range_distance\n",
    "''').show()"
   ]
  },
  {
   "cell_type": "markdown",
   "id": "0a9652d3-190a-47a9-be93-5f6fa683c184",
   "metadata": {},
   "source": [
    "#### 2-1-2) Pandas 데이터프레임으로 만들기"
   ]
  },
  {
   "cell_type": "code",
   "execution_count": 107,
   "id": "d734830d-c3e6-4460-8564-c28a582182b2",
   "metadata": {},
   "outputs": [
    {
     "name": "stderr",
     "output_type": "stream",
     "text": [
      "                                                                                \r"
     ]
    }
   ],
   "source": [
    "df1 = ss.sql('''\n",
    "    SELECT\n",
    "        \n",
    "        FLOOR(trip_distance/10) * 10 as range_distance\n",
    "        -- , AVG(trip_distance) range_distance 컬럼과 사실상 동일한 값\n",
    "        , ROUND(AVG(total_amount), 2) as avg_total_amount_by_range\n",
    "        , MIN(total_amount) as min_total_amount_by_range\n",
    "        , MAX(total_amount) as max_total_amount_by_range\n",
    "    FROM table1\n",
    "    \n",
    "    GROUP BY range_distance    \n",
    "\n",
    "    ORDER BY range_distance\n",
    "''').toPandas()"
   ]
  },
  {
   "cell_type": "markdown",
   "id": "921202f9-5233-4759-8eef-e1ed62b388f0",
   "metadata": {},
   "source": [
    "#### 2-1-3) 상관계수 파악"
   ]
  },
  {
   "cell_type": "code",
   "execution_count": 111,
   "id": "8ff0d48b-9521-471f-a1f8-2f7c560cad27",
   "metadata": {},
   "outputs": [
    {
     "data": {
      "text/html": [
       "<div>\n",
       "<style scoped>\n",
       "    .dataframe tbody tr th:only-of-type {\n",
       "        vertical-align: middle;\n",
       "    }\n",
       "\n",
       "    .dataframe tbody tr th {\n",
       "        vertical-align: top;\n",
       "    }\n",
       "\n",
       "    .dataframe thead th {\n",
       "        text-align: right;\n",
       "    }\n",
       "</style>\n",
       "<table border=\"1\" class=\"dataframe\">\n",
       "  <thead>\n",
       "    <tr style=\"text-align: right;\">\n",
       "      <th></th>\n",
       "      <th>range_distance</th>\n",
       "      <th>avg_total_amount_by_range</th>\n",
       "      <th>min_total_amount_by_range</th>\n",
       "      <th>max_total_amount_by_range</th>\n",
       "    </tr>\n",
       "  </thead>\n",
       "  <tbody>\n",
       "    <tr>\n",
       "      <th>range_distance</th>\n",
       "      <td>1.000000</td>\n",
       "      <td>-0.113127</td>\n",
       "      <td>-0.014220</td>\n",
       "      <td>-0.043858</td>\n",
       "    </tr>\n",
       "    <tr>\n",
       "      <th>avg_total_amount_by_range</th>\n",
       "      <td>-0.113127</td>\n",
       "      <td>1.000000</td>\n",
       "      <td>0.829364</td>\n",
       "      <td>0.001031</td>\n",
       "    </tr>\n",
       "    <tr>\n",
       "      <th>min_total_amount_by_range</th>\n",
       "      <td>-0.014220</td>\n",
       "      <td>0.829364</td>\n",
       "      <td>1.000000</td>\n",
       "      <td>-0.160525</td>\n",
       "    </tr>\n",
       "    <tr>\n",
       "      <th>max_total_amount_by_range</th>\n",
       "      <td>-0.043858</td>\n",
       "      <td>0.001031</td>\n",
       "      <td>-0.160525</td>\n",
       "      <td>1.000000</td>\n",
       "    </tr>\n",
       "  </tbody>\n",
       "</table>\n",
       "</div>"
      ],
      "text/plain": [
       "                           range_distance  avg_total_amount_by_range  \\\n",
       "range_distance                   1.000000                  -0.113127   \n",
       "avg_total_amount_by_range       -0.113127                   1.000000   \n",
       "min_total_amount_by_range       -0.014220                   0.829364   \n",
       "max_total_amount_by_range       -0.043858                   0.001031   \n",
       "\n",
       "                           min_total_amount_by_range  \\\n",
       "range_distance                             -0.014220   \n",
       "avg_total_amount_by_range                   0.829364   \n",
       "min_total_amount_by_range                   1.000000   \n",
       "max_total_amount_by_range                  -0.160525   \n",
       "\n",
       "                           max_total_amount_by_range  \n",
       "range_distance                             -0.043858  \n",
       "avg_total_amount_by_range                   0.001031  \n",
       "min_total_amount_by_range                  -0.160525  \n",
       "max_total_amount_by_range                   1.000000  "
      ]
     },
     "execution_count": 111,
     "metadata": {},
     "output_type": "execute_result"
    }
   ],
   "source": [
    "df1.corr()"
   ]
  },
  {
   "cell_type": "code",
   "execution_count": 105,
   "id": "a9f83c9a-57f8-4281-a822-519032b015f9",
   "metadata": {},
   "outputs": [
    {
     "data": {
      "text/plain": [
       "0.0018896728517615062"
      ]
     },
     "execution_count": 105,
     "metadata": {},
     "output_type": "execute_result"
    }
   ],
   "source": [
    "statistic, pvalue = pearsonr(df1['range_distance'], df1['avg_total_amount_by_range'])\n",
    "pvalue"
   ]
  },
  {
   "cell_type": "markdown",
   "id": "342a9e81-aa62-4f58-b070-d5cb5b962461",
   "metadata": {},
   "source": [
    "#### 2-1-4) 시각화"
   ]
  },
  {
   "cell_type": "code",
   "execution_count": 118,
   "id": "aea0cbe4-257c-462e-9ade-ab417d1f2a68",
   "metadata": {},
   "outputs": [
    {
     "data": {
      "application/vnd.jupyter.widget-view+json": {
       "model_id": "03b1afa24d414805b6ed34819392d9c1",
       "version_major": 2,
       "version_minor": 0
      },
      "image/png": "[encoded data removed]",
      "text/html": [
       "\n",
       "            <div style=\"display: inline-block;\">\n",
       "                <div class=\"jupyter-widgets widget-label\" style=\"text-align: center;\">\n",
       "                    Figure\n",
       "                </div>\n",
       "                <img src='data:image/png;base64,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' width=800.0/>\n",
       "            </div>\n",
       "        "
      ],
      "text/plain": [
       "Canvas(toolbar=Toolbar(toolitems=[('Home', 'Reset original view', 'home', 'home'), ('Back', 'Back to previous …"
      ]
     },
     "metadata": {},
     "output_type": "display_data"
    }
   ],
   "source": [
    "plt.figure(figsize = (8,6))\n",
    "\n",
    "axes1 = plt.subplot(2,1,1)\n",
    "axes1.scatter(df1['range_distance'], df1['avg_total_amount_by_range'], alpha = 0.7)\n",
    "axes1.grid(True)\n",
    "plt.title('range_distance / avg_total_amount_by_range')\n",
    "\n",
    "axes2 = plt.subplot(2,1,2)\n",
    "sns.heatmap(df1.corr(), annot =True, cmap = 'coolwarm')\n",
    "plt.xticks(rotation = 70)\n",
    "plt.title('corr_heatmap')\n",
    "\n",
    "plt.tight_layout()\n",
    "plt.show()"
   ]
  },
  {
   "cell_type": "markdown",
   "id": "2e638bad-38f1-46c3-9062-15af93fd4e03",
   "metadata": {},
   "source": [
    "#### 2-1-5) 결론"
   ]
  },
  {
   "cell_type": "markdown",
   "id": "650d700f-f131-4f72-915b-93bc08567e07",
   "metadata": {},
   "source": [
    "<span style=\"\n",
    "display : block;\n",
    "background-color:#fff5b1;\n",
    "color : red;\n",
    "font-size : 20px;\n",
    "font-weight : bold;\n",
    "text-align : center;\">[결론]</span>\n",
    "\n",
    "- 이동 거리가 증가하면, 평균 운임이 음의 상관관계를 가져, 살짝 줄어드는 모습을 볼 수 있다\n",
    "- 또한 이동 거리와 평균 운임의 p-value가 0.05 미만임에, 귀무가설(두 변수간 상관 관계가 없다)은 기각된다.\n",
    "- 하지만 상관계수가 -0.11로 매우 약한 강도를 가지고 있다.\n",
    "- 즉, 이동 거리와 평균 운임은 약한 음의 상관 관계를 가진다.- "
   ]
  },
  {
   "cell_type": "markdown",
   "id": "760a9617-a2ae-4923-bc3a-a3cebdbf2c84",
   "metadata": {},
   "source": [
    "### 2-2. 피크 시간대 요금 분석"
   ]
  },
  {
   "cell_type": "markdown",
   "id": "271c82c2-e38b-4c76-bb02-56d2da269263",
   "metadata": {},
   "source": [
    "#### 2-2-1) 기초 통계 데이터 확인"
   ]
  },
  {
   "cell_type": "code",
   "execution_count": 120,
   "id": "d9b5f4e6-623c-48e6-854c-970252f2ea2e",
   "metadata": {
    "scrolled": true
   },
   "outputs": [
    {
     "name": "stderr",
     "output_type": "stream",
     "text": [
      "[Stage 68:==================================================>     (10 + 1) / 11]\r"
     ]
    },
    {
     "name": "stdout",
     "output_type": "stream",
     "text": [
      "+---------+--------+------------------------+\n",
      "|time_hour|cnt_HOUR|AVG_total_amount_by_HOUR|\n",
      "+---------+--------+------------------------+\n",
      "|        0|  273553|                   21.43|\n",
      "|        1|  160424|                   20.84|\n",
      "|        2|   97218|                   20.36|\n",
      "|        3|   57806|                   21.07|\n",
      "|        4|   45410|                   25.54|\n",
      "|        5|   82073|                   26.55|\n",
      "|        6|  241020|                   21.33|\n",
      "|        7|  438938|                   18.84|\n",
      "|        8|  641530|                   17.79|\n",
      "|        9|  712912|                   17.59|\n",
      "|       10|  794621|                   17.54|\n",
      "|       11|  877952|                   17.47|\n",
      "|       12|  970018|                   17.96|\n",
      "|       13| 1001522|                   18.15|\n",
      "|       14| 1084111|                   18.18|\n",
      "|       15| 1091871|                   18.63|\n",
      "|       16| 1043498|                   19.71|\n",
      "|       17| 1085226|                   19.29|\n",
      "|       18| 1087217|                   18.58|\n",
      "|       19|  915477|                   18.36|\n",
      "+---------+--------+------------------------+\n",
      "only showing top 20 rows\n",
      "\n"
     ]
    },
    {
     "name": "stderr",
     "output_type": "stream",
     "text": [
      "                                                                                \r"
     ]
    }
   ],
   "source": [
    "ss.sql('''\n",
    "\n",
    "    SELECT\n",
    "        HOUR(tpep_pickup_datetime) as time_hour\n",
    "        , COUNT(*) as cnt_HOUR\n",
    "        , ROUND(AVG(total_amount), 2) as AVG_total_amount_by_HOUR\n",
    "    \n",
    "    FROM table1\n",
    "    \n",
    "    GROUP BY time_hour\n",
    "\n",
    "    ORDER BY time_hour\n",
    "\n",
    "''').show()"
   ]
  },
  {
   "cell_type": "code",
   "execution_count": 141,
   "id": "82a849bc-b5be-4d6d-829b-06ad93f1e7f4",
   "metadata": {},
   "outputs": [
    {
     "name": "stderr",
     "output_type": "stream",
     "text": [
      "[Stage 75:==================================================>     (10 + 1) / 11]\r"
     ]
    },
    {
     "name": "stdout",
     "output_type": "stream",
     "text": [
      "+---------+--------+\n",
      "|time_hour|cnt_HOUR|\n",
      "+---------+--------+\n",
      "|       15| 1091871|\n",
      "|       18| 1087217|\n",
      "|       17| 1085226|\n",
      "|       14| 1084111|\n",
      "|       16| 1043498|\n",
      "|       13| 1001522|\n",
      "|       12|  970018|\n",
      "|       19|  915477|\n",
      "|       11|  877952|\n",
      "|       10|  794621|\n",
      "+---------+--------+\n",
      "\n"
     ]
    },
    {
     "name": "stderr",
     "output_type": "stream",
     "text": [
      "                                                                                \r"
     ]
    }
   ],
   "source": [
    "ss.sql('''\n",
    "\n",
    "    SELECT\n",
    "        HOUR(tpep_pickup_datetime) as time_hour\n",
    "        , COUNT(*) as cnt_HOUR\n",
    "    \n",
    "    FROM table1\n",
    "    \n",
    "    GROUP BY time_hour\n",
    "\n",
    "    ORDER BY cnt_HOUR DESC\n",
    "\n",
    "    LIMIT 10;\n",
    "\n",
    "''').show()"
   ]
  },
  {
   "cell_type": "markdown",
   "id": "a9f16504-248f-4ab5-bd42-3547de64678d",
   "metadata": {},
   "source": [
    "#### 2-2-2) Pandas 데이터프레임으로 만들기"
   ]
  },
  {
   "cell_type": "code",
   "execution_count": 121,
   "id": "87cc72df-85a5-4e71-9c13-73e6342d4ac9",
   "metadata": {},
   "outputs": [
    {
     "name": "stderr",
     "output_type": "stream",
     "text": [
      "                                                                                \r"
     ]
    }
   ],
   "source": [
    "df2 = ss.sql('''\n",
    "\n",
    "    SELECT\n",
    "        HOUR(tpep_pickup_datetime) as time_hour\n",
    "        , COUNT(*) as cnt_HOUR\n",
    "        , ROUND(AVG(total_amount), 2) as AVG_total_amount_by_HOUR\n",
    "    \n",
    "    FROM table1\n",
    "    \n",
    "    GROUP BY time_hour\n",
    "\n",
    "    ORDER BY time_hour\n",
    "\n",
    "''').toPandas()"
   ]
  },
  {
   "cell_type": "markdown",
   "id": "8d9f359c-fee4-4141-b2f6-f0853f9ec0a4",
   "metadata": {},
   "source": [
    "#### 2-2-3) 상관계수 파악"
   ]
  },
  {
   "cell_type": "code",
   "execution_count": 123,
   "id": "254bb6f6-0f71-4b88-8094-5989c55d404c",
   "metadata": {},
   "outputs": [
    {
     "data": {
      "text/html": [
       "<div>\n",
       "<style scoped>\n",
       "    .dataframe tbody tr th:only-of-type {\n",
       "        vertical-align: middle;\n",
       "    }\n",
       "\n",
       "    .dataframe tbody tr th {\n",
       "        vertical-align: top;\n",
       "    }\n",
       "\n",
       "    .dataframe thead th {\n",
       "        text-align: right;\n",
       "    }\n",
       "</style>\n",
       "<table border=\"1\" class=\"dataframe\">\n",
       "  <thead>\n",
       "    <tr style=\"text-align: right;\">\n",
       "      <th></th>\n",
       "      <th>time_hour</th>\n",
       "      <th>cnt_HOUR</th>\n",
       "      <th>AVG_total_amount_by_HOUR</th>\n",
       "    </tr>\n",
       "  </thead>\n",
       "  <tbody>\n",
       "    <tr>\n",
       "      <th>time_hour</th>\n",
       "      <td>1.000000</td>\n",
       "      <td>0.644409</td>\n",
       "      <td>-0.412225</td>\n",
       "    </tr>\n",
       "    <tr>\n",
       "      <th>cnt_HOUR</th>\n",
       "      <td>0.644409</td>\n",
       "      <td>1.000000</td>\n",
       "      <td>-0.734082</td>\n",
       "    </tr>\n",
       "    <tr>\n",
       "      <th>AVG_total_amount_by_HOUR</th>\n",
       "      <td>-0.412225</td>\n",
       "      <td>-0.734082</td>\n",
       "      <td>1.000000</td>\n",
       "    </tr>\n",
       "  </tbody>\n",
       "</table>\n",
       "</div>"
      ],
      "text/plain": [
       "                          time_hour  cnt_HOUR  AVG_total_amount_by_HOUR\n",
       "time_hour                  1.000000  0.644409                 -0.412225\n",
       "cnt_HOUR                   0.644409  1.000000                 -0.734082\n",
       "AVG_total_amount_by_HOUR  -0.412225 -0.734082                  1.000000"
      ]
     },
     "execution_count": 123,
     "metadata": {},
     "output_type": "execute_result"
    }
   ],
   "source": [
    "df2.corr()"
   ]
  },
  {
   "cell_type": "markdown",
   "id": "413c24c2-9193-4148-a514-5df7e17dfb49",
   "metadata": {},
   "source": [
    "#### 2-2-4) 시각화"
   ]
  },
  {
   "cell_type": "code",
   "execution_count": 146,
   "id": "af542f44-3f1e-4b4f-840e-dd5fd3e41e62",
   "metadata": {},
   "outputs": [
    {
     "data": {
      "application/vnd.jupyter.widget-view+json": {
       "model_id": "6b211b50399c4213b3eae71a54a0a1b4",
       "version_major": 2,
       "version_minor": 0
      },
      "image/png": "[encoded data removed]",
      "text/html": [
       "\n",
       "            <div style=\"display: inline-block;\">\n",
       "                <div class=\"jupyter-widgets widget-label\" style=\"text-align: center;\">\n",
       "                    Figure\n",
       "                </div>\n",
       "                <img src='data:image/png;base64,iVBORw0KGgoAAAANSUhEUgAAAyAAAAJYCAYAAACadoJwAAAAOXRFWHRTb2Z0d2FyZQBNYXRwbG90bGliIHZlcnNpb24zLjcuNSwgaHR0cHM6Ly9tYXRwbG90bGliLm9yZy/xnp5ZAAAACXBIWXMAAA9hAAAPYQGoP6dpAACaoklEQVR4nOzde1xT9f8H8Nc2YOO2KXIZIApekfCSKIhpWaJgRllmappoXn6aWkmaUimiJWpqWJp+K295z0xLTUxJK5PEQDO8X1BMuYqAgNy28/vDWM6BMoRtjNfz8TiP3Od8zjnvs0Gc9z43kSAIAoiIiIiIiAxAbOwAiIiIiIio4WACQkREREREBsMEhIiIiIiIDIYJCBERERERGQwTECIiIiIiMhgmIEREREREZDBMQIiIiIiIyGCYgBARERERkcEwASEiIiIiIoNhAkJERERERAbDBISIiIiIiAyGCQgRERERERkMExAiIiIiIjIYJiBERERERGQwTECIiKheGjlyJOzs7Ax6PU9PT4Ndj+qWoX9+iOg/TECIiOiRrF27FiKRSLPJZDK0adMGkyZNQkZGhrHDe6B7437QdujQIWOH+lBZWVl466234O3tDWtrazg7O8Pf3x/Tp09HQUFBnVzzyJEjmD17NnJzc3X2zZs3Dzt37qyT6z5IcXExPvnkEwQEBEChUGj9PJ4/f97g8QBAUVERZs+eXS9+jogMwcLYARARkXmYM2cOvLy8UFxcjMOHD2PFihX48ccfkZycDBsbG2OHV6n169drvf7666+xf/9+nfJ27drhyy+/hFqtNmR41ZaTk4MuXbogPz8fr7/+Ory9vXHz5k2cPHkSK1aswIQJE+rk2/4jR44gKioKI0eORKNGjbT2zZs3Dy+//DIGDBhQ69etSnZ2NkJCQpCYmIjnnnsOr776Kuzs7HDu3Dls2bIFX3zxBUpLSw0WT4WioiJERUUBAHr16mXw6xOZGiYgRERUK/r164cuXboAAMaMGYMmTZpgyZIl+P777zF06FAjR1e54cOHa73+448/sH//fp1yU7dq1Sqkpqbi999/R/fu3bX25efnw8rKykiR1a7i4mJYWVlBLK68A8fIkSNx/PhxfPvttxg4cKDWvrlz5+L99983RJgaarXaKAkPkaljFywiIqoTzzzzDAAgJSVFU7Zhwwb4+fnB2toaDg4OGDJkCK5du6Z13G+//YZBgwahWbNmkEql8PDwwJQpU3Dnzp2HXvPEiRNwcnJCr169ar3b0f1jQK5cuQKRSIRFixZh+fLlaNGiBWxsbNC3b19cu3YNgiBg7ty5aNq0KaytrfHCCy8gJydH57x79+5Fz549YWtrC3t7e/Tv3x+nTp3SK7ZLly5BIpGgW7duOvvkcjlkMplW2dGjR/Hss8+icePGsLW1RYcOHbB06VLN/pMnT2LkyJFo0aIFZDIZlEolXn/9ddy8eVNTZ/bs2Zg2bRoAwMvLS9NdreJ9KSwsxLp16zTlI0eO1Bx7/fp1vP7663BxcYFUKsVjjz2G1atXa8V46NAhiEQibNmyBR988AHc3d1hY2OD/Pz8St+Do0ePYs+ePRg9erRO8gEAUqkUixYt0im/fv06BgwYADs7Ozg5OWHq1KlQqVRadRYtWoTu3bujSZMmsLa2hp+fH7799ludc4lEIkyaNAkbN27EY489BqlUipUrV8LJyQkAEBUVpXk/Zs+eXel9EDUEbAEhIqI6cenSJQBAkyZNAAAfffQRZs6ciVdeeQVjxoxBVlYWPvvsMzz55JM4fvy4pgvPtm3bUFRUhAkTJqBJkyZISEjAZ599hn/++Qfbtm2r8nrHjh1DcHAwunTpgu+//x7W1tZ1fo8AsHHjRpSWlmLy5MnIycnBwoUL8corr+CZZ57BoUOHMH36dFy8eBGfffYZpk6dqvWgvX79eoSFhSE4OBgLFixAUVERVqxYgR49euD48ePVHvTevHlzqFQqzfkeZP/+/Xjuuefg6uqKt956C0qlEmfOnMHu3bvx1ltvaepcvnwZo0aNglKpxKlTp/DFF1/g1KlT+OOPPyASifDSSy/h/Pnz2Lx5Mz755BM4OjoCAJycnLB+/XqMGTMG/v7+GDduHACgZcuWAICMjAx069ZN87Du5OSEvXv3YvTo0cjPz8fbb7+tFe/cuXNhZWWFqVOnoqSkpMrWnB9++AEA8Nprr1XrPQMAlUqF4OBgBAQEYNGiRThw4AAWL16Mli1bYsKECZp6S5cuxfPPP49hw4ahtLQUW7ZswaBBg7B79270799f65w///wzvvnmG0yaNAmOjo7o2LGjphvciy++iJdeegkA0KFDh2rHSWR2BCIiokewZs0aAYBw4MABISsrS7h27ZqwZcsWoUmTJoK1tbXwzz//CFeuXBEkEonw0UcfaR37999/CxYWFlrlRUVFOteIjo4WRCKRcPXqVU1ZWFiYYGtrKwiCIBw+fFiQy+VC//79heLi4hrfy8SJE4Wq/jSGhYUJzZs317xOSUkRAAhOTk5Cbm6upjwiIkIAIHTs2FEoKyvTlA8dOlSwsrLSxHf79m2hUaNGwtixY7Wuk56eLigUCp3yB0lPTxecnJwEAIK3t7cwfvx4YdOmTVpxCYIglJeXC15eXkLz5s2FW7duae1Tq9Waf1f2GWzevFkAIPz666+aso8//lgAIKSkpOjUt7W1FcLCwnTKR48eLbi6ugrZ2dla5UOGDBEUCoXm2gcPHhQACC1atKg0nvu9+OKLAgCd+6pKWFiYAECYM2eOVvnjjz8u+Pn5aZXdf/3S0lLB19dXeOaZZ7TKAQhisVg4deqUVnlWVpYAQIiMjKxWbETmjl2wiIioVgQFBcHJyQkeHh4YMmQI7OzssGPHDri7u+O7776DWq3GK6+8guzsbM2mVCrRunVrHDx4UHOee1suCgsLkZ2dje7du0MQBBw/flznugcPHkRwcDB69+6N7777DlKp1CD3W2HQoEFQKBSa1wEBAQDuji+xsLDQKi8tLcX169cB3G1lyM3NxdChQ7XeE4lEgoCAAK335GFcXFzw119/Yfz48bh16xZWrlyJV199Fc7Ozpg7dy4EQQAAHD9+HCkpKXj77bd1Bo2LRCLNv+/9DIqLi5Gdna3p3pWUlFTtuO4nCAK2b9+O0NBQCIKgdd/BwcHIy8vTOX9YWFi1WrMqumbZ29vrFdP48eO1Xvfs2ROXL1/WKrv3+rdu3UJeXh569uxZ6Xvx1FNPwcfHR68YiBoadsEiMhG//vorPv74YyQmJiItLQ07duzQe/YYQRCwePFifPHFF7h69SocHR3xxhtvGHzgJTVMy5cvR5s2bWBhYQEXFxe0bdtWM1j4woULEAQBrVu3rvRYS0tLzb9TU1Mxa9Ys/PDDD7h165ZWvby8PK3XxcXF6N+/P/z8/PDNN99oPfAbSrNmzbReVyQjHh4elZZX3NOFCxcA/DdW5n5yuVyvOFxdXbFixQp8/vnnuHDhAvbt24cFCxZg1qxZcHV1xZgxYzTd4nx9fR94rpycHERFRWHLli3IzMzU2nf/Z6CPrKws5Obm4osvvsAXX3xRaZ37r+fl5VWtc1e8X7dv39ZJrqoik8k04zMqNG7cWOfnbvfu3fjwww9x4sQJlJSUaMrvTdr0jZeoIWMCQmQiCgsL0bFjR7z++uuaPsL6euutt/DTTz9h0aJFaN++PXJyciod9EpUF/z9/TWzYN1PrVZDJBJh7969kEgkOvsrpohVqVTo06cPcnJyMH36dHh7e8PW1hbXr1/HyJEjdabBlUqlePbZZ/H9998jNjYWzz33XO3f2ENUdj8PKq9ojai4l/Xr10OpVOrUq2kyJRKJ0KZNG7Rp0wb9+/dH69atsXHjRowZM6ba53jllVdw5MgRTJs2DZ06dYKdnR3UajVCQkIeaSriimOHDx9e5ViV+8dGVHcsj7e3NwDg77//Rs+ePat1TFWf0b1+++03PP/883jyySfx+eefw9XVFZaWllizZg02bdqkU99QY4+I6jMmIEQmol+/fujXr1+V+0tKSvD+++9j8+bNyM3Nha+vLxYsWKCZU/7MmTNYsWIFkpOT0bZtWwD8Jo5MR8uWLSEIAry8vNCmTZsq6/399984f/481q1bhxEjRmjK9+/fX2l9kUiEjRs34oUXXsCgQYOwd+/eerPOQsWgbGdnZwQFBdXJNVq0aIHGjRsjLS1N65rJyclVXvPWrVuIi4tDVFQUZs2apSmvaLG5V2UtAA/a5+TkBHt7e6hUqlq/59DQUERHR2PDhg3VTkCqY/v27ZDJZNi3b59W9741a9ZU+xwPep+IGiKOASGqJyZNmoT4+Hhs2bIFJ0+exKBBgxASEqJ5KNi1axdatGiB3bt3w8vLC56enhgzZgxbQMgkvPTSS5BIJIiKitK0AFQQBEEzvWvFN9L31hEEQWuK2PtZWVnhu+++Q9euXREaGoqEhIQ6uIPaFxwcDLlcjnnz5qGsrExnf1ZWVrXPdfToURQWFuqUJyQk4ObNm5ovJTp37gwvLy/ExMTorF5e8Z5X9hkAQExMjM75bW1tAaDSldBtbW11yiUSCQYOHIjt27cjOTlZ5xh97vl+gYGBCAkJwVdffVXpCuylpaWYOnWq3ueVSCQQiURaU/NeuXJFr1XeKxbirOx9ImqI2AJCVA+kpqZizZo1SE1NhZubGwBg6tSpiI2NxZo1azBv3jxcvnwZV69exbZt2/D1119DpVJhypQpePnll/Hzzz8b+Q6ooWvZsiU+/PBDRERE4MqVKxgwYADs7e2RkpKCHTt2YNy4cZg6dSq8vb3RsmVLTJ06FdevX4dcLsf27dt1+uTfz9raGrt378YzzzyDfv364ZdffnnoOAdjk8vlWLFiBV577TV07twZQ4YMgZOTE1JTU7Fnzx488cQTWLZsWbXOtX79emzcuBEvvvgi/Pz8YGVlhTNnzmD16tWQyWR47733AABisRgrVqxAaGgoOnXqhFGjRsHV1RVnz57FqVOnsG/fPsjlcjz55JNYuHAhysrK4O7ujp9++klrPZcKfn5+AID3338fQ4YMgaWlJUJDQ2Fraws/Pz8cOHAAS5YsgZubG7y8vBAQEID58+fj4MGDCAgIwNixY+Hj44OcnBwkJSXhwIEDj/Slyddff42+ffvipZdeQmhoKHr37g1bW1tcuHABW7ZsQVpaWqVrgTxI//79sWTJEoSEhODVV19FZmYmli9fjlatWuHkyZPVOoe1tTV8fHywdetWtGnTBg4ODvD19TX5n1GiOmOMqbeI6MEACDt27NC83r17twBAsLW11dosLCyEV155RRAEQRg7dqwAQDh37pzmuMTERAGAcPbsWUPfAjUgFdPwHjt27KF1t2/fLvTo0UPzM+zt7S1MnDhR6+f29OnTQlBQkGBnZyc4OjoKY8eOFf766y8BgLBmzRpNvXun4a2QnZ0t+Pj4CEqlUrhw4YLe91KTaXg//vhjrXoV08du27ZNq7yq9+ngwYNCcHCwoFAoBJlMJrRs2VIYOXKk8Oeff1Y77pMnTwrTpk0TOnfuLDg4OAgWFhaCq6urMGjQICEpKUmn/uHDh4U+ffoI9vb2gq2trdChQwfhs88+0+z/559/hBdffFFo1KiRoFAohEGDBgk3btyodCrZuXPnCu7u7oJYLNaakvfs2bPCk08+KVhbWwsAtKbkzcjIECZOnCh4eHgIlpaWglKpFHr37i188cUXD30fH6aoqEhYtGiR0LVrV8HOzk6wsrISWrduLUyePFm4ePGipl5lPz+CIAiRkZE6PwOrVq0SWrduLUilUsHb21tYs2ZNpfUACBMnTqw0riNHjgh+fn6ClZUVp+SlBk8kCPe1sRKR0YlEIq1ZsLZu3Yphw4bh1KlTOoMm7ezsoFQqERkZqdOV486dO7CxscFPP/2EPn36GPIWiIiIiCrFLlhE9cDjjz8OlUqFzMzMKgdXPvHEEygvL8elS5c0A03Pnz8P4O4qyURERESmgC0gRCaioKAAFy9eBHA34ViyZAmefvppODg4oFmzZhg+fDh+//13LF68GI8//jiysrIQFxeHDh06oH///lCr1ejatSvs7OwQExMDtVqNiRMnQi6X46effjLy3REZXkFBAQoKCh5Yx8nJqVpTsRpLaWnpQ8dEKBQKTv1KRPUKExAiE3Ho0CE8/fTTOuVhYWFYu3YtysrK8OGHH+Lrr7/G9evX4ejoiG7duiEqKgrt27cHANy4cQOTJ0/GTz/9BFtbW/Tr1w+LFy+Gg4ODoW+HyOhmz56NqKioB9ZJSUmBp6enYQKqgar+v3CvNWvWYOTIkYYJiIioFjABISIis3T58mVcvnz5gXV69OgBmUxmoIj0d+vWLSQmJj6wzmOPPQZXV1cDRURE9OiYgBARERERkcFwIUIiIiIiIjIYzoJFZERqtRo3btyAvb09RCKRscMhIiIieihBEHD79m24ublBLNa/PYMJCJER3bhxAx4eHsYOg4iIiEhv165dQ9OmTfU+jgkIkRHZ29sDuPsLLJfLjRwNERER0cPl5+fDw8ND8xyjLyYgREZU0e1KLpczASEiIqJ6pabdxzkInYiIiIiIDIYJCBERERERGQwTECIiIiIiMhiOASEiIiICoFILSEjJQebtYjjby+Dv5QCJmFOkE9U2JiBERERUb9RVkhCbnIaoXaeRllesKXNVyBAZ6oMQX9dHPn9dqKv3gokY1TUmIERERFQv1FWSEJuchgkbkiDcV56eV4wJG5KwYnhnk0tC6vK9qG+JGNU/HANCREREJq8iSbj3wRj4L0mITU6r0XlVagFRu07rJB8ANGVRu05Dpa6shnHU1XtRV+cluh8TECIiIjJpdZkkJKTk6Dxw33/+tLxiJKTk6H3uulBX70V9TMSo/mICQkRERCatLpOEzNtVn7cm9epaXb0X9S0Ro/qNCQgRERGZtLpMEpztZbVar67V1XtR3xIxqt+YgBAREZFJq8skwd/LAa4KGaqa40mEu4Ow/b0c9D53Xair96K+JWJUvzEBISIiIpNWl0mCRCxCZKiP5jz3nxcAIkN9TGYa2rp6L+pbIkb1GxMQIiIiMml1nSSE+LpixfDOUCq0v91XKmQmNwVvXb0X9S0Ro/pNJAgCpzMgMpL8/HwoFArk5eVBLpcbOxwiIpNW12tU1KeF/bgOCBnToz6/MAEhMiImIERE+qlvq3TX5QN9fUqYyLwwASGqx5iAEBGZr6pWWK94lDe17l1E1fWozy8cA0JERERUy7iwH1HVmIAQERER1TIu7EdUNSYgRERERLWMC/sRVY0JCBEREVEt48J+RFVjAkJERERUy7iwH1HVmIAQERFRrVOpBcRfuonvT1xH/KWbDW6wNRf2I6oaExCif/36668IDQ2Fm5sbRCIRdu7c+dBjDh06hM6dO0MqlaJVq1ZYu3ZtncdJRGTqYpPT0GPBzxj65R94a8sJDP3yD/RY8DNik9OMHZpB1acV1okMycLYARCZisLCQnTs2BGvv/46XnrppYfWT0lJQf/+/TF+/Hhs3LgRcXFxGDNmDFxdXREcHGyAiImITE9Va1+k5xVjwoakBvfgHeLrij4+Si7sR3QPLkRIVAmRSIQdO3ZgwIABVdaZPn069uzZg+TkZE3ZkCFDkJubi9jY2GpdhwsREpE5UakF9Fjwc5XTz4pw99v/w9Of4QM4UT3GhQiJjCQ+Ph5BQUFaZcHBwYiPj6/ymJKSEuTn52ttRETmgmtfEFF1MAEhqqH09HS4uLholbm4uCA/Px937typ9Jjo6GgoFArN5uHhYYhQiYgMgmtfEFF1MAEhMqCIiAjk5eVptmvXrhk7JCJq4GpztiqufUFE1cFB6EQ1pFQqkZGRoVWWkZEBuVwOa2vrSo+RSqWQSqWGCI+I6KFik9MQteu0VrcpV4UMkaE+NRooXrH2RXpesc4gdOC/MSBc+4KoYWMLCFENBQYGIi4uTqts//79CAwMNFJERETVVzFb1f1jNipmq6rJlLlc+4KIqoMJCNG/CgoKcOLECZw4cQLA3Wl2T5w4gdTUVAB3u0+NGDFCU3/8+PG4fPky3n33XZw9exaff/45vvnmG0yZMsUY4RMRVZtKLSBq1+lKWykqyqJ2na5RdyyufUFED8MuWET/+vPPP/H0009rXoeHhwMAwsLCsHbtWqSlpWmSEQDw8vLCnj17MGXKFCxduhRNmzbFV199xTVAiMjk6TNbVWDLJnqfn2tfENGDMAEh+levXr3woGVxKlvlvFevXjh+/HgdRkVEVPsMMVuVRCyqUfJCROaPXbCIiIgaGM5WRUTGxASEiIiogamYraqqDlEi3J0Ni7NVEVFdYAJCRETUwHC2KiIyJiYgREREDRBnqyIiY+EgdCIiogaKs1URkTEwASEiImrAOFsVGYpKLTDZJQBMQIiIiIiojsUmpyFq12mt9WdcFTJEhvqwu18DxDEgRERERFRnYpPTMGFDks7il+l5xZiwIQmxyWlGioyMhQkIEREREdUJlVpA1K7TqGyZ34qyqF2noVJXvRAwmR8mIERERERUJxJScnRaPu4lAEjLK0ZCSo7hgiKjYwJCRERERHUi83bVyUdN6pF5YAJCRERERHXC2V728Ep61CPzwASEiIiIiOqEv5cDXBUyVDXZrgh3Z8Py93IwZFhkZExAiIiI6gGVWkD8pZv4/sR1xF+6yUG7VC9IxCJEhvoAgE4SUvE6MtSH64E0MFwHhIiIyMRxDQWqz0J8XbFieGedn2Elf4YbLJEgCPwKhchI8vPzoVAokJeXB7lcbuxwiMgEVayhcP8f64rvi1cM78wHOKoXuBK6+XjU5xe2gBAREZmoh62hIMLdNRT6+Cj5IEcmTyIWIbBlE2OHQSaAY0CIiIhMFNdQICJzxASEiIjIRHENBSIyR0xAiIiITBTXUCAic8QEhIiIyERxDQUiMkdMQIiIiEwU11AgInPEBISIiMiEVayhoFRod7NSKmScgpeI6iVOw0tERGTiQnxd0cdHyTUUiMgsMAEhIiKqB7iGAhGZC3bBIiIiIiIig2ECQkREREREBsMEhIiIiIiIDIYJCBERERERGQwTEKJ7LF++HJ6enpDJZAgICEBCQsID68fExKBt27awtraGh4cHpkyZguLiYgNFS0RERFT/cBYson9t3boV4eHhWLlyJQICAhATE4Pg4GCcO3cOzs7OOvU3bdqEGTNmYPXq1ejevTvOnz+PkSNHQiQSYcmSJUa4AyIyBSq1wOlyiYgeQCQIgmDsIIhMQUBAALp27Yply5YBANRqNTw8PDB58mTMmDFDp/6kSZNw5swZxMXFacreeecdHD16FIcPH67WNfPz86FQKJCXlwe5XF47N0JERhObnIaoXaeRlvdfS6irQobIUB8uGEhEZuNRn1/YBYsIQGlpKRITExEUFKQpE4vFCAoKQnx8fKXHdO/eHYmJiZpuWpcvX8aPP/6IZ5991iAxE5FpiU1Ow4QNSVrJBwCk5xVjwoYkxCanGSkyIiLTwi5YRACys7OhUqng4uKiVe7i4oKzZ89Wesyrr76K7Oxs9OjRA4IgoLy8HOPHj8d7771X5XVKSkpQUlKieZ2fn187N0BERqVSC4jadRqVdSkQAIgARO06jT4+SnbHIqIGjy0gRDV06NAhzJs3D59//jmSkpLw3XffYc+ePZg7d26Vx0RHR0OhUGg2Dw8PA0ZMRHUlISVHp+XjXgKAtLxiJKTkGC4oIiITxRYQIgCOjo6QSCTIyMjQKs/IyIBSqaz0mJkzZ+K1117DmDFjAADt27dHYWEhxo0bh/fffx9isW5+HxERgfDwcM3r/Px8JiFEZiDzdvVmv6tuPSIic8YWECIAVlZW8PPz0xpQrlarERcXh8DAwEqPKSoq0kkyJBIJAKCquR2kUinkcrnWRkT1n7O9rFbrERGZM7aAEP0rPDwcYWFh6NKlC/z9/RETE4PCwkKMGjUKADBixAi4u7sjOjoaABAaGoolS5bg8ccfR0BAAC5evIiZM2ciNDRUk4gQUcPg7+UAV4UM6XnFlY4DEQFQKu5OyUtE1NAxASH61+DBg5GVlYVZs2YhPT0dnTp1QmxsrGZgempqqlaLxwcffACRSIQPPvgA169fh5OTE0JDQ/HRRx8Z6xaIyEgkYhEiQ30wYUMSRIBWElIx5Dwy1IcD0ImIwHVAiIyK64AQmReuA0JEDcGjPr+wBYSIiKiWhPi6oo+PkiuhExE9ABMQIiKiWiQRixDYsomxwyAiMlmcBYuIiIiIiAyGCQgRERERERkMExAiIiIiIjIYJiBERERERGQwHIROREQNkkotcLYqIiIjYAJCREQNDtfrICIyHnbBIiKiBiU2OQ0TNiRpJR8AkJ5XjAkbkhCbnGakyIioJlRqAfGXbuL7E9cRf+kmVGqusW3q2AJCREQNhkotIGrXaVT2eCIAEAGI2nUafXyU7I5FVA+wNbN+YgsIERE1GAkpOTotH/cSAKTlFSMhJcdwQRFRjbA1s/5iAkJERA1G5u2qk4+a1CMi43hYayZwtzWT3bFMExMQIiJqMJztZbVaj4iMg62Z9RsTECIiajD8vRzgqpChqtEdItztP+7v5WDIsIhIT2zNrN+YgBARUYMhEYsQGeoDADpJSMXryFAfDkAnMnFszazfmIAQEVGDEuLrihXDO0Op0H4wUSpkWDG8M2fOIaoH2JpZv3EaXiIianBCfF3Rx0fJldCJ6qmK1swJG5IgArQGo7M10/SJBEHg9ABERpKfnw+FQoG8vDzI5XJjh0NERFSvcB0Q43jU5xe2gBARERFRvcTWzPqJCQgRERER1VsSsQiBLZsYOwzSAxMQIiIyaSq1wG83iYjMCBMQIiIyWezfTURkfjgNLxERmaTY5DRM2JCks9pxel4xJmxIQmxympEiIyKiR8EEhIiITI5KLSBq12lUNk1jRVnUrtNQqTmRIxFRfcMEhIiITE5CSo5Oy8e9BABpecVISMkxXFBERFQrOAaEiIhMTubtqpOPmtQjItIXJ8CoO0xAiIjI5Djby2q1HhGRPjgBRt1iFywiIjI5/l4OcFXIUNV3jSLcfRjw93IwZFhE1ABwAoy6xwSEiIhMjkQsQmSoDwDoJCEVryNDfdgdgohqFSfAMAwmIET3WL58OTw9PSGTyRAQEICEhIQH1s/NzcXEiRPh6uoKqVSKNm3a4McffzRQtETmLcTXFSuGd4ZSod3NSqmQYcXwzuwGQUS1jhNgGAbHgBD9a+vWrQgPD8fKlSsREBCAmJgYBAcH49y5c3B2dtapX1paij59+sDZ2Rnffvst3N3dcfXqVTRq1MjwwROZqRBfV/TxUXIgKBEZBCfAMAwmIET/WrJkCcaOHYtRo0YBAFauXIk9e/Zg9erVmDFjhk791atXIycnB0eOHIGlpSUAwNPT05AhEzUIErEIgS2bGDsMImoAOAGGYbALFhHutmYkJiYiKChIUyYWixEUFIT4+PhKj/nhhx8QGBiIiRMnwsXFBb6+vpg3bx5UKpWhwiYiIqJaxAkwDIMJCBGA7OxsqFQquLi4aJW7uLggPT290mMuX76Mb7/9FiqVCj/++CNmzpyJxYsX48MPP6zyOiUlJcjPz9faiIiIyDRwAgzDYAJCVENqtRrOzs744osv4Ofnh8GDB+P999/HypUrqzwmOjoaCoVCs3l4eBgwYiIiInoYToBR9zgGhAiAo6MjJBIJMjIytMozMjKgVCorPcbV1RWWlpaQSCSasnbt2iE9PR2lpaWwsrLSOSYiIgLh4eGa1/n5+UxCiIiITAwnwKhbbAEhAmBlZQU/Pz/ExcVpytRqNeLi4hAYGFjpMU888QQuXrwItVqtKTt//jxcXV0rTT4AQCqVQi6Xa21ERERkeiomwHihkzsCWzZh8lGLmIAQ/Ss8PBxffvkl1q1bhzNnzmDChAkoLCzUzIo1YsQIREREaOpPmDABOTk5eOutt3D+/Hns2bMH8+bNw8SJE411C0REREQmj12wiP41ePBgZGVlYdasWUhPT0enTp0QGxurGZiempoKsfi/nN3DwwP79u3DlClT0KFDB7i7u+Ott97C9OnTjXULRERERCZPJAgC15InMpL8/HwoFArk5eWxOxYREVEDoFIL9X5syaM+v7AFhIiIiIjIAGKT0xC16zTS8v5bSd1VIUNkqE+Dml2LY0CIiIiIiOpYbHIaJmxI0ko+ACA9rxgTNiQhNjnNSJEZHhMQIiIiIqI6pFILiNp1GpWNe6goi9p1Gip1wxgZwQSEiIiIiKgOJaTk6LR83EsAkJZXjISUHMMFZURMQIiIiIiI6lDm7aqTj5rUq++YgBARERER1SFne1mt1qvvmIAQEREREdUhfy8HuCpkqGqyXRHuzobl7+VgyLCMhgkIEREREVEdkohFiAz1AQCdJKTidWSoT71bD6SmmIAQEREREdWxEF9XrBjeGUqFdjcrpUKGFcM7N6h1QLgQIRERERGRAYT4uqKPj7Ler4T+qJiAEBEREREZiEQsQmDLJsYOw6jYBYuIiIiIiAyGCQgRERERERkMExAiIiIiIjIYJiBERERERGQwTECIiIiIiMhgmIAQEREREZHBMAEhIiIiIiKDYQJCREREREQGwwSEiIiIiIgMhgkIEREREREZjIWxAyAiIvOgUgtISMlB5u1iONvL4O/lAIlYZOywiIjIxDABISKiRxabnIaoXaeRllesKXNVyBAZ6oMQX1cjRkZERKaGXbCIiOiRxCanYcKGJK3kAwDS84oxYUMSYpPTjBQZEVHDolILiL90E9+fuI74SzehUgvGDqlSbAEhIqIaU6kFRO06jcr+xAkARACidp1GHx8lu2MREdWh+tQSzRYQIiKqsYSUHJ2Wj3sJANLyipGQkmO4oIiIGpj61hLNBISIiGos83bVyUdN6hERkX4e1hIN3G2JNqXuWExAiIioxpztZbVaj4iI9FMfW6KZgBARUY35eznAVSFDVaM7RLjbB9nfy8GQYRERNRj1sSWaCQjRfZYvXw5PT0/IZDIEBAQgISGhWsdt2bIFIpEIAwYMqNsAiUyIRCxCZKgPAOgkIRWvI0N9OACdiKiO1MeWaCYgRPfYunUrwsPDERkZiaSkJHTs2BHBwcHIzMx84HFXrlzB1KlT0bNnTwNFSmQ6QnxdsWJ4ZygV2n/clAoZVgzvbHKzrxARmZP62BItEgTBdEakEBlZQEAAunbtimXLlgEA1Go1PDw8MHnyZMyYMaPSY1QqFZ588km8/vrr+O2335Cbm4udO3dW63r5+flQKBTIy8uDXC6vrdsgMgquhE5EZBwVs2AB0BqMXvF/4Nr+MuhRn1/YAkL0r9LSUiQmJiIoKEhTJhaLERQUhPj4+CqPmzNnDpydnTF69GhDhElksiRiEQJbNsELndwR2LIJkw8iIgOpby3RXIiQ6F/Z2dlQqVRwcXHRKndxccHZs2crPebw4cNYtWoVTpw4Ua1rlJSUoKSkRPM6Pz+/xvESERERVQjxdUUfH2W9aIlmAkJUQ7dv38Zrr72GL7/8Eo6OjtU6Jjo6GlFRUXUcGRERETVEFS3Rpo4JCNG/HB0dIZFIkJGRoVWekZEBpVKpU//SpUu4cuUKQkNDNWVqtRoAYGFhgXPnzqFly5Zax0RERCA8PFzzOj8/Hx4eHrV5G0REREQmjQkI0b+srKzg5+eHuLg4zVS6arUacXFxmDRpkk59b29v/P3331plH3zwAW7fvo2lS5dWmlhIpVJIpdI6iZ+IiIioPmACQnSP8PBwhIWFoUuXLvD390dMTAwKCwsxatQoAMCIESPg7u6O6OhoyGQy+Pr6ah3fqFEjANApJyIiIqK7mIAQ3WPw4MHIysrCrFmzkJ6ejk6dOiE2NlYzMD01NRViMSePIyIiIqoprgNCZERcB4SIiIjqG64DQkRERERE9QYTECIiIiIiMhgmIEREREREZDBMQIiIiIiIyGCYgBARERERkcEwASEiIiIiIoNhAkJERERERAbDBISIiIiIiAyGCQgRERERERkMExAiIiIiIjIYJiBERERERGQwTECIiIiIiMhgmIAQEREREZHBMAEhIiIiIiKDsTB2AERUt1RqAQkpOci8XQxnexn8vRwgEYuMHRYRERE1UExAiMxYbHIaonadRlpesabMVSFDZKgPQnxdjRgZERERNVTsgkVkpmKT0zBhQ5JW8gEA6XnFmLAhCbHJaUaKjIiIiBoyJiBEZkilFhC16zSESvZVlEXtOg2VurIaRERERHWHCQiRGUpIydFp+biXACAtrxgJKTmGC4qIiIgITECIzFLm7aqTj5rUIyIiIqotTECIzJCzvaxW6xERERHVFs6CRWSG/L0c4KqQIT2vuNJxICIASsXdKXmp4eHUzEREZExMQIjMkEQsQmSoDyZsSIII0EpCKh4zI0N9+NDZAHFqZiIiMjZ2wSIyUyG+rlgxvDOUCu1uVkqFDCuGd+bDZgPEqZmJiMgUsAWEyIyF+Lqij4+S3W3ooVMzi3B3auY+Pkr+fBARUZ1iAkJk5iRiEQJbNjF2GGRk+kzNzJ8XIiKqS+yCRUTUAHBqZiIiMhVMQIiIGgBOzUxERKaCCQgRUQNQMTVzVaM7RLg7GxanZiYiorrGBISIqAGomJoZgE4SwqmZiYjIkJiAEN1n+fLl8PT0hEwmQ0BAABISEqqs++WXX6Jnz55o3LgxGjdujKCgoAfWJzImTs1MRESmgLNgEd1j69atCA8Px8qVKxEQEICYmBgEBwfj3LlzcHZ21ql/6NAhDB06FN27d4dMJsOCBQvQt29fnDp1Cu7u7ka4A6IH49TMRERkbCJBECqbFp6oQQoICEDXrl2xbNkyAIBarYaHhwcmT56MGTNmPPR4lUqFxo0bY9myZRgxYsRD6+fn50OhUCAvLw9yufyR4yciIiKqa4/6/MIuWET/Ki0tRWJiIoKCgjRlYrEYQUFBiI+Pr9Y5ioqKUFZWBgeHygfylpSUID8/X2sjIiIiakiYgBD9Kzs7GyqVCi4uLlrlLi4uSE9Pr9Y5pk+fDjc3N60k5l7R0dFQKBSazcPD45HjJiIiIqpPmIAQ1ZL58+djy5Yt2LFjB2SyytdSiIiIQF5enma7du2agaMkIiIiMi4OQif6l6OjIyQSCTIyMrTKMzIyoFQqH3jsokWLMH/+fBw4cAAdOnSosp5UKoVUKq2VeImIiIjqI7aAEP3LysoKfn5+iIuL05Sp1WrExcUhMDCwyuMWLlyIuXPnIjY2Fl26dDFEqCZBpRYQf+kmvj9xHfGXbkKl5nwWRERE9HBsASG6R3h4OMLCwtClSxf4+/sjJiYGhYWFGDVqFABgxIgRcHd3R3R0NABgwYIFmDVrFjZt2gRPT0/NWBE7OzvY2dkZ7T7qWmxyGqJ2nUZaXrGmzFUhQ2SoD9eSICIiogdiAkJ0j8GDByMrKwuzZs1Ceno6OnXqhNjYWM3A9NTUVIjF/zUcrlixAqWlpXj55Ze1zhMZGYnZs2cbMnSDiU1Ow4QNSbi/vSM9rxgTNiRxQTsiIiJ6IK4DQmRE9W0dEJVaQI8FP2u1fNxLhLurah+e/gwXtiMiIjJTXAeEiAwmISWnyuQDAAQAaXnFSEjJMVxQREREVK8wASGiasu8XXXyUZN6RERE1PAwASGianO2r3x9k5rWIyIiooaHCQgRVZu/lwNcFTJUNbpDhLuzYfl7ORgyLCIiIqpHmIAQUbVJxCJEhvoAgE4SUvE6MtSHA9CJiIioSkxAiEgvIb6uWDG8M5QK7W5WSoWMU/ASERHRQ3EdECLSW4ivK/r4KJGQkoPM28Vwtr/b7YotH0RERPQwTECIqEYkYhECWzYxdhhERERUz7ALFhERERERGQxbQIjIpKjUArt2ERERmTEmIERkMmKT0xC167TWauuuChkiQ304uJ2IiMhMsAsWEZmE2OQ0TNiQpJV8AEB6XjEmbEhCbHKakSIjIiKi2sQEhIiMTqUWELXrNIRK9lWURe06DZW6shrmSaUWEH/pJr4/cR3xl242qHsnIiLzxi5YRGR0CSk5Oi0f9xIApOUVIyElp0HMvMWuaEREZM7YAkJERpd5u+rkoyb16jN2RSMiInPHBISIjM7ZXvbwSnrUq6/YFY2IiBoCJiBEZHT+Xg5wVchQ1WS7ItztguTv5WDIsAxOn65oRERE9RUTECIyOolYhMhQHwDQSUIqXkeG+jzSeiD1YVA3u6IREVFDwEHoRGQSQnxdsWJ4Z53B18paGHxdXwZ1sysaERE1BExAiMhkhPi6oo+PslZXQq8Y1H1/e0fFoO4Vwzs/UhJSmyu3V3RFS88rrnQciAh3EzJz74pGRETmjQkIEZkUiVhUa1PtPmxQtwh3B3X38VHWKGmo7ZaViq5oEzYkQQRoxV1bXdGIiIiMjWNAiMhs1eWg7rqaLreiK5pSod3NSqmQPXJrDRERkSlgCwgRma26GtRd1y0rddEVjYiIyFQwASEis1VXg7oNsXJ7bXZFIyIiMiXsgkVEZquu1hfhdLlEREQ1xwSEiMxWXa0vwulyiYiIao4JCBGZtboY1M2V24mIiGqOY0CIyOzV9qBuTpdLRERUcyJBECqbyIWIDCA/Px8KhQJ5eXmQy+XGDof0VF9WWCciIqpNj/r8wi5YRPdZvnw5PD09IZPJEBAQgISEhAfW37ZtG7y9vSGTydC+fXv8+OOPBoqUjC3E1xWHpz+DzWO7YemQTtg8thsOT3+GyQcREdEDMAEhusfWrVsRHh6OyMhIJCUloWPHjggODkZmZmal9Y8cOYKhQ4di9OjROH78OAYMGIABAwYgOTnZwJGTsVRMl/tCJ3cEtmzCbldEREQPwS5YRPcICAhA165dsWzZMgCAWq2Gh4cHJk+ejBkzZujUHzx4MAoLC7F7925NWbdu3dCpUyesXLnyoddjFywiIiKqb9gFi6iWlJaWIjExEUFBQZoysViMoKAgxMfHV3pMfHy8Vn0ACA4OrrJ+SUkJ8vPztTYiIiKihoQJCNG/srOzoVKp4OLiolXu4uKC9PT0So9JT0/Xq350dDQUCoVm8/DwqJ3giYiIiOoJTsNLZEAREREIDw/XvM7Ly0OzZs3YEkJERET1RsVzS01HcjABIfqXo6MjJBIJMjIytMozMjKgVCorPUapVOpVXyqVQiqVal5X/AKzJYSIiIjqm9u3b0OhUOh9HBMQon9ZWVnBz88PcXFxGDBgAIC7g9Dj4uIwadKkSo8JDAxEXFwc3n77bU3Z/v37ERgYWK1rurm54dq1a7C3t4dIVHezJ+Xn58PDwwPXrl3jYPd6hJ9b/cXPrv7iZ1c/8XMzLEEQcPv2bbi5udXoeCYgRPcIDw9HWFgYunTpAn9/f8TExKCwsBCjRo0CAIwYMQLu7u6Ijo4GALz11lt46qmnsHjxYvTv3x9btmzBn3/+iS+++KJa1xOLxWjatGmd3c/95HI5/8dcD/Fzq7/42dVf/OzqJ35uhlOTlo8KTECI7jF48GBkZWVh1qxZSE9PR6dOnRAbG6sZaJ6amgqx+L+5G7p3745Nmzbhgw8+wHvvvYfWrVtj586d8PX1NdYtEBEREZk0rgNC1ABwvZH6iZ9b/cXPrv7iZ1c/8XOrXzgNL1EDIJVKERkZqTUAnkwfP7f6i59d/cXPrn7i51a/sAWEiIiIiIgMhi0gRERERERkMExAiIiIiIjIYJiAEBERERGRwTABITJzy5cvh6enJ2QyGQICApCQkGDskOghZs+eDZFIpLV5e3sbOyyqxK+//orQ0FC4ublBJBJh586dWvsFQcCsWbPg6uoKa2trBAUF4cKFC8YJljQe9rmNHDlS53cwJCTEOMGSRnR0NLp27Qp7e3s4OztjwIABOHfunFad4uJiTJw4EU2aNIGdnR0GDhyIjIwMI0VMVWECQmTGtm7divDwcERGRiIpKQkdO3ZEcHAwMjMzjR0aPcRjjz2GtLQ0zXb48GFjh0SVKCwsRMeOHbF8+fJK9y9cuBCffvopVq5ciaNHj8LW1hbBwcEoLi42cKR0r4d9bgAQEhKi9Tu4efNmA0ZIlfnll18wceJE/PHHH9i/fz/KysrQt29fFBYWaupMmTIFu3btwrZt2/DLL7/gxo0beOmll4wYNVWGs2ARmbGAgAB07doVy5YtAwCo1Wp4eHhg8uTJmDFjhpGjo6rMnj0bO3fuxIkTJ4wdCulBJBJhx44dGDBgAIC7rR9ubm545513MHXqVABAXl4eXFxcsHbtWgwZMsSI0VKF+z834G4LSG5urk7LCJmWrKwsODs745dffsGTTz6JvLw8ODk5YdOmTXj55ZcBAGfPnkW7du0QHx+Pbt26GTliqsAWECIzVVpaisTERAQFBWnKxGIxgoKCEB8fb8TIqDouXLgANzc3tGjRAsOGDUNqaqqxQyI9paSkID09Xet3UKFQICAggL+D9cChQ4fg7OyMtm3bYsKECbh586axQ6L75OXlAQAcHBwAAImJiSgrK9P6nfP29kazZs34O2dimIAQmans7GyoVCq4uLholbu4uCA9Pd1IUVF1BAQEYO3atYiNjcWKFSuQkpKCnj174vbt28YOjfRQ8XvG38H6JyQkBF9//TXi4uKwYMEC/PLLL+jXrx9UKpWxQ6N/qdVqvP3223jiiSfg6+sL4O7vnJWVFRo1aqRVl79zpsfC2AEQEZG2fv36af7doUMHBAQEoHnz5vjmm28wevRoI0ZG1DDc2z2uffv26NChA1q2bIlDhw6hd+/eRoyMKkycOBHJyckcH1dPsQWEyEw5OjpCIpHozP6RkZEBpVJppKioJho1aoQ2bdrg4sWLxg6F9FDxe8bfwfqvRYsWcHR05O+giZg0aRJ2796NgwcPomnTpppypVKJ0tJS5ObmatXn75zpYQJCZKasrKzg5+eHuLg4TZlarUZcXBwCAwONGBnpq6CgAJcuXYKrq6uxQyE9eHl5QalUav0O5ufn4+jRo/wdrGf++ecf3Lx5k7+DRiYIAiZNmoQdO3bg559/hpeXl9Z+Pz8/WFpaav3OnTt3DqmpqfydMzHsgkVkxsLDwxEWFoYuXbrA398fMTExKCwsxKhRo4wdGj3A1KlTERoaiubNm+PGjRuIjIyERCLB0KFDjR0a3aegoEDrW/GUlBScOHECDg4OaNasGd5++218+OGHaN26Nby8vDBz5ky4ublpzbhEhvegz83BwQFRUVEYOHAglEolLl26hHfffRetWrVCcHCwEaOmiRMnYtOmTfj+++9hb2+vGdehUChgbW0NhUKB0aNHIzw8HA4ODpDL5Zg8eTICAwM5A5apEYjIrH322WdCs2bNBCsrK8Hf31/4448/jB0SPcTgwYMFV1dXwcrKSnB3dxcGDx4sXLx40dhhUSUOHjwoANDZwsLCBEEQBLVaLcycOVNwcXERpFKp0Lt3b+HcuXPGDZoe+LkVFRUJffv2FZycnARLS0uhefPmwtixY4X09HRjh93gVfaZARDWrFmjqXPnzh3hjTfeEBo3bizY2NgIL774opCWlma8oKlSXAeEiIiIiIgMhmNAiIiIiIjIYJiAEBERERGRwTABISIiIiIig2ECQkREREREBsMEhIiIiIiIDIYJCBERERERGQwTECIiIiIiMhgmIEREREREZDBMQIiIiIiIyGCYgBARERERkcEwASEiIiIiIoNhAkJERERERAbDBISIiIiIiAyGCQgRERERERkMExAiIiIiIjIYJiBERERERGQwTECIiIiIiMhgmIAQEREREZHBMAEhIqJ6a+3atRCJRPjzzz+NHQoREVUTExAiIqIaOHLkCGbPno3c3Fxjh0JEVK8wASEiIqqBI0eOICoqigkIEZGemIAQEZFRFBcXQ61WV7qvsLDQwNEQEZGhMAEhIqIHun79OkaPHg03NzdIpVJ4eXlhwoQJKC0tBQBcvnwZgwYNgoODA2xsbNCtWzfs2bNH6xyHDh2CSCTCli1b8MEHH8Dd3R02NjbIz8/HyJEjYWdnh0uXLuHZZ5+Fvb09hg0bpleMJSUlCA8Ph5OTE2xtbfHiiy8iKytLp97evXvRs2dP2Nrawt7eHv3798epU6e06pw8eRIjR45EixYtIJPJoFQq8frrr+PmzZuaOrNnz8a0adMAAF5eXhCJRBCJRLhy5QoAQCQSYdKkSdi2bRt8fHxgbW2NwMBA/P333wCA//3vf2jVqhVkMhl69eqlOa7Cb7/9hkGDBqFZs2aQSqXw8PDAlClTcOfOHa16Fe/d5cuXERwcDFtbW7i5uWHOnDkQBEGv95CIyFAsjB0AERGZrhs3bsDf3x+5ubkYN24cvL29cf36dXz77bcoKirCrVu30L17dxQVFeHNN99EkyZNsG7dOjz//PP49ttv8eKLL2qdb+7cubCyssLUqVNRUlICKysrAEB5eTmCg4PRo0cPLFq0CDY2NnrFOXnyZDRu3BiRkZG4cuUKYmJiMGnSJGzdulVTZ/369QgLC0NwcDAWLFiAoqIirFixAj169MDx48fh6ekJANi/fz8uX76MUaNGQalU4tSpU/jiiy9w6tQp/PHHHxCJRHjppZdw/vx5bN68GZ988gkcHR0BAE5OTprr/fbbb/jhhx8wceJEAEB0dDSee+45vPvuu/j888/xxhtv4NatW1i4cCFef/11/Pzzz5pjt23bhqKiIkyYMAFNmjRBQkICPvvsM/zzzz/Ytm2b1r2rVCqEhISgW7duWLhwIWJjYxEZGYny8nLMmTNHr/eRiMggBCIioiqMGDFCEIvFwrFjx3T2qdVq4e233xYACL/99pum/Pbt24KXl5fg6ekpqFQqQRAE4eDBgwIAoUWLFkJRUZHWecLCwgQAwowZM/SOb82aNQIAISgoSFCr1ZryKVOmCBKJRMjNzdXE1KhRI2Hs2LFax6enpwsKhUKr/P74BEEQNm/eLAAQfv31V03Zxx9/LAAQUlJSdOoDEKRSqda+//3vfwIAQalUCvn5+ZryiIgInfNUFkN0dLQgEomEq1evasoq3rvJkydrytRqtdC/f3/ByspKyMrK0jkPEZGxsQsWERFVSq1WY+fOnQgNDUWXLl109otEIvz444/w9/dHjx49NOV2dnYYN24crly5gtOnT2sdExYWBmtr60qvN2HChBrHOm7cOIhEIs3rnj17QqVS4erVqwDutmrk5uZi6NChyM7O1mwSiQQBAQE4ePCg5th74ysuLkZ2dja6desGAEhKSqp2TL1799a0qgBAQEAAAGDgwIGwt7fXKb98+XKlMRQWFiI7Oxvdu3eHIAg4fvy4zrUmTZqk+XdF96/S0lIcOHCg2vESERkKu2AREVGlsrKykJ+fD19f3yrrXL16VfMAfa927dpp9t97vJeXV6XnsbCwQNOmTWsca7NmzbReN27cGABw69YtAMCFCxcAAM8880ylx8vlcs2/c3JyEBUVhS1btiAzM1OrXl5eXo1jUigUAAAPD49KyytiBYDU1FTMmjULP/zwg1Z5ZTGIxWK0aNFCq6xNmzYAoDO2hIjIFDABISIig6mq9UMqlUIsrnmjvEQiqbRc+HcgdsVsW+vXr4dSqdSpZ2Hx35/DV155BUeOHMG0adPQqVMn2NnZQa1WIyQkpMpZu/SJ6WGxqlQq9OnTBzk5OZg+fTq8vb1ha2uL69evY+TIkXrFQERkipiAEBFRpZycnCCXy5GcnFxlnebNm+PcuXM65WfPntXsNwUtW7YEADg7OyMoKKjKerdu3UJcXByioqIwa9YsTXlFC8q97u3yVZv+/vtvnD9/HuvWrcOIESM05fv376+0vlqtxuXLlzWtHgBw/vx5ANDqAkZEZCo4BoSIiColFosxYMAA7Nq1C3/++afOfkEQ8OyzzyIhIQHx8fGa8sLCQnzxxRfw9PSEj4+PIUOuUnBwMORyOebNm4eysjKd/RVT9la0Tgj3TWEbExOjc4ytrS0A1PpChJXFIAgCli5dWuUxy5Yt06q7bNkyWFpaonfv3rUaGxFRbWALCBERVWnevHn46aef8NRTT2HcuHFo164d0tLSsG3bNhw+fBgzZszA5s2b0a9fP7z55ptwcHDAunXrkJKSgu3btz9St6raJJfLsWLFCrz22mvo3LkzhgwZAicnJ6SmpmLPnj144oknsGzZMsjlcjz55JNYuHAhysrK4O7ujp9++gkpKSk65/Tz8wMAvP/++xgyZAgsLS0RGhqqSUxqytvbGy1btsTUqVNx/fp1yOVybN++XWcsSAWZTIbY2FiEhYUhICAAe/fuxZ49e/Dee+9pTQtMRGQqmIAQEVGV3N3dcfToUcycORMbN25Efn4+3N3d0a9fP9jY2KBRo0Y4cuQIpk+fjs8++wzFxcXo0KEDdu3ahf79+xs7fC2vvvoq3NzcMH/+fHz88ccoKSmBu7s7evbsiVGjRmnqbdq0CZMnT8by5cshCAL69u2LvXv3ws3NTet8Xbt2xdy5c7Fy5UrExsZCrVYjJSXlkRMQS0tL7Nq1C2+++Saio6Mhk8nw4osvYtKkSejYsaNOfYlEgtjYWEyYMAHTpk2Dvb09IiMjtbqQERGZEpFwfzszERER1QsjR47Et99+i4KCAmOHQkRUbabRNk5ERERERA0Cu2AREZHJuXPnzkPX3HBwcICVlZWBIiIiotrCFhAiIjI5W7duhaur6wO3I0eOGDtMIiIAwK+//orQ0FC4ublBJBJh586dDz3m0KFD6Ny5M6RSKVq1aoW1a9fq1Fm+fDk8PT0hk8kQEBCAhISE2g/eCDgGhIiITE5aWhpOnTr1wDp+fn6aFc+JiIxp7969+P333+Hn54eXXnoJO3bswIABA6qsn5KSAl9fX4wfPx5jxoxBXFwc3n77bezZswfBwcEA7n4RM2LECKxcuRIBAQGIiYnBtm3bcO7cOTg7OxvozuoGExAiIiIioloiEokemoBMnz4de/bs0VrodciQIcjNzUVsbCwAICAgAF27dtWs86NWq+Hh4YHJkydjxowZdXoPdY1dsIiIiIiIDCg+Ph5BQUFaZcHBwZpFXUtLS5GYmKhVRywWIygoSGvh1/qKg9CJiIiIiO5TUlKCkpISrTKpVAqpVPrI505PT4eLi4tWmYuLC/Lz83Hnzh3cunULKpWq0jpnz5595OsbGxMQIiPbY9nW2CGQGeo+p7exQyAzM7/JYmOHQGZmwThrg15P37+3x94fiqioKK2yyMhIzJ49uxajapiYgBARERGR2RNZivSqHxERgfDwcK2y2mj9AAClUomMjAytsoyMDMjlclhbW0MikUAikVRaR6lU1koMxsQxIERERERk9iTWEr02qVQKuVyutdVWAhIYGIi4uDitsv379yMwMBAAYGVlBT8/P606arUacXFxmjr1GVtAiIiIiMjsiS30awHRR0FBAS5evKh5nZKSghMnTsDBwQHNmjVDREQErl+/jq+//hoAMH78eCxbtgzvvvsuXn/9dfz888/45ptvsGfPHs05wsPDERYWhi5dusDf3x8xMTEoLCzEqFGj6uw+DIUJCBERERGZPX27YOnjzz//xNNPP615XdF1KywsDGvXrkVaWhpSU1M1+728vLBnzx5MmTIFS5cuRdOmTfHVV19p1gABgMGDByMrKwuzZs1Ceno6OnXqhNjYWJ2B6fUR1wEhMjIOQqe6wEHoVNs4CJ1qm6EHof/s2UGv+s9cOVlHkRBbQIiIiIjI7NVlCwjphwkIEREREZm9uhwDQvphAkJEREREZk8kYQJiKpiAEBEREZHZEzMBMRlMQIiIiIjI7InETEBMBRMQIiIiIjJ7IgnX3zYVTECIiIiIyOxJLJmAmAomIERERERk9jgGxHQwASEiIiIis8dZsEwHExAiIiIiMnsiMbtgmQomIERERERk9jgLlulgAkJEREREZo9jQEwHExAiIiIiMntsATEdTECIiIiIyOxxDIjpYAJCRERERGaPLSCmgwkIEREREZk9LkRoOpiAEBEREZHZYxcs08EEhIiIiIjMHrtgmQ4mIERERERk9piAmA4mIERERERk9piAmA4mIERERERk9jgGxHQwASEiIiIis8eV0E0HExAiIiIiMnvsgmU62BZFRERERGZPJBbrtelr+fLl8PT0hEwmQ0BAABISEqqs26tXL4hEIp2tf//+mjojR47U2R8SElKjezc1bAEhIiIiIrMntqi77923bt2K8PBwrFy5EgEBAYiJiUFwcDDOnTsHZ2dnnfrfffcdSktLNa9v3ryJjh07YtCgQVr1QkJCsGbNGs1rqVRaZ/dgSGwBoTpz6NAhiEQi5ObmGi2GtWvXolGjRka7PhEREZmGumwBWbJkCcaOHYtRo0bBx8cHK1euhI2NDVavXl1pfQcHByiVSs22f/9+2NjY6CQgUqlUq17jxo1rfP+mhC0gVGt69eqFTp06ISYmBgDQvXt3pKWlQaFQGDcwqtccenRBi3dGQ9HZFzI3Z/w58A1k/BBn7LDIREk7PwlpQB+I7eRQZf6Dop++gSrtapX1RVJryJ56HlZtO0Eks4E6PwdFB75F+aVTuufu1hc2Tw9A8bGfcefAt3V5G2Ri+vhZwL+dBaytgCvpauw4XIab+UK1ju3V0QL9Aixx+O9y7Iov05T7e0vQqZUE7o5iyKxEiFx7B8WlDzgRPTJ9x4CUlJSgpKREq0wqleq0QpSWliIxMRERERGaMrFYjKCgIMTHx1frWqtWrcKQIUNga2urVX7o0CE4OzujcePGeOaZZ/Dhhx+iSZMmet2HKWILCNUZKysrKJVKiEQNb9CXSqWCWq02dhhmQWJrg/yT55D8ZpSxQyETZ9nOD9a9B6L48B7kr46GKuM67AZPhsjGrvIDxBLYDX0TEkUTFHz3JfK/iELRj5sg3M7VqSpxbQ7p4z1QnvFP3d4EmZynOlrgCV8L7PitFMt2lqC0HBj9rBUsJA8/tqmTCAHtJLhxU/fvgZUFcP6aGgePl9dB1FQZfVtAoqOjoVAotLbo6Gid82ZnZ0OlUsHFxUWr3MXFBenp6Q+NKyEhAcnJyRgzZoxWeUhICL7++mvExcVhwYIF+OWXX9CvXz+oVKpHeyNMABMQqhUjR47EL7/8gqVLl2oGSq1du1arC1ZFd6jdu3ejbdu2sLGxwcsvv4yioiKsW7cOnp6eaNy4Md58802tX66SkhJMnToV7u7usLW1RUBAAA4dOqRXfPv27UO7du1gZ2eHkJAQpKWlafap1WrMmTMHTZs2hVQqRadOnRAbG6vZX1lXshMnTkAkEuHKlSta9/bDDz/Ax8cHUqkUqamper+PpCtr3684HxmDjO8PGDsUMnEy/2dQ8tfvKP37D6hvpqModjNQXgqrDt0rrW/VsTtEMhsUbF8J1fXLUOfloPzaBagyr2tXtJTC9vmRKNq7EUJxkQHuhExJj/YW+Pl4OU5fVSM9R8A3B0shtxHhMc8HZyBWFsCQp62w/bcy3CnRbS05nKzCob/KkZrJL6sMRiTSa4uIiEBeXp7Wdm8rR21ZtWoV2rdvD39/f63yIUOG4Pnnn0f79u0xYMAA7N69G8eOHdP7GcgUMQGhWrF06VIEBgZi7NixSEtLQ1paGjw8PHTqFRUV4dNPP8WWLVsQGxuLQ4cO4cUXX8SPP/6IH3/8EevXr8f//vc/fPvtf90bJk2ahPj4eGzZsgUnT57EoEGDEBISggsXLlQrtqKiIixatAjr16/Hr7/+itTUVEydOlUr9sWLF2PRokU4efIkgoOD8fzzz1f7/PdeZ8GCBfjqq69w6tSpSgedEVEdEUsgUTZDecq5ewoFlF05Cwt3r0oPsWrdHuXXU2DTdwgUb86HfMwHkAUG3334uIdN8GCUXUxG+ZVzlZ6HzJeDvQhyGxEuXP/vS7HiMuBaphrNnB/8CDWghyXOXlPj4nUmGKZCJBbptUmlUsjlcq2tskHgjo6OkEgkyMjI0CrPyMiAUql8YEyFhYXYsmULRo8e/dD4W7RoAUdHR1y8eFG/GzdBTECoVigUClhZWcHGxkYzUEoi0f12qKysDCtWrMDjjz+OJ598Ei+//DIOHz6MVatWwcfHB8899xyefvppHDx4EACQmpqKNWvWYNu2bejZsydatmyJqVOnokePHlqzQjxIWVkZVq5ciS5duqBz586YNGkS4uL+G0OwaNEiTJ8+HUOGDEHbtm2xYMECrbEs1VVWVobPP/8c3bt317TwEJFhiGzsIBJLoC7K1yoXCm9DbCev9BhxI0dYeT8OiMUo+GY57vy+F9KA3pA90U9Tx7KdHyxcPHDn0Pd1Gj+ZJnubu8loQZF2C0bBHQH2D/hffMeWErg5ihGbUFZ1JTK4uhqEbmVlBT8/P61nC7Vajbi4OAQGBj7w2G3btqGkpATDhw9/6HX++ecf3Lx5E66urtWOzVRxEDoZlI2NDVq2bKl57eLiAk9PT9jZ2WmVZWZmAgD+/vtvqFQqtGnTRus8JSUl1R6Edf81XV1dNefPz8/HjRs38MQTT2gd88QTT+Cvv/7S696srKzQoUOHB9apbEBbmaCGpYjfBRAZnEgEofA2ivZuBAQBqvRrKLZTQNatD4oP/wiRfWPY9BmEgs2fASr2028IOrWS4KWelprXa2L1HxWusBUhNNASX/1YgvL631XfrNTlQoTh4eEICwtDly5d4O/vj5iYGBQWFmLUqFEAgBEjRsDd3V1nDMmqVaswYMAAnWeagoICREVFYeDAgVAqlbh06RLeffddtGrVCsHBwXV2H4bCBIQMytLSUuu1SCSqtKxiAHdBQQEkEgkSExN1WlTuTVr0vaYgVG/2EuDuTBYAtI4pK9P9Vsva2vqhA+6jo6MRFaU9mHqoyAHDJI7VjoeIdAlFBRDUKoht5Lj3mU9kaw91QX6lx6gL8gGVCrjnd1t1Mx1iOwUglsBC2QxiWznsX5/x3/nEElg0awWp31PIXfim1rFU/52+qsK1e8ZkVAw0t7MR4fad/z5rO2sRbtys/LN3dxTB3kaEN1/6r6uORCyCl6uAwMckeH9VMX9sjKQmiwtW1+DBg5GVlYVZs2YhPT1dM560YmB6amqq5nmiwrlz53D48GH89NNPOueTSCQ4efIk1q1bh9zcXLi5uaFv376YO3euWawFwgSEao2VlVWtz8zw+OOPQ6VSITMzEz179qzVcwOAXC6Hm5sbfv/9dzz11FOa8t9//10zGMzJyQkAkJaWppl/+8SJEzW6XkREBMLDw7XKfnbwq9G5iOgeahVU6amw8GyLsgsVrZciWDZvi+LEXyo9pPyfS7Dy6QpABODuE6HEwQXq27mAWoWyq2eR9+VcrWNsnxsB1c10FMf/xOTDDJWWATfLtD/X/CIBrdwkSLt5txVMagl4OIvxx5nKu1ddvKHGkm3FWmWDnrJCVp4ah06U88fGiOqyBQS4O2Z10qRJle6rbOB427Ztq/xC1NraGvv27avN8EwKExCqNZ6enjh69CiuXLkCOzu7WpmGtk2bNhg2bBhGjBiBxYsX4/HHH0dWVhbi4uLQoUMH9O/f/5GvMW3aNERGRqJly5bo1KkT1qxZgxMnTmDjxo0AgFatWsHDwwOzZ8/GRx99hPPnz2Px4sU1ulZl84ez+9WDSWxtYNuqmea1jVdTyDt6ozQnD8XX0h5wJDU0xQk/300Q0q+i/MZVyLo+DVhKUXry7jz8Ns+FQX07F8W/3B3PUZL0G2R+T8G6zyCUJB6CuLEzZN2DUfLnobsnLC2BOlv7Z0woLYFwp1CnnMzX4b/L8UxnC2Tnq3ErX0DfrpbILxJw6sp/X7iN7W+F5CsqxJ9SobQMyLil/VBZWi6gqFi73M767hiTJvK7D8VKBzFKygTkFgi4o91Tl2qJqDpzJ5NBMAGhWjN16lSEhYXBx8cHd+7cqfYg8YdZs2YNPvzwQ7zzzju4fv06HB0d0a1bNzz33HO1cv4333wTeXl5eOedd5CZmQkfHx/88MMPaN26NYC7Xbg2b96MCRMmoEOHDujatSs+/PBDndVKqW4o/HwRGLde89pn0XsAgGtff4eTo2t/OkSqv8rOJOKOjR1kPZ+D2PbuQoQF3yyDUHQbACCWNwaE/74YEW7fwu2ty2DT+2VIR78P9e1clBw7iOI/dLtDUMP1y1/lsLIABva0guzfhQhX7y3VGt/hIBfBVqbft+vdfCzQx++/LsITnr/75dQ3h0qReJ6DR+pCQ1yXzFSJBH06wxNRrdtj2dbYIZAZ6j6nt7FDIDMzv0nNWn6JqrJgnLVBr5c96+FT3d7Lcc6qOoqE2AJCRERERGavrseAUPWx8znVa/369YOdnV2l27x584wdHhEREZkKsVi/jeoMW0CoXvvqq69w586dSvc5ODgYOBoiIiIyVWwBMR1MQKhec3d3N3YIREREVA+IOOukyWACQkRERETmjy0gJoMJCBERERGZvbpcCZ30wwSEiIiIiMyeSMKFCE0FExAiIiIiMnschG46mIAQERERkfljFyyTwQSEiIiIiMyeSMQWEFPBBISIiIiIzB9bQEwGExAiIiIiMnscA2I6mIAQERERkfnjQoQmgwkIEREREZk/toCYDCYgRERERGT2RGwBMRlMQIiIiIjI/LEFxGQwASEiIiIis8eV0E0HExAiIiIiMn+chtdkMAEhIiIiIvPHhQhNBlNBIiIiIjJ7IrFYr01fy5cvh6enJ2QyGQICApCQkFBl3bVr10IkEmltMplMq44gCJg1axZcXV1hbW2NoKAgXLhwQe+4TBETECIiIiIyfyKxfpsetm7divDwcERGRiIpKQkdO3ZEcHAwMjMzqzxGLpcjLS1Ns129elVr/8KFC/Hpp59i5cqVOHr0KGxtbREcHIzi4uIa3b4pYQJCREREROZPLNJv08OSJUswduxYjBo1Cj4+Pli5ciVsbGywevXqKo8RiURQKpWazcXFRbNPEATExMTggw8+wAsvvIAOHTrg66+/xo0bN7Bz586avgMmgwkIEREREZk9kUis11ZSUoL8/HytraSkROe8paWlSExMRFBQkKZMLBYjKCgI8fHxVcZTUFCA5s2bw8PDAy+88AJOnTql2ZeSkoL09HStcyoUCgQEBDzwnPUFExAiIiIiMn96toBER0dDoVBobdHR0Tqnzc7Ohkql0mrBAAAXFxekp6dXGkrbtm2xevVqfP/999iwYQPUajW6d++Of/75BwA0x+lzzvqEs2ARERERkfnTc1xHREQEwsPDtcqkUmmthBIYGIjAwEDN6+7du6Ndu3b43//+h7lz59bKNUwZExAiIiIiMn96LkQolUqrlXA4OjpCIpEgIyNDqzwjIwNKpbJa17K0tMTjjz+OixcvAoDmuIyMDLi6umqds1OnTtW8A9PFLlhEREREZP7qaBYsKysr+Pn5IS4uTlOmVqsRFxen1crxICqVCn///bcm2fDy8oJSqdQ6Z35+Po4ePVrtc5oytoAQERERkfnTc2YrfYSHhyMsLAxdunSBv78/YmJiUFhYiFGjRgEARowYAXd3d80Ykjlz5qBbt25o1aoVcnNz8fHHH+Pq1asYM2YMgLszZL399tv48MMP0bp1a3h5eWHmzJlwc3PDgAED6uw+DIUJCBERERGZPz3HgOhj8ODByMrKwqxZs5Ceno5OnTohNjZWM4g8NTUV4nsWN7x16xbGjh2L9PR0NG7cGH5+fjhy5Ah8fHw0dd59910UFhZi3LhxyM3NRY8ePRAbG6uzYGF9JBIEQTB2EEQN2R7LtsYOgcxQ9zm9jR0CmZn5TRYbOwQyMwvGWRv0esU/LNervuz5iXUUCbEFhIiIiIjMn5hDn00FExAiIiIiMn+iuhsDQvphAkJERERE5q8Ox4CQfpiAEBEREZH5Yxcsk8EEhMjIOFiY6sKRWXEPr0Skh99DEowdApmbcU8Z9npi/RYipLrDBISIiIiIzB/HgJgMJiBEREREZP7YBctkMAEhIiIiIrMnsAXEZDABISIiIiLzx1mwTAYTECIiIiIyf0xATAYTECIiIiIye+yCZTqYgBARERGR+WMLiMlgAkJERERE5o8tICaDCQgRERERmT9Ow2symIAQERERkdkTuBK6yWACQkRERERmT+AYEJPBBISIiIiIzB/HgJgMJiBEREREZPbYAmI6mIAQERERkfljC4jJYAJCREREROaPLSAmgwkIEREREZk9roRuOpiAEBEREZH5YwuIyeAnQURERERmT4BIr01fy5cvh6enJ2QyGQICApCQkFBl3S+//BI9e/ZE48aN0bhxYwQFBenUHzlyJEQikdYWEhKid1ymiAkIEREREZk9QWyh16aPrVu3Ijw8HJGRkUhKSkLHjh0RHByMzMzMSusfOnQIQ4cOxcGDBxEfHw8PDw/07dsX169f16oXEhKCtLQ0zbZ58+Ya378pYQJCRERERGZPEIn02vSxZMkSjB07FqNGjYKPjw9WrlwJGxsbrF69utL6GzduxBtvvIFOnTrB29sbX331FdRqNeLi4rTqSaVSKJVKzda4ceMa378pYQJCRERERGZPEIn12qqrtLQUiYmJCAoK0pSJxWIEBQUhPj6+WucoKipCWVkZHBwctMoPHToEZ2dntG3bFhMmTMDNmzerHZcp4yB0IiIiIjJ/erZqlJSUoKSkRKtMKpVCKpVqlWVnZ0OlUsHFxUWr3MXFBWfPnq3WtaZPnw43NzetJCYkJAQvvfQSvLy8cOnSJbz33nvo168f4uPjIZFI9LoXU8MWECIiIiIye/q2gERHR0OhUGht0dHRtR7X/PnzsWXLFuzYsQMymUxTPmTIEDz//PNo3749BgwYgN27d+PYsWM4dOhQrcdgaGwBISIiIiKzp+/MVhEREQgPD9cqu7/1AwAcHR0hkUiQkZGhVZ6RkQGlUvnAayxatAjz58/HgQMH0KFDhwfWbdGiBRwdHXHx4kX07t27mndhmtgCQkRERERmT98WEKlUCrlcrrVVloBYWVnBz89PawB5xYDywMDAKuNZuHAh5s6di9jYWHTp0uWh8f/zzz+4efMmXF1da/YGmBAmIERERERk/kQi/TY9hIeH48svv8S6detw5swZTJgwAYWFhRg1ahQAYMSIEYiIiNDUX7BgAWbOnInVq1fD09MT6enpSE9PR0FBAQCgoKAA06ZNwx9//IErV64gLi4OL7zwAlq1aoXg4ODae0+MhF2wiIiIiMjsCXX4vfvgwYORlZWFWbNmIT09HZ06dUJsbKxmYHpqairE4v+uv2LFCpSWluLll1/WOk9kZCRmz54NiUSCkydPYt26dcjNzYWbmxv69u2LuXPnVtoKU98wASEiIiIis6fv2h76mjRpEiZNmlTpvvsHjl+5cuWB57K2tsa+fftqKTLTwwSEiIiIiMyeWlS/p641J0xAiIiIiMjs6bO4INUtJiBEREREZPbqugsWVR9TQTIJa9euRaNGjfQ6plevXnj77berda47d+4gMjISbdq0gVQqhaOjIwYNGoRTp05p1Rs5ciQGDBigc85Dhw5BJBIhNzdXcw2RSASRSASxWAxXV1cMHjwYqampet1DQybt/CTkE+ai0bSlsA+bBolr8wfWF0mtYd13MBSTo9Fo2lLI/y8SFi0fq/zc3fqiccTnsA56udL91LA59OiCLjtWoPfV39C/7Bxcnq/f8+lT3Rs9zBM713VD3Lc9EDO3A5q6Wj+w/ravAnB411M6W/j4Vpo60ya2xtYv/BH3bQ/s2hCI6PcfQ7OmDz4vPRoBIr02qjtsASGzV1JSgqCgIKSmpmLx4sUICAhARkYGoqOjERAQgAMHDqBbt256n1cul+PcuXMQBAEpKSl44403MGjQIBw9erQO7sK8WLbzg3XvgSiK3YzyG1cg6/oM7AZPRv4XsyEUFegeIJbAbuibEApvo+C7LyEU5EIsbwKhpEinqsS1OaSP90B5xj8GuBOqjyS2Nsg/eQ7X1m5Hl2+XGzscMnHDBnrg5efc8VHMWaRlFGPMME8smdMew984htIyodJjxoYn4Z4Jj9CiuS1iPuyIg4ezNGXnLhbgp0OZyMgqhtzeEq8PbY5P5nTAoDFHoVbX9V01TOyCZTr4SVCtUavVWLhwIVq1agWpVIpmzZrho48+wpUrVyASifDdd9/h6aefho2NDTp27Ij4+HgAd1sXRo0ahby8PE2rwuzZs2strpiYGMTHx2P37t145ZVX0Lx5c/j7+2P79u1o164dRo8eDUGo/I/Ig4hEIiiVSri6uqJ79+4YPXo0EhISkJ+fX2uxmyuZ/zMo+et3lP79B9Q301EUuxkoL4VVh+6V1rfq2B0imQ0Ktq+E6vplqPNyUH7tAlSZ17UrWkph+/xIFO3dCKFYNzkhAoCsfb/ifGQMMr4/YOxQqB4Y9Lw7vv7mKg4fvYlLVwrx4Sdn0cRBip7dHKs8Jje/DDm5/23duzbBPzfu4HhynqbOD/vS8NepPKRnluD8pQJ8ueEKXJxkUDrLDHFbDRJbQEwHExCqNREREZg/fz5mzpyJ06dPY9OmTZr5rwHg/fffx9SpU3HixAm0adMGQ4cORXl5Obp3746YmBjI5XKkpaUhLS0NU6dOrbW4Nm3ahD59+qBjx45a5WKxGFOmTMHp06fx119/PdI1MjMzsWPHDkgkEkgknGXjgcQSSJTNUJ5y7p5CAWVXzsLC3avSQ6xat0f59RTY9B0CxZvzIR/zAWSBwToLRdkED0bZxWSUXzlX6XmIiPTh5iKDo4MUx07c0pQVFqlw+nw+fL3l1TqHhYUIfZ92wZ4D6VXWkUnFeDZIiRvpd5CZXfLIcVPl9F0JneoOu2BRrbh9+zaWLl2KZcuWISwsDADQsmVL9OjRQzPX9dSpU9G/f38AQFRUFB577DFcvHgR3t7eUCgUmhYFfXz++ef46quvtMrKy8shk/33DdL58+fx9NNPV3p8u3btNHU6deqk17Xz8vJgZ2cHQRBQVHT32/Y333wTtra2ep2noRHZ2EEklkBdpN1SJBTehqSJS6XHiBs5wqJ5E5SeOoaCb5ZD3NgZNsGDAYkExYd/BHC3W5eFiwfy1y6o83sgoobBobEVAOBWbplW+a3cUs2+h3mymyPsbC3wY5xuAvLis26YMLIFbKwluPpPEd6eeRLl5fq3yFP1sFXDdDABoVpx5swZlJSUoHfvqgdzdujQQfNvV1dXAHdbDry9vWt83WHDhuH999/XKvvuu+8wb948rbKadLF6GHt7eyQlJaGsrAx79+7Fxo0b8dFHHz3wmJKSEpSUaH+7VVKugtSCrSYPJBJBKLyNor0bAUGAKv0aiu0UkHXrg+LDP0Jk3xg2fQahYPNngKrc2NESUT3V5ylnTJvYRvP63Tl/P/I5+/dR4mhiDm7mlOrs++lQBo4dv4UmDlYY+mJTzJ3ugwnvHq9ybAk9GrZqmA4mIFQrrK0fPnOHpaWl5t+if7vOqB9xpJ1CoUCrVq20ypydnbVet2nTBmfOnKn0+IryNm3u/sGRy+W4evWqTr3c3FxIJBKt1g2xWKy5drt27XDp0iVMmDAB69evrzLe6OhoREVFaZW9+0wXzAjqWuUx5kYoKoCgVkFsI4fqnnKRrT3UBZWPn1EX5AMqFXBPIqm6mQ6xnQIQS2ChbAaxrRz2r8/473xiCSyatYLU7ynkLnxT61giosocTriJ0+f/1Ly2srz7wNq4kSVu3vovgWjcyAoXL1cyYcZ9XJyk6NKxMd6PPlXp/sIiFQqL7uCftDs4dS4fezc/gScDHXHg16xK69OjUTMBMRn8JKhWtG7dGtbW1oiLi6vR8VZWVlCpVA+vWANDhgzBgQMHdMZ5qNVqfPLJJ/Dx8dGMD2nbti1OnTql00qRlJQELy8vrSTqfjNmzMDWrVuRlJRUZZ2IiAjk5eVpbVN6dX6Eu6uH1Cqo0lNh4dn2nkIRLJu3Rfn1lEoPKf/nEsSNnYB7ms8lDi5Q384F1CqUXT2LvC/nIn/VPM1WnnYVpaeOIX/VPCYfRFQtd+6ocD2tWLOlpBYhO6cEXTo21tSxsZbAp40cyWcfPuFI/yAlbuWVIv7YzYfWFeHusDZLSz6a1RVBEOm1Ud3hTznVCplMhunTp+Pdd9/F119/jUuXLuGPP/7AqlWrqnW8p6cnCgoKEBcXh+zsbM2YitowZcoU+Pv7IzQ0FNu2bUNqaiqOHTuGgQMH4syZM1i1apWmRWbYsGEQiUQYMWIEEhMTcfHiRaxevRoxMTF45513HngdDw8PvPjii5g1a1aVdaRSKeRyudbWELtfFSf8DGmnJ2DVPgDiJkrYhAwBLKUoPXl3ZjSb58Ige+oFTf2SpN8gtraBdZ9BEDs4w6KlL2Tdg1GS9OvdCqUlUGenaW1CaQmEO4VQZ6cZ4xbJhElsbSDv6A15x7vdP228mkLe0RsyD1cjR0amaNsP1xE2uBme8G+CFs1t8UG4N27mlOC3P7I1dWI+7ICX+rtpHScSAc8GKRH7cwZU9zX2u7nIMPxlD7RtaQcXJyl8veWYO8MHJSVqxP+ZY4jbapAEiPXaqO6wCxbVmpkzZ8LCwgKzZs3CjRs34OrqivHjx1fr2O7du2P8+PEYPHgwbt68icjIyFqbilcmk+Hnn3/GvHnz8N577+Hq1auwt7fH008/jT/++AO+vr6auo0aNcJvv/2GGTNm4Pnnn0deXh5atWqFJUuWYPTo0Q+91pQpUxAYGIiEhAT4+/vXSvzmqOxMIu7Y2EHW8zmIbeVQZf6Dgm+WQSi6DQAQyxsDwn9/sYXbt3B76zLY9H4Z0tHvQ307FyXHDqL4j5+MdQtUjyn8fBEY919XSZ9F7wEArn39HU6OjjBWWGSiNm6/BplMgncntYGdrQX+Pp2HdyL/1hqn4a60RiO5dgt5l06NoXSWYc9+3cHnJWVqdHxMgVeebwp7Owvk5Jbir1N5GP/uceTmlenUp9rBQeimQyTUxehcIqq2W9FvGDsEMkNHZtWsOyRRVaJDvjB2CGRmDu96yqDXO3fpml7127b0qKNIiC0gRERERGT22AJiOpiAkEn67bff0K9fvyr3FxQ8fPYRIiIiogpMQEwHExAySV26dMGJEyeMHQYRERGZCc5sZTqYgJBJsra21lnfg4iIiKim2AJiOpiAEBEREZHZU3NqXZPBBISIiIiIzB67YJkOJiBEREREZPbU7IJlMpiAEBEREZHZ4xgQ08EEhIiIiIjMHrtgmQ6OxiEiIiIisydApNemr+XLl8PT0xMymQwBAQFISEh4YP1t27bB29sbMpkM7du3x48//qgdryBg1qxZcHV1hbW1NYKCgnDhwgW94zJFTECIiIiIyOwJgkivTR9bt25FeHg4IiMjkZSUhI4dOyI4OBiZmZmV1j9y5AiGDh2K0aNH4/jx4xgwYAAGDBiA5ORkTZ2FCxfi008/xcqVK3H06FHY2toiODgYxcXFj/Q+mAKRIAiCsYMgashuRb9h7BDIDB2ZFWfsEMjMRId8YewQyMwc3vWUQa937FyuXvW7tm1U7boBAQHo2rUrli1bBgBQq9Xw8PDA5MmTMWPGDJ36gwcPRmFhIXbv3q0p69atGzp16oSVK1dCEAS4ubnhnXfewdSpUwEAeXl5cHFxwdq1azFkyBC97sXUsAWEiIiIiMyevi0gJSUlyM/P19pKSkp0zltaWorExEQEBQVpysRiMYKCghAfH19pLPHx8Vr1ASA4OFhTPyUlBenp6Vp1FAoFAgICqjxnfcIEhIiIiIjMnlrPLTo6GgqFQmuLjo7WOW92djZUKhVcXFy0yl1cXJCenl5pLOnp6Q+sX/Fffc5Zn3AWLCIiIiIye2pBv+/dIyIiEB4erlUmlUprM6QGiwkIEREREZk9fQeWS6XSaiUcjo6OkEgkyMjI0CrPyMiAUqms9BilUvnA+hX/zcjIgKurq1adTp066XMbJoldsIiIiIjI7NXVNLxWVlbw8/NDXNx/k3+o1WrExcUhMDCw0mMCAwO16gPA/v37NfW9vLygVCq16uTn5+Po0aNVnrM+YQsIEREREZk9dR3O+xoeHo6wsDB06dIF/v7+iImJQWFhIUaNGgUAGDFiBNzd3TVjSN566y089dRTWLx4Mfr3748tW7bgzz//xBdf3J1tTiQS4e2338aHH36I1q1bw8vLCzNnzoSbmxsGDBhQdzdiIExAiIiIiMjs1WRxweoaPHgwsrKyMGvWLKSnp6NTp06IjY3VDCJPTU2FWPxfx6Pu3btj06ZN+OCDD/Dee++hdevW2LlzJ3x9fTV13n33XRQWFmLcuHHIzc1Fjx49EBsbC5lMVmf3YShcB4TIyLgOCNUFrgNCtY3rgFBtM/Q6IIeS7+hVv5evdR1FQmwBISIiIiKzx6/cTQcTECIiIiIye+o67IJF+mECQkRERERmT99peKnuMAEhIiIiIrOnZgJiMpiAEBEREZHZq8tpeEk/TECIiIiIyOyxC5bpYAJCRERERGaPs2CZDiYgRERERGT2OAuW6WACQkRERERmjy0gpoMJCBERERGZPY4BMR1MQIiIiIjI7HEWLNPBBISIiIiIzB67YJkOJiBEREREZPYEDkI3GUxAiIiIiMjsqdTGjoAqMAEhMrL5TRYbOwQyQ7+HJBg7BDIzEbHjjB0CmZ1zBr0au2CZDiYgRERERGT21JwFy2QwASEiIiIis8cWENPBBISIiIiIzB4TENPBBISIiIiIzB7XATEdTECIiIiIyOxxJXTTwQSEiIiIiMweu2CZDiYgRERERGT22AXLdIiNHQARERERUV1Tq/Xb6kpOTg6GDRsGuVyORo0aYfTo0SgoKHhg/cmTJ6Nt27awtrZGs2bN8OabbyIvL0+rnkgk0tm2bNlSdzfyCNgCQkRERERmz1RaQIYNG4a0tDTs378fZWVlGDVqFMaNG4dNmzZVWv/GjRu4ceMGFi1aBB8fH1y9ehXjx4/HjRs38O2332rVXbNmDUJCQjSvGzVqVJe3UmNMQIiIiIjI7JnCGJAzZ84gNjYWx44dQ5cuXQAAn332GZ599lksWrQIbm5uOsf4+vpi+/btmtctW7bERx99hOHDh6O8vBwWFv89zjdq1AhKpbLub+QRsQsWEREREZk9U+iCFR8fj0aNGmmSDwAICgqCWCzG0aNHq32evLw8yOVyreQDACZOnAhHR0f4+/tj9erVEEwh66oEW0CIiIiIyOzp+yxeUlKCkpISrTKpVAqpVFrjGNLT0+Hs7KxVZmFhAQcHB6Snp1frHNnZ2Zg7dy7GjRunVT5nzhw888wzsLGxwU8//YQ33ngDBQUFePPNN2scb11hCwgRERERmT1B0G+Ljo6GQqHQ2qKjoys994wZMyodBH7vdvbs2Ue+h/z8fPTv3x8+Pj6YPXu21r6ZM2fiiSeewOOPP47p06fj3Xffxccff/zI16wLbAEhIiIiIrOn7yD0iIgIhIeHa5VV1frxzjvvYOTIkQ88X4sWLaBUKpGZmalVXl5ejpycnIeO3bh9+zZCQkJgb2+PHTt2wNLS8oH1AwICMHfuXJSUlDxSq01dYAJCRERERGZP3/EQ+nS3cnJygpOT00PrBQYGIjc3F4mJifDz8wMA/Pzzz1Cr1QgICKjyuPz8fAQHB0MqleKHH36ATCZ76LVOnDiBxo0bm1zyATABISIiIqIGwBTGY7dr1w4hISEYO3YsVq5cibKyMkyaNAlDhgzRzIB1/fp19O7dG19//TX8/f2Rn5+Pvn37oqioCBs2bEB+fj7y8/MB3E18JBIJdu3ahYyMDHTr1g0ymQz79+/HvHnzMHXqVGPebpWYgBARERGR2VOpjB3BXRs3bsSkSZPQu3dviMViDBw4EJ9++qlmf1lZGc6dO4eioiIAQFJSkmaGrFatWmmdKyUlBZ6enrC0tMTy5csxZcoUCIKAVq1aYcmSJRg7dqzhbkwPTECIiIiIyOyZykKEDg4OVS46CACenp5a3cV69er10O5jISEhWgsQmjomIERERERk9kyhCxbdxQSEiIiIiMyeoHcTiKhO4iAmIERERETUAJhKFyxiAkJEREREDQC7YJkOJiBEREREZPbUbAIxGUxAiIiIiMjssQXEdDABISIiIiKzxwTEdDABISIiIiKzp2YGYjKYgBARERGR2VOrmICYCiYgRERERGT21GpjR0AVmIAQERERkdkT2AXLZDABISIiIiKzx1l4TQcTECIiIiIyewIzEJMhNnYA9VmvXr3w9ttvGzsMk3To0CGIRCLk5uYaOxQiIiIiCIJ+G9WdWktA4uPjIZFI0L9/fwBARkYGLC0tsWXLlkrrjx49Gp07d9a8zs/Px8yZM/HYY4/B2toaTZo0QdeuXbFw4ULcunWrWjF4enoiJiZG79hrelxDYorJlkgkws6dO3XKR44ciQEDBmiVXbt2Da+//jrc3NxgZWWF5s2b46233sLNmze16lX1szB79mx06tRJ6xoikQgikQiWlpbw8vLCu+++i+Li4lq4s4alj58F3h8uw4evyzDmWSs0kYuqfWyvjhZYMM4aoYGWWuX+3hKMe84KUSNlWDDOGjKr2o6aTNnoYZ7Yua4b4r7tgZi5HdDU1fqB9bd9FYDDu57S2cLHt9LUmTaxNbZ+4Y+4b3tg14ZARL//GJo1ffB5qWFx6NEFXXasQO+rv6F/2Tm4PN/b2CHRfdRqQa+N6k6tJSCrVq3C5MmT8euvv+LGjRtwcXFB//79sXr1ap26hYWF+OabbzB69GgAQE5ODrp164Y1a9Zg6tSpOHr0KJKSkvDRRx/h+PHj2LRpU22FSQ3Q5cuX0aVLF1y4cAGbN2/GxYsXsXLlSsTFxSEwMBA5OTk1Om9ISAjS0tJw+fJlfPLJJ/jf//6HyMjIWo7evD3V0QJP+Fpgx2+lWLazBKXlwOhnrWAhefixTZ1ECGgnwY2butOaWFkA56+pcfB4eR1ETaZs2EAPvPycOxZ9fgHjph7HnWIVlsxpDyvLqhPbseFJeP61I5rt7Q/+AgAcPJylqXPuYgHmLT2HYW8cwzuRf0MkAj6Z0wFi9iOgf0lsbZB/8hyS34wydihUBUEQ9Nqo7tTK/zoLCgqwdetWTJgwAf3798fatWsB3G3liIuLQ2pqqlb9bdu2oby8HMOGDQMAvPfee0hNTUVCQgJGjRqFDh06oHnz5ujbty82b96MN95446Ex9OrVC1evXsWUKVM030xX2L59Ox577DFIpVJ4enpi8eLFDz3u5s2bGDp0KNzd3WFjY4P27dtj8+bNNX6P1q9fjy5dusDe3h5KpRKvvvoqMjMzNfsruizt27cPjz/+OKytrfHMM88gMzMTe/fuRbt27SCXy/Hqq6+iqKhIc1xJSQnefPNNODs7QyaToUePHjh27Jhm/9q1a9GoUSOtWHbu3Kn1/lR8u79+/Xp4enpCoVBgyJAhuH37NoC73/b/8ssvWLp0qeY9unLlSrXu+/fff0eHDh0gk8nQrVs3JCcnA7ibhMrlcnz77bc6sdna2mquXRsmTpwIKysr/PTTT3jqqafQrFkz9OvXDwcOHMD169fx/vvv1+i8UqkUSqUSHh4eGDBgAIKCgrB///5ai7sh6NHeAj8fL8fpq2qk5wj45mAp5DYiPOb54AzEygIY8rQVtv9Whjslun8kDiercOivcqRmcs7FhmbQ8+74+purOHz0Ji5dKcSHn5xFEwcpenZzrPKY3Pwy5OT+t3Xv2gT/3LiD48l5mjo/7EvDX6fykJ5ZgvOXCvDlhitwcZJB6SwzxG1RPZC171ecj4xBxvcHjB0KVUFQ67dR3amVBOSbb76Bt7c32rZti+HDh2P16tUQBAHPPvssXFxcNAlJhTVr1uCll15Co0aNoFarsXXrVgwfPhxubm6Vnv/eh+WqfPfdd2jatCnmzJmDtLQ0pKWlAQASExPxyiuvYMiQIfj7778xe/ZszJw5UxNTVccVFxfDz88Pe/bsQXJyMsaNG4fXXnsNCQkJNXqPysrKMHfuXPz111/YuXMnrly5gpEjR+rUmz17NpYtW4YjR47g2rVreOWVVxATE4NNmzZhz549+Omnn/DZZ59p6r/77rvYvn071q1bh6SkJLRq1QrBwcF6f6t/6dIl7Ny5E7t378bu3bvxyy+/YP78+QCApUuXIjAwEGPHjtW8Rx4eHtU677Rp07B48WIcO3YMTk5OCA0NRVlZGWxtbTFkyBCsWbNGq/6aNWvw8ssvw97eXq/4q5KTk4N9+/bhjTfegLW1dncJpVKJYcOGYevWrY/8TUdycjKOHDkCKyv29akuB3sR5DYiXLiu0pQVlwHXMtVo5vzg/zUN6GGJs9fUuHidfyHoP24uMjg6SHHsxH/ddguLVDh9Ph++3vJqncPCQoS+T7tgz4H0KuvIpGI8G6TEjfQ7yMwueeS4icgwVGq1XhvVnVqZBWvVqlUYPnw4gLvdUvLy8vDLL7+gV69eCAsLw9q1azFz5kyIRCJcunQJv/32m+ab4qysLOTm5qJt27Za5/Tz88O5c+cAAKGhoQ9tfXBwcIBEItG0MFRYsmQJevfujZkzZwIA2rRpg9OnT+Pjjz/GyJEjqzzO3d0dU6dO1byePHky9u3bh2+++Qb+/v56v0evv/665t8tWrTAp59+iq5du6KgoAB2dnaafR9++CGeeOIJAHdbkCIiInDp0iW0aNECAPDyyy/j4MGDmD59OgoLC7FixQqsXbsW/fr1AwB8+eWX2L9/P1atWoVp06ZVOz61Wo21a9dqHvxfe+01xMXF4aOPPoJCoYCVlRVsbGy03qPqiIyMRJ8+fQAA69atQ9OmTbFjxw688sorGDNmDLp37460tDS4uroiMzMTP/74Iw4cqP63R0OHDoVEov1teUlJiWYs0oULFyAIAtq1a1fp8e3atcOtW7eQlZUFZ2dnve5t9+7dsLOzQ3l5OUpKSiAWi7Fs2TK9ztGQ2dvc/WKhoEg7+Su4I8DepurjOraUwM1RjGU7+OBH2hwa3/0C4FZumVb5rdxSzb6HebKbI+xsLfBjnG4C8uKzbpgwsgVsrCW4+k8R3p55EuXl7KZBVF9wXIfpeOQWkHPnziEhIQFDhw4FAFhYWGDw4MFYtWoVgLsP3ikpKTh48CCAu99we3p64plnnnngeXfs2IETJ04gODgYd+7cqXF8Z86c0TzQV3jiiSdw4cIFqFSqKo4CVCoV5s6di/bt28PBwQF2dnbYt2+fTney6kpMTERoaCiaNWsGe3t7PPXUUwCgc74OHTpo/u3i4gIbGxtN8lFRVtF169KlSygrK9O6P0tLS/j7++PMmTN6xefp6anV6lCREDyqwMBAzb8dHBzQtm1bTWz+/v547LHHsG7dOgDAhg0b0Lx5czz55JPVPv8nn3yCEydOaG3PP/+8Tr266Mv59NNP48SJEzh69CjCwsIwatQoDBw48IHHlJSUID8/X2srL2sYD9KdWkkwZ5RMs9Wk77zCVoTQQEts+bkU5VX/+lID0ecpZ/z0TQ/NZmFR/QkMqtK/jxJHE3NwM6dUZ99PhzLw+luJmDjjBK5dL8Lc6T4PHFtCRKaFs2CZjkduAVm1ahXKy8u1uk8JggCpVIply5ahdevW6NmzJ9asWYNevXrh66+/xtixYzXdqpycnNCoUSNNa0eFZs2aAQDs7e2NMpXrxx9/jKVLlyImJgbt27eHra0t3n77bZSW6v5RepjCwkIEBwcjODgYGzduhJOTE1JTUxEcHKxzPkvL/2bzqZhh6V4ikQhqPZoFxWKxzsN3WVmZTr1HvU5NjRkzBsuXL8eMGTOwZs0ajBo1qlpd7ioolUq0atVKq+zen5lWrVpBJBLhzJkzePHFF3WOP3PmDBo3bgwnJycAgFwuR15enk693NxcKBQKrTJbW1vNtVevXo2OHTti1apVmskVKhMdHY2oKO0Bit2few89Qj94+M3Wc6evqnDtnjEZFQPN7WxEuH3nv59RO2sRbtys/P/87o4i2NuI8OZLUk2ZRCyCl6uAwMckeH9VMf9oNCCHE27i9Pk/Na+tLO9mtY0bWeLmrf/+39q4kRUuXi546PlcnKTo0rEx3o8+Ven+wiIVCovu4J+0Ozh1Lh97Nz+BJwMdceDXrErrE5Fp4TogpuORWkDKy8vx9ddfY/HixVrfQP/1119wc3PTdJsaPXo0tm/fju3bt+P69etaYx/EYjFeeeUVbNiwATdu3Hikm7GystJp1WjXrh1+//13rbLff/8dbdq00XTdqey433//HS+88AKGDx+Ojh07okWLFjh//nyN4jp79ixu3ryJ+fPno2fPnvD29q6V1oWWLVvCyspK6/7Kyspw7Ngx+Pj4ALib4N2+fRuFhYWaOidOnND7WpW9R9Xxxx9/aP5969YtnD9/Xqs71PDhw3H16lV8+umnOH36NMLCwvS+xoM0adIEffr0weeff67Tkpaeno6NGzdi8ODBmqSnbdu2SExM1DlPUlIS2rRpU+V1xGIx3nvvPXzwwQcPbLGLiIhAXl6e1tYtpPpd5eqz0jLgZr6g2TJuCcgvEtDK7b8udFJLwMNZXOXg8Ys31FiyrRhLt5dotmuZapy4qMLS7SVMPhqYO3dUuJ5WrNlSUouQnVOCLh0ba+rYWEvg00aO5LP5Dz1f/yAlbuWVIv7YzYfWFQEQiQBLS06DRVRfqAVBr43qziP9n3P37t24desWRo8eDV9fX61t4MCBmm5YgwYNgqWlJf7v//4Pffv21RnAPG/ePLi7u8Pf3x+rV6/GyZMncenSJezYsUOzvkh1eHp64tdff8X169eRnZ0NAHjnnXcQFxeHuXPn4vz581i3bh2WLVumNb6jsuNat26N/fv348iRIzhz5gz+7//+DxkZGTV6n5o1awYrKyt89tlnuHz5Mn744QfMnTu3Rue6l62tLSZMmIBp06YhNjYWp0+fxtixY1FUVKT5Fj4gIAA2NjZ47733cOnSJWzatElnUoDq8PT0xNGjR3HlyhVkZ2dXu3Vkzpw5iIuLQ3JyMkaOHAlHR0etNToaN26Ml156CdOmTUPfvn3RtGlTvWN7mGXLlqGkpATBwcH49ddfce3aNcTGxqJPnz5wd3fHRx99pKk7ZcoU7NmzBx999BHOnDmD5ORkvP/++4iPj8dbb731wOsMGjQIEokEy5cvr7KOVCqFXC7X2iwspVXWN3eH/y7HM50t0K65GMrGIgx+2gr5RQJOXfkv2R3b3wqBj939f0BpGZBxS9DaSssFFBXfLa9gZw24NhFp1hRROojh2kQE64b7VjcY2364jrDBzfCEfxO0aG6LD8K9cTOnBL/9ka2pE/NhB7zUX3vSE5EIeDZIidifM6C6739vbi4yDH/ZA21b2sHFSQpfbznmzvBBSYka8X/WbBpvMj8SWxvIO3pD3tEbAGDj1RTyjt6QebgaOTKqIKgFvba6kpOTg2HDhkEul6NRo0YYPXo0Cgoe3Erbq1cvzUykFdv48eO16qSmpqJ///6wsbGBs7Mzpk2bhvJy05yO/pESkFWrViEoKEinawoADBw4EH/++SdOnjwJGxsbDBkyBLdu3dIajF2hSZMmSEhIwIgRI/Dxxx/D398f7du3x+zZszF48GB8+eWX1Ypnzpw5uHLlClq2bKnpUtO5c2d888032LJlC3x9fTFr1izMmTNHqxWmsuM++OADdO7cGcHBwejVqxeUSqXO4nbV5eTkhLVr12Lbtm3w8fHB/PnzsWjRohqd637z58/HwIED8dprr6Fz5864ePEi9u3bh8aN734D6ODggA0bNuDHH3/UTCU8e/Zsva8zdepUSCQS+Pj4aLqQVTe+t956C35+fkhPT8euXbt0ZooaPXo0SktLK/3ZqA2tW7fGn3/+iRYtWuCVV15By5YtMW7cODz99NOIj4+Hg4ODpm737t2xd+9e7N27F0888QR69eqFI0eOIC4uDr6+vg+8joWFBSZNmoSFCxdqtThR1X75qxxHkssxsKcVJr0ohZUFsHqv9vgOB7kItjL9+tl387HA2wNlePmpuz9rE56X4u2BMvg0r96XGVR/bdx+Dd/uvoF3J7XBl0s6w0YmwTuRf6O07L+HCXelNRrJtbuddunUGEpnGfbs1x18XlKmRsfHFPg4sj22/M8fUe+2Q9EdFca/exy5ebpdWqlhUvj5ouef36Pnn98DAHwWvYeef36PNrPfNHJkVMFUEpBhw4bh1KlT2L9/P3bv3o1ff/0V48aNe+hx985GmpaWhoULF2r2qVQq9O/fH6WlpThy5AjWrVuHtWvXYtasWXV2H49CJHClFTKy9evXY8qUKbhx40aDnMZ2+hc1n2SBqCq/76rZlOFEVYmIffgDEpE++pede3ilWjTh41y96q+Y1qjWYzhz5gx8fHxw7NgxdOnSBQAQGxuLZ599Fv/880+VS1L06tULnTp1QkxMTKX79+7di+eee06zGDgArFy5EtOnT0dWVpbJPV+x8yoZTVFRES5duoT58+fj//7v/0zul4OIiIjMhym0gMTHx6NRo0aa5AMAgoKCIBaLcfTo0Qceu3HjRjg6OsLX1xcRERFaC1PHx8ejffv2muQDAIKDg5Gfn49TpyqfWMOY6k0C8ttvv8HOzq7KjbEZ1vjx46u83/v7JFZl4cKF8Pb2hlKpREREhNa+efPmVXn+ijVPiIiIiKpLEAS9tsqmzi8pebSp89PT03XWHbOwsICDgwPS06teAPXVV1/Fhg0bcPDgQURERGD9+vWaNfgqzntv8gFA8/pB5zWWWlmI0BC6dOlSo9mbDMGUY6src+bM0RrIfy+5vHorDs+ePbvK8Sjjx4/HK6+8Uum++1c0JyIiInoY1f0zTDxEZVPnR0ZGVvrsMmPGDCxYsOCB59N3jbZ73TtGpH379nB1dUXv3r1x6dIltGzZssbnNZZ6k4BYW1vrrPdgKkw5trri7Oys98rh+nBwcNAaHE5ERET0KPTtVhUREYHw8HCtMqm08ukU33nnHa0JjirTokULKJVKnaUYysvLkZOTA6VSWe3YAgICAAAXL15Ey5YtoVQqkZCgPfavYvZWfc5rKPUmASEiIiIiqil9ExCpVFplwnE/JycnzUyqDxIYGIjc3FwkJibCz88PAPDzzz9DrVZrkorqqOh54+rqqjnvRx99hMzMTM0XxPv374dcLtesDWdK6s0YECIiIiKimjKFhQjbtWuHkJAQjB07FgkJCfj9998xadIkDBkyRDMD1vXr1+Ht7a1p0bh06RLmzp2LxMREXLlyBT/88ANGjBiBJ598Eh06dAAA9O3bFz4+Pnjttdfw119/Yd++/2/vzoOiuPI4gH+HcRgORUURBIExQQ5dJXETvOJqYpSoMYYQvHA9whrUrBrLYz0DhfGIiRETTW0OQSWiqIhl0Egi5bGrCC6IirKoKGoh0RJRVAxy/PYPly7GAblhgt9P1VQxfbz+dc/rx/y6+72Jw5IlS/DRRx9VO4lqTExAiIiIiKjZM4ZRsIAno1m5u7tj0KBBGDZsGF577TV89913yvyioiJkZGQoo1yZmpri4MGDGDJkCNzd3TFnzhz4+vrip59+UtZRq9WIjY2FWq1Gnz59MH78eEyYMAEhISENth91wUewiIiIiKjZM5afvrO2tkZkZGSl83U6nV6sjo6OOHLkSJXlOjs7Y//+/fUSY0NjAkJEREREzV5pA97VoJphAkJEREREzV5DPlZFNcMEhIiIiIiaPWN5BIuYgBARERHRc6CkuKSpQ6D/YwJCRERERM0e74AYDyYgRERERNTssQ+I8WACQkRERETNHhMQ48EEhIiIiIiavVIpbeoQ6P+YgBARERFRs8c7IMaDCQgRERERNXtMQIwHExAiIiIiavY4CpbxYAJCRERERM1eaSn7gBgLJiBERERE1OyVlvCHCI0FExAiIiIiavbYB8R4MAEhIiIiomaPCYjxYAJCRERERM0efwfEeDABISIiIqJmj3dAjAcTECIiIiJq9oSjYBkNJiBERERE1OzxDojxYAJCRERERM2esA+I0WACQkRERETNXinvgBgNJiBERERE1OyxD4jxYAJCRERERM0efwndeDABISIiIqJmj53QjQcTECIiIiJq9vgIlvFQiQjTQSIyeoWFhVi5ciUWLlwIrVbb1OFQM8A6RfWNdYqoepiAENEfQn5+Plq3bo179+7BysqqqcOhZoB1iuob6xRR9Zg0dQBERERERPT8YAJCRERERESNhgkIERERERE1GiYgRPSHoNVqERQUxI6dVG9Yp6i+sU4RVQ87oRMRERERUaPhHRAiIiIiImo0TECIiIiIiKjRMAEhIiIiIqJGwwSEiGrs8OHDUKlUuHv3bpPFsGnTJrRp06bJtk9ExmHgwIH4+OOPmzoMo2QMbTVRRZiAEFGVnv4H37dvX+Tk5KB169ZNFxQ912qTgFb2RbWish49eoSgoCC4urpCq9Wiffv28PPzw7lz5/SWmzRpEt59912DMp/+4rdp0yaoVCqoVCqYmJigY8eOGD16NK5du1ajfahKQkIC1Go1hg8fDgC4efMmNBoNtm/fXuHyAQEB6Nmzp/I+Pz8fS5cuRbdu3WBubo527drh1VdfxerVq5GXl1etGHQ6HUJDQ2sce23Xe54YY7KlUqmwZ88eg+kVnRvXr1/HBx98AHt7e5iamsLZ2RmzZs1Cbm6u3nKV1YXg4GC89NJLetsoO680Gg06d+6M+fPn4/fff6+HPaOGxASEiGrM1NQUdnZ2UKlUTR1KoyspKUFpaWlTh0ENqLCwEG+++SbCwsLw6aef4sKFC9i/fz+Ki4vRq1cvnDhxolblWllZIScnB9nZ2YiOjkZGRgb8/PzqNfaNGzdixowZOHr0KG7cuAFbW1sMHz4cYWFhBss+fPgQO3bsQEBAAADgzp076N27N8LDwzF37lwkJiYiJSUFy5cvx6lTpxAZGVmvsdLz5fLly3jllVdw8eJFbNu2DZcuXcI///lPxMfHo0+fPrhz506tyn3rrbeQk5ODy5cvY+3atfj2228RFBRUz9FTfWMCQkTPNGnSJBw5cgTr1q1TrjSVXc0tf3W3TZs2iI2NhZubGywsLPD++++joKAAmzdvhk6nQ9u2bTFz5kyUlJQoZRcWFmLu3LlwcHCApaUlevXqhcOHD9covri4OHh4eKBly5bKP6IypaWlCAkJQadOnaDVavHSSy/hwIEDyvyKHk9ITU2FSqVCVlaW3r7t3bsXXbt2hVarrfer1s+r0tJSrF69Gi4uLtBqtXBycsLy5cuRlZUFlUqF3bt34/XXX4eFhQU8PT2RkJAA4MnnNnnyZNy7d0+pk8HBwfUWV2hoKBISEhAbG4tRo0bB2dkZXl5eiI6OhoeHBwICAlCbEexVKhXs7OzQsWNH9O3bFwEBAUhKSkJ+fn69xP3gwQNERUVh2rRpGD58ODZt2gTgyV2O+Ph4g3q7c+dOFBcXw9/fHwCwaNEiXLt2DUlJSZg8eTJ69OgBZ2dnDBkyBNu2bcP06dOrjGHgwIG4evUqZs+erXw2ZaKjo9GtWzdotVrodDqsWbOmyvVyc3MxduxYODg4wMLCAt27d8e2bdtqfYwiIiLwyiuvoFWrVrCzs8O4ceNw69YtZX5ZmxAXF4eXX34Z5ubmeOONN3Dr1i38/PPP8PDwgJWVFcaNG4eCggJlvcLCQsycORMdOnSAmZkZXnvtNZw8eVKZX9Fdtj179ugdn7Kr+xEREdDpdGjdujXGjBmD+/fvA6i4LS5rp6py7Ngx9OjRA2ZmZujduzfS0tIAPElCrayssGvXLoPYLC0tlW3Xh48++gimpqb45ZdfMGDAADg5OWHo0KE4ePAgsrOzsXjx4lqVq9VqYWdnB0dHR7z77rt488038euvv9Zb3NQwmIAQ0TOtW7cOffr0wZQpU5CTk4OcnBw4OjoaLFdQUICvvvoK27dvx4EDB3D48GH4+Phg//792L9/PyIiIvDtt9/q/aP7+9//joSEBGzfvh1nzpyBn58f3nrrLVy8eLFasRUUFOCLL75AREQEjh49imvXrmHu3Ll6sa9ZswZffPEFzpw5A29vb7zzzjvVLr/8dj777DP88MMPOHfuHDp06FCj9aliCxcuxKpVq7B06VKcP38ekZGRsLW1VeYvXrwYc+fORWpqKlxdXTF27FgUFxejb9++CA0NVe4o5OTk6H3udRUZGYnBgwfD09NTb7qJiQlmz56N8+fP4/Tp03Xaxq1btxATEwO1Wg21Wl2nssrs2LED7u7ucHNzw/jx4xEWFgYRwbBhw2Bra6skJGXCw8Px3nvvoU2bNigtLUVUVBTGjx8Pe3v7Csuvzh3P3bt3o1OnTggJCVE+GwBITk7GqFGjMGbMGJw9exbBwcFYunSpElNl6/3+++/485//jH379iEtLQ0ffvgh/vrXvyIpKalWx6ioqAjLli3D6dOnsWfPHmRlZWHSpEkGywUHB2P9+vU4fvw4rl+/jlGjRiE0NBSRkZHYt28ffvnlF3z99dfK8vPnz0d0dDQ2b96MlJQUuLi4wNvbu8ZX9TMzM7Fnzx7ExsYiNjYWR44cwapVqwBUvy2uyLx587BmzRqcPHkSNjY2GDFiBIqKimBpaYkxY8YgPDxcb/nw8HC8//77aNWqVY3ir8ydO3cQFxeH6dOnw9zcXG+enZ0d/P39ERUVVavEvry0tDQcP34cpqamdSqHGoEQEVVhwIABMmvWLOX9oUOHBIDk5eWJiEh4eLgAkEuXLinLBAYGioWFhdy/f1+Z5u3tLYGBgSIicvXqVVGr1ZKdna23rUGDBsnChQurjKmibW7YsEFsbW2V9/b29rJ8+XK99V599VWZPn16hfshInLq1CkBIFeuXNHbTmpqapUxUfXl5+eLVquV77//3mDelStXBID88MMPyrRz584JAElPTxeRJ59L69ata7TNAQMGiEajEUtLS72XVqvVK8vMzEyvvpeXkpIiACQqKkpERCZOnCgjR440WK6yc8TS0lIsLCwEgACQmTNn1mgfnqVv374SGhoqIiJFRUXSvn17OXTokIiILFiwQDp37iylpaUiInLp0iVRqVRy8OBBERH57bffBIB8+eWXemX27NlTOU5jxoypVhzOzs6ydu1avWnjxo2TwYMH602bN2+edO3a9ZnrVWT48OEyZ84c5f3T7VNNnDx5UgAo7VTZ51Z2XEREVq5cKQAkMzNTmRYYGCje3t4iIvLgwQPRaDSydetWZf7jx4/F3t5eVq9eLSIV19eYmBgp/zUsKChILCwsJD8/X5k2b9486dWrV633tWx/tm/frkzLzc0Vc3NzpQ4nJiaKWq2WGzduiIjIzZs3pUWLFnL48OFqbQOAmJmZGZxXLVq0UM6NEydOCACJiYmpsIwvv/xSAMjNmzdFpPK6EBQUJJ6ensr7iRMnilqtVs5jAGJiYiK7du2qVuzUdHgHhIjqhYWFBV588UXlva2tLXQ6HVq2bKk3rexxh7Nnz6KkpASurq5o2bKl8jpy5AgyMzNrtc2OHTsq5efn5+PGjRvo16+f3jr9+vVDenp6jfbN1NQUPXr0qNE69Gzp6ekoLCzEoEGDKl2m/DHv2LEjAOg9LlMb/v7+SE1N1XuFhIQYLCd1vBJbkVatWiE1NRX/+c9/sGbNGvTs2RPLly+vl7IzMjKQlJSEsWPHAgBatGiB0aNHY+PGjQCADz74AFeuXMGhQ4cAPLnCrdPp8MYbbzyz3JiYGKSmpsLb2xuPHj2qdXzp6ekVnosXL17UeyzzaSUlJVi2bBm6d+8Oa2trtGzZEnFxcbV+DDI5ORkjRoyAk5MTWrVqhQEDBgCAQXnl656trS0sLCzwwgsv6E0rq4uZmZkoKirS2z+NRgMvL68atzU6nU7vrkP5Nq0u+vTpo/xtbW0NNzc3JTYvLy9069YNmzdvBgD8+OOPcHZ2xl/+8pdql7927VqD8+qdd94xWK4hzqvXX38dqampSExMxMSJEzF58mT4+vrW+3aofrVo6gCIqHnQaDR678tGJXl6WlkH7gcPHkCtViM5OdngEZTySUtNt1mTf3AmJk+uwZRfp6ioyGA5c3Pz57LDfUN6+jGMipT/fMuOf10HAGjdujVcXFz0pj39SJ2rq2ulXxzLpru6ugJ40rH86tWrBsvdvXsXarUalpaWyjQTExNl2x4eHsjMzMS0adMQERFR+x36v40bN6K4uFjv8SkRgVarxfr169GlSxf0798f4eHhGDhwILZs2YIpU6Yox9XGxgZt2rRBRkaGXrlOTk4AniRPTTGU6+eff45169YhNDQU3bt3h6WlJT7++GM8fvy4xmU9fPgQ3t7e8Pb2xtatW2FjY4Nr167B29vboLyn696z2rLqMDExMWibKmpr6rqd2vrb3/6GDRs2YMGCBQgPD8fkyZNr1ObZ2dkZnFfl64yLiwtUKhXS09Ph4+NjsH56ejratm0LGxsbAE/Oq3v37hksd/fuXYPRFy0tLZVth4WFwdPTExs3blQGVyDjxDsgRFQlU1PTZ16lrI2XX34ZJSUluHXrFlxcXPRednZ2dS7fysoK9vb2OHbsmN70Y8eOoWvXrgCg/LMr33E9NTW1ztumqnXp0gXm5uaIj4+v1foNUSfLjBkzBgcPHjTo51FaWoq1a9eia9euSv8QNzc3nDt3DoWFhXrLpqSkoHPnzgZfKMtbsGABoqKikJKSUqd4i4uLsWXLFqxZs0bvCvTp06dhb2+vdNoOCAhAdHQ0oqOjkZ2drdf3wcTEBKNGjcKPP/6IGzdu1Cmeij4bDw+PCs9FV1dX5QJEResdO3YMI0eOxPjx4+Hp6YkXXngBFy5cqFVc//3vf5Gbm4tVq1ahf//+cHd3r5e7Cy+++CJMTU319q+oqAgnT57Ua2vu37+Phw8fKsvUpq2pbb0vP3JbXl4eLly4AA8PD2Xa+PHjcfXqVXz11Vc4f/48Jk6cWONtPEu7du0wePBgfPPNNwZ30n777Tds3boVo0ePVpIeNzc3JCcnG5STkpKiJP8VMTExwaJFi7BkyZI63bGjhscEhIiqpNPpkJiYiKysLNy+fbtersi5urrC398fEyZMwO7du3HlyhUkJSVh5cqV2LdvXz1E/aTj5WeffYaoqChkZGRgwYIFSE1NxaxZswA8uSrn6OiI4OBgXLx4Efv27dMbmYcajpmZGf7xj39g/vz52LJlCzIzM3HixAnlkaGq6HQ6PHjwAPHx8bh9+7beiER1NXv2bHh5eWHEiBHYuXMnrl27hpMnT8LX1xfp6enYuHGj8kXJ398fKpUKEyZMQHJyMi5duoSwsDCEhoZizpw5z9yOo6MjfHx88Mknn9Qp3tjYWOTl5SEgIAB/+tOf9F6+vr7KMfXz84NGo0FgYCCGDBli0IF5xYoVcHBwgJeXF8LCwnDmzBlkZmYiJiZG+X2R6tDpdDh69Ciys7Nx+/ZtAMCcOXMQHx+PZcuW4cKFC9i8eTPWr1+vN3hARet16dIFv/76K44fP4709HQEBgbi5s2btTpOTk5OMDU1xddff43Lly9j7969WLZsWa3KKs/S0hLTpk3DvHnzcODAAZw/fx5TpkxBQUGBchW+V69esLCwwKJFi5CZmYnIyEiDQQGqo7ZtcUhICOLj45GWloZJkyahffv2er/R0bZtW7z33nuYN28ehgwZgk6dOtU4tqqsX78ehYWF8Pb2xtGjR3H9+nUcOHAAgwcPhoODg97jiLNnz8a+ffuwfPlypKenIy0tDYsXL0ZCQoLSflfGz88ParUaGzZsqPd9oHrUlB1QiOiPISMjQ3r37i3m5uYCQOlQW76D7dMdLJ/uLChi2GH38ePH8sknn4hOpxONRiMdO3YUHx8fOXPmTJUxVadTZ0lJiQQHB4uDg4NoNBrx9PSUn3/+WW+df//739K9e3cxMzOT/v37y86dOw06ode0szNVT0lJiXz66afi7OwsGo1GnJycZMWKFUon9FOnTinL5uXlCQClU7WIyNSpU6Vdu3YCQIKCgqrcXmUdeCv6jB8+fCiLFy8WFxcX0Wg0Ym1tLb6+vnL27FmD9TMyMsTHx0fs7e3F0tJSPD095fvvv1c6fFe2DRGRhIQEASCJiYlVxl+Zt99+W4YNG1bhvMTERAEgp0+fFhGRDz/8UADIjh07Klz+7t27snDhQnF3dxetVivm5ubSo0cPWbp0qeTm5lYrnoSEBOnRo4fSKbjMrl27pGvXrspn/fnnn1e5Xm5urowcOVJatmwpHTp0kCVLlsiECRP02pGadMyOjIwUnU4nWq1W+vTpI3v37tWraxUNTFGd9u3Ro0cyY8YMad++vWi1WunXr58kJSXprRMTEyMuLi5ibm4ub7/9tnz33XcGndCfbjPXrl0rzs7Oyvun2+KydqoyZfvz008/Sbdu3cTU1FS8vLyU+lBefHz8M+tGZVBJ5/KKBmjIysqSiRMniq2trWg0GnF0dJQZM2bI7du3DdaPi4uTfv36Sdu2baVdu3YycOBAOXLkSJXbEHkycICNjY08ePCgRvtCjUcl0gA9goiIiIjoDyMiIgKzZ8/GjRs3OIwtNTh2QiciIiJ6ThUUFCAnJwerVq1CYGAgkw9qFOwDQkRGaejQoXrD85Z/rVixoqnDIyPzr3/9q9L6Ut1R1ahqxnycjTm2hjJ16tRK93fq1KnVKmP16tVwd3eHnZ0dFi5cqDdvxYoVlZY/dOjQhtglek7wESwiMkrZ2dmVjmJibW0Na2vrRo6IjNmjR4+QnZ1d6fynhwil2jHm42zMsTWUW7duIT8/v8J5VlZWBkNM19SdO3cq/TV3c3NzODg41Kl8en4xASEiIiIiokbDR7CIiIiIiKjRMAEhIiIiIqJGwwSEiIiIiIgaDRMQIiIiIiJqNExAiIiIiIio0TABISIiIiKiRsMEhIiIiIiIGg0TECIiIiIiajRMQIiIiIiIqNEwASEiIiIiokbDBISIiIiIiBoNExAiIiIiImo0TECIiIiIiKjR/A8YHtB+lOFnWgAAAABJRU5ErkJggg==' width=800.0/>\n",
       "            </div>\n",
       "        "
      ],
      "text/plain": [
       "Canvas(toolbar=Toolbar(toolitems=[('Home', 'Reset original view', 'home', 'home'), ('Back', 'Back to previous …"
      ]
     },
     "metadata": {},
     "output_type": "display_data"
    }
   ],
   "source": [
    "plt.figure(figsize=(8,6))\n",
    "\n",
    "axes1 = plt.subplot(2,1,1)\n",
    "axes1.scatter(df2['time_hour'], df2['cnt_HOUR'])\n",
    "plt.title('Peak_Time_Scatter Chart')\n",
    "\n",
    "axes2 = plt.subplot(2,1,2)\n",
    "sns.heatmap(df2.corr(), annot = True, cmap = 'coolwarm')\n",
    "plt.title('corr_heatmap')\n",
    "\n",
    "plt.tight_layout()\n",
    "\n",
    "plt.show()"
   ]
  },
  {
   "cell_type": "code",
   "execution_count": 151,
   "id": "b95be81b-32e2-4534-80fd-7611984b0592",
   "metadata": {},
   "outputs": [
    {
     "name": "stdout",
     "output_type": "stream",
     "text": [
      "0.00004442707559947090\n"
     ]
    }
   ],
   "source": [
    "statistic, pvalue = pearsonr(df2['cnt_HOUR'], df2['AVG_total_amount_by_HOUR'])\n",
    "print(f'{pvalue:.20f}')"
   ]
  },
  {
   "cell_type": "markdown",
   "id": "b2c42ba0-4064-4ad1-b377-ed3ce0e3e3dc",
   "metadata": {},
   "source": [
    "#### 2-2-5) 결론"
   ]
  },
  {
   "cell_type": "markdown",
   "id": "623ef85e-ee5a-4c8b-a7c7-0b22beaeb54f",
   "metadata": {},
   "source": [
    "<span style=\"\n",
    "display : block;\n",
    "background-color:#fff5b1;\n",
    "color : red;\n",
    "font-size : 20px;\n",
    "font-weight : bold;\n",
    "text-align : center;\">[결론]</span>\n",
    "\n",
    "- 피크 시간은 13시 ~ 18시에 많다.\n",
    "- 시간 당 이용횟수가 증가할 수록, 시간 당 지불하는 총 금액의 평균은 낮아진다.\n",
    "- 피크 시간에는 짧은 운임요금이 많으며 이는 짧은 거리일 수도 있다는 생각이 들게 된다.\n",
    "- p-value 역시 시간 당 이용횟수와 시간 당 지불하는 총 금액의 평균이 매우 작은 값을 나타내고 있어, 두 변수간 상관관계가 없다는 귀무가설은 기각된다.\n",
    "- 상관계수 역시, -0.73으로 음의 방향으로 강함을 확인할 수 있다.\n",
    "- 즉, 시간 당 이용횟수는 시간 당 지불하는 총 금액의 평균과 음의 상관관계를 띄고 있다."
   ]
  },
  {
   "cell_type": "markdown",
   "id": "c01e8032-8c63-4972-a0b2-d87c9625cf04",
   "metadata": {},
   "source": [
    "### 3. 지불 유형별 요금, 팁 분석"
   ]
  },
  {
   "cell_type": "code",
   "execution_count": 12,
   "id": "5c62d718-7ec6-462e-aade-e74638984eb9",
   "metadata": {},
   "outputs": [
    {
     "name": "stderr",
     "output_type": "stream",
     "text": [
      "[Stage 24:==================================================>     (10 + 1) / 11]\r"
     ]
    },
    {
     "name": "stdout",
     "output_type": "stream",
     "text": [
      "+------------+--------------------+-------------------+\n",
      "|payment_type|     avg(tip_amount)|  avg(total_amount)|\n",
      "+------------+--------------------+-------------------+\n",
      "|        null|  1.6014479849597305|  31.85317404211856|\n",
      "|           1|  2.8802551464734534|  18.89057563281757|\n",
      "|           2|3.441382791272625...|  15.42127102120272|\n",
      "|           3|-0.01341663187366456| 18.068943070461756|\n",
      "|           4|0.005909593724859213|-2.7711340171627312|\n",
      "|           5|                 0.0|               17.8|\n",
      "+------------+--------------------+-------------------+\n",
      "\n"
     ]
    },
    {
     "name": "stderr",
     "output_type": "stream",
     "text": [
      "                                                                                \r"
     ]
    }
   ],
   "source": [
    "ss.sql('''\n",
    "    SELECT\n",
    "        payment_type\n",
    "        , AVG(tip_amount)\n",
    "        , AVG(total_amount)\n",
    "    FROM table1 as A\n",
    "\n",
    "    GROUP BY payment_type\n",
    "    ORDER BY payment_type\n",
    "    \n",
    "''').show()"
   ]
  },
  {
   "cell_type": "markdown",
   "id": "8c2dfe79-f61b-499b-a125-03cdbb12e98d",
   "metadata": {},
   "source": [
    "### 4. 승차 지역 / 하차 지역별 평균거리, 요금"
   ]
  },
  {
   "cell_type": "code",
   "execution_count": 13,
   "id": "bd1b1ab0-7f74-49f3-aa0f-1615638bba13",
   "metadata": {
    "scrolled": true
   },
   "outputs": [
    {
     "name": "stderr",
     "output_type": "stream",
     "text": [
      "[Stage 27:==================================================>     (10 + 1) / 11]\r"
     ]
    },
    {
     "name": "stdout",
     "output_type": "stream",
     "text": [
      "+------------+--------------------+------------+--------------------+-----------------+----------------+---+\n",
      "|PULocationID|             PU_Zone|DOLocationID|             DO_Zone|AVG_trip_distance|AVG_total_amount|cnt|\n",
      "+------------+--------------------+------------+--------------------+-----------------+----------------+---+\n",
      "|           3|Allerton/Pelham G...|          57|              Corona|              4.8|           39.81|  2|\n",
      "|           3|Allerton/Pelham G...|          89|Flatbush/Ditmas Park|            23.01|           74.73|  2|\n",
      "|           4|       Alphabet City|         185|      Pelham Parkway|            10.91|           42.06| 11|\n",
      "|           7|             Astoria|          55|        Coney Island|            14.82|           59.38| 23|\n",
      "|           7|             Astoria|         132|         JFK Airport|            14.19|           49.42| 77|\n",
      "|          10|        Baisley Park|          85|             Erasmus|            11.19|           49.95| 29|\n",
      "|          10|        Baisley Park|         264|                  NV|              1.5|            38.1| 41|\n",
      "|          11|          Bath Beach|         155|Marine Park/Mill ...|             6.41|           29.15|  3|\n",
      "|          12|        Battery Park|         115| Grymes Hill/Clifton|            12.04|           50.04|  2|\n",
      "|          14|           Bay Ridge|         175|     Oakland Gardens|            27.08|           74.23|  1|\n",
      "|          17|             Bedford|         138|   LaGuardia Airport|             9.46|           37.24| 33|\n",
      "|          18|        Bedford Park|          68|        East Chelsea|            14.32|           55.16|  6|\n",
      "|          18|        Bedford Park|          95|        Forest Hills|            14.62|            52.8|  6|\n",
      "|          18|        Bedford Park|         185|      Pelham Parkway|             3.47|           26.63| 38|\n",
      "|          18|        Bedford Park|         217|  South Williamsburg|            21.74|           80.16|  1|\n",
      "|          21|    Bensonhurst East|         140|     Lenox Hill East|            15.22|           52.28| 24|\n",
      "|          24|        Bloomingdale|         210|      Sheepshead Bay|             23.8|           77.35|  1|\n",
      "|          25|         Boerum Hill|          61| Crown Heights North|             2.78|           18.69|267|\n",
      "|          28|Briarwood/Jamaica...|          16|             Bayside|              5.1|            31.2|  7|\n",
      "|          28|Briarwood/Jamaica...|          63|       Cypress Hills|              6.9|           37.81|  1|\n",
      "+------------+--------------------+------------+--------------------+-----------------+----------------+---+\n",
      "only showing top 20 rows\n",
      "\n"
     ]
    },
    {
     "name": "stderr",
     "output_type": "stream",
     "text": [
      "                                                                                \r"
     ]
    }
   ],
   "source": [
    "ss.sql('''\n",
    "    SELECT\n",
    "        A.PULocationID\n",
    "        , MAX(B.Zone) as PU_Zone\n",
    "        , A.DOLocationID\n",
    "        , MAX(C.Zone) as DO_Zone\n",
    "        , ROUND(AVG(A.trip_distance), 2) as AVG_trip_distance\n",
    "        , ROUND(AVG(A.total_amount), 2) as AVG_total_amount\n",
    "        , COUNT(*) as cnt -- 건수 체크\n",
    "    FROM table1 as A\n",
    "\n",
    "    INNER JOIN table2 as B\n",
    "    ON A.PULocationID = B.LocationID\n",
    "\n",
    "    INNER JOIN table2 as C\n",
    "    on A.DOLocationID = C.LocationID\n",
    "\n",
    "    GROUP BY A.PULocationID, A.DOLocationID\n",
    "''').show()"
   ]
  },
  {
   "cell_type": "code",
   "execution_count": 14,
   "id": "ac565b32-5316-487f-b748-d20d0362d9d4",
   "metadata": {
    "scrolled": true
   },
   "outputs": [
    {
     "name": "stderr",
     "output_type": "stream",
     "text": [
      "                                                                                \r"
     ]
    },
    {
     "data": {
      "text/html": [
       "<div>\n",
       "<style scoped>\n",
       "    .dataframe tbody tr th:only-of-type {\n",
       "        vertical-align: middle;\n",
       "    }\n",
       "\n",
       "    .dataframe tbody tr th {\n",
       "        vertical-align: top;\n",
       "    }\n",
       "\n",
       "    .dataframe thead th {\n",
       "        text-align: right;\n",
       "    }\n",
       "</style>\n",
       "<table border=\"1\" class=\"dataframe\">\n",
       "  <thead>\n",
       "    <tr style=\"text-align: right;\">\n",
       "      <th></th>\n",
       "      <th>PULocationID</th>\n",
       "      <th>PU_Zone</th>\n",
       "      <th>DOLocationID</th>\n",
       "      <th>DO_Zone</th>\n",
       "      <th>AVG_trip_distance</th>\n",
       "      <th>AVG_total_amount</th>\n",
       "      <th>cnt</th>\n",
       "    </tr>\n",
       "  </thead>\n",
       "  <tbody>\n",
       "    <tr>\n",
       "      <th>0</th>\n",
       "      <td>3</td>\n",
       "      <td>Allerton/Pelham Gardens</td>\n",
       "      <td>57</td>\n",
       "      <td>Corona</td>\n",
       "      <td>4.80</td>\n",
       "      <td>39.81</td>\n",
       "      <td>2</td>\n",
       "    </tr>\n",
       "    <tr>\n",
       "      <th>1</th>\n",
       "      <td>3</td>\n",
       "      <td>Allerton/Pelham Gardens</td>\n",
       "      <td>89</td>\n",
       "      <td>Flatbush/Ditmas Park</td>\n",
       "      <td>23.01</td>\n",
       "      <td>74.73</td>\n",
       "      <td>2</td>\n",
       "    </tr>\n",
       "    <tr>\n",
       "      <th>2</th>\n",
       "      <td>4</td>\n",
       "      <td>Alphabet City</td>\n",
       "      <td>185</td>\n",
       "      <td>Pelham Parkway</td>\n",
       "      <td>10.91</td>\n",
       "      <td>42.06</td>\n",
       "      <td>11</td>\n",
       "    </tr>\n",
       "    <tr>\n",
       "      <th>3</th>\n",
       "      <td>7</td>\n",
       "      <td>Astoria</td>\n",
       "      <td>55</td>\n",
       "      <td>Coney Island</td>\n",
       "      <td>14.82</td>\n",
       "      <td>59.38</td>\n",
       "      <td>23</td>\n",
       "    </tr>\n",
       "    <tr>\n",
       "      <th>4</th>\n",
       "      <td>7</td>\n",
       "      <td>Astoria</td>\n",
       "      <td>132</td>\n",
       "      <td>JFK Airport</td>\n",
       "      <td>14.19</td>\n",
       "      <td>49.42</td>\n",
       "      <td>77</td>\n",
       "    </tr>\n",
       "    <tr>\n",
       "      <th>...</th>\n",
       "      <td>...</td>\n",
       "      <td>...</td>\n",
       "      <td>...</td>\n",
       "      <td>...</td>\n",
       "      <td>...</td>\n",
       "      <td>...</td>\n",
       "      <td>...</td>\n",
       "    </tr>\n",
       "    <tr>\n",
       "      <th>46178</th>\n",
       "      <td>264</td>\n",
       "      <td>NV</td>\n",
       "      <td>191</td>\n",
       "      <td>Queens Village</td>\n",
       "      <td>11.14</td>\n",
       "      <td>39.56</td>\n",
       "      <td>31</td>\n",
       "    </tr>\n",
       "    <tr>\n",
       "      <th>46179</th>\n",
       "      <td>265</td>\n",
       "      <td>NA</td>\n",
       "      <td>94</td>\n",
       "      <td>Fordham South</td>\n",
       "      <td>7.15</td>\n",
       "      <td>34.97</td>\n",
       "      <td>117</td>\n",
       "    </tr>\n",
       "    <tr>\n",
       "      <th>46180</th>\n",
       "      <td>265</td>\n",
       "      <td>NA</td>\n",
       "      <td>116</td>\n",
       "      <td>Hamilton Heights</td>\n",
       "      <td>7.07</td>\n",
       "      <td>36.21</td>\n",
       "      <td>476</td>\n",
       "    </tr>\n",
       "    <tr>\n",
       "      <th>46181</th>\n",
       "      <td>265</td>\n",
       "      <td>NA</td>\n",
       "      <td>133</td>\n",
       "      <td>Kensington</td>\n",
       "      <td>6.22</td>\n",
       "      <td>35.51</td>\n",
       "      <td>154</td>\n",
       "    </tr>\n",
       "    <tr>\n",
       "      <th>46182</th>\n",
       "      <td>265</td>\n",
       "      <td>NA</td>\n",
       "      <td>230</td>\n",
       "      <td>Times Sq/Theatre District</td>\n",
       "      <td>9.71</td>\n",
       "      <td>44.33</td>\n",
       "      <td>229</td>\n",
       "    </tr>\n",
       "  </tbody>\n",
       "</table>\n",
       "<p>46183 rows × 7 columns</p>\n",
       "</div>"
      ],
      "text/plain": [
       "       PULocationID                  PU_Zone  DOLocationID  \\\n",
       "0                 3  Allerton/Pelham Gardens            57   \n",
       "1                 3  Allerton/Pelham Gardens            89   \n",
       "2                 4            Alphabet City           185   \n",
       "3                 7                  Astoria            55   \n",
       "4                 7                  Astoria           132   \n",
       "...             ...                      ...           ...   \n",
       "46178           264                       NV           191   \n",
       "46179           265                       NA            94   \n",
       "46180           265                       NA           116   \n",
       "46181           265                       NA           133   \n",
       "46182           265                       NA           230   \n",
       "\n",
       "                         DO_Zone  AVG_trip_distance  AVG_total_amount  cnt  \n",
       "0                         Corona               4.80             39.81    2  \n",
       "1           Flatbush/Ditmas Park              23.01             74.73    2  \n",
       "2                 Pelham Parkway              10.91             42.06   11  \n",
       "3                   Coney Island              14.82             59.38   23  \n",
       "4                    JFK Airport              14.19             49.42   77  \n",
       "...                          ...                ...               ...  ...  \n",
       "46178             Queens Village              11.14             39.56   31  \n",
       "46179              Fordham South               7.15             34.97  117  \n",
       "46180           Hamilton Heights               7.07             36.21  476  \n",
       "46181                 Kensington               6.22             35.51  154  \n",
       "46182  Times Sq/Theatre District               9.71             44.33  229  \n",
       "\n",
       "[46183 rows x 7 columns]"
      ]
     },
     "execution_count": 14,
     "metadata": {},
     "output_type": "execute_result"
    }
   ],
   "source": [
    "ss.sql('''\n",
    "    SELECT\n",
    "        A.PULocationID\n",
    "        , MAX(B.Zone) as PU_Zone\n",
    "        , A.DOLocationID\n",
    "        , MAX(C.Zone) as DO_Zone\n",
    "        , ROUND(AVG(A.trip_distance), 2) as AVG_trip_distance\n",
    "        , ROUND(AVG(A.total_amount), 2) as AVG_total_amount\n",
    "        , COUNT(*) as cnt -- 건수 체크\n",
    "    FROM table1 as A\n",
    "\n",
    "    INNER JOIN table2 as B\n",
    "    ON A.PULocationID = B.LocationID\n",
    "\n",
    "    INNER JOIN table2 as C\n",
    "    on A.DOLocationID = C.LocationID\n",
    "\n",
    "    GROUP BY A.PULocationID, A.DOLocationID\n",
    "''').toPandas()"
   ]
  },
  {
   "cell_type": "markdown",
   "id": "31c0becb-ac84-4c3f-87c7-e635ad8ceee8",
   "metadata": {},
   "source": [
    "### 5. 팁의 비율에 따른 거리, 여행 건수 서비스 관련 분석"
   ]
  },
  {
   "cell_type": "code",
   "execution_count": 15,
   "id": "fe3743c8-653d-486d-8acb-db9e876e3e24",
   "metadata": {
    "scrolled": true
   },
   "outputs": [
    {
     "name": "stdout",
     "output_type": "stream",
     "text": [
      "+---------+\n",
      "|tip_ratio|\n",
      "+---------+\n",
      "|      -30|\n",
      "|      -40|\n",
      "|      -30|\n",
      "|      -30|\n",
      "|      -30|\n",
      "|      -20|\n",
      "|      -30|\n",
      "|      -30|\n",
      "|      -30|\n",
      "|      -20|\n",
      "|      -40|\n",
      "|      -30|\n",
      "|      -30|\n",
      "|      -30|\n",
      "|      -30|\n",
      "|      -30|\n",
      "|      -20|\n",
      "|      -30|\n",
      "|      -40|\n",
      "|      -30|\n",
      "+---------+\n",
      "only showing top 20 rows\n",
      "\n"
     ]
    },
    {
     "name": "stderr",
     "output_type": "stream",
     "text": [
      "                                                                                \r"
     ]
    }
   ],
   "source": [
    "ss.sql('''\n",
    "        SELECT\n",
    "        \n",
    "            FLOOR(FLOOR(((tip_amount / total_amount) * 100))/10) * 10 as tip_ratio\n",
    "            \n",
    "        FROM table1\n",
    "        where FLOOR(FLOOR(((tip_amount / total_amount) * 100))/10) * 10 < 0\n",
    "\n",
    "''').show()"
   ]
  },
  {
   "cell_type": "code",
   "execution_count": 27,
   "id": "066d588d-5a88-4428-a30f-b391285ff79f",
   "metadata": {
    "scrolled": true
   },
   "outputs": [
    {
     "name": "stderr",
     "output_type": "stream",
     "text": [
      "[Stage 48:=================================================>    (184 + 2) / 200]\r"
     ]
    },
    {
     "name": "stdout",
     "output_type": "stream",
     "text": [
      "+---------+-----------------+--------------+----------------+\n",
      "|tip_ratio|AVG_trip_distance|AVG_tip_amount|AVG_total_amount|\n",
      "+---------+-----------------+--------------+----------------+\n",
      "|     null|             0.98|           0.0|             0.0|\n",
      "|    -5670|              0.0|          17.0|            -0.3|\n",
      "|     -440|             1.71|         10.01|           -2.29|\n",
      "|     -240|             0.18|           3.0|            -1.3|\n",
      "|     -180|             0.32|           4.0|            -2.3|\n",
      "|     -140|             0.74|           5.0|            -3.8|\n",
      "|     -120|              0.0|           2.0|            -1.8|\n",
      "|     -110|             2.72|           7.5|            -7.3|\n",
      "|     -100|             0.71|           7.5|            -7.8|\n",
      "|      -90|              0.0|         20.02|          -22.78|\n",
      "|      -80|              0.0|           9.0|           -11.3|\n",
      "|      -70|              4.8|          6.75|           -10.3|\n",
      "|      -60|             1.78|           6.2|          -12.02|\n",
      "|      -50|             3.11|          5.05|          -11.77|\n",
      "|      -40|             2.53|          4.22|          -12.66|\n",
      "|      -30|             2.93|          3.55|          -14.25|\n",
      "|      -20|             2.44|          2.82|          -18.73|\n",
      "|      -10|             4.64|          1.67|          -33.53|\n",
      "|        0|             11.1|          0.34|           18.49|\n",
      "|       10|             3.99|          3.04|           18.95|\n",
      "+---------+-----------------+--------------+----------------+\n",
      "only showing top 20 rows\n",
      "\n"
     ]
    },
    {
     "name": "stderr",
     "output_type": "stream",
     "text": [
      "                                                                                \r"
     ]
    }
   ],
   "source": [
    "ss.sql('''\n",
    "        SELECT\n",
    "        \n",
    "            FLOOR(FLOOR(((tip_amount / total_amount) * 100))/10) * 10 as tip_ratio\n",
    "            , ROUND(AVG(trip_distance), 2) as AVG_trip_distance\n",
    "            , ROUND(AVG(tip_amount), 2) as AVG_tip_amount\n",
    "            , ROUND(AVG(total_amount), 2) as AVG_total_amount\n",
    "            \n",
    "        FROM table1\n",
    "\n",
    "        GROUP BY tip_ratio\n",
    "        \n",
    "        ORDER BY tip_ratio\n",
    "''').show()"
   ]
  },
  {
   "cell_type": "code",
   "execution_count": 30,
   "id": "67926f02-3384-4faa-9382-2a05e84f5a1a",
   "metadata": {},
   "outputs": [],
   "source": [
    "ss.stop()"
   ]
  }
 ],
 "metadata": {
  "kernelspec": {
   "display_name": "Python (spark_start)",
   "language": "python",
   "name": "spark_start"
  },
  "language_info": {
   "codemirror_mode": {
    "name": "ipython",
    "version": 3
   },
   "file_extension": ".py",
   "mimetype": "text/x-python",
   "name": "python",
   "nbconvert_exporter": "python",
   "pygments_lexer": "ipython3",
   "version": "3.8.20"
  }
 },
 "nbformat": 4,
 "nbformat_minor": 5
}
