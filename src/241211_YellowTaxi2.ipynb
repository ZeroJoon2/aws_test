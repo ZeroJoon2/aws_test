{
 "cells": [
  {
   "cell_type": "code",
   "execution_count": 101,
   "id": "d8c71bfa-675a-49a8-9686-f559f035c861",
   "metadata": {},
   "outputs": [],
   "source": [
    "from pyspark.sql import SparkSession\n",
    "import os\n",
    "\n",
    "import matplotlib.pyplot as plt\n",
    "import seaborn as sns\n",
    "\n",
    "# Jupyter 환경에서 대화형 그래프 활성화\n",
    "%matplotlib widget"
   ]
  },
  {
   "cell_type": "code",
   "execution_count": 102,
   "id": "9d207d68-7d34-46d5-9145-e6f2b6462e3d",
   "metadata": {},
   "outputs": [
    {
     "data": {
      "text/html": [
       "\n",
       "            <div>\n",
       "                <p><b>SparkSession - in-memory</b></p>\n",
       "                \n",
       "        <div>\n",
       "            <p><b>SparkContext</b></p>\n",
       "\n",
       "            <p><a href=\"http://ip-172-31-3-9.ap-northeast-3.compute.internal:4040\">Spark UI</a></p>\n",
       "\n",
       "            <dl>\n",
       "              <dt>Version</dt>\n",
       "                <dd><code>v3.1.2</code></dd>\n",
       "              <dt>Master</dt>\n",
       "                <dd><code>local[*]</code></dd>\n",
       "              <dt>AppName</dt>\n",
       "                <dd><code>YellowTaxi</code></dd>\n",
       "            </dl>\n",
       "        </div>\n",
       "        \n",
       "            </div>\n",
       "        "
      ],
      "text/plain": [
       "<pyspark.sql.session.SparkSession at 0x7f9d89080610>"
      ]
     },
     "execution_count": 102,
     "metadata": {},
     "output_type": "execute_result"
    }
   ],
   "source": [
    "ss = SparkSession.builder\\\n",
    ".appName('YellowTaxi')\\\n",
    ".getOrCreate()\n",
    "\n",
    "ss"
   ]
  },
  {
   "cell_type": "code",
   "execution_count": 103,
   "id": "fad615ec-22a6-446a-9bff-988807d17956",
   "metadata": {},
   "outputs": [],
   "source": [
    "trip_files = 'trips/*.csv'\n",
    "zone_file = 'trips/code/lookup.csv'\n",
    "directory = os.path.join(os.getcwd(), 'data')"
   ]
  },
  {
   "cell_type": "code",
   "execution_count": 126,
   "id": "8096b2a3-98fa-4746-bab1-74914bc1648a",
   "metadata": {},
   "outputs": [
    {
     "name": "stderr",
     "output_type": "stream",
     "text": [
      "                                                                                \r"
     ]
    },
    {
     "data": {
      "text/plain": [
       "(DataFrame[VendorID: int, tpep_pickup_datetime: string, tpep_dropoff_datetime: string, passenger_count: int, trip_distance: double, RatecodeID: int, store_and_fwd_flag: string, PULocationID: int, DOLocationID: int, payment_type: int, fare_amount: double, extra: double, mta_tax: double, tip_amount: double, tolls_amount: double, improvement_surcharge: double, total_amount: double, congestion_surcharge: double],\n",
       " DataFrame[LocationID: int, Borough: string, Zone: string, service_zone: string])"
      ]
     },
     "execution_count": 126,
     "metadata": {},
     "output_type": "execute_result"
    }
   ],
   "source": [
    "df = ss.read.csv(f'file:///{directory}/{trip_files}', inferSchema = True, header = True)\n",
    "df_zone = ss.read.csv(f'file:///{directory}/{zone_file}', inferSchema = True, header = True)\n",
    "df, df_zone"
   ]
  },
  {
   "cell_type": "code",
   "execution_count": 105,
   "id": "77be46cf-5ea6-4419-91e6-6f96095bc2c4",
   "metadata": {
    "scrolled": true
   },
   "outputs": [
    {
     "name": "stdout",
     "output_type": "stream",
     "text": [
      "+--------+--------------------+---------------------+---------------+-------------+----------+------------------+------------+------------+------------+-----------+-----+-------+----------+------------+---------------------+------------+--------------------+\n",
      "|VendorID|tpep_pickup_datetime|tpep_dropoff_datetime|passenger_count|trip_distance|RatecodeID|store_and_fwd_flag|PULocationID|DOLocationID|payment_type|fare_amount|extra|mta_tax|tip_amount|tolls_amount|improvement_surcharge|total_amount|congestion_surcharge|\n",
      "+--------+--------------------+---------------------+---------------+-------------+----------+------------------+------------+------------+------------+-----------+-----+-------+----------+------------+---------------------+------------+--------------------+\n",
      "|       2| 2021-03-01 00:22:02|  2021-03-01 00:23:22|              1|          0.0|         1|                 N|         264|         264|           2|        3.0|  0.5|    0.5|       0.0|         0.0|                  0.3|         4.3|                 0.0|\n",
      "+--------+--------------------+---------------------+---------------+-------------+----------+------------------+------------+------------+------------+-----------+-----+-------+----------+------------+---------------------+------------+--------------------+\n",
      "only showing top 1 row\n",
      "\n",
      "root\n",
      " |-- VendorID: integer (nullable = true)\n",
      " |-- tpep_pickup_datetime: string (nullable = true)\n",
      " |-- tpep_dropoff_datetime: string (nullable = true)\n",
      " |-- passenger_count: integer (nullable = true)\n",
      " |-- trip_distance: double (nullable = true)\n",
      " |-- RatecodeID: integer (nullable = true)\n",
      " |-- store_and_fwd_flag: string (nullable = true)\n",
      " |-- PULocationID: integer (nullable = true)\n",
      " |-- DOLocationID: integer (nullable = true)\n",
      " |-- payment_type: integer (nullable = true)\n",
      " |-- fare_amount: double (nullable = true)\n",
      " |-- extra: double (nullable = true)\n",
      " |-- mta_tax: double (nullable = true)\n",
      " |-- tip_amount: double (nullable = true)\n",
      " |-- tolls_amount: double (nullable = true)\n",
      " |-- improvement_surcharge: double (nullable = true)\n",
      " |-- total_amount: double (nullable = true)\n",
      " |-- congestion_surcharge: double (nullable = true)\n",
      "\n"
     ]
    }
   ],
   "source": [
    "df.show(1)\n",
    "df.printSchema()"
   ]
  },
  {
   "cell_type": "markdown",
   "id": "994dfc4d-bfb3-4dad-9cda-8bc21c383e24",
   "metadata": {},
   "source": [
    "## 방향\n",
    "1. 쿼리 작성\n",
    "2. 데이터 프레임으로 구현"
   ]
  },
  {
   "cell_type": "markdown",
   "id": "8eb31037-089a-4f44-bfc9-370c40db23ae",
   "metadata": {},
   "source": [
    "## 전처리"
   ]
  },
  {
   "cell_type": "markdown",
   "id": "c928dc94-4854-4893-9f61-62703b0ff554",
   "metadata": {},
   "source": [
    "### 임시 테이블 만들기"
   ]
  },
  {
   "cell_type": "code",
   "execution_count": 127,
   "id": "8cf638ff-19bd-403b-8637-c017cf74b4b2",
   "metadata": {},
   "outputs": [],
   "source": [
    "df.createOrReplaceTempView('table1')\n",
    "df_zone.createOrReplaceTempView('table2')"
   ]
  },
  {
   "cell_type": "markdown",
   "id": "4a843191-0407-4539-8f85-41d55728719f",
   "metadata": {},
   "source": [
    "### 음수는 뭐지"
   ]
  },
  {
   "cell_type": "code",
   "execution_count": 139,
   "id": "cc0890cb-0ea2-4972-b2ed-1e5f2f261f8e",
   "metadata": {},
   "outputs": [
    {
     "name": "stderr",
     "output_type": "stream",
     "text": [
      "                                                                                \r"
     ]
    },
    {
     "name": "stdout",
     "output_type": "stream",
     "text": [
      "+------------+---------------+---------------+-----------------+-----------------+\n",
      "|payment_type|min(tip_amount)|max(tip_amount)|min(total_amount)|max(total_amount)|\n",
      "+------------+---------------+---------------+-----------------+-----------------+\n",
      "|        null|          -6.33|          15.13|           -95.88|            50.02|\n",
      "|           1|         -83.95|            0.0|          -133.35|             -3.3|\n",
      "|           3|         -111.1|          32.06|           -647.8|            -0.31|\n",
      "|           4|        -333.32|          40.06|          -554.05|             -0.3|\n",
      "|           2|            0.0|          31.26|           -634.8|            -0.35|\n",
      "+------------+---------------+---------------+-----------------+-----------------+\n",
      "\n"
     ]
    }
   ],
   "source": [
    "ss.sql('''\n",
    "    SELECT\n",
    "        payment_type\n",
    "        , min(tip_amount)\n",
    "        , max(tip_amount)\n",
    "        , min(total_amount)\n",
    "        , max(total_amount)\n",
    "    FROM table1 as A\n",
    "    where tip_amount < 0\n",
    "        or total_amount < 0\n",
    "\n",
    "    GROUP BY payment_type\n",
    "    \n",
    "''').show()"
   ]
  },
  {
   "cell_type": "markdown",
   "id": "f8e174e8-653b-4138-bacf-d77eebc107f6",
   "metadata": {},
   "source": [
    "### 1. 운행 거리(trip_distance)와 요금(total_amount)의 상관관계 분석"
   ]
  },
  {
   "cell_type": "code",
   "execution_count": 107,
   "id": "bbff0344-2145-4c03-ae11-4a356b4275bd",
   "metadata": {},
   "outputs": [
    {
     "name": "stderr",
     "output_type": "stream",
     "text": [
      "[Stage 4:===================================>                   (130 + 2) / 200]\r"
     ]
    },
    {
     "name": "stdout",
     "output_type": "stream",
     "text": [
      "+--------------+------------------+-------------------------+\n",
      "|range_distance|avg(trip_distance)|avg_total_amount_by_range|\n",
      "+--------------+------------------+-------------------------+\n",
      "|             0| 2.249990081277878|                    16.28|\n",
      "|            10|14.511748083268245|                    55.74|\n",
      "|            20| 22.35556516479053|                    73.88|\n",
      "|            30| 34.01497395485508|                   117.13|\n",
      "|            40| 44.20758012820514|                   134.92|\n",
      "|            50|54.312714592274666|                   150.59|\n",
      "|            60| 64.59808888888888|                   118.68|\n",
      "|            70|  74.7025724637681|                   127.48|\n",
      "|            80| 84.21412322274884|                   125.06|\n",
      "|            90|  94.9186013986014|                    97.53|\n",
      "|           100|105.33242990654206|                    82.72|\n",
      "|           110|115.17875000000001|                    76.69|\n",
      "|           120|124.55017857142857|                    45.14|\n",
      "|           130|134.62807692307692|                     82.7|\n",
      "|           140|143.92628571428568|                    62.66|\n",
      "|           150|155.66148148148147|                    78.64|\n",
      "|           160|165.71521739130435|                    91.46|\n",
      "|           170|173.51409090909092|                    85.98|\n",
      "|           180|184.47545454545454|                    89.96|\n",
      "|           190|             196.2|                    27.62|\n",
      "+--------------+------------------+-------------------------+\n",
      "only showing top 20 rows\n",
      "\n"
     ]
    },
    {
     "name": "stderr",
     "output_type": "stream",
     "text": [
      "                                                                                \r"
     ]
    }
   ],
   "source": [
    "ss.sql('''\n",
    "    SELECT\n",
    "        \n",
    "        FLOOR(trip_distance/10) * 10 as range_distance\n",
    "        , AVG(trip_distance)\n",
    "        , ROUND(AVG(total_amount), 2) as avg_total_amount_by_range\n",
    "        \n",
    "    FROM table1\n",
    "    \n",
    "    GROUP BY range_distance    \n",
    "\n",
    "    ORDER BY range_distance\n",
    "''').show()"
   ]
  },
  {
   "cell_type": "code",
   "execution_count": 108,
   "id": "d734830d-c3e6-4460-8564-c28a582182b2",
   "metadata": {},
   "outputs": [
    {
     "name": "stderr",
     "output_type": "stream",
     "text": [
      "                                                                                \r"
     ]
    }
   ],
   "source": [
    "df1 = ss.sql('''\n",
    "    SELECT\n",
    "        \n",
    "        FLOOR(trip_distance/10) * 10 as range_distance\n",
    "        , AVG(trip_distance)\n",
    "        , ROUND(AVG(total_amount), 2) as avg_total_amount_by_range\n",
    "        \n",
    "    FROM table1\n",
    "    \n",
    "    GROUP BY range_distance    \n",
    "\n",
    "    ORDER BY range_distance\n",
    "''').toPandas()"
   ]
  },
  {
   "cell_type": "code",
   "execution_count": 109,
   "id": "aea0cbe4-257c-462e-9ade-ab417d1f2a68",
   "metadata": {},
   "outputs": [
    {
     "data": {
      "text/html": [
       "<div>\n",
       "<style scoped>\n",
       "    .dataframe tbody tr th:only-of-type {\n",
       "        vertical-align: middle;\n",
       "    }\n",
       "\n",
       "    .dataframe tbody tr th {\n",
       "        vertical-align: top;\n",
       "    }\n",
       "\n",
       "    .dataframe thead th {\n",
       "        text-align: right;\n",
       "    }\n",
       "</style>\n",
       "<table border=\"1\" class=\"dataframe\">\n",
       "  <thead>\n",
       "    <tr style=\"text-align: right;\">\n",
       "      <th></th>\n",
       "      <th>range_distance</th>\n",
       "      <th>avg(trip_distance)</th>\n",
       "      <th>avg_total_amount_by_range</th>\n",
       "    </tr>\n",
       "  </thead>\n",
       "  <tbody>\n",
       "    <tr>\n",
       "      <th>0</th>\n",
       "      <td>0</td>\n",
       "      <td>2.249990</td>\n",
       "      <td>16.28</td>\n",
       "    </tr>\n",
       "    <tr>\n",
       "      <th>1</th>\n",
       "      <td>10</td>\n",
       "      <td>14.511748</td>\n",
       "      <td>55.74</td>\n",
       "    </tr>\n",
       "    <tr>\n",
       "      <th>2</th>\n",
       "      <td>20</td>\n",
       "      <td>22.355565</td>\n",
       "      <td>73.88</td>\n",
       "    </tr>\n",
       "    <tr>\n",
       "      <th>3</th>\n",
       "      <td>30</td>\n",
       "      <td>34.014974</td>\n",
       "      <td>117.13</td>\n",
       "    </tr>\n",
       "    <tr>\n",
       "      <th>4</th>\n",
       "      <td>40</td>\n",
       "      <td>44.207580</td>\n",
       "      <td>134.92</td>\n",
       "    </tr>\n",
       "    <tr>\n",
       "      <th>...</th>\n",
       "      <td>...</td>\n",
       "      <td>...</td>\n",
       "      <td>...</td>\n",
       "    </tr>\n",
       "    <tr>\n",
       "      <th>747</th>\n",
       "      <td>300930</td>\n",
       "      <td>300936.530000</td>\n",
       "      <td>35.30</td>\n",
       "    </tr>\n",
       "    <tr>\n",
       "      <th>748</th>\n",
       "      <td>305390</td>\n",
       "      <td>305397.570000</td>\n",
       "      <td>36.67</td>\n",
       "    </tr>\n",
       "    <tr>\n",
       "      <th>749</th>\n",
       "      <td>327490</td>\n",
       "      <td>327491.240000</td>\n",
       "      <td>19.88</td>\n",
       "    </tr>\n",
       "    <tr>\n",
       "      <th>750</th>\n",
       "      <td>332530</td>\n",
       "      <td>332532.180000</td>\n",
       "      <td>38.86</td>\n",
       "    </tr>\n",
       "    <tr>\n",
       "      <th>751</th>\n",
       "      <td>332540</td>\n",
       "      <td>332541.190000</td>\n",
       "      <td>25.63</td>\n",
       "    </tr>\n",
       "  </tbody>\n",
       "</table>\n",
       "<p>752 rows × 3 columns</p>\n",
       "</div>"
      ],
      "text/plain": [
       "     range_distance  avg(trip_distance)  avg_total_amount_by_range\n",
       "0                 0            2.249990                      16.28\n",
       "1                10           14.511748                      55.74\n",
       "2                20           22.355565                      73.88\n",
       "3                30           34.014974                     117.13\n",
       "4                40           44.207580                     134.92\n",
       "..              ...                 ...                        ...\n",
       "747          300930       300936.530000                      35.30\n",
       "748          305390       305397.570000                      36.67\n",
       "749          327490       327491.240000                      19.88\n",
       "750          332530       332532.180000                      38.86\n",
       "751          332540       332541.190000                      25.63\n",
       "\n",
       "[752 rows x 3 columns]"
      ]
     },
     "execution_count": 109,
     "metadata": {},
     "output_type": "execute_result"
    }
   ],
   "source": [
    "df1"
   ]
  },
  {
   "cell_type": "markdown",
   "id": "760a9617-a2ae-4923-bc3a-a3cebdbf2c84",
   "metadata": {},
   "source": [
    "### 2. 피크 시간대 요금 분석"
   ]
  },
  {
   "cell_type": "code",
   "execution_count": 114,
   "id": "a2415c42-dfa8-4540-a48c-71a8bc698534",
   "metadata": {},
   "outputs": [
    {
     "name": "stdout",
     "output_type": "stream",
     "text": [
      "root\n",
      " |-- VendorID: integer (nullable = true)\n",
      " |-- tpep_pickup_datetime: string (nullable = true)\n",
      " |-- tpep_dropoff_datetime: string (nullable = true)\n",
      " |-- passenger_count: integer (nullable = true)\n",
      " |-- trip_distance: double (nullable = true)\n",
      " |-- RatecodeID: integer (nullable = true)\n",
      " |-- store_and_fwd_flag: string (nullable = true)\n",
      " |-- PULocationID: integer (nullable = true)\n",
      " |-- DOLocationID: integer (nullable = true)\n",
      " |-- payment_type: integer (nullable = true)\n",
      " |-- fare_amount: double (nullable = true)\n",
      " |-- extra: double (nullable = true)\n",
      " |-- mta_tax: double (nullable = true)\n",
      " |-- tip_amount: double (nullable = true)\n",
      " |-- tolls_amount: double (nullable = true)\n",
      " |-- improvement_surcharge: double (nullable = true)\n",
      " |-- total_amount: double (nullable = true)\n",
      " |-- congestion_surcharge: double (nullable = true)\n",
      "\n"
     ]
    }
   ],
   "source": [
    "df.printSchema()"
   ]
  },
  {
   "cell_type": "code",
   "execution_count": 123,
   "id": "d9b5f4e6-623c-48e6-854c-970252f2ea2e",
   "metadata": {},
   "outputs": [
    {
     "name": "stderr",
     "output_type": "stream",
     "text": [
      "                                                                                \r"
     ]
    },
    {
     "name": "stdout",
     "output_type": "stream",
     "text": [
      "+---------+--------+------------------------+\n",
      "|time_hour|cnt_HOUR|AVG_total_amount_by_HOUR|\n",
      "+---------+--------+------------------------+\n",
      "|        0|  273553|      21.428823335879855|\n",
      "|        1|  160424|      20.843909639453052|\n",
      "|        2|   97218|       20.36273066715926|\n",
      "|        3|   57806|      21.065730892986632|\n",
      "|        4|   45410|       25.54333032371765|\n",
      "|        5|   82073|      26.551492208156205|\n",
      "|        6|  241020|      21.328937308104027|\n",
      "|        7|  438938|       18.83996026773829|\n",
      "|        8|  641530|      17.790024067469492|\n",
      "|        9|  712912|      17.586356997785252|\n",
      "|       10|  794621|      17.535767101557763|\n",
      "|       11|  877952|      17.466696368376446|\n",
      "|       12|  970018|      17.963276970129126|\n",
      "|       13| 1001522|       18.14557307778716|\n",
      "|       14| 1084111|      18.177726579671038|\n",
      "|       15| 1091871|        18.6318919176479|\n",
      "|       16| 1043498|      19.708538415994695|\n",
      "|       17| 1085226|      19.291921083731793|\n",
      "|       18| 1087217|      18.581965522994448|\n",
      "|       19|  915477|      18.364497251170857|\n",
      "+---------+--------+------------------------+\n",
      "only showing top 20 rows\n",
      "\n"
     ]
    }
   ],
   "source": [
    "ss.sql('''\n",
    "\n",
    "    SELECT\n",
    "        HOUR(tpep_pickup_datetime) as time_hour\n",
    "        , COUNT(*) as cnt_HOUR\n",
    "        , AVG(total_amount) as AVG_total_amount_by_HOUR\n",
    "    \n",
    "    FROM table1\n",
    "    \n",
    "    GROUP BY time_hour\n",
    "\n",
    "    ORDER BY time_hour\n",
    "\n",
    "''').show()"
   ]
  },
  {
   "cell_type": "markdown",
   "id": "c01e8032-8c63-4972-a0b2-d87c9625cf04",
   "metadata": {},
   "source": [
    "### 3. 지불 유형별 요금, 팁 분석"
   ]
  },
  {
   "cell_type": "code",
   "execution_count": 132,
   "id": "5c62d718-7ec6-462e-aade-e74638984eb9",
   "metadata": {},
   "outputs": [
    {
     "name": "stderr",
     "output_type": "stream",
     "text": [
      "                                                                                \r"
     ]
    },
    {
     "name": "stdout",
     "output_type": "stream",
     "text": [
      "+------------+--------------------+-------------------+\n",
      "|payment_type|     avg(tip_amount)|  avg(total_amount)|\n",
      "+------------+--------------------+-------------------+\n",
      "|        null|  1.6014479849597305|  31.85317404211856|\n",
      "|           1|  2.8802551464734534|  18.89057563281757|\n",
      "|           3|-0.01341663187366456| 18.068943070461756|\n",
      "|           5|                 0.0|               17.8|\n",
      "|           4|0.005909593724859213|-2.7711340171627312|\n",
      "|           2|3.441382791272625...|  15.42127102120272|\n",
      "+------------+--------------------+-------------------+\n",
      "\n"
     ]
    }
   ],
   "source": [
    "ss.sql('''\n",
    "    SELECT\n",
    "        payment_type\n",
    "        , AVG(tip_amount)\n",
    "        , AVG(total_amount)\n",
    "    FROM table1 as A\n",
    "\n",
    "    GROUP BY payment_type\n",
    "    ORDER BY payment_type\n",
    "    \n",
    "''').show()"
   ]
  },
  {
   "cell_type": "code",
   "execution_count": null,
   "id": "236db05e-3ca7-4cf8-94db-3d3e10021b02",
   "metadata": {},
   "outputs": [],
   "source": [
    "ss.sql('''\n",
    "select * from "
   ]
  },
  {
   "cell_type": "markdown",
   "id": "8c2dfe79-f61b-499b-a125-03cdbb12e98d",
   "metadata": {},
   "source": [
    "### 4. 승차 지역 / 하차 지역별 평균거리, 요금"
   ]
  },
  {
   "cell_type": "code",
   "execution_count": 172,
   "id": "bd1b1ab0-7f74-49f3-aa0f-1615638bba13",
   "metadata": {},
   "outputs": [
    {
     "name": "stderr",
     "output_type": "stream",
     "text": [
      "[Stage 135:==================================================>    (10 + 1) / 11]\r"
     ]
    },
    {
     "name": "stdout",
     "output_type": "stream",
     "text": [
      "+------------+--------------------+------------+--------------------+-----------------+----------------+---+\n",
      "|PULocationID|             PU_Zone|DOLocationID|             DO_Zone|AVG_trip_distance|AVG_total_amount|cnt|\n",
      "+------------+--------------------+------------+--------------------+-----------------+----------------+---+\n",
      "|           3|Allerton/Pelham G...|          57|              Corona|              4.8|           39.81|  2|\n",
      "|           3|Allerton/Pelham G...|          89|Flatbush/Ditmas Park|            23.01|           74.73|  2|\n",
      "|           4|       Alphabet City|         185|      Pelham Parkway|            10.91|           42.06| 11|\n",
      "|           7|             Astoria|          55|        Coney Island|            14.82|           59.38| 23|\n",
      "|           7|             Astoria|         132|         JFK Airport|            14.19|           49.42| 77|\n",
      "|          10|        Baisley Park|          85|             Erasmus|            11.19|           49.95| 29|\n",
      "|          10|        Baisley Park|         264|                  NV|              1.5|            38.1| 41|\n",
      "|          11|          Bath Beach|         155|Marine Park/Mill ...|             6.41|           29.15|  3|\n",
      "|          12|        Battery Park|         115| Grymes Hill/Clifton|            12.04|           50.04|  2|\n",
      "|          14|           Bay Ridge|         175|     Oakland Gardens|            27.08|           74.23|  1|\n",
      "|          17|             Bedford|         138|   LaGuardia Airport|             9.46|           37.24| 33|\n",
      "|          18|        Bedford Park|          68|        East Chelsea|            14.32|           55.16|  6|\n",
      "|          18|        Bedford Park|          95|        Forest Hills|            14.62|            52.8|  6|\n",
      "|          18|        Bedford Park|         185|      Pelham Parkway|             3.47|           26.63| 38|\n",
      "|          18|        Bedford Park|         217|  South Williamsburg|            21.74|           80.16|  1|\n",
      "|          21|    Bensonhurst East|         140|     Lenox Hill East|            15.22|           52.28| 24|\n",
      "|          24|        Bloomingdale|         210|      Sheepshead Bay|             23.8|           77.35|  1|\n",
      "|          25|         Boerum Hill|          61| Crown Heights North|             2.78|           18.69|267|\n",
      "|          28|Briarwood/Jamaica...|          16|             Bayside|              5.1|            31.2|  7|\n",
      "|          28|Briarwood/Jamaica...|          63|       Cypress Hills|              6.9|           37.81|  1|\n",
      "+------------+--------------------+------------+--------------------+-----------------+----------------+---+\n",
      "only showing top 20 rows\n",
      "\n"
     ]
    },
    {
     "name": "stderr",
     "output_type": "stream",
     "text": [
      "                                                                                \r"
     ]
    }
   ],
   "source": [
    "ss.sql('''\n",
    "    SELECT\n",
    "        A.PULocationID\n",
    "        , MAX(B.Zone) as PU_Zone\n",
    "        , A.DOLocationID\n",
    "        , MAX(C.Zone) as DO_Zone\n",
    "        , ROUND(AVG(A.trip_distance), 2) as AVG_trip_distance\n",
    "        , ROUND(AVG(A.total_amount), 2) as AVG_total_amount\n",
    "        , COUNT(*) as cnt -- 건수 체크\n",
    "    FROM table1 as A\n",
    "\n",
    "    INNER JOIN table2 as B\n",
    "    ON A.PULocationID = B.LocationID\n",
    "\n",
    "    INNER JOIN table2 as C\n",
    "    on A.DOLocationID = C.LocationID\n",
    "\n",
    "    GROUP BY A.PULocationID, A.DOLocationID\n",
    "''').show()"
   ]
  },
  {
   "cell_type": "code",
   "execution_count": 174,
   "id": "ac565b32-5316-487f-b748-d20d0362d9d4",
   "metadata": {},
   "outputs": [
    {
     "name": "stderr",
     "output_type": "stream",
     "text": [
      "                                                                                \r"
     ]
    },
    {
     "data": {
      "text/html": [
       "<div>\n",
       "<style scoped>\n",
       "    .dataframe tbody tr th:only-of-type {\n",
       "        vertical-align: middle;\n",
       "    }\n",
       "\n",
       "    .dataframe tbody tr th {\n",
       "        vertical-align: top;\n",
       "    }\n",
       "\n",
       "    .dataframe thead th {\n",
       "        text-align: right;\n",
       "    }\n",
       "</style>\n",
       "<table border=\"1\" class=\"dataframe\">\n",
       "  <thead>\n",
       "    <tr style=\"text-align: right;\">\n",
       "      <th></th>\n",
       "      <th>PULocationID</th>\n",
       "      <th>PU_Zone</th>\n",
       "      <th>DOLocationID</th>\n",
       "      <th>DO_Zone</th>\n",
       "      <th>AVG_trip_distance</th>\n",
       "      <th>AVG_total_amount</th>\n",
       "      <th>cnt</th>\n",
       "    </tr>\n",
       "  </thead>\n",
       "  <tbody>\n",
       "    <tr>\n",
       "      <th>0</th>\n",
       "      <td>3</td>\n",
       "      <td>Allerton/Pelham Gardens</td>\n",
       "      <td>57</td>\n",
       "      <td>Corona</td>\n",
       "      <td>4.80</td>\n",
       "      <td>39.81</td>\n",
       "      <td>2</td>\n",
       "    </tr>\n",
       "    <tr>\n",
       "      <th>1</th>\n",
       "      <td>3</td>\n",
       "      <td>Allerton/Pelham Gardens</td>\n",
       "      <td>89</td>\n",
       "      <td>Flatbush/Ditmas Park</td>\n",
       "      <td>23.01</td>\n",
       "      <td>74.73</td>\n",
       "      <td>2</td>\n",
       "    </tr>\n",
       "    <tr>\n",
       "      <th>2</th>\n",
       "      <td>4</td>\n",
       "      <td>Alphabet City</td>\n",
       "      <td>185</td>\n",
       "      <td>Pelham Parkway</td>\n",
       "      <td>10.91</td>\n",
       "      <td>42.06</td>\n",
       "      <td>11</td>\n",
       "    </tr>\n",
       "    <tr>\n",
       "      <th>3</th>\n",
       "      <td>7</td>\n",
       "      <td>Astoria</td>\n",
       "      <td>55</td>\n",
       "      <td>Coney Island</td>\n",
       "      <td>14.82</td>\n",
       "      <td>59.38</td>\n",
       "      <td>23</td>\n",
       "    </tr>\n",
       "    <tr>\n",
       "      <th>4</th>\n",
       "      <td>7</td>\n",
       "      <td>Astoria</td>\n",
       "      <td>132</td>\n",
       "      <td>JFK Airport</td>\n",
       "      <td>14.19</td>\n",
       "      <td>49.42</td>\n",
       "      <td>77</td>\n",
       "    </tr>\n",
       "    <tr>\n",
       "      <th>...</th>\n",
       "      <td>...</td>\n",
       "      <td>...</td>\n",
       "      <td>...</td>\n",
       "      <td>...</td>\n",
       "      <td>...</td>\n",
       "      <td>...</td>\n",
       "      <td>...</td>\n",
       "    </tr>\n",
       "    <tr>\n",
       "      <th>46178</th>\n",
       "      <td>264</td>\n",
       "      <td>NV</td>\n",
       "      <td>191</td>\n",
       "      <td>Queens Village</td>\n",
       "      <td>11.14</td>\n",
       "      <td>39.56</td>\n",
       "      <td>31</td>\n",
       "    </tr>\n",
       "    <tr>\n",
       "      <th>46179</th>\n",
       "      <td>265</td>\n",
       "      <td>NA</td>\n",
       "      <td>94</td>\n",
       "      <td>Fordham South</td>\n",
       "      <td>7.15</td>\n",
       "      <td>34.97</td>\n",
       "      <td>117</td>\n",
       "    </tr>\n",
       "    <tr>\n",
       "      <th>46180</th>\n",
       "      <td>265</td>\n",
       "      <td>NA</td>\n",
       "      <td>116</td>\n",
       "      <td>Hamilton Heights</td>\n",
       "      <td>7.07</td>\n",
       "      <td>36.21</td>\n",
       "      <td>476</td>\n",
       "    </tr>\n",
       "    <tr>\n",
       "      <th>46181</th>\n",
       "      <td>265</td>\n",
       "      <td>NA</td>\n",
       "      <td>133</td>\n",
       "      <td>Kensington</td>\n",
       "      <td>6.22</td>\n",
       "      <td>35.51</td>\n",
       "      <td>154</td>\n",
       "    </tr>\n",
       "    <tr>\n",
       "      <th>46182</th>\n",
       "      <td>265</td>\n",
       "      <td>NA</td>\n",
       "      <td>230</td>\n",
       "      <td>Times Sq/Theatre District</td>\n",
       "      <td>9.71</td>\n",
       "      <td>44.33</td>\n",
       "      <td>229</td>\n",
       "    </tr>\n",
       "  </tbody>\n",
       "</table>\n",
       "<p>46183 rows × 7 columns</p>\n",
       "</div>"
      ],
      "text/plain": [
       "       PULocationID                  PU_Zone  DOLocationID  \\\n",
       "0                 3  Allerton/Pelham Gardens            57   \n",
       "1                 3  Allerton/Pelham Gardens            89   \n",
       "2                 4            Alphabet City           185   \n",
       "3                 7                  Astoria            55   \n",
       "4                 7                  Astoria           132   \n",
       "...             ...                      ...           ...   \n",
       "46178           264                       NV           191   \n",
       "46179           265                       NA            94   \n",
       "46180           265                       NA           116   \n",
       "46181           265                       NA           133   \n",
       "46182           265                       NA           230   \n",
       "\n",
       "                         DO_Zone  AVG_trip_distance  AVG_total_amount  cnt  \n",
       "0                         Corona               4.80             39.81    2  \n",
       "1           Flatbush/Ditmas Park              23.01             74.73    2  \n",
       "2                 Pelham Parkway              10.91             42.06   11  \n",
       "3                   Coney Island              14.82             59.38   23  \n",
       "4                    JFK Airport              14.19             49.42   77  \n",
       "...                          ...                ...               ...  ...  \n",
       "46178             Queens Village              11.14             39.56   31  \n",
       "46179              Fordham South               7.15             34.97  117  \n",
       "46180           Hamilton Heights               7.07             36.21  476  \n",
       "46181                 Kensington               6.22             35.51  154  \n",
       "46182  Times Sq/Theatre District               9.71             44.33  229  \n",
       "\n",
       "[46183 rows x 7 columns]"
      ]
     },
     "execution_count": 174,
     "metadata": {},
     "output_type": "execute_result"
    }
   ],
   "source": [
    "ss.sql('''\n",
    "    SELECT\n",
    "        A.PULocationID\n",
    "        , MAX(B.Zone) as PU_Zone\n",
    "        , A.DOLocationID\n",
    "        , MAX(C.Zone) as DO_Zone\n",
    "        , ROUND(AVG(A.trip_distance), 2) as AVG_trip_distance\n",
    "        , ROUND(AVG(A.total_amount), 2) as AVG_total_amount\n",
    "        , COUNT(*) as cnt -- 건수 체크\n",
    "    FROM table1 as A\n",
    "\n",
    "    INNER JOIN table2 as B\n",
    "    ON A.PULocationID = B.LocationID\n",
    "\n",
    "    INNER JOIN table2 as C\n",
    "    on A.DOLocationID = C.LocationID\n",
    "\n",
    "    GROUP BY A.PULocationID, A.DOLocationID\n",
    "''').toPandas()"
   ]
  },
  {
   "cell_type": "markdown",
   "id": "31c0becb-ac84-4c3f-87c7-e635ad8ceee8",
   "metadata": {},
   "source": [
    "### 5. 팁의 비율에 따른 거리, 여행 건수 서비스 관련 분석"
   ]
  },
  {
   "cell_type": "code",
   "execution_count": 181,
   "id": "e6321aa3-cdec-4d0e-b0ca-c10975872e5b",
   "metadata": {},
   "outputs": [
    {
     "name": "stdout",
     "output_type": "stream",
     "text": [
      "root\n",
      " |-- LocationID: integer (nullable = true)\n",
      " |-- Borough: string (nullable = true)\n",
      " |-- Zone: string (nullable = true)\n",
      " |-- service_zone: string (nullable = true)\n",
      "\n",
      "root\n",
      " |-- VendorID: integer (nullable = true)\n",
      " |-- tpep_pickup_datetime: string (nullable = true)\n",
      " |-- tpep_dropoff_datetime: string (nullable = true)\n",
      " |-- passenger_count: integer (nullable = true)\n",
      " |-- trip_distance: double (nullable = true)\n",
      " |-- RatecodeID: integer (nullable = true)\n",
      " |-- store_and_fwd_flag: string (nullable = true)\n",
      " |-- PULocationID: integer (nullable = true)\n",
      " |-- DOLocationID: integer (nullable = true)\n",
      " |-- payment_type: integer (nullable = true)\n",
      " |-- fare_amount: double (nullable = true)\n",
      " |-- extra: double (nullable = true)\n",
      " |-- mta_tax: double (nullable = true)\n",
      " |-- tip_amount: double (nullable = true)\n",
      " |-- tolls_amount: double (nullable = true)\n",
      " |-- improvement_surcharge: double (nullable = true)\n",
      " |-- total_amount: double (nullable = true)\n",
      " |-- congestion_surcharge: double (nullable = true)\n",
      "\n"
     ]
    }
   ],
   "source": [
    "df_zone.printSchema()\n",
    "df.printSchema()"
   ]
  },
  {
   "cell_type": "code",
   "execution_count": 190,
   "id": "fe3743c8-653d-486d-8acb-db9e876e3e24",
   "metadata": {},
   "outputs": [
    {
     "name": "stdout",
     "output_type": "stream",
     "text": [
      "+---------+\n",
      "|tip_ratio|\n",
      "+---------+\n",
      "|      -30|\n",
      "|      -40|\n",
      "|      -30|\n",
      "|      -30|\n",
      "|      -30|\n",
      "|      -20|\n",
      "|      -30|\n",
      "|      -30|\n",
      "|      -30|\n",
      "|      -20|\n",
      "|      -40|\n",
      "|      -30|\n",
      "|      -30|\n",
      "|      -30|\n",
      "|      -30|\n",
      "|      -30|\n",
      "|      -20|\n",
      "|      -30|\n",
      "|      -40|\n",
      "|      -30|\n",
      "+---------+\n",
      "only showing top 20 rows\n",
      "\n"
     ]
    },
    {
     "name": "stderr",
     "output_type": "stream",
     "text": [
      "                                                                                \r"
     ]
    }
   ],
   "source": [
    "ss.sql('''\n",
    "        SELECT\n",
    "        \n",
    "            FLOOR(FLOOR(((tip_amount / total_amount) * 100))/10) * 10 as tip_ratio\n",
    "            \n",
    "        FROM table1\n",
    "        where FLOOR(FLOOR(((tip_amount / total_amount) * 100))/10) * 10 < 0\n",
    "\n",
    "''').show()"
   ]
  },
  {
   "cell_type": "code",
   "execution_count": 187,
   "id": "066d588d-5a88-4428-a30f-b391285ff79f",
   "metadata": {},
   "outputs": [
    {
     "name": "stderr",
     "output_type": "stream",
     "text": [
      "                                                                                \r"
     ]
    },
    {
     "name": "stdout",
     "output_type": "stream",
     "text": [
      "+---------+--------------------+--------------------+-------------------+\n",
      "|tip_ratio|   AVG_trip_distance|      AVG_tip_amount|   AVG_total_amount|\n",
      "+---------+--------------------+--------------------+-------------------+\n",
      "|        0|  11.098819481423762|  0.3377800550066132|  18.48767277735558|\n",
      "|      -30|   2.932072243346008|   3.546254752851711|-14.252034220532323|\n",
      "|      -60|  1.7759999999999998|                 6.2|            -12.018|\n",
      "|      -90|                 0.0|               20.02|             -22.78|\n",
      "|       50|   7.006356766968022|   14.73387801916071|  27.51974092565084|\n",
      "|     -440|                1.71|               10.01|              -2.29|\n",
      "|      -50|   3.112857142857143|   5.046904761904762|-11.773333333333333|\n",
      "|    -5670|                 0.0|                17.0|               -0.3|\n",
      "|     null|  0.9797847600197922|0.003537852548243444|                0.0|\n",
      "|     -110|               2.715|                 7.5| -7.300000000000001|\n",
      "|       10|   3.985048523294628|   3.043397363350765| 18.953902279750473|\n",
      "|     -240|                0.18|                 3.0|               -1.3|\n",
      "|     -140|                0.74|                 5.0|               -3.8|\n",
      "|      100|3.448275862068966E-4|   0.676551724137931|  0.676551724137931|\n",
      "|     -180|                0.32|                 4.0|               -2.3|\n",
      "|      -70|               4.795|                6.75|              -10.3|\n",
      "|       80|  1.1499367088607595|  42.293806509945746|  49.73606690777584|\n",
      "|      -10|   4.639428571428573|  1.6694285714285713| -33.53076190476192|\n",
      "|      -40|  2.5349999999999997|  4.2227906976744185|-12.656860465116281|\n",
      "|     -120|                 0.0|                 2.0|               -1.8|\n",
      "+---------+--------------------+--------------------+-------------------+\n",
      "only showing top 20 rows\n",
      "\n"
     ]
    }
   ],
   "source": [
    "ss.sql('''\n",
    "        SELECT\n",
    "        \n",
    "            FLOOR(FLOOR(((tip_amount / total_amount) * 100))/10) * 10 as tip_ratio\n",
    "            , AVG(trip_distance) as AVG_trip_distance\n",
    "            , AVG(tip_amount) as AVG_tip_amount\n",
    "            , AVG(total_amount) as AVG_total_amount\n",
    "            \n",
    "        FROM table1\n",
    "\n",
    "        GROUP BY tip_ratio\n",
    "\n",
    "''').show()"
   ]
  },
  {
   "cell_type": "code",
   "execution_count": 191,
   "id": "67926f02-3384-4faa-9382-2a05e84f5a1a",
   "metadata": {},
   "outputs": [],
   "source": [
    "ss.stop()"
   ]
  }
 ],
 "metadata": {
  "kernelspec": {
   "display_name": "Python (spark_start)",
   "language": "python",
   "name": "spark_start"
  },
  "language_info": {
   "codemirror_mode": {
    "name": "ipython",
    "version": 3
   },
   "file_extension": ".py",
   "mimetype": "text/x-python",
   "name": "python",
   "nbconvert_exporter": "python",
   "pygments_lexer": "ipython3",
   "version": "3.8.20"
  }
 },
 "nbformat": 4,
 "nbformat_minor": 5
}
