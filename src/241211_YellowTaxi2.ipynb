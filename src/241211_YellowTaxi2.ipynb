{
 "cells": [
  {
   "cell_type": "code",
   "execution_count": 11,
   "id": "d8c71bfa-675a-49a8-9686-f559f035c861",
   "metadata": {},
   "outputs": [],
   "source": [
    "import os\n",
    "\n",
    "from pyspark.sql import SparkSession\n",
    "from pyspark.sql.functions import isnan, col, when, sum, row_number, mean\n",
    "\n",
    "from pyspark.sql.window import Window\n",
    "\n",
    "import matplotlib.pyplot as plt\n",
    "import seaborn as sns\n",
    "\n",
    "# Jupyter 환경에서 대화형 그래프 활성화\n",
    "# ipympl version : 0.9.3\n",
    "%matplotlib widget\n",
    "\n",
    "# Scipy를 사용한 피어슨 상관계수와 p-value\n",
    "# statistic: 피어슨 상관계수(상관관계의 강도와 방향을 나타냄)\n",
    "# p-value가 0.05 미만이면 통계적으로 유의미하다고 함\n",
    "# p-value는 낮을 수록 의미 있음\n",
    "# scipy version 1.10.1\n",
    "from scipy.stats import pearsonr\n"
   ]
  },
  {
   "cell_type": "code",
   "execution_count": 12,
   "id": "9d207d68-7d34-46d5-9145-e6f2b6462e3d",
   "metadata": {},
   "outputs": [
    {
     "data": {
      "text/html": [
       "\n",
       "            <div>\n",
       "                <p><b>SparkSession - in-memory</b></p>\n",
       "                \n",
       "        <div>\n",
       "            <p><b>SparkContext</b></p>\n",
       "\n",
       "            <p><a href=\"http://ip-172-31-3-9.ap-northeast-3.compute.internal:4040\">Spark UI</a></p>\n",
       "\n",
       "            <dl>\n",
       "              <dt>Version</dt>\n",
       "                <dd><code>v3.1.2</code></dd>\n",
       "              <dt>Master</dt>\n",
       "                <dd><code>local[*]</code></dd>\n",
       "              <dt>AppName</dt>\n",
       "                <dd><code>YellowTaxi</code></dd>\n",
       "            </dl>\n",
       "        </div>\n",
       "        \n",
       "            </div>\n",
       "        "
      ],
      "text/plain": [
       "<pyspark.sql.session.SparkSession at 0x7f8f6f6299d0>"
      ]
     },
     "execution_count": 12,
     "metadata": {},
     "output_type": "execute_result"
    }
   ],
   "source": [
    "ss = SparkSession.builder\\\n",
    "                .appName('YellowTaxi')\\\n",
    "                .config('spark.executor.memory', '5g')\\\n",
    "                .config('spark.driver.memory', '5g')\\\n",
    "                .getOrCreate()\n",
    "\n",
    "ss"
   ]
  },
  {
   "cell_type": "code",
   "execution_count": 13,
   "id": "fad615ec-22a6-446a-9bff-988807d17956",
   "metadata": {},
   "outputs": [],
   "source": [
    "trip_files = 'trips/*.csv'\n",
    "zone_file = 'trips/code/lookup.csv'\n",
    "directory = os.path.join(os.getcwd(), 'data')"
   ]
  },
  {
   "cell_type": "code",
   "execution_count": 14,
   "id": "8096b2a3-98fa-4746-bab1-74914bc1648a",
   "metadata": {},
   "outputs": [
    {
     "name": "stderr",
     "output_type": "stream",
     "text": [
      "                                                                                \r"
     ]
    },
    {
     "data": {
      "text/plain": [
       "(DataFrame[VendorID: int, tpep_pickup_datetime: string, tpep_dropoff_datetime: string, passenger_count: int, trip_distance: double, RatecodeID: int, store_and_fwd_flag: string, PULocationID: int, DOLocationID: int, payment_type: int, fare_amount: double, extra: double, mta_tax: double, tip_amount: double, tolls_amount: double, improvement_surcharge: double, total_amount: double, congestion_surcharge: double],\n",
       " DataFrame[LocationID: int, Borough: string, Zone: string, service_zone: string])"
      ]
     },
     "execution_count": 14,
     "metadata": {},
     "output_type": "execute_result"
    }
   ],
   "source": [
    "df = ss.read.csv(f'file:///{directory}/{trip_files}', inferSchema=True, header = True)\n",
    "df_zone = ss.read.csv(f'file:///{directory}/{zone_file}', inferSchema=True, header = True)\n",
    "df, df_zone"
   ]
  },
  {
   "cell_type": "code",
   "execution_count": 3,
   "id": "e7e54ce8",
   "metadata": {},
   "outputs": [],
   "source": [
    "### 로컬에서 하기 위해 임시방편으로 하드 코딩\n",
    "tmp_df1 = ss.read.csv('data/trips/yellow_tripdata_2021-01.csv'\n",
    "                , inferSchema = True\n",
    "                , header = True)\n",
    "tmp_df2 = ss.read.csv('data/trips/yellow_tripdata_2021-02.csv'\n",
    "                , inferSchema = True\n",
    "                , header = True)\n",
    "tmp_df3 = ss.read.csv('data/trips/yellow_tripdata_2021-03.csv'\n",
    "                , inferSchema = True\n",
    "                , header = True)\n",
    "\n",
    "tmp_df4 = ss.read.csv('data/trips/yellow_tripdata_2021-04.csv'\n",
    "                , inferSchema = True\n",
    "                , header = True)\n",
    "\n",
    "tmp_df5 = ss.read.csv('data/trips/yellow_tripdata_2021-05.csv'\n",
    "                , inferSchema = True\n",
    "                , header = True)\n",
    "\n",
    "tmp_df6 = ss.read.csv('data/trips/yellow_tripdata_2021-06.csv'\n",
    "                , inferSchema = True\n",
    "                , header = True)\n",
    "\n",
    "tmp_df7 = ss.read.csv('data/trips/yellow_tripdata_2021-07.csv'\n",
    "                , inferSchema = True\n",
    "                , header = True)\n",
    "\n",
    "df = tmp_df1\\\n",
    "    .union(tmp_df2)\\\n",
    "    .union(tmp_df3)\\\n",
    "    .union(tmp_df4)\\\n",
    "    .union(tmp_df5)\\\n",
    "    .union(tmp_df6)\\\n",
    "    .union(tmp_df7)\\\n",
    "\n",
    "df_zone = ss.read.csv('data/code/lookup.csv'\n",
    "                , inferSchema = True\n",
    "                , header = True)\n"
   ]
  },
  {
   "cell_type": "code",
   "execution_count": 4,
   "id": "77be46cf-5ea6-4419-91e6-6f96095bc2c4",
   "metadata": {
    "scrolled": true
   },
   "outputs": [
    {
     "name": "stdout",
     "output_type": "stream",
     "text": [
      "+--------+--------------------+---------------------+---------------+-------------+----------+------------------+------------+------------+------------+-----------+-----+-------+----------+------------+---------------------+------------+--------------------+\n",
      "|VendorID|tpep_pickup_datetime|tpep_dropoff_datetime|passenger_count|trip_distance|RatecodeID|store_and_fwd_flag|PULocationID|DOLocationID|payment_type|fare_amount|extra|mta_tax|tip_amount|tolls_amount|improvement_surcharge|total_amount|congestion_surcharge|\n",
      "+--------+--------------------+---------------------+---------------+-------------+----------+------------------+------------+------------+------------+-----------+-----+-------+----------+------------+---------------------+------------+--------------------+\n",
      "|       1| 2021-01-01 00:30:10|  2021-01-01 00:36:12|              1|          2.1|         1|                 N|         142|          43|           2|        8.0|  3.0|    0.5|       0.0|         0.0|                  0.3|        11.8|                 2.5|\n",
      "+--------+--------------------+---------------------+---------------+-------------+----------+------------------+------------+------------+------------+-----------+-----+-------+----------+------------+---------------------+------------+--------------------+\n",
      "only showing top 1 row\n",
      "\n",
      "root\n",
      " |-- VendorID: integer (nullable = true)\n",
      " |-- tpep_pickup_datetime: string (nullable = true)\n",
      " |-- tpep_dropoff_datetime: string (nullable = true)\n",
      " |-- passenger_count: integer (nullable = true)\n",
      " |-- trip_distance: double (nullable = true)\n",
      " |-- RatecodeID: integer (nullable = true)\n",
      " |-- store_and_fwd_flag: string (nullable = true)\n",
      " |-- PULocationID: integer (nullable = true)\n",
      " |-- DOLocationID: integer (nullable = true)\n",
      " |-- payment_type: integer (nullable = true)\n",
      " |-- fare_amount: double (nullable = true)\n",
      " |-- extra: double (nullable = true)\n",
      " |-- mta_tax: double (nullable = true)\n",
      " |-- tip_amount: double (nullable = true)\n",
      " |-- tolls_amount: double (nullable = true)\n",
      " |-- improvement_surcharge: double (nullable = true)\n",
      " |-- total_amount: double (nullable = true)\n",
      " |-- congestion_surcharge: double (nullable = true)\n",
      "\n"
     ]
    }
   ],
   "source": [
    "df.show(1)\n",
    "df.printSchema()"
   ]
  },
  {
   "cell_type": "code",
   "execution_count": 16,
   "id": "ef526768-4aaa-4411-b52b-4630cf03993f",
   "metadata": {},
   "outputs": [
    {
     "name": "stderr",
     "output_type": "stream",
     "text": [
      "                                                                                \r"
     ]
    },
    {
     "data": {
      "text/plain": [
       "15000700"
      ]
     },
     "execution_count": 16,
     "metadata": {},
     "output_type": "execute_result"
    }
   ],
   "source": [
    "df.count()"
   ]
  },
  {
   "cell_type": "markdown",
   "id": "994dfc4d-bfb3-4dad-9cda-8bc21c383e24",
   "metadata": {},
   "source": [
    "## 0. 방향\n",
    "1. 쿼리 작성\n",
    "2. 데이터 프레임으로 구현\n",
    "3. 데이터 및 컬럼 설명\n",
    "    - https://www.kaggle.com/datasets/elemento/nyc-yellow-taxi-trip-data\n"
   ]
  },
  {
   "cell_type": "markdown",
   "id": "8eb31037-089a-4f44-bfc9-370c40db23ae",
   "metadata": {},
   "source": [
    "## 1. 전처리"
   ]
  },
  {
   "cell_type": "markdown",
   "id": "c928dc94-4854-4893-9f61-62703b0ff554",
   "metadata": {},
   "source": [
    "### 1-1. 임시 테이블 만들기"
   ]
  },
  {
   "cell_type": "code",
   "execution_count": 15,
   "id": "8cf638ff-19bd-403b-8637-c017cf74b4b2",
   "metadata": {},
   "outputs": [],
   "source": [
    "df.createOrReplaceTempView('table1')\n",
    "df_zone.createOrReplaceTempView('table2')"
   ]
  },
  {
   "cell_type": "markdown",
   "id": "4a843191-0407-4539-8f85-41d55728719f",
   "metadata": {},
   "source": [
    "### 1-2. 음수는 뭐지"
   ]
  },
  {
   "cell_type": "code",
   "execution_count": 5,
   "id": "cc0890cb-0ea2-4972-b2ed-1e5f2f261f8e",
   "metadata": {
    "scrolled": true
   },
   "outputs": [
    {
     "name": "stdout",
     "output_type": "stream",
     "text": [
      "+------------+---------------+---------------+-----------------+-----------------+\n",
      "|payment_type|min(tip_amount)|max(tip_amount)|min(total_amount)|max(total_amount)|\n",
      "+------------+---------------+---------------+-----------------+-----------------+\n",
      "|        null|          -6.33|          15.13|           -95.88|            50.02|\n",
      "|           1|         -83.95|            0.0|          -133.35|             -3.3|\n",
      "|           3|         -111.1|          32.06|           -647.8|            -0.31|\n",
      "|           4|        -333.32|          40.06|          -554.05|             -0.3|\n",
      "|           2|            0.0|          31.26|           -634.8|            -0.35|\n",
      "+------------+---------------+---------------+-----------------+-----------------+\n",
      "\n"
     ]
    }
   ],
   "source": [
    "ss.sql('''\n",
    "    SELECT\n",
    "        payment_type\n",
    "        , min(tip_amount)\n",
    "        , max(tip_amount)\n",
    "        , min(total_amount)\n",
    "        , max(total_amount)\n",
    "    FROM table1 as A\n",
    "    where tip_amount < 0\n",
    "        or total_amount < 0\n",
    "\n",
    "    GROUP BY payment_type\n",
    "    \n",
    "''').show()"
   ]
  },
  {
   "cell_type": "markdown",
   "id": "5b40b593-2df4-4ab8-b13a-3c68cdcda179",
   "metadata": {},
   "source": [
    "### 1-3 결측치 처리"
   ]
  },
  {
   "cell_type": "code",
   "execution_count": 6,
   "id": "fe3805ce-239c-457e-8271-97cd9e29c969",
   "metadata": {},
   "outputs": [
    {
     "name": "stdout",
     "output_type": "stream",
     "text": [
      "+--------+--------------------+---------------------+---------------+-------------+----------+------------------+------------+------------+------------+-----------+-----+-------+----------+------------+---------------------+------------+--------------------+\n",
      "|VendorID|tpep_pickup_datetime|tpep_dropoff_datetime|passenger_count|trip_distance|RatecodeID|store_and_fwd_flag|PULocationID|DOLocationID|payment_type|fare_amount|extra|mta_tax|tip_amount|tolls_amount|improvement_surcharge|total_amount|congestion_surcharge|\n",
      "+--------+--------------------+---------------------+---------------+-------------+----------+------------------+------------+------------+------------+-----------+-----+-------+----------+------------+---------------------+------------+--------------------+\n",
      "|834028  |0                   |0                    |834028         |0            |834028    |834028            |0           |0           |834028      |0          |0    |0      |0         |0           |0                    |0           |0                   |\n",
      "+--------+--------------------+---------------------+---------------+-------------+----------+------------------+------------+------------+------------+-----------+-----+-------+----------+------------+---------------------+------------+--------------------+\n",
      "\n",
      "+----------+-------+----+------------+\n",
      "|LocationID|Borough|Zone|service_zone|\n",
      "+----------+-------+----+------------+\n",
      "|0         |0      |0   |0           |\n",
      "+----------+-------+----+------------+\n",
      "\n"
     ]
    }
   ],
   "source": [
    "# trip main csv\n",
    "df.select(\n",
    "    [\n",
    "        sum(\n",
    "            when(\n",
    "                col(c).isNull() | isnan(c),1)\\\n",
    "        .otherwise(0)\n",
    "            )\\\n",
    "        .alias(c) for c in df.columns\n",
    "        \n",
    "    ]    \n",
    ").show(truncate = False)\n",
    "\n",
    "# look up csv\n",
    "df_zone.select(\n",
    "    [\n",
    "        sum(\n",
    "            when(\n",
    "                col(c).isNull() | isnan(c),1)\\\n",
    "        .otherwise(0)\n",
    "            )\\\n",
    "        .alias(c) for c in df_zone.columns\n",
    "        \n",
    "    ]    \n",
    ").show(truncate = False)"
   ]
  },
  {
   "cell_type": "code",
   "execution_count": 8,
   "id": "bbf68b30-6505-4e52-b78b-4d6b2b9f9bb5",
   "metadata": {},
   "outputs": [
    {
     "name": "stdout",
     "output_type": "stream",
     "text": [
      "+--------+\n",
      "|VendorID|\n",
      "+--------+\n",
      "|    null|\n",
      "|    null|\n",
      "|    null|\n",
      "|    null|\n",
      "|    null|\n",
      "|    null|\n",
      "|    null|\n",
      "|    null|\n",
      "|    null|\n",
      "|    null|\n",
      "+--------+\n",
      "only showing top 10 rows\n",
      "\n",
      "+---------------+\n",
      "|passenger_count|\n",
      "+---------------+\n",
      "|           null|\n",
      "|           null|\n",
      "|           null|\n",
      "|           null|\n",
      "|           null|\n",
      "|           null|\n",
      "|           null|\n",
      "|           null|\n",
      "|           null|\n",
      "|           null|\n",
      "+---------------+\n",
      "only showing top 10 rows\n",
      "\n",
      "+----------+\n",
      "|RatecodeID|\n",
      "+----------+\n",
      "|      null|\n",
      "|      null|\n",
      "|      null|\n",
      "|      null|\n",
      "|      null|\n",
      "|      null|\n",
      "|      null|\n",
      "|      null|\n",
      "|      null|\n",
      "|      null|\n",
      "+----------+\n",
      "only showing top 10 rows\n",
      "\n",
      "+------------------+\n",
      "|store_and_fwd_flag|\n",
      "+------------------+\n",
      "|              null|\n",
      "|              null|\n",
      "|              null|\n",
      "|              null|\n",
      "|              null|\n",
      "|              null|\n",
      "|              null|\n",
      "|              null|\n",
      "|              null|\n",
      "|              null|\n",
      "+------------------+\n",
      "only showing top 10 rows\n",
      "\n",
      "+------------+\n",
      "|payment_type|\n",
      "+------------+\n",
      "|        null|\n",
      "|        null|\n",
      "|        null|\n",
      "|        null|\n",
      "|        null|\n",
      "|        null|\n",
      "|        null|\n",
      "|        null|\n",
      "|        null|\n",
      "|        null|\n",
      "+------------+\n",
      "only showing top 10 rows\n",
      "\n",
      "+---------------------+\n",
      "|improvement_surcharge|\n",
      "+---------------------+\n",
      "+---------------------+\n",
      "\n"
     ]
    }
   ],
   "source": [
    "df.select('VendorID')\\\n",
    "    .where('VendorID IS NULL')\\\n",
    "    .show(10)\n",
    "\n",
    "df.select('passenger_count')\\\n",
    "    .where('passenger_count IS NULL')\\\n",
    "    .show(10)\n",
    "\n",
    "df.select('RatecodeID')\\\n",
    "    .where('RatecodeID IS NULL')\\\n",
    "    .show(10)\n",
    "\n",
    "df.select('store_and_fwd_flag')\\\n",
    "    .where('store_and_fwd_flag IS NULL')\\\n",
    "    .show(10)\n",
    "\n",
    "df.select('payment_type')\\\n",
    "    .where('payment_type IS NULL')\\\n",
    "    .show(10)\n",
    "\n",
    "df.select('improvement_surcharge')\\\n",
    "    .where('improvement_surcharge IS NULL')\\\n",
    "    .show(10)"
   ]
  },
  {
   "cell_type": "code",
   "execution_count": 16,
   "id": "70d91b50-2d18-4939-ad1d-cd58665eae79",
   "metadata": {},
   "outputs": [
    {
     "name": "stderr",
     "output_type": "stream",
     "text": [
      "                                                                                \r"
     ]
    },
    {
     "data": {
      "text/plain": [
       "14166672"
      ]
     },
     "execution_count": 16,
     "metadata": {},
     "output_type": "execute_result"
    }
   ],
   "source": [
    "# VendorID가 NULL인 숫자가 다른 컬럼의 숫자와 같으니, 출처가 불분명한 데이터로 파악됨\n",
    "# 또한 전체 데이터 중 5%에 해당 >> drop 하자\n",
    "df = df.dropna()\n",
    "df.count()"
   ]
  },
  {
   "cell_type": "code",
   "execution_count": 24,
   "id": "63345e5f",
   "metadata": {},
   "outputs": [
    {
     "name": "stderr",
     "output_type": "stream",
     "text": [
      "                                                                                \r"
     ]
    }
   ],
   "source": [
    "# improvement_surcharge의 NULL은 평균으로 대치해주자\n",
    "\n",
    "mean_improvement_surcharge = df\\\n",
    "                                .select(mean('improvement_surcharge'))\\\n",
    "                                .first()[0]\n",
    "\n",
    "temp_df = df.fillna(\n",
    "                {'improvement_surcharge' : mean_improvement_surcharge}\n",
    "            )\n",
    "\n",
    "temp_df.createOrReplaceTempView('table1')"
   ]
  },
  {
   "cell_type": "code",
   "execution_count": 10,
   "id": "6388ed3d-7e0b-4262-9dde-63589a93d765",
   "metadata": {},
   "outputs": [
    {
     "name": "stdout",
     "output_type": "stream",
     "text": [
      "+--------+--------------------+---------------------+---------------+-------------+----------+------------------+------------+------------+------------+-----------+-----+-------+----------+------------+---------------------+------------+--------------------+\n",
      "|VendorID|tpep_pickup_datetime|tpep_dropoff_datetime|passenger_count|trip_distance|RatecodeID|store_and_fwd_flag|PULocationID|DOLocationID|payment_type|fare_amount|extra|mta_tax|tip_amount|tolls_amount|improvement_surcharge|total_amount|congestion_surcharge|\n",
      "+--------+--------------------+---------------------+---------------+-------------+----------+------------------+------------+------------+------------+-----------+-----+-------+----------+------------+---------------------+------------+--------------------+\n",
      "|0       |0                   |0                    |0              |0            |0         |0                 |0           |0           |0           |0          |0    |0      |0         |0           |0                    |0           |0                   |\n",
      "+--------+--------------------+---------------------+---------------+-------------+----------+------------------+------------+------------+------------+-----------+-----+-------+----------+------------+---------------------+------------+--------------------+\n",
      "\n"
     ]
    }
   ],
   "source": [
    "## 결측치 재확인\n",
    "\n",
    "# trip main csv\n",
    "df.select(\n",
    "    [\n",
    "        sum(\n",
    "            when(\n",
    "                col(c).isNull() | isnan(c),1)\\\n",
    "        .otherwise(0)\n",
    "            )\\\n",
    "        .alias(c) for c in df.columns\n",
    "        \n",
    "    ]    \n",
    ").show(truncate = False)"
   ]
  },
  {
   "cell_type": "markdown",
   "id": "fbe89820-1364-4f6f-969c-406bf64f5f0e",
   "metadata": {},
   "source": [
    "### 1-4 임시 테이블 확정"
   ]
  },
  {
   "cell_type": "code",
   "execution_count": 17,
   "id": "a5a55bf1-48dc-4618-9cd5-39d9d8fca235",
   "metadata": {},
   "outputs": [],
   "source": [
    "df.createOrReplaceTempView('table1')\n",
    "df_zone.createOrReplaceTempView('table2')"
   ]
  },
  {
   "cell_type": "markdown",
   "id": "aa7ecc4a-5007-45d0-a80b-2a5ac92623c3",
   "metadata": {},
   "source": [
    "## 2. 분석"
   ]
  },
  {
   "cell_type": "markdown",
   "id": "f8e174e8-653b-4138-bacf-d77eebc107f6",
   "metadata": {},
   "source": [
    "### 2-1. 운행 거리(trip_distance)와 요금(total_amount)의 상관관계 분석"
   ]
  },
  {
   "cell_type": "markdown",
   "id": "178bf2d5-eeff-4d4c-b346-ab86ebdb4fa8",
   "metadata": {},
   "source": [
    "#### 2-1-1) 기초 통계 데이터 확인"
   ]
  },
  {
   "cell_type": "code",
   "execution_count": 9,
   "id": "bbff0344-2145-4c03-ae11-4a356b4275bd",
   "metadata": {
    "scrolled": true
   },
   "outputs": [
    {
     "name": "stdout",
     "output_type": "stream",
     "text": [
      "+---+--------------+-------------------------+-------------------------+-------------------------+\n",
      "|idx|range_distance|avg_total_amount_by_range|min_total_amount_by_range|max_total_amount_by_range|\n",
      "+---+--------------+-------------------------+-------------------------+-------------------------+\n",
      "|  1|    10km Under|                    15.85|                  -554.05|                 398469.2|\n",
      "|  2|       10 ~ 20|                    56.82|                   -282.8|                   1165.3|\n",
      "|  3|       20 ~ 40|                    75.63|                   -518.8|                   1320.8|\n",
      "|  4|       30 ~ 60|                   121.42|                   -634.8|                    634.8|\n",
      "|  5|       40 ~ 80|                   136.55|                   -647.8|                    647.8|\n",
      "|  6|      50 ~ 100|                   152.63|                  -327.05|                   456.84|\n",
      "|  7|      60 ~ 120|                   119.15|                  -314.55|                   481.45|\n",
      "|  8|      70 ~ 140|                   129.51|                  -373.92|                    450.3|\n",
      "|  9|      80 ~ 160|                   127.71|                      0.0|                   525.27|\n",
      "| 10|      90 ~ 180|                   100.38|                     6.43|                   645.21|\n",
      "| 11|     100 ~ 200|                    83.31|                     13.3|                    601.8|\n",
      "| 12|     110 ~ 220|                    78.12|                     15.3|                   591.85|\n",
      "| 13|     120 ~ 240|                    45.14|                    10.46|                   360.42|\n",
      "| 14|     130 ~ 260|                    82.17|                    15.92|                   519.26|\n",
      "| 15|     140 ~ 280|                    64.87|                    12.42|                    420.6|\n",
      "| 16|     150 ~ 300|                    78.64|                    16.58|                    569.6|\n",
      "| 17|     160 ~ 320|                    91.46|                     19.3|                   682.48|\n",
      "| 18|     170 ~ 340|                    85.98|                     20.3|                    653.1|\n",
      "| 19|     180 ~ 360|                    89.96|                      3.8|                   506.85|\n",
      "| 20|     190 ~ 380|                    27.62|                     20.8|                    32.16|\n",
      "+---+--------------+-------------------------+-------------------------+-------------------------+\n",
      "only showing top 20 rows\n",
      "\n"
     ]
    }
   ],
   "source": [
    "ss.sql('''\n",
    "    SELECT \n",
    "    ROW_NUMBER() OVER (ORDER BY range_distance) as idx\n",
    "    , CASE WHEN range_distance = 0 THEN '10km Under'\n",
    "        ELSE CONCAT(range_distance, ' ~ ', range_distance * 2) END as range_distance\n",
    "    , avg_total_amount_by_range\n",
    "    , min_total_amount_by_range\n",
    "    , max_total_amount_by_range\n",
    "    \n",
    "    FROM\n",
    "        (\n",
    "        SELECT\n",
    "            \n",
    "            FLOOR(trip_distance/10) * 10 as range_distance\n",
    "            -- , AVG(trip_distance)\n",
    "            , ROUND(AVG(total_amount), 2) as avg_total_amount_by_range\n",
    "            , MIN(total_amount) as min_total_amount_by_range\n",
    "            , MAX(total_amount) as max_total_amount_by_range\n",
    "        FROM table1\n",
    "        \n",
    "        GROUP BY range_distance    \n",
    "        )\n",
    "    ORDER BY idx\n",
    "''').show()"
   ]
  },
  {
   "cell_type": "markdown",
   "id": "0a9652d3-190a-47a9-be93-5f6fa683c184",
   "metadata": {},
   "source": [
    "#### 2-1-2) Pandas 데이터프레임으로 만들기"
   ]
  },
  {
   "cell_type": "code",
   "execution_count": 18,
   "id": "d734830d-c3e6-4460-8564-c28a582182b2",
   "metadata": {},
   "outputs": [
    {
     "name": "stderr",
     "output_type": "stream",
     "text": [
      "                                                                                \r"
     ]
    }
   ],
   "source": [
    "df1 = ss.sql('''\n",
    "    SELECT\n",
    "        \n",
    "        FLOOR(trip_distance/10) * 10 as range_distance\n",
    "        -- , AVG(trip_distance) range_distance 컬럼과 사실상 동일한 값\n",
    "        , ROUND(AVG(total_amount), 2) as avg_total_amount_by_range\n",
    "        , MIN(total_amount) as min_total_amount_by_range\n",
    "        , MAX(total_amount) as max_total_amount_by_range\n",
    "    FROM table1\n",
    "    \n",
    "    GROUP BY range_distance    \n",
    "\n",
    "    ORDER BY range_distance\n",
    "''').toPandas()"
   ]
  },
  {
   "cell_type": "markdown",
   "id": "921202f9-5233-4759-8eef-e1ed62b388f0",
   "metadata": {},
   "source": [
    "#### 2-1-3) 상관계수 파악"
   ]
  },
  {
   "cell_type": "code",
   "execution_count": 11,
   "id": "8ff0d48b-9521-471f-a1f8-2f7c560cad27",
   "metadata": {},
   "outputs": [
    {
     "data": {
      "text/html": [
       "<div>\n",
       "<style scoped>\n",
       "    .dataframe tbody tr th:only-of-type {\n",
       "        vertical-align: middle;\n",
       "    }\n",
       "\n",
       "    .dataframe tbody tr th {\n",
       "        vertical-align: top;\n",
       "    }\n",
       "\n",
       "    .dataframe thead th {\n",
       "        text-align: right;\n",
       "    }\n",
       "</style>\n",
       "<table border=\"1\" class=\"dataframe\">\n",
       "  <thead>\n",
       "    <tr style=\"text-align: right;\">\n",
       "      <th></th>\n",
       "      <th>range_distance</th>\n",
       "      <th>avg_total_amount_by_range</th>\n",
       "      <th>min_total_amount_by_range</th>\n",
       "      <th>max_total_amount_by_range</th>\n",
       "    </tr>\n",
       "  </thead>\n",
       "  <tbody>\n",
       "    <tr>\n",
       "      <th>range_distance</th>\n",
       "      <td>1.000000</td>\n",
       "      <td>-0.071990</td>\n",
       "      <td>-0.008338</td>\n",
       "      <td>-0.027671</td>\n",
       "    </tr>\n",
       "    <tr>\n",
       "      <th>avg_total_amount_by_range</th>\n",
       "      <td>-0.071990</td>\n",
       "      <td>1.000000</td>\n",
       "      <td>0.854864</td>\n",
       "      <td>-0.035483</td>\n",
       "    </tr>\n",
       "    <tr>\n",
       "      <th>min_total_amount_by_range</th>\n",
       "      <td>-0.008338</td>\n",
       "      <td>0.854864</td>\n",
       "      <td>1.000000</td>\n",
       "      <td>-0.167147</td>\n",
       "    </tr>\n",
       "    <tr>\n",
       "      <th>max_total_amount_by_range</th>\n",
       "      <td>-0.027671</td>\n",
       "      <td>-0.035483</td>\n",
       "      <td>-0.167147</td>\n",
       "      <td>1.000000</td>\n",
       "    </tr>\n",
       "  </tbody>\n",
       "</table>\n",
       "</div>"
      ],
      "text/plain": [
       "                           range_distance  avg_total_amount_by_range  \\\n",
       "range_distance                   1.000000                  -0.071990   \n",
       "avg_total_amount_by_range       -0.071990                   1.000000   \n",
       "min_total_amount_by_range       -0.008338                   0.854864   \n",
       "max_total_amount_by_range       -0.027671                  -0.035483   \n",
       "\n",
       "                           min_total_amount_by_range  \\\n",
       "range_distance                             -0.008338   \n",
       "avg_total_amount_by_range                   0.854864   \n",
       "min_total_amount_by_range                   1.000000   \n",
       "max_total_amount_by_range                  -0.167147   \n",
       "\n",
       "                           max_total_amount_by_range  \n",
       "range_distance                             -0.027671  \n",
       "avg_total_amount_by_range                  -0.035483  \n",
       "min_total_amount_by_range                  -0.167147  \n",
       "max_total_amount_by_range                   1.000000  "
      ]
     },
     "execution_count": 11,
     "metadata": {},
     "output_type": "execute_result"
    }
   ],
   "source": [
    "df1.corr()"
   ]
  },
  {
   "cell_type": "code",
   "execution_count": 19,
   "id": "a9f83c9a-57f8-4281-a822-519032b015f9",
   "metadata": {},
   "outputs": [
    {
     "data": {
      "text/plain": [
       "0.5365793021588273"
      ]
     },
     "execution_count": 19,
     "metadata": {},
     "output_type": "execute_result"
    }
   ],
   "source": [
    "statistic, pvalue = pearsonr(df1['range_distance'], df1['avg_total_amount_by_range'])\n",
    "pvalue"
   ]
  },
  {
   "cell_type": "markdown",
   "id": "342a9e81-aa62-4f58-b070-d5cb5b962461",
   "metadata": {},
   "source": [
    "#### 2-1-4) 시각화"
   ]
  },
  {
   "cell_type": "code",
   "execution_count": 9,
   "id": "aea0cbe4-257c-462e-9ade-ab417d1f2a68",
   "metadata": {},
   "outputs": [
    {
     "data": {
      "image/png": "[encoded data removed]",
      "text/plain": [
       "<Figure size 800x600 with 3 Axes>"
      ]
     },
     "metadata": {},
     "output_type": "display_data"
    }
   ],
   "source": [
    "plt.figure(figsize = (8,6))\n",
    "\n",
    "axes1 = plt.subplot(2,1,1)\n",
    "axes1.scatter(df1['range_distance'], df1['avg_total_amount_by_range'], alpha = 0.7)\n",
    "axes1.grid(True)\n",
    "plt.title('range_distance / avg_total_amount_by_range')\n",
    "\n",
    "axes2 = plt.subplot(2,1,2)\n",
    "sns.heatmap(df1.corr(), annot =True, cmap = 'coolwarm')\n",
    "plt.xticks(rotation = 70)\n",
    "plt.title('corr_heatmap')\n",
    "\n",
    "plt.tight_layout()\n",
    "plt.show()"
   ]
  },
  {
   "cell_type": "markdown",
   "id": "2e638bad-38f1-46c3-9062-15af93fd4e03",
   "metadata": {},
   "source": [
    "#### 2-1-5) 결론"
   ]
  },
  {
   "cell_type": "markdown",
   "id": "650d700f-f131-4f72-915b-93bc08567e07",
   "metadata": {},
   "source": [
    "<span style=\"\n",
    "display : block;\n",
    "background-color:#fff5b1;\n",
    "color : red;\n",
    "font-size : 20px;\n",
    "font-weight : bold;\n",
    "text-align : center;\">[결론]</span>\n",
    "\n",
    "- 이동 거리가 증가하면, 평균 운임이 음의 상관관계를 가져, 살짝 줄어드는 모습을 볼 수 있다\n",
    "- 또한 이동 거리와 평균 운임의 p-value가 0.05 미만임에, 귀무가설(두 변수간 상관 관계가 없다)은 기각된다.\n",
    "- 즉, 이동 거리와 평균 운임은 약한 음의 상관 관계를 가진다.- "
   ]
  },
  {
   "cell_type": "markdown",
   "id": "760a9617-a2ae-4923-bc3a-a3cebdbf2c84",
   "metadata": {},
   "source": [
    "### 2-2. 피크 시간대 요금 분석"
   ]
  },
  {
   "cell_type": "markdown",
   "id": "271c82c2-e38b-4c76-bb02-56d2da269263",
   "metadata": {},
   "source": [
    "#### 2-2-1) 기초 통계 데이터 확인"
   ]
  },
  {
   "cell_type": "code",
   "execution_count": 120,
   "id": "d9b5f4e6-623c-48e6-854c-970252f2ea2e",
   "metadata": {
    "scrolled": true
   },
   "outputs": [
    {
     "name": "stderr",
     "output_type": "stream",
     "text": [
      "[Stage 68:==================================================>     (10 + 1) / 11]\r"
     ]
    },
    {
     "name": "stdout",
     "output_type": "stream",
     "text": [
      "+---------+--------+------------------------+\n",
      "|time_hour|cnt_HOUR|AVG_total_amount_by_HOUR|\n",
      "+---------+--------+------------------------+\n",
      "|        0|  273553|                   21.43|\n",
      "|        1|  160424|                   20.84|\n",
      "|        2|   97218|                   20.36|\n",
      "|        3|   57806|                   21.07|\n",
      "|        4|   45410|                   25.54|\n",
      "|        5|   82073|                   26.55|\n",
      "|        6|  241020|                   21.33|\n",
      "|        7|  438938|                   18.84|\n",
      "|        8|  641530|                   17.79|\n",
      "|        9|  712912|                   17.59|\n",
      "|       10|  794621|                   17.54|\n",
      "|       11|  877952|                   17.47|\n",
      "|       12|  970018|                   17.96|\n",
      "|       13| 1001522|                   18.15|\n",
      "|       14| 1084111|                   18.18|\n",
      "|       15| 1091871|                   18.63|\n",
      "|       16| 1043498|                   19.71|\n",
      "|       17| 1085226|                   19.29|\n",
      "|       18| 1087217|                   18.58|\n",
      "|       19|  915477|                   18.36|\n",
      "+---------+--------+------------------------+\n",
      "only showing top 20 rows\n",
      "\n"
     ]
    },
    {
     "name": "stderr",
     "output_type": "stream",
     "text": [
      "                                                                                \r"
     ]
    }
   ],
   "source": [
    "ss.sql('''\n",
    "\n",
    "    SELECT\n",
    "        HOUR(tpep_pickup_datetime) as time_hour\n",
    "        , COUNT(*) as cnt_HOUR\n",
    "        , ROUND(AVG(total_amount), 2) as AVG_total_amount_by_HOUR\n",
    "    \n",
    "    FROM table1\n",
    "    \n",
    "    GROUP BY time_hour\n",
    "\n",
    "    ORDER BY time_hour\n",
    "\n",
    "''').show()"
   ]
  },
  {
   "cell_type": "code",
   "execution_count": 141,
   "id": "82a849bc-b5be-4d6d-829b-06ad93f1e7f4",
   "metadata": {},
   "outputs": [
    {
     "name": "stderr",
     "output_type": "stream",
     "text": [
      "[Stage 75:==================================================>     (10 + 1) / 11]\r"
     ]
    },
    {
     "name": "stdout",
     "output_type": "stream",
     "text": [
      "+---------+--------+\n",
      "|time_hour|cnt_HOUR|\n",
      "+---------+--------+\n",
      "|       15| 1091871|\n",
      "|       18| 1087217|\n",
      "|       17| 1085226|\n",
      "|       14| 1084111|\n",
      "|       16| 1043498|\n",
      "|       13| 1001522|\n",
      "|       12|  970018|\n",
      "|       19|  915477|\n",
      "|       11|  877952|\n",
      "|       10|  794621|\n",
      "+---------+--------+\n",
      "\n"
     ]
    },
    {
     "name": "stderr",
     "output_type": "stream",
     "text": [
      "                                                                                \r"
     ]
    }
   ],
   "source": [
    "ss.sql('''\n",
    "\n",
    "    SELECT\n",
    "        HOUR(tpep_pickup_datetime) as time_hour\n",
    "        , COUNT(*) as cnt_HOUR\n",
    "    \n",
    "    FROM table1\n",
    "    \n",
    "    GROUP BY time_hour\n",
    "\n",
    "    ORDER BY cnt_HOUR DESC\n",
    "\n",
    "    LIMIT 10;\n",
    "\n",
    "''').show()"
   ]
  },
  {
   "cell_type": "markdown",
   "id": "a9f16504-248f-4ab5-bd42-3547de64678d",
   "metadata": {},
   "source": [
    "#### 2-2-2) Pandas 데이터프레임으로 만들기"
   ]
  },
  {
   "cell_type": "code",
   "execution_count": 15,
   "id": "87cc72df-85a5-4e71-9c13-73e6342d4ac9",
   "metadata": {},
   "outputs": [],
   "source": [
    "df2 = ss.sql('''\n",
    "\n",
    "    SELECT\n",
    "        HOUR(tpep_pickup_datetime) as time_hour\n",
    "        , COUNT(*) as cnt_HOUR\n",
    "        , ROUND(AVG(total_amount), 2) as AVG_total_amount_by_HOUR\n",
    "    \n",
    "    FROM table1\n",
    "    \n",
    "    GROUP BY time_hour\n",
    "\n",
    "    ORDER BY time_hour\n",
    "\n",
    "''').toPandas()"
   ]
  },
  {
   "cell_type": "markdown",
   "id": "8d9f359c-fee4-4141-b2f6-f0853f9ec0a4",
   "metadata": {},
   "source": [
    "#### 2-2-3) 상관계수 파악"
   ]
  },
  {
   "cell_type": "code",
   "execution_count": 123,
   "id": "254bb6f6-0f71-4b88-8094-5989c55d404c",
   "metadata": {},
   "outputs": [
    {
     "data": {
      "text/html": [
       "<div>\n",
       "<style scoped>\n",
       "    .dataframe tbody tr th:only-of-type {\n",
       "        vertical-align: middle;\n",
       "    }\n",
       "\n",
       "    .dataframe tbody tr th {\n",
       "        vertical-align: top;\n",
       "    }\n",
       "\n",
       "    .dataframe thead th {\n",
       "        text-align: right;\n",
       "    }\n",
       "</style>\n",
       "<table border=\"1\" class=\"dataframe\">\n",
       "  <thead>\n",
       "    <tr style=\"text-align: right;\">\n",
       "      <th></th>\n",
       "      <th>time_hour</th>\n",
       "      <th>cnt_HOUR</th>\n",
       "      <th>AVG_total_amount_by_HOUR</th>\n",
       "    </tr>\n",
       "  </thead>\n",
       "  <tbody>\n",
       "    <tr>\n",
       "      <th>time_hour</th>\n",
       "      <td>1.000000</td>\n",
       "      <td>0.644409</td>\n",
       "      <td>-0.412225</td>\n",
       "    </tr>\n",
       "    <tr>\n",
       "      <th>cnt_HOUR</th>\n",
       "      <td>0.644409</td>\n",
       "      <td>1.000000</td>\n",
       "      <td>-0.734082</td>\n",
       "    </tr>\n",
       "    <tr>\n",
       "      <th>AVG_total_amount_by_HOUR</th>\n",
       "      <td>-0.412225</td>\n",
       "      <td>-0.734082</td>\n",
       "      <td>1.000000</td>\n",
       "    </tr>\n",
       "  </tbody>\n",
       "</table>\n",
       "</div>"
      ],
      "text/plain": [
       "                          time_hour  cnt_HOUR  AVG_total_amount_by_HOUR\n",
       "time_hour                  1.000000  0.644409                 -0.412225\n",
       "cnt_HOUR                   0.644409  1.000000                 -0.734082\n",
       "AVG_total_amount_by_HOUR  -0.412225 -0.734082                  1.000000"
      ]
     },
     "execution_count": 123,
     "metadata": {},
     "output_type": "execute_result"
    }
   ],
   "source": [
    "df2.corr()"
   ]
  },
  {
   "cell_type": "markdown",
   "id": "413c24c2-9193-4148-a514-5df7e17dfb49",
   "metadata": {},
   "source": [
    "#### 2-2-4) 시각화"
   ]
  },
  {
   "cell_type": "code",
   "execution_count": 16,
   "id": "af542f44-3f1e-4b4f-840e-dd5fd3e41e62",
   "metadata": {},
   "outputs": [
    {
     "data": {
      "application/vnd.jupyter.widget-view+json": {
       "model_id": "e85b1cc957a34654b47a0a218e7c475f",
       "version_major": 2,
       "version_minor": 0
      },
      "image/png": "[encoded data removed]",
      "text/html": [
       "\n",
       "            <div style=\"display: inline-block;\">\n",
       "                <div class=\"jupyter-widgets widget-label\" style=\"text-align: center;\">\n",
       "                    Figure\n",
       "                </div>\n",
       "                <img src='data:image/png;base64,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' width=800.0/>\n",
       "            </div>\n",
       "        "
      ],
      "text/plain": [
       "Canvas(toolbar=Toolbar(toolitems=[('Home', 'Reset original view', 'home', 'home'), ('Back', 'Back to previous …"
      ]
     },
     "metadata": {},
     "output_type": "display_data"
    }
   ],
   "source": [
    "plt.figure(figsize=(8,6))\n",
    "\n",
    "axes1 = plt.subplot(2,1,1)\n",
    "axes1.scatter(df2['time_hour'], df2['cnt_HOUR'])\n",
    "plt.title('Peak_Time_Scatter Chart')\n",
    "\n",
    "axes2 = plt.subplot(2,1,2)\n",
    "sns.heatmap(df2.corr(), annot = True, cmap = 'coolwarm')\n",
    "plt.title('corr_heatmap')\n",
    "\n",
    "plt.tight_layout()\n",
    "\n",
    "plt.show()"
   ]
  },
  {
   "cell_type": "code",
   "execution_count": 151,
   "id": "b95be81b-32e2-4534-80fd-7611984b0592",
   "metadata": {},
   "outputs": [
    {
     "name": "stdout",
     "output_type": "stream",
     "text": [
      "0.00004442707559947090\n"
     ]
    }
   ],
   "source": [
    "statistic, pvalue = pearsonr(df2['cnt_HOUR'], df2['AVG_total_amount_by_HOUR'])\n",
    "print(f'{pvalue:.20f}')"
   ]
  },
  {
   "cell_type": "markdown",
   "id": "b2c42ba0-4064-4ad1-b377-ed3ce0e3e3dc",
   "metadata": {},
   "source": [
    "#### 2-2-5) 결론"
   ]
  },
  {
   "cell_type": "markdown",
   "id": "623ef85e-ee5a-4c8b-a7c7-0b22beaeb54f",
   "metadata": {},
   "source": [
    "<span style=\"\n",
    "display : block;\n",
    "background-color:#fff5b1;\n",
    "color : red;\n",
    "font-size : 20px;\n",
    "font-weight : bold;\n",
    "text-align : center;\">[결론]</span>\n",
    "\n",
    "- 피크 시간은 13시 ~ 18시에 많다.\n",
    "- 시간 당 이용횟수가 증가할 수록, 시간 당 지불하는 총 금액의 평균은 낮아진다.\n",
    "- 피크 시간에는 짧은 운임요금이 많으며 이는 짧은 거리일 수도 있다는 생각이 들게 된다.\n",
    "- p-value 역시 시간 당 이용횟수와 시간 당 지불하는 총 금액의 평균이 매우 작은 값을 나타내고 있어, 두 변수간 상관관계가 없다는 귀무가설은 기각된다.\n",
    "- 상관계수 역시, -0.73으로 음의 방향으로 강함을 확인할 수 있다.\n",
    "- 즉, 시간 당 이용횟수는 시간 당 지불하는 총 금액의 평균과 음의 상관관계를 띄고 있다."
   ]
  },
  {
   "cell_type": "markdown",
   "id": "c01e8032-8c63-4972-a0b2-d87c9625cf04",
   "metadata": {},
   "source": [
    "### 2-3. 지불 유형별 요금, 팁 분석"
   ]
  },
  {
   "cell_type": "markdown",
   "id": "af499c7d-c670-4f31-864b-1033f66a9e57",
   "metadata": {},
   "source": [
    "#### 2-3-1) 기초 통계 데이터 확인"
   ]
  },
  {
   "cell_type": "code",
   "execution_count": 37,
   "id": "7281734e",
   "metadata": {},
   "outputs": [
    {
     "name": "stderr",
     "output_type": "stream",
     "text": [
      "[Stage 79:==================================================>     (10 + 1) / 11]\r"
     ]
    },
    {
     "name": "stdout",
     "output_type": "stream",
     "text": [
      "+------------+------------------------------+--------------------------------+\n",
      "|payment_type|avg_tip_amount_by_payment_type|avg_total_amount_by_payment_type|\n",
      "+------------+------------------------------+--------------------------------+\n",
      "|           1|                          2.88|                           18.89|\n",
      "|           2|                           0.0|                           15.42|\n",
      "|           3|                         -0.01|                           18.07|\n",
      "|           4|                          0.01|                           -2.77|\n",
      "|           5|                           0.0|                            17.8|\n",
      "+------------+------------------------------+--------------------------------+\n",
      "\n"
     ]
    },
    {
     "name": "stderr",
     "output_type": "stream",
     "text": [
      "                                                                                \r"
     ]
    }
   ],
   "source": [
    "ss.sql('''\n",
    "        SELECT\n",
    "        \n",
    "            payment_type\n",
    "            , ROUND(AVG(tip_amount), 2) as avg_tip_amount_by_payment_type\n",
    "            , ROUND(AVG(total_amount), 2) as avg_total_amount_by_payment_type\n",
    "            \n",
    "        FROM table1\n",
    "        \n",
    "        GROUP BY payment_type\n",
    "\n",
    "        ORDER BY payment_type\n",
    "\n",
    "    ''')\\\n",
    ".show(20)"
   ]
  },
  {
   "cell_type": "code",
   "execution_count": 45,
   "id": "5c62d718-7ec6-462e-aade-e74638984eb9",
   "metadata": {},
   "outputs": [
    {
     "name": "stderr",
     "output_type": "stream",
     "text": [
      "[Stage 103:=============================================>       (171 + 2) / 200]\r"
     ]
    },
    {
     "name": "stdout",
     "output_type": "stream",
     "text": [
      "+------------+------------------------------+--------------------------------+-------------+-------------+-------------+\n",
      "|payment_type|avg_tip_amount_by_payment_type|avg_total_amount_by_payment_type|min_tip_ratio|avg_tip_ratio|max_tip_ratio|\n",
      "+------------+------------------------------+--------------------------------+-------------+-------------+-------------+\n",
      "|           1|                          2.88|                           18.89|          0.0|        15.29|        100.0|\n",
      "|           2|                           0.0|                           15.42|      -131.58|          0.0|        63.24|\n",
      "|           3|                         -0.01|                           18.07|      -230.77|         0.13|        94.07|\n",
      "|           4|                          0.01|                           -2.77|     -5666.67|        -0.29|        97.57|\n",
      "|           5|                           0.0|                            17.8|          0.0|          0.0|          0.0|\n",
      "+------------+------------------------------+--------------------------------+-------------+-------------+-------------+\n",
      "\n"
     ]
    },
    {
     "name": "stderr",
     "output_type": "stream",
     "text": [
      "                                                                                \r"
     ]
    }
   ],
   "source": [
    "ss.sql('''\n",
    "    SELECT\n",
    "        payment_type\n",
    "        , ROUND(AVG(tip_amount), 2) as avg_tip_amount_by_payment_type\n",
    "        , ROUND(AVG(total_amount), 2) as avg_total_amount_by_payment_type\n",
    "        , ROUND(MIN((tip_amount / total_amount) * 100), 2) as min_tip_ratio\n",
    "        , ROUND(AVG((tip_amount / total_amount) * 100), 2) as avg_tip_ratio\n",
    "        , ROUND(MAX((tip_amount / total_amount) * 100), 2) as max_tip_ratio\n",
    "    FROM table1 as A\n",
    "    GROUP BY payment_type\n",
    "    ORDER BY payment_type\n",
    "    \n",
    "''').show()"
   ]
  },
  {
   "cell_type": "markdown",
   "id": "9f871814-2334-4f82-9b14-82dfb9614754",
   "metadata": {},
   "source": [
    "#### 2-3-2) Pandas 데이터프레임으로 만들기"
   ]
  },
  {
   "cell_type": "code",
   "execution_count": 12,
   "id": "dcea0182",
   "metadata": {},
   "outputs": [],
   "source": [
    "df3 = ss.sql('''\n",
    "    SELECT\n",
    "        payment_type\n",
    "        , ROUND(AVG(tip_amount), 2) as avg_tip_amount_by_payment_type\n",
    "        --, ROUND(AVG(total_amount), 2) as avg_total_amount_by_payment_type\n",
    "        --, ROUND(MIN((tip_amount / total_amount) * 100), 2) as min_tip_ratio\n",
    "        , ROUND(AVG((tip_amount / total_amount) * 100), 2) as avg_tip_ratio\n",
    "        --, ROUND(MAX((tip_amount / total_amount) * 100), 2) as max_tip_ratio\n",
    "    FROM table1 as A\n",
    "    GROUP BY payment_type\n",
    "    ORDER BY payment_type\n",
    "    \n",
    "    \n",
    "''').toPandas()"
   ]
  },
  {
   "cell_type": "code",
   "execution_count": 52,
   "id": "bffcca39-9f59-49e0-bef9-941bcc9d2ad8",
   "metadata": {},
   "outputs": [],
   "source": [
    "tmp_df = ss.sql('''\n",
    "    SELECT\n",
    "    \n",
    "        payment_type\n",
    "        , tip_amount\n",
    "        , total_amount\n",
    "        \n",
    "    FROM table1    \n",
    "    \n",
    "''').toPandas()"
   ]
  },
  {
   "cell_type": "markdown",
   "id": "13eff44d-80c8-4097-840b-529e52747f2e",
   "metadata": {},
   "source": [
    "#### 2-3-3) 이상치 확인 및 제거"
   ]
  },
  {
   "cell_type": "code",
   "execution_count": 53,
   "id": "50c8dc27-59b1-4ecd-9bdb-6abf7ca62440",
   "metadata": {},
   "outputs": [
    {
     "data": {
      "text/plain": [
       "payment_type\n",
       "1    1.51\n",
       "2    0.00\n",
       "3    0.00\n",
       "4    0.00\n",
       "5    0.00\n",
       "dtype: float64"
      ]
     },
     "execution_count": 53,
     "metadata": {},
     "output_type": "execute_result"
    }
   ],
   "source": [
    "IQR_df = tmp_df.groupby('payment_type')['tip_amount'].describe()['75%'] \\\n",
    "        - tmp_df.groupby('payment_type')['tip_amount'].describe()['25%']\n",
    "IQR_df"
   ]
  },
  {
   "cell_type": "code",
   "execution_count": 54,
   "id": "d373a44f-92dd-44d0-94d0-55f03d5df472",
   "metadata": {},
   "outputs": [],
   "source": [
    "outlier_min = tmp_df.groupby('payment_type')['tip_amount'].describe()['25%'] - (1.5 * IQR_df)\n",
    "outlier_min = outlier_min.loc[1]\n",
    "\n",
    "outlier_max = tmp_df.groupby('payment_type')['tip_amount'].describe()['75%'] + (1.5 * IQR_df)\n",
    "outlier_max = outlier_max.loc[1]\n",
    "\n",
    "ss.sql(f'SET outlier_min = {outlier_min}')\n",
    "ss.sql(f'SET outlier_max = {outlier_max}')\n",
    "\n",
    "\n",
    "tmp_df= ss.sql('''\n",
    "                SELECT\n",
    "                \n",
    "                    payment_type\n",
    "                    , tip_amount\n",
    "                    , total_amount\n",
    "                    \n",
    "                FROM table1\n",
    "                WHERE payment_type = 1\n",
    "                    AND tip_amount BETWEEN ${outlier_min} AND ${outlier_max}\n",
    "                '''\n",
    "              ).toPandas()"
   ]
  },
  {
   "cell_type": "markdown",
   "id": "6baed393-7cb0-4355-9b6d-19aafe89c64a",
   "metadata": {},
   "source": [
    "#### 2-3-4) 상관계수 파악"
   ]
  },
  {
   "cell_type": "code",
   "execution_count": 38,
   "id": "93fcc75f-2ec8-41c7-8e43-b07d42256e64",
   "metadata": {},
   "outputs": [
    {
     "data": {
      "text/html": [
       "<div>\n",
       "<style scoped>\n",
       "    .dataframe tbody tr th:only-of-type {\n",
       "        vertical-align: middle;\n",
       "    }\n",
       "\n",
       "    .dataframe tbody tr th {\n",
       "        vertical-align: top;\n",
       "    }\n",
       "\n",
       "    .dataframe thead th {\n",
       "        text-align: right;\n",
       "    }\n",
       "</style>\n",
       "<table border=\"1\" class=\"dataframe\">\n",
       "  <thead>\n",
       "    <tr style=\"text-align: right;\">\n",
       "      <th></th>\n",
       "      <th>payment_type</th>\n",
       "      <th>avg_tip_amount_by_payment_type</th>\n",
       "      <th>avg_tip_ratio</th>\n",
       "    </tr>\n",
       "  </thead>\n",
       "  <tbody>\n",
       "    <tr>\n",
       "      <th>payment_type</th>\n",
       "      <td>1.000000</td>\n",
       "      <td>-0.705869</td>\n",
       "      <td>-0.711771</td>\n",
       "    </tr>\n",
       "    <tr>\n",
       "      <th>avg_tip_amount_by_payment_type</th>\n",
       "      <td>-0.705869</td>\n",
       "      <td>1.000000</td>\n",
       "      <td>0.999615</td>\n",
       "    </tr>\n",
       "    <tr>\n",
       "      <th>avg_tip_ratio</th>\n",
       "      <td>-0.711771</td>\n",
       "      <td>0.999615</td>\n",
       "      <td>1.000000</td>\n",
       "    </tr>\n",
       "  </tbody>\n",
       "</table>\n",
       "</div>"
      ],
      "text/plain": [
       "                                payment_type  avg_tip_amount_by_payment_type  \\\n",
       "payment_type                        1.000000                       -0.705869   \n",
       "avg_tip_amount_by_payment_type     -0.705869                        1.000000   \n",
       "avg_tip_ratio                      -0.711771                        0.999615   \n",
       "\n",
       "                                avg_tip_ratio  \n",
       "payment_type                        -0.711771  \n",
       "avg_tip_amount_by_payment_type       0.999615  \n",
       "avg_tip_ratio                        1.000000  "
      ]
     },
     "execution_count": 38,
     "metadata": {},
     "output_type": "execute_result"
    }
   ],
   "source": [
    "df3.corr()"
   ]
  },
  {
   "cell_type": "code",
   "execution_count": 67,
   "id": "a6f4ce44-e546-463c-aba1-7ed06e0b2737",
   "metadata": {},
   "outputs": [
    {
     "data": {
      "text/plain": [
       "count    9.901148e+06\n",
       "mean     1.496239e+01\n",
       "std      5.394364e+00\n",
       "min      0.000000e+00\n",
       "25%      1.304348e+01\n",
       "50%      1.666667e+01\n",
       "75%      1.666667e+01\n",
       "max      1.000000e+02\n",
       "dtype: float64"
      ]
     },
     "execution_count": 67,
     "metadata": {},
     "output_type": "execute_result"
    }
   ],
   "source": [
    "((tmp_df['tip_amount'] / tmp_df['total_amount']) * 100).describe()"
   ]
  },
  {
   "cell_type": "markdown",
   "id": "4c09a97f-90ef-48bd-bf66-917d5089ba4a",
   "metadata": {},
   "source": [
    "#### 2-3-5) 시각화"
   ]
  },
  {
   "cell_type": "code",
   "execution_count": 61,
   "id": "2ad9ea00-b29b-47d7-875b-34eb3dbc44ab",
   "metadata": {},
   "outputs": [
    {
     "data": {
      "image/png": "[encoded data removed]",
      "text/plain": [
       "<Figure size 800x1000 with 3 Axes>"
      ]
     },
     "metadata": {},
     "output_type": "display_data"
    }
   ],
   "source": [
    "plt.figure(figsize = (8,10))\n",
    "\n",
    "axes1 = plt.subplot(2,1,1)\n",
    "sns.boxplot(data = tmp_df\n",
    "           , y= 'tip_amount'\n",
    "           , color = '#FF8A8A'\n",
    "           , linecolor = '#000000'\n",
    "           )\n",
    "plt.xlabel('payment_type = 1')\n",
    "\n",
    "axes2 = plt.subplot(2,1,2)\n",
    "sns.heatmap(df3.corr(), annot = True, cmap = 'coolwarm')\n",
    "plt.xticks(rotation = 70)\n",
    "\n",
    "\n",
    "plt.tight_layout()\n",
    "plt.show()"
   ]
  },
  {
   "cell_type": "markdown",
   "id": "e36a60af-8aea-4ce6-b4f7-ec68707647c6",
   "metadata": {},
   "source": [
    "#### 2-3-6 결론"
   ]
  },
  {
   "cell_type": "markdown",
   "id": "88e75367-d50b-401d-9766-18b01bcc9e54",
   "metadata": {},
   "source": [
    "<span style=\"\n",
    "display : block;\n",
    "background-color:#fff5b1;\n",
    "color : red;\n",
    "font-size : 20px;\n",
    "font-weight : bold;\n",
    "text-align : center;\">[결론]</span>\n",
    "\n",
    "- 지불방법의 순서가 올라갈 수록 음의 상관관계를 보여주고 있다.\n",
    "- Tip 지불 금액이 음수인 경우와 가히 큰 수에 대해 눈여겨 볼 필요가 있다.\n"
   ]
  },
  {
   "cell_type": "markdown",
   "id": "8c2dfe79-f61b-499b-a125-03cdbb12e98d",
   "metadata": {},
   "source": [
    "### 4. 승차 지역 / 하차 지역별 평균거리, 요금"
   ]
  },
  {
   "cell_type": "markdown",
   "id": "de365ca2-13b6-4c58-ac08-e43f0054ff4f",
   "metadata": {},
   "source": [
    "#### 2-4-1) 기초 통계 데이터 확인"
   ]
  },
  {
   "cell_type": "code",
   "execution_count": 13,
   "id": "bd1b1ab0-7f74-49f3-aa0f-1615638bba13",
   "metadata": {
    "scrolled": true
   },
   "outputs": [
    {
     "name": "stderr",
     "output_type": "stream",
     "text": [
      "[Stage 27:==================================================>     (10 + 1) / 11]\r"
     ]
    },
    {
     "name": "stdout",
     "output_type": "stream",
     "text": [
      "+------------+--------------------+------------+--------------------+-----------------+----------------+---+\n",
      "|PULocationID|             PU_Zone|DOLocationID|             DO_Zone|AVG_trip_distance|AVG_total_amount|cnt|\n",
      "+------------+--------------------+------------+--------------------+-----------------+----------------+---+\n",
      "|           3|Allerton/Pelham G...|          57|              Corona|              4.8|           39.81|  2|\n",
      "|           3|Allerton/Pelham G...|          89|Flatbush/Ditmas Park|            23.01|           74.73|  2|\n",
      "|           4|       Alphabet City|         185|      Pelham Parkway|            10.91|           42.06| 11|\n",
      "|           7|             Astoria|          55|        Coney Island|            14.82|           59.38| 23|\n",
      "|           7|             Astoria|         132|         JFK Airport|            14.19|           49.42| 77|\n",
      "|          10|        Baisley Park|          85|             Erasmus|            11.19|           49.95| 29|\n",
      "|          10|        Baisley Park|         264|                  NV|              1.5|            38.1| 41|\n",
      "|          11|          Bath Beach|         155|Marine Park/Mill ...|             6.41|           29.15|  3|\n",
      "|          12|        Battery Park|         115| Grymes Hill/Clifton|            12.04|           50.04|  2|\n",
      "|          14|           Bay Ridge|         175|     Oakland Gardens|            27.08|           74.23|  1|\n",
      "|          17|             Bedford|         138|   LaGuardia Airport|             9.46|           37.24| 33|\n",
      "|          18|        Bedford Park|          68|        East Chelsea|            14.32|           55.16|  6|\n",
      "|          18|        Bedford Park|          95|        Forest Hills|            14.62|            52.8|  6|\n",
      "|          18|        Bedford Park|         185|      Pelham Parkway|             3.47|           26.63| 38|\n",
      "|          18|        Bedford Park|         217|  South Williamsburg|            21.74|           80.16|  1|\n",
      "|          21|    Bensonhurst East|         140|     Lenox Hill East|            15.22|           52.28| 24|\n",
      "|          24|        Bloomingdale|         210|      Sheepshead Bay|             23.8|           77.35|  1|\n",
      "|          25|         Boerum Hill|          61| Crown Heights North|             2.78|           18.69|267|\n",
      "|          28|Briarwood/Jamaica...|          16|             Bayside|              5.1|            31.2|  7|\n",
      "|          28|Briarwood/Jamaica...|          63|       Cypress Hills|              6.9|           37.81|  1|\n",
      "+------------+--------------------+------------+--------------------+-----------------+----------------+---+\n",
      "only showing top 20 rows\n",
      "\n"
     ]
    },
    {
     "name": "stderr",
     "output_type": "stream",
     "text": [
      "                                                                                \r"
     ]
    }
   ],
   "source": [
    "ss.sql('''\n",
    "    SELECT\n",
    "        A.PULocationID\n",
    "        , MAX(B.Zone) as PU_Zone\n",
    "        , A.DOLocationID\n",
    "        , MAX(C.Zone) as DO_Zone\n",
    "        , ROUND(AVG(A.trip_distance), 2) as AVG_trip_distance\n",
    "        , ROUND(AVG(A.total_amount), 2) as AVG_total_amount\n",
    "        , COUNT(*) as cnt -- 건수 체크\n",
    "    FROM table1 as A\n",
    "\n",
    "    INNER JOIN table2 as B\n",
    "    ON A.PULocationID = B.LocationID\n",
    "\n",
    "    INNER JOIN table2 as C\n",
    "    on A.DOLocationID = C.LocationID\n",
    "\n",
    "    GROUP BY A.PULocationID, A.DOLocationID\n",
    "''').show()"
   ]
  },
  {
   "cell_type": "markdown",
   "id": "e68b4459-1bf3-4c8b-b35d-3c72e2e33055",
   "metadata": {},
   "source": [
    "#### 2-4-2) Pandas 데이터프레임으로 만들기"
   ]
  },
  {
   "cell_type": "code",
   "execution_count": 83,
   "id": "ac565b32-5316-487f-b748-d20d0362d9d4",
   "metadata": {
    "scrolled": true
   },
   "outputs": [
    {
     "data": {
      "text/html": [
       "<div>\n",
       "<style scoped>\n",
       "    .dataframe tbody tr th:only-of-type {\n",
       "        vertical-align: middle;\n",
       "    }\n",
       "\n",
       "    .dataframe tbody tr th {\n",
       "        vertical-align: top;\n",
       "    }\n",
       "\n",
       "    .dataframe thead th {\n",
       "        text-align: right;\n",
       "    }\n",
       "</style>\n",
       "<table border=\"1\" class=\"dataframe\">\n",
       "  <thead>\n",
       "    <tr style=\"text-align: right;\">\n",
       "      <th></th>\n",
       "      <th>PULocationID</th>\n",
       "      <th>PU_Zone</th>\n",
       "      <th>DOLocationID</th>\n",
       "      <th>DO_Zone</th>\n",
       "      <th>AVG_trip_distance</th>\n",
       "      <th>AVG_total_amount</th>\n",
       "      <th>cnt</th>\n",
       "    </tr>\n",
       "  </thead>\n",
       "  <tbody>\n",
       "    <tr>\n",
       "      <th>0</th>\n",
       "      <td>3</td>\n",
       "      <td>Allerton/Pelham Gardens</td>\n",
       "      <td>57</td>\n",
       "      <td>Allerton/Pelham Gardens</td>\n",
       "      <td>0.00</td>\n",
       "      <td>33.12</td>\n",
       "      <td>1</td>\n",
       "    </tr>\n",
       "    <tr>\n",
       "      <th>1</th>\n",
       "      <td>4</td>\n",
       "      <td>Alphabet City</td>\n",
       "      <td>185</td>\n",
       "      <td>Alphabet City</td>\n",
       "      <td>4.43</td>\n",
       "      <td>37.60</td>\n",
       "      <td>3</td>\n",
       "    </tr>\n",
       "    <tr>\n",
       "      <th>2</th>\n",
       "      <td>7</td>\n",
       "      <td>Astoria</td>\n",
       "      <td>55</td>\n",
       "      <td>Astoria</td>\n",
       "      <td>0.00</td>\n",
       "      <td>49.14</td>\n",
       "      <td>7</td>\n",
       "    </tr>\n",
       "    <tr>\n",
       "      <th>3</th>\n",
       "      <td>7</td>\n",
       "      <td>Astoria</td>\n",
       "      <td>132</td>\n",
       "      <td>Astoria</td>\n",
       "      <td>14.48</td>\n",
       "      <td>47.78</td>\n",
       "      <td>47</td>\n",
       "    </tr>\n",
       "    <tr>\n",
       "      <th>4</th>\n",
       "      <td>10</td>\n",
       "      <td>Baisley Park</td>\n",
       "      <td>85</td>\n",
       "      <td>Baisley Park</td>\n",
       "      <td>0.00</td>\n",
       "      <td>32.33</td>\n",
       "      <td>3</td>\n",
       "    </tr>\n",
       "    <tr>\n",
       "      <th>...</th>\n",
       "      <td>...</td>\n",
       "      <td>...</td>\n",
       "      <td>...</td>\n",
       "      <td>...</td>\n",
       "      <td>...</td>\n",
       "      <td>...</td>\n",
       "      <td>...</td>\n",
       "    </tr>\n",
       "    <tr>\n",
       "      <th>36166</th>\n",
       "      <td>263</td>\n",
       "      <td>Yorkville West</td>\n",
       "      <td>164</td>\n",
       "      <td>Yorkville West</td>\n",
       "      <td>3.30</td>\n",
       "      <td>20.20</td>\n",
       "      <td>3307</td>\n",
       "    </tr>\n",
       "    <tr>\n",
       "      <th>36167</th>\n",
       "      <td>263</td>\n",
       "      <td>Yorkville West</td>\n",
       "      <td>205</td>\n",
       "      <td>Yorkville West</td>\n",
       "      <td>16.92</td>\n",
       "      <td>62.67</td>\n",
       "      <td>6</td>\n",
       "    </tr>\n",
       "    <tr>\n",
       "      <th>36168</th>\n",
       "      <td>263</td>\n",
       "      <td>Yorkville West</td>\n",
       "      <td>236</td>\n",
       "      <td>Yorkville West</td>\n",
       "      <td>0.71</td>\n",
       "      <td>9.97</td>\n",
       "      <td>34821</td>\n",
       "    </tr>\n",
       "    <tr>\n",
       "      <th>36169</th>\n",
       "      <td>264</td>\n",
       "      <td>NV</td>\n",
       "      <td>191</td>\n",
       "      <td>NV</td>\n",
       "      <td>11.14</td>\n",
       "      <td>39.56</td>\n",
       "      <td>31</td>\n",
       "    </tr>\n",
       "    <tr>\n",
       "      <th>36170</th>\n",
       "      <td>265</td>\n",
       "      <td>NA</td>\n",
       "      <td>230</td>\n",
       "      <td>NA</td>\n",
       "      <td>13.63</td>\n",
       "      <td>86.02</td>\n",
       "      <td>4</td>\n",
       "    </tr>\n",
       "  </tbody>\n",
       "</table>\n",
       "<p>36171 rows × 7 columns</p>\n",
       "</div>"
      ],
      "text/plain": [
       "       PULocationID                  PU_Zone  DOLocationID  \\\n",
       "0                 3  Allerton/Pelham Gardens            57   \n",
       "1                 4            Alphabet City           185   \n",
       "2                 7                  Astoria            55   \n",
       "3                 7                  Astoria           132   \n",
       "4                10             Baisley Park            85   \n",
       "...             ...                      ...           ...   \n",
       "36166           263           Yorkville West           164   \n",
       "36167           263           Yorkville West           205   \n",
       "36168           263           Yorkville West           236   \n",
       "36169           264                       NV           191   \n",
       "36170           265                       NA           230   \n",
       "\n",
       "                       DO_Zone  AVG_trip_distance  AVG_total_amount    cnt  \n",
       "0      Allerton/Pelham Gardens               0.00             33.12      1  \n",
       "1                Alphabet City               4.43             37.60      3  \n",
       "2                      Astoria               0.00             49.14      7  \n",
       "3                      Astoria              14.48             47.78     47  \n",
       "4                 Baisley Park               0.00             32.33      3  \n",
       "...                        ...                ...               ...    ...  \n",
       "36166           Yorkville West               3.30             20.20   3307  \n",
       "36167           Yorkville West              16.92             62.67      6  \n",
       "36168           Yorkville West               0.71              9.97  34821  \n",
       "36169                       NV              11.14             39.56     31  \n",
       "36170                       NA              13.63             86.02      4  \n",
       "\n",
       "[36171 rows x 7 columns]"
      ]
     },
     "execution_count": 83,
     "metadata": {},
     "output_type": "execute_result"
    }
   ],
   "source": [
    "df4 = ss.sql('''\n",
    "    SELECT\n",
    "        A.PULocationID\n",
    "        , MAX(B.Zone) as PU_Zone\n",
    "        , A.DOLocationID\n",
    "        , MAX(B.Zone) as DO_Zone\n",
    "        , ROUND(AVG(A.trip_distance), 2) as AVG_trip_distance\n",
    "        , ROUND(AVG(A.total_amount), 2) as AVG_total_amount\n",
    "        , COUNT(*) as cnt -- 건수 체크\n",
    "    FROM table1 as A\n",
    "\n",
    "    INNER JOIN table2 as B\n",
    "    ON A.PULocationID = B.LocationID\n",
    "\n",
    "    GROUP BY A.PULocationID, A.DOLocationID\n",
    "''').toPandas()\n",
    "\n",
    "df4"
   ]
  },
  {
   "cell_type": "markdown",
   "id": "cdb2d40d-ff49-4533-8c2d-111c52bd3aaf",
   "metadata": {},
   "source": [
    "#### 2-4-3) 이상치 확인 및 제거"
   ]
  },
  {
   "cell_type": "code",
   "execution_count": 98,
   "id": "3a8c4857-231b-4a27-9658-b21f7a4b5468",
   "metadata": {},
   "outputs": [
    {
     "name": "stdout",
     "output_type": "stream",
     "text": [
      "+------------+------------+-------------+------------+\n",
      "|PULocationID|DOLocationID|trip_distance|total_amount|\n",
      "+------------+------------+-------------+------------+\n",
      "|         142|          43|          2.1|        11.8|\n",
      "|         238|         151|          0.2|         4.3|\n",
      "|         132|         165|         14.7|       51.95|\n",
      "|         138|         132|         10.6|       36.35|\n",
      "|          68|          33|         4.94|       24.36|\n",
      "|         224|          68|          1.6|       14.15|\n",
      "|          95|         157|          4.1|        17.3|\n",
      "|          90|          40|          5.7|        21.8|\n",
      "|          97|         129|          9.1|        28.8|\n",
      "|         263|         142|          2.7|       18.95|\n",
      "|         164|         255|         6.11|        24.3|\n",
      "|         255|          80|         1.21|       10.79|\n",
      "|         138|         166|          7.4|       33.92|\n",
      "|         142|          50|          1.7|       14.16|\n",
      "|          50|         142|         0.81|         8.3|\n",
      "|         236|         237|         1.01|        10.3|\n",
      "|         142|         239|         0.73|       12.09|\n",
      "|         238|         166|         1.17|       12.36|\n",
      "|         239|         238|         0.78|        9.96|\n",
      "|         151|         142|         1.66|        12.3|\n",
      "+------------+------------+-------------+------------+\n",
      "only showing top 20 rows\n",
      "\n"
     ]
    }
   ],
   "source": [
    "ss.sql('''\n",
    "    SELECT\n",
    "    A.PULocationID\n",
    "    , A.DOLocationID\n",
    "    , A.trip_distance\n",
    "    , A.total_amount\n",
    "    FROM table1 as A\n",
    "\n",
    "    INNER JOIN table2 as B\n",
    "    ON A.PULocationID = B.LocationID\n",
    "\n",
    "    where A.total_amount > 0\n",
    "        and A.trip_distance != 0\n",
    "\n",
    "    -- 비용이 0 초과인데, 이동 거리가 0인 데이터 추출\n",
    "        \n",
    "''').count()\n",
    "\n",
    "ss.sql('''\n",
    "    SELECT\n",
    "    A.PULocationID\n",
    "    , A.DOLocationID\n",
    "    , A.trip_distance\n",
    "    , A.total_amount\n",
    "    FROM table1 as A\n",
    "\n",
    "    INNER JOIN table2 as B\n",
    "    ON A.PULocationID = B.LocationID\n",
    "\n",
    "    where A.total_amount > 0\n",
    "        and A.trip_distance != 0\n",
    "\n",
    "    -- 비용이 0 초과인데, 이동 거리가 0인 데이터 추출\n",
    "        \n",
    "''').show()\n"
   ]
  },
  {
   "cell_type": "code",
   "execution_count": 99,
   "id": "3bf8343c-20de-4976-ae96-d6b8e021b9ff",
   "metadata": {},
   "outputs": [
    {
     "data": {
      "text/html": [
       "<div>\n",
       "<style scoped>\n",
       "    .dataframe tbody tr th:only-of-type {\n",
       "        vertical-align: middle;\n",
       "    }\n",
       "\n",
       "    .dataframe tbody tr th {\n",
       "        vertical-align: top;\n",
       "    }\n",
       "\n",
       "    .dataframe thead th {\n",
       "        text-align: right;\n",
       "    }\n",
       "</style>\n",
       "<table border=\"1\" class=\"dataframe\">\n",
       "  <thead>\n",
       "    <tr style=\"text-align: right;\">\n",
       "      <th></th>\n",
       "      <th>PULocationID</th>\n",
       "      <th>PU_Zone</th>\n",
       "      <th>DOLocationID</th>\n",
       "      <th>DO_Zone</th>\n",
       "      <th>AVG_trip_distance</th>\n",
       "      <th>AVG_total_amount</th>\n",
       "      <th>cnt</th>\n",
       "    </tr>\n",
       "  </thead>\n",
       "  <tbody>\n",
       "    <tr>\n",
       "      <th>0</th>\n",
       "      <td>4</td>\n",
       "      <td>Alphabet City</td>\n",
       "      <td>185</td>\n",
       "      <td>Alphabet City</td>\n",
       "      <td>13.30</td>\n",
       "      <td>42.80</td>\n",
       "      <td>1</td>\n",
       "    </tr>\n",
       "    <tr>\n",
       "      <th>1</th>\n",
       "      <td>7</td>\n",
       "      <td>Astoria</td>\n",
       "      <td>132</td>\n",
       "      <td>Astoria</td>\n",
       "      <td>14.48</td>\n",
       "      <td>47.78</td>\n",
       "      <td>47</td>\n",
       "    </tr>\n",
       "    <tr>\n",
       "      <th>2</th>\n",
       "      <td>10</td>\n",
       "      <td>Baisley Park</td>\n",
       "      <td>264</td>\n",
       "      <td>Baisley Park</td>\n",
       "      <td>5.85</td>\n",
       "      <td>48.08</td>\n",
       "      <td>8</td>\n",
       "    </tr>\n",
       "    <tr>\n",
       "      <th>3</th>\n",
       "      <td>11</td>\n",
       "      <td>Bath Beach</td>\n",
       "      <td>155</td>\n",
       "      <td>Bath Beach</td>\n",
       "      <td>9.72</td>\n",
       "      <td>32.80</td>\n",
       "      <td>1</td>\n",
       "    </tr>\n",
       "    <tr>\n",
       "      <th>4</th>\n",
       "      <td>12</td>\n",
       "      <td>Battery Park</td>\n",
       "      <td>115</td>\n",
       "      <td>Battery Park</td>\n",
       "      <td>12.04</td>\n",
       "      <td>50.04</td>\n",
       "      <td>2</td>\n",
       "    </tr>\n",
       "    <tr>\n",
       "      <th>...</th>\n",
       "      <td>...</td>\n",
       "      <td>...</td>\n",
       "      <td>...</td>\n",
       "      <td>...</td>\n",
       "      <td>...</td>\n",
       "      <td>...</td>\n",
       "      <td>...</td>\n",
       "    </tr>\n",
       "    <tr>\n",
       "      <th>30066</th>\n",
       "      <td>263</td>\n",
       "      <td>Yorkville West</td>\n",
       "      <td>164</td>\n",
       "      <td>Yorkville West</td>\n",
       "      <td>3.31</td>\n",
       "      <td>20.26</td>\n",
       "      <td>3297</td>\n",
       "    </tr>\n",
       "    <tr>\n",
       "      <th>30067</th>\n",
       "      <td>263</td>\n",
       "      <td>Yorkville West</td>\n",
       "      <td>205</td>\n",
       "      <td>Yorkville West</td>\n",
       "      <td>16.92</td>\n",
       "      <td>62.67</td>\n",
       "      <td>6</td>\n",
       "    </tr>\n",
       "    <tr>\n",
       "      <th>30068</th>\n",
       "      <td>263</td>\n",
       "      <td>Yorkville West</td>\n",
       "      <td>236</td>\n",
       "      <td>Yorkville West</td>\n",
       "      <td>0.71</td>\n",
       "      <td>10.09</td>\n",
       "      <td>34504</td>\n",
       "    </tr>\n",
       "    <tr>\n",
       "      <th>30069</th>\n",
       "      <td>264</td>\n",
       "      <td>NV</td>\n",
       "      <td>191</td>\n",
       "      <td>NV</td>\n",
       "      <td>11.14</td>\n",
       "      <td>39.56</td>\n",
       "      <td>31</td>\n",
       "    </tr>\n",
       "    <tr>\n",
       "      <th>30070</th>\n",
       "      <td>265</td>\n",
       "      <td>NA</td>\n",
       "      <td>230</td>\n",
       "      <td>NA</td>\n",
       "      <td>18.17</td>\n",
       "      <td>100.59</td>\n",
       "      <td>3</td>\n",
       "    </tr>\n",
       "  </tbody>\n",
       "</table>\n",
       "<p>30071 rows × 7 columns</p>\n",
       "</div>"
      ],
      "text/plain": [
       "       PULocationID         PU_Zone  DOLocationID         DO_Zone  \\\n",
       "0                 4   Alphabet City           185   Alphabet City   \n",
       "1                 7         Astoria           132         Astoria   \n",
       "2                10    Baisley Park           264    Baisley Park   \n",
       "3                11      Bath Beach           155      Bath Beach   \n",
       "4                12    Battery Park           115    Battery Park   \n",
       "...             ...             ...           ...             ...   \n",
       "30066           263  Yorkville West           164  Yorkville West   \n",
       "30067           263  Yorkville West           205  Yorkville West   \n",
       "30068           263  Yorkville West           236  Yorkville West   \n",
       "30069           264              NV           191              NV   \n",
       "30070           265              NA           230              NA   \n",
       "\n",
       "       AVG_trip_distance  AVG_total_amount    cnt  \n",
       "0                  13.30             42.80      1  \n",
       "1                  14.48             47.78     47  \n",
       "2                   5.85             48.08      8  \n",
       "3                   9.72             32.80      1  \n",
       "4                  12.04             50.04      2  \n",
       "...                  ...               ...    ...  \n",
       "30066               3.31             20.26   3297  \n",
       "30067              16.92             62.67      6  \n",
       "30068               0.71             10.09  34504  \n",
       "30069              11.14             39.56     31  \n",
       "30070              18.17            100.59      3  \n",
       "\n",
       "[30071 rows x 7 columns]"
      ]
     },
     "execution_count": 99,
     "metadata": {},
     "output_type": "execute_result"
    }
   ],
   "source": [
    "# 정확한 이동 거리를 알 수 없으니 DROP으로 결정\n",
    "df4 = ss.sql('''\n",
    "    SELECT\n",
    "        A.PULocationID\n",
    "        , MAX(B.Zone) as PU_Zone\n",
    "        , A.DOLocationID\n",
    "        , MAX(B.Zone) as DO_Zone\n",
    "        , ROUND(AVG(A.trip_distance), 2) as AVG_trip_distance\n",
    "        , ROUND(AVG(A.total_amount), 2) as AVG_total_amount\n",
    "        , COUNT(*) as cnt -- 건수 체크\n",
    "    FROM table1 as A\n",
    "\n",
    "    INNER JOIN table2 as B\n",
    "    ON A.PULocationID = B.LocationID\n",
    "\n",
    "    WHERE total_amount > 0\n",
    "        and trip_distance != 0\n",
    "\n",
    "    GROUP BY A.PULocationID, A.DOLocationID\n",
    "''').toPandas()\n",
    "\n",
    "df4"
   ]
  },
  {
   "cell_type": "markdown",
   "id": "7ec7f980-0611-4f91-bd8e-f7f9f8af4b22",
   "metadata": {},
   "source": [
    "#### 2-4-4) 상관계수 파악"
   ]
  },
  {
   "cell_type": "code",
   "execution_count": 100,
   "id": "bbf87734-15ff-48c9-917f-ad9aa7d46479",
   "metadata": {},
   "outputs": [
    {
     "data": {
      "text/html": [
       "<div>\n",
       "<style scoped>\n",
       "    .dataframe tbody tr th:only-of-type {\n",
       "        vertical-align: middle;\n",
       "    }\n",
       "\n",
       "    .dataframe tbody tr th {\n",
       "        vertical-align: top;\n",
       "    }\n",
       "\n",
       "    .dataframe thead th {\n",
       "        text-align: right;\n",
       "    }\n",
       "</style>\n",
       "<table border=\"1\" class=\"dataframe\">\n",
       "  <thead>\n",
       "    <tr style=\"text-align: right;\">\n",
       "      <th></th>\n",
       "      <th>AVG_trip_distance</th>\n",
       "      <th>AVG_total_amount</th>\n",
       "      <th>cnt</th>\n",
       "    </tr>\n",
       "  </thead>\n",
       "  <tbody>\n",
       "    <tr>\n",
       "      <th>AVG_trip_distance</th>\n",
       "      <td>1.000000</td>\n",
       "      <td>-0.000397</td>\n",
       "      <td>-0.003173</td>\n",
       "    </tr>\n",
       "    <tr>\n",
       "      <th>AVG_total_amount</th>\n",
       "      <td>-0.000397</td>\n",
       "      <td>1.000000</td>\n",
       "      <td>-0.172869</td>\n",
       "    </tr>\n",
       "    <tr>\n",
       "      <th>cnt</th>\n",
       "      <td>-0.003173</td>\n",
       "      <td>-0.172869</td>\n",
       "      <td>1.000000</td>\n",
       "    </tr>\n",
       "  </tbody>\n",
       "</table>\n",
       "</div>"
      ],
      "text/plain": [
       "                   AVG_trip_distance  AVG_total_amount       cnt\n",
       "AVG_trip_distance           1.000000         -0.000397 -0.003173\n",
       "AVG_total_amount           -0.000397          1.000000 -0.172869\n",
       "cnt                        -0.003173         -0.172869  1.000000"
      ]
     },
     "execution_count": 100,
     "metadata": {},
     "output_type": "execute_result"
    }
   ],
   "source": [
    "df4[['AVG_trip_distance', 'AVG_total_amount', 'cnt']].corr()"
   ]
  },
  {
   "cell_type": "markdown",
   "id": "31c0becb-ac84-4c3f-87c7-e635ad8ceee8",
   "metadata": {},
   "source": [
    "### 5. 팁의 비율에 따른 거리, 여행 건수 서비스 관련 분석"
   ]
  },
  {
   "cell_type": "code",
   "execution_count": 15,
   "id": "fe3743c8-653d-486d-8acb-db9e876e3e24",
   "metadata": {
    "scrolled": true
   },
   "outputs": [
    {
     "name": "stdout",
     "output_type": "stream",
     "text": [
      "+---------+\n",
      "|tip_ratio|\n",
      "+---------+\n",
      "|      -30|\n",
      "|      -40|\n",
      "|      -30|\n",
      "|      -30|\n",
      "|      -30|\n",
      "|      -20|\n",
      "|      -30|\n",
      "|      -30|\n",
      "|      -30|\n",
      "|      -20|\n",
      "|      -40|\n",
      "|      -30|\n",
      "|      -30|\n",
      "|      -30|\n",
      "|      -30|\n",
      "|      -30|\n",
      "|      -20|\n",
      "|      -30|\n",
      "|      -40|\n",
      "|      -30|\n",
      "+---------+\n",
      "only showing top 20 rows\n",
      "\n"
     ]
    },
    {
     "name": "stderr",
     "output_type": "stream",
     "text": [
      "                                                                                \r"
     ]
    }
   ],
   "source": [
    "ss.sql('''\n",
    "        SELECT\n",
    "        \n",
    "            FLOOR(FLOOR(((tip_amount / total_amount) * 100))/10) * 10 as tip_ratio\n",
    "            \n",
    "        FROM table1\n",
    "        where FLOOR(FLOOR(((tip_amount / total_amount) * 100))/10) * 10 < 0\n",
    "\n",
    "''').show()"
   ]
  },
  {
   "cell_type": "code",
   "execution_count": null,
   "id": "65b7056a-7a65-4ec2-9abb-c2baa30634bc",
   "metadata": {
    "scrolled": true
   },
   "outputs": [],
   "source": [
    "ss.sql('''\n",
    "        SELECT\n",
    "        \n",
    "            FLOOR(FLOOR(((tip_amount / total_amount) * 100))/10) * 10 as tip_ratio\n",
    "            , ROUND(AVG(trip_distance), 2) as AVG_trip_distance\n",
    "            , ROUND(AVG(tip_amount), 2) as AVG_tip_amount\n",
    "            , ROUND(AVG(total_amount), 2) as AVG_total_amount\n",
    "            \n",
    "        FROM table1\n",
    "\n",
    "        GROUP BY tip_ratio\n",
    "        \n",
    "        ORDER BY tip_ratio\n",
    "''').show()"
   ]
  },
  {
   "cell_type": "markdown",
   "id": "e3dfe3d3-8b85-47f9-bd1d-34cbdb872f23",
   "metadata": {},
   "source": [
    "### 선형 모델로 택시비도 예측 모델 만들기"
   ]
  },
  {
   "cell_type": "code",
   "execution_count": 30,
   "id": "67926f02-3384-4faa-9382-2a05e84f5a1a",
   "metadata": {},
   "outputs": [],
   "source": [
    "ss.stop()"
   ]
  },
  {
   "cell_type": "markdown",
   "id": "1071b703",
   "metadata": {},
   "source": [
    "## 99. 부록"
   ]
  },
  {
   "cell_type": "markdown",
   "id": "1f2d8e75",
   "metadata": {},
   "source": [
    "### 컬럼 설명\n",
    "\n",
    "| **Field Name**           | **Description**                                                                                                                                     |\n",
    "|---------------------------|-----------------------------------------------------------------------------------------------------------------------------------------------------|\n",
    "| **VendorID**             | A code indicating the TPEP provider that provided the record.                                                                                      |\n",
    "|                           | - Creative Mobile Technologies                                                                                                                    |\n",
    "|                           | - VeriFone Inc.                                                                                                                                   |\n",
    "| **tpep_pickup_datetime**  | The date and time when the meter was engaged.                                                                                                      |\n",
    "| **tpep_dropoff_datetime** | The date and time when the meter was disengaged.                                                                                                   |\n",
    "| **Passenger_count**       | The number of passengers in the vehicle. This is a driver-entered value.                                                                           |\n",
    "| **Trip_distance**         | The elapsed trip distance in miles reported by the taximeter.                                                                                     |\n",
    "| **Pickup_longitude**      | Longitude where the meter was engaged.                                                                                                            |\n",
    "| **Pickup_latitude**       | Latitude where the meter was engaged.                                                                                                             |\n",
    "| **RateCodeID**            | The final rate code in effect at the end of the trip.                                                                                             |\n",
    "|                           | - Standard rate                                                                                                                                   |\n",
    "|                           | - JFK                                                                                                                                             |\n",
    "|                           | - Newark                                                                                                                                          |\n",
    "|                           | - Nassau or Westchester                                                                                                                           |\n",
    "|                           | - Negotiated fare                                                                                                                                |\n",
    "|                           | - Group ride                                                                                                                                      |\n",
    "| **Store_and_fwd_flag**    | This flag indicates whether the trip record was held in vehicle memory before sending to the vendor, aka “store and forward,” because the vehicle did not have a connection to the server. |\n",
    "|                           | - `Y`: store and forward trip                                                                                                                     |\n",
    "|                           | - `N`: not a store and forward trip                                                                                                               |\n",
    "| **Dropoff_longitude**     | Longitude where the meter was disengaged.                                                                                                         |\n",
    "| **Dropoff_latitude**      | Latitude where the meter was disengaged.                                                                                                          |\n",
    "| **Payment_type**          | A numeric code signifying how the passenger paid for the trip.                                                                                    |\n",
    "|                           | 1. Credit card                                                                                                                                    |\n",
    "|                           | 2. Cash                                                                                                                                           |\n",
    "|                           | 3. No charge                                                                                                                                      |\n",
    "|                           | 4. Dispute                                                                                                                                         |\n",
    "|                           | 5. Unknown                                                                                                                                        |\n",
    "|                           | 6. Voided trip                                                                                                                                     |\n",
    "| **Fare_amount**           | The time-and-distance fare calculated by the meter.                                                                                              |\n",
    "| **Extra**                 | Miscellaneous extras and surcharges. Currently, this only includes the $0.50 and $1 rush hour and overnight charges.                              |\n",
    "| **MTA_tax**               | $0.50 MTA tax that is automatically triggered based on the metered rate in use.                                                                   |\n",
    "| **Improvement_surcharge** | $0.30 improvement surcharge assessed trips at the flag drop. The improvement surcharge began being levied in 2015.                                |\n",
    "| **Tip_amount**            | Tip amount – This field is automatically populated for credit card tips. Cash tips are not included.                                              |\n",
    "| **Tolls_amount**          | Total amount of all tolls paid in trip.                                                                                                           |\n",
    "| **Total_amount**          | The total amount charged to passengers. Does not include cash tips.                                                                               |\n",
    "\n"
   ]
  }
 ],
 "metadata": {
  "kernelspec": {
   "display_name": "Python 3 (ipykernel)",
   "language": "python",
   "name": "python3"
  },
  "language_info": {
   "codemirror_mode": {
    "name": "ipython",
    "version": 3
   },
   "file_extension": ".py",
   "mimetype": "text/x-python",
   "name": "python",
   "nbconvert_exporter": "python",
   "pygments_lexer": "ipython3",
   "version": "3.12.4"
  }
 },
 "nbformat": 4,
 "nbformat_minor": 5
}
