{
 "cells": [
  {
   "cell_type": "code",
   "execution_count": 1,
   "id": "d8c71bfa-675a-49a8-9686-f559f035c861",
   "metadata": {},
   "outputs": [],
   "source": [
    "import os\n",
    "\n",
    "from pyspark.sql import SparkSession\n",
    "from pyspark.sql.functions import isnan, col, when, sum, row_number, mean\n",
    "\n",
    "from pyspark.sql.window import Window\n",
    "\n",
    "import matplotlib.pyplot as plt\n",
    "import seaborn as sns\n",
    "\n",
    "# Jupyter 환경에서 대화형 그래프 활성화\n",
    "%matplotlib widget\n",
    "\n",
    "# Scipy를 사용한 피어슨 상관계수와 p-value\n",
    "# statistic: 피어슨 상관계수(상관관계의 강도와 방향을 나타냄)\n",
    "# p-value가 0.05 미만이면 통계적으로 유의미하다고 함\n",
    "# p-value는 낮을 수록 의미 있음\n",
    "from scipy.stats import pearsonr\n"
   ]
  },
  {
   "cell_type": "code",
   "execution_count": 2,
   "id": "9d207d68-7d34-46d5-9145-e6f2b6462e3d",
   "metadata": {},
   "outputs": [
    {
     "name": "stderr",
     "output_type": "stream",
     "text": [
      "24/12/13 09:22:33 WARN NativeCodeLoader: Unable to load native-hadoop library for your platform... using builtin-java classes where applicable\n",
      "Using Spark's default log4j profile: org/apache/spark/log4j-defaults.properties\n",
      "Setting default log level to \"WARN\".\n",
      "To adjust logging level use sc.setLogLevel(newLevel). For SparkR, use setLogLevel(newLevel).\n"
     ]
    },
    {
     "data": {
      "text/html": [
       "\n",
       "            <div>\n",
       "                <p><b>SparkSession - in-memory</b></p>\n",
       "                \n",
       "        <div>\n",
       "            <p><b>SparkContext</b></p>\n",
       "\n",
       "            <p><a href=\"http://ip-172-31-3-9.ap-northeast-3.compute.internal:4040\">Spark UI</a></p>\n",
       "\n",
       "            <dl>\n",
       "              <dt>Version</dt>\n",
       "                <dd><code>v3.1.2</code></dd>\n",
       "              <dt>Master</dt>\n",
       "                <dd><code>local[*]</code></dd>\n",
       "              <dt>AppName</dt>\n",
       "                <dd><code>YellowTaxi</code></dd>\n",
       "            </dl>\n",
       "        </div>\n",
       "        \n",
       "            </div>\n",
       "        "
      ],
      "text/plain": [
       "<pyspark.sql.session.SparkSession at 0x7f29b8ae5eb0>"
      ]
     },
     "execution_count": 2,
     "metadata": {},
     "output_type": "execute_result"
    }
   ],
   "source": [
    "ss = SparkSession.builder\\\n",
    ".appName('YellowTaxi')\\\n",
    ".getOrCreate()\n",
    "\n",
    "ss"
   ]
  },
  {
   "cell_type": "code",
   "execution_count": 3,
   "id": "fad615ec-22a6-446a-9bff-988807d17956",
   "metadata": {},
   "outputs": [],
   "source": [
    "trip_files = 'trips/*.csv'\n",
    "zone_file = 'trips/code/lookup.csv'\n",
    "directory = os.path.join(os.getcwd(), 'data')"
   ]
  },
  {
   "cell_type": "code",
   "execution_count": 4,
   "id": "53a6ab30-e776-4fd7-bf37-e095dadc8a13",
   "metadata": {},
   "outputs": [
    {
     "name": "stderr",
     "output_type": "stream",
     "text": [
      "                                                                                \r"
     ]
    },
    {
     "data": {
      "text/plain": [
       "DataFrame[_c0: string, _c1: string, _c2: string, _c3: string, _c4: string, _c5: string, _c6: string, _c7: string, _c8: string, _c9: string, _c10: string, _c11: string, _c12: string, _c13: string, _c14: string, _c15: string, _c16: string, _c17: string]"
      ]
     },
     "execution_count": 4,
     "metadata": {},
     "output_type": "execute_result"
    }
   ],
   "source": [
    "ss.read.csv(f'file:///{directory}/{trip_files}')\n"
   ]
  },
  {
   "cell_type": "code",
   "execution_count": null,
   "id": "8096b2a3-98fa-4746-bab1-74914bc1648a",
   "metadata": {},
   "outputs": [],
   "source": [
    "df = ss.read.csv(f'file:///{directory}/{trip_files}', inferSchema=True, header = True)\n",
    "df_zone = ss.read.csv(f'file:///{directory}/{zone_file}', inferSchema=True, header = True)\n",
    "df, df_zone"
   ]
  },
  {
   "cell_type": "code",
   "execution_count": 26,
   "id": "e7e54ce8",
   "metadata": {},
   "outputs": [],
   "source": [
    "### 로컬에서 하기 위해 임시방편으로 하드 코딩\n",
    "tmp_df1 = ss.read.csv('data/trips/yellow_tripdata_2015-01.csv'\n",
    "                , inferSchema = True\n",
    "                , header = True)\n",
    "tmp_df2 = ss.read.csv('data/trips/yellow_tripdata_2016-01.csv'\n",
    "                , inferSchema = True\n",
    "                , header = True)\n",
    "tmp_df3 = ss.read.csv('data/trips/yellow_tripdata_2016-02.csv'\n",
    "                , inferSchema = True\n",
    "                , header = True)\n",
    "tmp_df4 = ss.read.csv('data/trips/yellow_tripdata_2016-03.csv'\n",
    "                , inferSchema = True\n",
    "                , header = True)\n",
    "\n",
    "df = tmp_df1.union(tmp_df2).union(tmp_df3).union(tmp_df4)\n",
    "\n",
    "df_zone = ss.read.csv('data/code/lookup.csv'\n",
    "                , inferSchema = True\n",
    "                , header = True)\n"
   ]
  },
  {
   "cell_type": "code",
   "execution_count": 27,
   "id": "77be46cf-5ea6-4419-91e6-6f96095bc2c4",
   "metadata": {
    "scrolled": true
   },
   "outputs": [
    {
     "name": "stdout",
     "output_type": "stream",
     "text": [
      "+--------+--------------------+---------------------+---------------+-------------+----------------+----------------+----------+------------------+------------------+-----------------+------------+-----------+-----+-------+----------+------------+---------------------+------------+\n",
      "|VendorID|tpep_pickup_datetime|tpep_dropoff_datetime|passenger_count|trip_distance|pickup_longitude| pickup_latitude|RateCodeID|store_and_fwd_flag| dropoff_longitude| dropoff_latitude|payment_type|fare_amount|extra|mta_tax|tip_amount|tolls_amount|improvement_surcharge|total_amount|\n",
      "+--------+--------------------+---------------------+---------------+-------------+----------------+----------------+----------+------------------+------------------+-----------------+------------+-----------+-----+-------+----------+------------+---------------------+------------+\n",
      "|       2| 2015-01-15 19:05:39|  2015-01-15 19:23:42|              1|         1.59|-73.993896484375|40.7501106262207|         1|                 N|-73.97478485107422|40.75061798095703|           1|       12.0|  1.0|    0.5|      3.25|         0.0|                  0.3|       17.05|\n",
      "+--------+--------------------+---------------------+---------------+-------------+----------------+----------------+----------+------------------+------------------+-----------------+------------+-----------+-----+-------+----------+------------+---------------------+------------+\n",
      "only showing top 1 row\n",
      "\n",
      "root\n",
      " |-- VendorID: integer (nullable = true)\n",
      " |-- tpep_pickup_datetime: string (nullable = true)\n",
      " |-- tpep_dropoff_datetime: string (nullable = true)\n",
      " |-- passenger_count: integer (nullable = true)\n",
      " |-- trip_distance: double (nullable = true)\n",
      " |-- pickup_longitude: double (nullable = true)\n",
      " |-- pickup_latitude: double (nullable = true)\n",
      " |-- RateCodeID: integer (nullable = true)\n",
      " |-- store_and_fwd_flag: string (nullable = true)\n",
      " |-- dropoff_longitude: double (nullable = true)\n",
      " |-- dropoff_latitude: double (nullable = true)\n",
      " |-- payment_type: integer (nullable = true)\n",
      " |-- fare_amount: double (nullable = true)\n",
      " |-- extra: double (nullable = true)\n",
      " |-- mta_tax: double (nullable = true)\n",
      " |-- tip_amount: double (nullable = true)\n",
      " |-- tolls_amount: double (nullable = true)\n",
      " |-- improvement_surcharge: double (nullable = true)\n",
      " |-- total_amount: double (nullable = true)\n",
      "\n"
     ]
    }
   ],
   "source": [
    "df.show(1)\n",
    "df.printSchema()"
   ]
  },
  {
   "cell_type": "code",
   "execution_count": 28,
   "id": "ef526768-4aaa-4411-b52b-4630cf03993f",
   "metadata": {},
   "outputs": [
    {
     "data": {
      "text/plain": [
       "47248845"
      ]
     },
     "execution_count": 28,
     "metadata": {},
     "output_type": "execute_result"
    }
   ],
   "source": [
    "df.count()"
   ]
  },
  {
   "cell_type": "markdown",
   "id": "994dfc4d-bfb3-4dad-9cda-8bc21c383e24",
   "metadata": {},
   "source": [
    "## 0. 방향\n",
    "1. 쿼리 작성\n",
    "2. 데이터 프레임으로 구현\n",
    "3. 데이터 및 컬럼 설명\n",
    "    - https://www.kaggle.com/datasets/elemento/nyc-yellow-taxi-trip-data\n"
   ]
  },
  {
   "cell_type": "markdown",
   "id": "8eb31037-089a-4f44-bfc9-370c40db23ae",
   "metadata": {},
   "source": [
    "## 1. 전처리"
   ]
  },
  {
   "cell_type": "markdown",
   "id": "c928dc94-4854-4893-9f61-62703b0ff554",
   "metadata": {},
   "source": [
    "### 1-1. 임시 테이블 만들기"
   ]
  },
  {
   "cell_type": "code",
   "execution_count": 30,
   "id": "8cf638ff-19bd-403b-8637-c017cf74b4b2",
   "metadata": {},
   "outputs": [],
   "source": [
    "df.createOrReplaceTempView('table1')\n",
    "df_zone.createOrReplaceTempView('table2')"
   ]
  },
  {
   "cell_type": "markdown",
   "id": "4a843191-0407-4539-8f85-41d55728719f",
   "metadata": {},
   "source": [
    "### 1-2. 음수는 뭐지"
   ]
  },
  {
   "cell_type": "code",
   "execution_count": 31,
   "id": "cc0890cb-0ea2-4972-b2ed-1e5f2f261f8e",
   "metadata": {
    "scrolled": true
   },
   "outputs": [
    {
     "name": "stdout",
     "output_type": "stream",
     "text": [
      "+------------+---------------+---------------+-----------------+-----------------+\n",
      "|payment_type|min(tip_amount)|max(tip_amount)|min(total_amount)|max(total_amount)|\n",
      "+------------+---------------+---------------+-----------------+-----------------+\n",
      "|           1|         -220.8|            0.0|           -227.1|            16.63|\n",
      "|           3|          -23.0|            0.0|           -958.4|            -0.31|\n",
      "|           4|         -92.42|            0.0|           -300.8|            -0.31|\n",
      "|           2|            0.0|            0.0|           -450.3|             -0.8|\n",
      "+------------+---------------+---------------+-----------------+-----------------+\n",
      "\n"
     ]
    }
   ],
   "source": [
    "ss.sql('''\n",
    "    SELECT\n",
    "        payment_type\n",
    "        , min(tip_amount)\n",
    "        , max(tip_amount)\n",
    "        , min(total_amount)\n",
    "        , max(total_amount)\n",
    "    FROM table1 as A\n",
    "    where tip_amount < 0\n",
    "        or total_amount < 0\n",
    "\n",
    "    GROUP BY payment_type\n",
    "    \n",
    "''').show()"
   ]
  },
  {
   "cell_type": "markdown",
   "id": "5b40b593-2df4-4ab8-b13a-3c68cdcda179",
   "metadata": {},
   "source": [
    "### 1-3 결측치 처리"
   ]
  },
  {
   "cell_type": "code",
   "execution_count": 63,
   "id": "4a2ef199-1be6-49c9-94a2-f128d102b450",
   "metadata": {},
   "outputs": [
    {
     "name": "stdout",
     "output_type": "stream",
     "text": [
      "+--------+--------------------+---------------------+---------------+-------------+----------------+---------------+----------+------------------+-----------------+----------------+------------+-----------+-----+-------+----------+------------+---------------------+------------+\n",
      "|VendorID|tpep_pickup_datetime|tpep_dropoff_datetime|passenger_count|trip_distance|pickup_longitude|pickup_latitude|RateCodeID|store_and_fwd_flag|dropoff_longitude|dropoff_latitude|payment_type|fare_amount|extra|mta_tax|tip_amount|tolls_amount|improvement_surcharge|total_amount|\n",
      "+--------+--------------------+---------------------+---------------+-------------+----------------+---------------+----------+------------------+-----------------+----------------+------------+-----------+-----+-------+----------+------------+---------------------+------------+\n",
      "|       0|                   0|                    0|              0|            0|               0|              0|         0|                 0|                0|               0|           0|          0|    0|      0|         0|           0|                    3|           0|\n",
      "+--------+--------------------+---------------------+---------------+-------------+----------------+---------------+----------+------------------+-----------------+----------------+------------+-----------+-----+-------+----------+------------+---------------------+------------+\n",
      "\n",
      "+----------+-------+----+------------+\n",
      "|LocationID|Borough|Zone|service_zone|\n",
      "+----------+-------+----+------------+\n",
      "|         0|      0|   0|           0|\n",
      "+----------+-------+----+------------+\n",
      "\n"
     ]
    }
   ],
   "source": [
    "# trip main csv\n",
    "df.select(\n",
    "    [\n",
    "        sum(\n",
    "            when(\n",
    "                col(c).isNull() | isnan(c),1)\\\n",
    "        .otherwise(0)\n",
    "            )\\\n",
    "        .alias(c) for c in df.columns\n",
    "        \n",
    "    ]    \n",
    ").show()\n",
    "\n",
    "# look up csv\n",
    "df_zone.select(\n",
    "    [\n",
    "        sum(\n",
    "            when(\n",
    "                col(c).isNull() | isnan(c),1)\\\n",
    "        .otherwise(0)\n",
    "            )\\\n",
    "        .alias(c) for c in df_zone.columns\n",
    "        \n",
    "    ]    \n",
    ").show()"
   ]
  },
  {
   "cell_type": "code",
   "execution_count": 33,
   "id": "bbf68b30-6505-4e52-b78b-4d6b2b9f9bb5",
   "metadata": {},
   "outputs": [
    {
     "name": "stdout",
     "output_type": "stream",
     "text": [
      "+--------+\n",
      "|VendorID|\n",
      "+--------+\n",
      "+--------+\n",
      "\n",
      "+---------------+\n",
      "|passenger_count|\n",
      "+---------------+\n",
      "+---------------+\n",
      "\n",
      "+----------+\n",
      "|RatecodeID|\n",
      "+----------+\n",
      "+----------+\n",
      "\n",
      "+------------------+\n",
      "|store_and_fwd_flag|\n",
      "+------------------+\n",
      "+------------------+\n",
      "\n",
      "+------------+\n",
      "|payment_type|\n",
      "+------------+\n",
      "+------------+\n",
      "\n",
      "+---------------------+\n",
      "|improvement_surcharge|\n",
      "+---------------------+\n",
      "|                 null|\n",
      "|                 null|\n",
      "|                 null|\n",
      "+---------------------+\n",
      "\n"
     ]
    }
   ],
   "source": [
    "df.select('VendorID')\\\n",
    "    .where('VendorID IS NULL')\\\n",
    "    .show(10)\n",
    "\n",
    "df.select('passenger_count')\\\n",
    "    .where('passenger_count IS NULL')\\\n",
    "    .show(10)\n",
    "\n",
    "df.select('RatecodeID')\\\n",
    "    .where('RatecodeID IS NULL')\\\n",
    "    .show(10)\n",
    "\n",
    "df.select('store_and_fwd_flag')\\\n",
    "    .where('store_and_fwd_flag IS NULL')\\\n",
    "    .show(10)\n",
    "\n",
    "df.select('payment_type')\\\n",
    "    .where('payment_type IS NULL')\\\n",
    "    .show(10)\n",
    "\n",
    "df.select('improvement_surcharge')\\\n",
    "    .where('improvement_surcharge IS NULL')\\\n",
    "    .show(10)"
   ]
  },
  {
   "cell_type": "code",
   "execution_count": 60,
   "id": "63345e5f",
   "metadata": {},
   "outputs": [],
   "source": [
    "# improvement_surcharge의 NULL은 평균으로 대치해주자\n",
    "\n",
    "mean_improvement_surcharge = df\\\n",
    "                                .select(mean('improvement_surcharge'))\\\n",
    "                                .first()[0]\n",
    "\n",
    "temp_df = df.fillna(\n",
    "                {'improvement_surcharge' : mean_improvement_surcharge}\n",
    "            )\n",
    "\n",
    "temp_df.createOrReplaceTempView('table1')"
   ]
  },
  {
   "cell_type": "code",
   "execution_count": 29,
   "id": "f45c52b3-0db1-4416-918a-c63bfd410302",
   "metadata": {},
   "outputs": [
    {
     "name": "stderr",
     "output_type": "stream",
     "text": [
      "24/12/12 18:46:09 WARN WindowExec: No Partition Defined for Window operation! Moving all data to a single partition, this can cause serious performance degradation.\n",
      "[Stage 36:>                                                         (0 + 1) / 1]\r"
     ]
    },
    {
     "name": "stdout",
     "output_type": "stream",
     "text": [
      "+--------+--------------------+---------------------+---------------+-------------+----------+------------------+------------+------------+------------+-----------+-----+-------+----------+------------+---------------------+------------+--------------------+\n",
      "|VendorID|tpep_pickup_datetime|tpep_dropoff_datetime|passenger_count|trip_distance|RatecodeID|store_and_fwd_flag|PULocationID|DOLocationID|payment_type|fare_amount|extra|mta_tax|tip_amount|tolls_amount|improvement_surcharge|total_amount|congestion_surcharge|\n",
      "+--------+--------------------+---------------------+---------------+-------------+----------+------------------+------------+------------+------------+-----------+-----+-------+----------+------------+---------------------+------------+--------------------+\n",
      "|       1| 2021-06-01 11:39:00|  2021-06-01 11:56:00|           null|         8.76|      null|              null|          76|         210|        null|      27.72| 2.75|    0.5|       0.0|         0.0|                  0.3|       31.27|                 0.0|\n",
      "|       2| 2021-03-01 10:44:54|  2021-03-01 10:53:14|           null|          1.1|      null|              null|         237|         236|        null|        7.5|  0.0|    0.5|      1.62|         0.0|                  0.3|       12.42|                 2.5|\n",
      "|       3| 2021-06-01 11:06:51|  2021-06-01 12:06:05|           null|         8.58|      null|              null|         265|          67|        null|      36.83|  0.0|    0.5|       0.0|         0.0|                  0.3|       37.63|                 0.0|\n",
      "|       4| 2021-03-01 10:34:00|  2021-03-01 10:56:00|           null|        11.53|      null|              null|         260|         215|        null|      29.75|  0.0|    0.5|      3.32|         0.0|                  0.3|       33.87|                 0.0|\n",
      "|       5| 2021-06-01 11:48:35|  2021-06-01 12:17:27|           null|          6.1|      null|              null|         239|          13|        null|       23.5|  0.0|    0.5|      4.02|         0.0|                  0.3|       30.82|                 2.5|\n",
      "|       6| 2021-03-01 10:26:00|  2021-03-01 11:17:00|           null|        17.54|      null|              null|         165|          74|        null|      41.82| 2.75|    0.5|       0.0|        6.12|                  0.3|       51.49|                 0.0|\n",
      "|       7| 2021-06-01 11:01:17|  2021-06-01 11:16:28|           null|         2.27|      null|              null|         229|          50|        null|      13.59|  0.0|    0.5|      3.61|         0.0|                  0.3|        20.5|                 2.5|\n",
      "|       8| 2021-03-01 10:03:34|  2021-03-01 10:03:06|           null|         6.14|      null|              null|         265|         106|        null|       41.2|  0.0|    0.5|       0.0|         0.0|                  0.3|        42.0|                 0.0|\n",
      "|       9| 2021-06-01 11:40:58|  2021-06-01 11:55:16|           null|         2.73|      null|              null|          35|         222|        null|      20.06|  5.5|    0.5|       0.0|         0.0|                  0.3|       26.36|                 0.0|\n",
      "|      10| 2021-03-01 10:03:13|  2021-03-01 10:03:03|           null|         1.35|      null|              null|         265|         142|        null|       15.2|  0.0|    0.5|       0.0|         0.0|                  0.3|        16.0|                 0.0|\n",
      "+--------+--------------------+---------------------+---------------+-------------+----------+------------------+------------+------------+------------+-----------+-----+-------+----------+------------+---------------------+------------+--------------------+\n",
      "only showing top 10 rows\n",
      "\n"
     ]
    },
    {
     "name": "stderr",
     "output_type": "stream",
     "text": [
      "                                                                                \r"
     ]
    }
   ],
   "source": [
    "#VendorID에 결측치가 있으면 실행\n",
    "ws_VendorID = Window.orderBy('VendorID')\n",
    "\n",
    "df.withColumn('VendorID'\n",
    "              , row_number().over(ws_VendorID)        \n",
    "              )\\\n",
    ".show(10)"
   ]
  },
  {
   "cell_type": "markdown",
   "id": "aa7ecc4a-5007-45d0-a80b-2a5ac92623c3",
   "metadata": {},
   "source": [
    "## 2. 분석"
   ]
  },
  {
   "cell_type": "markdown",
   "id": "f8e174e8-653b-4138-bacf-d77eebc107f6",
   "metadata": {},
   "source": [
    "### 2-1. 운행 거리(trip_distance)와 요금(total_amount)의 상관관계 분석"
   ]
  },
  {
   "cell_type": "markdown",
   "id": "178bf2d5-eeff-4d4c-b346-ab86ebdb4fa8",
   "metadata": {},
   "source": [
    "#### 2-1-1) 기초 통계 데이터 확인"
   ]
  },
  {
   "cell_type": "code",
   "execution_count": 106,
   "id": "bbff0344-2145-4c03-ae11-4a356b4275bd",
   "metadata": {
    "scrolled": true
   },
   "outputs": [
    {
     "name": "stderr",
     "output_type": "stream",
     "text": [
      "[Stage 62:===================================================>  (191 + 2) / 200]\r"
     ]
    },
    {
     "name": "stdout",
     "output_type": "stream",
     "text": [
      "+--------------+-------------------------+-------------------------+-------------------------+\n",
      "|range_distance|avg_total_amount_by_range|min_total_amount_by_range|max_total_amount_by_range|\n",
      "+--------------+-------------------------+-------------------------+-------------------------+\n",
      "|             0|                    16.28|                  -554.05|                 398469.2|\n",
      "|            10|                    55.74|                   -282.8|                   1165.3|\n",
      "|            20|                    73.88|                   -518.8|                   1320.8|\n",
      "|            30|                   117.13|                   -634.8|                    634.8|\n",
      "|            40|                   134.92|                   -647.8|                    647.8|\n",
      "|            50|                   150.59|                  -327.05|                   456.84|\n",
      "|            60|                   118.68|                  -314.55|                   481.45|\n",
      "|            70|                   127.48|                  -373.92|                    450.3|\n",
      "|            80|                   125.06|                      0.0|                   525.27|\n",
      "|            90|                    97.53|                     6.43|                   645.21|\n",
      "|           100|                    82.72|                     13.3|                    601.8|\n",
      "|           110|                    76.69|                     15.3|                   591.85|\n",
      "|           120|                    45.14|                    10.46|                   360.42|\n",
      "|           130|                     82.7|                    15.92|                   519.26|\n",
      "|           140|                    62.66|                    12.42|                    420.6|\n",
      "|           150|                    78.64|                    16.58|                    569.6|\n",
      "|           160|                    91.46|                     19.3|                   682.48|\n",
      "|           170|                    85.98|                     20.3|                    653.1|\n",
      "|           180|                    89.96|                      3.8|                   506.85|\n",
      "|           190|                    27.62|                     20.8|                    32.16|\n",
      "+--------------+-------------------------+-------------------------+-------------------------+\n",
      "only showing top 20 rows\n",
      "\n"
     ]
    },
    {
     "name": "stderr",
     "output_type": "stream",
     "text": [
      "                                                                                \r"
     ]
    }
   ],
   "source": [
    "ss.sql('''\n",
    "    SELECT\n",
    "        \n",
    "        FLOOR(trip_distance/10) * 10 as range_distance\n",
    "        -- , AVG(trip_distance)\n",
    "        , ROUND(AVG(total_amount), 2) as avg_total_amount_by_range\n",
    "        , MIN(total_amount) as min_total_amount_by_range\n",
    "        , MAX(total_amount) as max_total_amount_by_range\n",
    "    FROM table1\n",
    "    \n",
    "    GROUP BY range_distance    \n",
    "\n",
    "    ORDER BY range_distance\n",
    "''').show()"
   ]
  },
  {
   "cell_type": "markdown",
   "id": "0a9652d3-190a-47a9-be93-5f6fa683c184",
   "metadata": {},
   "source": [
    "#### 2-1-2) Pandas 데이터프레임으로 만들기"
   ]
  },
  {
   "cell_type": "code",
   "execution_count": 67,
   "id": "d734830d-c3e6-4460-8564-c28a582182b2",
   "metadata": {},
   "outputs": [],
   "source": [
    "df1 = ss.sql('''\n",
    "    SELECT\n",
    "        \n",
    "        FLOOR(trip_distance/10) * 10 as range_distance\n",
    "        -- , AVG(trip_distance) range_distance 컬럼과 사실상 동일한 값\n",
    "        , ROUND(AVG(total_amount), 2) as avg_total_amount_by_range\n",
    "        , MIN(total_amount) as min_total_amount_by_range\n",
    "        , MAX(total_amount) as max_total_amount_by_range\n",
    "    FROM table1\n",
    "    \n",
    "    GROUP BY range_distance    \n",
    "\n",
    "    ORDER BY range_distance\n",
    "''').toPandas()"
   ]
  },
  {
   "cell_type": "markdown",
   "id": "921202f9-5233-4759-8eef-e1ed62b388f0",
   "metadata": {},
   "source": [
    "#### 2-1-3) 상관계수 파악"
   ]
  },
  {
   "cell_type": "code",
   "execution_count": 111,
   "id": "8ff0d48b-9521-471f-a1f8-2f7c560cad27",
   "metadata": {},
   "outputs": [
    {
     "data": {
      "text/html": [
       "<div>\n",
       "<style scoped>\n",
       "    .dataframe tbody tr th:only-of-type {\n",
       "        vertical-align: middle;\n",
       "    }\n",
       "\n",
       "    .dataframe tbody tr th {\n",
       "        vertical-align: top;\n",
       "    }\n",
       "\n",
       "    .dataframe thead th {\n",
       "        text-align: right;\n",
       "    }\n",
       "</style>\n",
       "<table border=\"1\" class=\"dataframe\">\n",
       "  <thead>\n",
       "    <tr style=\"text-align: right;\">\n",
       "      <th></th>\n",
       "      <th>range_distance</th>\n",
       "      <th>avg_total_amount_by_range</th>\n",
       "      <th>min_total_amount_by_range</th>\n",
       "      <th>max_total_amount_by_range</th>\n",
       "    </tr>\n",
       "  </thead>\n",
       "  <tbody>\n",
       "    <tr>\n",
       "      <th>range_distance</th>\n",
       "      <td>1.000000</td>\n",
       "      <td>-0.113127</td>\n",
       "      <td>-0.014220</td>\n",
       "      <td>-0.043858</td>\n",
       "    </tr>\n",
       "    <tr>\n",
       "      <th>avg_total_amount_by_range</th>\n",
       "      <td>-0.113127</td>\n",
       "      <td>1.000000</td>\n",
       "      <td>0.829364</td>\n",
       "      <td>0.001031</td>\n",
       "    </tr>\n",
       "    <tr>\n",
       "      <th>min_total_amount_by_range</th>\n",
       "      <td>-0.014220</td>\n",
       "      <td>0.829364</td>\n",
       "      <td>1.000000</td>\n",
       "      <td>-0.160525</td>\n",
       "    </tr>\n",
       "    <tr>\n",
       "      <th>max_total_amount_by_range</th>\n",
       "      <td>-0.043858</td>\n",
       "      <td>0.001031</td>\n",
       "      <td>-0.160525</td>\n",
       "      <td>1.000000</td>\n",
       "    </tr>\n",
       "  </tbody>\n",
       "</table>\n",
       "</div>"
      ],
      "text/plain": [
       "                           range_distance  avg_total_amount_by_range  \\\n",
       "range_distance                   1.000000                  -0.113127   \n",
       "avg_total_amount_by_range       -0.113127                   1.000000   \n",
       "min_total_amount_by_range       -0.014220                   0.829364   \n",
       "max_total_amount_by_range       -0.043858                   0.001031   \n",
       "\n",
       "                           min_total_amount_by_range  \\\n",
       "range_distance                             -0.014220   \n",
       "avg_total_amount_by_range                   0.829364   \n",
       "min_total_amount_by_range                   1.000000   \n",
       "max_total_amount_by_range                  -0.160525   \n",
       "\n",
       "                           max_total_amount_by_range  \n",
       "range_distance                             -0.043858  \n",
       "avg_total_amount_by_range                   0.001031  \n",
       "min_total_amount_by_range                  -0.160525  \n",
       "max_total_amount_by_range                   1.000000  "
      ]
     },
     "execution_count": 111,
     "metadata": {},
     "output_type": "execute_result"
    }
   ],
   "source": [
    "df1.corr()"
   ]
  },
  {
   "cell_type": "code",
   "execution_count": 105,
   "id": "a9f83c9a-57f8-4281-a822-519032b015f9",
   "metadata": {},
   "outputs": [
    {
     "data": {
      "text/plain": [
       "0.0018896728517615062"
      ]
     },
     "execution_count": 105,
     "metadata": {},
     "output_type": "execute_result"
    }
   ],
   "source": [
    "statistic, pvalue = pearsonr(df1['range_distance'], df1['avg_total_amount_by_range'])\n",
    "pvalue"
   ]
  },
  {
   "cell_type": "markdown",
   "id": "342a9e81-aa62-4f58-b070-d5cb5b962461",
   "metadata": {},
   "source": [
    "#### 2-1-4) 시각화"
   ]
  },
  {
   "cell_type": "code",
   "execution_count": 68,
   "id": "aea0cbe4-257c-462e-9ade-ab417d1f2a68",
   "metadata": {},
   "outputs": [
    {
     "data": {
      "application/vnd.jupyter.widget-view+json": {
       "model_id": "02e08600f58943d296047a8e728e8f86",
       "version_major": 2,
       "version_minor": 0
      },
      "image/png": "[encoded data removed]",
      "text/html": [
       "\n",
       "            <div style=\"display: inline-block;\">\n",
       "                <div class=\"jupyter-widgets widget-label\" style=\"text-align: center;\">\n",
       "                    Figure\n",
       "                </div>\n",
       "                <img src='data:image/png;base64,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' width=800.0/>\n",
       "            </div>\n",
       "        "
      ],
      "text/plain": [
       "Canvas(toolbar=Toolbar(toolitems=[('Home', 'Reset original view', 'home', 'home'), ('Back', 'Back to previous …"
      ]
     },
     "metadata": {},
     "output_type": "display_data"
    }
   ],
   "source": [
    "plt.figure(figsize = (8,6))\n",
    "\n",
    "axes1 = plt.subplot(2,1,1)\n",
    "axes1.scatter(df1['range_distance'], df1['avg_total_amount_by_range'], alpha = 0.7)\n",
    "axes1.grid(True)\n",
    "plt.title('range_distance / avg_total_amount_by_range')\n",
    "\n",
    "axes2 = plt.subplot(2,1,2)\n",
    "sns.heatmap(df1.corr(), annot =True, cmap = 'coolwarm')\n",
    "plt.xticks(rotation = 70)\n",
    "plt.title('corr_heatmap')\n",
    "\n",
    "plt.tight_layout()\n",
    "plt.show()"
   ]
  },
  {
   "cell_type": "markdown",
   "id": "2e638bad-38f1-46c3-9062-15af93fd4e03",
   "metadata": {},
   "source": [
    "#### 2-1-5) 결론"
   ]
  },
  {
   "cell_type": "markdown",
   "id": "650d700f-f131-4f72-915b-93bc08567e07",
   "metadata": {},
   "source": [
    "<span style=\"\n",
    "display : block;\n",
    "background-color:#fff5b1;\n",
    "color : red;\n",
    "font-size : 20px;\n",
    "font-weight : bold;\n",
    "text-align : center;\">[결론]</span>\n",
    "\n",
    "- 이동 거리가 증가하면, 평균 운임이 음의 상관관계를 가져, 살짝 줄어드는 모습을 볼 수 있다\n",
    "- 또한 이동 거리와 평균 운임의 p-value가 0.05 미만임에, 귀무가설(두 변수간 상관 관계가 없다)은 기각된다.\n",
    "- 하지만 상관계수가 -0.11로 매우 약한 강도를 가지고 있다.\n",
    "- 즉, 이동 거리와 평균 운임은 약한 음의 상관 관계를 가진다.- "
   ]
  },
  {
   "cell_type": "markdown",
   "id": "760a9617-a2ae-4923-bc3a-a3cebdbf2c84",
   "metadata": {},
   "source": [
    "### 2-2. 피크 시간대 요금 분석"
   ]
  },
  {
   "cell_type": "markdown",
   "id": "271c82c2-e38b-4c76-bb02-56d2da269263",
   "metadata": {},
   "source": [
    "#### 2-2-1) 기초 통계 데이터 확인"
   ]
  },
  {
   "cell_type": "code",
   "execution_count": 120,
   "id": "d9b5f4e6-623c-48e6-854c-970252f2ea2e",
   "metadata": {
    "scrolled": true
   },
   "outputs": [
    {
     "name": "stderr",
     "output_type": "stream",
     "text": [
      "[Stage 68:==================================================>     (10 + 1) / 11]\r"
     ]
    },
    {
     "name": "stdout",
     "output_type": "stream",
     "text": [
      "+---------+--------+------------------------+\n",
      "|time_hour|cnt_HOUR|AVG_total_amount_by_HOUR|\n",
      "+---------+--------+------------------------+\n",
      "|        0|  273553|                   21.43|\n",
      "|        1|  160424|                   20.84|\n",
      "|        2|   97218|                   20.36|\n",
      "|        3|   57806|                   21.07|\n",
      "|        4|   45410|                   25.54|\n",
      "|        5|   82073|                   26.55|\n",
      "|        6|  241020|                   21.33|\n",
      "|        7|  438938|                   18.84|\n",
      "|        8|  641530|                   17.79|\n",
      "|        9|  712912|                   17.59|\n",
      "|       10|  794621|                   17.54|\n",
      "|       11|  877952|                   17.47|\n",
      "|       12|  970018|                   17.96|\n",
      "|       13| 1001522|                   18.15|\n",
      "|       14| 1084111|                   18.18|\n",
      "|       15| 1091871|                   18.63|\n",
      "|       16| 1043498|                   19.71|\n",
      "|       17| 1085226|                   19.29|\n",
      "|       18| 1087217|                   18.58|\n",
      "|       19|  915477|                   18.36|\n",
      "+---------+--------+------------------------+\n",
      "only showing top 20 rows\n",
      "\n"
     ]
    },
    {
     "name": "stderr",
     "output_type": "stream",
     "text": [
      "                                                                                \r"
     ]
    }
   ],
   "source": [
    "ss.sql('''\n",
    "\n",
    "    SELECT\n",
    "        HOUR(tpep_pickup_datetime) as time_hour\n",
    "        , COUNT(*) as cnt_HOUR\n",
    "        , ROUND(AVG(total_amount), 2) as AVG_total_amount_by_HOUR\n",
    "    \n",
    "    FROM table1\n",
    "    \n",
    "    GROUP BY time_hour\n",
    "\n",
    "    ORDER BY time_hour\n",
    "\n",
    "''').show()"
   ]
  },
  {
   "cell_type": "code",
   "execution_count": 141,
   "id": "82a849bc-b5be-4d6d-829b-06ad93f1e7f4",
   "metadata": {},
   "outputs": [
    {
     "name": "stderr",
     "output_type": "stream",
     "text": [
      "[Stage 75:==================================================>     (10 + 1) / 11]\r"
     ]
    },
    {
     "name": "stdout",
     "output_type": "stream",
     "text": [
      "+---------+--------+\n",
      "|time_hour|cnt_HOUR|\n",
      "+---------+--------+\n",
      "|       15| 1091871|\n",
      "|       18| 1087217|\n",
      "|       17| 1085226|\n",
      "|       14| 1084111|\n",
      "|       16| 1043498|\n",
      "|       13| 1001522|\n",
      "|       12|  970018|\n",
      "|       19|  915477|\n",
      "|       11|  877952|\n",
      "|       10|  794621|\n",
      "+---------+--------+\n",
      "\n"
     ]
    },
    {
     "name": "stderr",
     "output_type": "stream",
     "text": [
      "                                                                                \r"
     ]
    }
   ],
   "source": [
    "ss.sql('''\n",
    "\n",
    "    SELECT\n",
    "        HOUR(tpep_pickup_datetime) as time_hour\n",
    "        , COUNT(*) as cnt_HOUR\n",
    "    \n",
    "    FROM table1\n",
    "    \n",
    "    GROUP BY time_hour\n",
    "\n",
    "    ORDER BY cnt_HOUR DESC\n",
    "\n",
    "    LIMIT 10;\n",
    "\n",
    "''').show()"
   ]
  },
  {
   "cell_type": "markdown",
   "id": "a9f16504-248f-4ab5-bd42-3547de64678d",
   "metadata": {},
   "source": [
    "#### 2-2-2) Pandas 데이터프레임으로 만들기"
   ]
  },
  {
   "cell_type": "code",
   "execution_count": 64,
   "id": "87cc72df-85a5-4e71-9c13-73e6342d4ac9",
   "metadata": {},
   "outputs": [],
   "source": [
    "df2 = ss.sql('''\n",
    "\n",
    "    SELECT\n",
    "        HOUR(tpep_pickup_datetime) as time_hour\n",
    "        , COUNT(*) as cnt_HOUR\n",
    "        , ROUND(AVG(total_amount), 2) as AVG_total_amount_by_HOUR\n",
    "    \n",
    "    FROM table1\n",
    "    \n",
    "    GROUP BY time_hour\n",
    "\n",
    "    ORDER BY time_hour\n",
    "\n",
    "''').toPandas()"
   ]
  },
  {
   "cell_type": "markdown",
   "id": "8d9f359c-fee4-4141-b2f6-f0853f9ec0a4",
   "metadata": {},
   "source": [
    "#### 2-2-3) 상관계수 파악"
   ]
  },
  {
   "cell_type": "code",
   "execution_count": 123,
   "id": "254bb6f6-0f71-4b88-8094-5989c55d404c",
   "metadata": {},
   "outputs": [
    {
     "data": {
      "text/html": [
       "<div>\n",
       "<style scoped>\n",
       "    .dataframe tbody tr th:only-of-type {\n",
       "        vertical-align: middle;\n",
       "    }\n",
       "\n",
       "    .dataframe tbody tr th {\n",
       "        vertical-align: top;\n",
       "    }\n",
       "\n",
       "    .dataframe thead th {\n",
       "        text-align: right;\n",
       "    }\n",
       "</style>\n",
       "<table border=\"1\" class=\"dataframe\">\n",
       "  <thead>\n",
       "    <tr style=\"text-align: right;\">\n",
       "      <th></th>\n",
       "      <th>time_hour</th>\n",
       "      <th>cnt_HOUR</th>\n",
       "      <th>AVG_total_amount_by_HOUR</th>\n",
       "    </tr>\n",
       "  </thead>\n",
       "  <tbody>\n",
       "    <tr>\n",
       "      <th>time_hour</th>\n",
       "      <td>1.000000</td>\n",
       "      <td>0.644409</td>\n",
       "      <td>-0.412225</td>\n",
       "    </tr>\n",
       "    <tr>\n",
       "      <th>cnt_HOUR</th>\n",
       "      <td>0.644409</td>\n",
       "      <td>1.000000</td>\n",
       "      <td>-0.734082</td>\n",
       "    </tr>\n",
       "    <tr>\n",
       "      <th>AVG_total_amount_by_HOUR</th>\n",
       "      <td>-0.412225</td>\n",
       "      <td>-0.734082</td>\n",
       "      <td>1.000000</td>\n",
       "    </tr>\n",
       "  </tbody>\n",
       "</table>\n",
       "</div>"
      ],
      "text/plain": [
       "                          time_hour  cnt_HOUR  AVG_total_amount_by_HOUR\n",
       "time_hour                  1.000000  0.644409                 -0.412225\n",
       "cnt_HOUR                   0.644409  1.000000                 -0.734082\n",
       "AVG_total_amount_by_HOUR  -0.412225 -0.734082                  1.000000"
      ]
     },
     "execution_count": 123,
     "metadata": {},
     "output_type": "execute_result"
    }
   ],
   "source": [
    "df2.corr()"
   ]
  },
  {
   "cell_type": "markdown",
   "id": "413c24c2-9193-4148-a514-5df7e17dfb49",
   "metadata": {},
   "source": [
    "#### 2-2-4) 시각화"
   ]
  },
  {
   "cell_type": "code",
   "execution_count": 65,
   "id": "af542f44-3f1e-4b4f-840e-dd5fd3e41e62",
   "metadata": {},
   "outputs": [
    {
     "data": {
      "application/vnd.jupyter.widget-view+json": {
       "model_id": "5b37e22c6d554de1a0e663fe1fba2795",
       "version_major": 2,
       "version_minor": 0
      },
      "image/png": "[encoded data removed]",
      "text/html": [
       "\n",
       "            <div style=\"display: inline-block;\">\n",
       "                <div class=\"jupyter-widgets widget-label\" style=\"text-align: center;\">\n",
       "                    Figure\n",
       "                </div>\n",
       "                <img src='data:image/png;base64,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' width=800.0/>\n",
       "            </div>\n",
       "        "
      ],
      "text/plain": [
       "Canvas(toolbar=Toolbar(toolitems=[('Home', 'Reset original view', 'home', 'home'), ('Back', 'Back to previous …"
      ]
     },
     "metadata": {},
     "output_type": "display_data"
    }
   ],
   "source": [
    "plt.figure(figsize=(8,6))\n",
    "\n",
    "axes1 = plt.subplot(2,1,1)\n",
    "axes1.scatter(df2['time_hour'], df2['cnt_HOUR'])\n",
    "plt.title('Peak_Time_Scatter Chart')\n",
    "\n",
    "axes2 = plt.subplot(2,1,2)\n",
    "sns.heatmap(df2.corr(), annot = True, cmap = 'coolwarm')\n",
    "plt.title('corr_heatmap')\n",
    "\n",
    "plt.tight_layout()\n",
    "\n",
    "plt.show()"
   ]
  },
  {
   "cell_type": "code",
   "execution_count": 151,
   "id": "b95be81b-32e2-4534-80fd-7611984b0592",
   "metadata": {},
   "outputs": [
    {
     "name": "stdout",
     "output_type": "stream",
     "text": [
      "0.00004442707559947090\n"
     ]
    }
   ],
   "source": [
    "statistic, pvalue = pearsonr(df2['cnt_HOUR'], df2['AVG_total_amount_by_HOUR'])\n",
    "print(f'{pvalue:.20f}')"
   ]
  },
  {
   "cell_type": "markdown",
   "id": "b2c42ba0-4064-4ad1-b377-ed3ce0e3e3dc",
   "metadata": {},
   "source": [
    "#### 2-2-5) 결론"
   ]
  },
  {
   "cell_type": "markdown",
   "id": "623ef85e-ee5a-4c8b-a7c7-0b22beaeb54f",
   "metadata": {},
   "source": [
    "<span style=\"\n",
    "display : block;\n",
    "background-color:#fff5b1;\n",
    "color : red;\n",
    "font-size : 20px;\n",
    "font-weight : bold;\n",
    "text-align : center;\">[결론]</span>\n",
    "\n",
    "- 피크 시간은 13시 ~ 18시에 많다.\n",
    "- 시간 당 이용횟수가 증가할 수록, 시간 당 지불하는 총 금액의 평균은 낮아진다.\n",
    "- 피크 시간에는 짧은 운임요금이 많으며 이는 짧은 거리일 수도 있다는 생각이 들게 된다.\n",
    "- p-value 역시 시간 당 이용횟수와 시간 당 지불하는 총 금액의 평균이 매우 작은 값을 나타내고 있어, 두 변수간 상관관계가 없다는 귀무가설은 기각된다.\n",
    "- 상관계수 역시, -0.73으로 음의 방향으로 강함을 확인할 수 있다.\n",
    "- 즉, 시간 당 이용횟수는 시간 당 지불하는 총 금액의 평균과 음의 상관관계를 띄고 있다."
   ]
  },
  {
   "cell_type": "markdown",
   "id": "c01e8032-8c63-4972-a0b2-d87c9625cf04",
   "metadata": {},
   "source": [
    "### 2-3. 지불 유형별 요금, 팁 분석"
   ]
  },
  {
   "cell_type": "code",
   "execution_count": 75,
   "id": "7281734e",
   "metadata": {},
   "outputs": [
    {
     "name": "stdout",
     "output_type": "stream",
     "text": [
      "+--------+--------------------+---------------------+---------------+-------------+------------------+------------------+----------+------------------+------------------+------------------+------------+-----------+-----+-------+----------+------------+---------------------+------------+\n",
      "|VendorID|tpep_pickup_datetime|tpep_dropoff_datetime|passenger_count|trip_distance|  pickup_longitude|   pickup_latitude|RateCodeID|store_and_fwd_flag| dropoff_longitude|  dropoff_latitude|payment_type|fare_amount|extra|mta_tax|tip_amount|tolls_amount|improvement_surcharge|total_amount|\n",
      "+--------+--------------------+---------------------+---------------+-------------+------------------+------------------+----------+------------------+------------------+------------------+------------+-----------+-----+-------+----------+------------+---------------------+------------+\n",
      "|       1| 2015-01-26 08:06:02|  2015-01-26 08:09:36|              1|          0.5|-74.00654602050781| 40.70423889160156|         1|                 N|-74.00718688964844|40.709190368652344|           2|        4.0|  0.0|    0.5|      1.44|         0.0|                  0.3|        6.24|\n",
      "|       1| 2015-01-19 20:48:14|  2015-01-19 21:03:52|              1|          3.2| -73.9790267944336|40.764305114746094|         1|                 N|-73.99232482910156| 40.72528076171875|           2|       13.0|  0.5|    0.5|      3.57|         0.0|                  0.3|       17.87|\n",
      "|       1| 2015-01-05 02:31:05|  2015-01-05 03:13:14|              1|         29.0|-73.78569030761719| 40.64494323730469|         5|                 Y|-74.02815246582031| 40.92623519897461|           2|     130.75|  0.0|    0.0|     29.22|       15.08|                  0.3|      175.35|\n",
      "|       1| 2015-01-01 00:29:05|  2015-01-01 00:42:20|              2|          1.1|-73.98898315429688| 40.74687194824219|         1|                 N|-73.99725341796875| 40.75844192504883|           2|        8.5|  0.5|    0.5|       1.9|         0.0|                  0.0|        11.7|\n",
      "|       1| 2015-01-31 00:39:47|  2015-01-31 00:44:35|              2|          0.1|-73.96908569335938|40.754173278808594|         1|                 N|    -73.9560546875|40.767635345458984|           2|        6.0|  0.5|    0.5|      1.46|         0.0|                  0.3|        8.76|\n",
      "|       1| 2015-01-05 06:43:11|  2015-01-05 06:56:46|              2|          3.5|-73.95165252685547| 40.78194046020508|         1|                 N|-73.99051666259766| 40.75563049316406|           2|       13.0|  0.0|    0.5|      2.76|         0.0|                  0.3|       16.56|\n",
      "|       1| 2015-01-31 23:30:46|  2015-02-01 00:00:55|              2|          8.1|-73.95674133300781| 40.77078628540039|         5|                 N|-73.99685668945312| 40.79383087158203|           2|       60.0|  0.0|    0.0|     14.01|        9.75|                  0.3|       84.06|\n",
      "|       1| 2015-01-18 21:31:29|  2015-01-18 21:46:21|              2|          3.8|-73.98931121826172| 40.71662139892578|         1|                 N|-73.92597961425781|40.698524475097656|           2|       14.0|  0.5|    0.5|      3.82|         0.0|                  0.3|       19.12|\n",
      "|       1| 2015-01-31 00:40:08|  2015-01-31 00:48:10|              1|          0.2|-73.99827575683594| 40.72962951660156|         1|                 N|-74.01024627685547| 40.70995330810547|           2|        7.5|  0.5|    0.5|       1.0|         0.0|                  0.3|         9.8|\n",
      "|       1| 2015-01-09 06:51:48|  2015-01-09 07:55:08|              1|         11.4|-73.78812408447266| 40.64748001098633|         1|                 N|-73.95549774169922|  40.6842155456543|           2|       44.5|  0.0|    0.5|       9.0|         0.0|                  0.3|        54.3|\n",
      "|       1| 2015-01-21 02:10:08|  2015-01-21 02:46:21|              1|         25.0|-73.97151184082031|  40.7553596496582|         4|                 Y|-73.76508331298828| 41.00786590576172|           2|       97.0|  0.5|    0.5|     24.57|         0.0|                  0.3|      122.87|\n",
      "|       1| 2015-01-23 21:55:06|  2015-01-23 22:21:45|              1|          3.9|               0.0|               0.0|         1|                 N|               0.0|               0.0|           2|       18.5|  0.5|    0.5|      0.06|         0.0|                  0.3|       19.86|\n",
      "|       1| 2015-01-22 19:31:39|  2015-01-22 19:45:28|              2|          0.2|-73.98438262939453|40.744510650634766|         1|                 Y|-73.98665618896484|40.721805572509766|           2|       10.0|  1.0|    0.5|      2.36|         0.0|                  0.3|       14.16|\n",
      "|       1| 2015-01-09 08:55:58|  2015-01-09 10:12:54|              1|         11.9|-73.86268615722656|40.769081115722656|         1|                 N|-73.79464721679688|40.656211853027344|           2|       36.0|  0.0|    0.5|     11.04|         0.0|                  0.3|       47.84|\n",
      "|       1| 2015-01-16 07:02:06|  2015-01-16 08:15:27|              3|         27.5|-73.77680969238281| 40.64524841308594|         1|                 N|-74.01777648925781| 40.67439651489258|           2|       80.5|  0.0|    0.5|     20.32|         0.0|                  0.3|      101.62|\n",
      "|       1| 2015-01-07 23:07:51|  2015-01-07 23:11:55|              1|          0.1|-73.99408721923828| 40.75126647949219|         1|                 N| -73.9857406616211| 40.75188446044922|           2|        5.0|  0.5|    0.5|       1.5|         0.0|                  0.3|         7.8|\n",
      "|       1| 2015-01-13 08:33:51|  2015-01-13 08:55:22|              1|          1.5|  -73.985107421875| 40.75490951538086|         1|                 N|-74.00167083740234| 40.75642776489258|           2|       13.5|  0.0|    0.5|      2.86|         0.0|                  0.3|       17.16|\n",
      "|       1| 2015-01-30 07:35:50|  2015-01-30 07:46:28|              1|          1.8|-73.96405029296875| 40.77134323120117|         1|                 N|-73.98332214355469|40.755340576171875|           2|        9.0|  0.0|    0.5|       1.0|         0.0|                  0.3|        10.8|\n",
      "|       1| 2015-01-31 07:44:09|  2015-01-31 07:49:28|              1|          0.6|-73.97538757324219| 40.76521682739258|         1|                 Y| -73.9725112915039|40.762332916259766|           2|        5.5|  0.0|    0.5|      1.57|         0.0|                  0.3|        7.87|\n",
      "|       1| 2015-01-11 21:09:03|  2015-01-11 21:09:05|              1|          0.0|-74.00151824951172|40.707969665527344|         2|                 N|-74.00151824951172|40.707969665527344|           2|       52.0|  0.0|    0.5|     10.56|         0.0|                  0.3|       63.36|\n",
      "+--------+--------------------+---------------------+---------------+-------------+------------------+------------------+----------+------------------+------------------+------------------+------------+-----------+-----+-------+----------+------------+---------------------+------------+\n",
      "only showing top 20 rows\n",
      "\n"
     ]
    }
   ],
   "source": [
    "ss.sql('''\n",
    "select * from table1\n",
    "where payment_type = 2\n",
    "       and tip_amount != 0\n",
    "\n",
    "''').show(20)"
   ]
  },
  {
   "cell_type": "code",
   "execution_count": 96,
   "id": "5c62d718-7ec6-462e-aade-e74638984eb9",
   "metadata": {},
   "outputs": [
    {
     "name": "stdout",
     "output_type": "stream",
     "text": [
      "+------------+--------------------+------------------+------------------+-------------+-----------------+\n",
      "|payment_type|     avg(tip_amount)| avg(total_amount)|     min_tip_ratio|avg_tip_ratio|    max_tip_ratio|\n",
      "+------------+--------------------+------------------+------------------+-------------+-----------------+\n",
      "|           1|  2.7465760574114975| 17.10993636436064|-7933.333333333334|15.3913023871|            100.0|\n",
      "|           2|1.692904716561107E-4|12.711214505190041|               0.0| 0.0004349492|96.09212091255928|\n",
      "|           3|0.003350960776907...|15.030975155052426|               0.0| 0.0574327263|99.26303095269999|\n",
      "|           4|-0.00902399828583...| 12.29009463609732|              -0.0| 0.0665764363| 98.3212087297146|\n",
      "|           5|                 0.0|               6.2|               0.0|        0E-10|              0.0|\n",
      "+------------+--------------------+------------------+------------------+-------------+-----------------+\n",
      "\n"
     ]
    }
   ],
   "source": [
    "ss.sql('''\n",
    "    SELECT\n",
    "        payment_type\n",
    "        , AVG(tip_amount)\n",
    "        , AVG(total_amount)\n",
    "        , MIN((tip_amount / total_amount) * 100) as min_tip_ratio\n",
    "        , CAST(AVG((tip_amount / total_amount) * 100) AS DECIMAL(30, 10)) AS avg_tip_ratio\n",
    "        , MAX((tip_amount / total_amount) * 100) as max_tip_ratio\n",
    "    FROM table1 as A\n",
    "    GROUP BY payment_type\n",
    "    ORDER BY payment_type\n",
    "    \n",
    "''').show()"
   ]
  },
  {
   "cell_type": "code",
   "execution_count": 97,
   "id": "dcea0182",
   "metadata": {},
   "outputs": [],
   "source": [
    "df3 = ss.sql('''\n",
    "    SELECT\n",
    "        payment_type\n",
    "        , AVG(tip_amount)\n",
    "        , AVG(total_amount)\n",
    "        , MIN((tip_amount / total_amount) * 100) as min_tip_ratio\n",
    "        , CAST(AVG((tip_amount / total_amount) * 100) AS DECIMAL(30, 10)) AS avg_tip_ratio\n",
    "        , MAX((tip_amount / total_amount) * 100) as max_tip_ratio\n",
    "    FROM table1 as A\n",
    "    GROUP BY payment_type\n",
    "    ORDER BY payment_type\n",
    "    \n",
    "''').toPandas()"
   ]
  },
  {
   "cell_type": "markdown",
   "id": "8c2dfe79-f61b-499b-a125-03cdbb12e98d",
   "metadata": {},
   "source": [
    "### 4. 승차 지역 / 하차 지역별 평균거리, 요금"
   ]
  },
  {
   "cell_type": "code",
   "execution_count": 13,
   "id": "bd1b1ab0-7f74-49f3-aa0f-1615638bba13",
   "metadata": {
    "scrolled": true
   },
   "outputs": [
    {
     "name": "stderr",
     "output_type": "stream",
     "text": [
      "[Stage 27:==================================================>     (10 + 1) / 11]\r"
     ]
    },
    {
     "name": "stdout",
     "output_type": "stream",
     "text": [
      "+------------+--------------------+------------+--------------------+-----------------+----------------+---+\n",
      "|PULocationID|             PU_Zone|DOLocationID|             DO_Zone|AVG_trip_distance|AVG_total_amount|cnt|\n",
      "+------------+--------------------+------------+--------------------+-----------------+----------------+---+\n",
      "|           3|Allerton/Pelham G...|          57|              Corona|              4.8|           39.81|  2|\n",
      "|           3|Allerton/Pelham G...|          89|Flatbush/Ditmas Park|            23.01|           74.73|  2|\n",
      "|           4|       Alphabet City|         185|      Pelham Parkway|            10.91|           42.06| 11|\n",
      "|           7|             Astoria|          55|        Coney Island|            14.82|           59.38| 23|\n",
      "|           7|             Astoria|         132|         JFK Airport|            14.19|           49.42| 77|\n",
      "|          10|        Baisley Park|          85|             Erasmus|            11.19|           49.95| 29|\n",
      "|          10|        Baisley Park|         264|                  NV|              1.5|            38.1| 41|\n",
      "|          11|          Bath Beach|         155|Marine Park/Mill ...|             6.41|           29.15|  3|\n",
      "|          12|        Battery Park|         115| Grymes Hill/Clifton|            12.04|           50.04|  2|\n",
      "|          14|           Bay Ridge|         175|     Oakland Gardens|            27.08|           74.23|  1|\n",
      "|          17|             Bedford|         138|   LaGuardia Airport|             9.46|           37.24| 33|\n",
      "|          18|        Bedford Park|          68|        East Chelsea|            14.32|           55.16|  6|\n",
      "|          18|        Bedford Park|          95|        Forest Hills|            14.62|            52.8|  6|\n",
      "|          18|        Bedford Park|         185|      Pelham Parkway|             3.47|           26.63| 38|\n",
      "|          18|        Bedford Park|         217|  South Williamsburg|            21.74|           80.16|  1|\n",
      "|          21|    Bensonhurst East|         140|     Lenox Hill East|            15.22|           52.28| 24|\n",
      "|          24|        Bloomingdale|         210|      Sheepshead Bay|             23.8|           77.35|  1|\n",
      "|          25|         Boerum Hill|          61| Crown Heights North|             2.78|           18.69|267|\n",
      "|          28|Briarwood/Jamaica...|          16|             Bayside|              5.1|            31.2|  7|\n",
      "|          28|Briarwood/Jamaica...|          63|       Cypress Hills|              6.9|           37.81|  1|\n",
      "+------------+--------------------+------------+--------------------+-----------------+----------------+---+\n",
      "only showing top 20 rows\n",
      "\n"
     ]
    },
    {
     "name": "stderr",
     "output_type": "stream",
     "text": [
      "                                                                                \r"
     ]
    }
   ],
   "source": [
    "ss.sql('''\n",
    "    SELECT\n",
    "        A.PULocationID\n",
    "        , MAX(B.Zone) as PU_Zone\n",
    "        , A.DOLocationID\n",
    "        , MAX(C.Zone) as DO_Zone\n",
    "        , ROUND(AVG(A.trip_distance), 2) as AVG_trip_distance\n",
    "        , ROUND(AVG(A.total_amount), 2) as AVG_total_amount\n",
    "        , COUNT(*) as cnt -- 건수 체크\n",
    "    FROM table1 as A\n",
    "\n",
    "    INNER JOIN table2 as B\n",
    "    ON A.PULocationID = B.LocationID\n",
    "\n",
    "    INNER JOIN table2 as C\n",
    "    on A.DOLocationID = C.LocationID\n",
    "\n",
    "    GROUP BY A.PULocationID, A.DOLocationID\n",
    "''').show()"
   ]
  },
  {
   "cell_type": "code",
   "execution_count": 14,
   "id": "ac565b32-5316-487f-b748-d20d0362d9d4",
   "metadata": {
    "scrolled": true
   },
   "outputs": [
    {
     "name": "stderr",
     "output_type": "stream",
     "text": [
      "                                                                                \r"
     ]
    },
    {
     "data": {
      "text/html": [
       "<div>\n",
       "<style scoped>\n",
       "    .dataframe tbody tr th:only-of-type {\n",
       "        vertical-align: middle;\n",
       "    }\n",
       "\n",
       "    .dataframe tbody tr th {\n",
       "        vertical-align: top;\n",
       "    }\n",
       "\n",
       "    .dataframe thead th {\n",
       "        text-align: right;\n",
       "    }\n",
       "</style>\n",
       "<table border=\"1\" class=\"dataframe\">\n",
       "  <thead>\n",
       "    <tr style=\"text-align: right;\">\n",
       "      <th></th>\n",
       "      <th>PULocationID</th>\n",
       "      <th>PU_Zone</th>\n",
       "      <th>DOLocationID</th>\n",
       "      <th>DO_Zone</th>\n",
       "      <th>AVG_trip_distance</th>\n",
       "      <th>AVG_total_amount</th>\n",
       "      <th>cnt</th>\n",
       "    </tr>\n",
       "  </thead>\n",
       "  <tbody>\n",
       "    <tr>\n",
       "      <th>0</th>\n",
       "      <td>3</td>\n",
       "      <td>Allerton/Pelham Gardens</td>\n",
       "      <td>57</td>\n",
       "      <td>Corona</td>\n",
       "      <td>4.80</td>\n",
       "      <td>39.81</td>\n",
       "      <td>2</td>\n",
       "    </tr>\n",
       "    <tr>\n",
       "      <th>1</th>\n",
       "      <td>3</td>\n",
       "      <td>Allerton/Pelham Gardens</td>\n",
       "      <td>89</td>\n",
       "      <td>Flatbush/Ditmas Park</td>\n",
       "      <td>23.01</td>\n",
       "      <td>74.73</td>\n",
       "      <td>2</td>\n",
       "    </tr>\n",
       "    <tr>\n",
       "      <th>2</th>\n",
       "      <td>4</td>\n",
       "      <td>Alphabet City</td>\n",
       "      <td>185</td>\n",
       "      <td>Pelham Parkway</td>\n",
       "      <td>10.91</td>\n",
       "      <td>42.06</td>\n",
       "      <td>11</td>\n",
       "    </tr>\n",
       "    <tr>\n",
       "      <th>3</th>\n",
       "      <td>7</td>\n",
       "      <td>Astoria</td>\n",
       "      <td>55</td>\n",
       "      <td>Coney Island</td>\n",
       "      <td>14.82</td>\n",
       "      <td>59.38</td>\n",
       "      <td>23</td>\n",
       "    </tr>\n",
       "    <tr>\n",
       "      <th>4</th>\n",
       "      <td>7</td>\n",
       "      <td>Astoria</td>\n",
       "      <td>132</td>\n",
       "      <td>JFK Airport</td>\n",
       "      <td>14.19</td>\n",
       "      <td>49.42</td>\n",
       "      <td>77</td>\n",
       "    </tr>\n",
       "    <tr>\n",
       "      <th>...</th>\n",
       "      <td>...</td>\n",
       "      <td>...</td>\n",
       "      <td>...</td>\n",
       "      <td>...</td>\n",
       "      <td>...</td>\n",
       "      <td>...</td>\n",
       "      <td>...</td>\n",
       "    </tr>\n",
       "    <tr>\n",
       "      <th>46178</th>\n",
       "      <td>264</td>\n",
       "      <td>NV</td>\n",
       "      <td>191</td>\n",
       "      <td>Queens Village</td>\n",
       "      <td>11.14</td>\n",
       "      <td>39.56</td>\n",
       "      <td>31</td>\n",
       "    </tr>\n",
       "    <tr>\n",
       "      <th>46179</th>\n",
       "      <td>265</td>\n",
       "      <td>NA</td>\n",
       "      <td>94</td>\n",
       "      <td>Fordham South</td>\n",
       "      <td>7.15</td>\n",
       "      <td>34.97</td>\n",
       "      <td>117</td>\n",
       "    </tr>\n",
       "    <tr>\n",
       "      <th>46180</th>\n",
       "      <td>265</td>\n",
       "      <td>NA</td>\n",
       "      <td>116</td>\n",
       "      <td>Hamilton Heights</td>\n",
       "      <td>7.07</td>\n",
       "      <td>36.21</td>\n",
       "      <td>476</td>\n",
       "    </tr>\n",
       "    <tr>\n",
       "      <th>46181</th>\n",
       "      <td>265</td>\n",
       "      <td>NA</td>\n",
       "      <td>133</td>\n",
       "      <td>Kensington</td>\n",
       "      <td>6.22</td>\n",
       "      <td>35.51</td>\n",
       "      <td>154</td>\n",
       "    </tr>\n",
       "    <tr>\n",
       "      <th>46182</th>\n",
       "      <td>265</td>\n",
       "      <td>NA</td>\n",
       "      <td>230</td>\n",
       "      <td>Times Sq/Theatre District</td>\n",
       "      <td>9.71</td>\n",
       "      <td>44.33</td>\n",
       "      <td>229</td>\n",
       "    </tr>\n",
       "  </tbody>\n",
       "</table>\n",
       "<p>46183 rows × 7 columns</p>\n",
       "</div>"
      ],
      "text/plain": [
       "       PULocationID                  PU_Zone  DOLocationID  \\\n",
       "0                 3  Allerton/Pelham Gardens            57   \n",
       "1                 3  Allerton/Pelham Gardens            89   \n",
       "2                 4            Alphabet City           185   \n",
       "3                 7                  Astoria            55   \n",
       "4                 7                  Astoria           132   \n",
       "...             ...                      ...           ...   \n",
       "46178           264                       NV           191   \n",
       "46179           265                       NA            94   \n",
       "46180           265                       NA           116   \n",
       "46181           265                       NA           133   \n",
       "46182           265                       NA           230   \n",
       "\n",
       "                         DO_Zone  AVG_trip_distance  AVG_total_amount  cnt  \n",
       "0                         Corona               4.80             39.81    2  \n",
       "1           Flatbush/Ditmas Park              23.01             74.73    2  \n",
       "2                 Pelham Parkway              10.91             42.06   11  \n",
       "3                   Coney Island              14.82             59.38   23  \n",
       "4                    JFK Airport              14.19             49.42   77  \n",
       "...                          ...                ...               ...  ...  \n",
       "46178             Queens Village              11.14             39.56   31  \n",
       "46179              Fordham South               7.15             34.97  117  \n",
       "46180           Hamilton Heights               7.07             36.21  476  \n",
       "46181                 Kensington               6.22             35.51  154  \n",
       "46182  Times Sq/Theatre District               9.71             44.33  229  \n",
       "\n",
       "[46183 rows x 7 columns]"
      ]
     },
     "execution_count": 14,
     "metadata": {},
     "output_type": "execute_result"
    }
   ],
   "source": [
    "ss.sql('''\n",
    "    SELECT\n",
    "        A.PULocationID\n",
    "        , MAX(B.Zone) as PU_Zone\n",
    "        , A.DOLocationID\n",
    "        , MAX(C.Zone) as DO_Zone\n",
    "        , ROUND(AVG(A.trip_distance), 2) as AVG_trip_distance\n",
    "        , ROUND(AVG(A.total_amount), 2) as AVG_total_amount\n",
    "        , COUNT(*) as cnt -- 건수 체크\n",
    "    FROM table1 as A\n",
    "\n",
    "    INNER JOIN table2 as B\n",
    "    ON A.PULocationID = B.LocationID\n",
    "\n",
    "    INNER JOIN table2 as C\n",
    "    on A.DOLocationID = C.LocationID\n",
    "\n",
    "    GROUP BY A.PULocationID, A.DOLocationID\n",
    "''').toPandas()"
   ]
  },
  {
   "cell_type": "markdown",
   "id": "31c0becb-ac84-4c3f-87c7-e635ad8ceee8",
   "metadata": {},
   "source": [
    "### 5. 팁의 비율에 따른 거리, 여행 건수 서비스 관련 분석"
   ]
  },
  {
   "cell_type": "code",
   "execution_count": 15,
   "id": "fe3743c8-653d-486d-8acb-db9e876e3e24",
   "metadata": {
    "scrolled": true
   },
   "outputs": [
    {
     "name": "stdout",
     "output_type": "stream",
     "text": [
      "+---------+\n",
      "|tip_ratio|\n",
      "+---------+\n",
      "|      -30|\n",
      "|      -40|\n",
      "|      -30|\n",
      "|      -30|\n",
      "|      -30|\n",
      "|      -20|\n",
      "|      -30|\n",
      "|      -30|\n",
      "|      -30|\n",
      "|      -20|\n",
      "|      -40|\n",
      "|      -30|\n",
      "|      -30|\n",
      "|      -30|\n",
      "|      -30|\n",
      "|      -30|\n",
      "|      -20|\n",
      "|      -30|\n",
      "|      -40|\n",
      "|      -30|\n",
      "+---------+\n",
      "only showing top 20 rows\n",
      "\n"
     ]
    },
    {
     "name": "stderr",
     "output_type": "stream",
     "text": [
      "                                                                                \r"
     ]
    }
   ],
   "source": [
    "ss.sql('''\n",
    "        SELECT\n",
    "        \n",
    "            FLOOR(FLOOR(((tip_amount / total_amount) * 100))/10) * 10 as tip_ratio\n",
    "            \n",
    "        FROM table1\n",
    "        where FLOOR(FLOOR(((tip_amount / total_amount) * 100))/10) * 10 < 0\n",
    "\n",
    "''').show()"
   ]
  },
  {
   "cell_type": "code",
   "execution_count": 27,
   "id": "066d588d-5a88-4428-a30f-b391285ff79f",
   "metadata": {
    "scrolled": true
   },
   "outputs": [
    {
     "name": "stderr",
     "output_type": "stream",
     "text": [
      "[Stage 48:=================================================>    (184 + 2) / 200]\r"
     ]
    },
    {
     "name": "stdout",
     "output_type": "stream",
     "text": [
      "+---------+-----------------+--------------+----------------+\n",
      "|tip_ratio|AVG_trip_distance|AVG_tip_amount|AVG_total_amount|\n",
      "+---------+-----------------+--------------+----------------+\n",
      "|     null|             0.98|           0.0|             0.0|\n",
      "|    -5670|              0.0|          17.0|            -0.3|\n",
      "|     -440|             1.71|         10.01|           -2.29|\n",
      "|     -240|             0.18|           3.0|            -1.3|\n",
      "|     -180|             0.32|           4.0|            -2.3|\n",
      "|     -140|             0.74|           5.0|            -3.8|\n",
      "|     -120|              0.0|           2.0|            -1.8|\n",
      "|     -110|             2.72|           7.5|            -7.3|\n",
      "|     -100|             0.71|           7.5|            -7.8|\n",
      "|      -90|              0.0|         20.02|          -22.78|\n",
      "|      -80|              0.0|           9.0|           -11.3|\n",
      "|      -70|              4.8|          6.75|           -10.3|\n",
      "|      -60|             1.78|           6.2|          -12.02|\n",
      "|      -50|             3.11|          5.05|          -11.77|\n",
      "|      -40|             2.53|          4.22|          -12.66|\n",
      "|      -30|             2.93|          3.55|          -14.25|\n",
      "|      -20|             2.44|          2.82|          -18.73|\n",
      "|      -10|             4.64|          1.67|          -33.53|\n",
      "|        0|             11.1|          0.34|           18.49|\n",
      "|       10|             3.99|          3.04|           18.95|\n",
      "+---------+-----------------+--------------+----------------+\n",
      "only showing top 20 rows\n",
      "\n"
     ]
    },
    {
     "name": "stderr",
     "output_type": "stream",
     "text": [
      "                                                                                \r"
     ]
    }
   ],
   "source": [
    "ss.sql('''\n",
    "        SELECT\n",
    "        \n",
    "            FLOOR(FLOOR(((tip_amount / total_amount) * 100))/10) * 10 as tip_ratio\n",
    "            , ROUND(AVG(trip_distance), 2) as AVG_trip_distance\n",
    "            , ROUND(AVG(tip_amount), 2) as AVG_tip_amount\n",
    "            , ROUND(AVG(total_amount), 2) as AVG_total_amount\n",
    "            \n",
    "        FROM table1\n",
    "\n",
    "        GROUP BY tip_ratio\n",
    "        \n",
    "        ORDER BY tip_ratio\n",
    "''').show()"
   ]
  },
  {
   "cell_type": "code",
   "execution_count": 30,
   "id": "67926f02-3384-4faa-9382-2a05e84f5a1a",
   "metadata": {},
   "outputs": [],
   "source": [
    "ss.stop()"
   ]
  },
  {
   "cell_type": "markdown",
   "id": "1071b703",
   "metadata": {},
   "source": [
    "## 99. 부록"
   ]
  },
  {
   "cell_type": "markdown",
   "id": "1f2d8e75",
   "metadata": {},
   "source": [
    "### 컬럼 설명\n",
    "\n",
    "| **Field Name**           | **Description**                                                                                                                                     |\n",
    "|---------------------------|-----------------------------------------------------------------------------------------------------------------------------------------------------|\n",
    "| **VendorID**             | A code indicating the TPEP provider that provided the record.                                                                                      |\n",
    "|                           | - Creative Mobile Technologies                                                                                                                    |\n",
    "|                           | - VeriFone Inc.                                                                                                                                   |\n",
    "| **tpep_pickup_datetime**  | The date and time when the meter was engaged.                                                                                                      |\n",
    "| **tpep_dropoff_datetime** | The date and time when the meter was disengaged.                                                                                                   |\n",
    "| **Passenger_count**       | The number of passengers in the vehicle. This is a driver-entered value.                                                                           |\n",
    "| **Trip_distance**         | The elapsed trip distance in miles reported by the taximeter.                                                                                     |\n",
    "| **Pickup_longitude**      | Longitude where the meter was engaged.                                                                                                            |\n",
    "| **Pickup_latitude**       | Latitude where the meter was engaged.                                                                                                             |\n",
    "| **RateCodeID**            | The final rate code in effect at the end of the trip.                                                                                             |\n",
    "|                           | - Standard rate                                                                                                                                   |\n",
    "|                           | - JFK                                                                                                                                             |\n",
    "|                           | - Newark                                                                                                                                          |\n",
    "|                           | - Nassau or Westchester                                                                                                                           |\n",
    "|                           | - Negotiated fare                                                                                                                                |\n",
    "|                           | - Group ride                                                                                                                                      |\n",
    "| **Store_and_fwd_flag**    | This flag indicates whether the trip record was held in vehicle memory before sending to the vendor, aka “store and forward,” because the vehicle did not have a connection to the server. |\n",
    "|                           | - `Y`: store and forward trip                                                                                                                     |\n",
    "|                           | - `N`: not a store and forward trip                                                                                                               |\n",
    "| **Dropoff_longitude**     | Longitude where the meter was disengaged.                                                                                                         |\n",
    "| **Dropoff_latitude**      | Latitude where the meter was disengaged.                                                                                                          |\n",
    "| **Payment_type**          | A numeric code signifying how the passenger paid for the trip.                                                                                    |\n",
    "|                           | 1. Credit card                                                                                                                                    |\n",
    "|                           | 2. Cash                                                                                                                                           |\n",
    "|                           | 3. No charge                                                                                                                                      |\n",
    "|                           | 4. Dispute                                                                                                                                         |\n",
    "|                           | 5. Unknown                                                                                                                                        |\n",
    "|                           | 6. Voided trip                                                                                                                                     |\n",
    "| **Fare_amount**           | The time-and-distance fare calculated by the meter.                                                                                              |\n",
    "| **Extra**                 | Miscellaneous extras and surcharges. Currently, this only includes the $0.50 and $1 rush hour and overnight charges.                              |\n",
    "| **MTA_tax**               | $0.50 MTA tax that is automatically triggered based on the metered rate in use.                                                                   |\n",
    "| **Improvement_surcharge** | $0.30 improvement surcharge assessed trips at the flag drop. The improvement surcharge began being levied in 2015.                                |\n",
    "| **Tip_amount**            | Tip amount – This field is automatically populated for credit card tips. Cash tips are not included.                                              |\n",
    "| **Tolls_amount**          | Total amount of all tolls paid in trip.                                                                                                           |\n",
    "| **Total_amount**          | The total amount charged to passengers. Does not include cash tips.                                                                               |\n",
    "\n"
   ]
  }
 ],
 "metadata": {
  "kernelspec": {
   "display_name": "Python 3 (ipykernel)",
   "language": "python",
   "name": "python3"
  },
  "language_info": {
   "codemirror_mode": {
    "name": "ipython",
    "version": 3
   },
   "file_extension": ".py",
   "mimetype": "text/x-python",
   "name": "python",
   "nbconvert_exporter": "python",
   "pygments_lexer": "ipython3",
   "version": "3.8.20"
  }
 },
 "nbformat": 4,
 "nbformat_minor": 5
}
