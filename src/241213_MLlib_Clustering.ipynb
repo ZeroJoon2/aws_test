{
 "cells": [
  {
   "cell_type": "code",
   "execution_count": 30,
   "id": "0e4ff9ad-9bb4-4026-ad21-2e1701e595b9",
   "metadata": {},
   "outputs": [],
   "source": [
    "from pyspark.sql import SparkSession\n",
    "\n",
    "from pyspark.ml.feature import VectorAssembler\n",
    "from pyspark.ml.clustering import KMeans"
   ]
  },
  {
   "cell_type": "code",
   "execution_count": 2,
   "id": "97f4c9ba-b1e3-4f90-bb48-6faac524fcd0",
   "metadata": {},
   "outputs": [
    {
     "name": "stderr",
     "output_type": "stream",
     "text": [
      "24/12/13 13:37:44 WARN NativeCodeLoader: Unable to load native-hadoop library for your platform... using builtin-java classes where applicable\n",
      "Using Spark's default log4j profile: org/apache/spark/log4j-defaults.properties\n",
      "Setting default log level to \"WARN\".\n",
      "To adjust logging level use sc.setLogLevel(newLevel). For SparkR, use setLogLevel(newLevel).\n"
     ]
    }
   ],
   "source": [
    "ss = SparkSession.builder\\\n",
    "                .appName('Clustering')\\\n",
    "                .getOrCreate()"
   ]
  },
  {
   "cell_type": "code",
   "execution_count": 38,
   "id": "b51477a0-edee-45a5-bae5-88d24bbf6b5e",
   "metadata": {},
   "outputs": [],
   "source": [
    "# 데이터 생성\n",
    "data = [\n",
    "    (0, 0, 4.0),  # user 0 rated item 0 with 4.0\n",
    "    (0, 1, 2.0),\n",
    "    (1, 1, 3.0),\n",
    "    (1, 2, 1.0),\n",
    "    (2, 0, 5.0),\n",
    "    (2, 2, 4.0)\n",
    "]\n",
    "\n",
    "columns = ['user_id', 'item_id', 'rating'] #cluster"
   ]
  },
  {
   "cell_type": "code",
   "execution_count": 9,
   "id": "42d1c568-bcce-48d7-971a-c8183b3b02e3",
   "metadata": {},
   "outputs": [
    {
     "data": {
      "text/plain": [
       "DataFrame[user_id: bigint, item_id: bigint, rating: double]"
      ]
     },
     "execution_count": 9,
     "metadata": {},
     "output_type": "execute_result"
    }
   ],
   "source": [
    "rating_df = ss.createDataFrame(data = data, schema = columns)\n",
    "rating_df"
   ]
  },
  {
   "cell_type": "code",
   "execution_count": 11,
   "id": "1a23dc7c-5556-40d1-8b08-ef837490341d",
   "metadata": {},
   "outputs": [
    {
     "name": "stderr",
     "output_type": "stream",
     "text": [
      "                                                                                \r"
     ]
    },
    {
     "name": "stdout",
     "output_type": "stream",
     "text": [
      "+-------+-------+------+\n",
      "|user_id|item_id|rating|\n",
      "+-------+-------+------+\n",
      "|      0|      0|   4.0|\n",
      "|      0|      1|   2.0|\n",
      "|      1|      1|   3.0|\n",
      "|      1|      2|   1.0|\n",
      "|      2|      0|   5.0|\n",
      "|      2|      2|   4.0|\n",
      "+-------+-------+------+\n",
      "\n"
     ]
    }
   ],
   "source": [
    "rating_df.show()"
   ]
  },
  {
   "cell_type": "markdown",
   "id": "62ef1908-13ec-47f2-94a3-ad457f45ab2d",
   "metadata": {},
   "source": [
    "### 전처리\n",
    "- 클러스터링을 하기 위한 전처리로 pivot으로 matrix를 만듦"
   ]
  },
  {
   "cell_type": "code",
   "execution_count": 21,
   "id": "bff97f15-2b8e-4c28-9b63-de5b367aee96",
   "metadata": {},
   "outputs": [
    {
     "name": "stderr",
     "output_type": "stream",
     "text": [
      "                                                                                \r"
     ]
    },
    {
     "name": "stdout",
     "output_type": "stream",
     "text": [
      "+-------+---+---+---+\n",
      "|user_id|  0|  1|  2|\n",
      "+-------+---+---+---+\n",
      "|      0|4.0|2.0|0.0|\n",
      "|      1|0.0|3.0|1.0|\n",
      "|      2|5.0|0.0|4.0|\n",
      "+-------+---+---+---+\n",
      "\n"
     ]
    }
   ],
   "source": [
    "# user_id, item_id - rating 정보틀 >> 사용자 그룹을 만든다\n",
    "user_item_matric = rating_df.groupBy('user_id')\\\n",
    "                            .pivot('item_id')\\\n",
    "                            .avg('rating')\\\n",
    "                            .fillna(0)\n",
    "\n",
    "user_item_matric.show()"
   ]
  },
  {
   "cell_type": "markdown",
   "id": "766c4de6-6cb9-4458-9518-a96af76554eb",
   "metadata": {},
   "source": [
    "### feature 벡터\n",
    "피처 선택, 전처리 > 모델 학습 > 예측"
   ]
  },
  {
   "cell_type": "code",
   "execution_count": 45,
   "id": "c0132166-9812-483b-a0d1-e590b84da347",
   "metadata": {},
   "outputs": [
    {
     "data": {
      "text/plain": [
       "VectorAssembler_ff41b2ad74f1"
      ]
     },
     "execution_count": 45,
     "metadata": {},
     "output_type": "execute_result"
    }
   ],
   "source": [
    "assembler = VectorAssembler(inputCols = ['0', '1', '2']\n",
    "                            , outputCol = 'feature')\n",
    "\n",
    "assembler"
   ]
  },
  {
   "cell_type": "code",
   "execution_count": 29,
   "id": "9c5c8cc5-c8f6-4b97-926f-40ad82189ccf",
   "metadata": {},
   "outputs": [
    {
     "name": "stderr",
     "output_type": "stream",
     "text": [
      "                                                                                \r"
     ]
    },
    {
     "name": "stdout",
     "output_type": "stream",
     "text": [
      "+-------+---+---+---+-------------+\n",
      "|user_id|  0|  1|  2|      feature|\n",
      "+-------+---+---+---+-------------+\n",
      "|      0|4.0|2.0|0.0|[4.0,2.0,0.0]|\n",
      "|      1|0.0|3.0|1.0|[0.0,3.0,1.0]|\n",
      "|      2|5.0|0.0|4.0|[5.0,0.0,4.0]|\n",
      "+-------+---+---+---+-------------+\n",
      "\n"
     ]
    }
   ],
   "source": [
    "user_features = assembler.transform(user_item_matric)\n",
    "\n",
    "user_features.show()"
   ]
  },
  {
   "cell_type": "markdown",
   "id": "78cd7ccb-75ec-4890-8246-0f18b152ab77",
   "metadata": {},
   "source": [
    "### 모델 생성 > 학습"
   ]
  },
  {
   "cell_type": "code",
   "execution_count": 50,
   "id": "005e8df6-d611-45bd-adcd-de476296f639",
   "metadata": {},
   "outputs": [
    {
     "data": {
      "text/plain": [
       "KMeans_a049b7718604"
      ]
     },
     "execution_count": 50,
     "metadata": {},
     "output_type": "execute_result"
    }
   ],
   "source": [
    "# 모델 생성\n",
    "kmeans = KMeans(k = 2\n",
    "                , seed = 1\n",
    "                , featuresCol = 'feature'\n",
    "                , predictionCol = 'cluster')\n",
    "\n",
    "kmeans"
   ]
  },
  {
   "cell_type": "code",
   "execution_count": 34,
   "id": "8931aff6-82f1-4dd1-9410-3dcd860c205c",
   "metadata": {},
   "outputs": [
    {
     "name": "stderr",
     "output_type": "stream",
     "text": [
      "24/12/13 14:09:43 WARN BLAS: Failed to load implementation from: com.github.fommil.netlib.NativeSystemBLAS\n",
      "24/12/13 14:09:43 WARN BLAS: Failed to load implementation from: com.github.fommil.netlib.NativeRefBLAS\n",
      "                                                                                \r"
     ]
    },
    {
     "data": {
      "text/plain": [
       "KMeansModel: uid=KMeans_98420ded757c, k=2, distanceMeasure=euclidean, numFeatures=3"
      ]
     },
     "execution_count": 34,
     "metadata": {},
     "output_type": "execute_result"
    }
   ],
   "source": [
    "# 모델 학습\n",
    "model = kmeans.fit(user_features)\n",
    "model"
   ]
  },
  {
   "cell_type": "code",
   "execution_count": 36,
   "id": "52eed3c4-bb93-42a4-851a-ac5738598148",
   "metadata": {},
   "outputs": [],
   "source": [
    "# 모델을 이용한 예측\n",
    "clusters = model.transform(user_features)"
   ]
  },
  {
   "cell_type": "code",
   "execution_count": 37,
   "id": "4ad2ead3-6530-4c2c-b1de-b66d0bcf4c39",
   "metadata": {},
   "outputs": [
    {
     "name": "stderr",
     "output_type": "stream",
     "text": [
      "                                                                                \r"
     ]
    },
    {
     "name": "stdout",
     "output_type": "stream",
     "text": [
      "+-------+---+---+---+-------------+-------+\n",
      "|user_id|  0|  1|  2|      feature|cluster|\n",
      "+-------+---+---+---+-------------+-------+\n",
      "|      0|4.0|2.0|0.0|[4.0,2.0,0.0]|      0|\n",
      "|      1|0.0|3.0|1.0|[0.0,3.0,1.0]|      0|\n",
      "|      2|5.0|0.0|4.0|[5.0,0.0,4.0]|      1|\n",
      "+-------+---+---+---+-------------+-------+\n",
      "\n"
     ]
    }
   ],
   "source": [
    "# 유저의 클러스터링 결과\n",
    "clusters.show()"
   ]
  },
  {
   "cell_type": "code",
   "execution_count": 48,
   "id": "ad7e177c-e385-47e6-a501-89cbeb58e42b",
   "metadata": {},
   "outputs": [
    {
     "name": "stderr",
     "output_type": "stream",
     "text": [
      "                                                                                \r"
     ]
    },
    {
     "name": "stdout",
     "output_type": "stream",
     "text": [
      "+-------+---+---+---+-------------+-------+\n",
      "|user_id|  0|  1|  2|      feature|cluster|\n",
      "+-------+---+---+---+-------------+-------+\n",
      "|      0|4.0|2.0|0.0|[4.0,2.0,0.0]|      1|\n",
      "|      1|0.0|3.0|1.0|[0.0,3.0,1.0]|      2|\n",
      "|      2|5.0|0.0|4.0|[5.0,0.0,4.0]|      0|\n",
      "+-------+---+---+---+-------------+-------+\n",
      "\n"
     ]
    }
   ],
   "source": [
    "# 모델 생성\n",
    "kmeans = KMeans(k = 3\n",
    "                , seed = 1\n",
    "                , featuresCol = 'feature'\n",
    "                , predictionCol = 'cluster')\n",
    "\n",
    "# 모델 학습\n",
    "model = kmeans.fit(user_features)\n",
    "# 모델을 이용한 예측\n",
    "clusters = model.transform(user_features)\n",
    "# 유저의 클러스터링 결과\n",
    "clusters.show()"
   ]
  },
  {
   "cell_type": "markdown",
   "id": "668153df-76c2-455c-bb48-07d2c02b7436",
   "metadata": {},
   "source": [
    "### 사용자 그룹화\n",
    "유사한 취향의 사용자끼리 그룹으로 묶어주는 것\n",
    "\n",
    "### 아이템 그룹화\n",
    "아이템 간의 군집화를 통해 사용자에게 추천을 해주는 것"
   ]
  },
  {
   "cell_type": "code",
   "execution_count": 51,
   "id": "441aebbf-7f42-4121-af00-5bf4c0cd8557",
   "metadata": {},
   "outputs": [],
   "source": [
    "ss.stop()"
   ]
  },
  {
   "cell_type": "code",
   "execution_count": null,
   "id": "3aa49ce3-0384-4388-94e3-e050e9fdbf39",
   "metadata": {},
   "outputs": [],
   "source": []
  },
  {
   "cell_type": "code",
   "execution_count": null,
   "id": "d6ee9423-f968-4fff-96b5-9f05a5a9045d",
   "metadata": {},
   "outputs": [],
   "source": []
  }
 ],
 "metadata": {
  "kernelspec": {
   "display_name": "Python (spark_start)",
   "language": "python",
   "name": "spark_start"
  },
  "language_info": {
   "codemirror_mode": {
    "name": "ipython",
    "version": 3
   },
   "file_extension": ".py",
   "mimetype": "text/x-python",
   "name": "python",
   "nbconvert_exporter": "python",
   "pygments_lexer": "ipython3",
   "version": "3.8.20"
  }
 },
 "nbformat": 4,
 "nbformat_minor": 5
}
