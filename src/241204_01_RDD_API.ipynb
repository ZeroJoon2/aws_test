{
 "cells": [
  {
   "cell_type": "code",
   "execution_count": 25,
   "id": "7abaf2e5-6268-4d4d-aa63-1b72712362aa",
   "metadata": {},
   "outputs": [],
   "source": [
    "from pyspark import SparkConf, SparkContext\n",
    "conf = SparkConf().setMaster('local').setAppName('241204_01_RDD_API')\n",
    "spark = SparkContext(conf = conf).getOrCreate()"
   ]
  },
  {
   "cell_type": "code",
   "execution_count": 26,
   "id": "8cbceafc-e63d-481e-ba4c-e630f6267a5c",
   "metadata": {},
   "outputs": [
    {
     "data": {
      "text/html": [
       "\n",
       "        <div>\n",
       "            <p><b>SparkContext</b></p>\n",
       "\n",
       "            <p><a href=\"http://ip-172-31-3-9.ap-northeast-3.compute.internal:4040\">Spark UI</a></p>\n",
       "\n",
       "            <dl>\n",
       "              <dt>Version</dt>\n",
       "                <dd><code>v3.1.2</code></dd>\n",
       "              <dt>Master</dt>\n",
       "                <dd><code>local</code></dd>\n",
       "              <dt>AppName</dt>\n",
       "                <dd><code>241204_01_RDD_API</code></dd>\n",
       "            </dl>\n",
       "        </div>\n",
       "        "
      ],
      "text/plain": [
       "<SparkContext master=local appName=241204_01_RDD_API>"
      ]
     },
     "execution_count": 26,
     "metadata": {},
     "output_type": "execute_result"
    }
   ],
   "source": [
    "spark"
   ]
  },
  {
   "cell_type": "code",
   "execution_count": 27,
   "id": "376e6993-8e38-4799-9a34-c57d9bd650d3",
   "metadata": {},
   "outputs": [
    {
     "data": {
      "text/plain": [
       "ParallelCollectionRDD[0] at readRDDFromFile at PythonRDD.scala:274"
      ]
     },
     "execution_count": 27,
     "metadata": {},
     "output_type": "execute_result"
    }
   ],
   "source": [
    "foods = spark.parallelize([\"짜장면\", \"마라탕\", \"짬뽕\", \"떡볶이\", \"쌀국수\", \"짬뽕\", \"짜장면\", \"짜장면\", \"짜장면\", \"라면\", \"우동\", \"라면\"])\n",
    "foods\n",
    "\n",
    "#병렬 처리할 수 있도록 집합으로 구성함"
   ]
  },
  {
   "cell_type": "code",
   "execution_count": 28,
   "id": "84b1dffd-72a9-47ad-8f85-d8cad4df34d2",
   "metadata": {},
   "outputs": [
    {
     "data": {
      "text/plain": [
       "['짜장면', '마라탕', '짬뽕', '떡볶이', '쌀국수', '짬뽕', '짜장면', '짜장면', '짜장면', '라면', '우동', '라면']"
      ]
     },
     "execution_count": 28,
     "metadata": {},
     "output_type": "execute_result"
    }
   ],
   "source": [
    "# 모두 메모리에 올림\n",
    "foods.collect()"
   ]
  },
  {
   "cell_type": "code",
   "execution_count": 31,
   "id": "e374d453-cd11-4ad2-aef1-49386a159a37",
   "metadata": {},
   "outputs": [
    {
     "data": {
      "text/plain": [
       "defaultdict(int,\n",
       "            {'짜장면': 4,\n",
       "             '마라탕': 1,\n",
       "             '짬뽕': 2,\n",
       "             '떡볶이': 1,\n",
       "             '쌀국수': 1,\n",
       "             '라면': 2,\n",
       "             '우동': 1})"
      ]
     },
     "execution_count": 31,
     "metadata": {},
     "output_type": "execute_result"
    }
   ],
   "source": [
    "#값을 기준으로 카운트 : 음식별 개수 세기\n",
    "foods.countByValue()"
   ]
  },
  {
   "cell_type": "code",
   "execution_count": 32,
   "id": "d66d3d18-a986-4c8d-8d6d-cc7e3dda21c7",
   "metadata": {},
   "outputs": [
    {
     "data": {
      "text/plain": [
       "['짜장면', '마라탕', '짬뽕']"
      ]
     },
     "execution_count": 32,
     "metadata": {},
     "output_type": "execute_result"
    }
   ],
   "source": [
    "# 상위 3개만 가져오기\n",
    "foods.take(3)"
   ]
  },
  {
   "cell_type": "code",
   "execution_count": 36,
   "id": "34bbd7ef-0eca-455b-9caf-34e077d50e44",
   "metadata": {},
   "outputs": [
    {
     "data": {
      "text/plain": [
       "'짜장면'"
      ]
     },
     "execution_count": 36,
     "metadata": {},
     "output_type": "execute_result"
    }
   ],
   "source": [
    "#처음 하나만 가져오기\n",
    "foods.first()"
   ]
  },
  {
   "cell_type": "code",
   "execution_count": 37,
   "id": "b61fba1f-fd99-4b23-8781-a3fab8c1231d",
   "metadata": {},
   "outputs": [
    {
     "data": {
      "text/plain": [
       "12"
      ]
     },
     "execution_count": 37,
     "metadata": {},
     "output_type": "execute_result"
    }
   ],
   "source": [
    "# 개수 세기\n",
    "foods.count()"
   ]
  },
  {
   "cell_type": "code",
   "execution_count": 38,
   "id": "b05198ab-a361-4ab4-ac88-5adea6fb1077",
   "metadata": {},
   "outputs": [
    {
     "data": {
      "text/plain": [
       "['짜장면', '마라탕', '짬뽕', '떡볶이', '쌀국수', '짬뽕', '짜장면', '짜장면', '짜장면', '라면', '우동', '라면']"
      ]
     },
     "execution_count": 38,
     "metadata": {},
     "output_type": "execute_result"
    }
   ],
   "source": [
    "foods.take(foods.count())"
   ]
  },
  {
   "cell_type": "code",
   "execution_count": 58,
   "id": "57f35029-e392-41ea-a686-2890999aa806",
   "metadata": {},
   "outputs": [
    {
     "name": "stdout",
     "output_type": "stream",
     "text": [
      "PythonRDD[87] at RDD at PythonRDD.scala:53\n",
      "['짜장면', '마라탕', '짬뽕', '떡볶이', '쌀국수', '라면', '우동']\n"
     ]
    }
   ],
   "source": [
    "# 중복을 제거한 목록\n",
    "# Transformation 연산\n",
    "print(foods.distinct())\n",
    "print(foods.distinct().take(foods.count()))"
   ]
  },
  {
   "cell_type": "code",
   "execution_count": 59,
   "id": "ab920eaa-e62c-4ccf-bf79-a70b3bbfc512",
   "metadata": {},
   "outputs": [
    {
     "data": {
      "text/plain": [
       "['짜장면', '마라탕', '짬뽕', '떡볶이', '쌀국수', '짬뽕', '짜장면', '짜장면', '짜장면', '라면', '우동', '라면']"
      ]
     },
     "execution_count": 59,
     "metadata": {},
     "output_type": "execute_result"
    }
   ],
   "source": [
    "#action 연산 : Result\n",
    "foods.collect()"
   ]
  },
  {
   "cell_type": "markdown",
   "id": "849af99e-aa18-44b2-bcbb-e5baf516aac1",
   "metadata": {},
   "source": [
    "꺼내는 행동들(collect, first)는 job에 생기는데,  \n",
    "중복(distinct)와 같은 Transformation 것은 job에 생기지 않음"
   ]
  },
  {
   "cell_type": "code",
   "execution_count": 61,
   "id": "0a9332e7-a233-4826-ad26-580a069bf378",
   "metadata": {},
   "outputs": [
    {
     "name": "stderr",
     "output_type": "stream",
     "text": [
      "짜장면\n",
      "마라탕\n",
      "짬뽕\n",
      "떡볶이\n",
      "쌀국수\n",
      "짬뽕\n",
      "짜장면\n",
      "짜장면\n",
      "짜장면\n",
      "라면\n",
      "우동\n",
      "라면\n"
     ]
    }
   ],
   "source": [
    "# 워커노드에서 실행하는 기능\n",
    "foods.foreach(lambda x : print(x))"
   ]
  },
  {
   "cell_type": "code",
   "execution_count": 63,
   "id": "3a526395-680e-4e5d-b83d-7ca2feba3192",
   "metadata": {},
   "outputs": [],
   "source": [
    "foods.foreach(lambda x: x)"
   ]
  },
  {
   "cell_type": "markdown",
   "id": "c5cabed4-3029-4b66-999f-71a0d3781622",
   "metadata": {},
   "source": [
    "### Narrow Operation 1 : 1 연산\n",
    "filter(), map(), flatMap(), sample(), union()"
   ]
  },
  {
   "cell_type": "code",
   "execution_count": 69,
   "id": "b02248c3-0181-4673-86b2-258383e6399b",
   "metadata": {},
   "outputs": [
    {
     "data": {
      "text/plain": [
       "ParallelCollectionRDD[97] at readRDDFromFile at PythonRDD.scala:274"
      ]
     },
     "execution_count": 69,
     "metadata": {},
     "output_type": "execute_result"
    }
   ],
   "source": [
    "sample_rdd = spark.parallelize([1,2,3,4,5])\n",
    "sample_rdd"
   ]
  },
  {
   "cell_type": "code",
   "execution_count": 74,
   "id": "bd33ce11-b696-402a-ba42-d3e28915580b",
   "metadata": {},
   "outputs": [],
   "source": [
    "sample_rdd2 = sample_rdd.map(lambda x : x + 2)"
   ]
  },
  {
   "cell_type": "code",
   "execution_count": 75,
   "id": "cea58f35-6ffe-4ecf-8b7a-aad50f15dea5",
   "metadata": {},
   "outputs": [
    {
     "data": {
      "text/plain": [
       "[3, 4, 5, 6, 7]"
      ]
     },
     "execution_count": 75,
     "metadata": {},
     "output_type": "execute_result"
    }
   ],
   "source": [
    "sample_rdd2.collect()"
   ]
  },
  {
   "cell_type": "code",
   "execution_count": 76,
   "id": "b27ec354-741f-44a0-95f0-25c8c1cecbb3",
   "metadata": {},
   "outputs": [],
   "source": [
    "movies = [\n",
    "    '그린 북',\n",
    "    '매트릭스',\n",
    "    '토이 스토리',\n",
    "    '캐스트 어웨이',\n",
    "    '포드 V 페라리',\n",
    "    '보헤미안 랩소디',\n",
    "    '빽 투 더 퓨처',\n",
    "    '반지의 제왕',\n",
    "    '죽은 시인의 사회'\n",
    "]"
   ]
  },
  {
   "cell_type": "code",
   "execution_count": 79,
   "id": "ee516930-3854-4944-a8e1-8b6f9afddcef",
   "metadata": {},
   "outputs": [
    {
     "data": {
      "text/plain": [
       "ParallelCollectionRDD[104] at readRDDFromFile at PythonRDD.scala:274"
      ]
     },
     "execution_count": 79,
     "metadata": {},
     "output_type": "execute_result"
    }
   ],
   "source": [
    "moviesRDD = spark.parallelize(movies)\n",
    "moviesRDD"
   ]
  },
  {
   "cell_type": "code",
   "execution_count": 82,
   "id": "2fedbcf0-f12f-464c-91ca-f201ec423eea",
   "metadata": {},
   "outputs": [],
   "source": [
    "mapMovies = moviesRDD.map(lambda x : x.split(' '))"
   ]
  },
  {
   "cell_type": "code",
   "execution_count": 83,
   "id": "9b35a583-5b37-4a84-a5bb-43e72a6c057f",
   "metadata": {},
   "outputs": [
    {
     "data": {
      "text/plain": [
       "[['그린', '북'],\n",
       " ['매트릭스'],\n",
       " ['토이', '스토리'],\n",
       " ['캐스트', '어웨이'],\n",
       " ['포드', 'V', '페라리'],\n",
       " ['보헤미안', '랩소디'],\n",
       " ['빽', '투', '더', '퓨처'],\n",
       " ['반지의', '제왕'],\n",
       " ['죽은', '시인의', '사회']]"
      ]
     },
     "execution_count": 83,
     "metadata": {},
     "output_type": "execute_result"
    }
   ],
   "source": [
    "mapMovies.collect()"
   ]
  },
  {
   "cell_type": "code",
   "execution_count": 91,
   "id": "16c2cf97-a6c1-49a7-bd51-32a74b5cee1b",
   "metadata": {},
   "outputs": [],
   "source": [
    "flatMapMovies = moviesRDD.flatMap(lambda x : x.split(' '))"
   ]
  },
  {
   "cell_type": "code",
   "execution_count": 92,
   "id": "a8e3dc5f-741a-4cb2-86fa-85abec60a5d5",
   "metadata": {},
   "outputs": [
    {
     "data": {
      "text/plain": [
       "['그린',\n",
       " '북',\n",
       " '매트릭스',\n",
       " '토이',\n",
       " '스토리',\n",
       " '캐스트',\n",
       " '어웨이',\n",
       " '포드',\n",
       " 'V',\n",
       " '페라리',\n",
       " '보헤미안',\n",
       " '랩소디',\n",
       " '빽',\n",
       " '투',\n",
       " '더',\n",
       " '퓨처',\n",
       " '반지의',\n",
       " '제왕',\n",
       " '죽은',\n",
       " '시인의',\n",
       " '사회']"
      ]
     },
     "execution_count": 92,
     "metadata": {},
     "output_type": "execute_result"
    }
   ],
   "source": [
    "flatMapMovies.collect()"
   ]
  },
  {
   "cell_type": "code",
   "execution_count": 99,
   "id": "6529f99d-25ba-46c3-94f0-b44a7e89d896",
   "metadata": {},
   "outputs": [
    {
     "data": {
      "text/plain": [
       "['그린',\n",
       " '북',\n",
       " '토이',\n",
       " '스토리',\n",
       " '캐스트',\n",
       " '어웨이',\n",
       " '포드',\n",
       " 'V',\n",
       " '페라리',\n",
       " '보헤미안',\n",
       " '랩소디',\n",
       " '빽',\n",
       " '투',\n",
       " '더',\n",
       " '퓨처',\n",
       " '반지의',\n",
       " '제왕',\n",
       " '죽은',\n",
       " '시인의',\n",
       " '사회']"
      ]
     },
     "execution_count": 99,
     "metadata": {},
     "output_type": "execute_result"
    }
   ],
   "source": [
    "filterdMovies = flatMapMovies.filter(lambda x : x!= '매트릭스')\n",
    "filterdMovies.collect()"
   ]
  },
  {
   "cell_type": "code",
   "execution_count": 100,
   "id": "5f91d2ad-34fd-4340-87bd-63947ae1348e",
   "metadata": {},
   "outputs": [],
   "source": [
    "# 집합 연산\n",
    "num1 = spark.parallelize([1,2,3,4,5])\n",
    "num2 = spark.parallelize([4,5,6,7,8,9,10])"
   ]
  },
  {
   "cell_type": "code",
   "execution_count": 103,
   "id": "ea771687-850e-4760-a11c-7557ee21f101",
   "metadata": {},
   "outputs": [
    {
     "data": {
      "text/plain": [
       "[4, 5]"
      ]
     },
     "execution_count": 103,
     "metadata": {},
     "output_type": "execute_result"
    }
   ],
   "source": [
    "#intersection(교집합)\n",
    "num1.intersection(num2).collect()"
   ]
  },
  {
   "cell_type": "code",
   "execution_count": 104,
   "id": "4559dd87-b8bf-4293-9980-295cc78b134b",
   "metadata": {},
   "outputs": [
    {
     "data": {
      "text/plain": [
       "[1, 2, 3, 4, 5, 4, 5, 6, 7, 8, 9, 10]"
      ]
     },
     "execution_count": 104,
     "metadata": {},
     "output_type": "execute_result"
    }
   ],
   "source": [
    "#union(합집합)\n",
    "num1.union(num2).collect()"
   ]
  },
  {
   "cell_type": "code",
   "execution_count": 107,
   "id": "f9d5d6a9-992a-47ac-b162-fcf26de364d9",
   "metadata": {},
   "outputs": [
    {
     "data": {
      "text/plain": [
       "[2, 1, 3]"
      ]
     },
     "execution_count": 107,
     "metadata": {},
     "output_type": "execute_result"
    }
   ],
   "source": [
    "#subtract(차집합)\n",
    "num1.subtract(num2).collect()\n"
   ]
  },
  {
   "cell_type": "code",
   "execution_count": 110,
   "id": "dd6475f7-1950-40b2-80d3-a0a2d7e68270",
   "metadata": {},
   "outputs": [
    {
     "data": {
      "text/plain": [
       "[6, 8, 10, 7, 9]"
      ]
     },
     "execution_count": 110,
     "metadata": {},
     "output_type": "execute_result"
    }
   ],
   "source": [
    "num2.subtract(num1).collect()"
   ]
  },
  {
   "cell_type": "code",
   "execution_count": 165,
   "id": "330ff607-17cd-4103-9ef4-ec639772c5b0",
   "metadata": {},
   "outputs": [
    {
     "data": {
      "text/plain": [
       "[6, 7, 8, 9, 10]"
      ]
     },
     "execution_count": 165,
     "metadata": {},
     "output_type": "execute_result"
    }
   ],
   "source": [
    "num2.subtract(num1).sortBy(lambda x : x).collect()"
   ]
  },
  {
   "cell_type": "markdown",
   "id": "6919d4a9-5cfa-4ed9-842c-dfff30d68ff6",
   "metadata": {},
   "source": [
    "### sample withReplacement, fractionm, seed)  \n",
    "일부를 샘플링해서 추출한다.  \n",
    "withReplacement : 비복원, 복원 추출  \n",
    "fraction : 기대값  \n",
    "seed : 난수 추출을 위한 시드값 - 재현 가능  "
   ]
  },
  {
   "cell_type": "markdown",
   "id": "305e9d24-4875-4d1c-bc0b-ed172bbef864",
   "metadata": {},
   "source": [
    "## withReplacement:  \n",
    "True: 데이터를 복원 추출(with replacement). 동일한 요소가 여러 번 샘플에 포함될 수 있음.  \n",
    "False: 데이터를 비복원 추출(without replacement). 동일한 요소는 한 번만 샘플에 포함됨.  \n",
    "\n",
    "## fraction:  \n",
    "추출 비율을 지정.  \n",
    "예: 0.7은 각 요소가 샘플링될 확률이 70%임을 의미.  \n",
    "\n",
    "## seed (선택 사항):  \n",
    "랜덤 샘플링의 시드 값. 시드를 설정하면 결과가 재현 가능함.  \n",
    "\n",
    "numlist.sample(True, 0.5, seed=42).collect()에서 지정된 seed=42는  \n",
    "Spark 작업 실행 중에만 사용되며, 메모리에 저장되거나 지속적으로 유지되지 않습니다.  \n",
    "\n",
    "### Seed 값의 역할\n",
    "#### 랜덤성 제어:\n",
    "seed는 샘플링 시 랜덤 번호 생성기의 초기값을 설정합니다.  \n",
    "이를 통해 샘플링 결과가 재현 가능해집니다.  \n",
    "동일한 seed를 사용하면 같은 입력 데이터에서 항상 동일한 샘플링 결과를 얻을 수 있습니다.   \n",
    "#### 메모리 관리:  \n",
    "seed는 Spark의 샘플링 작업이 실행될 때만 사용됩니다. 작업이 끝나면 메모리에서 해제됩니다.  \n",
    "따라서, seed=42가 지정되어 있다고 해서 Spark 컨텍스트나 메모리에 그 값이 계속 저장되지는 않습니다.  \n"
   ]
  },
  {
   "cell_type": "code",
   "execution_count": 134,
   "id": "49d15d20-789f-4931-ae5b-7c17a61eeccd",
   "metadata": {},
   "outputs": [
    {
     "data": {
      "text/plain": [
       "[1, 2, 3, 4, 5, 4, 5, 6, 7, 8, 9, 10]"
      ]
     },
     "execution_count": 134,
     "metadata": {},
     "output_type": "execute_result"
    }
   ],
   "source": [
    "numlist = num1.union(num2)\n",
    "numlist.collect()"
   ]
  },
  {
   "cell_type": "code",
   "execution_count": 149,
   "id": "a4c54858-a834-4eb9-b85e-b4a515b9aff3",
   "metadata": {},
   "outputs": [
    {
     "data": {
      "text/plain": [
       "[2, 4, 7, 9, 10]"
      ]
     },
     "execution_count": 149,
     "metadata": {},
     "output_type": "execute_result"
    }
   ],
   "source": [
    "#전체 개수 중에, 50%의 확률만큼의 개수만큼만 꺼냄\n",
    "numlist.sample(True, 0.5).collect()"
   ]
  },
  {
   "cell_type": "code",
   "execution_count": 157,
   "id": "b7b4ff82-5610-4bf5-8703-614d52c5cd56",
   "metadata": {},
   "outputs": [
    {
     "data": {
      "text/plain": [
       "[4, 4, 6]"
      ]
     },
     "execution_count": 157,
     "metadata": {},
     "output_type": "execute_result"
    }
   ],
   "source": [
    "#전체 개수 중에, 30%의 확률만큼의 개수만큼만 꺼냄\n",
    "numlist.sample(True, 0.3).collect()"
   ]
  },
  {
   "cell_type": "code",
   "execution_count": 162,
   "id": "b894b81e-2c4c-46c0-8933-c38ea04f0e31",
   "metadata": {},
   "outputs": [
    {
     "data": {
      "text/plain": [
       "[1, 3, 5, 4, 6, 6, 6, 7, 7]"
      ]
     },
     "execution_count": 162,
     "metadata": {},
     "output_type": "execute_result"
    }
   ],
   "source": [
    "#전체 개수 중에, 70%의 확률만큼의 개수만큼만 꺼냄\n",
    "#True는 복원 추출이라, 중복된 값이 있을 수 있음 ex([5,5])\n",
    "numlist.sample(True, 0.7).collect()"
   ]
  },
  {
   "cell_type": "code",
   "execution_count": 160,
   "id": "6a1b68cf-1929-4eb8-a074-496574fb987d",
   "metadata": {},
   "outputs": [
    {
     "data": {
      "text/plain": [
       "[5, 6, 6]"
      ]
     },
     "execution_count": 160,
     "metadata": {},
     "output_type": "execute_result"
    }
   ],
   "source": [
    "#보통 0.4를 많이 줌\n",
    "# seed가 있으니 재현이 가능한 샘플\n",
    "# False : 동일 요소 한번만 샘플링\n",
    "numlist.sample(True, 0.5, seed=42).collect()"
   ]
  },
  {
   "cell_type": "markdown",
   "id": "c4491215-b08f-42c3-bf4b-4552a42a42e3",
   "metadata": {},
   "source": [
    "### wide transformation\n",
    "- groupby\n",
    "- reduce"
   ]
  },
  {
   "cell_type": "code",
   "execution_count": 166,
   "id": "3617f7dd-36aa-4d56-b12f-559f81ada18c",
   "metadata": {},
   "outputs": [
    {
     "data": {
      "text/plain": [
       "['짜장면', '마라탕', '짬뽕', '떡볶이', '쌀국수', '짬뽕', '짜장면', '짜장면', '짜장면', '라면', '우동', '라면']"
      ]
     },
     "execution_count": 166,
     "metadata": {},
     "output_type": "execute_result"
    }
   ],
   "source": [
    "foods.collect()"
   ]
  },
  {
   "cell_type": "code",
   "execution_count": 177,
   "id": "11bca6eb-f493-4e8f-b5d3-cefb0a1ac9c6",
   "metadata": {},
   "outputs": [],
   "source": [
    "foodsGroup = foods.groupBy(lambda x : x[0])\n",
    "res = foodsGroup.collect()\n",
    "\n",
    "#이러면 (key, value) 형태로 나옴"
   ]
  },
  {
   "cell_type": "code",
   "execution_count": 186,
   "id": "a9e612ec-951f-409b-a67b-fad2e2465efc",
   "metadata": {},
   "outputs": [
    {
     "name": "stdout",
     "output_type": "stream",
     "text": [
      "짜 ['짜장면', '짜장면', '짜장면', '짜장면']\n",
      "마 ['마라탕']\n",
      "짬 ['짬뽕', '짬뽕']\n",
      "떡 ['떡볶이']\n",
      "쌀 ['쌀국수']\n",
      "라 ['라면', '라면']\n",
      "우 ['우동']\n"
     ]
    }
   ],
   "source": [
    "for k , v in res:\n",
    "    print(k, list(v))    "
   ]
  },
  {
   "cell_type": "code",
   "execution_count": null,
   "id": "b14a24db-ee59-4991-84ee-3364ab7edb96",
   "metadata": {},
   "outputs": [],
   "source": [
    "    "
   ]
  },
  {
   "cell_type": "code",
   "execution_count": null,
   "id": "09f90dd8-7965-4a02-82f9-da017dc9830b",
   "metadata": {},
   "outputs": [],
   "source": []
  },
  {
   "cell_type": "code",
   "execution_count": 93,
   "id": "69a88359-49f0-4be2-b902-ba0b0f792b07",
   "metadata": {},
   "outputs": [],
   "source": [
    "movies_100 = [\n",
    "\"The Shawshank Redemption\", \"The Godfather\", \"The Dark Knight\", \"12 Angry Men\",\n",
    "\"Schindler's List\", \"The Lord of the Rings: The Return of the King\", \"Pulp Fiction\",\n",
    "\"The Good, the Bad and the Ugly\", \"Fight Club\", \"Forrest Gump\", \"Inception\",\n",
    "\"Star Wars: Episode V - The Empire Strikes Back\", \"The Matrix\", \"Goodfellas\",\n",
    "\"One Flew Over the Cuckoo's Nest\", \"Se7en\", \"It's a Wonderful Life\", \"Seven Samurai\",\n",
    "\"The Silence of the Lambs\", \"City of God\", \"Saving Private Ryan\", \"Interstellar\",\n",
    "\"The Green Mile\", \"Spirited Away\", \"Parasite\", \"Léon: The Professional\",\n",
    "\"The Usual Suspects\", \"Harakiri\", \"The Lion King\", \"Back to the Future\",\n",
    "\"The Pianist\", \"Terminator 2: Judgment Day\", \"American History X\", \"Modern Times\",\n",
    "\"Psycho\", \"Gladiator\", \"City Lights\", \"The Departed\", \"The Intouchables\",\n",
    "\"Whiplash\", \"The Prestige\", \"Casablanca\", \"Once Upon a Time in the West\",\n",
    "\"Rear Window\", \"Cinema Paradiso\", \"Alien\", \"Apocalypse Now\", \"Memento\",\n",
    "\"Indiana Jones and the Raiders of the Lost Ark\", \"The Great Dictator\",\n",
    "\"The Lives of Others\", \"Django Unchained\", \"Paths of Glory\", \"The Shining\",\n",
    "\"WALL·E\", \"Sunset Blvd.\", \"Witness for the Prosecution\", \"Oldboy\", \"Princess Mononoke\",\n",
    "\"Dr. Strangelove\", \"The Dark Knight Rises\", \"Once Upon a Time in America\",\n",
    "\"Aliens\", \"Coco\", \"Avengers: Infinity War\", \"American Beauty\", \"Braveheart\",\n",
    "\"Das Boot\", \"3 Idiots\", \"Toy Story\", \"Amadeus\", \"Inglourious Basterds\",\n",
    "\"Good Will Hunting\", \"Star Wars: Episode IV - A New Hope\", \"Reservoir Dogs\",\n",
    "\"2001: A Space Odyssey\", \"Vertigo\", \"M\", \"Citizen Kane\", \"Requiem for a Dream\",\n",
    "\"The Hunt\", \"Eternal Sunshine of the Spotless Mind\", \"Full Metal Jacket\",\n",
    "\"A Clockwork Orange\", \"Taxi Driver\", \"Lawrence of Arabia\", \"Double Indemnity\",\n",
    "\"Amélie\", \"Like Stars on Earth\", \"Singin' in the Rain\", \"Bicycle Thieves\",\n",
    "\"Snatch\", \"Scarface\", \"3 Idiots\", \"Toy Story 3\", \"The Sting\", \"Metropolis\",\n",
    "\"For a Few Dollars More\", \"L.A. Confidential\", \"Rashomon\", \"Monty Python and the Holy Grail\"\n",
    "]"
   ]
  },
  {
   "cell_type": "code",
   "execution_count": 29,
   "id": "4dbb2038-8acb-4bb7-9f6b-68c2a62e0b63",
   "metadata": {},
   "outputs": [],
   "source": [
    "#stop은 항상 나중에 챙기기\n",
    "#spark.stop()"
   ]
  },
  {
   "cell_type": "code",
   "execution_count": 187,
   "id": "884acb7d-2ab0-4b46-8864-6709e7d5c640",
   "metadata": {},
   "outputs": [],
   "source": [
    "spark.stop()"
   ]
  }
 ],
 "metadata": {
  "kernelspec": {
   "display_name": "Python 3 (ipykernel)",
   "language": "python",
   "name": "python3"
  },
  "language_info": {
   "codemirror_mode": {
    "name": "ipython",
    "version": 3
   },
   "file_extension": ".py",
   "mimetype": "text/x-python",
   "name": "python",
   "nbconvert_exporter": "python",
   "pygments_lexer": "ipython3",
   "version": "3.8.20"
  }
 },
 "nbformat": 4,
 "nbformat_minor": 5
}
