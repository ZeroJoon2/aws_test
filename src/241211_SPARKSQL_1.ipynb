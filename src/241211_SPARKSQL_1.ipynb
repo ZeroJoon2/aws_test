{
 "cells": [
  {
   "cell_type": "code",
   "execution_count": 75,
   "id": "f9633701-4616-414d-bce2-06f70d279904",
   "metadata": {},
   "outputs": [],
   "source": [
    "from pyspark.sql import SparkSession, Row\n",
    "from pyspark.sql.functions import *\n",
    "# pyspark.sql.functions - when: 조건문을 작성.\n",
    "# pyspark.sql.functions - col: 열을 참조.\n",
    "# pyspark.sql.functions - lit: 리터럴 값(상수값)을 표현."
   ]
  },
  {
   "cell_type": "code",
   "execution_count": 4,
   "id": "6af5c244-8836-4bee-bd03-75d053938599",
   "metadata": {},
   "outputs": [
    {
     "name": "stderr",
     "output_type": "stream",
     "text": [
      "24/12/11 09:49:19 WARN NativeCodeLoader: Unable to load native-hadoop library for your platform... using builtin-java classes where applicable\n",
      "Using Spark's default log4j profile: org/apache/spark/log4j-defaults.properties\n",
      "Setting default log level to \"WARN\".\n",
      "To adjust logging level use sc.setLogLevel(newLevel). For SparkR, use setLogLevel(newLevel).\n"
     ]
    },
    {
     "data": {
      "text/html": [
       "\n",
       "            <div>\n",
       "                <p><b>SparkSession - in-memory</b></p>\n",
       "                \n",
       "        <div>\n",
       "            <p><b>SparkContext</b></p>\n",
       "\n",
       "            <p><a href=\"http://ip-172-31-3-9.ap-northeast-3.compute.internal:4040\">Spark UI</a></p>\n",
       "\n",
       "            <dl>\n",
       "              <dt>Version</dt>\n",
       "                <dd><code>v3.1.2</code></dd>\n",
       "              <dt>Master</dt>\n",
       "                <dd><code>local[*]</code></dd>\n",
       "              <dt>AppName</dt>\n",
       "                <dd><code>SparkSQL</code></dd>\n",
       "            </dl>\n",
       "        </div>\n",
       "        \n",
       "            </div>\n",
       "        "
      ],
      "text/plain": [
       "<pyspark.sql.session.SparkSession at 0x7fcf1359adf0>"
      ]
     },
     "execution_count": 4,
     "metadata": {},
     "output_type": "execute_result"
    }
   ],
   "source": [
    "#SparkSession 생성\n",
    "\n",
    "ss= SparkSession.builder\\\n",
    ".appName('SparkSQL')\\\n",
    ".getOrCreate()\n",
    "\n",
    "ss"
   ]
  },
  {
   "cell_type": "code",
   "execution_count": 7,
   "id": "bcbfde08-39d0-4482-8cfa-dfaddd839cc3",
   "metadata": {},
   "outputs": [],
   "source": [
    "user_data = [\n",
    "    Row(user_id=1, username='A', address='서울'),\n",
    "    Row(user_id=2, username='B', address='대전'),\n",
    "    Row(user_id=3, username='C', address='경기도'),\n",
    "    Row(user_id=4, username='D', address=None),\n",
    "    Row(user_id=5, username='E', address=None),\n",
    "    Row(user_id=6, username='F', address='서울'),\n",
    "    Row(user_id=7, username='G', address='경기도'),\n",
    "    Row(user_id=8, username='H', address='대구'),\n",
    "    Row(user_id=9, username='I', address='부산'),\n",
    "    Row(user_id=10, username='J', address='전주'),\n",
    "    Row(user_id=11, username='K', address='광주')\n",
    "]\n",
    "\n",
    "books_data = [\n",
    "    Row(book_id=1, title=\"Book A\", author_fname=\"John\", author_lname=\"Doe\", pages=300, released_year=2005, stock_quantity=55),\n",
    "    Row(book_id=2, title=\"Book B\", author_fname=\"Jane\", author_lname=\"Smith\", pages=250, released_year=2010, stock_quantity=40),\n",
    "    Row(book_id=3, title=\"Book C\", author_fname=\"Emily\", author_lname=\"Jones\", pages=180, released_year=2015, stock_quantity=20),\n",
    "    Row(book_id=4, title=\"Book D\", author_fname=\"Chris\", author_lname=\"Brown\", pages=320, released_year=2012, stock_quantity=75),\n",
    "    Row(book_id=5, title=\"Book E\", author_fname=\"Anna\", author_lname=\"Davis\", pages=270, released_year=2008, stock_quantity=35)\n",
    "]\n"
   ]
  },
  {
   "cell_type": "code",
   "execution_count": 9,
   "id": "b9f279d1-96e9-4e48-9b6a-5ba40074707e",
   "metadata": {},
   "outputs": [],
   "source": [
    "user_df = ss.createDataFrame(user_data)\n",
    "user_df.createOrReplaceTempView('users')\n",
    "\n",
    "books_df = ss.createDataFrame(books_data)\n",
    "books_df.createOrReplaceTempView('books')"
   ]
  },
  {
   "cell_type": "code",
   "execution_count": 11,
   "id": "34ac62b6-77a6-4779-aea3-bc0ecf119aa5",
   "metadata": {},
   "outputs": [
    {
     "name": "stderr",
     "output_type": "stream",
     "text": [
      "[Stage 0:>                                                          (0 + 1) / 1]\r"
     ]
    },
    {
     "name": "stdout",
     "output_type": "stream",
     "text": [
      "+-------+--------+-------+\n",
      "|user_id|username|address|\n",
      "+-------+--------+-------+\n",
      "|      1|       A|   서울|\n",
      "|      2|       B|   대전|\n",
      "|      3|       C| 경기도|\n",
      "|      4|       D|   null|\n",
      "|      5|       E|   null|\n",
      "|      6|       F|   서울|\n",
      "|      7|       G| 경기도|\n",
      "|      8|       H|   대구|\n",
      "|      9|       I|   부산|\n",
      "|     10|       J|   전주|\n",
      "|     11|       K|   광주|\n",
      "+-------+--------+-------+\n",
      "\n"
     ]
    },
    {
     "name": "stderr",
     "output_type": "stream",
     "text": [
      "                                                                                \r"
     ]
    }
   ],
   "source": [
    "ss.sql('''\n",
    "    select * from users\n",
    "''')\\\n",
    ".show()"
   ]
  },
  {
   "cell_type": "code",
   "execution_count": 12,
   "id": "097ecd65-25af-4b29-a395-3ed7ce04e642",
   "metadata": {},
   "outputs": [
    {
     "name": "stdout",
     "output_type": "stream",
     "text": [
      "+-------+-------+\n",
      "|address|is_null|\n",
      "+-------+-------+\n",
      "|   서울|  false|\n",
      "|   대전|  false|\n",
      "| 경기도|  false|\n",
      "|   null|   true|\n",
      "|   null|   true|\n",
      "|   서울|  false|\n",
      "| 경기도|  false|\n",
      "|   대구|  false|\n",
      "|   부산|  false|\n",
      "|   전주|  false|\n",
      "|   광주|  false|\n",
      "+-------+-------+\n",
      "\n"
     ]
    }
   ],
   "source": [
    "ss.sql('''\n",
    "    SELECT\n",
    "        address\n",
    "        , address IS NULL as is_null\n",
    "    from users;\n",
    "''')\\\n",
    ".show()"
   ]
  },
  {
   "cell_type": "code",
   "execution_count": 13,
   "id": "e901511c-aeef-4b29-8bd0-1acd0c9aa6e1",
   "metadata": {},
   "outputs": [
    {
     "name": "stdout",
     "output_type": "stream",
     "text": [
      "+--------+--------+---------+\n",
      "|username| IF_addr|CASE_addr|\n",
      "+--------+--------+---------+\n",
      "|       A|    서울|     서울|\n",
      "|       B|    대전|     대전|\n",
      "|       C|  경기도|   경기도|\n",
      "|       D|주소없음| 주소없음|\n",
      "|       E|주소없음| 주소없음|\n",
      "|       F|    서울|     서울|\n",
      "|       G|  경기도|   경기도|\n",
      "|       H|    대구|     대구|\n",
      "|       I|    부산|     부산|\n",
      "|       J|    전주|     전주|\n",
      "|       K|    광주|     광주|\n",
      "+--------+--------+---------+\n",
      "\n"
     ]
    }
   ],
   "source": [
    "ss.sql('''\n",
    "    SELECT\n",
    "    username\n",
    "    , IF(address IS NULL, '주소없음', address) as IF_addr\n",
    "    , Case when address IS NULL THEN '주소없음'\n",
    "        ELSE address END as CASE_addr\n",
    "    FROM users;  \n",
    "''').show()"
   ]
  },
  {
   "cell_type": "markdown",
   "id": "1fea217d-25a4-4135-8521-7abc3f197e66",
   "metadata": {},
   "source": [
    "<div style = \"text-align : center;, font-size : 20px;\">두 문장의 차이점\n",
    "\n",
    "| **특징**         | **[A] IF 구문**                             | **[B] CASE 구문**                          |\n",
    "|------------------|-------------------------------------------|-------------------------------------------|\n",
    "| **구조**         | `IF(condition, true_value, false_value)`  | `CASE WHEN condition THEN value ELSE value END` |\n",
    "| **지원 여부**    | 일부 DBMS(MySQL 등)                        | 모든 주요 DBMS(PostgreSQL, SQL Server 등) 지원 |\n",
    "| **복잡한 조건**  | 복잡한 조건 처리 불가능                   | 복잡한 조건 처리 가능                     |\n",
    "| **가독성**       | 간단하고 짧은 조건에 적합                  | 여러 조건을 명확히 표현 가능              |\n",
    "| **표준 여부**    | SQL 표준 아님                              | SQL 표준                                  |\n"
   ]
  },
  {
   "cell_type": "code",
   "execution_count": 15,
   "id": "76f27ab5-5782-42a4-91da-c3d2bd894e2d",
   "metadata": {},
   "outputs": [
    {
     "name": "stdout",
     "output_type": "stream",
     "text": [
      "+-------+------+\n",
      "|address|region|\n",
      "+-------+------+\n",
      "|   서울|수도권|\n",
      "|   대전|  지방|\n",
      "| 경기도|수도권|\n",
      "|   null|  지방|\n",
      "|   null|  지방|\n",
      "|   서울|수도권|\n",
      "| 경기도|수도권|\n",
      "|   대구|  지방|\n",
      "|   부산|  지방|\n",
      "|   전주|  지방|\n",
      "|   광주|  지방|\n",
      "+-------+------+\n",
      "\n"
     ]
    }
   ],
   "source": [
    "ss.sql('''\n",
    "    SELECT\n",
    "        address\n",
    "        , IF(address IN('경기도', '서울'), '수도권', '지방') as region\n",
    "    FROM users\n",
    "''').show()"
   ]
  },
  {
   "cell_type": "code",
   "execution_count": 29,
   "id": "ae9166c4-6d90-472e-aeb0-05c0a40bf99d",
   "metadata": {},
   "outputs": [
    {
     "name": "stdout",
     "output_type": "stream",
     "text": [
      "+-------+------+------------+-----------------+-------------------+\n",
      "|book_id| title|author_fname|IF_quantity_level|CASE_quantity_level|\n",
      "+-------+------+------------+-----------------+-------------------+\n",
      "|      1|Book A|        John|        재고 많음|          재고 많음|\n",
      "|      2|Book B|        Jane|        재고 중간|          재고 중간|\n",
      "|      3|Book C|       Emily|        재고 없음|          재고 없음|\n",
      "|      4|Book D|       Chris|        재고 많음|          재고 많음|\n",
      "|      5|Book E|        Anna|        재고 중간|          재고 중간|\n",
      "+-------+------+------------+-----------------+-------------------+\n",
      "\n"
     ]
    }
   ],
   "source": [
    "#stock_quantity >= 50, '재고 많음'\n",
    "#stock_quantity >= 30, '중간'\n",
    "#stock_quantity < 30, '재고 없음'\n",
    "\n",
    "ss.sql('''\n",
    "    SELECT book_id\n",
    "        , title\n",
    "        , author_fname\n",
    "        , IF (stock_quantity >= 50, '재고 많음'\n",
    "            , IF ( stock_quantity >=30, '재고 중간'\n",
    "            , IF ( stock_quantity < 30, '재고 없음','??'))) as IF_quantity_level\n",
    "            \n",
    "        , CASE WHEN stock_quantity >= 50 Then '재고 많음'\n",
    "            WHEN stock_quantity >= 30 Then '재고 중간'\n",
    "            WHEN stock_quantity < 30 Then '재고 없음'\n",
    "             Else '?' END as CASE_quantity_level\n",
    "        \n",
    "     FROM books\n",
    "\n",
    "''').show()\n",
    "\n"
   ]
  },
  {
   "cell_type": "code",
   "execution_count": 32,
   "id": "9fcfcc0a-0f60-4fa0-8c09-551bbece38bc",
   "metadata": {},
   "outputs": [
    {
     "name": "stdout",
     "output_type": "stream",
     "text": [
      "IF문 실행계획\n",
      "***********\n",
      "== Physical Plan ==\n",
      "*(1) Project [book_id#6L, title#7, author_fname#8, if ((stock_quantity#12L >= 50)) 재고 많음 else if ((stock_quantity#12L >= 30)) 재고 중간 else if ((stock_quantity#12L < 30)) 재고 없음 else ?? AS IF_quantity_level#249]\n",
      "+- *(1) Scan ExistingRDD[book_id#6L,title#7,author_fname#8,author_lname#9,pages#10L,released_year#11L,stock_quantity#12L]\n",
      "\n",
      "\n",
      "CASE문 실행계획\n",
      "***********\n",
      "== Physical Plan ==\n",
      "*(1) Project [book_id#6L, title#7, author_fname#8, CASE WHEN (stock_quantity#12L >= 50) THEN 재고 많음 WHEN (stock_quantity#12L >= 30) THEN 재고 중간 WHEN (stock_quantity#12L < 30) THEN 재고 없음 ELSE ? END AS CASE_quantity_level#254]\n",
      "+- *(1) Scan ExistingRDD[book_id#6L,title#7,author_fname#8,author_lname#9,pages#10L,released_year#11L,stock_quantity#12L]\n",
      "\n",
      "\n",
      "DISTINCT 실행계획\n",
      "***********\n",
      "== Physical Plan ==\n",
      "*(2) HashAggregate(keys=[author_lname#9], functions=[])\n",
      "+- Exchange hashpartitioning(author_lname#9, 200), ENSURE_REQUIREMENTS, [id=#183]\n",
      "   +- *(1) HashAggregate(keys=[author_lname#9], functions=[])\n",
      "      +- *(1) Project [author_lname#9]\n",
      "         +- *(1) Scan ExistingRDD[book_id#6L,title#7,author_fname#8,author_lname#9,pages#10L,released_year#11L,stock_quantity#12L]\n",
      "\n",
      "\n"
     ]
    }
   ],
   "source": [
    "# 실행 계획 확인하기\n",
    "print('IF문 실행계획')\n",
    "print('***********')\n",
    "ss.sql('''\n",
    "    SELECT book_id\n",
    "        , title\n",
    "        , author_fname\n",
    "        , IF (stock_quantity >= 50, '재고 많음'\n",
    "            , IF ( stock_quantity >=30, '재고 중간'\n",
    "            , IF ( stock_quantity < 30, '재고 없음','??'))) as IF_quantity_level\n",
    "     FROM books\n",
    "\n",
    "''').explain()\n",
    "\n",
    "print('CASE문 실행계획')\n",
    "print('***********')\n",
    "ss.sql('''\n",
    "    SELECT book_id\n",
    "        , title\n",
    "        , author_fname\n",
    "        , CASE WHEN stock_quantity >= 50 Then '재고 많음'\n",
    "            WHEN stock_quantity >= 30 Then '재고 중간'\n",
    "            WHEN stock_quantity < 30 Then '재고 없음'\n",
    "             Else '?' END as CASE_quantity_level\n",
    "        \n",
    "     FROM books\n",
    "\n",
    "''').explain()\n",
    "\n",
    "\n",
    "print('DISTINCT 실행계획')\n",
    "print('***********')\n",
    "ss.sql('''\n",
    "    SELECT\n",
    "        DISTINCT author_lname\n",
    "    FROM books\n",
    "''').explain()"
   ]
  },
  {
   "cell_type": "code",
   "execution_count": 34,
   "id": "0e2277d4-cec7-4aa0-b66e-2edf17205ced",
   "metadata": {},
   "outputs": [
    {
     "name": "stdout",
     "output_type": "stream",
     "text": [
      "DISTINCT DAG 보기\n",
      "***********\n",
      "+------------+\n",
      "|author_lname|\n",
      "+------------+\n",
      "|       Jones|\n",
      "|       Davis|\n",
      "|       Smith|\n",
      "|         Doe|\n",
      "|       Brown|\n",
      "+------------+\n",
      "\n"
     ]
    }
   ],
   "source": [
    "print('DISTINCT DAG 보기')\n",
    "print('***********')\n",
    "ss.sql('''\n",
    "    SELECT\n",
    "        DISTINCT author_lname\n",
    "    FROM books\n",
    "''').show()"
   ]
  },
  {
   "cell_type": "code",
   "execution_count": 36,
   "id": "40d1b3d3-7cf8-480d-a043-d447f9f4cd65",
   "metadata": {},
   "outputs": [
    {
     "name": "stdout",
     "output_type": "stream",
     "text": [
      "COUNT 실행 계획 보기\n",
      "***********\n",
      "== Physical Plan ==\n",
      "*(2) HashAggregate(keys=[author_lname#9], functions=[count(1)])\n",
      "+- Exchange hashpartitioning(author_lname#9, 200), ENSURE_REQUIREMENTS, [id=#277]\n",
      "   +- *(1) HashAggregate(keys=[author_lname#9], functions=[partial_count(1)])\n",
      "      +- *(1) Project [author_lname#9]\n",
      "         +- *(1) Scan ExistingRDD[book_id#6L,title#7,author_fname#8,author_lname#9,pages#10L,released_year#11L,stock_quantity#12L]\n",
      "\n",
      "\n"
     ]
    }
   ],
   "source": [
    "print('COUNT 실행 계획 보기')\n",
    "print('***********')\n",
    "ss.sql('''\n",
    "SELECT\n",
    "    author_lname\n",
    "    , count(*)\n",
    "\n",
    "FROM books\n",
    "GROUP BY author_lname\n",
    "''').explain()"
   ]
  },
  {
   "cell_type": "code",
   "execution_count": 35,
   "id": "61f35259-bad2-40e0-9758-0e9bd611fc72",
   "metadata": {},
   "outputs": [
    {
     "name": "stdout",
     "output_type": "stream",
     "text": [
      "+------------+--------+\n",
      "|author_lname|count(1)|\n",
      "+------------+--------+\n",
      "|       Jones|       1|\n",
      "|       Davis|       1|\n",
      "|       Smith|       1|\n",
      "|         Doe|       1|\n",
      "|       Brown|       1|\n",
      "+------------+--------+\n",
      "\n"
     ]
    }
   ],
   "source": [
    "print('COUNT DAG 보기')\n",
    "print('***********')\n",
    "ss.sql('''\n",
    "SELECT\n",
    "    author_lname\n",
    "    , count(*)\n",
    "\n",
    "FROM books\n",
    "GROUP BY author_lname\n",
    "''').show()"
   ]
  },
  {
   "cell_type": "markdown",
   "id": "689437cb-37f9-40b0-af4b-bf908cd7494f",
   "metadata": {},
   "source": [
    "## 성능 비교 요약\n",
    "\n",
    "| **쿼리 유형**        | **Physical Plan 주요 작업**     | **성능 분석**                                                                                 |\n",
    "|---------------------|---------------------------|---------------------------------------------------------------------------------------------|\n",
    "| **GROUP BY + COUNT**| `HashAggregate`          | 효율적으로 집계 수행. 대규모 데이터에 적합하며, Spark의 기본 집계 방식으로 성능 최적.                                      |\n",
    "| **DISTINCT**        | `HashAggregate`          | 중복 제거를 위해 해시 테이블 사용. 고유 값 수가 많을 경우 성능 저하 가능성 있음.                                                   |\n",
    "| **IF / CASE**       | `Project`                | 동일한 실행 계획. 조건문 작성 방식의 차이만 있음. 성능은 동일하며, 유지보수 측면에서 `CASE`가 더 적합.                                |\n",
    "\n",
    "---\n",
    "\n",
    "## 성능적으로 더 나은 선택\n",
    "\n",
    "1. **GROUP BY + COUNT** vs **DISTINCT**:\n",
    "   - **GROUP BY + COUNT**는 집계 연산을 포함하여 더 많은 계산을 수행.\n",
    "   - **DISTINCT**는 단순히 중복 제거만 수행하므로 더 가볍고 빠를 가능성이 높음. 단, 고유 값이 많을 경우 성능 저하 가능.\n",
    "\n",
    "2. **IF** vs **CASE**:\n",
    "   - 실행 계획이 동일하므로 성능 차이는 없음.\n",
    "   - **CASE**는 가독성이 더 좋고 유지보수성이 뛰어나므로 권장.\n",
    "\n",
    "---\n",
    "\n",
    "## 결론\n",
    "- **DISTINCT**는 중복 제거만 수행하므로 **GROUP BY + COUNT**보다 계산이 가볍지만, 데이터 특성(고유 값 수)에 따라 성능 차이가 날 수 있음.\n",
    "- **CASE**는 조건문 작성에서 가독성과 유지보수 측면에서 유리하므로 추천됨.\n",
    "- Spark SQL의 실행 계획(`explain`)을 확인하며 연산 단계를 최적화하면 성능을 더욱 향상시킬 수 있음.\n"
   ]
  },
  {
   "cell_type": "markdown",
   "id": "48dc5efa-9834-4cc5-a15a-640247f6c61e",
   "metadata": {},
   "source": [
    "## 데이터 변경"
   ]
  },
  {
   "cell_type": "code",
   "execution_count": 50,
   "id": "4614f9ad-697f-4a22-830b-255fabb660d6",
   "metadata": {},
   "outputs": [],
   "source": [
    "# books 테이블 데이터에 borrowed_by 추가\n",
    "books_data_with_user = [\n",
    "    Row(book_id=1, title=\"Book A\", author_fname=\"John\", author_lname=\"Doe\", pages=300, released_year=2005, stock_quantity=55, borrowed_by=1),\n",
    "    Row(book_id=2, title=\"Book B\", author_fname=\"Jane\", author_lname=\"Smith\", pages=250, released_year=2010, stock_quantity=40, borrowed_by=2),\n",
    "    Row(book_id=3, title=\"Book C\", author_fname=\"Emily\", author_lname=\"Jones\", pages=180, released_year=2015, stock_quantity=20, borrowed_by=3),\n",
    "    Row(book_id=4, title=\"Book D\", author_fname=\"Chris\", author_lname=\"Brown\", pages=320, released_year=2012, stock_quantity=75, borrowed_by=None),\n",
    "    Row(book_id=5, title=\"Book E\", author_fname=\"Anna\", author_lname=\"Davis\", pages=270, released_year=2008, stock_quantity=35, borrowed_by=6)\n",
    "]\n"
   ]
  },
  {
   "cell_type": "code",
   "execution_count": 55,
   "id": "e03a4f77-5b22-46a0-b5fe-2ac4b44df500",
   "metadata": {},
   "outputs": [],
   "source": [
    "books_df = ss.createDataFrame(books_data_with_user)\n",
    "books_df.createOrReplaceTempView('books')"
   ]
  },
  {
   "cell_type": "code",
   "execution_count": 39,
   "id": "0ded1f7e-4d53-4969-80b4-626244bef696",
   "metadata": {
    "scrolled": true
   },
   "outputs": [],
   "source": [
    "# PySparkSQL에서 DDL 바로 수정은 안됨\n",
    "# ss.sql('''\n",
    "#     ALTER TABLE books\n",
    "#     ADD COLUMN borrowed_by INT,\n",
    "#     ADD CONSTRAINT fk_borrowed_by FOREIGN KEY (borrowed_by) REFERENCES users(user_id)\n",
    "# ''')"
   ]
  },
  {
   "attachments": {
    "9fafcd68-7b60-4ca9-a2b3-ac5ddee341f8.png": {
     "image/png": "[encoded data removed]"
    }
   },
   "cell_type": "markdown",
   "id": "11348d6c-87f5-4f6c-960a-5d7e60153c32",
   "metadata": {},
   "source": [
    "![image.png](attachment:9fafcd68-7b60-4ca9-a2b3-ac5ddee341f8.png)"
   ]
  },
  {
   "cell_type": "code",
   "execution_count": 60,
   "id": "6a1b236c-a8aa-44a5-9def-3b0c7a90a22c",
   "metadata": {},
   "outputs": [],
   "source": [
    "## Spark SQL에서 UPDATE를 지원하지 않음\n",
    "# ss.sql('''\n",
    "#     UPDATE books set borrowed_by = CASE\n",
    "#         WHEN book_id = 1 THEN 1\n",
    "#         WHEN book_id = 2 THEN 2\n",
    "#         WHEN book_id = 3 THEN 3\n",
    "#         WHEN book_id = 4 THEN NULL\n",
    "#         WHEN book_id = 5 THEN 6\n",
    "#         ELSE borrowed_by\n",
    "#     END;\n",
    "# ''')\n",
    "\n",
    "# 데이터프레임에서 값 수정\n",
    "updated_df = books_df.withColumn(\n",
    "    \"borrowed_by\",\n",
    "    when(col(\"book_id\") == 1, 1)\n",
    "    .when(col(\"book_id\") == 2, 2)\n",
    "    .when(col(\"book_id\") == 3, 3)\n",
    "    .when(col(\"book_id\") == 4, lit(None))\n",
    "    .when(col(\"book_id\") == 5, 6)\n",
    "    .otherwise(col(\"borrowed_by\")),\n",
    ")"
   ]
  },
  {
   "cell_type": "code",
   "execution_count": 63,
   "id": "d8e92029-81e5-41f4-8127-1c385473b8c7",
   "metadata": {},
   "outputs": [
    {
     "name": "stdout",
     "output_type": "stream",
     "text": [
      "+-------+------+------------+------------+-----+-------------+--------------+-----------+\n",
      "|book_id| title|author_fname|author_lname|pages|released_year|stock_quantity|borrowed_by|\n",
      "+-------+------+------------+------------+-----+-------------+--------------+-----------+\n",
      "|      1|Book A|        John|         Doe|  300|         2005|            55|          1|\n",
      "|      2|Book B|        Jane|       Smith|  250|         2010|            40|          2|\n",
      "|      3|Book C|       Emily|       Jones|  180|         2015|            20|          3|\n",
      "|      4|Book D|       Chris|       Brown|  320|         2012|            75|       null|\n",
      "|      5|Book E|        Anna|       Davis|  270|         2008|            35|          6|\n",
      "+-------+------+------------+------------+-----+-------------+--------------+-----------+\n",
      "\n"
     ]
    }
   ],
   "source": [
    "ss.sql('''\n",
    "    SELECT *\n",
    "    FROM books\n",
    "''').show()"
   ]
  },
  {
   "cell_type": "code",
   "execution_count": 73,
   "id": "0cab0d55-3a72-4ee4-b482-ad4f3fde2121",
   "metadata": {},
   "outputs": [],
   "source": [
    "# books_id = 3, stock_quantity = 50으로 바꾼다.\n",
    "updated_books_df = books_df.withColumn(\n",
    "    'stock_quantity',\n",
    "    when( col('book_id') == 3, 50)\n",
    "    .otherwise(col('stock_quantity')),\n",
    ")"
   ]
  },
  {
   "cell_type": "code",
   "execution_count": 74,
   "id": "cdbae6fd-245a-4631-82c3-a57325e5aff5",
   "metadata": {},
   "outputs": [
    {
     "name": "stdout",
     "output_type": "stream",
     "text": [
      "+-------+------+------------+------------+-----+-------------+--------------+-----------+\n",
      "|book_id| title|author_fname|author_lname|pages|released_year|stock_quantity|borrowed_by|\n",
      "+-------+------+------------+------------+-----+-------------+--------------+-----------+\n",
      "|      1|Book A|        John|         Doe|  300|         2005|            55|          1|\n",
      "|      2|Book B|        Jane|       Smith|  250|         2010|            40|          2|\n",
      "|      3|Book C|       Emily|       Jones|  180|         2015|            50|          3|\n",
      "|      4|Book D|       Chris|       Brown|  320|         2012|            75|       null|\n",
      "|      5|Book E|        Anna|       Davis|  270|         2008|            35|          6|\n",
      "+-------+------+------------+------------+-----+-------------+--------------+-----------+\n",
      "\n"
     ]
    }
   ],
   "source": [
    "updated_books_df.show()"
   ]
  },
  {
   "cell_type": "code",
   "execution_count": 88,
   "id": "e3ca7164-7048-4352-8713-e551e9d1f397",
   "metadata": {},
   "outputs": [
    {
     "name": "stdout",
     "output_type": "stream",
     "text": [
      "+-------+------+------------+------------+-----+-------------+--------------+-----------+\n",
      "|book_id| title|author_fname|author_lname|pages|released_year|stock_quantity|borrowed_by|\n",
      "+-------+------+------------+------------+-----+-------------+--------------+-----------+\n",
      "|      1|Book A|        John|         Doe|  300|         2005|           5.5|          1|\n",
      "|      2|Book B|        Jane|       Smith|  250|         2010|           4.0|          2|\n",
      "|      3|Book C|       Emily|       Jones|  180|         2015|           2.0|          3|\n",
      "|      4|Book D|       Chris|       Brown|  320|         2012|           7.5|       null|\n",
      "|      5|Book E|        Anna|       Davis|  270|         2008|           3.5|          6|\n",
      "+-------+------+------------+------------+-----+-------------+--------------+-----------+\n",
      "\n"
     ]
    }
   ],
   "source": [
    "# stock_quantity * 10% 증가\n",
    "\n",
    "updated_df2 = books_df.withColumn(\n",
    "    'stock_quantity',\n",
    "        col('stock_quantity') * 0.1\n",
    ")\n",
    "\n",
    "updated_df2.createOrReplaceTempView('updated_books')\n",
    "\n",
    "ss.sql('''\n",
    "    select * from updated_books\n",
    "''').show()"
   ]
  },
  {
   "cell_type": "markdown",
   "id": "d2198a7a-d7f8-452a-b830-0b6c86d82c14",
   "metadata": {},
   "source": [
    "### 데이터 저장\n",
    "write의 저장 mode : overwrite, append, ignore, error\n",
    "\n",
    "```\n",
    "df.write.csv('data/output/sqltest_updated_books.csv', header = True, mode = 'overwrite')\n",
    "```\n",
    "\n",
    "파일명과 같은 폴더가 생기면서, 파티션이 나뉜 만큼 파일이 쪼개져서 저장됨"
   ]
  },
  {
   "cell_type": "code",
   "execution_count": 91,
   "id": "28dd474b-a412-4b10-8aaf-de0ee0e1ce13",
   "metadata": {},
   "outputs": [],
   "source": [
    "updated_df2.write.csv('data/output/sqltest_updated_books.csv', header = True, mode = 'overwrite')\n",
    "user_df.write.csv('data/output/sqltest_updated_users.csv', header = True, mode = 'overwrite')"
   ]
  },
  {
   "cell_type": "code",
   "execution_count": 104,
   "id": "a825270c-0788-419d-841b-139ad5c51c20",
   "metadata": {},
   "outputs": [
    {
     "name": "stdout",
     "output_type": "stream",
     "text": [
      "[[Row(book_id=1, title='Book A', author_fname='John', author_lname='Doe', pages=300, released_year=2005, stock_quantity=5.5, borrowed_by=1), Row(book_id=2, title='Book B', author_fname='Jane', author_lname='Smith', pages=250, released_year=2010, stock_quantity=4.0, borrowed_by=2)], [Row(book_id=3, title='Book C', author_fname='Emily', author_lname='Jones', pages=180, released_year=2015, stock_quantity=2.0, borrowed_by=3), Row(book_id=4, title='Book D', author_fname='Chris', author_lname='Brown', pages=320, released_year=2012, stock_quantity=7.5, borrowed_by=None), Row(book_id=5, title='Book E', author_fname='Anna', author_lname='Davis', pages=270, released_year=2008, stock_quantity=3.5, borrowed_by=6)]]\n",
      "***********************************\n",
      "2\n",
      "***********************************\n",
      "== Parsed Logical Plan ==\n",
      "'Project [book_id#340L, title#341, author_fname#342, author_lname#343, pages#344L, released_year#345L, ('stock_quantity * 0.1) AS stock_quantity#701, borrowed_by#347L]\n",
      "+- LogicalRDD [book_id#340L, title#341, author_fname#342, author_lname#343, pages#344L, released_year#345L, stock_quantity#346L, borrowed_by#347L], false\n",
      "\n",
      "== Analyzed Logical Plan ==\n",
      "book_id: bigint, title: string, author_fname: string, author_lname: string, pages: bigint, released_year: bigint, stock_quantity: double, borrowed_by: bigint\n",
      "Project [book_id#340L, title#341, author_fname#342, author_lname#343, pages#344L, released_year#345L, (cast(stock_quantity#346L as double) * 0.1) AS stock_quantity#701, borrowed_by#347L]\n",
      "+- LogicalRDD [book_id#340L, title#341, author_fname#342, author_lname#343, pages#344L, released_year#345L, stock_quantity#346L, borrowed_by#347L], false\n",
      "\n",
      "== Optimized Logical Plan ==\n",
      "Project [book_id#340L, title#341, author_fname#342, author_lname#343, pages#344L, released_year#345L, (cast(stock_quantity#346L as double) * 0.1) AS stock_quantity#701, borrowed_by#347L]\n",
      "+- LogicalRDD [book_id#340L, title#341, author_fname#342, author_lname#343, pages#344L, released_year#345L, stock_quantity#346L, borrowed_by#347L], false\n",
      "\n",
      "== Physical Plan ==\n",
      "*(1) Project [book_id#340L, title#341, author_fname#342, author_lname#343, pages#344L, released_year#345L, (cast(stock_quantity#346L as double) * 0.1) AS stock_quantity#701, borrowed_by#347L]\n",
      "+- *(1) Scan ExistingRDD[book_id#340L,title#341,author_fname#342,author_lname#343,pages#344L,released_year#345L,stock_quantity#346L,borrowed_by#347L]\n",
      "\n",
      "None\n"
     ]
    }
   ],
   "source": [
    "### 파티션 확인\n",
    "print(updated_df2.rdd.glom().take(100))\n",
    "print('***********************************')\n",
    "print(updated_df2.rdd.getNumPartitions())\n",
    "print('***********************************')\n",
    "print(updated_df2.explain(True))"
   ]
  },
  {
   "cell_type": "code",
   "execution_count": null,
   "id": "5803ef82-6b5f-4755-a472-cae84613c671",
   "metadata": {},
   "outputs": [],
   "source": [
    "updated_df2.write.csv('data/output/sqltest_updated_books.csv', header = True, mode = 'overwrite')\n",
    "user_df.write.csv('data/output/sqltest_updated_users.csv', header = True, mode = 'overwrite')"
   ]
  },
  {
   "cell_type": "code",
   "execution_count": 111,
   "id": "dd0fb8f3-b099-4437-a496-10e76f1901b5",
   "metadata": {},
   "outputs": [
    {
     "name": "stdout",
     "output_type": "stream",
     "text": [
      "+-------+------+------------+------------+-----+-------------+--------------+-----------+\n",
      "|book_id| title|author_fname|author_lname|pages|released_year|stock_quantity|borrowed_by|\n",
      "+-------+------+------------+------------+-----+-------------+--------------+-----------+\n",
      "|      3|Book C|       Emily|       Jones|  180|         2015|           2.0|          3|\n",
      "|      4|Book D|       Chris|       Brown|  320|         2012|           7.5|       null|\n",
      "|      5|Book E|        Anna|       Davis|  270|         2008|           3.5|          6|\n",
      "|      1|Book A|        John|         Doe|  300|         2005|           5.5|          1|\n",
      "|      2|Book B|        Jane|       Smith|  250|         2010|           4.0|          2|\n",
      "+-------+------+------------+------------+-----+-------------+--------------+-----------+\n",
      "\n",
      "+-------+--------+-------+\n",
      "|user_id|username|address|\n",
      "+-------+--------+-------+\n",
      "|      6|       F|   서울|\n",
      "|      7|       G| 경기도|\n",
      "|      8|       H|   대구|\n",
      "|      9|       I|   부산|\n",
      "|     10|       J|   전주|\n",
      "|     11|       K|   광주|\n",
      "|      1|       A|   서울|\n",
      "|      2|       B|   대전|\n",
      "|      3|       C| 경기도|\n",
      "|      4|       D|   null|\n",
      "|      5|       E|   null|\n",
      "+-------+--------+-------+\n",
      "\n"
     ]
    },
    {
     "data": {
      "text/plain": [
       "(None, None)"
      ]
     },
     "execution_count": 111,
     "metadata": {},
     "output_type": "execute_result"
    }
   ],
   "source": [
    "df1 = ss.read.csv('data/output/sqltest_updated_books.csv', header = True)\n",
    "df2 = ss.read.csv('data/output/sqltest_updated_users.csv', header = True)\n",
    "\n",
    "df1.show(), df2.show()"
   ]
  },
  {
   "cell_type": "markdown",
   "id": "ca7f518c-729f-449d-937f-e6a80e657ba2",
   "metadata": {},
   "source": [
    "### 조인 실습\n",
    "book_id, title, author_fname, author_lname, username, address"
   ]
  },
  {
   "cell_type": "code",
   "execution_count": 112,
   "id": "13789635-bfb6-44ce-af60-dabf90e1e7b8",
   "metadata": {},
   "outputs": [
    {
     "name": "stdout",
     "output_type": "stream",
     "text": [
      "+-------+------+------------+------------+--------+-------+\n",
      "|book_id| title|author_fname|author_lname|username|address|\n",
      "+-------+------+------------+------------+--------+-------+\n",
      "|      5|Book E|        Anna|       Davis|       F|   서울|\n",
      "|      1|Book A|        John|         Doe|       A|   서울|\n",
      "|      3|Book C|       Emily|       Jones|       C| 경기도|\n",
      "|      2|Book B|        Jane|       Smith|       B|   대전|\n",
      "+-------+------+------------+------------+--------+-------+\n",
      "\n"
     ]
    }
   ],
   "source": [
    "ss.sql('''\n",
    "    SELECT\n",
    "    \tA.book_id\n",
    "    \t, A.title\n",
    "    \t, A.author_fname\n",
    "    \t, A.author_lname\n",
    "    \t, B.username\n",
    "    \t, B.address\n",
    "    FROM books as A\n",
    "    INNER JOIN users as B\n",
    "    ON A.borrowed_by = B.user_id;\n",
    "\n",
    "''').show()"
   ]
  },
  {
   "cell_type": "code",
   "execution_count": 113,
   "id": "1627d247-cf0d-4b43-b3b9-8ed457995686",
   "metadata": {},
   "outputs": [
    {
     "name": "stderr",
     "output_type": "stream",
     "text": [
      "                                                                                \r"
     ]
    },
    {
     "name": "stdout",
     "output_type": "stream",
     "text": [
      "+-------+------+------------+------------+--------+-------+\n",
      "|book_id| title|author_fname|author_lname|username|address|\n",
      "+-------+------+------------+------------+--------+-------+\n",
      "|      4|Book D|       Chris|       Brown|    null|   null|\n",
      "|      5|Book E|        Anna|       Davis|       F|   서울|\n",
      "|      1|Book A|        John|         Doe|       A|   서울|\n",
      "|      3|Book C|       Emily|       Jones|       C| 경기도|\n",
      "|      2|Book B|        Jane|       Smith|       B|   대전|\n",
      "+-------+------+------------+------------+--------+-------+\n",
      "\n"
     ]
    }
   ],
   "source": [
    "# books LEFT JOIN users\n",
    "ss.sql('''\n",
    "    SELECT\n",
    "    \tA.book_id\n",
    "    \t, A.title\n",
    "    \t, A.author_fname\n",
    "    \t, A.author_lname\n",
    "    \t, B.username\n",
    "    \t, B.address\n",
    "    FROM books as A\n",
    "    LEFT JOIN users as B\n",
    "    ON A.borrowed_by = B.user_id;\n",
    "''').show()"
   ]
  },
  {
   "cell_type": "code",
   "execution_count": 116,
   "id": "e6e5be0b-f205-4ffb-bc71-f33967ab2e2d",
   "metadata": {},
   "outputs": [
    {
     "name": "stdout",
     "output_type": "stream",
     "text": [
      "+--------+-------+-------+------+------------+------------+\n",
      "|username|address|book_id| title|author_fname|author_lname|\n",
      "+--------+-------+-------+------+------------+------------+\n",
      "|       G| 경기도|   null|  null|        null|        null|\n",
      "|       F|   서울|      5|Book E|        Anna|       Davis|\n",
      "|       I|   부산|   null|  null|        null|        null|\n",
      "|       E|   null|   null|  null|        null|        null|\n",
      "|       A|   서울|      1|Book A|        John|         Doe|\n",
      "|       J|   전주|   null|  null|        null|        null|\n",
      "|       C| 경기도|      3|Book C|       Emily|       Jones|\n",
      "|       H|   대구|   null|  null|        null|        null|\n",
      "|       K|   광주|   null|  null|        null|        null|\n",
      "|       B|   대전|      2|Book B|        Jane|       Smith|\n",
      "|       D|   null|   null|  null|        null|        null|\n",
      "+--------+-------+-------+------+------------+------------+\n",
      "\n"
     ]
    }
   ],
   "source": [
    "# users LEFT JOIN boos\n",
    "ss.sql('''\n",
    "    SELECT\n",
    "    \t\n",
    "        B.username\n",
    "    \t, B.address\n",
    "        , A.book_id\n",
    "    \t, A.title\n",
    "    \t, A.author_fname\n",
    "    \t, A.author_lname\n",
    "    \t\n",
    "    FROM users as B\n",
    "    LEFT JOIN books as A\n",
    "    ON A.borrowed_by = B.user_id;\n",
    "''').show()"
   ]
  },
  {
   "cell_type": "code",
   "execution_count": 120,
   "id": "dc15fbf4-c8d3-4219-b0b1-95575ff6641c",
   "metadata": {},
   "outputs": [
    {
     "name": "stdout",
     "output_type": "stream",
     "text": [
      "+-------+--------+-------+------+------------+------------+-----+-------------+--------------+-----------+\n",
      "|user_id|username|book_id| title|author_fname|author_lname|pages|released_year|stock_quantity|borrowed_by|\n",
      "+-------+--------+-------+------+------------+------------+-----+-------------+--------------+-----------+\n",
      "|      7|       G|   null|  null|        null|        null| null|         null|          null|       null|\n",
      "|      6|       F|      5|Book E|        Anna|       Davis|  270|         2008|            35|          6|\n",
      "|      9|       I|   null|  null|        null|        null| null|         null|          null|       null|\n",
      "|      5|       E|   null|  null|        null|        null| null|         null|          null|       null|\n",
      "|      1|       A|      1|Book A|        John|         Doe|  300|         2005|            55|          1|\n",
      "|     10|       J|   null|  null|        null|        null| null|         null|          null|       null|\n",
      "|      3|       C|      3|Book C|       Emily|       Jones|  180|         2015|            20|          3|\n",
      "|      8|       H|   null|  null|        null|        null| null|         null|          null|       null|\n",
      "|     11|       K|   null|  null|        null|        null| null|         null|          null|       null|\n",
      "|      2|       B|      2|Book B|        Jane|       Smith|  250|         2010|            40|          2|\n",
      "|      4|       D|   null|  null|        null|        null| null|         null|          null|       null|\n",
      "+-------+--------+-------+------+------------+------------+-----+-------------+--------------+-----------+\n",
      "\n"
     ]
    }
   ],
   "source": [
    "# 사용자 별로 책 대여 목록 > 전체 사용자가 나옴 대여한 정보가 있으면 나옴, 없으면 NULL\n",
    "ss.sql('''\n",
    "    SELECT\n",
    "        B.user_id\n",
    "        , B.username\n",
    "        , A.* \n",
    "    \n",
    "    FROM books as A\n",
    "    RIGHT JOIN users as B\n",
    "    on A.borrowed_by = B.user_id;\n",
    "''').show()\n"
   ]
  },
  {
   "cell_type": "code",
   "execution_count": 134,
   "id": "f0d7f12f-2b07-4892-a9af-6031d2dba3e7",
   "metadata": {},
   "outputs": [
    {
     "name": "stdout",
     "output_type": "stream",
     "text": [
      "+--------+-------+-------+------+------------+------------+-----+-------------+--------------+-----------+\n",
      "|username|user_id|book_id| title|author_fname|author_lname|pages|released_year|stock_quantity|borrowed_by|\n",
      "+--------+-------+-------+------+------------+------------+-----+-------------+--------------+-----------+\n",
      "|       F|      6|      5|Book E|        Anna|       Davis|  270|         2008|            35|          6|\n",
      "|       A|      1|      1|Book A|        John|         Doe|  300|         2005|            55|          1|\n",
      "+--------+-------+-------+------+------------+------------+-----+-------------+--------------+-----------+\n",
      "\n"
     ]
    }
   ],
   "source": [
    "# 특정 지역 서울에 거주하는 사용자가 대여한 책 모록\n",
    "ss.sql('''\n",
    "    SELECT\n",
    "    A.username\n",
    "    , A.user_id\n",
    "    , B.*\n",
    "\n",
    "    FROM users as A\n",
    "    \n",
    "    INNER JOIN books as B\n",
    "    on A.user_id = B.borrowed_by\n",
    "    where A.address = '서울';\n",
    "'''   \n",
    ").show()"
   ]
  },
  {
   "cell_type": "code",
   "execution_count": 145,
   "id": "f46e4584-3d7d-4825-9cb4-047804f21795",
   "metadata": {},
   "outputs": [
    {
     "name": "stderr",
     "output_type": "stream",
     "text": [
      "[Stage 320:===============================>                     (118 + 3) / 200]\r"
     ]
    },
    {
     "name": "stdout",
     "output_type": "stream",
     "text": [
      "+------+--------+---------+\n",
      "|UserID|UserName|cnt_books|\n",
      "+------+--------+---------+\n",
      "|     1|       A|        1|\n",
      "|     2|       B|        1|\n",
      "|     3|       C|        1|\n",
      "|     4|       D|        0|\n",
      "|     5|       E|        0|\n",
      "|     6|       F|        1|\n",
      "|     7|       G|        0|\n",
      "|     8|       H|        0|\n",
      "|     9|       I|        0|\n",
      "|    10|       J|        0|\n",
      "|    11|       K|        0|\n",
      "+------+--------+---------+\n",
      "\n"
     ]
    },
    {
     "name": "stderr",
     "output_type": "stream",
     "text": [
      "                                                                                \r"
     ]
    }
   ],
   "source": [
    "# 사용자별로 대여한 책의 수\n",
    "\n",
    "ss.sql('''\n",
    "    SELECT\n",
    "    \n",
    "        A.user_id as UserID\n",
    "        , MAX(A.username) as UserName\n",
    "        , COUNT(B.book_id) as cnt_books\n",
    "    \n",
    "    FROM users as A\n",
    "    \n",
    "    LEFT JOIN books as B   \n",
    "    on A.user_id = B.borrowed_by\n",
    "\n",
    "    GROUP BY A.user_id\n",
    "\n",
    "    ORDER BY A.user_id\n",
    "\n",
    "''').show()"
   ]
  },
  {
   "cell_type": "code",
   "execution_count": 147,
   "id": "cd02dc66-d448-417b-a3c6-ee4611bc06bf",
   "metadata": {},
   "outputs": [
    {
     "name": "stdout",
     "output_type": "stream",
     "text": [
      "+-------+------+------------+------------+-----+-------------+--------------+-----------+---------+\n",
      "|book_id| title|author_fname|author_lname|pages|released_year|stock_quantity|borrowed_by|book_size|\n",
      "+-------+------+------------+------------+-----+-------------+--------------+-----------+---------+\n",
      "|      1|Book A|        John|         Doe|  300|         2005|            55|          1|     LONG|\n",
      "|      2|Book B|        Jane|       Smith|  250|         2010|            40|          2|    SHORT|\n",
      "|      3|Book C|       Emily|       Jones|  180|         2015|            20|          3|    SHORT|\n",
      "|      4|Book D|       Chris|       Brown|  320|         2012|            75|       null|     LONG|\n",
      "|      5|Book E|        Anna|       Davis|  270|         2008|            35|          6|    SHORT|\n",
      "+-------+------+------------+------------+-----+-------------+--------------+-----------+---------+\n",
      "\n"
     ]
    }
   ],
   "source": [
    "# 컬럼 추가 pages가 300이상이면 LONG\n",
    "ss.sql('''\n",
    "    SELECT\n",
    "        *\n",
    "        , CASE WHEN pages >=300 THEN 'LONG'\n",
    "        \t\tWHEN pages < 300 THEN 'SHORT'\n",
    "            \tElSE '' END as book_size\n",
    "    FROM books;\n",
    "''').show()"
   ]
  },
  {
   "cell_type": "code",
   "execution_count": 152,
   "id": "4a25031a-d708-4a60-9052-99226287950c",
   "metadata": {},
   "outputs": [
    {
     "name": "stdout",
     "output_type": "stream",
     "text": [
      "+-------+------+------------+------------+-----+-------------+--------------+-----------+------------+\n",
      "|book_id| title|author_fname|author_lname|pages|released_year|stock_quantity|borrowed_by|stock_status|\n",
      "+-------+------+------------+------------+-----+-------------+--------------+-----------+------------+\n",
      "|      1|Book A|        John|         Doe|  300|         2005|            55|          1|        충분|\n",
      "|      2|Book B|        Jane|       Smith|  250|         2010|            40|          2|        보통|\n",
      "|      3|Book C|       Emily|       Jones|  180|         2015|            20|          3|        부족|\n",
      "|      4|Book D|       Chris|       Brown|  320|         2012|            75|       null|        충분|\n",
      "|      5|Book E|        Anna|       Davis|  270|         2008|            35|          6|        보통|\n",
      "+-------+------+------------+------------+-----+-------------+--------------+-----------+------------+\n",
      "\n"
     ]
    }
   ],
   "source": [
    "# 컬럼 추가 stock_quantity > 50 이상 '충분', 30 이상 '보통', '부족'\n",
    "ss.sql('''\n",
    "    SELECT\n",
    "    \n",
    "        *\n",
    "        , CASE WHEN stock_quantity >= 50 THEN '충분'\n",
    "                WHEN stock_quantity >= 30 THEN '보통'\n",
    "                ELSE '부족' END AS stock_status\n",
    "    \n",
    "    FROM books;\n",
    "\n",
    "''').show()\n"
   ]
  },
  {
   "cell_type": "code",
   "execution_count": 154,
   "id": "cf289b5d-3c32-4fb3-81b7-37499a0791f0",
   "metadata": {},
   "outputs": [
    {
     "name": "stdout",
     "output_type": "stream",
     "text": [
      "+-------+------+------------+------------+-----+-------------+--------------+-----------+\n",
      "|book_id| title|author_fname|author_lname|pages|released_year|stock_quantity|borrowed_by|\n",
      "+-------+------+------------+------------+-----+-------------+--------------+-----------+\n",
      "|      1|Book A|        John|         Doe|  300|         2005|            55|          1|\n",
      "+-------+------+------------+------------+-----+-------------+--------------+-----------+\n",
      "\n"
     ]
    }
   ],
   "source": [
    "# 책 제목에 특정 키워드가 포함되어있는지 확인\n",
    "ss.sql('''\n",
    "    SELECT\n",
    "        *\n",
    "    FROM books\n",
    "    \n",
    "    WHERE title LIKE '%A%'\n",
    "\n",
    "''').show()\n"
   ]
  },
  {
   "cell_type": "code",
   "execution_count": 200,
   "id": "d681f487-ba3f-4d24-a187-c640e8d48f35",
   "metadata": {},
   "outputs": [
    {
     "name": "stdout",
     "output_type": "stream",
     "text": [
      "+------------+--------+\n",
      "|author_fname|cnt_book|\n",
      "+------------+--------+\n",
      "|        Anna|       1|\n",
      "+------------+--------+\n",
      "\n",
      "+-------------------+\n",
      "|min(stock_quantity)|\n",
      "+-------------------+\n",
      "|                 20|\n",
      "+-------------------+\n",
      "\n",
      "+------------+------------+------------+\n",
      "|author_fname|author_lname|borrow_count|\n",
      "+------------+------------+------------+\n",
      "|        Anna|       Davis|           1|\n",
      "+------------+------------+------------+\n",
      "\n"
     ]
    }
   ],
   "source": [
    "# 가장 많이 대여된 책의 작가 조회\n",
    "ss.sql('''\n",
    "        SELECT\n",
    "\n",
    "            author_fname\n",
    "            , COUNT(book_id) as cnt_book\n",
    "\n",
    "            FROM books GROUP BY author_fname\n",
    "            ORDER BY author_fname\n",
    "            LIMIT 1;\n",
    "''').show()\n",
    "\n",
    "# 가장 많이 대여된 책의 작가 조회\n",
    "ss.sql('''\n",
    "        SELECT MIN(A.stock_quantity)\n",
    "        FROM (\n",
    "            SELECT\n",
    "                book_id\n",
    "                , MIN(stock_quantity) as stock_quantity\n",
    "            FROM books\n",
    "            GROUP BY book_id\n",
    "            --having stock_quantity = min(stock_quantity)\n",
    "            ) as A\n",
    "                 \n",
    "''').show()\n",
    "\n",
    "# 가장 많이 대여된 책의 작가 조회\n",
    "ss.sql('''\n",
    "        SELECT\n",
    "            author_fname\n",
    "            , author_lname\n",
    "            , count(book_id) as borrow_count\n",
    "        FROM books\n",
    "        GROUP BY author_fname, author_lname\n",
    "        ORDER BY borrow_count DESC\n",
    "        LIMIT 1;\n",
    "''').show()"
   ]
  },
  {
   "cell_type": "code",
   "execution_count": 211,
   "id": "ce596fc7-b625-4d73-9cd4-00109b74c9cd",
   "metadata": {},
   "outputs": [
    {
     "name": "stderr",
     "output_type": "stream",
     "text": [
      "[Stage 725:==============================================>      (174 + 2) / 200]\r"
     ]
    },
    {
     "name": "stdout",
     "output_type": "stream",
     "text": [
      "+-------+--------------+\n",
      "|address|count(book_id)|\n",
      "+-------+--------------+\n",
      "|   서울|             2|\n",
      "|   대전|             1|\n",
      "| 경기도|             1|\n",
      "+-------+--------------+\n",
      "\n"
     ]
    },
    {
     "name": "stderr",
     "output_type": "stream",
     "text": [
      "                                                                                \r"
     ]
    }
   ],
   "source": [
    "# 사용자의 지역별 대여된 책 수 : 사용자 지역별로 대여된 책의 수를 계산합니다.\n",
    "ss.sql('''\n",
    "    SELECT\n",
    "    B.address\n",
    "    , count(A.book_id)\n",
    "    FROM books as A\n",
    "    \n",
    "    INNER JOIN users as B\n",
    "    on A.borrowed_by = B.user_ID\n",
    "    \n",
    "    GROUP BY B.address\n",
    "    ORDER BY 2 DESC;\n",
    "''').show()\n",
    "\n"
   ]
  },
  {
   "cell_type": "code",
   "execution_count": 209,
   "id": "4894f77c-00dc-4008-b3d4-c85b8ed9c27e",
   "metadata": {},
   "outputs": [
    {
     "name": "stdout",
     "output_type": "stream",
     "text": [
      "+-------+--------+-------+\n",
      "|user_id|username|address|\n",
      "+-------+--------+-------+\n",
      "|      1|       A|   서울|\n",
      "|      2|       B|   대전|\n",
      "|      3|       C| 경기도|\n",
      "|      4|       D|   null|\n",
      "|      5|       E|   null|\n",
      "|      6|       F|   서울|\n",
      "|      7|       G| 경기도|\n",
      "|      8|       H|   대구|\n",
      "|      9|       I|   부산|\n",
      "|     10|       J|   전주|\n",
      "|     11|       K|   광주|\n",
      "+-------+--------+-------+\n",
      "\n"
     ]
    }
   ],
   "source": [
    "ss.sql('''\n",
    "\n",
    "select * from users\n",
    "''').show()"
   ]
  },
  {
   "cell_type": "code",
   "execution_count": 216,
   "id": "89f754ec-35a5-4454-a2a1-3b57b9aa1fb8",
   "metadata": {},
   "outputs": [
    {
     "name": "stdout",
     "output_type": "stream",
     "text": [
      "+-------+------+------------+------------+-----+-------------+--------------+-----------+\n",
      "|book_id| title|author_fname|author_lname|pages|released_year|stock_quantity|borrowed_by|\n",
      "+-------+------+------------+------------+-----+-------------+--------------+-----------+\n",
      "|      4|Book D|       Chris|       Brown|  320|         2012|            75|       null|\n",
      "+-------+------+------------+------------+-----+-------------+--------------+-----------+\n",
      "\n"
     ]
    }
   ],
   "source": [
    "# 대여되지 않은 책 중에서, 가장 페이지 수가 많은 책\n",
    "#대여되지 않은 책 중에서 페이지 수가 가장 많은 책을 조회합니다.\n",
    "\n",
    "ss.sql('''\n",
    "    SELECT\n",
    "    \n",
    "        *\n",
    "\n",
    "    FROM books\n",
    "    \n",
    "    WHERE borrowed_by IS NULL\n",
    "    \n",
    "    ORDER BY pages DESC\n",
    "    \n",
    "    LIMIT 1    \n",
    "''').show()\n"
   ]
  },
  {
   "cell_type": "code",
   "execution_count": 228,
   "id": "d9650ba8-a17d-424c-858a-f3abc4bd1d22",
   "metadata": {},
   "outputs": [
    {
     "name": "stderr",
     "output_type": "stream",
     "text": [
      "                                                                                \r"
     ]
    }
   ],
   "source": [
    "# csv로 save\n",
    "# 사용자의 지역별 대여된 책 수 : 사용자 지역별로 대여된 책의 수를 계산합니다.\n",
    "df1 = ss.sql('''\n",
    "    SELECT\n",
    "        B.address\n",
    "        , count(A.book_id)\n",
    "    FROM books as A\n",
    "    \n",
    "    INNER JOIN users as B\n",
    "    on A.borrowed_by = B.user_ID\n",
    "    \n",
    "    GROUP BY B.address\n",
    "    ORDER BY 2 DESC;\n",
    "''')\n",
    "df1.write.csv('data/output/result/result1.csv', header = True)"
   ]
  },
  {
   "cell_type": "code",
   "execution_count": 219,
   "id": "8f4747c6-69ea-4723-bcaa-215d1c393344",
   "metadata": {},
   "outputs": [],
   "source": [
    "# 대여되지 않은 책 중에서, 가장 페이지 수가 많은 책\n",
    "#대여되지 않은 책 중에서 페이지 수가 가장 많은 책을 조회합니다.\n",
    "df2 = ss.sql('''\n",
    "    SELECT\n",
    "    \n",
    "        *\n",
    "\n",
    "    FROM books\n",
    "    \n",
    "    WHERE borrowed_by IS NULL\n",
    "    \n",
    "    ORDER BY pages DESC\n",
    "    \n",
    "    LIMIT 1    \n",
    "''')\n",
    "df2.write.csv('data/output/result/result2.csv', header = True)\n"
   ]
  },
  {
   "cell_type": "code",
   "execution_count": 225,
   "id": "09b0eb5a-c569-46fc-8995-cf127885021e",
   "metadata": {},
   "outputs": [
    {
     "name": "stdout",
     "output_type": "stream",
     "text": [
      "+-------+--------------+\n",
      "|address|count(book_id)|\n",
      "+-------+--------------+\n",
      "|   대전|             1|\n",
      "| 경기도|             1|\n",
      "|   서울|             2|\n",
      "+-------+--------------+\n",
      "\n"
     ]
    }
   ],
   "source": [
    "ss.read.csv('data/output/result/result1.csv', header = True).show()"
   ]
  },
  {
   "cell_type": "code",
   "execution_count": 226,
   "id": "61f554b6-d604-477a-89f2-00d7e3c2f679",
   "metadata": {},
   "outputs": [
    {
     "name": "stdout",
     "output_type": "stream",
     "text": [
      "+-------+------+------------+------------+-----+-------------+--------------+-----------+\n",
      "|book_id| title|author_fname|author_lname|pages|released_year|stock_quantity|borrowed_by|\n",
      "+-------+------+------------+------------+-----+-------------+--------------+-----------+\n",
      "|      4|Book D|       Chris|       Brown|  320|         2012|            75|       null|\n",
      "+-------+------+------------+------------+-----+-------------+--------------+-----------+\n",
      "\n"
     ]
    }
   ],
   "source": [
    "ss.read.csv('data/output/result/result2.csv', header = True).show()"
   ]
  },
  {
   "cell_type": "code",
   "execution_count": null,
   "id": "9fa5823a-d53a-4fdc-bafc-2196ff9b4f0f",
   "metadata": {},
   "outputs": [],
   "source": []
  },
  {
   "cell_type": "code",
   "execution_count": null,
   "id": "cb67a8c0-44fd-4b69-bda5-ea24c72a79ce",
   "metadata": {},
   "outputs": [],
   "source": []
  },
  {
   "cell_type": "code",
   "execution_count": 229,
   "id": "eef4c86f-fadc-4490-9906-e687be25cedf",
   "metadata": {},
   "outputs": [
    {
     "name": "stdout",
     "output_type": "stream",
     "text": [
      "== Physical Plan ==\n",
      "*(7) Sort [count(book_id)#3257L DESC NULLS LAST], true, 0\n",
      "+- Exchange rangepartitioning(count(book_id)#3257L DESC NULLS LAST, 200), ENSURE_REQUIREMENTS, [id=#3937]\n",
      "   +- *(6) HashAggregate(keys=[address#2], functions=[count(book_id#340L)])\n",
      "      +- Exchange hashpartitioning(address#2, 200), ENSURE_REQUIREMENTS, [id=#3933]\n",
      "         +- *(5) HashAggregate(keys=[address#2], functions=[partial_count(book_id#340L)])\n",
      "            +- *(5) Project [book_id#340L, address#2]\n",
      "               +- *(5) SortMergeJoin [borrowed_by#347L], [user_ID#0L], Inner\n",
      "                  :- *(2) Sort [borrowed_by#347L ASC NULLS FIRST], false, 0\n",
      "                  :  +- Exchange hashpartitioning(borrowed_by#347L, 200), ENSURE_REQUIREMENTS, [id=#3918]\n",
      "                  :     +- *(1) Project [book_id#340L, borrowed_by#347L]\n",
      "                  :        +- *(1) Filter isnotnull(borrowed_by#347L)\n",
      "                  :           +- *(1) Scan ExistingRDD[book_id#340L,title#341,author_fname#342,author_lname#343,pages#344L,released_year#345L,stock_quantity#346L,borrowed_by#347L]\n",
      "                  +- *(4) Sort [user_ID#0L ASC NULLS FIRST], false, 0\n",
      "                     +- Exchange hashpartitioning(user_ID#0L, 200), ENSURE_REQUIREMENTS, [id=#3924]\n",
      "                        +- *(3) Project [user_id#0L, address#2]\n",
      "                           +- *(3) Filter isnotnull(user_ID#0L)\n",
      "                              +- *(3) Scan ExistingRDD[user_id#0L,username#1,address#2]\n",
      "\n",
      "\n"
     ]
    }
   ],
   "source": [
    "# 실행계획, DAG 형태 분석\n",
    "ss.sql('''\n",
    "    SELECT\n",
    "        B.address\n",
    "        , count(A.book_id)\n",
    "    FROM books as A\n",
    "    \n",
    "    INNER JOIN users as B\n",
    "    on A.borrowed_by = B.user_ID\n",
    "    \n",
    "    GROUP BY B.address\n",
    "    ORDER BY 2 DESC;\n",
    "''').explain()"
   ]
  },
  {
   "cell_type": "code",
   "execution_count": 221,
   "id": "808978b0-2ca6-48a9-b647-c33d093c6201",
   "metadata": {},
   "outputs": [
    {
     "name": "stdout",
     "output_type": "stream",
     "text": [
      "== Physical Plan ==\n",
      "TakeOrderedAndProject(limit=1, orderBy=[pages#344L DESC NULLS LAST], output=[book_id#340L,title#341,author_fname#342,author_lname#343,pages#344L,released_year#345L,stock_quantity#346L,borrowed_by#347L])\n",
      "+- *(1) Filter isnull(borrowed_by#347L)\n",
      "   +- *(1) Scan ExistingRDD[book_id#340L,title#341,author_fname#342,author_lname#343,pages#344L,released_year#345L,stock_quantity#346L,borrowed_by#347L]\n",
      "\n",
      "\n"
     ]
    }
   ],
   "source": [
    "ss.sql('''\n",
    "    SELECT\n",
    "    \n",
    "        *\n",
    "\n",
    "    FROM books\n",
    "    \n",
    "    WHERE borrowed_by IS NULL\n",
    "    \n",
    "    ORDER BY pages DESC\n",
    "    \n",
    "    LIMIT 1    \n",
    "''').explain()"
   ]
  }
 ],
 "metadata": {
  "kernelspec": {
   "display_name": "Python (spark_start)",
   "language": "python",
   "name": "spark_start"
  },
  "language_info": {
   "codemirror_mode": {
    "name": "ipython",
    "version": 3
   },
   "file_extension": ".py",
   "mimetype": "text/x-python",
   "name": "python",
   "nbconvert_exporter": "python",
   "pygments_lexer": "ipython3",
   "version": "3.8.20"
  }
 },
 "nbformat": 4,
 "nbformat_minor": 5
}
