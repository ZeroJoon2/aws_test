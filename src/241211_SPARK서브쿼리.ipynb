{
 "cells": [
  {
   "cell_type": "code",
   "execution_count": 11,
   "id": "4ed5a1f8-bafa-43c1-831b-586dc75fa50e",
   "metadata": {},
   "outputs": [],
   "source": [
    "from pyspark.sql import SparkSession"
   ]
  },
  {
   "cell_type": "code",
   "execution_count": 12,
   "id": "0d3e43a4-bfcd-4f99-b251-5bc00cabd909",
   "metadata": {},
   "outputs": [
    {
     "data": {
      "text/html": [
       "\n",
       "            <div>\n",
       "                <p><b>SparkSession - in-memory</b></p>\n",
       "                \n",
       "        <div>\n",
       "            <p><b>SparkContext</b></p>\n",
       "\n",
       "            <p><a href=\"http://ip-172-31-3-9.ap-northeast-3.compute.internal:4040\">Spark UI</a></p>\n",
       "\n",
       "            <dl>\n",
       "              <dt>Version</dt>\n",
       "                <dd><code>v3.1.2</code></dd>\n",
       "              <dt>Master</dt>\n",
       "                <dd><code>local[*]</code></dd>\n",
       "              <dt>AppName</dt>\n",
       "                <dd><code>SparkSQL</code></dd>\n",
       "            </dl>\n",
       "        </div>\n",
       "        \n",
       "            </div>\n",
       "        "
      ],
      "text/plain": [
       "<pyspark.sql.session.SparkSession at 0x7f3f303b77c0>"
      ]
     },
     "execution_count": 12,
     "metadata": {},
     "output_type": "execute_result"
    }
   ],
   "source": [
    "ss = SparkSession.builder.appName('SparkSQL').getOrCreate()\n",
    "ss"
   ]
  },
  {
   "cell_type": "code",
   "execution_count": 13,
   "id": "856f8de3-cd78-4e8a-a592-e9f90b81987f",
   "metadata": {},
   "outputs": [
    {
     "name": "stderr",
     "output_type": "stream",
     "text": [
      "                                                                                \r"
     ]
    }
   ],
   "source": [
    "df = ss.read.csv('data/fhvhv_tripdata_2020-03.csv', inferSchema = True, header = True)\n",
    "\n",
    "df.createOrReplaceTempView('mobility_data')"
   ]
  },
  {
   "cell_type": "markdown",
   "id": "c8fc3aa4-b31b-4eb9-b65d-bcc31c02a352",
   "metadata": {},
   "source": [
    "### 서브쿼리\n",
    "두번 나누어 실행하는 두 개의 쿼리를 하나로 합치는 방법으로 사용하는 것이 서브쿼리  \n",
    "때론, 성능 문제를 일으킬 수 있다\n",
    "\n",
    "- 다중행(from)\n",
    "- 단일행(=) 연산자와 같이 쓴다\n"
   ]
  },
  {
   "cell_type": "code",
   "execution_count": 14,
   "id": "f164cfdf-a82a-41b8-b455-278cc8829e63",
   "metadata": {},
   "outputs": [
    {
     "name": "stdout",
     "output_type": "stream",
     "text": [
      "+-----------------+--------------------+-------------------+-------------------+------------+------------+-------+\n",
      "|hvfhs_license_num|dispatching_base_num|    pickup_datetime|   dropoff_datetime|PULocationID|DOLocationID|SR_Flag|\n",
      "+-----------------+--------------------+-------------------+-------------------+------------+------------+-------+\n",
      "|           HV0005|              B02510|2020-03-01 00:03:40|2020-03-01 00:23:39|          81|         159|   null|\n",
      "|           HV0005|              B02510|2020-03-01 00:28:05|2020-03-01 00:38:57|         168|         119|   null|\n",
      "|           HV0003|              B02764|2020-03-01 00:03:07|2020-03-01 00:15:04|         137|         209|      1|\n",
      "|           HV0003|              B02764|2020-03-01 00:18:42|2020-03-01 00:38:42|         209|          80|   null|\n",
      "|           HV0003|              B02764|2020-03-01 00:44:24|2020-03-01 00:58:44|         256|         226|   null|\n",
      "+-----------------+--------------------+-------------------+-------------------+------------+------------+-------+\n",
      "\n"
     ]
    }
   ],
   "source": [
    "ss.sql('''\n",
    "    SELECT\n",
    "        *\n",
    "    FROM mobility_data\n",
    "    LIMIT 5;\n",
    "''').show()"
   ]
  },
  {
   "cell_type": "code",
   "execution_count": 15,
   "id": "9f277aa1-1719-40ec-a243-c4de5277c958",
   "metadata": {},
   "outputs": [
    {
     "name": "stderr",
     "output_type": "stream",
     "text": [
      "                                                                                \r"
     ]
    },
    {
     "name": "stdout",
     "output_type": "stream",
     "text": [
      "+-----------+------+\n",
      "|pickup_date| trips|\n",
      "+-----------+------+\n",
      "| 2020-03-16|391518|\n",
      "| 2020-03-03|697880|\n",
      "| 2020-03-06|872012|\n",
      "| 2020-03-26|141607|\n",
      "| 2020-03-05|731165|\n",
      "| 2020-03-02|648986|\n",
      "| 2020-03-25|141088|\n",
      "| 2020-03-20|261900|\n",
      "| 2020-03-24|141686|\n",
      "| 2020-03-04|707879|\n",
      "| 2020-03-10|626474|\n",
      "| 2020-03-12|643257|\n",
      "| 2020-03-11|628601|\n",
      "| 2020-03-13|660914|\n",
      "| 2020-03-27|159339|\n",
      "| 2020-03-22|162165|\n",
      "| 2020-03-28|138456|\n",
      "| 2020-03-01|784246|\n",
      "| 2020-03-19|252773|\n",
      "| 2020-03-09|628940|\n",
      "+-----------+------+\n",
      "only showing top 20 rows\n",
      "\n"
     ]
    }
   ],
   "source": [
    "ss.sql('''\n",
    "    SELECT\n",
    "        SPLIT(pickup_datetime, ' ')[0] as pickup_date\n",
    "    , COUNT(*) as trips\n",
    "    \n",
    "    FROM mobility_data\n",
    "    \n",
    "    GROUP BY pickup_date\n",
    "\n",
    "\n",
    "'''\n",
    ").show()"
   ]
  },
  {
   "cell_type": "code",
   "execution_count": 18,
   "id": "af29f51d-a0d7-4934-afb1-394ab9abfd33",
   "metadata": {},
   "outputs": [
    {
     "name": "stdout",
     "output_type": "stream",
     "text": [
      "== Parsed Logical Plan ==\n",
      "'Aggregate ['pickup_date], ['SPLIT('pickup_datetime,  )[0] AS pickup_date#271, 'COUNT(1) AS trips#272]\n",
      "+- 'UnresolvedRelation [mobility_data], [], false\n",
      "\n",
      "== Analyzed Logical Plan ==\n",
      "pickup_date: string, trips: bigint\n",
      "Aggregate [split(pickup_datetime#173,  , -1)[0]], [split(pickup_datetime#173,  , -1)[0] AS pickup_date#271, count(1) AS trips#272L]\n",
      "+- SubqueryAlias mobility_data\n",
      "   +- Relation[hvfhs_license_num#171,dispatching_base_num#172,pickup_datetime#173,dropoff_datetime#174,PULocationID#175,DOLocationID#176,SR_Flag#177] csv\n",
      "\n",
      "== Optimized Logical Plan ==\n",
      "Aggregate [split(pickup_datetime#173,  , -1)[0]], [split(pickup_datetime#173,  , -1)[0] AS pickup_date#271, count(1) AS trips#272L]\n",
      "+- Project [pickup_datetime#173]\n",
      "   +- Relation[hvfhs_license_num#171,dispatching_base_num#172,pickup_datetime#173,dropoff_datetime#174,PULocationID#175,DOLocationID#176,SR_Flag#177] csv\n",
      "\n",
      "== Physical Plan ==\n",
      "*(2) HashAggregate(keys=[split(pickup_datetime#173,  , -1)[0]#276], functions=[count(1)], output=[pickup_date#271, trips#272L])\n",
      "+- Exchange hashpartitioning(split(pickup_datetime#173,  , -1)[0]#276, 200), ENSURE_REQUIREMENTS, [id=#271]\n",
      "   +- *(1) HashAggregate(keys=[split(pickup_datetime#173,  , -1)[0] AS split(pickup_datetime#173,  , -1)[0]#276], functions=[partial_count(1)], output=[split(pickup_datetime#173,  , -1)[0]#276, count#278L])\n",
      "      +- FileScan csv [pickup_datetime#173] Batched: false, DataFilters: [], Format: CSV, Location: InMemoryFileIndex[file:/home/lab17/git/src/data/fhvhv_tripdata_2020-03.csv], PartitionFilters: [], PushedFilters: [], ReadSchema: struct<pickup_datetime:string>\n",
      "\n"
     ]
    }
   ],
   "source": [
    "ss.sql('''\n",
    "    SELECT\n",
    "        SPLIT(pickup_datetime, ' ')[0] as pickup_date\n",
    "    , COUNT(*) as trips\n",
    "    \n",
    "    FROM mobility_data\n",
    "    \n",
    "    GROUP BY pickup_date\n",
    "\n",
    "\n",
    "'''\n",
    ").explain(True) #True 주면 논리 계획도 같이 제공함"
   ]
  },
  {
   "cell_type": "code",
   "execution_count": 16,
   "id": "5e041832-b30c-4186-9c4a-846133adff0d",
   "metadata": {},
   "outputs": [
    {
     "name": "stderr",
     "output_type": "stream",
     "text": [
      "                                                                                \r"
     ]
    },
    {
     "name": "stdout",
     "output_type": "stream",
     "text": [
      "+-----------+------+\n",
      "|pickup_date| trips|\n",
      "+-----------+------+\n",
      "| 2020-03-16|391518|\n",
      "| 2020-03-03|697880|\n",
      "| 2020-03-06|872012|\n",
      "| 2020-03-26|141607|\n",
      "| 2020-03-05|731165|\n",
      "| 2020-03-02|648986|\n",
      "| 2020-03-25|141088|\n",
      "| 2020-03-20|261900|\n",
      "| 2020-03-24|141686|\n",
      "| 2020-03-04|707879|\n",
      "| 2020-03-10|626474|\n",
      "| 2020-03-12|643257|\n",
      "| 2020-03-11|628601|\n",
      "| 2020-03-13|660914|\n",
      "| 2020-03-27|159339|\n",
      "| 2020-03-22|162165|\n",
      "| 2020-03-28|138456|\n",
      "| 2020-03-01|784246|\n",
      "| 2020-03-19|252773|\n",
      "| 2020-03-09|628940|\n",
      "+-----------+------+\n",
      "only showing top 20 rows\n",
      "\n"
     ]
    }
   ],
   "source": [
    "ss.sql('''\n",
    "    SELECT \n",
    "        pickup_date, \n",
    "        COUNT(*) AS trips\n",
    "    FROM\n",
    "        (\n",
    "        SELECT\n",
    "            SPLIT(pickup_datetime, ' ')[0] as pickup_date\n",
    "        \n",
    "        FROM mobility_data\n",
    "        )\n",
    "\n",
    "    GROUP BY pickup_date\n",
    "''').show()"
   ]
  },
  {
   "cell_type": "code",
   "execution_count": 19,
   "id": "9849abb7-e256-45f9-a35e-5b40f335608f",
   "metadata": {},
   "outputs": [
    {
     "name": "stdout",
     "output_type": "stream",
     "text": [
      "== Parsed Logical Plan ==\n",
      "'Aggregate ['pickup_date], ['pickup_date, 'COUNT(1) AS trips#280]\n",
      "+- 'SubqueryAlias __auto_generated_subquery_name\n",
      "   +- 'Project ['SPLIT('pickup_datetime,  )[0] AS pickup_date#279]\n",
      "      +- 'UnresolvedRelation [mobility_data], [], false\n",
      "\n",
      "== Analyzed Logical Plan ==\n",
      "pickup_date: string, trips: bigint\n",
      "Aggregate [pickup_date#279], [pickup_date#279, count(1) AS trips#280L]\n",
      "+- SubqueryAlias __auto_generated_subquery_name\n",
      "   +- Project [split(pickup_datetime#173,  , -1)[0] AS pickup_date#279]\n",
      "      +- SubqueryAlias mobility_data\n",
      "         +- Relation[hvfhs_license_num#171,dispatching_base_num#172,pickup_datetime#173,dropoff_datetime#174,PULocationID#175,DOLocationID#176,SR_Flag#177] csv\n",
      "\n",
      "== Optimized Logical Plan ==\n",
      "Aggregate [pickup_date#279], [pickup_date#279, count(1) AS trips#280L]\n",
      "+- Project [split(pickup_datetime#173,  , -1)[0] AS pickup_date#279]\n",
      "   +- Relation[hvfhs_license_num#171,dispatching_base_num#172,pickup_datetime#173,dropoff_datetime#174,PULocationID#175,DOLocationID#176,SR_Flag#177] csv\n",
      "\n",
      "== Physical Plan ==\n",
      "*(2) HashAggregate(keys=[pickup_date#279], functions=[count(1)], output=[pickup_date#279, trips#280L])\n",
      "+- Exchange hashpartitioning(pickup_date#279, 200), ENSURE_REQUIREMENTS, [id=#293]\n",
      "   +- *(1) HashAggregate(keys=[pickup_date#279], functions=[partial_count(1)], output=[pickup_date#279, count#285L])\n",
      "      +- *(1) Project [split(pickup_datetime#173,  , -1)[0] AS pickup_date#279]\n",
      "         +- FileScan csv [pickup_datetime#173] Batched: false, DataFilters: [], Format: CSV, Location: InMemoryFileIndex[file:/home/lab17/git/src/data/fhvhv_tripdata_2020-03.csv], PartitionFilters: [], PushedFilters: [], ReadSchema: struct<pickup_datetime:string>\n",
      "\n"
     ]
    }
   ],
   "source": [
    "ss.sql('''\n",
    "    SELECT \n",
    "        pickup_date, \n",
    "        COUNT(*) AS trips\n",
    "    FROM\n",
    "        (\n",
    "        SELECT\n",
    "            SPLIT(pickup_datetime, ' ')[0] as pickup_date\n",
    "        \n",
    "        FROM mobility_data\n",
    "        )\n",
    "\n",
    "    GROUP BY pickup_date\n",
    "''').explain(True)"
   ]
  },
  {
   "cell_type": "markdown",
   "id": "dbd9d996-a344-425c-8d4f-fec36d2004a7",
   "metadata": {},
   "source": [
    "## 결론 및 책에서 하고자 하는 말\n",
    "Spark.sql의 카탈리스트 최적화 엔진에 의해, 물리적으로 최적의 실행계획이 만들어짐  \n",
    "실제로, 바이트코드로 변환해서 실행하게 됨  \n",
    "  \n",
    "그럼에도 불구하고, GPT를 사용하는 것 처럼, 사람이 최적의 코드를 고민하고 개선시켜 나아가야할 줄 알아야함"
   ]
  },
  {
   "cell_type": "code",
   "execution_count": 20,
   "id": "37ded351-b492-4e56-8407-33a2a3f389d7",
   "metadata": {},
   "outputs": [],
   "source": [
    "ss.stop()"
   ]
  }
 ],
 "metadata": {
  "kernelspec": {
   "display_name": "Python (spark_start)",
   "language": "python",
   "name": "spark_start"
  },
  "language_info": {
   "codemirror_mode": {
    "name": "ipython",
    "version": 3
   },
   "file_extension": ".py",
   "mimetype": "text/x-python",
   "name": "python",
   "nbconvert_exporter": "python",
   "pygments_lexer": "ipython3",
   "version": "3.8.20"
  }
 },
 "nbformat": 4,
 "nbformat_minor": 5
}
