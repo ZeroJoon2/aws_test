{
 "cells": [
  {
   "cell_type": "code",
   "execution_count": 4,
   "id": "b6cd6a66-f04b-4560-bc97-2b435d0311da",
   "metadata": {},
   "outputs": [],
   "source": [
    "from kafka import KafkaProducer"
   ]
  },
  {
   "cell_type": "code",
   "execution_count": 10,
   "id": "c3304fb9-bab6-4b58-a2c2-09e33f8ca437",
   "metadata": {},
   "outputs": [],
   "source": [
    "topic = 'kafka-test'\n",
    "kafka_server ='localhost:9092'"
   ]
  },
  {
   "cell_type": "code",
   "execution_count": 13,
   "id": "e87d5318-a181-4cc1-bda3-029ba9e7d2fa",
   "metadata": {},
   "outputs": [
    {
     "name": "stdout",
     "output_type": "stream",
     "text": [
      "Sent: Message 0\n",
      "Sent: Message 1\n",
      "Sent: Message 2\n",
      "Sent: Message 3\n",
      "Sent: Message 4\n"
     ]
    }
   ],
   "source": [
    "# Kafka Producer 생성\n",
    "producer = KafkaProducer(\n",
    "    bootstrap_servers=kafka_server,  # Kafka 서버 주소\n",
    "    value_serializer=lambda v: v.encode('utf-8')  # 메시지 직렬화\n",
    ")\n",
    "\n",
    "# 토픽명\n",
    "\n",
    "\n",
    "# 메시지 전송\n",
    "for i in range(5):\n",
    "    message = f\"Message {i}\"\n",
    "    producer.send(topic, value=message)\n",
    "    print(f\"Sent: {message}\")\n",
    "\n",
    "# Producer 종료\n",
    "producer.close()\n"
   ]
  },
  {
   "cell_type": "code",
   "execution_count": 14,
   "id": "c0d10a33-ee82-49de-95ea-ade97d9c7760",
   "metadata": {},
   "outputs": [
    {
     "name": "stdout",
     "output_type": "stream",
     "text": [
      "Kafka Consumer 시작. 메시지 대기 중...\n",
      "Received message: Key=None, Value=Message 0\n",
      "Received message: Key=None, Value=Message 1\n",
      "Received message: Key=None, Value=Message 2\n",
      "Received message: Key=None, Value=Message 3\n",
      "Received message: Key=None, Value=Message 4\n",
      "Received message: Key=None, Value=?\n",
      "Consumer 종료.\n"
     ]
    }
   ],
   "source": [
    "from kafka import KafkaConsumer\n",
    "\n",
    "# Kafka Consumer 생성\n",
    "consumer = KafkaConsumer(\n",
    "    topic,  # 구독할 토픽 이름\n",
    "    bootstrap_servers= kafka_server,  # Kafka 서버 주소\n",
    "    group_id='test-group',  # 컨슈머 그룹 ID\n",
    "    auto_offset_reset='earliest',  # 메시지를 처음부터 읽기\n",
    "    enable_auto_commit=True,  # 자동 커밋 활성화\n",
    "    value_deserializer=lambda x: x.decode('utf-8')  # 메시지 디코딩\n",
    ")\n",
    "\n",
    "print(\"Kafka Consumer 시작. 메시지 대기 중...\")\n",
    "\n",
    "try:\n",
    "    for message in consumer:\n",
    "        print(f\"Received message: Key={message.key}, Value={message.value}\")\n",
    "except KeyboardInterrupt:\n",
    "    print(\"Consumer 종료.\")\n",
    "finally:\n",
    "    consumer.close()\n"
   ]
  }
 ],
 "metadata": {
  "kernelspec": {
   "display_name": "Python (spark_start)",
   "language": "python",
   "name": "spark_start"
  },
  "language_info": {
   "codemirror_mode": {
    "name": "ipython",
    "version": 3
   },
   "file_extension": ".py",
   "mimetype": "text/x-python",
   "name": "python",
   "nbconvert_exporter": "python",
   "pygments_lexer": "ipython3",
   "version": "3.8.20"
  }
 },
 "nbformat": 4,
 "nbformat_minor": 5
}
