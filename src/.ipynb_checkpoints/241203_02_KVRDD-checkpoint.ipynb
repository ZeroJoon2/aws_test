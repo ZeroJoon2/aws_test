{
 "cells": [
  {
   "cell_type": "code",
   "execution_count": 1,
   "id": "0992a562",
   "metadata": {},
   "outputs": [],
   "source": [
    "from pyspark import SparkConf, SparkContext\n",
    "conf = SparkConf().setMaster('local').setAppName('restaurant-review-average')"
   ]
  },
  {
   "cell_type": "code",
   "execution_count": 3,
   "id": "9af6b898",
   "metadata": {},
   "outputs": [
    {
     "name": "stderr",
     "output_type": "stream",
     "text": [
      "24/12/03 14:29:07 WARN NativeCodeLoader: Unable to load native-hadoop library for your platform... using builtin-java classes where applicable\n",
      "Using Spark's default log4j profile: org/apache/spark/log4j-defaults.properties\n",
      "Setting default log level to \"WARN\".\n",
      "To adjust logging level use sc.setLogLevel(newLevel). For SparkR, use setLogLevel(newLevel).\n"
     ]
    }
   ],
   "source": [
    "spark = SparkContext(conf=conf).getOrCreate()"
   ]
  },
  {
   "cell_type": "code",
   "execution_count": 4,
   "id": "e7fb1cc0",
   "metadata": {},
   "outputs": [],
   "source": [
    "# 나중에 항상 stop은 챙기기\n",
    "# spark.stop()"
   ]
  },
  {
   "cell_type": "code",
   "execution_count": 5,
   "id": "207d939e",
   "metadata": {},
   "outputs": [],
   "source": [
    "import os"
   ]
  },
  {
   "cell_type": "code",
   "execution_count": 72,
   "id": "8981fce8",
   "metadata": {},
   "outputs": [],
   "source": [
    "#directory = ''\n",
    "directory = os.path.join(os.getcwd(), 'data')\n",
    "file_name = 'restaurant_reviews.csv'\n",
    "file_path = os.path.join(directory, file_name)"
   ]
  },
  {
   "cell_type": "code",
   "execution_count": 73,
   "id": "ba4fd4f5",
   "metadata": {},
   "outputs": [
    {
     "data": {
      "text/plain": [
       "file:////home/lab17/git/src/data/restaurant_reviews.csv MapPartitionsRDD[72] at textFile at NativeMethodAccessorImpl.java:0"
      ]
     },
     "execution_count": 73,
     "metadata": {},
     "output_type": "execute_result"
    }
   ],
   "source": [
    "lines = spark.textFile('file:///' + file_path.replace('\\\\','/'))\n",
    "lines"
   ]
  },
  {
   "cell_type": "code",
   "execution_count": 81,
   "id": "a862215e",
   "metadata": {},
   "outputs": [
    {
     "data": {
      "text/plain": [
       "['id,item,cateogry,reviews,',\n",
       " '0,짜장면,중식,125,',\n",
       " '1,짬뽕,중식,235,',\n",
       " '2,김밥,분식,32,',\n",
       " '3,떡볶이,분식,534,']"
      ]
     },
     "execution_count": 81,
     "metadata": {},
     "output_type": "execute_result"
    }
   ],
   "source": [
    "lines.take(5)"
   ]
  },
  {
   "cell_type": "code",
   "execution_count": 82,
   "id": "00c408b6",
   "metadata": {},
   "outputs": [
    {
     "data": {
      "text/plain": [
       "'id,item,cateogry,reviews,'"
      ]
     },
     "execution_count": 82,
     "metadata": {},
     "output_type": "execute_result"
    }
   ],
   "source": [
    "header = lines.first()\n",
    "header"
   ]
  },
  {
   "cell_type": "code",
   "execution_count": 83,
   "id": "403d827a",
   "metadata": {},
   "outputs": [
    {
     "data": {
      "text/plain": [
       "PythonRDD[81] at RDD at PythonRDD.scala:53"
      ]
     },
     "execution_count": 83,
     "metadata": {},
     "output_type": "execute_result"
    }
   ],
   "source": [
    "datas = lines.filter(lambda r : r != header)\n",
    "datas"
   ]
  },
  {
   "cell_type": "code",
   "execution_count": 27,
   "id": "e995cf9f",
   "metadata": {},
   "outputs": [
    {
     "data": {
      "text/plain": [
       "defaultdict(int,\n",
       "            {'0': 1,\n",
       "             '1': 1,\n",
       "             '2': 1,\n",
       "             '3': 1,\n",
       "             '4': 1,\n",
       "             '5': 1,\n",
       "             '6': 1,\n",
       "             '7': 1,\n",
       "             '8': 1,\n",
       "             '9': 1})"
      ]
     },
     "execution_count": 27,
     "metadata": {},
     "output_type": "execute_result"
    }
   ],
   "source": [
    "index_file = datas.map(lambda r: r.split(',')[0])\n",
    "\n",
    "index_file.collect()[:2]\n",
    "index_file.countByValue()"
   ]
  },
  {
   "cell_type": "code",
   "execution_count": 89,
   "id": "c23783d0",
   "metadata": {},
   "outputs": [
    {
     "data": {
      "text/plain": [
       "['0,짜장면,중식,125,',\n",
       " '1,짬뽕,중식,235,',\n",
       " '2,김밥,분식,32,',\n",
       " '3,떡볶이,분식,534,',\n",
       " '4,라멘,일식,223,']"
      ]
     },
     "execution_count": 89,
     "metadata": {},
     "output_type": "execute_result"
    }
   ],
   "source": [
    "datas.take(5)"
   ]
  },
  {
   "cell_type": "markdown",
   "id": "2cd973fe",
   "metadata": {},
   "source": [
    "### 수업 내용"
   ]
  },
  {
   "cell_type": "code",
   "execution_count": 29,
   "id": "feda5335",
   "metadata": {},
   "outputs": [],
   "source": [
    "def parse(row):\n",
    "    fields = row.split(',')\n",
    "    category = fields[2]\n",
    "    reviews = int(fields[3])\n",
    "    \n",
    "    return category, reviews"
   ]
  },
  {
   "cell_type": "code",
   "execution_count": 84,
   "id": "4b0b9cc7",
   "metadata": {},
   "outputs": [
    {
     "data": {
      "text/plain": [
       "('중식', 125)"
      ]
     },
     "execution_count": 84,
     "metadata": {},
     "output_type": "execute_result"
    }
   ],
   "source": [
    "parse('0,짜장면,중식,125,')"
   ]
  },
  {
   "cell_type": "markdown",
   "id": "648e88ac",
   "metadata": {},
   "source": [
    "### RDD 내 모든 row에 대해서 parse()를 적용 + map() 추출\n",
    "  \n",
    "기본적으로는 RDD로 하지만, 2개의 컬럼을 가지는 데이터 형식으로 처리하곤함(KVRDD)  \n",
    "  \n",
    "KVRDD = Key-Value RDD"
   ]
  },
  {
   "cell_type": "code",
   "execution_count": 91,
   "id": "10a6e36d",
   "metadata": {},
   "outputs": [
    {
     "data": {
      "text/plain": [
       "[('중식', 125), ('중식', 235), ('분식', 32), ('분식', 534), ('일식', 223)]"
      ]
     },
     "execution_count": 91,
     "metadata": {},
     "output_type": "execute_result"
    }
   ],
   "source": [
    "category_reviews = datas.map(parse)\n",
    "category_reviews.take(5)"
   ]
  },
  {
   "cell_type": "code",
   "execution_count": 92,
   "id": "cf3ab804",
   "metadata": {},
   "outputs": [
    {
     "data": {
      "text/plain": [
       "defaultdict(int,\n",
       "            {('중식', 125): 1,\n",
       "             ('중식', 235): 1,\n",
       "             ('분식', 32): 1,\n",
       "             ('분식', 534): 1,\n",
       "             ('일식', 223): 1,\n",
       "             ('일식', 52): 1,\n",
       "             ('일식', 12): 1,\n",
       "             ('아시안', 312): 1,\n",
       "             ('패스트푸드', 12): 1,\n",
       "             ('패스트푸드', 23): 15})"
      ]
     },
     "execution_count": 92,
     "metadata": {},
     "output_type": "execute_result"
    }
   ],
   "source": [
    "category_reviews.countByValue()"
   ]
  },
  {
   "cell_type": "code",
   "execution_count": 94,
   "id": "92c0eb4f",
   "metadata": {},
   "outputs": [
    {
     "data": {
      "text/plain": [
       "[('중식', (125, 1)), ('중식', (235, 1)), ('분식', (32, 1))]"
      ]
     },
     "execution_count": 94,
     "metadata": {},
     "output_type": "execute_result"
    }
   ],
   "source": [
    "category_review_count = category_reviews.mapValues(lambda x : (x, 1))\n",
    "category_review_count.take(3)"
   ]
  },
  {
   "cell_type": "markdown",
   "id": "b9065aff",
   "metadata": {},
   "source": [
    "'중식' (125,1)    \n",
    "첫번째 중식 > (125,1) > x  \n",
    "두번째 중식 > (235,1) > y  \n",
    "리뷰의 개수의 합 = x[0] + y[0] = 360  \n",
    "건수의 합 = x[1] + y[1]  \n",
    "  \n",
    "라는 로직을 진행할거임"
   ]
  },
  {
   "cell_type": "code",
   "execution_count": 95,
   "id": "e29c41e8",
   "metadata": {},
   "outputs": [
    {
     "data": {
      "text/plain": [
       "[('중식', (360, 2)), ('분식', (566, 2)), ('일식', (287, 3))]"
      ]
     },
     "execution_count": 95,
     "metadata": {},
     "output_type": "execute_result"
    }
   ],
   "source": [
    "#카테고리별 합계를 구하기\n",
    "#reduce = 합계를 구함\n",
    "reduce_rdd = category_review_count.reduceByKey(lambda x, y : (x[0]+y[0], x[1]+y[1]))\n",
    "reduce_rdd.take(3)"
   ]
  },
  {
   "cell_type": "code",
   "execution_count": 96,
   "id": "2692d6ce",
   "metadata": {},
   "outputs": [
    {
     "data": {
      "text/plain": [
       "[('중식', (360, 2)),\n",
       " ('분식', (566, 2)),\n",
       " ('일식', (287, 3)),\n",
       " ('아시안', (312, 1)),\n",
       " ('패스트푸드', (357, 16))]"
      ]
     },
     "execution_count": 96,
     "metadata": {},
     "output_type": "execute_result"
    }
   ],
   "source": [
    "#전체 보기\n",
    "reduce_rdd.collect()"
   ]
  },
  {
   "cell_type": "code",
   "execution_count": 97,
   "id": "05152637",
   "metadata": {},
   "outputs": [
    {
     "data": {
      "text/plain": [
       "[('중식', 180.0),\n",
       " ('분식', 283.0),\n",
       " ('일식', 95.66666666666667),\n",
       " ('아시안', 312.0),\n",
       " ('패스트푸드', 22.3125)]"
      ]
     },
     "execution_count": 97,
     "metadata": {},
     "output_type": "execute_result"
    }
   ],
   "source": [
    "# 평균구하기\n",
    "average = reduce_rdd.mapValues(lambda x : x[0] / x[1])\n",
    "average.take(3)"
   ]
  },
  {
   "cell_type": "code",
   "execution_count": 62,
   "id": "8e3ee786",
   "metadata": {},
   "outputs": [
    {
     "data": {
      "text/plain": [
       "[('중식', 180.0),\n",
       " ('분식', 283.0),\n",
       " ('일식', 95.66666666666667),\n",
       " ('아시안', 312.0),\n",
       " ('패스트푸드', 17.5)]"
      ]
     },
     "execution_count": 62,
     "metadata": {},
     "output_type": "execute_result"
    }
   ],
   "source": [
    "average.collect()"
   ]
  },
  {
   "cell_type": "markdown",
   "id": "b9601298",
   "metadata": {},
   "source": [
    "# 데이터 추가해서 메뉴별 합계와 평균을 구하기"
   ]
  },
  {
   "attachments": {
    "image.png": {
     "image/png": "[encoded data removed]"
    }
   },
   "cell_type": "markdown",
   "id": "3ae8dd82",
   "metadata": {},
   "source": [
    "![image.png](attachment:image.png)\n",
    "\n",
    "### 그냥 csv에 값을 추가해서 data 정의부터 다시 돌림"
   ]
  },
  {
   "cell_type": "code",
   "execution_count": null,
   "id": "00fb47be",
   "metadata": {},
   "outputs": [],
   "source": []
  },
  {
   "cell_type": "code",
   "execution_count": null,
   "id": "37fe51ac",
   "metadata": {},
   "outputs": [],
   "source": []
  }
 ],
 "metadata": {
  "kernelspec": {
   "display_name": "Python (spark_start)",
   "language": "python",
   "name": "spark_start"
  },
  "language_info": {
   "codemirror_mode": {
    "name": "ipython",
    "version": 3
   },
   "file_extension": ".py",
   "mimetype": "text/x-python",
   "name": "python",
   "nbconvert_exporter": "python",
   "pygments_lexer": "ipython3",
   "version": "3.8.20"
  }
 },
 "nbformat": 4,
 "nbformat_minor": 5
}
