{
 "cells": [
  {
   "cell_type": "markdown",
   "id": "f626689b",
   "metadata": {},
   "source": [
    "###### 데이터\n",
    "xAPI-Edu-Data.csv\n",
    "\n",
    "###### AppName\n",
    "country-student-counts"
   ]
  },
  {
   "cell_type": "code",
   "execution_count": 1,
   "id": "d8a4cc79",
   "metadata": {},
   "outputs": [
    {
     "name": "stdout",
     "output_type": "stream",
     "text": [
      "Collecting findspark\n",
      "  Downloading findspark-2.0.1-py2.py3-none-any.whl.metadata (352 bytes)\n",
      "Downloading findspark-2.0.1-py2.py3-none-any.whl (4.4 kB)\n",
      "Installing collected packages: findspark\n",
      "Successfully installed findspark-2.0.1\n"
     ]
    }
   ],
   "source": [
    "!pip install findspark"
   ]
  },
  {
   "cell_type": "code",
   "execution_count": 1,
   "id": "66907d21",
   "metadata": {},
   "outputs": [],
   "source": [
    "from pyspark import SparkConf, SparkContext\n",
    "\n",
    "# 스파크 환경 설정 객체 생성\n",
    "conf = SparkConf().setMaster('local').setAppName('country-student-counts')"
   ]
  },
  {
   "cell_type": "code",
   "execution_count": 2,
   "id": "6feeac1c",
   "metadata": {},
   "outputs": [
    {
     "name": "stderr",
     "output_type": "stream",
     "text": [
      "24/12/03 13:31:21 WARN NativeCodeLoader: Unable to load native-hadoop library for your platform... using builtin-java classes where applicable\n",
      "Using Spark's default log4j profile: org/apache/spark/log4j-defaults.properties\n",
      "Setting default log level to \"WARN\".\n",
      "To adjust logging level use sc.setLogLevel(newLevel). For SparkR, use setLogLevel(newLevel).\n"
     ]
    }
   ],
   "source": [
    "spark = SparkContext(conf = conf)"
   ]
  },
  {
   "cell_type": "code",
   "execution_count": 3,
   "id": "15903eb8",
   "metadata": {},
   "outputs": [],
   "source": [
    "import os"
   ]
  },
  {
   "cell_type": "code",
   "execution_count": 12,
   "id": "ff50afa0",
   "metadata": {},
   "outputs": [
    {
     "data": {
      "text/plain": [
       "'/home/lab17/git/src/data/xAPI-Edu-Data.csv'"
      ]
     },
     "execution_count": 12,
     "metadata": {},
     "output_type": "execute_result"
    }
   ],
   "source": [
    "directory = os.path.join(os.path.join(os.getcwd()), 'data')\n",
    "file_name = 'xAPI-Edu-Data.csv'\n",
    "\n",
    "file_path = os.path.join(directory, file_name)\n",
    "file_path"
   ]
  },
  {
   "cell_type": "code",
   "execution_count": 13,
   "id": "c87056de",
   "metadata": {},
   "outputs": [
    {
     "data": {
      "text/plain": [
       "file:////home/lab17/git/src/data/xAPI-Edu-Data.csv MapPartitionsRDD[1] at textFile at NativeMethodAccessorImpl.java:0"
      ]
     },
     "execution_count": 13,
     "metadata": {},
     "output_type": "execute_result"
    }
   ],
   "source": [
    "# RDD가 생성됨\n",
    "lines = spark.textFile('file:///'+file_path.replace('\\\\','/'))\n",
    "lines"
   ]
  },
  {
   "cell_type": "code",
   "execution_count": 15,
   "id": "286fcb54",
   "metadata": {},
   "outputs": [
    {
     "data": {
      "text/plain": [
       "['gender,NationalITy,PlaceofBirth,StageID,GradeID,SectionID,Topic,Semester,Relation,raisedhands,VisITedResources,AnnouncementsView,Discussion,ParentAnsweringSurvey,ParentschoolSatisfaction,StudentAbsenceDays,Class',\n",
       " 'M,KW,KuwaIT,lowerlevel,G-04,A,IT,F,Father,15,16,2,20,Yes,Good,Under-7,M',\n",
       " 'M,KW,KuwaIT,lowerlevel,G-04,A,IT,F,Father,20,20,3,25,Yes,Good,Under-7,M',\n",
       " 'M,KW,KuwaIT,lowerlevel,G-04,A,IT,F,Father,10,7,0,30,No,Bad,Above-7,L',\n",
       " 'M,KW,KuwaIT,lowerlevel,G-04,A,IT,F,Father,30,25,5,35,No,Bad,Above-7,L']"
      ]
     },
     "execution_count": 15,
     "metadata": {},
     "output_type": "execute_result"
    }
   ],
   "source": [
    "# 5개 뽑아봄\n",
    "lines.take(5)"
   ]
  },
  {
   "cell_type": "code",
   "execution_count": 16,
   "id": "9bdde32d",
   "metadata": {},
   "outputs": [
    {
     "data": {
      "text/plain": [
       "'gender,NationalITy,PlaceofBirth,StageID,GradeID,SectionID,Topic,Semester,Relation,raisedhands,VisITedResources,AnnouncementsView,Discussion,ParentAnsweringSurvey,ParentschoolSatisfaction,StudentAbsenceDays,Class'"
      ]
     },
     "execution_count": 16,
     "metadata": {},
     "output_type": "execute_result"
    }
   ],
   "source": [
    "header = lines.first()\n",
    "header"
   ]
  },
  {
   "cell_type": "code",
   "execution_count": 19,
   "id": "e45d547c",
   "metadata": {},
   "outputs": [
    {
     "data": {
      "text/plain": [
       "PythonRDD[5] at RDD at PythonRDD.scala:53"
      ]
     },
     "execution_count": 19,
     "metadata": {},
     "output_type": "execute_result"
    }
   ],
   "source": [
    "#헤더가 아닌 row만 가져옴\n",
    "datas = lines.filter(lambda r : r !=header)\n",
    "datas"
   ]
  },
  {
   "cell_type": "code",
   "execution_count": 27,
   "id": "51f58889",
   "metadata": {},
   "outputs": [
    {
     "data": {
      "text/plain": [
       "PythonRDD[8] at RDD at PythonRDD.scala:53"
      ]
     },
     "execution_count": 27,
     "metadata": {},
     "output_type": "execute_result"
    }
   ],
   "source": [
    "#map을 통해 조각난 데이터를 rdd로 만들어줌\n",
    "countries = datas.map(lambda r : r.split(',')[2]) #2는 3번째 컬럼 인덱싱\n",
    "countries"
   ]
  },
  {
   "cell_type": "code",
   "execution_count": 29,
   "id": "631b392d",
   "metadata": {},
   "outputs": [
    {
     "data": {
      "text/plain": [
       "['KuwaIT', 'KuwaIT', 'KuwaIT']"
      ]
     },
     "execution_count": 29,
     "metadata": {},
     "output_type": "execute_result"
    }
   ],
   "source": [
    "#메모리로 모두 데이터를 가져옴\n",
    "countries.collect()[:3] #슬라이싱 가능"
   ]
  },
  {
   "cell_type": "code",
   "execution_count": 30,
   "id": "2445f984",
   "metadata": {},
   "outputs": [
    {
     "data": {
      "text/plain": [
       "defaultdict(int,\n",
       "            {'KuwaIT': 180,\n",
       "             'lebanon': 19,\n",
       "             'Egypt': 9,\n",
       "             'SaudiArabia': 16,\n",
       "             'USA': 16,\n",
       "             'Jordan': 176,\n",
       "             'venzuela': 1,\n",
       "             'Iran': 6,\n",
       "             'Tunis': 9,\n",
       "             'Morocco': 4,\n",
       "             'Syria': 6,\n",
       "             'Iraq': 22,\n",
       "             'Palestine': 10,\n",
       "             'Lybia': 6})"
      ]
     },
     "execution_count": 30,
     "metadata": {},
     "output_type": "execute_result"
    }
   ],
   "source": [
    "#countByValue rdd에 있는 결과를 수행해서 보여줌\n",
    "result = countries.countByValue()\n",
    "result"
   ]
  },
  {
   "cell_type": "markdown",
   "id": "a37b2384",
   "metadata": {},
   "source": [
    "### 성별 꺼내기"
   ]
  },
  {
   "cell_type": "code",
   "execution_count": 35,
   "id": "cb0dea52",
   "metadata": {},
   "outputs": [
    {
     "data": {
      "text/plain": [
       "PythonRDD[13] at RDD at PythonRDD.scala:53"
      ]
     },
     "execution_count": 35,
     "metadata": {},
     "output_type": "execute_result"
    }
   ],
   "source": [
    "gender = datas.map(lambda r : r.split(',')[0])\n",
    "gender"
   ]
  },
  {
   "cell_type": "code",
   "execution_count": 36,
   "id": "614af07e",
   "metadata": {
    "scrolled": true
   },
   "outputs": [
    {
     "data": {
      "text/plain": [
       "['M', 'M']"
      ]
     },
     "execution_count": 36,
     "metadata": {},
     "output_type": "execute_result"
    }
   ],
   "source": [
    "gender.collect()[:2]"
   ]
  },
  {
   "cell_type": "code",
   "execution_count": 37,
   "id": "ee9e5a30",
   "metadata": {},
   "outputs": [
    {
     "data": {
      "text/plain": [
       "defaultdict(int, {'M': 305, 'F': 175})"
      ]
     },
     "execution_count": 37,
     "metadata": {},
     "output_type": "execute_result"
    }
   ],
   "source": [
    "gender.countByValue()"
   ]
  },
  {
   "cell_type": "markdown",
   "id": "a0f0e04c",
   "metadata": {},
   "source": [
    "### National 꺼내기"
   ]
  },
  {
   "cell_type": "code",
   "execution_count": 38,
   "id": "1100e3f4",
   "metadata": {},
   "outputs": [
    {
     "data": {
      "text/plain": [
       "PythonRDD[15] at RDD at PythonRDD.scala:53"
      ]
     },
     "execution_count": 38,
     "metadata": {},
     "output_type": "execute_result"
    }
   ],
   "source": [
    "national = datas.map(lambda r : r.split(',')[1])\n",
    "national"
   ]
  },
  {
   "cell_type": "code",
   "execution_count": 39,
   "id": "8f5dcf8b",
   "metadata": {},
   "outputs": [
    {
     "data": {
      "text/plain": [
       "['KW', 'KW']"
      ]
     },
     "execution_count": 39,
     "metadata": {},
     "output_type": "execute_result"
    }
   ],
   "source": [
    "national.collect()[:2]"
   ]
  },
  {
   "cell_type": "code",
   "execution_count": 40,
   "id": "2d5c1ede",
   "metadata": {},
   "outputs": [
    {
     "data": {
      "text/plain": [
       "defaultdict(int,\n",
       "            {'KW': 179,\n",
       "             'lebanon': 17,\n",
       "             'Egypt': 9,\n",
       "             'SaudiArabia': 11,\n",
       "             'USA': 6,\n",
       "             'Jordan': 172,\n",
       "             'venzuela': 1,\n",
       "             'Iran': 6,\n",
       "             'Tunis': 12,\n",
       "             'Morocco': 4,\n",
       "             'Syria': 7,\n",
       "             'Palestine': 28,\n",
       "             'Iraq': 22,\n",
       "             'Lybia': 6})"
      ]
     },
     "execution_count": 40,
     "metadata": {},
     "output_type": "execute_result"
    }
   ],
   "source": [
    "national.countByValue()"
   ]
  },
  {
   "cell_type": "markdown",
   "id": "bc95ca69",
   "metadata": {},
   "source": [
    "### StageID 꺼내기"
   ]
  },
  {
   "cell_type": "code",
   "execution_count": 41,
   "id": "b1b3aa5f",
   "metadata": {},
   "outputs": [
    {
     "data": {
      "text/plain": [
       "PythonRDD[17] at RDD at PythonRDD.scala:53"
      ]
     },
     "execution_count": 41,
     "metadata": {},
     "output_type": "execute_result"
    }
   ],
   "source": [
    "stage = datas.map(lambda r : r.split(',')[3])\n",
    "stage"
   ]
  },
  {
   "cell_type": "code",
   "execution_count": 43,
   "id": "69f44ac6",
   "metadata": {},
   "outputs": [
    {
     "data": {
      "text/plain": [
       "['lowerlevel', 'lowerlevel', 'lowerlevel']"
      ]
     },
     "execution_count": 43,
     "metadata": {},
     "output_type": "execute_result"
    }
   ],
   "source": [
    "stage.collect()[:3]"
   ]
  },
  {
   "cell_type": "code",
   "execution_count": 44,
   "id": "1610efd6",
   "metadata": {},
   "outputs": [
    {
     "data": {
      "text/plain": [
       "defaultdict(int, {'lowerlevel': 199, 'MiddleSchool': 248, 'HighSchool': 33})"
      ]
     },
     "execution_count": 44,
     "metadata": {},
     "output_type": "execute_result"
    }
   ],
   "source": [
    "stage.countByValue()"
   ]
  },
  {
   "cell_type": "markdown",
   "id": "127793d2",
   "metadata": {},
   "source": [
    "### grade 꺼내기"
   ]
  },
  {
   "cell_type": "code",
   "execution_count": 45,
   "id": "66e02c75",
   "metadata": {},
   "outputs": [
    {
     "data": {
      "text/plain": [
       "PythonRDD[20] at RDD at PythonRDD.scala:53"
      ]
     },
     "execution_count": 45,
     "metadata": {},
     "output_type": "execute_result"
    }
   ],
   "source": [
    "grade = datas.map(lambda r : r.split(',')[4])\n",
    "grade"
   ]
  },
  {
   "cell_type": "code",
   "execution_count": 47,
   "id": "a9172430",
   "metadata": {},
   "outputs": [
    {
     "data": {
      "text/plain": [
       "['G-04', 'G-04']"
      ]
     },
     "execution_count": 47,
     "metadata": {},
     "output_type": "execute_result"
    }
   ],
   "source": [
    "grade.collect()[:2]"
   ]
  },
  {
   "cell_type": "code",
   "execution_count": 48,
   "id": "65e94097",
   "metadata": {},
   "outputs": [
    {
     "data": {
      "text/plain": [
       "defaultdict(int,\n",
       "            {'G-04': 48,\n",
       "             'G-07': 101,\n",
       "             'G-08': 116,\n",
       "             'G-06': 32,\n",
       "             'G-05': 3,\n",
       "             'G-09': 5,\n",
       "             'G-12': 11,\n",
       "             'G-11': 13,\n",
       "             'G-10': 4,\n",
       "             'G-02': 147})"
      ]
     },
     "execution_count": 48,
     "metadata": {},
     "output_type": "execute_result"
    }
   ],
   "source": [
    "grade.countByValue()"
   ]
  },
  {
   "cell_type": "markdown",
   "id": "2483d86b",
   "metadata": {},
   "source": [
    "### SectionID 꺼내기"
   ]
  },
  {
   "cell_type": "code",
   "execution_count": 55,
   "id": "7bc8e7db",
   "metadata": {},
   "outputs": [
    {
     "data": {
      "text/plain": [
       "PythonRDD[24] at RDD at PythonRDD.scala:53"
      ]
     },
     "execution_count": 55,
     "metadata": {},
     "output_type": "execute_result"
    }
   ],
   "source": [
    "section = datas.map(lambda r : r.split(',')[5])\n",
    "section\n"
   ]
  },
  {
   "cell_type": "code",
   "execution_count": 56,
   "id": "fabf7d71",
   "metadata": {},
   "outputs": [
    {
     "data": {
      "text/plain": [
       "['A', 'A']"
      ]
     },
     "execution_count": 56,
     "metadata": {},
     "output_type": "execute_result"
    }
   ],
   "source": [
    "section.collect()[:2]"
   ]
  },
  {
   "cell_type": "code",
   "execution_count": 57,
   "id": "43214148",
   "metadata": {},
   "outputs": [
    {
     "data": {
      "text/plain": [
       "defaultdict(int, {'A': 283, 'B': 167, 'C': 30})"
      ]
     },
     "execution_count": 57,
     "metadata": {},
     "output_type": "execute_result"
    }
   ],
   "source": [
    "section.countByValue()"
   ]
  },
  {
   "cell_type": "markdown",
   "id": "3097e1cb",
   "metadata": {},
   "source": [
    "### Topic 꺼내기"
   ]
  },
  {
   "cell_type": "code",
   "execution_count": 58,
   "id": "b53f9795",
   "metadata": {},
   "outputs": [
    {
     "data": {
      "text/plain": [
       "PythonRDD[26] at RDD at PythonRDD.scala:53"
      ]
     },
     "execution_count": 58,
     "metadata": {},
     "output_type": "execute_result"
    }
   ],
   "source": [
    "topic = datas.map(lambda r : r.split(',')[6])\n",
    "topic"
   ]
  },
  {
   "cell_type": "code",
   "execution_count": 60,
   "id": "333407b6",
   "metadata": {},
   "outputs": [
    {
     "data": {
      "text/plain": [
       "['IT', 'IT']"
      ]
     },
     "execution_count": 60,
     "metadata": {},
     "output_type": "execute_result"
    }
   ],
   "source": [
    "topic.collect()[:2]"
   ]
  },
  {
   "cell_type": "code",
   "execution_count": 61,
   "id": "e7768090",
   "metadata": {},
   "outputs": [
    {
     "data": {
      "text/plain": [
       "defaultdict(int,\n",
       "            {'IT': 95,\n",
       "             'Math': 21,\n",
       "             'Arabic': 59,\n",
       "             'Science': 51,\n",
       "             'English': 45,\n",
       "             'Quran': 22,\n",
       "             'Spanish': 25,\n",
       "             'French': 65,\n",
       "             'History': 19,\n",
       "             'Biology': 30,\n",
       "             'Chemistry': 24,\n",
       "             'Geology': 24})"
      ]
     },
     "execution_count": 61,
     "metadata": {},
     "output_type": "execute_result"
    }
   ],
   "source": [
    "topic.countByValue()"
   ]
  },
  {
   "cell_type": "code",
   "execution_count": 62,
   "id": "293a3cb9",
   "metadata": {},
   "outputs": [
    {
     "data": {
      "text/plain": [
       "PythonRDD[28] at RDD at PythonRDD.scala:53"
      ]
     },
     "execution_count": 62,
     "metadata": {},
     "output_type": "execute_result"
    }
   ],
   "source": [
    "semester = datas.map(lambda r : r.split(',')[7])\n",
    "semester"
   ]
  },
  {
   "cell_type": "code",
   "execution_count": 64,
   "id": "17a299f3",
   "metadata": {},
   "outputs": [
    {
     "data": {
      "text/plain": [
       "['F', 'F']"
      ]
     },
     "execution_count": 64,
     "metadata": {},
     "output_type": "execute_result"
    }
   ],
   "source": [
    "semester.collect()[:2]"
   ]
  },
  {
   "cell_type": "code",
   "execution_count": 65,
   "id": "f0cd1a24",
   "metadata": {},
   "outputs": [
    {
     "data": {
      "text/plain": [
       "defaultdict(int, {'F': 245, 'S': 235})"
      ]
     },
     "execution_count": 65,
     "metadata": {},
     "output_type": "execute_result"
    }
   ],
   "source": [
    "semester.countByValue()"
   ]
  },
  {
   "cell_type": "code",
   "execution_count": null,
   "id": "cbe97480",
   "metadata": {},
   "outputs": [],
   "source": []
  },
  {
   "cell_type": "code",
   "execution_count": 66,
   "id": "184b008f",
   "metadata": {},
   "outputs": [],
   "source": [
    "spark.stop()"
   ]
  }
 ],
 "metadata": {
  "kernelspec": {
   "display_name": "Python (spark_start)",
   "language": "python",
   "name": "spark_start"
  },
  "language_info": {
   "codemirror_mode": {
    "name": "ipython",
    "version": 3
   },
   "file_extension": ".py",
   "mimetype": "text/x-python",
   "name": "python",
   "nbconvert_exporter": "python",
   "pygments_lexer": "ipython3",
   "version": "3.8.20"
  }
 },
 "nbformat": 4,
 "nbformat_minor": 5
}
