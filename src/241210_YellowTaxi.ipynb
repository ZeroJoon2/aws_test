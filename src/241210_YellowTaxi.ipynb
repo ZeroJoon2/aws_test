{
 "cells": [
  {
   "cell_type": "code",
   "execution_count": 25,
   "id": "dfa30e63-7425-4167-8444-2800d605556d",
   "metadata": {},
   "outputs": [],
   "source": [
    "from pyspark.sql import SparkSession\n",
    "import os"
   ]
  },
  {
   "cell_type": "code",
   "execution_count": 2,
   "id": "a9ef5cf1-ecf4-411f-95e4-9539b7621a1a",
   "metadata": {},
   "outputs": [
    {
     "name": "stderr",
     "output_type": "stream",
     "text": [
      "24/12/10 15:47:27 WARN NativeCodeLoader: Unable to load native-hadoop library for your platform... using builtin-java classes where applicable\n",
      "Using Spark's default log4j profile: org/apache/spark/log4j-defaults.properties\n",
      "Setting default log level to \"WARN\".\n",
      "To adjust logging level use sc.setLogLevel(newLevel). For SparkR, use setLogLevel(newLevel).\n"
     ]
    },
    {
     "data": {
      "text/html": [
       "\n",
       "            <div>\n",
       "                <p><b>SparkSession - in-memory</b></p>\n",
       "                \n",
       "        <div>\n",
       "            <p><b>SparkContext</b></p>\n",
       "\n",
       "            <p><a href=\"http://ip-172-31-3-9.ap-northeast-3.compute.internal:4040\">Spark UI</a></p>\n",
       "\n",
       "            <dl>\n",
       "              <dt>Version</dt>\n",
       "                <dd><code>v3.1.2</code></dd>\n",
       "              <dt>Master</dt>\n",
       "                <dd><code>local[*]</code></dd>\n",
       "              <dt>AppName</dt>\n",
       "                <dd><code>YellowTaxi</code></dd>\n",
       "            </dl>\n",
       "        </div>\n",
       "        \n",
       "            </div>\n",
       "        "
      ],
      "text/plain": [
       "<pyspark.sql.session.SparkSession at 0x7f81b0e0e0d0>"
      ]
     },
     "execution_count": 2,
     "metadata": {},
     "output_type": "execute_result"
    }
   ],
   "source": [
    "ss = SparkSession.builder.appName('YellowTaxi').getOrCreate()\n",
    "ss"
   ]
  },
  {
   "cell_type": "code",
   "execution_count": 47,
   "id": "f7733ded-4937-4fd9-bc88-5f5c6c9c5ac0",
   "metadata": {},
   "outputs": [],
   "source": [
    "trip_files = '/trips/*.csv'\n",
    "zone_file = 'trips/code/lookup.csv'\n",
    "directory = os.path.join(os.getcwd(), 'data')"
   ]
  },
  {
   "cell_type": "code",
   "execution_count": 48,
   "id": "41bb6dfe-4516-442e-94a9-9da95c6a9f6f",
   "metadata": {},
   "outputs": [
    {
     "name": "stderr",
     "output_type": "stream",
     "text": [
      "[Stage 28:==================================================>     (10 + 1) / 11]\r"
     ]
    },
    {
     "name": "stdout",
     "output_type": "stream",
     "text": [
      "+--------+--------------------+---------------------+---------------+-------------+----------+------------------+------------+------------+------------+-----------+-----+-------+----------+------------+---------------------+------------+--------------------+\n",
      "|VendorID|tpep_pickup_datetime|tpep_dropoff_datetime|passenger_count|trip_distance|RatecodeID|store_and_fwd_flag|PULocationID|DOLocationID|payment_type|fare_amount|extra|mta_tax|tip_amount|tolls_amount|improvement_surcharge|total_amount|congestion_surcharge|\n",
      "+--------+--------------------+---------------------+---------------+-------------+----------+------------------+------------+------------+------------+-----------+-----+-------+----------+------------+---------------------+------------+--------------------+\n",
      "|       2| 2021-03-01 00:22:02|  2021-03-01 00:23:22|              1|          0.0|         1|                 N|         264|         264|           2|        3.0|  0.5|    0.5|       0.0|         0.0|                  0.3|         4.3|                 0.0|\n",
      "|       2| 2021-03-01 00:24:48|  2021-03-01 00:24:56|              1|          0.0|         1|                 N|         152|         152|           2|        2.5|  0.5|    0.5|       0.0|         0.0|                  0.3|         3.8|                 0.0|\n",
      "|       2| 2021-03-01 00:25:17|  2021-03-01 00:31:01|              1|          0.0|         1|                 N|         152|         152|           2|        3.5|  0.5|    0.5|       0.0|         0.0|                  0.3|         4.8|                 0.0|\n",
      "+--------+--------------------+---------------------+---------------+-------------+----------+------------------+------------+------------+------------+-----------+-----+-------+----------+------------+---------------------+------------+--------------------+\n",
      "only showing top 3 rows\n",
      "\n",
      "root\n",
      " |-- VendorID: integer (nullable = true)\n",
      " |-- tpep_pickup_datetime: string (nullable = true)\n",
      " |-- tpep_dropoff_datetime: string (nullable = true)\n",
      " |-- passenger_count: integer (nullable = true)\n",
      " |-- trip_distance: double (nullable = true)\n",
      " |-- RatecodeID: integer (nullable = true)\n",
      " |-- store_and_fwd_flag: string (nullable = true)\n",
      " |-- PULocationID: integer (nullable = true)\n",
      " |-- DOLocationID: integer (nullable = true)\n",
      " |-- payment_type: integer (nullable = true)\n",
      " |-- fare_amount: double (nullable = true)\n",
      " |-- extra: double (nullable = true)\n",
      " |-- mta_tax: double (nullable = true)\n",
      " |-- tip_amount: double (nullable = true)\n",
      " |-- tolls_amount: double (nullable = true)\n",
      " |-- improvement_surcharge: double (nullable = true)\n",
      " |-- total_amount: double (nullable = true)\n",
      " |-- congestion_surcharge: double (nullable = true)\n",
      "\n"
     ]
    },
    {
     "name": "stderr",
     "output_type": "stream",
     "text": [
      "                                                                                \r"
     ]
    }
   ],
   "source": [
    "trips_df = ss.read.csv(f'file:///{directory}/{trip_files}', inferSchema = True , header = True)\n",
    "trips_df.show(3)\n",
    "trips_df.printSchema()"
   ]
  },
  {
   "cell_type": "code",
   "execution_count": 49,
   "id": "9834bffe-8592-472c-a89d-72191d60d1f3",
   "metadata": {},
   "outputs": [
    {
     "name": "stdout",
     "output_type": "stream",
     "text": [
      "+----------+-------+--------------------+------------+\n",
      "|LocationID|Borough|                Zone|service_zone|\n",
      "+----------+-------+--------------------+------------+\n",
      "|         1|    EWR|      Newark Airport|         EWR|\n",
      "|         2| Queens|         Jamaica Bay|   Boro Zone|\n",
      "|         3|  Bronx|Allerton/Pelham G...|   Boro Zone|\n",
      "+----------+-------+--------------------+------------+\n",
      "only showing top 3 rows\n",
      "\n"
     ]
    }
   ],
   "source": [
    "zone_df = ss.read.csv(f'file:///{directory}/{zone_file}', inferSchema = True, header = True)\n",
    "zone_df.show(3)"
   ]
  },
  {
   "cell_type": "code",
   "execution_count": 51,
   "id": "d14f5a65-fbbc-4c6b-8cfe-d8b03eed9511",
   "metadata": {},
   "outputs": [],
   "source": [
    "trips_df.createOrReplaceTempView('trips')\n",
    "zone_df.createOrReplaceTempView('zone')"
   ]
  },
  {
   "cell_type": "code",
   "execution_count": 79,
   "id": "41fc9647-9dfa-445e-873b-2fcb7df9cb7b",
   "metadata": {},
   "outputs": [],
   "source": [
    "comb_df = ss.sql('''\n",
    "select\n",
    "\n",
    "    T.VendorID\n",
    "    , Date(T.tpep_pickup_datetime) as pickup_date\n",
    "    , Date(T.tpep_dropoff_datetime) as dropoff_date\n",
    "    , HOUR(T.tpep_pickup_datetime) as pickup_time\n",
    "    , HOUR(T.tpep_dropoff_datetime) as dropoff_time\n",
    "    , T.passenger_count\n",
    "    , T.tip_amount\n",
    "    , T.total_amount\n",
    "    , T.payment_type\n",
    "    -- , Z.Zone as pickup_zone\n",
    "    -- , Z.Zone as Dropoff_zone\n",
    "    , PZ.Zone as pickup_zone\n",
    "    , DZ.Zone as Dropoff_zone\n",
    "from trips as T\n",
    "\n",
    "--left join zone as Z\n",
    "--on T.PULocationID = Z.LocationID\n",
    "--    and T.DOLocationID = Z.LocationID\n",
    "\n",
    "left join zone PZ on T.PULocationID = PZ.LocationID\n",
    "left join zone DZ on T.DOLocationID = DZ.LocationID\n",
    "\n",
    "''')"
   ]
  },
  {
   "cell_type": "code",
   "execution_count": 78,
   "id": "6d715528-b6cd-4509-8943-c1df34b12672",
   "metadata": {},
   "outputs": [
    {
     "name": "stderr",
     "output_type": "stream",
     "text": [
      "                                                                                \r"
     ]
    },
    {
     "data": {
      "text/plain": [
       "15000700"
      ]
     },
     "execution_count": 78,
     "metadata": {},
     "output_type": "execute_result"
    }
   ],
   "source": [
    "ss.sql('''\n",
    "select\n",
    "\n",
    "    T.VendorID\n",
    "    , Date(T.tpep_pickup_datetime) as pickup_date\n",
    "    , Date(T.tpep_dropoff_datetime) as dropoff_date\n",
    "    , HOUR(T.tpep_pickup_datetime) as pickup_time\n",
    "    , HOUR(T.tpep_dropoff_datetime) as dropoff_time\n",
    "    , T.passenger_count\n",
    "    , T.tip_amount\n",
    "    , T.total_amount\n",
    "    , T.payment_type\n",
    "    , Z.Zone as pickup_zone\n",
    "    , Z.Zone as Dropoff_zone\n",
    "    -- , PZ.Zone as pickup_zone\n",
    "    -- , DZ.Zone as Dropoff_zone\n",
    "from trips as T\n",
    "\n",
    "left join zone as Z\n",
    "on T.PULocationID = Z.LocationID\n",
    "    and T.DOLocationID = Z.LocationID\n",
    "\n",
    "--left join zone PZ on T.PULocationID = PZ.LocationID\n",
    "--left join zone DZ on T.DOLocationID = DZ.LocationID\n",
    "\n",
    "''').count()"
   ]
  },
  {
   "cell_type": "code",
   "execution_count": 80,
   "id": "a50d4702-79ed-4f10-95c9-6d557ada0785",
   "metadata": {},
   "outputs": [
    {
     "name": "stderr",
     "output_type": "stream",
     "text": [
      "                                                                                \r"
     ]
    },
    {
     "data": {
      "text/plain": [
       "15000700"
      ]
     },
     "execution_count": 80,
     "metadata": {},
     "output_type": "execute_result"
    }
   ],
   "source": [
    "comb_df.count()"
   ]
  },
  {
   "cell_type": "code",
   "execution_count": 81,
   "id": "c451483f-acd7-4965-8e80-c3f674c2dc7a",
   "metadata": {},
   "outputs": [],
   "source": [
    "comb_df.createOrReplaceTempView('comb_view')"
   ]
  },
  {
   "cell_type": "code",
   "execution_count": 85,
   "id": "b0574985-e1c4-4c84-aa04-02159feb3091",
   "metadata": {},
   "outputs": [
    {
     "name": "stderr",
     "output_type": "stream",
     "text": [
      "                                                                                \r"
     ]
    },
    {
     "name": "stdout",
     "output_type": "stream",
     "text": [
      "+-----------+\n",
      "|pickup_time|\n",
      "+-----------+\n",
      "|         12|\n",
      "|         22|\n",
      "|          1|\n",
      "|         13|\n",
      "|          6|\n",
      "|         16|\n",
      "|          3|\n",
      "|         20|\n",
      "|          5|\n",
      "|         19|\n",
      "|         15|\n",
      "|          9|\n",
      "|         17|\n",
      "|          4|\n",
      "|          8|\n",
      "|         23|\n",
      "|          7|\n",
      "|         10|\n",
      "|         21|\n",
      "|         11|\n",
      "+-----------+\n",
      "only showing top 20 rows\n",
      "\n"
     ]
    }
   ],
   "source": [
    "ss.sql('''\n",
    "select distinct pickup_time\n",
    "from comb_view\n",
    "''').show()"
   ]
  },
  {
   "cell_type": "code",
   "execution_count": 87,
   "id": "165d1517-b0ab-4b34-ad8e-a878292ffc4d",
   "metadata": {},
   "outputs": [
    {
     "name": "stderr",
     "output_type": "stream",
     "text": [
      "                                                                                \r"
     ]
    },
    {
     "name": "stdout",
     "output_type": "stream",
     "text": [
      "+-----------+\n",
      "|pickup_date|\n",
      "+-----------+\n",
      "| 2002-12-31|\n",
      "| 2003-01-05|\n",
      "| 2004-04-04|\n",
      "| 2008-12-31|\n",
      "| 2009-01-01|\n",
      "| 2020-12-31|\n",
      "| 2021-01-01|\n",
      "| 2021-01-02|\n",
      "| 2021-01-03|\n",
      "| 2021-01-04|\n",
      "+-----------+\n",
      "\n"
     ]
    },
    {
     "name": "stderr",
     "output_type": "stream",
     "text": [
      "[Stage 98:====================================>                 (137 + 2) / 200]\r"
     ]
    },
    {
     "name": "stdout",
     "output_type": "stream",
     "text": [
      "+-----------+\n",
      "|pickup_date|\n",
      "+-----------+\n",
      "| 2029-05-05|\n",
      "| 2021-12-15|\n",
      "| 2021-11-24|\n",
      "| 2021-11-03|\n",
      "| 2021-10-12|\n",
      "| 2021-09-21|\n",
      "| 2021-08-31|\n",
      "| 2021-08-09|\n",
      "| 2021-08-02|\n",
      "| 2021-08-01|\n",
      "+-----------+\n",
      "\n"
     ]
    },
    {
     "name": "stderr",
     "output_type": "stream",
     "text": [
      "                                                                                \r"
     ]
    }
   ],
   "source": [
    "ss.sql('''\n",
    "select distinct pickup_date\n",
    "from comb_view\n",
    "order by pickup_date\n",
    "limit 10\n",
    "''').show()\n",
    "\n",
    "ss.sql('''\n",
    "select distinct pickup_date\n",
    "from comb_view\n",
    "order by pickup_date desc\n",
    "limit 10\n",
    "''').show()"
   ]
  },
  {
   "cell_type": "code",
   "execution_count": 88,
   "id": "db0913b1-6089-44df-8d52-ed223f653f99",
   "metadata": {},
   "outputs": [
    {
     "name": "stderr",
     "output_type": "stream",
     "text": [
      "                                                                                \r"
     ]
    },
    {
     "data": {
      "text/plain": [
       "DataFrame[summary: string, VendorID: string, pickup_time: string, dropoff_time: string, passenger_count: string, tip_amount: string, total_amount: string, payment_type: string, pickup_zone: string, Dropoff_zone: string]"
      ]
     },
     "execution_count": 88,
     "metadata": {},
     "output_type": "execute_result"
    }
   ],
   "source": [
    "comb_df.describe()"
   ]
  },
  {
   "cell_type": "code",
   "execution_count": 97,
   "id": "261e4f9f-a5f9-4390-9e49-a9451487c4b4",
   "metadata": {},
   "outputs": [
    {
     "name": "stdout",
     "output_type": "stream",
     "text": [
      "== Physical Plan ==\n",
      "*(3) Project [cast(tpep_pickup_datetime#1510 as date) AS pickup_date#2654, hour(cast(tpep_pickup_datetime#1510 as timestamp), Some(Asia/Seoul)) AS pickup_time#2656]\n",
      "+- *(3) BroadcastHashJoin [DOLocationID#1517], [LocationID#2660], LeftOuter, BuildRight, false\n",
      "   :- *(3) Project [tpep_pickup_datetime#1510, DOLocationID#1517]\n",
      "   :  +- *(3) BroadcastHashJoin [PULocationID#1516], [LocationID#1652], LeftOuter, BuildRight, false\n",
      "   :     :- FileScan csv [tpep_pickup_datetime#1510,PULocationID#1516,DOLocationID#1517] Batched: false, DataFilters: [], Format: CSV, Location: InMemoryFileIndex[file:/home/lab17/git/src/data/trips/yellow_tripdata_2021-01.csv, file:/home/lab..., PartitionFilters: [], PushedFilters: [], ReadSchema: struct<tpep_pickup_datetime:string,PULocationID:int,DOLocationID:int>\n",
      "   :     +- BroadcastExchange HashedRelationBroadcastMode(List(cast(input[0, int, false] as bigint)),false), [id=#2610]\n",
      "   :        +- *(1) Filter isnotnull(LocationID#1652)\n",
      "   :           +- FileScan csv [LocationID#1652] Batched: false, DataFilters: [isnotnull(LocationID#1652)], Format: CSV, Location: InMemoryFileIndex[file:/home/lab17/git/src/data/trips/code/lookup.csv], PartitionFilters: [], PushedFilters: [IsNotNull(LocationID)], ReadSchema: struct<LocationID:int>\n",
      "   +- ReusedExchange [LocationID#2660], BroadcastExchange HashedRelationBroadcastMode(List(cast(input[0, int, false] as bigint)),false), [id=#2610]\n",
      "\n",
      "\n",
      "== Physical Plan ==\n",
      "*(3) Project [cast(tpep_pickup_datetime#1510 as date) AS pickup_date#2654, hour(cast(tpep_pickup_datetime#1510 as timestamp), Some(Asia/Seoul)) AS pickup_time#2656]\n",
      "+- *(3) BroadcastHashJoin [DOLocationID#1517], [LocationID#2660], LeftOuter, BuildRight, false\n",
      "   :- *(3) Project [tpep_pickup_datetime#1510, DOLocationID#1517]\n",
      "   :  +- *(3) BroadcastHashJoin [PULocationID#1516], [LocationID#1652], LeftOuter, BuildRight, false\n",
      "   :     :- *(3) Filter ((isnotnull(tpep_pickup_datetime#1510) AND (hour(cast(tpep_pickup_datetime#1510 as timestamp), Some(Asia/Seoul)) > 0)) AND (hour(cast(tpep_pickup_datetime#1510 as timestamp), Some(Asia/Seoul)) <= 12))\n",
      "   :     :  +- FileScan csv [tpep_pickup_datetime#1510,PULocationID#1516,DOLocationID#1517] Batched: false, DataFilters: [isnotnull(tpep_pickup_datetime#1510), (hour(cast(tpep_pickup_datetime#1510 as timestamp), Some(A..., Format: CSV, Location: InMemoryFileIndex[file:/home/lab17/git/src/data/trips/yellow_tripdata_2021-01.csv, file:/home/lab..., PartitionFilters: [], PushedFilters: [IsNotNull(tpep_pickup_datetime)], ReadSchema: struct<tpep_pickup_datetime:string,PULocationID:int,DOLocationID:int>\n",
      "   :     +- BroadcastExchange HashedRelationBroadcastMode(List(cast(input[0, int, false] as bigint)),false), [id=#2694]\n",
      "   :        +- *(1) Filter isnotnull(LocationID#1652)\n",
      "   :           +- FileScan csv [LocationID#1652] Batched: false, DataFilters: [isnotnull(LocationID#1652)], Format: CSV, Location: InMemoryFileIndex[file:/home/lab17/git/src/data/trips/code/lookup.csv], PartitionFilters: [], PushedFilters: [IsNotNull(LocationID)], ReadSchema: struct<LocationID:int>\n",
      "   +- ReusedExchange [LocationID#2660], BroadcastExchange HashedRelationBroadcastMode(List(cast(input[0, int, false] as bigint)),false), [id=#2694]\n",
      "\n",
      "\n",
      "== Physical Plan ==\n",
      "*(5) Sort [pickup_date#2654 ASC NULLS FIRST], true, 0\n",
      "+- Exchange rangepartitioning(pickup_date#2654 ASC NULLS FIRST, 200), ENSURE_REQUIREMENTS, [id=#2842]\n",
      "   +- *(4) HashAggregate(keys=[pickup_date#2654], functions=[max(pickup_time#2656)])\n",
      "      +- Exchange hashpartitioning(pickup_date#2654, 200), ENSURE_REQUIREMENTS, [id=#2838]\n",
      "         +- *(3) HashAggregate(keys=[pickup_date#2654], functions=[partial_max(pickup_time#2656)])\n",
      "            +- *(3) Project [cast(tpep_pickup_datetime#1510 as date) AS pickup_date#2654, hour(cast(tpep_pickup_datetime#1510 as timestamp), Some(Asia/Seoul)) AS pickup_time#2656]\n",
      "               +- *(3) BroadcastHashJoin [DOLocationID#1517], [LocationID#2660], LeftOuter, BuildRight, false\n",
      "                  :- *(3) Project [tpep_pickup_datetime#1510, DOLocationID#1517]\n",
      "                  :  +- *(3) BroadcastHashJoin [PULocationID#1516], [LocationID#1652], LeftOuter, BuildRight, false\n",
      "                  :     :- *(3) Filter ((isnotnull(tpep_pickup_datetime#1510) AND (hour(cast(tpep_pickup_datetime#1510 as timestamp), Some(Asia/Seoul)) > 0)) AND (hour(cast(tpep_pickup_datetime#1510 as timestamp), Some(Asia/Seoul)) <= 12))\n",
      "                  :     :  +- FileScan csv [tpep_pickup_datetime#1510,PULocationID#1516,DOLocationID#1517] Batched: false, DataFilters: [isnotnull(tpep_pickup_datetime#1510), (hour(cast(tpep_pickup_datetime#1510 as timestamp), Some(A..., Format: CSV, Location: InMemoryFileIndex[file:/home/lab17/git/src/data/trips/yellow_tripdata_2021-01.csv, file:/home/lab..., PartitionFilters: [], PushedFilters: [IsNotNull(tpep_pickup_datetime)], ReadSchema: struct<tpep_pickup_datetime:string,PULocationID:int,DOLocationID:int>\n",
      "                  :     +- BroadcastExchange HashedRelationBroadcastMode(List(cast(input[0, int, false] as bigint)),false), [id=#2799]\n",
      "                  :        +- *(1) Filter isnotnull(LocationID#1652)\n",
      "                  :           +- FileScan csv [LocationID#1652] Batched: false, DataFilters: [isnotnull(LocationID#1652)], Format: CSV, Location: InMemoryFileIndex[file:/home/lab17/git/src/data/trips/code/lookup.csv], PartitionFilters: [], PushedFilters: [IsNotNull(LocationID)], ReadSchema: struct<LocationID:int>\n",
      "                  +- ReusedExchange [LocationID#2660], BroadcastExchange HashedRelationBroadcastMode(List(cast(input[0, int, false] as bigint)),false), [id=#2799]\n",
      "\n",
      "\n",
      "+-----------+-----------+\n",
      "|pickup_date|pickup_time|\n",
      "+-----------+-----------+\n",
      "| 2021-03-01|          0|\n",
      "| 2021-03-01|          0|\n",
      "| 2021-03-01|          0|\n",
      "| 2021-03-01|          0|\n",
      "| 2021-03-01|          0|\n",
      "| 2021-03-01|          0|\n",
      "| 2021-03-01|          0|\n",
      "| 2021-03-01|          0|\n",
      "| 2021-03-01|          0|\n",
      "| 2021-03-01|          0|\n",
      "| 2021-03-01|          0|\n",
      "| 2021-03-01|          0|\n",
      "| 2021-03-01|          0|\n",
      "| 2021-03-01|          0|\n",
      "| 2021-03-01|          0|\n",
      "| 2021-03-01|          0|\n",
      "| 2021-03-01|          0|\n",
      "| 2021-03-01|          0|\n",
      "| 2021-03-01|          0|\n",
      "| 2021-03-01|          0|\n",
      "+-----------+-----------+\n",
      "only showing top 20 rows\n",
      "\n",
      "+-----------+-----------+\n",
      "|pickup_date|pickup_time|\n",
      "+-----------+-----------+\n",
      "| 2021-03-01|          1|\n",
      "| 2021-03-01|          1|\n",
      "| 2021-03-01|          1|\n",
      "| 2021-03-01|          1|\n",
      "| 2021-03-01|          1|\n",
      "| 2021-03-01|          1|\n",
      "| 2021-03-01|          1|\n",
      "| 2021-03-01|          1|\n",
      "| 2021-03-01|          1|\n",
      "| 2021-03-01|          1|\n",
      "| 2021-03-01|          1|\n",
      "| 2021-03-01|          1|\n",
      "| 2021-03-01|          1|\n",
      "| 2021-03-01|          1|\n",
      "| 2021-03-01|          1|\n",
      "| 2021-03-01|          1|\n",
      "| 2021-03-01|          1|\n",
      "| 2021-03-01|          1|\n",
      "| 2021-03-01|          1|\n",
      "| 2021-03-01|          1|\n",
      "+-----------+-----------+\n",
      "only showing top 20 rows\n",
      "\n"
     ]
    },
    {
     "name": "stderr",
     "output_type": "stream",
     "text": [
      "[Stage 113:============================================>        (169 + 2) / 200]\r"
     ]
    },
    {
     "name": "stdout",
     "output_type": "stream",
     "text": [
      "+-----------+----------------+\n",
      "|pickup_date|max(pickup_time)|\n",
      "+-----------+----------------+\n",
      "| 2003-01-05|               7|\n",
      "| 2004-04-04|               4|\n",
      "| 2009-01-01|              12|\n",
      "| 2021-01-01|              12|\n",
      "| 2021-01-02|              12|\n",
      "| 2021-01-03|              12|\n",
      "| 2021-01-04|              12|\n",
      "| 2021-01-05|              12|\n",
      "| 2021-01-06|              12|\n",
      "| 2021-01-07|              12|\n",
      "| 2021-01-08|              12|\n",
      "| 2021-01-09|              12|\n",
      "| 2021-01-10|              12|\n",
      "| 2021-01-11|              12|\n",
      "| 2021-01-12|              12|\n",
      "| 2021-01-13|              12|\n",
      "| 2021-01-14|              12|\n",
      "| 2021-01-15|              12|\n",
      "| 2021-01-16|              12|\n",
      "| 2021-01-17|              12|\n",
      "+-----------+----------------+\n",
      "only showing top 20 rows\n",
      "\n"
     ]
    },
    {
     "name": "stderr",
     "output_type": "stream",
     "text": [
      "                                                                                \r"
     ]
    }
   ],
   "source": [
    "#실행계획, 실행결과 비교하기\n",
    "q1 = '''\n",
    "select pickup_date, pickup_time\n",
    "from comb_view\n",
    "'''\n",
    "\n",
    "q2 = '''\n",
    "select pickup_date, pickup_time\n",
    "from comb_view\n",
    "where pickup_time > 0 and pickup_time <=12\n",
    "'''\n",
    "\n",
    "q3 = '''\n",
    "select pickup_date, max(pickup_time)\n",
    "from comb_view\n",
    "where pickup_time > 0 and pickup_time <=12\n",
    "group by pickup_date\n",
    "order by pickup_date\n",
    "'''\n",
    "\n",
    "ss.sql(q1).explain()\n",
    "ss.sql(q2).explain()\n",
    "ss.sql(q3).explain()\n",
    "\n",
    "ss.sql(q1).show()\n",
    "ss.sql(q2).show()\n",
    "ss.sql(q3).show()\n",
    "\n",
    "#브로드캐스트는 최소화하는 것이 성능에 좋음"
   ]
  },
  {
   "cell_type": "code",
   "execution_count": 98,
   "id": "0c9dd8a6-c9ce-49e5-9ca0-29691bb71c8d",
   "metadata": {},
   "outputs": [],
   "source": [
    "ss.stop()"
   ]
  },
  {
   "cell_type": "code",
   "execution_count": null,
   "id": "b624d4ba-a9bd-4a21-94e1-16b2170f6601",
   "metadata": {},
   "outputs": [],
   "source": []
  },
  {
   "cell_type": "code",
   "execution_count": null,
   "id": "57fd8524-eb3a-42c9-a5c0-9f9a64ccbe78",
   "metadata": {},
   "outputs": [],
   "source": []
  },
  {
   "cell_type": "code",
   "execution_count": null,
   "id": "16e15088-21bb-4550-ae66-c13c8ce3a2d7",
   "metadata": {},
   "outputs": [],
   "source": []
  }
 ],
 "metadata": {
  "kernelspec": {
   "display_name": "Python (spark_start)",
   "language": "python",
   "name": "spark_start"
  },
  "language_info": {
   "codemirror_mode": {
    "name": "ipython",
    "version": 3
   },
   "file_extension": ".py",
   "mimetype": "text/x-python",
   "name": "python",
   "nbconvert_exporter": "python",
   "pygments_lexer": "ipython3",
   "version": "3.8.20"
  }
 },
 "nbformat": 4,
 "nbformat_minor": 5
}
