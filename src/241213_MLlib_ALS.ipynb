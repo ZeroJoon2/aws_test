{
 "cells": [
  {
   "cell_type": "markdown",
   "id": "47e1c33f-adcd-4b53-8d33-035d07418527",
   "metadata": {},
   "source": [
    "# 잠재 요인 기반 추천시스템 ALS 모델 만들기"
   ]
  },
  {
   "cell_type": "code",
   "execution_count": 77,
   "id": "ad6e53f4-1fed-40a2-afa7-bda2c84a1553",
   "metadata": {},
   "outputs": [],
   "source": [
    "from pyspark.sql import SparkSession\n",
    "from pyspark.sql.types import IntegerType\n",
    "\n",
    "from pyspark.ml.recommendation import ALS\n",
    "\n",
    "from pyspark.ml.evaluation import RegressionEvaluator"
   ]
  },
  {
   "cell_type": "code",
   "execution_count": 78,
   "id": "9ac76d98-bb06-4e84-b877-06dac84af02e",
   "metadata": {},
   "outputs": [
    {
     "data": {
      "text/html": [
       "\n",
       "            <div>\n",
       "                <p><b>SparkSession - in-memory</b></p>\n",
       "                \n",
       "        <div>\n",
       "            <p><b>SparkContext</b></p>\n",
       "\n",
       "            <p><a href=\"http://ip-172-31-3-9.ap-northeast-3.compute.internal:4040\">Spark UI</a></p>\n",
       "\n",
       "            <dl>\n",
       "              <dt>Version</dt>\n",
       "                <dd><code>v3.1.2</code></dd>\n",
       "              <dt>Master</dt>\n",
       "                <dd><code>local[*]</code></dd>\n",
       "              <dt>AppName</dt>\n",
       "                <dd><code>ALS</code></dd>\n",
       "            </dl>\n",
       "        </div>\n",
       "        \n",
       "            </div>\n",
       "        "
      ],
      "text/plain": [
       "<pyspark.sql.session.SparkSession at 0x7f2ad0179d30>"
      ]
     },
     "execution_count": 78,
     "metadata": {},
     "output_type": "execute_result"
    }
   ],
   "source": [
    "MAX_MEMORY = '7g'\n",
    "\n",
    "ss = SparkSession\\\n",
    "                .builder\\\n",
    "                .appName('ALS')\\\n",
    "                .config('spark.executor.memory', MAX_MEMORY)\\\n",
    "                .config('spark.driver.memory', MAX_MEMORY)\\\n",
    "                .getOrCreate()\n",
    "\n",
    "ss"
   ]
  },
  {
   "cell_type": "code",
   "execution_count": 79,
   "id": "d3bbc59d-cc01-4418-9a33-d71ab8f4307e",
   "metadata": {},
   "outputs": [
    {
     "name": "stderr",
     "output_type": "stream",
     "text": [
      "                                                                                \r"
     ]
    },
    {
     "data": {
      "text/plain": [
       "(DataFrame[userId: int, movieId: int, rating: double, timestamp: int],\n",
       " DataFrame[movieId: int, title: string, genres: string])"
      ]
     },
     "execution_count": 79,
     "metadata": {},
     "output_type": "execute_result"
    }
   ],
   "source": [
    "rating_df = ss.read.format('csv')\\\n",
    "            .option('header', 'true')\\\n",
    "            .option('inferSchema', 'true')\\\n",
    "            .load('data/ratings.csv')\n",
    "\n",
    "movie_df = ss.read.format('csv')\\\n",
    "            .option('header', 'true')\\\n",
    "            .option('inferSchema', 'true')\\\n",
    "            .load('data/movies.csv')\n",
    "\n",
    "rating_df, movie_df"
   ]
  },
  {
   "cell_type": "code",
   "execution_count": 80,
   "id": "d0552f15-fb8f-4abb-bd47-71f206e103d7",
   "metadata": {},
   "outputs": [
    {
     "name": "stdout",
     "output_type": "stream",
     "text": [
      "root\n",
      " |-- userId: integer (nullable = true)\n",
      " |-- movieId: integer (nullable = true)\n",
      " |-- rating: double (nullable = true)\n",
      " |-- timestamp: integer (nullable = true)\n",
      "\n"
     ]
    },
    {
     "data": {
      "text/plain": [
       "(StructType(List(StructField(userId,IntegerType,true),StructField(movieId,IntegerType,true),StructField(rating,DoubleType,true),StructField(timestamp,IntegerType,true))),\n",
       " None)"
      ]
     },
     "execution_count": 80,
     "metadata": {},
     "output_type": "execute_result"
    }
   ],
   "source": [
    "rating_df.schema, rating_df.printSchema()"
   ]
  },
  {
   "cell_type": "code",
   "execution_count": 81,
   "id": "3351b86d-6978-4f06-8f68-e05951460ccc",
   "metadata": {},
   "outputs": [
    {
     "name": "stdout",
     "output_type": "stream",
     "text": [
      "+------+-------+------+----------+\n",
      "|userId|movieId|rating| timestamp|\n",
      "+------+-------+------+----------+\n",
      "|     1|    296|   5.0|1147880044|\n",
      "|     1|    306|   3.5|1147868817|\n",
      "|     1|    307|   5.0|1147868828|\n",
      "|     1|    665|   5.0|1147878820|\n",
      "|     1|    899|   3.5|1147868510|\n",
      "|     1|   1088|   4.0|1147868495|\n",
      "|     1|   1175|   3.5|1147868826|\n",
      "|     1|   1217|   3.5|1147878326|\n",
      "|     1|   1237|   5.0|1147868839|\n",
      "|     1|   1250|   4.0|1147868414|\n",
      "+------+-------+------+----------+\n",
      "only showing top 10 rows\n",
      "\n"
     ]
    }
   ],
   "source": [
    "rating_df.show(10)"
   ]
  },
  {
   "cell_type": "markdown",
   "id": "95170ba3-e357-40b4-a8c0-d7e1a1873b3e",
   "metadata": {},
   "source": [
    "### 전처리\n",
    "- timestamp는 생략"
   ]
  },
  {
   "cell_type": "code",
   "execution_count": 82,
   "id": "d129c58c-177e-4313-88f6-5bd236e32583",
   "metadata": {},
   "outputs": [],
   "source": [
    "rating_df = rating_df.select('userID'\n",
    "                            , 'movieID'\n",
    "                            , 'rating')"
   ]
  },
  {
   "cell_type": "markdown",
   "id": "d844c6ce-82a4-4f5a-bfa0-ac683f382a8f",
   "metadata": {},
   "source": [
    "### 데이터셋 분할"
   ]
  },
  {
   "cell_type": "code",
   "execution_count": 83,
   "id": "3522aac1-bfd3-47dd-8a28-6deea014cd66",
   "metadata": {},
   "outputs": [
    {
     "data": {
      "text/plain": [
       "(DataFrame[userID: int, movieID: int, rating: double],\n",
       " DataFrame[userID: int, movieID: int, rating: double])"
      ]
     },
     "execution_count": 83,
     "metadata": {},
     "output_type": "execute_result"
    }
   ],
   "source": [
    "train_ratio = 0.8\n",
    "test_ratio = 0.2\n",
    "\n",
    "train_df, test_df = rating_df\\\n",
    "                            .randomSplit([train_ratio, test_ratio], seed = 42)\n",
    "\n",
    "train_df, test_df"
   ]
  },
  {
   "cell_type": "markdown",
   "id": "d2dfc39c-9eec-4153-b858-0fd9a513aa03",
   "metadata": {},
   "source": [
    "### ALS 모델 객체 생성"
   ]
  },
  {
   "cell_type": "code",
   "execution_count": 84,
   "id": "5abfa9d2-5658-4b1f-97cb-88127c289d73",
   "metadata": {},
   "outputs": [
    {
     "data": {
      "text/plain": [
       "ALS_a1e24edb8782"
      ]
     },
     "execution_count": 84,
     "metadata": {},
     "output_type": "execute_result"
    }
   ],
   "source": [
    "als = ALS(\n",
    "        maxIter = 5, # 반복 횟수\n",
    "        regParam = 0.1, # 정규화\n",
    "        userCol = 'userID',\n",
    "        itemCol = 'movieID',\n",
    "        ratingCol = 'rating',\n",
    "        #coldStartStrategy = 'drop' #나는 뒤에 옵션을 주고 훈련을 다시 시켰음\n",
    "    )\n",
    "\n",
    "als"
   ]
  },
  {
   "cell_type": "code",
   "execution_count": 85,
   "id": "d34b2095-a45f-4367-a4ef-02eda0623937",
   "metadata": {},
   "outputs": [
    {
     "name": "stderr",
     "output_type": "stream",
     "text": [
      "                                                                                \r"
     ]
    }
   ],
   "source": [
    "als_model = als.fit(train_df)"
   ]
  },
  {
   "cell_type": "code",
   "execution_count": 86,
   "id": "df385110-1c0b-4c03-a833-9de080a0360a",
   "metadata": {},
   "outputs": [
    {
     "data": {
      "text/plain": [
       "ALSModel: uid=ALS_a1e24edb8782, rank=10"
      ]
     },
     "execution_count": 86,
     "metadata": {},
     "output_type": "execute_result"
    }
   ],
   "source": [
    "als_model"
   ]
  },
  {
   "cell_type": "markdown",
   "id": "f999bfa1-8dd7-4cac-a17f-d9689cf99c6f",
   "metadata": {},
   "source": [
    "### 예측 확인"
   ]
  },
  {
   "cell_type": "code",
   "execution_count": 87,
   "id": "d4afd691-f604-4e0a-a23e-9b30f11cd1ba",
   "metadata": {},
   "outputs": [
    {
     "name": "stderr",
     "output_type": "stream",
     "text": [
      "[Stage 55:===================================================>  (190 + 2) / 200]\r"
     ]
    },
    {
     "name": "stdout",
     "output_type": "stream",
     "text": [
      "+------+-------+------+----------+\n",
      "|userID|movieID|rating|prediction|\n",
      "+------+-------+------+----------+\n",
      "| 26480|    148|   2.0|  2.015058|\n",
      "| 28229|    148|   1.0| 2.4849591|\n",
      "|  6491|    148|   4.0| 2.3561327|\n",
      "| 14831|    148|   3.0| 2.7581735|\n",
      "| 69123|    148|   4.5| 2.3344429|\n",
      "|104825|    148|   4.0| 3.1337254|\n",
      "| 41703|    148|   2.0| 2.8869498|\n",
      "| 29213|    148|   5.0| 2.3444452|\n",
      "| 75209|    148|   2.0|  2.591187|\n",
      "|115912|    148|   3.0|  2.552612|\n",
      "|118261|    148|   3.0| 3.0280576|\n",
      "| 70733|    148|   1.0| 2.9115403|\n",
      "|115095|    148|   4.0|  3.354445|\n",
      "|  7223|    148|   3.0|  2.541622|\n",
      "| 65981|    148|   3.5| 2.9935696|\n",
      "| 74794|    148|   3.0| 2.4340513|\n",
      "| 33145|    148|   5.0| 2.9931223|\n",
      "|110166|    148|   4.5| 2.4152575|\n",
      "| 28366|    148|   5.0|  3.551271|\n",
      "| 74016|    148|   4.0|  2.621664|\n",
      "+------+-------+------+----------+\n",
      "only showing top 20 rows\n",
      "\n"
     ]
    },
    {
     "name": "stderr",
     "output_type": "stream",
     "text": [
      "                                                                                \r"
     ]
    }
   ],
   "source": [
    "#userID, movieID를 가지고 rating을 예측함\n",
    "predictions = als_model.transform(test_df)\n",
    "predictions.show()"
   ]
  },
  {
   "cell_type": "code",
   "execution_count": 88,
   "id": "f62461fc-dd99-4220-8e32-03de63efbbcc",
   "metadata": {},
   "outputs": [
    {
     "name": "stderr",
     "output_type": "stream",
     "text": [
      "[Stage 74:===================================================>  (192 + 2) / 200]\r"
     ]
    },
    {
     "name": "stdout",
     "output_type": "stream",
     "text": [
      "+-------+------------------+----------+\n",
      "|summary|            rating|prediction|\n",
      "+-------+------------------+----------+\n",
      "|  count|           3867951|   3867951|\n",
      "|   mean|3.5329156186311566|       NaN|\n",
      "| stddev|1.0621491114905193|       NaN|\n",
      "|    min|               0.5|-1.1905621|\n",
      "|    max|               5.0|       NaN|\n",
      "+-------+------------------+----------+\n",
      "\n"
     ]
    },
    {
     "name": "stderr",
     "output_type": "stream",
     "text": [
      "                                                                                \r"
     ]
    }
   ],
   "source": [
    "predictions.select('rating', 'prediction').describe().show()"
   ]
  },
  {
   "cell_type": "code",
   "execution_count": 89,
   "id": "bc64290a-c493-4b63-9c4c-14642d71a017",
   "metadata": {},
   "outputs": [
    {
     "name": "stderr",
     "output_type": "stream",
     "text": [
      "[Stage 93:==================================================>   (187 + 2) / 200]\r"
     ]
    },
    {
     "name": "stdout",
     "output_type": "stream",
     "text": [
      "+---------------+\n",
      "|avg(prediction)|\n",
      "+---------------+\n",
      "|            NaN|\n",
      "+---------------+\n",
      "\n"
     ]
    },
    {
     "name": "stderr",
     "output_type": "stream",
     "text": [
      "                                                                                \r"
     ]
    }
   ],
   "source": [
    "predictions.selectExpr('avg(prediction)').show()"
   ]
  },
  {
   "cell_type": "markdown",
   "id": "be0b46af-cf88-459a-90bb-a05f8d291cd0",
   "metadata": {},
   "source": [
    "### ALS 모델의 하이퍼 파라미터 조정\n",
    "coldStartStrategy('drop') : 예측에 충분하지 않은 컬럼의 데이터의 경우 drop  \n",
    "\n",
    "학습한 모델의 속성을 변경 > 다시 예측을 한 경우에도 조정이 안됨 >> 다시 학습부터 실행해야함\n",
    "\n",
    "빈 값에 대해서 추천을 해줘야하는데 추천할 데이터도 부족할때 어떻게 이를 처리할 것인지에 대한 전략"
   ]
  },
  {
   "cell_type": "code",
   "execution_count": 90,
   "id": "66aff619-3ade-4ff3-93b2-32904d824e9d",
   "metadata": {},
   "outputs": [],
   "source": [
    "#setColdStartStrategy는 없는 값은 그냥 뺀다는 개념\n",
    "als = als.setColdStartStrategy('drop')"
   ]
  },
  {
   "cell_type": "code",
   "execution_count": 91,
   "id": "8d678300-0d52-4670-972d-c51d403117bc",
   "metadata": {},
   "outputs": [
    {
     "name": "stderr",
     "output_type": "stream",
     "text": [
      "                                                                                \r"
     ]
    }
   ],
   "source": [
    "als_model = als.fit(train_df)"
   ]
  },
  {
   "cell_type": "code",
   "execution_count": 92,
   "id": "c13fccce-ec66-4af3-8af1-600a2a37f86d",
   "metadata": {
    "scrolled": true
   },
   "outputs": [
    {
     "name": "stderr",
     "output_type": "stream",
     "text": [
      "[Stage 144:====================================================>(197 + 2) / 200]\r"
     ]
    },
    {
     "name": "stdout",
     "output_type": "stream",
     "text": [
      "+------+-------+------+----------+\n",
      "|userID|movieID|rating|prediction|\n",
      "+------+-------+------+----------+\n",
      "| 26480|    148|   2.0|  2.015058|\n",
      "| 28229|    148|   1.0| 2.4849591|\n",
      "|  6491|    148|   4.0| 2.3561327|\n",
      "| 14831|    148|   3.0| 2.7581735|\n",
      "| 69123|    148|   4.5| 2.3344429|\n",
      "|104825|    148|   4.0| 3.1337254|\n",
      "| 41703|    148|   2.0| 2.8869498|\n",
      "| 29213|    148|   5.0| 2.3444452|\n",
      "| 75209|    148|   2.0|  2.591187|\n",
      "|115912|    148|   3.0|  2.552612|\n",
      "|118261|    148|   3.0| 3.0280576|\n",
      "| 70733|    148|   1.0| 2.9115403|\n",
      "|115095|    148|   4.0|  3.354445|\n",
      "|  7223|    148|   3.0|  2.541622|\n",
      "| 65981|    148|   3.5| 2.9935696|\n",
      "| 74794|    148|   3.0| 2.4340513|\n",
      "| 33145|    148|   5.0| 2.9931223|\n",
      "|110166|    148|   4.5| 2.4152575|\n",
      "| 28366|    148|   5.0|  3.551271|\n",
      "| 74016|    148|   4.0|  2.621664|\n",
      "+------+-------+------+----------+\n",
      "only showing top 20 rows\n",
      "\n"
     ]
    },
    {
     "name": "stderr",
     "output_type": "stream",
     "text": [
      "                                                                                \r"
     ]
    }
   ],
   "source": [
    "#userID, movieID를 가지고 rating을 예측함\n",
    "predictions = als_model.transform(test_df)\n",
    "predictions.show()"
   ]
  },
  {
   "cell_type": "code",
   "execution_count": 93,
   "id": "076547e5-d8bb-4156-a1ab-04bde5f98d10",
   "metadata": {},
   "outputs": [
    {
     "name": "stderr",
     "output_type": "stream",
     "text": [
      "[Stage 164:==================================================>  (192 + 2) / 200]\r"
     ]
    },
    {
     "name": "stdout",
     "output_type": "stream",
     "text": [
      "+-------+------------------+------------------+\n",
      "|summary|            rating|        prediction|\n",
      "+-------+------------------+------------------+\n",
      "|  count|           3864920|           3864920|\n",
      "|   mean|  3.53334493340095| 3.395829430988672|\n",
      "| stddev|1.0620045316020874|0.6403800606200472|\n",
      "|    min|               0.5|        -1.1905621|\n",
      "|    max|               5.0|          6.849581|\n",
      "+-------+------------------+------------------+\n",
      "\n"
     ]
    },
    {
     "name": "stderr",
     "output_type": "stream",
     "text": [
      "                                                                                \r"
     ]
    }
   ],
   "source": [
    "predictions.select('rating', 'prediction').describe().show()"
   ]
  },
  {
   "cell_type": "markdown",
   "id": "ea811e69-b3c5-4119-906e-86cce3a4dd45",
   "metadata": {},
   "source": [
    "### 평가\n",
    "RMSE 측정(평균제곱근 오차)"
   ]
  },
  {
   "cell_type": "code",
   "execution_count": 94,
   "id": "157588ab-3383-4c3f-ac3c-bbb43597aa5d",
   "metadata": {},
   "outputs": [
    {
     "data": {
      "text/plain": [
       "RegressionEvaluator_7ad895e03f97"
      ]
     },
     "execution_count": 94,
     "metadata": {},
     "output_type": "execute_result"
    }
   ],
   "source": [
    "evaluator = RegressionEvaluator(metricName = 'rmse'\n",
    "                                , labelCol = 'rating'\n",
    "                                , predictionCol = 'prediction')\n",
    "\n",
    "evaluator"
   ]
  },
  {
   "cell_type": "code",
   "execution_count": 95,
   "id": "6e8ad9fb-7497-429d-a2e0-5cc67b067167",
   "metadata": {},
   "outputs": [
    {
     "name": "stderr",
     "output_type": "stream",
     "text": [
      "                                                                                \r"
     ]
    },
    {
     "data": {
      "text/plain": [
       "0.8156650359516072"
      ]
     },
     "execution_count": 95,
     "metadata": {},
     "output_type": "execute_result"
    }
   ],
   "source": [
    "rmse = evaluator.evaluate(predictions)\n",
    "rmse"
   ]
  },
  {
   "cell_type": "markdown",
   "id": "a21afe12-8d31-4066-b1ff-8a8f692a522e",
   "metadata": {},
   "source": [
    "## 활용\n",
    "\n",
    "1. 사용자ID > 추천목록\n",
    "2. 영화ID > 사용자 목록"
   ]
  },
  {
   "cell_type": "code",
   "execution_count": 97,
   "id": "fc4c7dd2-6551-4baf-ac7d-8a54afbaffe9",
   "metadata": {},
   "outputs": [
    {
     "name": "stderr",
     "output_type": "stream",
     "text": [
      "[Stage 198:=====================================================>(99 + 1) / 100]\r"
     ]
    },
    {
     "name": "stdout",
     "output_type": "stream",
     "text": [
      "+------+--------------------+\n",
      "|userID|     recommendations|\n",
      "+------+--------------------+\n",
      "|   148|[{151989, 6.23390...|\n",
      "|   463|[{139036, 7.33161...|\n",
      "|   471|[{127252, 6.04067...|\n",
      "|   496|[{151989, 6.76371...|\n",
      "|   833|[{185645, 5.64903...|\n",
      "|  1088|[{139036, 6.85566...|\n",
      "|  1238|[{203086, 6.71504...|\n",
      "|  1342|[{120272, 6.07571...|\n",
      "|  1580|[{185645, 6.44235...|\n",
      "|  1591|[{127252, 8.17993...|\n",
      "|  1645|[{185645, 6.02166...|\n",
      "|  1829|[{177209, 6.19302...|\n",
      "|  1959|[{177209, 6.86742...|\n",
      "|  2122|[{134585, 5.55104...|\n",
      "|  2142|[{127252, 6.68972...|\n",
      "|  2366|[{151989, 5.88864...|\n",
      "|  2659|[{203086, 6.77798...|\n",
      "|  2866|[{151989, 6.34049...|\n",
      "|  3175|[{177209, 5.90312...|\n",
      "|  3749|[{194334, 5.73140...|\n",
      "+------+--------------------+\n",
      "only showing top 20 rows\n",
      "\n"
     ]
    },
    {
     "name": "stderr",
     "output_type": "stream",
     "text": [
      "                                                                                \r"
     ]
    }
   ],
   "source": [
    "als_model.recommendForAllUsers(3).show() #모든 사용자를 위한 3개씩 추천 영화를 제공함"
   ]
  },
  {
   "cell_type": "code",
   "execution_count": 98,
   "id": "c77f4004-11b3-4d3b-8521-5a16f42e0909",
   "metadata": {},
   "outputs": [
    {
     "name": "stderr",
     "output_type": "stream",
     "text": [
      "[Stage 213:=====================================================>(99 + 1) / 100]\r"
     ]
    },
    {
     "name": "stdout",
     "output_type": "stream",
     "text": [
      "+-------+--------------------+\n",
      "|movieID|     recommendations|\n",
      "+-------+--------------------+\n",
      "|    148|[{59460, 4.015474...|\n",
      "|    463|[{87426, 5.270176...|\n",
      "|    471|[{66365, 4.931283...|\n",
      "|    496|[{31506, 4.688202...|\n",
      "|    833|[{87426, 5.617653...|\n",
      "|   1088|[{26659, 5.274371...|\n",
      "|   1238|[{3195, 5.122861}...|\n",
      "|   1342|[{87426, 5.145222...|\n",
      "|   1580|[{87426, 5.353981...|\n",
      "|   1591|[{87426, 4.961000...|\n",
      "|   1645|[{87426, 5.290515...|\n",
      "|   1829|[{81548, 4.200044...|\n",
      "|   1959|[{105801, 4.99234...|\n",
      "|   2122|[{87426, 5.112242...|\n",
      "|   2142|[{87426, 4.792186...|\n",
      "|   2366|[{3195, 5.1873155...|\n",
      "|   2659|[{19143, 4.51319}...|\n",
      "|   2866|[{66365, 5.005367...|\n",
      "|   3175|[{105130, 5.13958...|\n",
      "|   3749|[{28479, 4.971270...|\n",
      "+-------+--------------------+\n",
      "only showing top 20 rows\n",
      "\n"
     ]
    },
    {
     "name": "stderr",
     "output_type": "stream",
     "text": [
      "                                                                                \r"
     ]
    }
   ],
   "source": [
    "als_model.recommendForAllItems(3).show() #모든 아이템를 위한 3개씩 추천 사용자를 제공함"
   ]
  },
  {
   "cell_type": "code",
   "execution_count": 65,
   "id": "e466a372-c26d-4be0-b010-66914a252590",
   "metadata": {},
   "outputs": [
    {
     "name": "stderr",
     "output_type": "stream",
     "text": [
      "                                                                                \r"
     ]
    },
    {
     "name": "stdout",
     "output_type": "stream",
     "text": [
      "+------+---------------------------------------------------------------+\n",
      "|userID|recommendations                                                |\n",
      "+------+---------------------------------------------------------------+\n",
      "|65    |[{177209, 6.8393207}, {151989, 6.763807}, {120272, 6.6476264}] |\n",
      "|78    |[{120272, 7.0371647}, {194434, 7.0371647}, {177209, 6.8445168}]|\n",
      "|81    |[{203882, 4.7355533}, {168906, 4.597749}, {184971, 4.5918174}] |\n",
      "+------+---------------------------------------------------------------+\n",
      "\n"
     ]
    }
   ],
   "source": [
    "user_list = [65, 78, 81]\n",
    "user_recommend_movies = als_model.recommendForUserSubset(\n",
    "                                    ss.createDataFrame(user_list, IntegerType())\\\n",
    "                                        .toDF('userID')\\\n",
    "                                    , 3\n",
    "                                    )\n",
    "\n",
    "user_recommend_movies.show(truncate = False)"
   ]
  },
  {
   "cell_type": "code",
   "execution_count": 62,
   "id": "f7166266-4dd5-4deb-90b2-63f26555fa52",
   "metadata": {},
   "outputs": [
    {
     "name": "stdout",
     "output_type": "stream",
     "text": [
      "+-------+--------------------+--------------------+\n",
      "|movieId|               title|              genres|\n",
      "+-------+--------------------+--------------------+\n",
      "|      1|    Toy Story (1995)|Adventure|Animati...|\n",
      "|      2|      Jumanji (1995)|Adventure|Childre...|\n",
      "|      3|Grumpier Old Men ...|      Comedy|Romance|\n",
      "|      4|Waiting to Exhale...|Comedy|Drama|Romance|\n",
      "|      5|Father of the Bri...|              Comedy|\n",
      "|      6|         Heat (1995)|Action|Crime|Thri...|\n",
      "|      7|      Sabrina (1995)|      Comedy|Romance|\n",
      "|      8| Tom and Huck (1995)|  Adventure|Children|\n",
      "|      9| Sudden Death (1995)|              Action|\n",
      "|     10|    GoldenEye (1995)|Action|Adventure|...|\n",
      "+-------+--------------------+--------------------+\n",
      "only showing top 10 rows\n",
      "\n"
     ]
    }
   ],
   "source": [
    "movie_df.show(10)"
   ]
  },
  {
   "cell_type": "code",
   "execution_count": 66,
   "id": "f85ad7ba-6d5b-411b-abd6-8b4a80a90130",
   "metadata": {},
   "outputs": [
    {
     "name": "stderr",
     "output_type": "stream",
     "text": [
      "                                                                                \r"
     ]
    },
    {
     "data": {
      "text/plain": [
       "[Row(movieID=177209, rating=6.839320659637451),\n",
       " Row(movieID=151989, rating=6.7638068199157715),\n",
       " Row(movieID=120272, rating=6.6476263999938965)]"
      ]
     },
     "execution_count": 66,
     "metadata": {},
     "output_type": "execute_result"
    }
   ],
   "source": [
    "# 65번 사용자의 추천영화목록\n",
    "movies_list = user_recommend_movies.collect()[0].recommendations\n",
    "movies_list"
   ]
  },
  {
   "cell_type": "code",
   "execution_count": 67,
   "id": "bd34fa9e-9f58-42d7-aee1-5f0aad2e8c6b",
   "metadata": {},
   "outputs": [
    {
     "name": "stdout",
     "output_type": "stream",
     "text": [
      "+-------+------------------+\n",
      "|movieID|            rating|\n",
      "+-------+------------------+\n",
      "| 177209| 6.839320659637451|\n",
      "| 151989|6.7638068199157715|\n",
      "| 120272|6.6476263999938965|\n",
      "+-------+------------------+\n",
      "\n"
     ]
    }
   ],
   "source": [
    "rec_df = ss.createDataFrame(movies_list)\n",
    "rec_df.show()"
   ]
  },
  {
   "cell_type": "code",
   "execution_count": 75,
   "id": "29c55f5e-e38b-4d31-bc16-5505d424a35f",
   "metadata": {},
   "outputs": [
    {
     "name": "stdout",
     "output_type": "stream",
     "text": [
      "+-------+-----------------+----------------+------+------------------+\n",
      "|movieID|검증(ID가 같은지)|           title|genres|            rating|\n",
      "+-------+-----------------+----------------+------+------------------+\n",
      "| 177209|             true|  Acı Aşk (2009)| Drama| 6.839320659637451|\n",
      "| 151989|             true|The Thorn (1971)|Comedy|6.7638068199157715|\n",
      "| 120272|             true|Get Crazy (1983)|Comedy|6.6476263999938965|\n",
      "+-------+-----------------+----------------+------+------------------+\n",
      "\n"
     ]
    }
   ],
   "source": [
    "# 영화 정보와 추천영화 목록을 조인\n",
    "rec_df.createOrReplaceTempView('recommend')\n",
    "movie_df.createOrReplaceTempView('movies')\n",
    "\n",
    "ss.sql('''\n",
    "    SELECT\n",
    "        A.movieID\n",
    "        , A.movieID = B.movieID as `검증(ID가 같은지)`\n",
    "        , B.title\n",
    "        , B.genres\n",
    "        , A.rating\n",
    "    \n",
    "    FROM recommend as A\n",
    "    INNER JOIN movies as B\n",
    "    on A.movieID = B.movieID\n",
    "''')\\\n",
    ".show()"
   ]
  },
  {
   "cell_type": "code",
   "execution_count": 99,
   "id": "3761ccc4-6e4c-446d-b2be-315ff5f97726",
   "metadata": {},
   "outputs": [],
   "source": [
    "ss.stop()"
   ]
  },
  {
   "attachments": {
    "efda3cee-279b-4d0f-b456-f48ece579f32.png": {
     "image/png": "[encoded data removed]"
    }
   },
   "cell_type": "markdown",
   "id": "fc16e6c5-45be-4355-8c3c-950a32e9fdff",
   "metadata": {},
   "source": [
    "### spark 세팅값 참조\n",
    "![image.png](attachment:efda3cee-279b-4d0f-b456-f48ece579f32.png)\n"
   ]
  }
 ],
 "metadata": {
  "kernelspec": {
   "display_name": "Python (spark_start)",
   "language": "python",
   "name": "spark_start"
  },
  "language_info": {
   "codemirror_mode": {
    "name": "ipython",
    "version": 3
   },
   "file_extension": ".py",
   "mimetype": "text/x-python",
   "name": "python",
   "nbconvert_exporter": "python",
   "pygments_lexer": "ipython3",
   "version": "3.8.20"
  }
 },
 "nbformat": 4,
 "nbformat_minor": 5
}
