{
 "cells": [
  {
   "cell_type": "code",
   "execution_count": 36,
   "id": "430dd179-36b3-4338-a11b-90f080a3046f",
   "metadata": {},
   "outputs": [],
   "source": [
    "from pyspark.sql import SparkSession\n",
    "from pyspark.sql.functions import isnan, col, when, sum\n",
    "\n",
    "\n",
    "import os"
   ]
  },
  {
   "cell_type": "code",
   "execution_count": 3,
   "id": "8637ed95-8665-45aa-b45e-42a51ac99acf",
   "metadata": {},
   "outputs": [
    {
     "data": {
      "text/html": [
       "\n",
       "            <div>\n",
       "                <p><b>SparkSession - in-memory</b></p>\n",
       "                \n",
       "        <div>\n",
       "            <p><b>SparkContext</b></p>\n",
       "\n",
       "            <p><a href=\"http://DESKTOP-H62JI1T:4040\">Spark UI</a></p>\n",
       "\n",
       "            <dl>\n",
       "              <dt>Version</dt>\n",
       "                <dd><code>v3.1.2</code></dd>\n",
       "              <dt>Master</dt>\n",
       "                <dd><code>local[*]</code></dd>\n",
       "              <dt>AppName</dt>\n",
       "                <dd><code>project</code></dd>\n",
       "            </dl>\n",
       "        </div>\n",
       "        \n",
       "            </div>\n",
       "        "
      ],
      "text/plain": [
       "<pyspark.sql.session.SparkSession at 0x241b69a5bd0>"
      ]
     },
     "execution_count": 3,
     "metadata": {},
     "output_type": "execute_result"
    }
   ],
   "source": [
    "ss = SparkSession\\\n",
    "    .builder\\\n",
    "    .config('spark.executor.memory', '6g')\\\n",
    "    .config('spark.driver.memory', '6g')\\\n",
    "    .appName('project')\\\n",
    "    .getOrCreate()\n",
    "\n",
    "ss"
   ]
  },
  {
   "cell_type": "code",
   "execution_count": null,
   "id": "cba375f7-c685-4997-9e98-bca9249117ec",
   "metadata": {},
   "outputs": [],
   "source": [
    "file_path = os.path.join(os.getcwd(), 'data', 'house_project_data/*.csv')\n",
    "file_path2 = os.path.join(os.getcwd(), 'data', 'house_project_data/code/*.csv')\n",
    "\n",
    "df = ss.read.csv(f'file:///{file_path}', inferSchema = True, header = True, encoding = 'cp949')\n",
    "df\n",
    "\n",
    "df_rate = ss.read.csv(f'file:///{file_path2}', inferSchema = True, header = True, encoding = 'cp949')\n",
    "df_rate"
   ]
  },
  {
   "cell_type": "code",
   "execution_count": 144,
   "id": "f12a7ee3-f931-472c-a11f-58eec309cbd0",
   "metadata": {},
   "outputs": [],
   "source": [
    "## 로컬용\n",
    "tmp_df1 = ss.read.csv('./data/house_project_data/서울시 부동산 실거래가 정보_2017.csv', inferSchema = True, header = True, encoding = 'cp949')\n",
    "tmp_df2 = ss.read.csv('./data/house_project_data/서울시 부동산 실거래가 정보_2018.csv', inferSchema = True, header = True, encoding = 'cp949')\n",
    "tmp_df3 = ss.read.csv('./data/house_project_data/서울시 부동산 실거래가 정보_2019.csv', inferSchema = True, header = True, encoding = 'cp949')\n",
    "tmp_df4 = ss.read.csv('./data/house_project_data/서울시 부동산 실거래가 정보_2020.csv', inferSchema = True, header = True, encoding = 'cp949')\n",
    "tmp_df5 = ss.read.csv('./data/house_project_data/서울시 부동산 실거래가 정보_2021.csv', inferSchema = True, header = True, encoding = 'cp949')\n",
    "tmp_df6 = ss.read.csv('./data/house_project_data/서울시 부동산 실거래가 정보_2022.csv', inferSchema = True, header = True, encoding = 'cp949')\n",
    "tmp_df7 = ss.read.csv('./data/house_project_data/서울시 부동산 실거래가 정보_2023.csv', inferSchema = True, header = True, encoding = 'cp949')\n",
    "tmp_df8 = ss.read.csv('./data/house_project_data/서울시 부동산 실거래가 정보_2024.csv', inferSchema = True, header = True, encoding = 'cp949')\n",
    "\n",
    "df = tmp_df1\\\n",
    "    .union(tmp_df2)\\\n",
    "    .union(tmp_df3)\\\n",
    "    .union(tmp_df4)\\\n",
    "    .union(tmp_df5)\\\n",
    "    .union(tmp_df6)\\\n",
    "    .union(tmp_df7)\\\n",
    "    .union(tmp_df8)\n",
    "\n",
    "df_rate = ss.read.csv('./data/house_project_data/code/korea_base_interest_rate.csv', inferSchema = True, header = True, encoding = 'cp949')"
   ]
  },
  {
   "cell_type": "code",
   "execution_count": 13,
   "id": "480ec27e-525a-4a25-ba02-c575860aefc1",
   "metadata": {},
   "outputs": [
    {
     "data": {
      "text/plain": [
       "([Row(접수연도=2017, 자치구코드=11740, 자치구명='강동구', 법정동코드=10900, 법정동명='천호동', 지번구분=1, 지번구분명='대지', 본번='0449', 부번='49', 건물명='힐탑프라자', 계약일=20180310, 물건금액(만원)=8900, 건물면적(㎡)=20.48, 토지면적(㎡)=24.26, 층=16, 권리구분=None, 취소일=None, 건축년도='1994', 건물용도='오피스텔', 신고구분=None, 신고한 개업공인중개사 시군구명=None),\n",
       "  Row(접수연도=2017, 자치구코드=11260, 자치구명='중랑구', 법정동코드=10400, 법정동명='묵동', 지번구분=1, 지번구분명='대지', 본번='0243', 부번='110', 건물명='애플하우스', 계약일=20180307, 물건금액(만원)=16500, 건물면적(㎡)=29.7, 토지면적(㎡)=16.84, 층=4, 권리구분=None, 취소일=None, 건축년도='2012', 건물용도='연립다세대', 신고구분=None, 신고한 개업공인중개사 시군구명=None),\n",
       "  Row(접수연도=2017, 자치구코드=11680, 자치구명='강남구', 법정동코드=11400, 법정동명='일원동', 지번구분=1, 지번구분명='대지', 본번='0731', 부번='0', 건물명='한솔마을', 계약일=20180206, 물건금액(만원)=135000, 건물면적(㎡)=84.73, 토지면적(㎡)=0.0, 층=5, 권리구분=None, 취소일=None, 건축년도='1994', 건물용도='아파트', 신고구분=None, 신고한 개업공인중개사 시군구명=None)],\n",
       " [Row(접수연도=2024, 자치구코드=11530, 자치구명='구로구', 법정동코드=10700, 법정동명='개봉동', 지번구분=1, 지번구분명='대지', 본번='0170', 부번='0033', 건물명='금석연립(170-33)', 계약일=20220708, 물건금액(만원)=9740, 건물면적(㎡)=53.61, 토지면적(㎡)=124.0, 층=2, 권리구분=None, 취소일='20240207', 건축년도='1981', 건물용도='연립다세대', 신고구분='중개거래', 신고한 개업공인중개사 시군구명='서울 강남구'),\n",
       "  Row(접수연도=2024, 자치구코드=11440, 자치구명='마포구', 법정동코드=11000, 법정동명='노고산동', 지번구분=None, 지번구분명=None, 본번=None, 부번=None, 건물명=None, 계약일=20210719, 물건금액(만원)=195000, 건물면적(㎡)=157.45, 토지면적(㎡)=116.7, 층=None, 권리구분=None, 취소일='20240417', 건축년도='1988', 건물용도='단독다가구', 신고구분=None, 신고한 개업공인중개사 시군구명=None),\n",
       "  Row(접수연도=2024, 자치구코드=11305, 자치구명='강북구', 법정동코드=10100, 법정동명='미아동', 지번구분=None, 지번구분명=None, 본번=None, 부번=None, 건물명=None, 계약일=20210208, 물건금액(만원)=164000, 건물면적(㎡)=293.08, 토지면적(㎡)=136.0, 층=None, 권리구분=None, 취소일='20240905', 건축년도='1994', 건물용도='단독다가구', 신고구분=None, 신고한 개업공인중개사 시군구명=None)],\n",
       " [Row(date='2024-11-28', base_interest_rate=3.0),\n",
       "  Row(date='2024-10-11', base_interest_rate=3.25),\n",
       "  Row(date='2023-01-13', base_interest_rate=3.5)],\n",
       " [Row(date='2019-07-18', base_interest_rate=1.5),\n",
       "  Row(date='2018-11-30', base_interest_rate=1.75),\n",
       "  Row(date='2017-11-30', base_interest_rate=1.5)])"
      ]
     },
     "execution_count": 13,
     "metadata": {},
     "output_type": "execute_result"
    }
   ],
   "source": [
    "df.head(3), df.tail(3), df_rate.head(3), df_rate.tail(3)"
   ]
  },
  {
   "cell_type": "code",
   "execution_count": 18,
   "id": "69a9c0c1-7bd3-45ca-8f7d-f05b1918e220",
   "metadata": {},
   "outputs": [
    {
     "name": "stdout",
     "output_type": "stream",
     "text": [
      "+--------+----------+--------+----------+--------+--------+----------+----+----+----------+--------+--------------+------------+------------+---+--------+------+--------+----------+--------+------------------------------+\n",
      "|접수연도|자치구코드|자치구명|법정동코드|법정동명|지번구분|지번구분명|본번|부번|건물명    |계약일  |물건금액(만원)|건물면적(㎡)|토지면적(㎡)|층 |권리구분|취소일|건축년도|건물용도  |신고구분|신고한 개업공인중개사 시군구명|\n",
      "+--------+----------+--------+----------+--------+--------+----------+----+----+----------+--------+--------------+------------+------------+---+--------+------+--------+----------+--------+------------------------------+\n",
      "|2017    |11740     |강동구  |10900     |천호동  |1       |대지      |0449|49  |힐탑프라자|20180310|8900          |20.48       |24.26       |16 |null    |null  |1994    |오피스텔  |null    |null                          |\n",
      "|2017    |11260     |중랑구  |10400     |묵동    |1       |대지      |0243|110 |애플하우스|20180307|16500         |29.7        |16.84       |4  |null    |null  |2012    |연립다세대|null    |null                          |\n",
      "|2017    |11680     |강남구  |11400     |일원동  |1       |대지      |0731|0   |한솔마을  |20180206|135000        |84.73       |0.0         |5  |null    |null  |1994    |아파트    |null    |null                          |\n",
      "+--------+----------+--------+----------+--------+--------+----------+----+----+----------+--------+--------------+------------+------------+---+--------+------+--------+----------+--------+------------------------------+\n",
      "only showing top 3 rows\n",
      "\n"
     ]
    }
   ],
   "source": [
    "df.show(3, truncate = False)"
   ]
  },
  {
   "cell_type": "code",
   "execution_count": 78,
   "id": "0d595ba5-a533-4cf7-a979-92c2c0ae1fa7",
   "metadata": {},
   "outputs": [
    {
     "name": "stdout",
     "output_type": "stream",
     "text": [
      "root\n",
      " |-- 접수연도: integer (nullable = true)\n",
      " |-- 자치구코드: integer (nullable = true)\n",
      " |-- 자치구명: string (nullable = true)\n",
      " |-- 법정동코드: integer (nullable = true)\n",
      " |-- 법정동명: string (nullable = true)\n",
      " |-- 지번구분: integer (nullable = true)\n",
      " |-- 지번구분명: string (nullable = true)\n",
      " |-- 본번: string (nullable = true)\n",
      " |-- 부번: string (nullable = true)\n",
      " |-- 건물명: string (nullable = true)\n",
      " |-- 계약일: integer (nullable = true)\n",
      " |-- 물건금액(만원): integer (nullable = true)\n",
      " |-- 건물면적(㎡): double (nullable = true)\n",
      " |-- 토지면적(㎡): double (nullable = true)\n",
      " |-- 층: integer (nullable = true)\n",
      " |-- 권리구분: string (nullable = true)\n",
      " |-- 취소일: string (nullable = true)\n",
      " |-- 건축년도: string (nullable = true)\n",
      " |-- 건물용도: string (nullable = true)\n",
      " |-- 신고구분: string (nullable = true)\n",
      " |-- 신고한 개업공인중개사 시군구명: string (nullable = true)\n",
      "\n"
     ]
    }
   ],
   "source": [
    "df.printSchema()"
   ]
  },
  {
   "cell_type": "code",
   "execution_count": 19,
   "id": "0364dec1-3c33-4983-a962-681e33bbce32",
   "metadata": {},
   "outputs": [
    {
     "data": {
      "text/plain": [
       "1035346"
      ]
     },
     "execution_count": 19,
     "metadata": {},
     "output_type": "execute_result"
    }
   ],
   "source": [
    "df.count()"
   ]
  },
  {
   "cell_type": "code",
   "execution_count": 146,
   "id": "519f6fb6-c4bb-4868-923a-26c96c35ff9f",
   "metadata": {},
   "outputs": [
    {
     "data": {
      "text/plain": [
       "['sumbit_year',\n",
       " 'jachigu_code',\n",
       " 'jachigu_name',\n",
       " 'law_code',\n",
       " 'law_name',\n",
       " 'jibun_gubun',\n",
       " 'jibun_name',\n",
       " 'real_num',\n",
       " 'extra_num',\n",
       " 'building_name',\n",
       " 'contract_date',\n",
       " 'building_price',\n",
       " 'building_size',\n",
       " 'land_size',\n",
       " 'floor',\n",
       " 'right_gubun',\n",
       " 'cancel_date',\n",
       " 'building_year',\n",
       " 'building_usage',\n",
       " 'singo_gubun',\n",
       " 'agent_area']"
      ]
     },
     "execution_count": 146,
     "metadata": {},
     "output_type": "execute_result"
    }
   ],
   "source": [
    "renamed_columns = ['sumbit_year', 'jachigu_code', 'jachigu_name', 'law_code', 'law_name', 'jibun_gubun', 'jibun_name', 'real_num', 'extra_num', 'building_name', 'contract_date', 'building_price', 'building_size', 'land_size', 'floor', 'right_gubun', 'cancel_date', 'building_year', 'building_usage', 'singo_gubun', 'agent_area']\n",
    "\n",
    "if len(df.columns) == len(renamed_columns):\n",
    "    renamed_columns_dict = {i : j for i,j in zip(df.columns, renamed_columns)}\n",
    "\n",
    "for num, i in enumerate(df.columns):\n",
    "    if i == list(renamed_columns_dict.keys())[num]:\n",
    "        df = df.withColumnRenamed(i, list(renamed_columns_dict.values())[num])\n",
    "\n",
    "df.columns"
   ]
  },
  {
   "cell_type": "markdown",
   "id": "46c0987f-7013-4dcf-8347-2df8eabda50e",
   "metadata": {},
   "source": [
    "## 전처리"
   ]
  },
  {
   "cell_type": "markdown",
   "id": "b59806dd-479f-475f-aeb1-2c499bda58d9",
   "metadata": {},
   "source": [
    "### 결측치 확인"
   ]
  },
  {
   "cell_type": "code",
   "execution_count": 129,
   "id": "eca90c9b-a055-4594-b2ed-d4140771380c",
   "metadata": {},
   "outputs": [
    {
     "data": {
      "text/plain": [
       "{'sumbit_year_nulls': 0,\n",
       " 'jachigu_code_nulls': 0,\n",
       " 'jachigu_name_nulls': 1,\n",
       " 'law_code_nulls': 0,\n",
       " 'law_name_nulls': 0,\n",
       " 'jibun_gubun_nulls': 74005,\n",
       " 'jibun_name_nulls': 74005,\n",
       " 'real_num_nulls': 73993,\n",
       " 'extra_num_nulls': 73993,\n",
       " 'building_name_nulls': 73962,\n",
       " 'contract_date_nulls': 0,\n",
       " 'building_price_nulls': 0,\n",
       " 'building_size_nulls': 0,\n",
       " 'land_size_nulls': 179035,\n",
       " 'floor_nulls': 73911,\n",
       " 'right_gubun_nulls': 1018839,\n",
       " 'cancel_date_nulls': 1008908,\n",
       " 'building_year_nulls': 0,\n",
       " 'building_usage_nulls': 0,\n",
       " 'singo_gubun_nulls': 795534,\n",
       " 'agent_area_nulls': 838902}"
      ]
     },
     "execution_count": 129,
     "metadata": {},
     "output_type": "execute_result"
    }
   ],
   "source": [
    "tmp = df.select(\n",
    "        [sum(\n",
    "            when(\n",
    "                col(i).isNull() | isnan(i),1)\\\n",
    "            .otherwise(0)\n",
    "            )\\\n",
    "            .alias(i + '_nulls') for i in df.columns\n",
    "        ]\n",
    "    ).collect()\n",
    "    \n",
    "tmp[0].asDict()"
   ]
  },
  {
   "cell_type": "code",
   "execution_count": 131,
   "id": "e966b8c8-a999-41aa-9179-575960afa45a",
   "metadata": {},
   "outputs": [],
   "source": [
    "df.createOrReplaceTempView('tmp')"
   ]
  },
  {
   "cell_type": "markdown",
   "id": "04817179-905f-45e4-8491-014fc2a17b9c",
   "metadata": {},
   "source": [
    "### 컬럼별 결측치 확인"
   ]
  },
  {
   "cell_type": "code",
   "execution_count": 147,
   "id": "4c1ce419-3eb1-4765-a333-6a8de0400886",
   "metadata": {},
   "outputs": [
    {
     "name": "stdout",
     "output_type": "stream",
     "text": [
      "+------------+\n",
      "|jachigu_name|\n",
      "+------------+\n",
      "|        null|\n",
      "+------------+\n",
      "\n",
      "+------------+\n",
      "|jachigu_name|\n",
      "+------------+\n",
      "+------------+\n",
      "\n"
     ]
    }
   ],
   "source": [
    "df.select('jachigu_name')\\\n",
    "    .where('jachigu_name IS NULL')\\\n",
    "    .show()\n",
    "\n",
    "\n",
    "# 확인 결과 자치구명 NULL의 1건은 미아동이며, 2020년 2차 행복주택 입주자 모집에 따르면 미아동이 맞음을 확인할 수 있음\n",
    "# 이에 다른 미아동처럼 강북구 코드인 11305으로 업데이트\n",
    "# 출처 : https://image.ebunyang.co.kr/files/bunyang/pdf/uploadfile_202012283766287.pdf\n",
    "# 출처 : https://www.code.go.kr/stdcode/regCodeL.do\n",
    "df = df.select('jachigu_name')\\\n",
    "        .where('jachigu_name IS NULL')\\\n",
    "        .fillna('11305')"
   ]
  },
  {
   "cell_type": "code",
   "execution_count": null,
   "id": "b86ab715-96e5-4833-a4f1-32c1d38be4a5",
   "metadata": {},
   "outputs": [],
   "source": [
    "df.createOrReplaceTempView('tmp')\n",
    "\n",
    "ss.sql('''\n",
    "    SELECT\n",
    "        *\n",
    "    \n",
    "    FROM tmp\n",
    "    WHERE jachigu_name is NULL\n",
    "\n",
    "''').show()"
   ]
  },
  {
   "cell_type": "code",
   "execution_count": null,
   "id": "5370f6e9-0d78-4a3d-aa10-b38f70a4cf44",
   "metadata": {},
   "outputs": [],
   "source": []
  },
  {
   "cell_type": "code",
   "execution_count": null,
   "id": "2a0b7bde-6eab-487c-8a77-29a445d71e89",
   "metadata": {},
   "outputs": [],
   "source": []
  },
  {
   "cell_type": "code",
   "execution_count": null,
   "id": "54d6e871-b436-430c-9065-e38b037c679c",
   "metadata": {},
   "outputs": [],
   "source": []
  },
  {
   "cell_type": "code",
   "execution_count": null,
   "id": "19d777ff-80dd-4556-a64f-1efff9c5e2cc",
   "metadata": {},
   "outputs": [],
   "source": []
  },
  {
   "cell_type": "code",
   "execution_count": null,
   "id": "5818b832-f2a4-4a2e-979b-5bde542669cd",
   "metadata": {},
   "outputs": [],
   "source": []
  },
  {
   "cell_type": "code",
   "execution_count": 148,
   "id": "b355696f-9b73-46e8-882f-a0a979568bef",
   "metadata": {},
   "outputs": [],
   "source": [
    "ss.stop()"
   ]
  }
 ],
 "metadata": {
  "kernelspec": {
   "display_name": "'my_jupyter'",
   "language": "python",
   "name": "ipykernel1"
  },
  "language_info": {
   "codemirror_mode": {
    "name": "ipython",
    "version": 3
   },
   "file_extension": ".py",
   "mimetype": "text/x-python",
   "name": "python",
   "nbconvert_exporter": "python",
   "pygments_lexer": "ipython3",
   "version": "3.11.10"
  }
 },
 "nbformat": 4,
 "nbformat_minor": 5
}
