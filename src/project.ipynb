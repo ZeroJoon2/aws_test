{
 "cells": [
  {
   "cell_type": "code",
   "execution_count": 26,
   "id": "430dd179-36b3-4338-a11b-90f080a3046f",
   "metadata": {},
   "outputs": [],
   "source": [
    "from pyspark.sql import SparkSession\n",
    "from pyspark.sql.functions import isnan, col, when\n",
    "\n",
    "\n",
    "import os"
   ]
  },
  {
   "cell_type": "code",
   "execution_count": 6,
   "id": "8637ed95-8665-45aa-b45e-42a51ac99acf",
   "metadata": {},
   "outputs": [
    {
     "name": "stderr",
     "output_type": "stream",
     "text": [
      "24/12/16 17:42:24 WARN Utils: Service 'SparkUI' could not bind on port 4040. Attempting port 4041.\n"
     ]
    },
    {
     "data": {
      "text/html": [
       "\n",
       "            <div>\n",
       "                <p><b>SparkSession - in-memory</b></p>\n",
       "                \n",
       "        <div>\n",
       "            <p><b>SparkContext</b></p>\n",
       "\n",
       "            <p><a href=\"http://ip-172-31-3-9.ap-northeast-3.compute.internal:4041\">Spark UI</a></p>\n",
       "\n",
       "            <dl>\n",
       "              <dt>Version</dt>\n",
       "                <dd><code>v3.1.2</code></dd>\n",
       "              <dt>Master</dt>\n",
       "                <dd><code>local[*]</code></dd>\n",
       "              <dt>AppName</dt>\n",
       "                <dd><code>project</code></dd>\n",
       "            </dl>\n",
       "        </div>\n",
       "        \n",
       "            </div>\n",
       "        "
      ],
      "text/plain": [
       "<pyspark.sql.session.SparkSession at 0x7f156b93e940>"
      ]
     },
     "execution_count": 6,
     "metadata": {},
     "output_type": "execute_result"
    }
   ],
   "source": [
    "ss = SparkSession\\\n",
    "    .builder\\\n",
    "    .config('spark.executor.memory', '6g')\\\n",
    "    .config('spark.driver.memory', '6g')\\\n",
    "    .appName('project')\\\n",
    "    .getOrCreate()\n",
    "\n",
    "ss"
   ]
  },
  {
   "cell_type": "code",
   "execution_count": 19,
   "id": "cba375f7-c685-4997-9e98-bca9249117ec",
   "metadata": {},
   "outputs": [
    {
     "name": "stderr",
     "output_type": "stream",
     "text": [
      "                                                                                \r"
     ]
    },
    {
     "data": {
      "text/plain": [
       "DataFrame[date: string, base_interest_rate: double]"
      ]
     },
     "execution_count": 19,
     "metadata": {},
     "output_type": "execute_result"
    }
   ],
   "source": [
    "file_path = os.path.join(os.getcwd(), 'data', 'house_project_data/*.csv')\n",
    "file_path2 = os.path.join(os.getcwd(), 'data', 'house_project_data/code/*.csv')\n",
    "\n",
    "df = ss.read.csv(f'file:///{file_path}', inferSchema = True, header = True, encoding = 'cp949')\n",
    "df\n",
    "\n",
    "df_rate = ss.read.csv(f'file:///{file_path2}', inferSchema = True, header = True, encoding = 'cp949')\n",
    "df_rate"
   ]
  },
  {
   "cell_type": "code",
   "execution_count": 20,
   "id": "480ec27e-525a-4a25-ba02-c575860aefc1",
   "metadata": {},
   "outputs": [
    {
     "name": "stderr",
     "output_type": "stream",
     "text": [
      "                                                                                \r"
     ]
    },
    {
     "data": {
      "text/plain": [
       "([Row(접수연도=2017, 자치구코드=11740, 자치구명='강동구', 법정동코드=10900, 법정동명='천호동', 지번구분=1, 지번구분명='대지', 본번='0449', 부번='0049', 건물명='힐탑프라자', 계약일=20180310, 물건금액(만원)=8900, 건물면적(㎡)=20.48, 토지면적(㎡)=24.26, 층=16, 권리구분=None, 취소일=None, 건축년도='1994', 건물용도='오피스텔', 신고구분=None, 신고한 개업공인중개사 시군구명=None),\n",
       "  Row(접수연도=2017, 자치구코드=11260, 자치구명='중랑구', 법정동코드=10400, 법정동명='묵동', 지번구분=1, 지번구분명='대지', 본번='0243', 부번='0110', 건물명='애플하우스', 계약일=20180307, 물건금액(만원)=16500, 건물면적(㎡)=29.7, 토지면적(㎡)=16.84, 층=4, 권리구분=None, 취소일=None, 건축년도='2012', 건물용도='연립다세대', 신고구분=None, 신고한 개업공인중개사 시군구명=None),\n",
       "  Row(접수연도=2017, 자치구코드=11680, 자치구명='강남구', 법정동코드=11400, 법정동명='일원동', 지번구분=1, 지번구분명='대지', 본번='0731', 부번='0000', 건물명='한솔마을', 계약일=20180206, 물건금액(만원)=135000, 건물면적(㎡)=84.73, 토지면적(㎡)=0.0, 층=5, 권리구분=None, 취소일=None, 건축년도='1994', 건물용도='아파트', 신고구분=None, 신고한 개업공인중개사 시군구명=None)],\n",
       " [Row(접수연도=2022, 자치구코드=11290, 자치구명='성북구', 법정동코드=13300, 법정동명='정릉동', 지번구분=None, 지번구분명=None, 본번=None, 부번=None, 건물명=None, 계약일=20160426, 물건금액(만원)=110000, 건물면적(㎡)=147.12, 토지면적(㎡)=182.0, 층=None, 권리구분=None, 취소일=None, 건축년도='1968', 건물용도='단독다가구', 신고구분=None, 신고한 개업공인중개사 시군구명=None),\n",
       "  Row(접수연도=2022, 자치구코드=11290, 자치구명='성북구', 법정동코드=13300, 법정동명='정릉동', 지번구분=1, 지번구분명='대지', 본번='0260', 부번='0010', 건물명='진안빌라A(260-10)', 계약일=20160426, 물건금액(만원)=35000, 건물면적(㎡)=57.95, 토지면적(㎡)=42.4, 층=2, 권리구분=None, 취소일=None, 건축년도='1991', 건물용도='연립다세대', 신고구분=None, 신고한 개업공인중개사 시군구명=None),\n",
       "  Row(접수연도=2022, 자치구코드=11650, 자치구명='서초구', 법정동코드=10300, 법정동명='우면동', 지번구분=1, 지번구분명='대지', 본번='0070', 부번='0000', 건물명='코오롱', 계약일=20130123, 물건금액(만원)=42300, 건물면적(㎡)=52.47, 토지면적(㎡)=0.0, 층=6, 권리구분=None, 취소일=None, 건축년도='1994', 건물용도='아파트', 신고구분=None, 신고한 개업공인중개사 시군구명=None)],\n",
       " [Row(date='2024-11-28', base_interest_rate=3.0),\n",
       "  Row(date='2024-10-11', base_interest_rate=3.25),\n",
       "  Row(date='2023-01-13', base_interest_rate=3.5)],\n",
       " [Row(date='2019-07-18', base_interest_rate=1.5),\n",
       "  Row(date='2018-11-30', base_interest_rate=1.75),\n",
       "  Row(date='2017-11-30', base_interest_rate=1.5)])"
      ]
     },
     "execution_count": 20,
     "metadata": {},
     "output_type": "execute_result"
    }
   ],
   "source": [
    "df.head(3), df.tail(3), df_rate.head(3), df_rate.tail(3)"
   ]
  },
  {
   "cell_type": "code",
   "execution_count": 22,
   "id": "0364dec1-3c33-4983-a962-681e33bbce32",
   "metadata": {},
   "outputs": [
    {
     "name": "stderr",
     "output_type": "stream",
     "text": [
      "                                                                                \r"
     ]
    },
    {
     "data": {
      "text/plain": [
       "1035346"
      ]
     },
     "execution_count": 22,
     "metadata": {},
     "output_type": "execute_result"
    }
   ],
   "source": [
    "df.count()"
   ]
  },
  {
   "cell_type": "code",
   "execution_count": 28,
   "id": "c334783d-4946-495a-b916-2fdc84ceed3c",
   "metadata": {},
   "outputs": [
    {
     "data": {
      "text/plain": [
       "['접수연도',\n",
       " '자치구코드',\n",
       " '자치구명',\n",
       " '법정동코드',\n",
       " '법정동명',\n",
       " '지번구분',\n",
       " '지번구분명',\n",
       " '본번',\n",
       " '부번',\n",
       " '건물명',\n",
       " '계약일',\n",
       " '물건금액(만원)',\n",
       " '건물면적(㎡)',\n",
       " '토지면적(㎡)',\n",
       " '층',\n",
       " '권리구분',\n",
       " '취소일',\n",
       " '건축년도',\n",
       " '건물용도',\n",
       " '신고구분',\n",
       " '신고한 개업공인중개사 시군구명']"
      ]
     },
     "execution_count": 28,
     "metadata": {},
     "output_type": "execute_result"
    }
   ],
   "source": [
    "df.columns"
   ]
  },
  {
   "cell_type": "markdown",
   "id": "46c0987f-7013-4dcf-8347-2df8eabda50e",
   "metadata": {},
   "source": [
    "## 전처리"
   ]
  },
  {
   "cell_type": "markdown",
   "id": "b59806dd-479f-475f-aeb1-2c499bda58d9",
   "metadata": {},
   "source": [
    "### 결측치 확인"
   ]
  },
  {
   "cell_type": "code",
   "execution_count": 29,
   "id": "eca90c9b-a055-4594-b2ed-d4140771380c",
   "metadata": {},
   "outputs": [
    {
     "name": "stdout",
     "output_type": "stream",
     "text": [
      "접수연도\n",
      "자치구코드\n",
      "자치구명\n",
      "법정동코드\n",
      "법정동명\n",
      "지번구분\n",
      "지번구분명\n",
      "본번\n",
      "부번\n",
      "건물명\n",
      "계약일\n",
      "물건금액(만원)\n",
      "건물면적(㎡)\n",
      "토지면적(㎡)\n",
      "층\n",
      "권리구분\n",
      "취소일\n",
      "건축년도\n",
      "건물용도\n",
      "신고구분\n",
      "신고한 개업공인중개사 시군구명\n"
     ]
    }
   ],
   "source": [
    "# df.select()\n",
    "[i for i in df.columns:]\n",
    "    "
   ]
  },
  {
   "cell_type": "code",
   "execution_count": null,
   "id": "73f7f3a0-90e0-4297-b9e6-b381a8666977",
   "metadata": {},
   "outputs": [],
   "source": []
  },
  {
   "cell_type": "code",
   "execution_count": null,
   "id": "0640a9e1-9458-436f-8143-84097809f267",
   "metadata": {},
   "outputs": [],
   "source": []
  },
  {
   "cell_type": "code",
   "execution_count": null,
   "id": "f17c0f96-d684-4f5b-9c8e-4f1092a07fa3",
   "metadata": {},
   "outputs": [],
   "source": []
  },
  {
   "cell_type": "code",
   "execution_count": null,
   "id": "bf44b839-35fa-48e1-ad2c-e0850e7891f4",
   "metadata": {},
   "outputs": [],
   "source": []
  },
  {
   "cell_type": "code",
   "execution_count": null,
   "id": "5370f6e9-0d78-4a3d-aa10-b38f70a4cf44",
   "metadata": {},
   "outputs": [],
   "source": []
  },
  {
   "cell_type": "code",
   "execution_count": null,
   "id": "2a0b7bde-6eab-487c-8a77-29a445d71e89",
   "metadata": {},
   "outputs": [],
   "source": []
  },
  {
   "cell_type": "code",
   "execution_count": null,
   "id": "54d6e871-b436-430c-9065-e38b037c679c",
   "metadata": {},
   "outputs": [],
   "source": []
  },
  {
   "cell_type": "code",
   "execution_count": null,
   "id": "19d777ff-80dd-4556-a64f-1efff9c5e2cc",
   "metadata": {},
   "outputs": [],
   "source": []
  },
  {
   "cell_type": "code",
   "execution_count": null,
   "id": "5818b832-f2a4-4a2e-979b-5bde542669cd",
   "metadata": {},
   "outputs": [],
   "source": []
  },
  {
   "cell_type": "code",
   "execution_count": 5,
   "id": "b355696f-9b73-46e8-882f-a0a979568bef",
   "metadata": {},
   "outputs": [],
   "source": [
    "ss.stop()"
   ]
  }
 ],
 "metadata": {
  "kernelspec": {
   "display_name": "Python (spark_start)",
   "language": "python",
   "name": "spark_start"
  },
  "language_info": {
   "codemirror_mode": {
    "name": "ipython",
    "version": 3
   },
   "file_extension": ".py",
   "mimetype": "text/x-python",
   "name": "python",
   "nbconvert_exporter": "python",
   "pygments_lexer": "ipython3",
   "version": "3.8.20"
  }
 },
 "nbformat": 4,
 "nbformat_minor": 5
}
